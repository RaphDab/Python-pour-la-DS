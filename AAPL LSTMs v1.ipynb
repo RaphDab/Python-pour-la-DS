{
 "cells": [
  {
   "cell_type": "code",
   "execution_count": null,
   "metadata": {},
   "outputs": [],
   "source": [
    "# Passons maintenant à un modèle de réseau de neurones pour voir s'il est plus efficace "
   ]
  }
 ],
 "metadata": {
  "language_info": {
   "name": "python"
  },
  "orig_nbformat": 4
 },
 "nbformat": 4,
 "nbformat_minor": 2
}
