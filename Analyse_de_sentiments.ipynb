{
 "cells": [
  {
   "cell_type": "code",
   "execution_count": null,
   "metadata": {},
   "outputs": [],
   "source": [
    "import requests\n",
    "\n",
    "url = 'https://newsapi.org/v2/everything?q=Apple&apiKey=1b20fb6f9b9d40f0b4e4ad6fe5d90755'\n",
    "parameters = {\n",
    "    'q': 'Apple -Black Friday -Cyber Monday',\n",
    "    'domains': 'ft.com,economist.com,reuters.com,techcrunch.com,marketwatch.com',\n",
    "    'excludeDomains': '',\n",
    "    'sortBy': 'relevancy',\n",
    "    'apiKey': '1b20fb6f9b9d40f0b4e4ad6fe5d90755'\n",
    "}\n",
    "response = requests.get(url, params=parameters)\n",
    "articles = response.json()['articles']\n",
    "\n",
    "for article in articles:\n",
    "    print(article['title'], article['url'])"
   ]
  },
  {
   "cell_type": "code",
   "execution_count": null,
   "metadata": {},
   "outputs": [],
   "source": [
    "import csv\n",
    "\n",
    "with open('articles.csv', mode='w', newline='', encoding='utf-8') as file:\n",
    "    writer = csv.writer(file)\n",
    "    writer.writerow(['Titre', 'URL', 'Date de publication', 'Description'])\n",
    "    for article in articles:\n",
    "        if \"Apple\" not in article['title']:\n",
    "          continue\n",
    "        writer.writerow([article['title'], article['url'], article['publishedAt'], article['description']])"
   ]
  },
  {
   "cell_type": "markdown",
   "metadata": {},
   "source": [
    "\n",
    "\n",
    "# Récupération du contenu des articles"
   ]
  },
  {
   "cell_type": "code",
   "execution_count": null,
   "metadata": {},
   "outputs": [],
   "source": [
    "import pandas as pd\n",
    "\n",
    "df=pd.read_csv('articles.csv')\n",
    "df.head()"
   ]
  },
  {
   "cell_type": "code",
   "execution_count": null,
   "metadata": {},
   "outputs": [],
   "source": [
    "urls = [url for url in df['URL']]\n",
    "html_contents = []\n",
    "compteur=0\n",
    "df['Contenu']=[None] * len(df)\n",
    "\n",
    "for url in urls:\n",
    "    response = requests.get(url)\n",
    "    if response.status_code == 200:\n",
    "        html_contents.append(response.text)\n",
    "        df['Contenu'].loc[compteur]=response.text\n",
    "    else:\n",
    "        print(f\"Échec de récupération pour {url}\")\n",
    "    compteur+=1\n",
    "\n",
    "df.head()"
   ]
  },
  {
   "cell_type": "code",
   "execution_count": null,
   "metadata": {},
   "outputs": [],
   "source": [
    "#Transformation de la colonne Date de publication en DateTime\n",
    "\n",
    "df['Date de publication']=pd.to_datetime(df['Date de publication'])\n",
    "df.head()"
   ]
  }
 ],
 "metadata": {
  "language_info": {
   "name": "python"
  }
 },
 "nbformat": 4,
 "nbformat_minor": 2
}
