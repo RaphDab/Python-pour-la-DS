{
 "cells": [
  {
   "cell_type": "code",
   "execution_count": null,
   "metadata": {},
   "outputs": [],
   "source": [
    "import requests\n",
    "\n",
    "url = 'https://newsapi.org/v2/everything?q=Apple&apiKey=1b20fb6f9b9d40f0b4e4ad6fe5d90755'\n",
    "parameters = {\n",
    "    'q': 'Apple -Black Friday -Cyber Monday',\n",
    "    'domains': 'ft.com,economist.com,reuters.com,techcrunch.com,marketwatch.com',\n",
    "    'excludeDomains': '',\n",
    "    'sortBy': 'relevancy',\n",
    "    'apiKey': '1b20fb6f9b9d40f0b4e4ad6fe5d90755'\n",
    "}\n",
    "response = requests.get(url, params=parameters)\n",
    "articles = response.json()['articles']\n",
    "\n",
    "for article in articles:\n",
    "    print(article['title'], article['url'])"
   ]
  }
 ],
 "metadata": {
  "language_info": {
   "name": "python"
  }
 },
 "nbformat": 4,
 "nbformat_minor": 2
}
