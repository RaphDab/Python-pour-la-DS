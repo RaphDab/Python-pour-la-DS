{
 "cells": [
  {
   "cell_type": "code",
   "execution_count": 88,
   "metadata": {},
   "outputs": [
    {
     "name": "stdout",
     "output_type": "stream",
     "text": [
      "Fisker’s stock at all-time low amid rallies for other EV makers’ stocks https://www.marketwatch.com/story/fiskers-stock-at-all-time-low-amid-rallies-for-other-ev-makers-stocks-51e139a5\n",
      "Samsung Makes Surprise Free Offer To Galaxy S23 Owners https://www.forbes.com/sites/jaymcgregor/2023/12/06/samsung-boost-free-disney-plus-subscription-galaxy-s23/\n",
      "Does Your Dream Job Really Exist? https://www.forbes.com/sites/jameshudson/2023/12/06/does-your-dream-job-really-exist/\n",
      "Decoding Bezos: Brilliant Or Lucky? 4 Key Insights For Ventures & Angels https://www.forbes.com/sites/dileeprao/2023/12/06/decoding-bezos-brilliant-or-lucky-4-key-insights-for-ventures--angels/\n",
      "Governments spying on Apple and Google users through phone notifications, U.S. senator says https://www.cnbc.com/2023/12/06/apple-and-google-phone-users-spied-on-through-phone-push-notifications.html\n",
      "Holiday Gift Guide 2023: The Best Zero-Proof Wines https://www.forbes.com/sites/jeanneobriencoffey/2023/12/06/holiday-gift-guide-2023-the-best-zero-proof-wines/\n",
      "A Smaller Eataly In SoHo Opens: Its Third Restaurant/Marketplace In NYC https://www.forbes.com/sites/garystern/2023/12/06/a-smaller-eataly-in-soho-opens-its-third-restaurantmarketplace-in-nyc/\n",
      "Forbes Daily: NCAA’s New Payment Proposal For Student Athletes https://www.forbes.com/sites/daniellechemtob/2023/12/06/forbes-daily-ncaas-new-payment-proposal-for-student-athletes/\n",
      "Stock investors are betting big on the 'Magnificent 7' and a slew of interest-rate cuts in 2024. They're likely to be disappointed, Morgan Stanley's CIO says. https://markets.businessinsider.com/news/stocks/stock-market-outlook-wilson-magnificent-seven-interest-rates-recession-earnings-2023-12\n",
      "Need to Know: Here are the rookie mistakes being made by millennial and Gen Z investors https://www.marketwatch.com/story/here-are-the-rookie-mistakes-being-made-by-millennial-and-gen-z-investors-702c53f4\n",
      "New iPhone Security Warning As Malicious Lockdown Mode Trick Revealed https://www.forbes.com/sites/daveywinder/2023/12/06/new-iphone-security-warning-as-malicious-lockdown-mode-trick-revealed/\n",
      "Warren Buffett's Apple stake just hit $177 billion in value — more than Nike, Disney, or Wells Fargo are worth https://markets.businessinsider.com/news/stocks/warren-buffett-apple-stake-berkshire-hathaway-nike-disney-tech-stock-2023-12\n",
      "Figuring Out What Artificial General Intelligence (AGI) Consists Of Is Enormously Vital And Mindfully On The Minds Of AI Researchers At Google DeepMind https://www.forbes.com/sites/lanceeliot/2023/12/06/figuring-out-what-artificial-general-intelligence-agi-consists-of-is-enormously-vital-and-mindfully-on-the-minds-of-ai-researchers-at-google-deepmind/\n",
      "Apple regains a $3 trillion market cap and is on track to end the year as the world's most valuable company for the 5th time in a row https://markets.businessinsider.com/news/stocks/apple-stock-price-market-analysis-trillion-dollar-company-magnificent-seven-2023-12\n",
      "Kelley Blue Book: The 2024 Infiniti QX60: A sensible choice in midsize luxury SUVs https://www.marketwatch.com/story/the-2024-infiniti-qx60-a-sensible-choice-in-midsize-luxury-suvs-fc88c096\n",
      "S&P 500 futures rise, a day after unusual break with bonds https://www.marketwatch.com/story/s-p-500-futures-rise-a-day-after-unusual-break-with-bonds-988d9cf6\n",
      "CNBC Daily Open: Buzz words of the day — tech, AI, crypto https://www.cnbc.com/2023/12/06/cnbc-daily-open-buzz-words-of-the-day-tech-ai-crypto.html\n",
      "US retail lobbyists retract key claim on 'organized' retail crime https://www.reuters.com/business/retail-consumer/us-retail-lobbyists-retract-key-claim-organized-retail-crime-2023-12-06/\n",
      "Watch out Hong Kong – India's stock market is fast catching up https://www.businessinsider.com/india-stock-market-catching-up-hong-kong-2023-12\n",
      "China’s youths throng bargain basements as economy bites: ‘The first floor is too expensive’ https://www.cnbc.com/2023/12/06/chinas-youths-shop-at-b1b2-bargain-basements-as-economy-bites.html\n",
      "India Is Considering EU-Style Charger Rules That Would Block Older iPhones From Sale https://www.reuters.com/technology/apple-warns-indias-eu-style-charger-rules-will-hit-local-production-target-2023-12-05/\n",
      "Cramer examines Tuesday's market 'mistakes,' points out underappreciated stocks https://www.cnbc.com/2023/12/05/cramer-examines-tuesdays-market-mistakes-underappreciated-stocks.html\n",
      "Cramer's Lightning Round: Crocs is 'too dicey' https://www.cnbc.com/2023/12/05/cramers-lightning-round-crocs-is-too-dicey.html\n",
      "CNBC Daily Open: Of billions and trillions https://www.cnbc.com/2023/12/06/cnbc-daily-open-of-billions-and-trillions-.html\n",
      "Qualcomm's X Elite Crushes Apple: Arm Holdings Stocks Surge https://www.forbes.com/sites/jonmarkman/2023/12/05/qualcomms-x-elite-crushes-apple-arm-holdings-stocks-surge/\n",
      "The 8 Best Shampoos For Oily Hair That Balance And Refresh https://www.forbes.com/sites/forbes-personal-shopper/article/best-shampoos-for-oily-hair/\n",
      "Company Close Updates: Snap Inc. stock underperforms Tuesday when compared to competitors despite daily gains https://www.marketwatch.com/data-news/snap-inc-stock-underperforms-tuesday-when-compared-to-competitors-despite-daily-gains-2cf90a22-7806b0bc5260\n",
      "Company Close Updates: Peloton Interactive Inc. stock underperforms Tuesday when compared to competitors https://www.marketwatch.com/data-news/peloton-interactive-inc-stock-underperforms-tuesday-when-compared-to-competitors-a326a363-ac8cfd62808d\n",
      "Company Close Updates: Paramount Global Cl B stock falls Tuesday, underperforms market https://www.marketwatch.com/data-news/paramount-global-cl-b-stock-falls-tuesday-underperforms-market-22fb1ba5-47a924952242\n",
      "Apple is a $3 trillion company again, for the first time since August https://www.marketwatch.com/story/apple-is-a-3-trillion-company-again-for-the-first-time-since-august-4d9f74c4\n",
      "Company Close Updates: Walt Disney Co. stock underperforms Tuesday when compared to competitors https://www.marketwatch.com/data-news/walt-disney-co-stock-underperforms-tuesday-when-compared-to-competitors-2509e14c-6ff6d0454e5b\n",
      "Apple's market cap closes above $3 trillion https://www.cnbc.com/2023/12/05/apples-market-cap-closes-above-3-trillion.html\n",
      ": Dow sees first back-to-back losses in a month as Apple retakes $3 trillion https://www.marketwatch.com/story/dow-sees-first-back-to-back-losses-in-a-month-as-apple-retakes-3-trillion-f9514673\n",
      "Is Beyoncé’s ‘Renaissance’ Concert Film Coming To Streaming Soon? https://www.forbes.com/sites/monicamercuri/2023/12/05/is-beyoncs-renaissance-concert-film-coming-to-streaming-soon/\n",
      "Pac-12’s Last Hurrah Was Conference’s Best Showing In Playoff Era https://www.forbes.com/sites/tomlayberger/2023/12/05/pac-12s-last-hurrah-was-conferences-best-showing-in-playoff-era/\n",
      "Apple Stock Rallies To 4-Month High—Market Cap Tops $3 Trillion Again https://www.forbes.com/sites/dereksaul/2023/12/05/apple-stock-rallies-to-4-month-high-market-cap-tops-3-trillion-again/\n",
      "How Long Can the ‘Magnificent Seven’ Stocks Hold the Line? https://www.wsj.com/finance/stocks/how-long-can-the-magnificent-seven-stocks-hold-the-line-0e9b5485\n",
      "The Gift Of Simone Veil: Elsa Zylberstein’s Oscar-Worthy Perfomance https://www.forbes.com/sites/tomteicholz/2023/12/05/the-gift-of-simone-veil-elsa-zylbersteins-oscar-worthy-perfomance/\n",
      "Banking: Goldman Sachs sees ‘a more clear runway’ for 2024 deal making https://www.marketwatch.com/story/goldman-sachs-sees-a-more-clear-runway-for-2024-deal-making-f2e262f7\n",
      "Holiday Songs Rarely Hit The Hot 100 Before 2012—Here’s What Changed https://www.forbes.com/sites/conormurray/2023/12/05/holiday-songs-rarely-hit-the-hot-100-before-2012-heres-what-changed/\n",
      "Holiday Gift Guide 2023: Rye Whiskeys https://www.forbes.com/sites/jeanettehurt/2023/12/05/holiday-gift-guide-2023-rye-whiskeys/\n",
      "Is giving stock to kids a good idea? There might be a better way to teach them about money. https://www.marketwatch.com/story/is-giving-stock-to-kids-a-good-idea-there-might-be-a-better-way-to-teach-them-about-money-dbafbf3e\n",
      "The Problem With Elon Musk’s X Is Simple: The App Isn’t Innovative https://www.forbes.com/sites/johnbbrandon/2023/12/05/the-problem-with-elon-musks-x-is-simple-the-app-isnt-innovative/\n",
      "Orchestrating The Future—AI In The Music Industry https://www.forbes.com/sites/davidhenkin/2023/12/05/orchestrating-the-future-ai-in-the-music-industry/\n",
      "Pair Your Trip To The Sphere With These Immersive Dining Experiences https://www.forbes.com/sites/nashasmith/2023/12/05/pair-your-trip-to-the-sphere-with-these-immersive-dining-experiences/\n",
      "Digital Transformations: A Conversation With Agile Expert Harry Narang https://www.forbes.com/sites/byroncole/2023/12/05/digital-transformations-a-conversation-with-agile-expert-harry-narang/\n",
      "AI’s Influence On The Programmatic Advertising Industry https://www.forbes.com/sites/forbestechcouncil/2023/12/05/ais-influence-on-the-programmatic-advertising-industry/\n",
      "Microsoft, welcome To The Chip Wars https://www.forbes.com/sites/forrester/2023/12/05/microsoft-welcome-to-the-chip-wars/\n",
      "What Will Be The Big Tech Themes In 2024? https://www.forbes.com/sites/timbajarin/2023/12/05/what-will-be-the-big-tech-themes-in-2024/\n",
      "An EU wealth tax and the end of U.S. capitalism: One bank’s ‘outrageous’ predictions for 2024 https://www.cnbc.com/2023/12/05/eu-wealth-tax-and-end-of-us-capitalism-saxos-outrageous-predictions.html\n",
      "Charlie Munger wished he backed Amazon and bet bigger on Apple — and said taking risks like Elon Musk would drive him nuts https://markets.businessinsider.com/news/stocks/charlie-munger-amazon-apple-stock-elon-musk-warren-buffett-berkshire-2023-12\n",
      "Forbes Daily: Streaming Services Bundle Up In Play For More Viewers https://www.forbes.com/sites/chrisdobstaff/2023/12/05/forbes-daily-streaming-services-bundle-up-in-play-for-more-viewers/\n",
      "Nvidia and Microsoft CEOs say industrial companies will benefit most from AI. Here are stocks to put on your watch list. https://www.marketwatch.com/story/nvidia-and-microsoft-ceos-say-industrial-companies-will-benefit-most-from-ai-here-are-stocks-to-put-on-your-watch-list-b427ab86\n",
      "Mark Zuckerberg cashed in about $190 million of Meta stock in November, marking his first sales in 2 years https://www.businessinsider.com/mark-zuckerberg-meta-stock-sales-rally-philanthropy-tech-ai-billionaires-2023-12\n",
      "Mark Zuckerberg cashed in about $190 million of Meta stock in November, marking his first sales in 2 years https://markets.businessinsider.com/news/stocks/mark-zuckerberg-meta-stock-sales-rally-philanthropy-tech-ai-billionaires-2023-12\n",
      "What Charlie Munger and Grandma Ruth taught this money manager whose portfolio is up 50% this year. https://www.marketwatch.com/story/what-charlie-munger-and-grandma-ruth-taught-this-money-manager-whose-portfolio-is-up-50-this-year-a9896bc5\n",
      "Sennheiser Ambeo Soundbar Mini Review: Immersive Audio For The Bedroom https://www.forbes.com/sites/prakharkhanna/2023/12/05/sennheiser-ambeo-soundbar-mini-review-immersive-audio-for-the-bedroom/\n",
      "The 2024 Nissan Kicks is nimble, fuel efficient and easy on the wallet https://www.marketwatch.com/story/the-2024-nissan-kicks-is-nimble-fuel-efficient-and-easy-on-the-wallet-dd667cb0\n",
      "Sonos Headphones Landing Alongside Set Top Box And A Whole Lot More https://www.forbes.com/sites/paullamkin/2023/12/05/sonos-headphones-landing-alongside-set-top-box-and-a-whole-lot-more/\n",
      "Change Can Be Tough. It Helps To Focus On ‘The People Stuff’ https://www.forbes.com/sites/rodgerdeanduncan/2023/12/05/change-can-be-tough-it-helps-to-focus-on-the-people-stuff/\n",
      "A 1976 check signed by Steve Jobs to Radio Shack is set to fetch more than $20,000 at an auction https://www.businessinsider.com/apple-steve-jobs-check-signed-radio-shack-auction-2023-12\n",
      "Apple let reporters film inside its secretive chip-testing lab for the first time — take a look https://www.businessinsider.com/apple-chip-testing-lab-video-iphone-mac-silicon-2023-12\n",
      "Apple Cannot Risk Improving The iPhone 16 https://www.forbes.com/sites/ewanspence/2023/12/04/apple-iphone-16-weak-iphone-16-pro-strong-specs-launch-date/\n",
      "Company Close Updates: Verizon Communications Inc. stock underperforms Monday when compared to competitors https://www.marketwatch.com/data-news/verizon-communications-inc-stock-underperforms-monday-when-compared-to-competitors-962a95e3-3ef8e90916c8\n",
      "Company Close Updates: Walt Disney Co. stock falls Monday, underperforms market https://www.marketwatch.com/data-news/walt-disney-co-stock-falls-monday-underperforms-market-520ed1da-10de44d9f0a5\n",
      "Russian Hackers’ Lawsuit Reveals Weaknesses In Apple’s iOS 16 https://www.forbes.com/sites/thomasbrewster/2023/12/04/russian-hacker-lawsuit-exposes-flaws-in-apples-ios-16/\n",
      "Verizon Offers $10 Bundle For Netflix And Max: Here Are All The Bundle Deals Currently Available https://www.forbes.com/sites/maryroeloffs/2023/12/04/verizon-streaming-bundle-netflix-apple-paramount/\n",
      "Piper Sandler champions Nvidia's opportunity beyond AI chips — and we agree https://www.cnbc.com/2023/12/04/piper-sandler-champions-nvidia-beyond-ai-chips-and-we-agree.html\n",
      "The Twentysomethings Shaping The Future Of Work, Talking Remote With Zapier’s CEO And More https://www.forbes.com/sites/jenamcgregor/2023/12/04/the-twentysomethings-shaping-the-future-of-work-talking-remote-with-zapiers-ceo-and-more/\n",
      "The Tell: Stock market will struggle to rise by more than 2% by mid-2024, says Stifel’s Bannister https://www.marketwatch.com/story/stock-market-will-struggle-to-rise-by-more-than-2-by-mid-2024-says-stifels-bannister-6e1876f7\n",
      "Where To Eat And Drink In London: December 2023 https://www.forbes.com/sites/lelalondon/2023/12/04/where-to-eat-and-drink-in-london-december-2023/\n",
      "College Enrollment Is Down. Is Gen Z Losing Faith In A Degree? For Entrepreneurs And Others, This Might Be The Answer https://www.forbes.com/sites/bernhardschroeder/2023/12/04/college-enrollment-is-down-is-gen-z-losing-faith-in-a-degree-for-entrepreneurs-and-others-this-might-be-the-answer/\n",
      "The digital world remade itself and now every company has become an ad seller https://www.businessinsider.com/advertising-transforming-new-digital-world-2023-11\n",
      "Wall Street is still underestimating the AI boom, and investors can expect tech stocks to soar 20% next year, Wedbush says https://markets.businessinsider.com/news/stocks/tech-stock-outlook-ai-boom-chatgpt-artificial-intelligence-wall-street-2023-12\n",
      "Hedge funds and mutual funds have been chasing the same tech stocks, Goldman analysis finds https://www.marketwatch.com/story/hedge-funds-and-mutual-funds-have-been-chasing-the-same-tech-stocks-goldman-analysis-finds-e0a4bbdc\n",
      "Walmart and Target are looking increasingly similar these days https://www.businessinsider.com/walmart-and-target-are-looking-increasingly-similar-these-days-2023-12\n",
      "2024: The Beginning Of The End Of Bank-Fintech ‘Partnerships’ https://www.forbes.com/sites/ronshevlin/2023/12/04/2024-the-beginning-of-the-end-of-bank-fintech-partnerships/\n",
      "Five Principles Of Tech-Savvy Boards For Tech-Savvy Companies https://www.forbes.com/sites/forbestechcouncil/2023/12/04/five-principles-of-tech-savvy-boards-for-tech-savvy-companies/\n",
      "Michael Brush: 3 reasons why it’s safe to own the ‘Magnificent Seven’ stocks https://www.marketwatch.com/story/3-reasons-why-its-safe-to-own-the-magnificent-seven-stocks-dadab74c\n",
      "Does Your Brand Strategy Position You For Success? https://www.forbes.com/sites/forbesagencycouncil/2023/12/04/does-your-brand-strategy-position-you-for-success/\n",
      "The IoT Revolution: Shaping The Future Of Business https://www.forbes.com/sites/forbestechcouncil/2023/12/04/the-iot-revolution-shaping-the-future-of-business/\n",
      "Technical strategist Tom DeMark says a top for Nasdaq and Dow could come as early as this week https://www.marketwatch.com/story/technical-strategist-tom-demark-says-a-top-for-nasdaq-and-dow-could-come-as-early-as-this-week-5c721826\n",
      "The Universe According To Coperni: Apple, Evian Water And AI Tech https://www.forbes.com/sites/stephaniehirschmiller/2023/12/04/the-universe-according-to-coperni-apple-evian-water-and-ai-tech/\n",
      "Apple Cannot Risk Improving The iPhone 16 https://www.forbes.com/sites/ewanspence/2023/12/03/apple-iphone-16-weak-iphone-16-pro-strong-specs-launch-date/\n",
      "Apple In Race To Design Surprise iPhone Element, Insider Claims https://www.forbes.com/sites/davidphelan/2023/12/03/apple-in-race-to-design-surprise-iphone-element-insider-claims/\n",
      "How Cramer makes sense of the 'great bottom' of 2023 https://www.cnbc.com/2023/12/03/how-cramer-makes-sense-of-the-great-bottom-of-2023-.html\n",
      "Associated Press: Beyoncé rules the box office, as concert movie earns $21 million in opening weekend https://www.marketwatch.com/story/beyonce-rules-the-box-office-as-concert-movie-earns-21-million-in-opening-weekend-291a7331\n",
      "Dreamy Dining Scenes from Berlin —Our Food Stories Business Turns 10 https://www.forbes.com/sites/kristinwolfe/2023/12/03/dreamy-dining-scenes-from-berlin--our-food-stories--business-turns-10/\n",
      "Ex-J.Crew exec says she used to work 8:30 a.m. to 6 p.m. without a break, followed by hours of phone meetings at home https://www.businessinsider.com/former-jcrew-executive-jenna-lyons-comments-work-schedule-daily-routine-2023-11\n",
      "Why You Should Wait For Apple’s New MacBook Air https://www.forbes.com/sites/ewanspence/2023/12/03/apple-macbook-air-new-macbook-m2-m3-macbook-pro-macos/\n",
      "Harvard doctor: 3 unexpected health and wellness perks of pickleball https://www.cnbc.com/2023/12/03/harvard-doctor-3-unexpected-health-and-wellness-perks-of-pickleball.html\n",
      "PlayStation Store To Shed More Than 1,200 Purchasable Titles - With No Refunds https://www.forbes.com/sites/johnarcher/2023/12/03/playstation-store-to-shed-more-than-1200-purchasable-titleswith-no-refunds/\n",
      "Tips for saving money from woman who spends $124 on groceries a month https://www.cnbc.com/2023/12/03/tips-for-savings-money-from-woman-who-spends-124-dollars-on-groceries-a-month.html\n",
      "New Samsung Galaxy S24 Moves Closer To Surprise Early Launch https://www.forbes.com/sites/jaymcgregor/2023/12/03/new-samsung-galaxy-s24-moves-closer-to-surprise-early-launch/\n",
      "Apple Is Testing A Major New Input Method For The IPhone 16 https://www.forbes.com/sites/jaymcgregor/2023/12/03/apple-iphone-16-new-action-button-leak/\n",
      "Remembering The Wisdom Of Charlie Munger https://www.forbes.com/sites/bill_stone/2023/12/03/remembering-the-wisdom-of-charlie-munger/\n",
      "MUNBYN’s New Label Printers Offer Bluetooth Or Apple AirPrint https://www.forbes.com/sites/marksparrow/2023/12/03/munbyns-new-label-printers-offer-bluetooth-or-apple-airprint/\n",
      "A boomer couple left Texas for the retirement of their dreams: 'We were brainwashed that it was the only place to be — it's not' https://www.businessinsider.com/leaving-texas-moving-to-georgia-boomer-retirement-2023-12\n",
      "You Should Wait For Apple's New MacBook Air https://www.forbes.com/sites/ewanspence/2023/12/02/apple-macbook-air-new-macbook-m2-m3-macbook-pro-macos/\n",
      "iOS 17.1.2: Apple Suddenly Releases Urgent Update For All iPhone Users https://www.forbes.com/sites/davidphelan/2023/12/02/ios-1712-apple-suddenly-releases-urgent-update-for-all-iphone-users/\n"
     ]
    }
   ],
   "source": [
    "import requests\n",
    "\n",
    "url = 'https://newsapi.org/v2/everything?q=Apple&apiKey=1b20fb6f9b9d40f0b4e4ad6fe5d90755'\n",
    "parameters = {\n",
    "    'q': 'Apple',\n",
    "    'domains': 'marketwatch.com,bloomberg.com,businessinsider.com,cnbc.com,reuters.com,wsj.com,ft.com,economist.com,forbes.com',\n",
    "    'excludeDomains': '',\n",
    "    'sortBy': 'publishedAt',\n",
    "    'apiKey': '1b20fb6f9b9d40f0b4e4ad6fe5d90755'\n",
    "}\n",
    "response = requests.get(url, params=parameters)\n",
    "articles = response.json()['articles']\n",
    "\n",
    "for article in articles:\n",
    "    print(article['title'], article['url'])"
   ]
  },
  {
   "cell_type": "code",
   "execution_count": 89,
   "metadata": {},
   "outputs": [],
   "source": [
    "import csv\n",
    "\n",
    "with open('articles.csv', mode='w', newline='', encoding='utf-8') as file:\n",
    "    writer = csv.writer(file)\n",
    "    writer.writerow(['Titre', 'URL', 'Date de publication', 'Description'])\n",
    "    for article in articles:\n",
    "        if \"Apple\" not in article['title']:\n",
    "          continue\n",
    "        writer.writerow([article['title'], article['url'], article['publishedAt'], article['description']])"
   ]
  },
  {
   "cell_type": "markdown",
   "metadata": {},
   "source": [
    "\n",
    "\n",
    "# Récupération du contenu des articles"
   ]
  },
  {
   "cell_type": "code",
   "execution_count": 90,
   "metadata": {},
   "outputs": [
    {
     "data": {
      "text/html": [
       "<div>\n",
       "<style scoped>\n",
       "    .dataframe tbody tr th:only-of-type {\n",
       "        vertical-align: middle;\n",
       "    }\n",
       "\n",
       "    .dataframe tbody tr th {\n",
       "        vertical-align: top;\n",
       "    }\n",
       "\n",
       "    .dataframe thead th {\n",
       "        text-align: right;\n",
       "    }\n",
       "</style>\n",
       "<table border=\"1\" class=\"dataframe\">\n",
       "  <thead>\n",
       "    <tr style=\"text-align: right;\">\n",
       "      <th></th>\n",
       "      <th>Titre</th>\n",
       "      <th>URL</th>\n",
       "      <th>Date de publication</th>\n",
       "      <th>Description</th>\n",
       "    </tr>\n",
       "  </thead>\n",
       "  <tbody>\n",
       "    <tr>\n",
       "      <th>0</th>\n",
       "      <td>Governments spying on Apple and Google users t...</td>\n",
       "      <td>https://www.cnbc.com/2023/12/06/apple-and-goog...</td>\n",
       "      <td>2023-12-06T14:55:00Z</td>\n",
       "      <td>U.S. Senator Ron Wyden warned that foreign gov...</td>\n",
       "    </tr>\n",
       "    <tr>\n",
       "      <th>1</th>\n",
       "      <td>Warren Buffett's Apple stake just hit $177 bil...</td>\n",
       "      <td>https://markets.businessinsider.com/news/stock...</td>\n",
       "      <td>2023-12-06T11:39:21Z</td>\n",
       "      <td>Apple's stock price has surged by almost 50% t...</td>\n",
       "    </tr>\n",
       "    <tr>\n",
       "      <th>2</th>\n",
       "      <td>Apple regains a $3 trillion market cap and is ...</td>\n",
       "      <td>https://markets.businessinsider.com/news/stock...</td>\n",
       "      <td>2023-12-06T10:16:42Z</td>\n",
       "      <td>Apple's market cap passed the $3 trillion thre...</td>\n",
       "    </tr>\n",
       "    <tr>\n",
       "      <th>3</th>\n",
       "      <td>Qualcomm's X Elite Crushes Apple: Arm Holdings...</td>\n",
       "      <td>https://www.forbes.com/sites/jonmarkman/2023/1...</td>\n",
       "      <td>2023-12-05T23:06:18Z</td>\n",
       "      <td>Executives at Apple announced on October that ...</td>\n",
       "    </tr>\n",
       "    <tr>\n",
       "      <th>4</th>\n",
       "      <td>Apple is a $3 trillion company again, for the ...</td>\n",
       "      <td>https://www.marketwatch.com/story/apple-is-a-3...</td>\n",
       "      <td>2023-12-05T22:11:00Z</td>\n",
       "      <td>Apple's stock is up 49% so far in 2023, but ot...</td>\n",
       "    </tr>\n",
       "    <tr>\n",
       "      <th>5</th>\n",
       "      <td>Apple's market cap closes above $3 trillion</td>\n",
       "      <td>https://www.cnbc.com/2023/12/05/apples-market-...</td>\n",
       "      <td>2023-12-05T21:08:41Z</td>\n",
       "      <td>Apple's value officially crossed the $3 trilli...</td>\n",
       "    </tr>\n",
       "    <tr>\n",
       "      <th>6</th>\n",
       "      <td>: Dow sees first back-to-back losses in a mont...</td>\n",
       "      <td>https://www.marketwatch.com/story/dow-sees-fir...</td>\n",
       "      <td>2023-12-05T21:06:00Z</td>\n",
       "      <td>U.S. stocks finished mostly lower on Tuesday, ...</td>\n",
       "    </tr>\n",
       "    <tr>\n",
       "      <th>7</th>\n",
       "      <td>Apple Stock Rallies To 4-Month High—Market Cap...</td>\n",
       "      <td>https://www.forbes.com/sites/dereksaul/2023/12...</td>\n",
       "      <td>2023-12-05T20:40:01Z</td>\n",
       "      <td>The world’s most valuable company is expected ...</td>\n",
       "    </tr>\n",
       "    <tr>\n",
       "      <th>8</th>\n",
       "      <td>Charlie Munger wished he backed Amazon and bet...</td>\n",
       "      <td>https://markets.businessinsider.com/news/stock...</td>\n",
       "      <td>2023-12-05T14:36:54Z</td>\n",
       "      <td>Warren Buffett's late business partner said he...</td>\n",
       "    </tr>\n",
       "    <tr>\n",
       "      <th>9</th>\n",
       "      <td>Apple let reporters film inside its secretive ...</td>\n",
       "      <td>https://www.businessinsider.com/apple-chip-tes...</td>\n",
       "      <td>2023-12-04T22:23:30Z</td>\n",
       "      <td>Apple is famously secretive about the rooms wh...</td>\n",
       "    </tr>\n",
       "    <tr>\n",
       "      <th>10</th>\n",
       "      <td>Apple Cannot Risk Improving The iPhone 16</td>\n",
       "      <td>https://www.forbes.com/sites/ewanspence/2023/1...</td>\n",
       "      <td>2023-12-04T21:58:19Z</td>\n",
       "      <td>How can Apple ensure 2024's iPhone 16 does not...</td>\n",
       "    </tr>\n",
       "    <tr>\n",
       "      <th>11</th>\n",
       "      <td>Russian Hackers’ Lawsuit Reveals Weaknesses In...</td>\n",
       "      <td>https://www.forbes.com/sites/thomasbrewster/20...</td>\n",
       "      <td>2023-12-04T18:52:18Z</td>\n",
       "      <td>A Moscow legal battle strongly indicates that ...</td>\n",
       "    </tr>\n",
       "    <tr>\n",
       "      <th>12</th>\n",
       "      <td>The Universe According To Coperni: Apple, Evia...</td>\n",
       "      <td>https://www.forbes.com/sites/stephaniehirschmi...</td>\n",
       "      <td>2023-12-04T06:00:00Z</td>\n",
       "      <td>“AI is one of the biggest revolutions of our t...</td>\n",
       "    </tr>\n",
       "    <tr>\n",
       "      <th>13</th>\n",
       "      <td>Apple Cannot Risk Improving The iPhone 16</td>\n",
       "      <td>https://www.forbes.com/sites/ewanspence/2023/1...</td>\n",
       "      <td>2023-12-04T00:35:24Z</td>\n",
       "      <td>How can Apple ensure 2024's iPhone 16 does not...</td>\n",
       "    </tr>\n",
       "    <tr>\n",
       "      <th>14</th>\n",
       "      <td>Apple In Race To Design Surprise iPhone Elemen...</td>\n",
       "      <td>https://www.forbes.com/sites/davidphelan/2023/...</td>\n",
       "      <td>2023-12-03T22:30:20Z</td>\n",
       "      <td>Apple’s desire to take control of a key part o...</td>\n",
       "    </tr>\n",
       "    <tr>\n",
       "      <th>15</th>\n",
       "      <td>Why You Should Wait For Apple’s New MacBook Air</td>\n",
       "      <td>https://www.forbes.com/sites/ewanspence/2023/1...</td>\n",
       "      <td>2023-12-03T16:56:55Z</td>\n",
       "      <td>If you're looking for a consumer laptop, you m...</td>\n",
       "    </tr>\n",
       "    <tr>\n",
       "      <th>16</th>\n",
       "      <td>Apple Is Testing A Major New Input Method For ...</td>\n",
       "      <td>https://www.forbes.com/sites/jaymcgregor/2023/...</td>\n",
       "      <td>2023-12-03T13:34:30Z</td>\n",
       "      <td>Apple is bringing new touch tech to the iPhone...</td>\n",
       "    </tr>\n",
       "    <tr>\n",
       "      <th>17</th>\n",
       "      <td>MUNBYN’s New Label Printers Offer Bluetooth Or...</td>\n",
       "      <td>https://www.forbes.com/sites/marksparrow/2023/...</td>\n",
       "      <td>2023-12-03T12:00:00Z</td>\n",
       "      <td>Many small businesses could use one of these M...</td>\n",
       "    </tr>\n",
       "    <tr>\n",
       "      <th>18</th>\n",
       "      <td>You Should Wait For Apple's New MacBook Air</td>\n",
       "      <td>https://www.forbes.com/sites/ewanspence/2023/1...</td>\n",
       "      <td>2023-12-02T21:36:28Z</td>\n",
       "      <td>If you're looking for a consumer laptop, you m...</td>\n",
       "    </tr>\n",
       "    <tr>\n",
       "      <th>19</th>\n",
       "      <td>iOS 17.1.2: Apple Suddenly Releases Urgent Upd...</td>\n",
       "      <td>https://www.forbes.com/sites/davidphelan/2023/...</td>\n",
       "      <td>2023-12-02T21:15:04Z</td>\n",
       "      <td>The next iPhone update has just landed. Here’s...</td>\n",
       "    </tr>\n",
       "  </tbody>\n",
       "</table>\n",
       "</div>"
      ],
      "text/plain": [
       "                                                Titre  \\\n",
       "0   Governments spying on Apple and Google users t...   \n",
       "1   Warren Buffett's Apple stake just hit $177 bil...   \n",
       "2   Apple regains a $3 trillion market cap and is ...   \n",
       "3   Qualcomm's X Elite Crushes Apple: Arm Holdings...   \n",
       "4   Apple is a $3 trillion company again, for the ...   \n",
       "5         Apple's market cap closes above $3 trillion   \n",
       "6   : Dow sees first back-to-back losses in a mont...   \n",
       "7   Apple Stock Rallies To 4-Month High—Market Cap...   \n",
       "8   Charlie Munger wished he backed Amazon and bet...   \n",
       "9   Apple let reporters film inside its secretive ...   \n",
       "10          Apple Cannot Risk Improving The iPhone 16   \n",
       "11  Russian Hackers’ Lawsuit Reveals Weaknesses In...   \n",
       "12  The Universe According To Coperni: Apple, Evia...   \n",
       "13          Apple Cannot Risk Improving The iPhone 16   \n",
       "14  Apple In Race To Design Surprise iPhone Elemen...   \n",
       "15    Why You Should Wait For Apple’s New MacBook Air   \n",
       "16  Apple Is Testing A Major New Input Method For ...   \n",
       "17  MUNBYN’s New Label Printers Offer Bluetooth Or...   \n",
       "18        You Should Wait For Apple's New MacBook Air   \n",
       "19  iOS 17.1.2: Apple Suddenly Releases Urgent Upd...   \n",
       "\n",
       "                                                  URL   Date de publication  \\\n",
       "0   https://www.cnbc.com/2023/12/06/apple-and-goog...  2023-12-06T14:55:00Z   \n",
       "1   https://markets.businessinsider.com/news/stock...  2023-12-06T11:39:21Z   \n",
       "2   https://markets.businessinsider.com/news/stock...  2023-12-06T10:16:42Z   \n",
       "3   https://www.forbes.com/sites/jonmarkman/2023/1...  2023-12-05T23:06:18Z   \n",
       "4   https://www.marketwatch.com/story/apple-is-a-3...  2023-12-05T22:11:00Z   \n",
       "5   https://www.cnbc.com/2023/12/05/apples-market-...  2023-12-05T21:08:41Z   \n",
       "6   https://www.marketwatch.com/story/dow-sees-fir...  2023-12-05T21:06:00Z   \n",
       "7   https://www.forbes.com/sites/dereksaul/2023/12...  2023-12-05T20:40:01Z   \n",
       "8   https://markets.businessinsider.com/news/stock...  2023-12-05T14:36:54Z   \n",
       "9   https://www.businessinsider.com/apple-chip-tes...  2023-12-04T22:23:30Z   \n",
       "10  https://www.forbes.com/sites/ewanspence/2023/1...  2023-12-04T21:58:19Z   \n",
       "11  https://www.forbes.com/sites/thomasbrewster/20...  2023-12-04T18:52:18Z   \n",
       "12  https://www.forbes.com/sites/stephaniehirschmi...  2023-12-04T06:00:00Z   \n",
       "13  https://www.forbes.com/sites/ewanspence/2023/1...  2023-12-04T00:35:24Z   \n",
       "14  https://www.forbes.com/sites/davidphelan/2023/...  2023-12-03T22:30:20Z   \n",
       "15  https://www.forbes.com/sites/ewanspence/2023/1...  2023-12-03T16:56:55Z   \n",
       "16  https://www.forbes.com/sites/jaymcgregor/2023/...  2023-12-03T13:34:30Z   \n",
       "17  https://www.forbes.com/sites/marksparrow/2023/...  2023-12-03T12:00:00Z   \n",
       "18  https://www.forbes.com/sites/ewanspence/2023/1...  2023-12-02T21:36:28Z   \n",
       "19  https://www.forbes.com/sites/davidphelan/2023/...  2023-12-02T21:15:04Z   \n",
       "\n",
       "                                          Description  \n",
       "0   U.S. Senator Ron Wyden warned that foreign gov...  \n",
       "1   Apple's stock price has surged by almost 50% t...  \n",
       "2   Apple's market cap passed the $3 trillion thre...  \n",
       "3   Executives at Apple announced on October that ...  \n",
       "4   Apple's stock is up 49% so far in 2023, but ot...  \n",
       "5   Apple's value officially crossed the $3 trilli...  \n",
       "6   U.S. stocks finished mostly lower on Tuesday, ...  \n",
       "7   The world’s most valuable company is expected ...  \n",
       "8   Warren Buffett's late business partner said he...  \n",
       "9   Apple is famously secretive about the rooms wh...  \n",
       "10  How can Apple ensure 2024's iPhone 16 does not...  \n",
       "11  A Moscow legal battle strongly indicates that ...  \n",
       "12  “AI is one of the biggest revolutions of our t...  \n",
       "13  How can Apple ensure 2024's iPhone 16 does not...  \n",
       "14  Apple’s desire to take control of a key part o...  \n",
       "15  If you're looking for a consumer laptop, you m...  \n",
       "16  Apple is bringing new touch tech to the iPhone...  \n",
       "17  Many small businesses could use one of these M...  \n",
       "18  If you're looking for a consumer laptop, you m...  \n",
       "19  The next iPhone update has just landed. Here’s...  "
      ]
     },
     "execution_count": 90,
     "metadata": {},
     "output_type": "execute_result"
    }
   ],
   "source": [
    "import pandas as pd\n",
    "\n",
    "df=pd.read_csv('articles.csv')\n",
    "df"
   ]
  },
  {
   "cell_type": "code",
   "execution_count": 91,
   "metadata": {},
   "outputs": [
    {
     "data": {
      "text/html": [
       "<div>\n",
       "<style scoped>\n",
       "    .dataframe tbody tr th:only-of-type {\n",
       "        vertical-align: middle;\n",
       "    }\n",
       "\n",
       "    .dataframe tbody tr th {\n",
       "        vertical-align: top;\n",
       "    }\n",
       "\n",
       "    .dataframe thead th {\n",
       "        text-align: right;\n",
       "    }\n",
       "</style>\n",
       "<table border=\"1\" class=\"dataframe\">\n",
       "  <thead>\n",
       "    <tr style=\"text-align: right;\">\n",
       "      <th></th>\n",
       "      <th>Titre</th>\n",
       "      <th>URL</th>\n",
       "      <th>Date de publication</th>\n",
       "      <th>Description</th>\n",
       "      <th>Contenu</th>\n",
       "    </tr>\n",
       "  </thead>\n",
       "  <tbody>\n",
       "    <tr>\n",
       "      <th>0</th>\n",
       "      <td>Governments spying on Apple and Google users t...</td>\n",
       "      <td>https://www.cnbc.com/2023/12/06/apple-and-goog...</td>\n",
       "      <td>2023-12-06T14:55:00Z</td>\n",
       "      <td>U.S. Senator Ron Wyden warned that foreign gov...</td>\n",
       "      <td>&lt;!DOCTYPE html&gt;&lt;html lang=\"en\" prefix=\"og=http...</td>\n",
       "    </tr>\n",
       "    <tr>\n",
       "      <th>1</th>\n",
       "      <td>Warren Buffett's Apple stake just hit $177 bil...</td>\n",
       "      <td>https://markets.businessinsider.com/news/stock...</td>\n",
       "      <td>2023-12-06T11:39:21Z</td>\n",
       "      <td>Apple's stock price has surged by almost 50% t...</td>\n",
       "      <td>&lt;!DOCTYPE html&gt;\\n&lt;html lang=\"en-US\"&gt;\\n\\n&lt;head&gt;...</td>\n",
       "    </tr>\n",
       "    <tr>\n",
       "      <th>2</th>\n",
       "      <td>Apple regains a $3 trillion market cap and is ...</td>\n",
       "      <td>https://markets.businessinsider.com/news/stock...</td>\n",
       "      <td>2023-12-06T10:16:42Z</td>\n",
       "      <td>Apple's market cap passed the $3 trillion thre...</td>\n",
       "      <td>&lt;!DOCTYPE html&gt;\\n&lt;html lang=\"en-US\"&gt;\\n\\n&lt;head&gt;...</td>\n",
       "    </tr>\n",
       "    <tr>\n",
       "      <th>3</th>\n",
       "      <td>Qualcomm's X Elite Crushes Apple: Arm Holdings...</td>\n",
       "      <td>https://www.forbes.com/sites/jonmarkman/2023/1...</td>\n",
       "      <td>2023-12-05T23:06:18Z</td>\n",
       "      <td>Executives at Apple announced on October that ...</td>\n",
       "      <td>&lt;!DOCTYPE html&gt;&lt;html lang=\"en\"&gt;&lt;head&gt;&lt;link rel...</td>\n",
       "    </tr>\n",
       "    <tr>\n",
       "      <th>4</th>\n",
       "      <td>Apple is a $3 trillion company again, for the ...</td>\n",
       "      <td>https://www.marketwatch.com/story/apple-is-a-3...</td>\n",
       "      <td>2023-12-05T22:11:00Z</td>\n",
       "      <td>Apple's stock is up 49% so far in 2023, but ot...</td>\n",
       "      <td>&lt;!DOCTYPE html&gt;\\n&lt;html\\n  lang=\"en-US\"\\n  data...</td>\n",
       "    </tr>\n",
       "  </tbody>\n",
       "</table>\n",
       "</div>"
      ],
      "text/plain": [
       "                                               Titre  \\\n",
       "0  Governments spying on Apple and Google users t...   \n",
       "1  Warren Buffett's Apple stake just hit $177 bil...   \n",
       "2  Apple regains a $3 trillion market cap and is ...   \n",
       "3  Qualcomm's X Elite Crushes Apple: Arm Holdings...   \n",
       "4  Apple is a $3 trillion company again, for the ...   \n",
       "\n",
       "                                                 URL   Date de publication  \\\n",
       "0  https://www.cnbc.com/2023/12/06/apple-and-goog...  2023-12-06T14:55:00Z   \n",
       "1  https://markets.businessinsider.com/news/stock...  2023-12-06T11:39:21Z   \n",
       "2  https://markets.businessinsider.com/news/stock...  2023-12-06T10:16:42Z   \n",
       "3  https://www.forbes.com/sites/jonmarkman/2023/1...  2023-12-05T23:06:18Z   \n",
       "4  https://www.marketwatch.com/story/apple-is-a-3...  2023-12-05T22:11:00Z   \n",
       "\n",
       "                                         Description  \\\n",
       "0  U.S. Senator Ron Wyden warned that foreign gov...   \n",
       "1  Apple's stock price has surged by almost 50% t...   \n",
       "2  Apple's market cap passed the $3 trillion thre...   \n",
       "3  Executives at Apple announced on October that ...   \n",
       "4  Apple's stock is up 49% so far in 2023, but ot...   \n",
       "\n",
       "                                             Contenu  \n",
       "0  <!DOCTYPE html><html lang=\"en\" prefix=\"og=http...  \n",
       "1  <!DOCTYPE html>\\n<html lang=\"en-US\">\\n\\n<head>...  \n",
       "2  <!DOCTYPE html>\\n<html lang=\"en-US\">\\n\\n<head>...  \n",
       "3  <!DOCTYPE html><html lang=\"en\"><head><link rel...  \n",
       "4  <!DOCTYPE html>\\n<html\\n  lang=\"en-US\"\\n  data...  "
      ]
     },
     "execution_count": 91,
     "metadata": {},
     "output_type": "execute_result"
    }
   ],
   "source": [
    "urls = [url for url in df['URL']]\n",
    "html_contents = []\n",
    "compteur=0\n",
    "df['Contenu']=[None] * len(df)\n",
    "\n",
    "for url in urls:\n",
    "    response = requests.get(url)\n",
    "    if response.status_code == 200:\n",
    "        html_contents.append(response.text)\n",
    "        df['Contenu'].loc[compteur]=response.text\n",
    "    else:\n",
    "        print(f\"Échec de récupération pour {url}\")\n",
    "    compteur+=1\n",
    "\n",
    "df.head()"
   ]
  },
  {
   "cell_type": "code",
   "execution_count": 92,
   "metadata": {},
   "outputs": [
    {
     "data": {
      "text/html": [
       "<div>\n",
       "<style scoped>\n",
       "    .dataframe tbody tr th:only-of-type {\n",
       "        vertical-align: middle;\n",
       "    }\n",
       "\n",
       "    .dataframe tbody tr th {\n",
       "        vertical-align: top;\n",
       "    }\n",
       "\n",
       "    .dataframe thead th {\n",
       "        text-align: right;\n",
       "    }\n",
       "</style>\n",
       "<table border=\"1\" class=\"dataframe\">\n",
       "  <thead>\n",
       "    <tr style=\"text-align: right;\">\n",
       "      <th></th>\n",
       "      <th>Titre</th>\n",
       "      <th>URL</th>\n",
       "      <th>Date de publication</th>\n",
       "      <th>Description</th>\n",
       "      <th>Contenu</th>\n",
       "    </tr>\n",
       "  </thead>\n",
       "  <tbody>\n",
       "    <tr>\n",
       "      <th>0</th>\n",
       "      <td>Governments spying on Apple and Google users t...</td>\n",
       "      <td>https://www.cnbc.com/2023/12/06/apple-and-goog...</td>\n",
       "      <td>2023-12-06 14:55:00+00:00</td>\n",
       "      <td>U.S. Senator Ron Wyden warned that foreign gov...</td>\n",
       "      <td>&lt;!DOCTYPE html&gt;&lt;html lang=\"en\" prefix=\"og=http...</td>\n",
       "    </tr>\n",
       "    <tr>\n",
       "      <th>1</th>\n",
       "      <td>Warren Buffett's Apple stake just hit $177 bil...</td>\n",
       "      <td>https://markets.businessinsider.com/news/stock...</td>\n",
       "      <td>2023-12-06 11:39:21+00:00</td>\n",
       "      <td>Apple's stock price has surged by almost 50% t...</td>\n",
       "      <td>&lt;!DOCTYPE html&gt;\\n&lt;html lang=\"en-US\"&gt;\\n\\n&lt;head&gt;...</td>\n",
       "    </tr>\n",
       "    <tr>\n",
       "      <th>2</th>\n",
       "      <td>Apple regains a $3 trillion market cap and is ...</td>\n",
       "      <td>https://markets.businessinsider.com/news/stock...</td>\n",
       "      <td>2023-12-06 10:16:42+00:00</td>\n",
       "      <td>Apple's market cap passed the $3 trillion thre...</td>\n",
       "      <td>&lt;!DOCTYPE html&gt;\\n&lt;html lang=\"en-US\"&gt;\\n\\n&lt;head&gt;...</td>\n",
       "    </tr>\n",
       "    <tr>\n",
       "      <th>3</th>\n",
       "      <td>Qualcomm's X Elite Crushes Apple: Arm Holdings...</td>\n",
       "      <td>https://www.forbes.com/sites/jonmarkman/2023/1...</td>\n",
       "      <td>2023-12-05 23:06:18+00:00</td>\n",
       "      <td>Executives at Apple announced on October that ...</td>\n",
       "      <td>&lt;!DOCTYPE html&gt;&lt;html lang=\"en\"&gt;&lt;head&gt;&lt;link rel...</td>\n",
       "    </tr>\n",
       "    <tr>\n",
       "      <th>4</th>\n",
       "      <td>Apple is a $3 trillion company again, for the ...</td>\n",
       "      <td>https://www.marketwatch.com/story/apple-is-a-3...</td>\n",
       "      <td>2023-12-05 22:11:00+00:00</td>\n",
       "      <td>Apple's stock is up 49% so far in 2023, but ot...</td>\n",
       "      <td>&lt;!DOCTYPE html&gt;\\n&lt;html\\n  lang=\"en-US\"\\n  data...</td>\n",
       "    </tr>\n",
       "  </tbody>\n",
       "</table>\n",
       "</div>"
      ],
      "text/plain": [
       "                                               Titre  \\\n",
       "0  Governments spying on Apple and Google users t...   \n",
       "1  Warren Buffett's Apple stake just hit $177 bil...   \n",
       "2  Apple regains a $3 trillion market cap and is ...   \n",
       "3  Qualcomm's X Elite Crushes Apple: Arm Holdings...   \n",
       "4  Apple is a $3 trillion company again, for the ...   \n",
       "\n",
       "                                                 URL  \\\n",
       "0  https://www.cnbc.com/2023/12/06/apple-and-goog...   \n",
       "1  https://markets.businessinsider.com/news/stock...   \n",
       "2  https://markets.businessinsider.com/news/stock...   \n",
       "3  https://www.forbes.com/sites/jonmarkman/2023/1...   \n",
       "4  https://www.marketwatch.com/story/apple-is-a-3...   \n",
       "\n",
       "        Date de publication  \\\n",
       "0 2023-12-06 14:55:00+00:00   \n",
       "1 2023-12-06 11:39:21+00:00   \n",
       "2 2023-12-06 10:16:42+00:00   \n",
       "3 2023-12-05 23:06:18+00:00   \n",
       "4 2023-12-05 22:11:00+00:00   \n",
       "\n",
       "                                         Description  \\\n",
       "0  U.S. Senator Ron Wyden warned that foreign gov...   \n",
       "1  Apple's stock price has surged by almost 50% t...   \n",
       "2  Apple's market cap passed the $3 trillion thre...   \n",
       "3  Executives at Apple announced on October that ...   \n",
       "4  Apple's stock is up 49% so far in 2023, but ot...   \n",
       "\n",
       "                                             Contenu  \n",
       "0  <!DOCTYPE html><html lang=\"en\" prefix=\"og=http...  \n",
       "1  <!DOCTYPE html>\\n<html lang=\"en-US\">\\n\\n<head>...  \n",
       "2  <!DOCTYPE html>\\n<html lang=\"en-US\">\\n\\n<head>...  \n",
       "3  <!DOCTYPE html><html lang=\"en\"><head><link rel...  \n",
       "4  <!DOCTYPE html>\\n<html\\n  lang=\"en-US\"\\n  data...  "
      ]
     },
     "execution_count": 92,
     "metadata": {},
     "output_type": "execute_result"
    }
   ],
   "source": [
    "#Transformation de la colonne Date de publication en DateTime\n",
    "\n",
    "df['Date de publication']=pd.to_datetime(df['Date de publication'])\n",
    "df.head()"
   ]
  },
  {
   "cell_type": "markdown",
   "metadata": {},
   "source": [
    "# Préparation du texte en vue de l'analyse de sentiments"
   ]
  },
  {
   "cell_type": "markdown",
   "metadata": {},
   "source": [
    "**Nettoyage du texte**"
   ]
  },
  {
   "cell_type": "code",
   "execution_count": 93,
   "metadata": {},
   "outputs": [
    {
     "name": "stdout",
     "output_type": "stream",
     "text": [
      "Defaulting to user installation because normal site-packages is not writeable\n",
      "Requirement already satisfied: beautifulsoup4 in /Users/dabadieraphael/Library/Python/3.9/lib/python/site-packages (4.12.2)\n",
      "Requirement already satisfied: lxml in /Users/dabadieraphael/Library/Python/3.9/lib/python/site-packages (4.9.3)\n",
      "Requirement already satisfied: soupsieve>1.2 in /Users/dabadieraphael/Library/Python/3.9/lib/python/site-packages (from beautifulsoup4) (2.5)\n",
      "\u001b[33mWARNING: You are using pip version 21.2.4; however, version 23.3.1 is available.\n",
      "You should consider upgrading via the '/Library/Developer/CommandLineTools/usr/bin/python3 -m pip install --upgrade pip' command.\u001b[0m\n",
      "Note: you may need to restart the kernel to use updated packages.\n"
     ]
    }
   ],
   "source": [
    "pip install beautifulsoup4 lxml"
   ]
  },
  {
   "cell_type": "code",
   "execution_count": 99,
   "metadata": {},
   "outputs": [
    {
     "data": {
      "text/html": [
       "<div>\n",
       "<style scoped>\n",
       "    .dataframe tbody tr th:only-of-type {\n",
       "        vertical-align: middle;\n",
       "    }\n",
       "\n",
       "    .dataframe tbody tr th {\n",
       "        vertical-align: top;\n",
       "    }\n",
       "\n",
       "    .dataframe thead th {\n",
       "        text-align: right;\n",
       "    }\n",
       "</style>\n",
       "<table border=\"1\" class=\"dataframe\">\n",
       "  <thead>\n",
       "    <tr style=\"text-align: right;\">\n",
       "      <th></th>\n",
       "      <th>Titre</th>\n",
       "      <th>URL</th>\n",
       "      <th>Date de publication</th>\n",
       "      <th>Description</th>\n",
       "      <th>Contenu</th>\n",
       "      <th>Titre_cleaned</th>\n",
       "      <th>Description_cleaned</th>\n",
       "    </tr>\n",
       "  </thead>\n",
       "  <tbody>\n",
       "    <tr>\n",
       "      <th>0</th>\n",
       "      <td>Governments spying on Apple and Google users t...</td>\n",
       "      <td>https://www.cnbc.com/2023/12/06/apple-and-goog...</td>\n",
       "      <td>2023-12-06 14:55:00+00:00</td>\n",
       "      <td>U.S. Senator Ron Wyden warned that foreign gov...</td>\n",
       "      <td>&lt;!DOCTYPE html&gt;&lt;html lang=\"en\" prefix=\"og=http...</td>\n",
       "      <td>governments spying on apple and google users t...</td>\n",
       "      <td>us senator ron wyden warned that foreign gover...</td>\n",
       "    </tr>\n",
       "    <tr>\n",
       "      <th>1</th>\n",
       "      <td>Warren Buffett's Apple stake just hit $177 bil...</td>\n",
       "      <td>https://markets.businessinsider.com/news/stock...</td>\n",
       "      <td>2023-12-06 11:39:21+00:00</td>\n",
       "      <td>Apple's stock price has surged by almost 50% t...</td>\n",
       "      <td>&lt;!DOCTYPE html&gt;\\n&lt;html lang=\"en-US\"&gt;\\n\\n&lt;head&gt;...</td>\n",
       "      <td>warren buffetts apple stake just hit  billion ...</td>\n",
       "      <td>apples stock price has surged by almost  this ...</td>\n",
       "    </tr>\n",
       "    <tr>\n",
       "      <th>2</th>\n",
       "      <td>Apple regains a $3 trillion market cap and is ...</td>\n",
       "      <td>https://markets.businessinsider.com/news/stock...</td>\n",
       "      <td>2023-12-06 10:16:42+00:00</td>\n",
       "      <td>Apple's market cap passed the $3 trillion thre...</td>\n",
       "      <td>&lt;!DOCTYPE html&gt;\\n&lt;html lang=\"en-US\"&gt;\\n\\n&lt;head&gt;...</td>\n",
       "      <td>apple regains a  trillion market cap and is on...</td>\n",
       "      <td>apples market cap passed the  trillion thresho...</td>\n",
       "    </tr>\n",
       "    <tr>\n",
       "      <th>3</th>\n",
       "      <td>Qualcomm's X Elite Crushes Apple: Arm Holdings...</td>\n",
       "      <td>https://www.forbes.com/sites/jonmarkman/2023/1...</td>\n",
       "      <td>2023-12-05 23:06:18+00:00</td>\n",
       "      <td>Executives at Apple announced on October that ...</td>\n",
       "      <td>&lt;!DOCTYPE html&gt;&lt;html lang=\"en\"&gt;&lt;head&gt;&lt;link rel...</td>\n",
       "      <td>qualcomms x elite crushes apple arm holdings s...</td>\n",
       "      <td>executives at apple announced on october that ...</td>\n",
       "    </tr>\n",
       "    <tr>\n",
       "      <th>4</th>\n",
       "      <td>Apple is a $3 trillion company again, for the ...</td>\n",
       "      <td>https://www.marketwatch.com/story/apple-is-a-3...</td>\n",
       "      <td>2023-12-05 22:11:00+00:00</td>\n",
       "      <td>Apple's stock is up 49% so far in 2023, but ot...</td>\n",
       "      <td>&lt;!DOCTYPE html&gt;\\n&lt;html\\n  lang=\"en-US\"\\n  data...</td>\n",
       "      <td>apple is a  trillion company again for the fir...</td>\n",
       "      <td>apples stock is up  so far in  but other big t...</td>\n",
       "    </tr>\n",
       "  </tbody>\n",
       "</table>\n",
       "</div>"
      ],
      "text/plain": [
       "                                               Titre  \\\n",
       "0  Governments spying on Apple and Google users t...   \n",
       "1  Warren Buffett's Apple stake just hit $177 bil...   \n",
       "2  Apple regains a $3 trillion market cap and is ...   \n",
       "3  Qualcomm's X Elite Crushes Apple: Arm Holdings...   \n",
       "4  Apple is a $3 trillion company again, for the ...   \n",
       "\n",
       "                                                 URL  \\\n",
       "0  https://www.cnbc.com/2023/12/06/apple-and-goog...   \n",
       "1  https://markets.businessinsider.com/news/stock...   \n",
       "2  https://markets.businessinsider.com/news/stock...   \n",
       "3  https://www.forbes.com/sites/jonmarkman/2023/1...   \n",
       "4  https://www.marketwatch.com/story/apple-is-a-3...   \n",
       "\n",
       "        Date de publication  \\\n",
       "0 2023-12-06 14:55:00+00:00   \n",
       "1 2023-12-06 11:39:21+00:00   \n",
       "2 2023-12-06 10:16:42+00:00   \n",
       "3 2023-12-05 23:06:18+00:00   \n",
       "4 2023-12-05 22:11:00+00:00   \n",
       "\n",
       "                                         Description  \\\n",
       "0  U.S. Senator Ron Wyden warned that foreign gov...   \n",
       "1  Apple's stock price has surged by almost 50% t...   \n",
       "2  Apple's market cap passed the $3 trillion thre...   \n",
       "3  Executives at Apple announced on October that ...   \n",
       "4  Apple's stock is up 49% so far in 2023, but ot...   \n",
       "\n",
       "                                             Contenu  \\\n",
       "0  <!DOCTYPE html><html lang=\"en\" prefix=\"og=http...   \n",
       "1  <!DOCTYPE html>\\n<html lang=\"en-US\">\\n\\n<head>...   \n",
       "2  <!DOCTYPE html>\\n<html lang=\"en-US\">\\n\\n<head>...   \n",
       "3  <!DOCTYPE html><html lang=\"en\"><head><link rel...   \n",
       "4  <!DOCTYPE html>\\n<html\\n  lang=\"en-US\"\\n  data...   \n",
       "\n",
       "                                       Titre_cleaned  \\\n",
       "0  governments spying on apple and google users t...   \n",
       "1  warren buffetts apple stake just hit  billion ...   \n",
       "2  apple regains a  trillion market cap and is on...   \n",
       "3  qualcomms x elite crushes apple arm holdings s...   \n",
       "4  apple is a  trillion company again for the fir...   \n",
       "\n",
       "                                 Description_cleaned  \n",
       "0  us senator ron wyden warned that foreign gover...  \n",
       "1  apples stock price has surged by almost  this ...  \n",
       "2  apples market cap passed the  trillion thresho...  \n",
       "3  executives at apple announced on october that ...  \n",
       "4  apples stock is up  so far in  but other big t...  "
      ]
     },
     "execution_count": 99,
     "metadata": {},
     "output_type": "execute_result"
    }
   ],
   "source": [
    "def cleaning_text(text):\n",
    "    #Passage du texte en miniscules\n",
    "    text=text.lower()\n",
    "    #Suppression des chiffres\n",
    "    text=re.sub(r'\\d+', '', text)\n",
    "    #Suppression de la ponctuation et des symboles spéciaux\n",
    "    text=re.sub(r'[^\\w\\s]', '', text)\n",
    "    return text\n",
    "\n",
    "df['Titre_cleaned']=df['Titre'].apply(cleaning_text)\n",
    "df['Description_cleaned']=df['Description'].apply(cleaning_text)\n",
    "df.head()"
   ]
  },
  {
   "cell_type": "code",
   "execution_count": 100,
   "metadata": {},
   "outputs": [
    {
     "data": {
      "text/html": [
       "<div>\n",
       "<style scoped>\n",
       "    .dataframe tbody tr th:only-of-type {\n",
       "        vertical-align: middle;\n",
       "    }\n",
       "\n",
       "    .dataframe tbody tr th {\n",
       "        vertical-align: top;\n",
       "    }\n",
       "\n",
       "    .dataframe thead th {\n",
       "        text-align: right;\n",
       "    }\n",
       "</style>\n",
       "<table border=\"1\" class=\"dataframe\">\n",
       "  <thead>\n",
       "    <tr style=\"text-align: right;\">\n",
       "      <th></th>\n",
       "      <th>Titre</th>\n",
       "      <th>URL</th>\n",
       "      <th>Date de publication</th>\n",
       "      <th>Description</th>\n",
       "      <th>Contenu</th>\n",
       "      <th>Titre_cleaned</th>\n",
       "      <th>Description_cleaned</th>\n",
       "      <th>Counting_Words_Text</th>\n",
       "      <th>Counting_Words_Description</th>\n",
       "    </tr>\n",
       "  </thead>\n",
       "  <tbody>\n",
       "    <tr>\n",
       "      <th>0</th>\n",
       "      <td>Governments spying on Apple and Google users t...</td>\n",
       "      <td>https://www.cnbc.com/2023/12/06/apple-and-goog...</td>\n",
       "      <td>2023-12-06 14:55:00+00:00</td>\n",
       "      <td>U.S. Senator Ron Wyden warned that foreign gov...</td>\n",
       "      <td>&lt;!DOCTYPE html&gt;&lt;html lang=\"en\" prefix=\"og=http...</td>\n",
       "      <td>governments spying on apple and google users t...</td>\n",
       "      <td>us senator ron wyden warned that foreign gover...</td>\n",
       "      <td>{'governments': 1, 'spying': 1, 'on': 1, 'appl...</td>\n",
       "      <td>{'us': 1, 'senator': 1, 'ron': 1, 'wyden': 1, ...</td>\n",
       "    </tr>\n",
       "    <tr>\n",
       "      <th>1</th>\n",
       "      <td>Warren Buffett's Apple stake just hit $177 bil...</td>\n",
       "      <td>https://markets.businessinsider.com/news/stock...</td>\n",
       "      <td>2023-12-06 11:39:21+00:00</td>\n",
       "      <td>Apple's stock price has surged by almost 50% t...</td>\n",
       "      <td>&lt;!DOCTYPE html&gt;\\n&lt;html lang=\"en-US\"&gt;\\n\\n&lt;head&gt;...</td>\n",
       "      <td>warren buffetts apple stake just hit  billion ...</td>\n",
       "      <td>apples stock price has surged by almost  this ...</td>\n",
       "      <td>{'warren': 1, 'buffetts': 1, 'apple': 1, 'stak...</td>\n",
       "      <td>{'apples': 1, 'stock': 1, 'price': 1, 'has': 1...</td>\n",
       "    </tr>\n",
       "    <tr>\n",
       "      <th>2</th>\n",
       "      <td>Apple regains a $3 trillion market cap and is ...</td>\n",
       "      <td>https://markets.businessinsider.com/news/stock...</td>\n",
       "      <td>2023-12-06 10:16:42+00:00</td>\n",
       "      <td>Apple's market cap passed the $3 trillion thre...</td>\n",
       "      <td>&lt;!DOCTYPE html&gt;\\n&lt;html lang=\"en-US\"&gt;\\n\\n&lt;head&gt;...</td>\n",
       "      <td>apple regains a  trillion market cap and is on...</td>\n",
       "      <td>apples market cap passed the  trillion thresho...</td>\n",
       "      <td>{'apple': 1, 'regains': 1, 'a': 2, 'trillion':...</td>\n",
       "      <td>{'apples': 1, 'market': 1, 'cap': 1, 'passed':...</td>\n",
       "    </tr>\n",
       "    <tr>\n",
       "      <th>3</th>\n",
       "      <td>Qualcomm's X Elite Crushes Apple: Arm Holdings...</td>\n",
       "      <td>https://www.forbes.com/sites/jonmarkman/2023/1...</td>\n",
       "      <td>2023-12-05 23:06:18+00:00</td>\n",
       "      <td>Executives at Apple announced on October that ...</td>\n",
       "      <td>&lt;!DOCTYPE html&gt;&lt;html lang=\"en\"&gt;&lt;head&gt;&lt;link rel...</td>\n",
       "      <td>qualcomms x elite crushes apple arm holdings s...</td>\n",
       "      <td>executives at apple announced on october that ...</td>\n",
       "      <td>{'qualcomms': 1, 'x': 1, 'elite': 1, 'crushes'...</td>\n",
       "      <td>{'executives': 1, 'at': 1, 'apple': 1, 'announ...</td>\n",
       "    </tr>\n",
       "    <tr>\n",
       "      <th>4</th>\n",
       "      <td>Apple is a $3 trillion company again, for the ...</td>\n",
       "      <td>https://www.marketwatch.com/story/apple-is-a-3...</td>\n",
       "      <td>2023-12-05 22:11:00+00:00</td>\n",
       "      <td>Apple's stock is up 49% so far in 2023, but ot...</td>\n",
       "      <td>&lt;!DOCTYPE html&gt;\\n&lt;html\\n  lang=\"en-US\"\\n  data...</td>\n",
       "      <td>apple is a  trillion company again for the fir...</td>\n",
       "      <td>apples stock is up  so far in  but other big t...</td>\n",
       "      <td>{'apple': 1, 'is': 1, 'a': 1, 'trillion': 1, '...</td>\n",
       "      <td>{'apples': 1, 'stock': 1, 'is': 1, 'up': 1, 's...</td>\n",
       "    </tr>\n",
       "    <tr>\n",
       "      <th>5</th>\n",
       "      <td>Apple's market cap closes above $3 trillion</td>\n",
       "      <td>https://www.cnbc.com/2023/12/05/apples-market-...</td>\n",
       "      <td>2023-12-05 21:08:41+00:00</td>\n",
       "      <td>Apple's value officially crossed the $3 trilli...</td>\n",
       "      <td>&lt;!DOCTYPE html&gt;&lt;html lang=\"en\" prefix=\"og=http...</td>\n",
       "      <td>apples market cap closes above  trillion</td>\n",
       "      <td>apples value officially crossed the  trillion ...</td>\n",
       "      <td>{'apples': 1, 'market': 1, 'cap': 1, 'closes':...</td>\n",
       "      <td>{'apples': 1, 'value': 1, 'officially': 1, 'cr...</td>\n",
       "    </tr>\n",
       "    <tr>\n",
       "      <th>6</th>\n",
       "      <td>: Dow sees first back-to-back losses in a mont...</td>\n",
       "      <td>https://www.marketwatch.com/story/dow-sees-fir...</td>\n",
       "      <td>2023-12-05 21:06:00+00:00</td>\n",
       "      <td>U.S. stocks finished mostly lower on Tuesday, ...</td>\n",
       "      <td>&lt;!DOCTYPE html&gt;\\n&lt;html\\n  lang=\"en-US\"\\n  data...</td>\n",
       "      <td>dow sees first backtoback losses in a month a...</td>\n",
       "      <td>us stocks finished mostly lower on tuesday wit...</td>\n",
       "      <td>{'dow': 1, 'sees': 1, 'first': 1, 'backtoback'...</td>\n",
       "      <td>{'us': 1, 'stocks': 2, 'finished': 1, 'mostly'...</td>\n",
       "    </tr>\n",
       "    <tr>\n",
       "      <th>7</th>\n",
       "      <td>Apple Stock Rallies To 4-Month High—Market Cap...</td>\n",
       "      <td>https://www.forbes.com/sites/dereksaul/2023/12...</td>\n",
       "      <td>2023-12-05 20:40:01+00:00</td>\n",
       "      <td>The world’s most valuable company is expected ...</td>\n",
       "      <td>&lt;!DOCTYPE html&gt;&lt;html lang=\"en\"&gt;&lt;head&gt;&lt;link rel...</td>\n",
       "      <td>apple stock rallies to month highmarket cap to...</td>\n",
       "      <td>the worlds most valuable company is expected t...</td>\n",
       "      <td>{'apple': 1, 'stock': 1, 'rallies': 1, 'to': 1...</td>\n",
       "      <td>{'the': 1, 'worlds': 1, 'most': 1, 'valuable':...</td>\n",
       "    </tr>\n",
       "    <tr>\n",
       "      <th>8</th>\n",
       "      <td>Charlie Munger wished he backed Amazon and bet...</td>\n",
       "      <td>https://markets.businessinsider.com/news/stock...</td>\n",
       "      <td>2023-12-05 14:36:54+00:00</td>\n",
       "      <td>Warren Buffett's late business partner said he...</td>\n",
       "      <td>&lt;!DOCTYPE html&gt;\\n&lt;html lang=\"en-US\"&gt;\\n\\n&lt;head&gt;...</td>\n",
       "      <td>charlie munger wished he backed amazon and bet...</td>\n",
       "      <td>warren buffetts late business partner said he ...</td>\n",
       "      <td>{'charlie': 1, 'munger': 1, 'wished': 1, 'he':...</td>\n",
       "      <td>{'warren': 1, 'buffetts': 1, 'late': 1, 'busin...</td>\n",
       "    </tr>\n",
       "    <tr>\n",
       "      <th>9</th>\n",
       "      <td>Apple let reporters film inside its secretive ...</td>\n",
       "      <td>https://www.businessinsider.com/apple-chip-tes...</td>\n",
       "      <td>2023-12-04 22:23:30+00:00</td>\n",
       "      <td>Apple is famously secretive about the rooms wh...</td>\n",
       "      <td>&lt;!DOCTYPE html&gt;\\n&lt;html lang=\"en-US\"&gt;\\n\\n&lt;head&gt;...</td>\n",
       "      <td>apple let reporters film inside its secretive ...</td>\n",
       "      <td>apple is famously secretive about the rooms wh...</td>\n",
       "      <td>{'apple': 1, 'let': 1, 'reporters': 1, 'film':...</td>\n",
       "      <td>{'apple': 1, 'is': 1, 'famously': 1, 'secretiv...</td>\n",
       "    </tr>\n",
       "    <tr>\n",
       "      <th>10</th>\n",
       "      <td>Apple Cannot Risk Improving The iPhone 16</td>\n",
       "      <td>https://www.forbes.com/sites/ewanspence/2023/1...</td>\n",
       "      <td>2023-12-04 21:58:19+00:00</td>\n",
       "      <td>How can Apple ensure 2024's iPhone 16 does not...</td>\n",
       "      <td>&lt;!DOCTYPE html&gt;&lt;html lang=\"en\"&gt;&lt;head&gt;&lt;link rel...</td>\n",
       "      <td>apple cannot risk improving the iphone</td>\n",
       "      <td>how can apple ensure s iphone  does not attrac...</td>\n",
       "      <td>{'apple': 1, 'cannot': 1, 'risk': 1, 'improvin...</td>\n",
       "      <td>{'how': 1, 'can': 1, 'apple': 1, 'ensure': 1, ...</td>\n",
       "    </tr>\n",
       "    <tr>\n",
       "      <th>11</th>\n",
       "      <td>Russian Hackers’ Lawsuit Reveals Weaknesses In...</td>\n",
       "      <td>https://www.forbes.com/sites/thomasbrewster/20...</td>\n",
       "      <td>2023-12-04 18:52:18+00:00</td>\n",
       "      <td>A Moscow legal battle strongly indicates that ...</td>\n",
       "      <td>&lt;!DOCTYPE html&gt;&lt;html lang=\"en\"&gt;&lt;head&gt;&lt;link rel...</td>\n",
       "      <td>russian hackers lawsuit reveals weaknesses in ...</td>\n",
       "      <td>a moscow legal battle strongly indicates that ...</td>\n",
       "      <td>{'russian': 1, 'hackers': 1, 'lawsuit': 1, 're...</td>\n",
       "      <td>{'a': 1, 'moscow': 1, 'legal': 1, 'battle': 1,...</td>\n",
       "    </tr>\n",
       "    <tr>\n",
       "      <th>12</th>\n",
       "      <td>The Universe According To Coperni: Apple, Evia...</td>\n",
       "      <td>https://www.forbes.com/sites/stephaniehirschmi...</td>\n",
       "      <td>2023-12-04 06:00:00+00:00</td>\n",
       "      <td>“AI is one of the biggest revolutions of our t...</td>\n",
       "      <td>&lt;!DOCTYPE html&gt;&lt;html lang=\"en\"&gt;&lt;head&gt;&lt;link rel...</td>\n",
       "      <td>the universe according to coperni apple evian ...</td>\n",
       "      <td>ai is one of the biggest revolutions of our ti...</td>\n",
       "      <td>{'the': 1, 'universe': 1, 'according': 1, 'to'...</td>\n",
       "      <td>{'ai': 1, 'is': 1, 'one': 1, 'of': 2, 'the': 2...</td>\n",
       "    </tr>\n",
       "    <tr>\n",
       "      <th>13</th>\n",
       "      <td>Apple Cannot Risk Improving The iPhone 16</td>\n",
       "      <td>https://www.forbes.com/sites/ewanspence/2023/1...</td>\n",
       "      <td>2023-12-04 00:35:24+00:00</td>\n",
       "      <td>How can Apple ensure 2024's iPhone 16 does not...</td>\n",
       "      <td>&lt;!DOCTYPE html&gt;&lt;html lang=\"en\"&gt;&lt;head&gt;&lt;link rel...</td>\n",
       "      <td>apple cannot risk improving the iphone</td>\n",
       "      <td>how can apple ensure s iphone  does not attrac...</td>\n",
       "      <td>{'apple': 1, 'cannot': 1, 'risk': 1, 'improvin...</td>\n",
       "      <td>{'how': 1, 'can': 1, 'apple': 1, 'ensure': 1, ...</td>\n",
       "    </tr>\n",
       "    <tr>\n",
       "      <th>14</th>\n",
       "      <td>Apple In Race To Design Surprise iPhone Elemen...</td>\n",
       "      <td>https://www.forbes.com/sites/davidphelan/2023/...</td>\n",
       "      <td>2023-12-03 22:30:20+00:00</td>\n",
       "      <td>Apple’s desire to take control of a key part o...</td>\n",
       "      <td>&lt;!DOCTYPE html&gt;&lt;html lang=\"en\"&gt;&lt;head&gt;&lt;link rel...</td>\n",
       "      <td>apple in race to design surprise iphone elemen...</td>\n",
       "      <td>apples desire to take control of a key part of...</td>\n",
       "      <td>{'apple': 1, 'in': 1, 'race': 1, 'to': 1, 'des...</td>\n",
       "      <td>{'apples': 1, 'desire': 1, 'to': 1, 'take': 1,...</td>\n",
       "    </tr>\n",
       "    <tr>\n",
       "      <th>15</th>\n",
       "      <td>Why You Should Wait For Apple’s New MacBook Air</td>\n",
       "      <td>https://www.forbes.com/sites/ewanspence/2023/1...</td>\n",
       "      <td>2023-12-03 16:56:55+00:00</td>\n",
       "      <td>If you're looking for a consumer laptop, you m...</td>\n",
       "      <td>&lt;!DOCTYPE html&gt;&lt;html lang=\"en\"&gt;&lt;head&gt;&lt;link rel...</td>\n",
       "      <td>why you should wait for apples new macbook air</td>\n",
       "      <td>if youre looking for a consumer laptop you mig...</td>\n",
       "      <td>{'why': 1, 'you': 1, 'should': 1, 'wait': 1, '...</td>\n",
       "      <td>{'if': 1, 'youre': 1, 'looking': 1, 'for': 2, ...</td>\n",
       "    </tr>\n",
       "    <tr>\n",
       "      <th>16</th>\n",
       "      <td>Apple Is Testing A Major New Input Method For ...</td>\n",
       "      <td>https://www.forbes.com/sites/jaymcgregor/2023/...</td>\n",
       "      <td>2023-12-03 13:34:30+00:00</td>\n",
       "      <td>Apple is bringing new touch tech to the iPhone...</td>\n",
       "      <td>&lt;!DOCTYPE html&gt;&lt;html lang=\"en\"&gt;&lt;head&gt;&lt;link rel...</td>\n",
       "      <td>apple is testing a major new input method for ...</td>\n",
       "      <td>apple is bringing new touch tech to the iphone</td>\n",
       "      <td>{'apple': 1, 'is': 1, 'testing': 1, 'a': 1, 'm...</td>\n",
       "      <td>{'apple': 1, 'is': 1, 'bringing': 1, 'new': 1,...</td>\n",
       "    </tr>\n",
       "    <tr>\n",
       "      <th>17</th>\n",
       "      <td>MUNBYN’s New Label Printers Offer Bluetooth Or...</td>\n",
       "      <td>https://www.forbes.com/sites/marksparrow/2023/...</td>\n",
       "      <td>2023-12-03 12:00:00+00:00</td>\n",
       "      <td>Many small businesses could use one of these M...</td>\n",
       "      <td>&lt;!DOCTYPE html&gt;&lt;html lang=\"en\"&gt;&lt;head&gt;&lt;link rel...</td>\n",
       "      <td>munbyns new label printers offer bluetooth or ...</td>\n",
       "      <td>many small businesses could use one of these m...</td>\n",
       "      <td>{'munbyns': 1, 'new': 1, 'label': 1, 'printers...</td>\n",
       "      <td>{'many': 1, 'small': 1, 'businesses': 1, 'coul...</td>\n",
       "    </tr>\n",
       "    <tr>\n",
       "      <th>18</th>\n",
       "      <td>You Should Wait For Apple's New MacBook Air</td>\n",
       "      <td>https://www.forbes.com/sites/ewanspence/2023/1...</td>\n",
       "      <td>2023-12-02 21:36:28+00:00</td>\n",
       "      <td>If you're looking for a consumer laptop, you m...</td>\n",
       "      <td>&lt;!DOCTYPE html&gt;&lt;html lang=\"en\"&gt;&lt;head&gt;&lt;link rel...</td>\n",
       "      <td>you should wait for apples new macbook air</td>\n",
       "      <td>if youre looking for a consumer laptop you mig...</td>\n",
       "      <td>{'you': 1, 'should': 1, 'wait': 1, 'for': 1, '...</td>\n",
       "      <td>{'if': 1, 'youre': 1, 'looking': 1, 'for': 2, ...</td>\n",
       "    </tr>\n",
       "    <tr>\n",
       "      <th>19</th>\n",
       "      <td>iOS 17.1.2: Apple Suddenly Releases Urgent Upd...</td>\n",
       "      <td>https://www.forbes.com/sites/davidphelan/2023/...</td>\n",
       "      <td>2023-12-02 21:15:04+00:00</td>\n",
       "      <td>The next iPhone update has just landed. Here’s...</td>\n",
       "      <td>&lt;!DOCTYPE html&gt;&lt;html lang=\"en\"&gt;&lt;head&gt;&lt;link rel...</td>\n",
       "      <td>ios  apple suddenly releases urgent update for...</td>\n",
       "      <td>the next iphone update has just landed heres w...</td>\n",
       "      <td>{'ios': 1, 'apple': 1, 'suddenly': 1, 'release...</td>\n",
       "      <td>{'the': 1, 'next': 1, 'iphone': 1, 'update': 1...</td>\n",
       "    </tr>\n",
       "  </tbody>\n",
       "</table>\n",
       "</div>"
      ],
      "text/plain": [
       "                                                Titre  \\\n",
       "0   Governments spying on Apple and Google users t...   \n",
       "1   Warren Buffett's Apple stake just hit $177 bil...   \n",
       "2   Apple regains a $3 trillion market cap and is ...   \n",
       "3   Qualcomm's X Elite Crushes Apple: Arm Holdings...   \n",
       "4   Apple is a $3 trillion company again, for the ...   \n",
       "5         Apple's market cap closes above $3 trillion   \n",
       "6   : Dow sees first back-to-back losses in a mont...   \n",
       "7   Apple Stock Rallies To 4-Month High—Market Cap...   \n",
       "8   Charlie Munger wished he backed Amazon and bet...   \n",
       "9   Apple let reporters film inside its secretive ...   \n",
       "10          Apple Cannot Risk Improving The iPhone 16   \n",
       "11  Russian Hackers’ Lawsuit Reveals Weaknesses In...   \n",
       "12  The Universe According To Coperni: Apple, Evia...   \n",
       "13          Apple Cannot Risk Improving The iPhone 16   \n",
       "14  Apple In Race To Design Surprise iPhone Elemen...   \n",
       "15    Why You Should Wait For Apple’s New MacBook Air   \n",
       "16  Apple Is Testing A Major New Input Method For ...   \n",
       "17  MUNBYN’s New Label Printers Offer Bluetooth Or...   \n",
       "18        You Should Wait For Apple's New MacBook Air   \n",
       "19  iOS 17.1.2: Apple Suddenly Releases Urgent Upd...   \n",
       "\n",
       "                                                  URL  \\\n",
       "0   https://www.cnbc.com/2023/12/06/apple-and-goog...   \n",
       "1   https://markets.businessinsider.com/news/stock...   \n",
       "2   https://markets.businessinsider.com/news/stock...   \n",
       "3   https://www.forbes.com/sites/jonmarkman/2023/1...   \n",
       "4   https://www.marketwatch.com/story/apple-is-a-3...   \n",
       "5   https://www.cnbc.com/2023/12/05/apples-market-...   \n",
       "6   https://www.marketwatch.com/story/dow-sees-fir...   \n",
       "7   https://www.forbes.com/sites/dereksaul/2023/12...   \n",
       "8   https://markets.businessinsider.com/news/stock...   \n",
       "9   https://www.businessinsider.com/apple-chip-tes...   \n",
       "10  https://www.forbes.com/sites/ewanspence/2023/1...   \n",
       "11  https://www.forbes.com/sites/thomasbrewster/20...   \n",
       "12  https://www.forbes.com/sites/stephaniehirschmi...   \n",
       "13  https://www.forbes.com/sites/ewanspence/2023/1...   \n",
       "14  https://www.forbes.com/sites/davidphelan/2023/...   \n",
       "15  https://www.forbes.com/sites/ewanspence/2023/1...   \n",
       "16  https://www.forbes.com/sites/jaymcgregor/2023/...   \n",
       "17  https://www.forbes.com/sites/marksparrow/2023/...   \n",
       "18  https://www.forbes.com/sites/ewanspence/2023/1...   \n",
       "19  https://www.forbes.com/sites/davidphelan/2023/...   \n",
       "\n",
       "         Date de publication  \\\n",
       "0  2023-12-06 14:55:00+00:00   \n",
       "1  2023-12-06 11:39:21+00:00   \n",
       "2  2023-12-06 10:16:42+00:00   \n",
       "3  2023-12-05 23:06:18+00:00   \n",
       "4  2023-12-05 22:11:00+00:00   \n",
       "5  2023-12-05 21:08:41+00:00   \n",
       "6  2023-12-05 21:06:00+00:00   \n",
       "7  2023-12-05 20:40:01+00:00   \n",
       "8  2023-12-05 14:36:54+00:00   \n",
       "9  2023-12-04 22:23:30+00:00   \n",
       "10 2023-12-04 21:58:19+00:00   \n",
       "11 2023-12-04 18:52:18+00:00   \n",
       "12 2023-12-04 06:00:00+00:00   \n",
       "13 2023-12-04 00:35:24+00:00   \n",
       "14 2023-12-03 22:30:20+00:00   \n",
       "15 2023-12-03 16:56:55+00:00   \n",
       "16 2023-12-03 13:34:30+00:00   \n",
       "17 2023-12-03 12:00:00+00:00   \n",
       "18 2023-12-02 21:36:28+00:00   \n",
       "19 2023-12-02 21:15:04+00:00   \n",
       "\n",
       "                                          Description  \\\n",
       "0   U.S. Senator Ron Wyden warned that foreign gov...   \n",
       "1   Apple's stock price has surged by almost 50% t...   \n",
       "2   Apple's market cap passed the $3 trillion thre...   \n",
       "3   Executives at Apple announced on October that ...   \n",
       "4   Apple's stock is up 49% so far in 2023, but ot...   \n",
       "5   Apple's value officially crossed the $3 trilli...   \n",
       "6   U.S. stocks finished mostly lower on Tuesday, ...   \n",
       "7   The world’s most valuable company is expected ...   \n",
       "8   Warren Buffett's late business partner said he...   \n",
       "9   Apple is famously secretive about the rooms wh...   \n",
       "10  How can Apple ensure 2024's iPhone 16 does not...   \n",
       "11  A Moscow legal battle strongly indicates that ...   \n",
       "12  “AI is one of the biggest revolutions of our t...   \n",
       "13  How can Apple ensure 2024's iPhone 16 does not...   \n",
       "14  Apple’s desire to take control of a key part o...   \n",
       "15  If you're looking for a consumer laptop, you m...   \n",
       "16  Apple is bringing new touch tech to the iPhone...   \n",
       "17  Many small businesses could use one of these M...   \n",
       "18  If you're looking for a consumer laptop, you m...   \n",
       "19  The next iPhone update has just landed. Here’s...   \n",
       "\n",
       "                                              Contenu  \\\n",
       "0   <!DOCTYPE html><html lang=\"en\" prefix=\"og=http...   \n",
       "1   <!DOCTYPE html>\\n<html lang=\"en-US\">\\n\\n<head>...   \n",
       "2   <!DOCTYPE html>\\n<html lang=\"en-US\">\\n\\n<head>...   \n",
       "3   <!DOCTYPE html><html lang=\"en\"><head><link rel...   \n",
       "4   <!DOCTYPE html>\\n<html\\n  lang=\"en-US\"\\n  data...   \n",
       "5   <!DOCTYPE html><html lang=\"en\" prefix=\"og=http...   \n",
       "6   <!DOCTYPE html>\\n<html\\n  lang=\"en-US\"\\n  data...   \n",
       "7   <!DOCTYPE html><html lang=\"en\"><head><link rel...   \n",
       "8   <!DOCTYPE html>\\n<html lang=\"en-US\">\\n\\n<head>...   \n",
       "9   <!DOCTYPE html>\\n<html lang=\"en-US\">\\n\\n<head>...   \n",
       "10  <!DOCTYPE html><html lang=\"en\"><head><link rel...   \n",
       "11  <!DOCTYPE html><html lang=\"en\"><head><link rel...   \n",
       "12  <!DOCTYPE html><html lang=\"en\"><head><link rel...   \n",
       "13  <!DOCTYPE html><html lang=\"en\"><head><link rel...   \n",
       "14  <!DOCTYPE html><html lang=\"en\"><head><link rel...   \n",
       "15  <!DOCTYPE html><html lang=\"en\"><head><link rel...   \n",
       "16  <!DOCTYPE html><html lang=\"en\"><head><link rel...   \n",
       "17  <!DOCTYPE html><html lang=\"en\"><head><link rel...   \n",
       "18  <!DOCTYPE html><html lang=\"en\"><head><link rel...   \n",
       "19  <!DOCTYPE html><html lang=\"en\"><head><link rel...   \n",
       "\n",
       "                                        Titre_cleaned  \\\n",
       "0   governments spying on apple and google users t...   \n",
       "1   warren buffetts apple stake just hit  billion ...   \n",
       "2   apple regains a  trillion market cap and is on...   \n",
       "3   qualcomms x elite crushes apple arm holdings s...   \n",
       "4   apple is a  trillion company again for the fir...   \n",
       "5            apples market cap closes above  trillion   \n",
       "6    dow sees first backtoback losses in a month a...   \n",
       "7   apple stock rallies to month highmarket cap to...   \n",
       "8   charlie munger wished he backed amazon and bet...   \n",
       "9   apple let reporters film inside its secretive ...   \n",
       "10            apple cannot risk improving the iphone    \n",
       "11  russian hackers lawsuit reveals weaknesses in ...   \n",
       "12  the universe according to coperni apple evian ...   \n",
       "13            apple cannot risk improving the iphone    \n",
       "14  apple in race to design surprise iphone elemen...   \n",
       "15     why you should wait for apples new macbook air   \n",
       "16  apple is testing a major new input method for ...   \n",
       "17  munbyns new label printers offer bluetooth or ...   \n",
       "18         you should wait for apples new macbook air   \n",
       "19  ios  apple suddenly releases urgent update for...   \n",
       "\n",
       "                                  Description_cleaned  \\\n",
       "0   us senator ron wyden warned that foreign gover...   \n",
       "1   apples stock price has surged by almost  this ...   \n",
       "2   apples market cap passed the  trillion thresho...   \n",
       "3   executives at apple announced on october that ...   \n",
       "4   apples stock is up  so far in  but other big t...   \n",
       "5   apples value officially crossed the  trillion ...   \n",
       "6   us stocks finished mostly lower on tuesday wit...   \n",
       "7   the worlds most valuable company is expected t...   \n",
       "8   warren buffetts late business partner said he ...   \n",
       "9   apple is famously secretive about the rooms wh...   \n",
       "10  how can apple ensure s iphone  does not attrac...   \n",
       "11  a moscow legal battle strongly indicates that ...   \n",
       "12  ai is one of the biggest revolutions of our ti...   \n",
       "13  how can apple ensure s iphone  does not attrac...   \n",
       "14  apples desire to take control of a key part of...   \n",
       "15  if youre looking for a consumer laptop you mig...   \n",
       "16    apple is bringing new touch tech to the iphone    \n",
       "17  many small businesses could use one of these m...   \n",
       "18  if youre looking for a consumer laptop you mig...   \n",
       "19  the next iphone update has just landed heres w...   \n",
       "\n",
       "                                  Counting_Words_Text  \\\n",
       "0   {'governments': 1, 'spying': 1, 'on': 1, 'appl...   \n",
       "1   {'warren': 1, 'buffetts': 1, 'apple': 1, 'stak...   \n",
       "2   {'apple': 1, 'regains': 1, 'a': 2, 'trillion':...   \n",
       "3   {'qualcomms': 1, 'x': 1, 'elite': 1, 'crushes'...   \n",
       "4   {'apple': 1, 'is': 1, 'a': 1, 'trillion': 1, '...   \n",
       "5   {'apples': 1, 'market': 1, 'cap': 1, 'closes':...   \n",
       "6   {'dow': 1, 'sees': 1, 'first': 1, 'backtoback'...   \n",
       "7   {'apple': 1, 'stock': 1, 'rallies': 1, 'to': 1...   \n",
       "8   {'charlie': 1, 'munger': 1, 'wished': 1, 'he':...   \n",
       "9   {'apple': 1, 'let': 1, 'reporters': 1, 'film':...   \n",
       "10  {'apple': 1, 'cannot': 1, 'risk': 1, 'improvin...   \n",
       "11  {'russian': 1, 'hackers': 1, 'lawsuit': 1, 're...   \n",
       "12  {'the': 1, 'universe': 1, 'according': 1, 'to'...   \n",
       "13  {'apple': 1, 'cannot': 1, 'risk': 1, 'improvin...   \n",
       "14  {'apple': 1, 'in': 1, 'race': 1, 'to': 1, 'des...   \n",
       "15  {'why': 1, 'you': 1, 'should': 1, 'wait': 1, '...   \n",
       "16  {'apple': 1, 'is': 1, 'testing': 1, 'a': 1, 'm...   \n",
       "17  {'munbyns': 1, 'new': 1, 'label': 1, 'printers...   \n",
       "18  {'you': 1, 'should': 1, 'wait': 1, 'for': 1, '...   \n",
       "19  {'ios': 1, 'apple': 1, 'suddenly': 1, 'release...   \n",
       "\n",
       "                           Counting_Words_Description  \n",
       "0   {'us': 1, 'senator': 1, 'ron': 1, 'wyden': 1, ...  \n",
       "1   {'apples': 1, 'stock': 1, 'price': 1, 'has': 1...  \n",
       "2   {'apples': 1, 'market': 1, 'cap': 1, 'passed':...  \n",
       "3   {'executives': 1, 'at': 1, 'apple': 1, 'announ...  \n",
       "4   {'apples': 1, 'stock': 1, 'is': 1, 'up': 1, 's...  \n",
       "5   {'apples': 1, 'value': 1, 'officially': 1, 'cr...  \n",
       "6   {'us': 1, 'stocks': 2, 'finished': 1, 'mostly'...  \n",
       "7   {'the': 1, 'worlds': 1, 'most': 1, 'valuable':...  \n",
       "8   {'warren': 1, 'buffetts': 1, 'late': 1, 'busin...  \n",
       "9   {'apple': 1, 'is': 1, 'famously': 1, 'secretiv...  \n",
       "10  {'how': 1, 'can': 1, 'apple': 1, 'ensure': 1, ...  \n",
       "11  {'a': 1, 'moscow': 1, 'legal': 1, 'battle': 1,...  \n",
       "12  {'ai': 1, 'is': 1, 'one': 1, 'of': 2, 'the': 2...  \n",
       "13  {'how': 1, 'can': 1, 'apple': 1, 'ensure': 1, ...  \n",
       "14  {'apples': 1, 'desire': 1, 'to': 1, 'take': 1,...  \n",
       "15  {'if': 1, 'youre': 1, 'looking': 1, 'for': 2, ...  \n",
       "16  {'apple': 1, 'is': 1, 'bringing': 1, 'new': 1,...  \n",
       "17  {'many': 1, 'small': 1, 'businesses': 1, 'coul...  \n",
       "18  {'if': 1, 'youre': 1, 'looking': 1, 'for': 2, ...  \n",
       "19  {'the': 1, 'next': 1, 'iphone': 1, 'update': 1...  "
      ]
     },
     "execution_count": 100,
     "metadata": {},
     "output_type": "execute_result"
    }
   ],
   "source": [
    "def count_common_words(text):\n",
    "    words=text.split()\n",
    "    dict={}\n",
    "    for el in words :\n",
    "        if el not in dict:\n",
    "            dict[el]=1\n",
    "        else:\n",
    "            dict[el]+=1\n",
    "    return dict\n",
    "\n",
    "df['Counting_Words_Text']=df['Titre_cleaned'].apply(count_common_words)\n",
    "df['Counting_Words_Description']=df['Description_cleaned'].apply(count_common_words)\n",
    "\n",
    "df"
   ]
  },
  {
   "cell_type": "code",
   "execution_count": 101,
   "metadata": {},
   "outputs": [
    {
     "data": {
      "text/html": [
       "<div>\n",
       "<style scoped>\n",
       "    .dataframe tbody tr th:only-of-type {\n",
       "        vertical-align: middle;\n",
       "    }\n",
       "\n",
       "    .dataframe tbody tr th {\n",
       "        vertical-align: top;\n",
       "    }\n",
       "\n",
       "    .dataframe thead th {\n",
       "        text-align: right;\n",
       "    }\n",
       "</style>\n",
       "<table border=\"1\" class=\"dataframe\">\n",
       "  <thead>\n",
       "    <tr style=\"text-align: right;\">\n",
       "      <th></th>\n",
       "      <th>Titre</th>\n",
       "      <th>URL</th>\n",
       "      <th>Date de publication</th>\n",
       "      <th>Description</th>\n",
       "      <th>Contenu</th>\n",
       "      <th>Titre_cleaned</th>\n",
       "      <th>Description_cleaned</th>\n",
       "      <th>Counting_Words_Text</th>\n",
       "      <th>Counting_Words_Description</th>\n",
       "      <th>Most_common_text</th>\n",
       "      <th>Most_common_description</th>\n",
       "    </tr>\n",
       "  </thead>\n",
       "  <tbody>\n",
       "    <tr>\n",
       "      <th>0</th>\n",
       "      <td>Governments spying on Apple and Google users t...</td>\n",
       "      <td>https://www.cnbc.com/2023/12/06/apple-and-goog...</td>\n",
       "      <td>2023-12-06 14:55:00+00:00</td>\n",
       "      <td>U.S. Senator Ron Wyden warned that foreign gov...</td>\n",
       "      <td>&lt;!DOCTYPE html&gt;&lt;html lang=\"en\" prefix=\"og=http...</td>\n",
       "      <td>governments spying on apple and google users t...</td>\n",
       "      <td>us senator ron wyden warned that foreign gover...</td>\n",
       "      <td>{'governments': 1, 'spying': 1, 'on': 1, 'appl...</td>\n",
       "      <td>{'us': 1, 'senator': 1, 'ron': 1, 'wyden': 1, ...</td>\n",
       "      <td>{'governments': 1, 'spying': 1, 'on': 1, 'appl...</td>\n",
       "      <td>{'us': 1, 'senator': 1, 'ron': 1, 'wyden': 1, ...</td>\n",
       "    </tr>\n",
       "    <tr>\n",
       "      <th>1</th>\n",
       "      <td>Warren Buffett's Apple stake just hit $177 bil...</td>\n",
       "      <td>https://markets.businessinsider.com/news/stock...</td>\n",
       "      <td>2023-12-06 11:39:21+00:00</td>\n",
       "      <td>Apple's stock price has surged by almost 50% t...</td>\n",
       "      <td>&lt;!DOCTYPE html&gt;\\n&lt;html lang=\"en-US\"&gt;\\n\\n&lt;head&gt;...</td>\n",
       "      <td>warren buffetts apple stake just hit  billion ...</td>\n",
       "      <td>apples stock price has surged by almost  this ...</td>\n",
       "      <td>{'warren': 1, 'buffetts': 1, 'apple': 1, 'stak...</td>\n",
       "      <td>{'apples': 1, 'stock': 1, 'price': 1, 'has': 1...</td>\n",
       "      <td>{'warren': 1, 'buffetts': 1, 'apple': 1, 'stak...</td>\n",
       "      <td>{'to': 2, 'apples': 1, 'stock': 1, 'price': 1,...</td>\n",
       "    </tr>\n",
       "    <tr>\n",
       "      <th>2</th>\n",
       "      <td>Apple regains a $3 trillion market cap and is ...</td>\n",
       "      <td>https://markets.businessinsider.com/news/stock...</td>\n",
       "      <td>2023-12-06 10:16:42+00:00</td>\n",
       "      <td>Apple's market cap passed the $3 trillion thre...</td>\n",
       "      <td>&lt;!DOCTYPE html&gt;\\n&lt;html lang=\"en-US\"&gt;\\n\\n&lt;head&gt;...</td>\n",
       "      <td>apple regains a  trillion market cap and is on...</td>\n",
       "      <td>apples market cap passed the  trillion thresho...</td>\n",
       "      <td>{'apple': 1, 'regains': 1, 'a': 2, 'trillion':...</td>\n",
       "      <td>{'apples': 1, 'market': 1, 'cap': 1, 'passed':...</td>\n",
       "      <td>{'the': 3, 'a': 2, 'apple': 1, 'regains': 1, '...</td>\n",
       "      <td>{'the': 2, 'apples': 1, 'market': 1, 'cap': 1,...</td>\n",
       "    </tr>\n",
       "    <tr>\n",
       "      <th>3</th>\n",
       "      <td>Qualcomm's X Elite Crushes Apple: Arm Holdings...</td>\n",
       "      <td>https://www.forbes.com/sites/jonmarkman/2023/1...</td>\n",
       "      <td>2023-12-05 23:06:18+00:00</td>\n",
       "      <td>Executives at Apple announced on October that ...</td>\n",
       "      <td>&lt;!DOCTYPE html&gt;&lt;html lang=\"en\"&gt;&lt;head&gt;&lt;link rel...</td>\n",
       "      <td>qualcomms x elite crushes apple arm holdings s...</td>\n",
       "      <td>executives at apple announced on october that ...</td>\n",
       "      <td>{'qualcomms': 1, 'x': 1, 'elite': 1, 'crushes'...</td>\n",
       "      <td>{'executives': 1, 'at': 1, 'apple': 1, 'announ...</td>\n",
       "      <td>{'qualcomms': 1, 'x': 1, 'elite': 1, 'crushes'...</td>\n",
       "      <td>{'executives': 1, 'at': 1, 'apple': 1, 'announ...</td>\n",
       "    </tr>\n",
       "    <tr>\n",
       "      <th>4</th>\n",
       "      <td>Apple is a $3 trillion company again, for the ...</td>\n",
       "      <td>https://www.marketwatch.com/story/apple-is-a-3...</td>\n",
       "      <td>2023-12-05 22:11:00+00:00</td>\n",
       "      <td>Apple's stock is up 49% so far in 2023, but ot...</td>\n",
       "      <td>&lt;!DOCTYPE html&gt;\\n&lt;html\\n  lang=\"en-US\"\\n  data...</td>\n",
       "      <td>apple is a  trillion company again for the fir...</td>\n",
       "      <td>apples stock is up  so far in  but other big t...</td>\n",
       "      <td>{'apple': 1, 'is': 1, 'a': 1, 'trillion': 1, '...</td>\n",
       "      <td>{'apples': 1, 'stock': 1, 'is': 1, 'up': 1, 's...</td>\n",
       "      <td>{'apple': 1, 'is': 1, 'a': 1, 'trillion': 1, '...</td>\n",
       "      <td>{'apples': 1, 'stock': 1, 'is': 1, 'up': 1, 's...</td>\n",
       "    </tr>\n",
       "  </tbody>\n",
       "</table>\n",
       "</div>"
      ],
      "text/plain": [
       "                                               Titre  \\\n",
       "0  Governments spying on Apple and Google users t...   \n",
       "1  Warren Buffett's Apple stake just hit $177 bil...   \n",
       "2  Apple regains a $3 trillion market cap and is ...   \n",
       "3  Qualcomm's X Elite Crushes Apple: Arm Holdings...   \n",
       "4  Apple is a $3 trillion company again, for the ...   \n",
       "\n",
       "                                                 URL  \\\n",
       "0  https://www.cnbc.com/2023/12/06/apple-and-goog...   \n",
       "1  https://markets.businessinsider.com/news/stock...   \n",
       "2  https://markets.businessinsider.com/news/stock...   \n",
       "3  https://www.forbes.com/sites/jonmarkman/2023/1...   \n",
       "4  https://www.marketwatch.com/story/apple-is-a-3...   \n",
       "\n",
       "        Date de publication  \\\n",
       "0 2023-12-06 14:55:00+00:00   \n",
       "1 2023-12-06 11:39:21+00:00   \n",
       "2 2023-12-06 10:16:42+00:00   \n",
       "3 2023-12-05 23:06:18+00:00   \n",
       "4 2023-12-05 22:11:00+00:00   \n",
       "\n",
       "                                         Description  \\\n",
       "0  U.S. Senator Ron Wyden warned that foreign gov...   \n",
       "1  Apple's stock price has surged by almost 50% t...   \n",
       "2  Apple's market cap passed the $3 trillion thre...   \n",
       "3  Executives at Apple announced on October that ...   \n",
       "4  Apple's stock is up 49% so far in 2023, but ot...   \n",
       "\n",
       "                                             Contenu  \\\n",
       "0  <!DOCTYPE html><html lang=\"en\" prefix=\"og=http...   \n",
       "1  <!DOCTYPE html>\\n<html lang=\"en-US\">\\n\\n<head>...   \n",
       "2  <!DOCTYPE html>\\n<html lang=\"en-US\">\\n\\n<head>...   \n",
       "3  <!DOCTYPE html><html lang=\"en\"><head><link rel...   \n",
       "4  <!DOCTYPE html>\\n<html\\n  lang=\"en-US\"\\n  data...   \n",
       "\n",
       "                                       Titre_cleaned  \\\n",
       "0  governments spying on apple and google users t...   \n",
       "1  warren buffetts apple stake just hit  billion ...   \n",
       "2  apple regains a  trillion market cap and is on...   \n",
       "3  qualcomms x elite crushes apple arm holdings s...   \n",
       "4  apple is a  trillion company again for the fir...   \n",
       "\n",
       "                                 Description_cleaned  \\\n",
       "0  us senator ron wyden warned that foreign gover...   \n",
       "1  apples stock price has surged by almost  this ...   \n",
       "2  apples market cap passed the  trillion thresho...   \n",
       "3  executives at apple announced on october that ...   \n",
       "4  apples stock is up  so far in  but other big t...   \n",
       "\n",
       "                                 Counting_Words_Text  \\\n",
       "0  {'governments': 1, 'spying': 1, 'on': 1, 'appl...   \n",
       "1  {'warren': 1, 'buffetts': 1, 'apple': 1, 'stak...   \n",
       "2  {'apple': 1, 'regains': 1, 'a': 2, 'trillion':...   \n",
       "3  {'qualcomms': 1, 'x': 1, 'elite': 1, 'crushes'...   \n",
       "4  {'apple': 1, 'is': 1, 'a': 1, 'trillion': 1, '...   \n",
       "\n",
       "                          Counting_Words_Description  \\\n",
       "0  {'us': 1, 'senator': 1, 'ron': 1, 'wyden': 1, ...   \n",
       "1  {'apples': 1, 'stock': 1, 'price': 1, 'has': 1...   \n",
       "2  {'apples': 1, 'market': 1, 'cap': 1, 'passed':...   \n",
       "3  {'executives': 1, 'at': 1, 'apple': 1, 'announ...   \n",
       "4  {'apples': 1, 'stock': 1, 'is': 1, 'up': 1, 's...   \n",
       "\n",
       "                                    Most_common_text  \\\n",
       "0  {'governments': 1, 'spying': 1, 'on': 1, 'appl...   \n",
       "1  {'warren': 1, 'buffetts': 1, 'apple': 1, 'stak...   \n",
       "2  {'the': 3, 'a': 2, 'apple': 1, 'regains': 1, '...   \n",
       "3  {'qualcomms': 1, 'x': 1, 'elite': 1, 'crushes'...   \n",
       "4  {'apple': 1, 'is': 1, 'a': 1, 'trillion': 1, '...   \n",
       "\n",
       "                             Most_common_description  \n",
       "0  {'us': 1, 'senator': 1, 'ron': 1, 'wyden': 1, ...  \n",
       "1  {'to': 2, 'apples': 1, 'stock': 1, 'price': 1,...  \n",
       "2  {'the': 2, 'apples': 1, 'market': 1, 'cap': 1,...  \n",
       "3  {'executives': 1, 'at': 1, 'apple': 1, 'announ...  \n",
       "4  {'apples': 1, 'stock': 1, 'is': 1, 'up': 1, 's...  "
      ]
     },
     "execution_count": 101,
     "metadata": {},
     "output_type": "execute_result"
    }
   ],
   "source": [
    "#On affiche les mots les plus fréquents dans chaque article\n",
    "\n",
    "def most_common_words(dictionary):\n",
    "    sorted_dict=dict(sorted(dictionary.items(), key=lambda item: item[1], reverse=True))\n",
    "    return sorted_dict\n",
    "\n",
    "df['Most_common_text']=df['Counting_Words_Text'].apply(most_common_words)\n",
    "df['Most_common_description']=df['Counting_Words_Description'].apply(most_common_words)\n",
    "df.head()"
   ]
  },
  {
   "cell_type": "code",
   "execution_count": 149,
   "metadata": {},
   "outputs": [
    {
     "data": {
      "text/plain": [
       "({'governments': 1,\n",
       "  'spying': 1,\n",
       "  'on': 3,\n",
       "  'apple': 16,\n",
       "  'and': 4,\n",
       "  'google': 1,\n",
       "  'users': 2,\n",
       "  'through': 1,\n",
       "  'phone': 1,\n",
       "  'notifications': 1,\n",
       "  'us': 1,\n",
       "  'senator': 1,\n",
       "  'says': 1,\n",
       "  'warren': 2,\n",
       "  'buffetts': 2,\n",
       "  'stake': 2,\n",
       "  'just': 2,\n",
       "  'hit': 2,\n",
       "  'billion': 2,\n",
       "  'in': 6,\n",
       "  'value': 2,\n",
       "  'more': 2,\n",
       "  'than': 2,\n",
       "  'nike': 2,\n",
       "  'disney': 2,\n",
       "  'or': 3,\n",
       "  'wells': 2,\n",
       "  'fargo': 2,\n",
       "  'are': 2,\n",
       "  'worth': 2,\n",
       "  'the': 8,\n",
       "  'a': 6,\n",
       "  'regains': 2,\n",
       "  'trillion': 6,\n",
       "  'market': 3,\n",
       "  'cap': 4,\n",
       "  'is': 4,\n",
       "  'track': 2,\n",
       "  'to': 5,\n",
       "  'end': 2,\n",
       "  'year': 2,\n",
       "  'as': 3,\n",
       "  'worlds': 2,\n",
       "  'most': 2,\n",
       "  'valuable': 2,\n",
       "  'company': 3,\n",
       "  'for': 8,\n",
       "  'th': 2,\n",
       "  'time': 4,\n",
       "  'row': 2,\n",
       "  'qualcomms': 2,\n",
       "  'x': 2,\n",
       "  'elite': 2,\n",
       "  'crushes': 2,\n",
       "  'arm': 2,\n",
       "  'holdings': 2,\n",
       "  'stocks': 2,\n",
       "  'surge': 2,\n",
       "  'again': 3,\n",
       "  'first': 4,\n",
       "  'since': 2,\n",
       "  'august': 2,\n",
       "  'apples': 5,\n",
       "  'closes': 2,\n",
       "  'above': 2,\n",
       "  'dow': 2,\n",
       "  'sees': 2,\n",
       "  'backtoback': 2,\n",
       "  'losses': 2,\n",
       "  'month': 3,\n",
       "  'retakes': 2,\n",
       "  'stock': 2,\n",
       "  'rallies': 2,\n",
       "  'highmarket': 2,\n",
       "  'tops': 2,\n",
       "  'charlie': 2,\n",
       "  'munger': 2,\n",
       "  'wished': 2,\n",
       "  'he': 2,\n",
       "  'backed': 2,\n",
       "  'amazon': 2,\n",
       "  'bet': 2,\n",
       "  'bigger': 2,\n",
       "  'said': 2,\n",
       "  'taking': 2,\n",
       "  'risks': 2,\n",
       "  'like': 2,\n",
       "  'elon': 2,\n",
       "  'musk': 2,\n",
       "  'would': 2,\n",
       "  'drive': 2,\n",
       "  'him': 2,\n",
       "  'nuts': 2,\n",
       "  'let': 2,\n",
       "  'reporters': 2,\n",
       "  'film': 2,\n",
       "  'inside': 2,\n",
       "  'its': 2,\n",
       "  'secretive': 2,\n",
       "  'chiptesting': 2,\n",
       "  'lab': 2,\n",
       "  'take': 2,\n",
       "  'look': 2,\n",
       "  'cannot': 3,\n",
       "  'risk': 3,\n",
       "  'improving': 3,\n",
       "  'iphone': 6,\n",
       "  'russian': 2,\n",
       "  'hackers': 2,\n",
       "  'lawsuit': 2,\n",
       "  'reveals': 2,\n",
       "  'weaknesses': 2,\n",
       "  'ios': 3,\n",
       "  'universe': 2,\n",
       "  'according': 2,\n",
       "  'coperni': 2,\n",
       "  'evian': 2,\n",
       "  'water': 2,\n",
       "  'ai': 2,\n",
       "  'tech': 2,\n",
       "  'race': 2,\n",
       "  'design': 2,\n",
       "  'surprise': 2,\n",
       "  'element': 2,\n",
       "  'insider': 2,\n",
       "  'claims': 2,\n",
       "  'why': 2,\n",
       "  'you': 3,\n",
       "  'should': 3,\n",
       "  'wait': 3,\n",
       "  'new': 5,\n",
       "  'macbook': 3,\n",
       "  'air': 3,\n",
       "  'testing': 2,\n",
       "  'major': 2,\n",
       "  'input': 2,\n",
       "  'method': 2,\n",
       "  'munbyns': 2,\n",
       "  'label': 2,\n",
       "  'printers': 2,\n",
       "  'offer': 2,\n",
       "  'bluetooth': 2,\n",
       "  'airprint': 2,\n",
       "  'suddenly': 2,\n",
       "  'releases': 2,\n",
       "  'urgent': 2,\n",
       "  'update': 2,\n",
       "  'all': 2},\n",
       " {'us': 2,\n",
       "  'senator': 1,\n",
       "  'ron': 1,\n",
       "  'wyden': 1,\n",
       "  'warned': 1,\n",
       "  'that': 3,\n",
       "  'foreign': 1,\n",
       "  'governments': 1,\n",
       "  'are': 2,\n",
       "  'spying': 1,\n",
       "  'on': 4,\n",
       "  'smartphone': 1,\n",
       "  'users': 1,\n",
       "  'by': 3,\n",
       "  'compelling': 1,\n",
       "  'apple': 8,\n",
       "  'and': 6,\n",
       "  'google': 1,\n",
       "  'to': 8,\n",
       "  'turn': 1,\n",
       "  'over': 1,\n",
       "  'push': 1,\n",
       "  'notification': 1,\n",
       "  'records': 1,\n",
       "  'apples': 9,\n",
       "  'stock': 3,\n",
       "  'price': 2,\n",
       "  'has': 3,\n",
       "  'surged': 2,\n",
       "  'almost': 2,\n",
       "  'this': 3,\n",
       "  'year': 2,\n",
       "  'nearrecord': 2,\n",
       "  'highs': 2,\n",
       "  'boosting': 2,\n",
       "  'the': 14,\n",
       "  'value': 3,\n",
       "  'of': 7,\n",
       "  'berkshire': 2,\n",
       "  'hathaways': 2,\n",
       "  'stake': 3,\n",
       "  'eyewatering': 2,\n",
       "  'levels': 2,\n",
       "  'market': 2,\n",
       "  'cap': 2,\n",
       "  'passed': 2,\n",
       "  'trillion': 4,\n",
       "  'threshold': 2,\n",
       "  'for': 8,\n",
       "  'first': 4,\n",
       "  'time': 5,\n",
       "  'since': 2,\n",
       "  'august': 2,\n",
       "  'tuesday': 4,\n",
       "  'after': 2,\n",
       "  'its': 3,\n",
       "  'shares': 2,\n",
       "  'climbed': 2,\n",
       "  'executives': 2,\n",
       "  'at': 2,\n",
       "  'announced': 2,\n",
       "  'october': 2,\n",
       "  'new': 4,\n",
       "  'computers': 2,\n",
       "  'will': 2,\n",
       "  'get': 3,\n",
       "  'updated': 2,\n",
       "  'processors': 2,\n",
       "  'is': 8,\n",
       "  'up': 2,\n",
       "  'so': 2,\n",
       "  'far': 2,\n",
       "  'in': 8,\n",
       "  'but': 3,\n",
       "  'other': 2,\n",
       "  'big': 2,\n",
       "  'tech': 3,\n",
       "  'stocks': 4,\n",
       "  'have': 2,\n",
       "  'enjoyed': 2,\n",
       "  'bigger': 2,\n",
       "  'gains': 3,\n",
       "  'officially': 2,\n",
       "  'crossed': 2,\n",
       "  'mark': 2,\n",
       "  'june': 2,\n",
       "  'briefly': 2,\n",
       "  'touched': 2,\n",
       "  'back': 2,\n",
       "  'december': 2,\n",
       "  'during': 2,\n",
       "  'intraday': 2,\n",
       "  'trading': 2,\n",
       "  'a': 9,\n",
       "  'with': 3,\n",
       "  'finished': 2,\n",
       "  'mostly': 2,\n",
       "  'lower': 2,\n",
       "  'dow': 2,\n",
       "  'logging': 2,\n",
       "  'backtoback': 2,\n",
       "  'losses': 2,\n",
       "  'nearly': 2,\n",
       "  'month': 2,\n",
       "  'while': 2,\n",
       "  'rally': 2,\n",
       "  'megacap': 2,\n",
       "  'technology': 2,\n",
       "  'helped': 2,\n",
       "  'boost': 2,\n",
       "  'nasdaq': 2,\n",
       "  'incs': 2,\n",
       "  'aapl': 2,\n",
       "  'saw': 2,\n",
       "  'it': 5,\n",
       "  'end': 2,\n",
       "  'session': 2,\n",
       "  'm': 2,\n",
       "  'worlds': 2,\n",
       "  'most': 2,\n",
       "  'valuable': 2,\n",
       "  'company': 2,\n",
       "  'expected': 2,\n",
       "  'bring': 2,\n",
       "  'more': 4,\n",
       "  'than': 2,\n",
       "  'billion': 2,\n",
       "  'profit': 2,\n",
       "  'quarter': 2,\n",
       "  'warren': 2,\n",
       "  'buffetts': 2,\n",
       "  'late': 2,\n",
       "  'business': 2,\n",
       "  'partner': 2,\n",
       "  'said': 2,\n",
       "  'he': 2,\n",
       "  'was': 2,\n",
       "  'jeff': 2,\n",
       "  'bezos': 2,\n",
       "  'fan': 2,\n",
       "  'wanted': 2,\n",
       "  'an': 2,\n",
       "  'even': 2,\n",
       "  'larger': 2,\n",
       "  'hailed': 2,\n",
       "  'musk': 2,\n",
       "  'as': 4,\n",
       "  'talented': 2,\n",
       "  'riskloving': 2,\n",
       "  'famously': 2,\n",
       "  'secretive': 2,\n",
       "  'about': 2,\n",
       "  'rooms': 2,\n",
       "  'where': 2,\n",
       "  'employees': 2,\n",
       "  'work': 2,\n",
       "  'upcoming': 2,\n",
       "  'products': 2,\n",
       "  'iphone': 6,\n",
       "  'how': 4,\n",
       "  'can': 3,\n",
       "  'ensure': 3,\n",
       "  's': 3,\n",
       "  'does': 3,\n",
       "  'not': 3,\n",
       "  'attract': 3,\n",
       "  'consumers': 3,\n",
       "  'away': 3,\n",
       "  'from': 3,\n",
       "  'expensive': 3,\n",
       "  'pro': 3,\n",
       "  'moscow': 2,\n",
       "  'legal': 2,\n",
       "  'battle': 2,\n",
       "  'strongly': 2,\n",
       "  'indicates': 2,\n",
       "  'phone': 2,\n",
       "  'forensics': 2,\n",
       "  'tools': 2,\n",
       "  'used': 2,\n",
       "  'both': 2,\n",
       "  'fbi': 2,\n",
       "  'fsb': 2,\n",
       "  'exploiting': 2,\n",
       "  'security': 2,\n",
       "  'loopholes': 2,\n",
       "  'operating': 2,\n",
       "  'system': 2,\n",
       "  'ai': 2,\n",
       "  'one': 3,\n",
       "  'biggest': 2,\n",
       "  'revolutions': 2,\n",
       "  'our': 2,\n",
       "  'long': 2,\n",
       "  'we': 2,\n",
       "  'use': 3,\n",
       "  'right': 2,\n",
       "  'way': 2,\n",
       "  'coperni': 2,\n",
       "  'cofounder': 2,\n",
       "  'arnaud': 2,\n",
       "  'vaillant': 2,\n",
       "  'desire': 2,\n",
       "  'take': 2,\n",
       "  'control': 2,\n",
       "  'key': 2,\n",
       "  'part': 2,\n",
       "  'continuing': 2,\n",
       "  'apace': 2,\n",
       "  'report': 2,\n",
       "  'says': 2,\n",
       "  'if': 3,\n",
       "  'youre': 3,\n",
       "  'looking': 3,\n",
       "  'consumer': 3,\n",
       "  'laptop': 3,\n",
       "  'you': 3,\n",
       "  'might': 3,\n",
       "  'want': 3,\n",
       "  'hold': 3,\n",
       "  'off': 3,\n",
       "  'few': 3,\n",
       "  'months': 3,\n",
       "  'next': 4,\n",
       "  'macbook': 3,\n",
       "  'air': 3,\n",
       "  'bringing': 2,\n",
       "  'touch': 2,\n",
       "  'many': 2,\n",
       "  'small': 2,\n",
       "  'businesses': 2,\n",
       "  'could': 2,\n",
       "  'these': 2,\n",
       "  'munbyn': 2,\n",
       "  'label': 2,\n",
       "  'printers': 2,\n",
       "  'shipping': 2,\n",
       "  'or': 2,\n",
       "  'promotional': 2,\n",
       "  'labels': 2,\n",
       "  'there': 2,\n",
       "  'choice': 2,\n",
       "  'usb': 2,\n",
       "  'bluetooth': 2,\n",
       "  'airprint': 2,\n",
       "  'connections': 2,\n",
       "  'update': 2,\n",
       "  'just': 2,\n",
       "  'landed': 2,\n",
       "  'heres': 2,\n",
       "  'whats': 2,\n",
       "  'who': 2})"
      ]
     },
     "execution_count": 149,
     "metadata": {},
     "output_type": "execute_result"
    }
   ],
   "source": [
    "#Fonction qui transforme une colonne de dictionnaires d'un dataframe en un seul dictionnaire\n",
    "def combine_dictionaries(df,df_column_name):\n",
    "    combined_dict={}\n",
    "    column_index=df.columns.get_loc(str(df_column_name))\n",
    "    for i in range(len(df)):\n",
    "        temp_dictionary=df.iloc[i,int(column_index)]\n",
    "\n",
    "        for key, value in temp_dictionary.items():\n",
    "            if key not in combined_dict:\n",
    "                combined_dict[key]=value\n",
    "            else:\n",
    "                combined_dict[key]+=1\n",
    "    return combined_dict\n",
    "\n",
    "combined_dict_text=combine_dictionaries(df,'Most_common_text')\n",
    "combined_dict_description= combine_dictionaries(df, 'Most_common_description')\n",
    "\n",
    "combined_dict_text, combined_dict_description\n"
   ]
  },
  {
   "cell_type": "code",
   "execution_count": 145,
   "metadata": {},
   "outputs": [
    {
     "data": {
      "application/vnd.plotly.v1+json": {
       "config": {
        "plotlyServerURL": "https://plot.ly"
       },
       "data": [
        {
         "alignmentgroup": "True",
         "hovertemplate": "Mots=%{x}<br>Fréquences=%{y}<extra></extra>",
         "legendgroup": "",
         "marker": {
          "color": "#636efa",
          "pattern": {
           "shape": ""
          }
         },
         "name": "",
         "offsetgroup": "",
         "orientation": "v",
         "showlegend": false,
         "textposition": "auto",
         "type": "bar",
         "x": [
          "apple",
          "the",
          "for",
          "in",
          "a",
          "trillion",
          "iphone",
          "to",
          "apples",
          "new"
         ],
         "xaxis": "x",
         "y": [
          16,
          8,
          8,
          6,
          6,
          6,
          6,
          5,
          5,
          5
         ],
         "yaxis": "y"
        }
       ],
       "layout": {
        "barmode": "relative",
        "legend": {
         "tracegroupgap": 0
        },
        "template": {
         "data": {
          "bar": [
           {
            "error_x": {
             "color": "#2a3f5f"
            },
            "error_y": {
             "color": "#2a3f5f"
            },
            "marker": {
             "line": {
              "color": "#E5ECF6",
              "width": 0.5
             },
             "pattern": {
              "fillmode": "overlay",
              "size": 10,
              "solidity": 0.2
             }
            },
            "type": "bar"
           }
          ],
          "barpolar": [
           {
            "marker": {
             "line": {
              "color": "#E5ECF6",
              "width": 0.5
             },
             "pattern": {
              "fillmode": "overlay",
              "size": 10,
              "solidity": 0.2
             }
            },
            "type": "barpolar"
           }
          ],
          "carpet": [
           {
            "aaxis": {
             "endlinecolor": "#2a3f5f",
             "gridcolor": "white",
             "linecolor": "white",
             "minorgridcolor": "white",
             "startlinecolor": "#2a3f5f"
            },
            "baxis": {
             "endlinecolor": "#2a3f5f",
             "gridcolor": "white",
             "linecolor": "white",
             "minorgridcolor": "white",
             "startlinecolor": "#2a3f5f"
            },
            "type": "carpet"
           }
          ],
          "choropleth": [
           {
            "colorbar": {
             "outlinewidth": 0,
             "ticks": ""
            },
            "type": "choropleth"
           }
          ],
          "contour": [
           {
            "colorbar": {
             "outlinewidth": 0,
             "ticks": ""
            },
            "colorscale": [
             [
              0,
              "#0d0887"
             ],
             [
              0.1111111111111111,
              "#46039f"
             ],
             [
              0.2222222222222222,
              "#7201a8"
             ],
             [
              0.3333333333333333,
              "#9c179e"
             ],
             [
              0.4444444444444444,
              "#bd3786"
             ],
             [
              0.5555555555555556,
              "#d8576b"
             ],
             [
              0.6666666666666666,
              "#ed7953"
             ],
             [
              0.7777777777777778,
              "#fb9f3a"
             ],
             [
              0.8888888888888888,
              "#fdca26"
             ],
             [
              1,
              "#f0f921"
             ]
            ],
            "type": "contour"
           }
          ],
          "contourcarpet": [
           {
            "colorbar": {
             "outlinewidth": 0,
             "ticks": ""
            },
            "type": "contourcarpet"
           }
          ],
          "heatmap": [
           {
            "colorbar": {
             "outlinewidth": 0,
             "ticks": ""
            },
            "colorscale": [
             [
              0,
              "#0d0887"
             ],
             [
              0.1111111111111111,
              "#46039f"
             ],
             [
              0.2222222222222222,
              "#7201a8"
             ],
             [
              0.3333333333333333,
              "#9c179e"
             ],
             [
              0.4444444444444444,
              "#bd3786"
             ],
             [
              0.5555555555555556,
              "#d8576b"
             ],
             [
              0.6666666666666666,
              "#ed7953"
             ],
             [
              0.7777777777777778,
              "#fb9f3a"
             ],
             [
              0.8888888888888888,
              "#fdca26"
             ],
             [
              1,
              "#f0f921"
             ]
            ],
            "type": "heatmap"
           }
          ],
          "heatmapgl": [
           {
            "colorbar": {
             "outlinewidth": 0,
             "ticks": ""
            },
            "colorscale": [
             [
              0,
              "#0d0887"
             ],
             [
              0.1111111111111111,
              "#46039f"
             ],
             [
              0.2222222222222222,
              "#7201a8"
             ],
             [
              0.3333333333333333,
              "#9c179e"
             ],
             [
              0.4444444444444444,
              "#bd3786"
             ],
             [
              0.5555555555555556,
              "#d8576b"
             ],
             [
              0.6666666666666666,
              "#ed7953"
             ],
             [
              0.7777777777777778,
              "#fb9f3a"
             ],
             [
              0.8888888888888888,
              "#fdca26"
             ],
             [
              1,
              "#f0f921"
             ]
            ],
            "type": "heatmapgl"
           }
          ],
          "histogram": [
           {
            "marker": {
             "pattern": {
              "fillmode": "overlay",
              "size": 10,
              "solidity": 0.2
             }
            },
            "type": "histogram"
           }
          ],
          "histogram2d": [
           {
            "colorbar": {
             "outlinewidth": 0,
             "ticks": ""
            },
            "colorscale": [
             [
              0,
              "#0d0887"
             ],
             [
              0.1111111111111111,
              "#46039f"
             ],
             [
              0.2222222222222222,
              "#7201a8"
             ],
             [
              0.3333333333333333,
              "#9c179e"
             ],
             [
              0.4444444444444444,
              "#bd3786"
             ],
             [
              0.5555555555555556,
              "#d8576b"
             ],
             [
              0.6666666666666666,
              "#ed7953"
             ],
             [
              0.7777777777777778,
              "#fb9f3a"
             ],
             [
              0.8888888888888888,
              "#fdca26"
             ],
             [
              1,
              "#f0f921"
             ]
            ],
            "type": "histogram2d"
           }
          ],
          "histogram2dcontour": [
           {
            "colorbar": {
             "outlinewidth": 0,
             "ticks": ""
            },
            "colorscale": [
             [
              0,
              "#0d0887"
             ],
             [
              0.1111111111111111,
              "#46039f"
             ],
             [
              0.2222222222222222,
              "#7201a8"
             ],
             [
              0.3333333333333333,
              "#9c179e"
             ],
             [
              0.4444444444444444,
              "#bd3786"
             ],
             [
              0.5555555555555556,
              "#d8576b"
             ],
             [
              0.6666666666666666,
              "#ed7953"
             ],
             [
              0.7777777777777778,
              "#fb9f3a"
             ],
             [
              0.8888888888888888,
              "#fdca26"
             ],
             [
              1,
              "#f0f921"
             ]
            ],
            "type": "histogram2dcontour"
           }
          ],
          "mesh3d": [
           {
            "colorbar": {
             "outlinewidth": 0,
             "ticks": ""
            },
            "type": "mesh3d"
           }
          ],
          "parcoords": [
           {
            "line": {
             "colorbar": {
              "outlinewidth": 0,
              "ticks": ""
             }
            },
            "type": "parcoords"
           }
          ],
          "pie": [
           {
            "automargin": true,
            "type": "pie"
           }
          ],
          "scatter": [
           {
            "fillpattern": {
             "fillmode": "overlay",
             "size": 10,
             "solidity": 0.2
            },
            "type": "scatter"
           }
          ],
          "scatter3d": [
           {
            "line": {
             "colorbar": {
              "outlinewidth": 0,
              "ticks": ""
             }
            },
            "marker": {
             "colorbar": {
              "outlinewidth": 0,
              "ticks": ""
             }
            },
            "type": "scatter3d"
           }
          ],
          "scattercarpet": [
           {
            "marker": {
             "colorbar": {
              "outlinewidth": 0,
              "ticks": ""
             }
            },
            "type": "scattercarpet"
           }
          ],
          "scattergeo": [
           {
            "marker": {
             "colorbar": {
              "outlinewidth": 0,
              "ticks": ""
             }
            },
            "type": "scattergeo"
           }
          ],
          "scattergl": [
           {
            "marker": {
             "colorbar": {
              "outlinewidth": 0,
              "ticks": ""
             }
            },
            "type": "scattergl"
           }
          ],
          "scattermapbox": [
           {
            "marker": {
             "colorbar": {
              "outlinewidth": 0,
              "ticks": ""
             }
            },
            "type": "scattermapbox"
           }
          ],
          "scatterpolar": [
           {
            "marker": {
             "colorbar": {
              "outlinewidth": 0,
              "ticks": ""
             }
            },
            "type": "scatterpolar"
           }
          ],
          "scatterpolargl": [
           {
            "marker": {
             "colorbar": {
              "outlinewidth": 0,
              "ticks": ""
             }
            },
            "type": "scatterpolargl"
           }
          ],
          "scatterternary": [
           {
            "marker": {
             "colorbar": {
              "outlinewidth": 0,
              "ticks": ""
             }
            },
            "type": "scatterternary"
           }
          ],
          "surface": [
           {
            "colorbar": {
             "outlinewidth": 0,
             "ticks": ""
            },
            "colorscale": [
             [
              0,
              "#0d0887"
             ],
             [
              0.1111111111111111,
              "#46039f"
             ],
             [
              0.2222222222222222,
              "#7201a8"
             ],
             [
              0.3333333333333333,
              "#9c179e"
             ],
             [
              0.4444444444444444,
              "#bd3786"
             ],
             [
              0.5555555555555556,
              "#d8576b"
             ],
             [
              0.6666666666666666,
              "#ed7953"
             ],
             [
              0.7777777777777778,
              "#fb9f3a"
             ],
             [
              0.8888888888888888,
              "#fdca26"
             ],
             [
              1,
              "#f0f921"
             ]
            ],
            "type": "surface"
           }
          ],
          "table": [
           {
            "cells": {
             "fill": {
              "color": "#EBF0F8"
             },
             "line": {
              "color": "white"
             }
            },
            "header": {
             "fill": {
              "color": "#C8D4E3"
             },
             "line": {
              "color": "white"
             }
            },
            "type": "table"
           }
          ]
         },
         "layout": {
          "annotationdefaults": {
           "arrowcolor": "#2a3f5f",
           "arrowhead": 0,
           "arrowwidth": 1
          },
          "autotypenumbers": "strict",
          "coloraxis": {
           "colorbar": {
            "outlinewidth": 0,
            "ticks": ""
           }
          },
          "colorscale": {
           "diverging": [
            [
             0,
             "#8e0152"
            ],
            [
             0.1,
             "#c51b7d"
            ],
            [
             0.2,
             "#de77ae"
            ],
            [
             0.3,
             "#f1b6da"
            ],
            [
             0.4,
             "#fde0ef"
            ],
            [
             0.5,
             "#f7f7f7"
            ],
            [
             0.6,
             "#e6f5d0"
            ],
            [
             0.7,
             "#b8e186"
            ],
            [
             0.8,
             "#7fbc41"
            ],
            [
             0.9,
             "#4d9221"
            ],
            [
             1,
             "#276419"
            ]
           ],
           "sequential": [
            [
             0,
             "#0d0887"
            ],
            [
             0.1111111111111111,
             "#46039f"
            ],
            [
             0.2222222222222222,
             "#7201a8"
            ],
            [
             0.3333333333333333,
             "#9c179e"
            ],
            [
             0.4444444444444444,
             "#bd3786"
            ],
            [
             0.5555555555555556,
             "#d8576b"
            ],
            [
             0.6666666666666666,
             "#ed7953"
            ],
            [
             0.7777777777777778,
             "#fb9f3a"
            ],
            [
             0.8888888888888888,
             "#fdca26"
            ],
            [
             1,
             "#f0f921"
            ]
           ],
           "sequentialminus": [
            [
             0,
             "#0d0887"
            ],
            [
             0.1111111111111111,
             "#46039f"
            ],
            [
             0.2222222222222222,
             "#7201a8"
            ],
            [
             0.3333333333333333,
             "#9c179e"
            ],
            [
             0.4444444444444444,
             "#bd3786"
            ],
            [
             0.5555555555555556,
             "#d8576b"
            ],
            [
             0.6666666666666666,
             "#ed7953"
            ],
            [
             0.7777777777777778,
             "#fb9f3a"
            ],
            [
             0.8888888888888888,
             "#fdca26"
            ],
            [
             1,
             "#f0f921"
            ]
           ]
          },
          "colorway": [
           "#636efa",
           "#EF553B",
           "#00cc96",
           "#ab63fa",
           "#FFA15A",
           "#19d3f3",
           "#FF6692",
           "#B6E880",
           "#FF97FF",
           "#FECB52"
          ],
          "font": {
           "color": "#2a3f5f"
          },
          "geo": {
           "bgcolor": "white",
           "lakecolor": "white",
           "landcolor": "#E5ECF6",
           "showlakes": true,
           "showland": true,
           "subunitcolor": "white"
          },
          "hoverlabel": {
           "align": "left"
          },
          "hovermode": "closest",
          "mapbox": {
           "style": "light"
          },
          "paper_bgcolor": "white",
          "plot_bgcolor": "#E5ECF6",
          "polar": {
           "angularaxis": {
            "gridcolor": "white",
            "linecolor": "white",
            "ticks": ""
           },
           "bgcolor": "#E5ECF6",
           "radialaxis": {
            "gridcolor": "white",
            "linecolor": "white",
            "ticks": ""
           }
          },
          "scene": {
           "xaxis": {
            "backgroundcolor": "#E5ECF6",
            "gridcolor": "white",
            "gridwidth": 2,
            "linecolor": "white",
            "showbackground": true,
            "ticks": "",
            "zerolinecolor": "white"
           },
           "yaxis": {
            "backgroundcolor": "#E5ECF6",
            "gridcolor": "white",
            "gridwidth": 2,
            "linecolor": "white",
            "showbackground": true,
            "ticks": "",
            "zerolinecolor": "white"
           },
           "zaxis": {
            "backgroundcolor": "#E5ECF6",
            "gridcolor": "white",
            "gridwidth": 2,
            "linecolor": "white",
            "showbackground": true,
            "ticks": "",
            "zerolinecolor": "white"
           }
          },
          "shapedefaults": {
           "line": {
            "color": "#2a3f5f"
           }
          },
          "ternary": {
           "aaxis": {
            "gridcolor": "white",
            "linecolor": "white",
            "ticks": ""
           },
           "baxis": {
            "gridcolor": "white",
            "linecolor": "white",
            "ticks": ""
           },
           "bgcolor": "#E5ECF6",
           "caxis": {
            "gridcolor": "white",
            "linecolor": "white",
            "ticks": ""
           }
          },
          "title": {
           "x": 0.05
          },
          "xaxis": {
           "automargin": true,
           "gridcolor": "white",
           "linecolor": "white",
           "ticks": "",
           "title": {
            "standoff": 15
           },
           "zerolinecolor": "white",
           "zerolinewidth": 2
          },
          "yaxis": {
           "automargin": true,
           "gridcolor": "white",
           "linecolor": "white",
           "ticks": "",
           "title": {
            "standoff": 15
           },
           "zerolinecolor": "white",
           "zerolinewidth": 2
          }
         }
        },
        "title": {
         "text": "Top 10 des mots les plus fréquents dans les titres d'articles récupérés"
        },
        "xaxis": {
         "anchor": "y",
         "domain": [
          0,
          1
         ],
         "title": {
          "text": "Mots"
         }
        },
        "yaxis": {
         "anchor": "x",
         "domain": [
          0,
          1
         ],
         "title": {
          "text": "Fréquences"
         }
        }
       }
      }
     },
     "metadata": {},
     "output_type": "display_data"
    }
   ],
   "source": [
    "import plotly.express as px\n",
    "from collections import Counter\n",
    "\n",
    "sorted_text_dictionary=sorted(combined_dict_text.items(), key= lambda item:item[1], reverse=True)[:10]\n",
    "\n",
    "keys=[key for key, value in sorted_text_dictionary]\n",
    "values=[value for key, value in sorted_text_dictionary]\n",
    "\n",
    "\n",
    "fig = px.bar(x=keys, y=values, title=\"Top 10 des mots les plus fréquents dans les titres d'articles récupérés\", labels={'x':'Mots', 'y':'Fréquences'})\n",
    "fig.show()\n"
   ]
  },
  {
   "cell_type": "code",
   "execution_count": 146,
   "metadata": {},
   "outputs": [
    {
     "data": {
      "application/vnd.plotly.v1+json": {
       "config": {
        "plotlyServerURL": "https://plot.ly"
       },
       "data": [
        {
         "alignmentgroup": "True",
         "hovertemplate": "Mots=%{x}<br>Fréquences=%{y}<extra></extra>",
         "legendgroup": "",
         "marker": {
          "color": "#636efa",
          "pattern": {
           "shape": ""
          }
         },
         "name": "",
         "offsetgroup": "",
         "orientation": "v",
         "showlegend": false,
         "textposition": "auto",
         "type": "bar",
         "x": [
          "the",
          "apples",
          "a",
          "apple",
          "to",
          "for",
          "is",
          "in",
          "of",
          "and"
         ],
         "xaxis": "x",
         "y": [
          14,
          9,
          9,
          8,
          8,
          8,
          8,
          8,
          7,
          6
         ],
         "yaxis": "y"
        }
       ],
       "layout": {
        "barmode": "relative",
        "legend": {
         "tracegroupgap": 0
        },
        "template": {
         "data": {
          "bar": [
           {
            "error_x": {
             "color": "#2a3f5f"
            },
            "error_y": {
             "color": "#2a3f5f"
            },
            "marker": {
             "line": {
              "color": "#E5ECF6",
              "width": 0.5
             },
             "pattern": {
              "fillmode": "overlay",
              "size": 10,
              "solidity": 0.2
             }
            },
            "type": "bar"
           }
          ],
          "barpolar": [
           {
            "marker": {
             "line": {
              "color": "#E5ECF6",
              "width": 0.5
             },
             "pattern": {
              "fillmode": "overlay",
              "size": 10,
              "solidity": 0.2
             }
            },
            "type": "barpolar"
           }
          ],
          "carpet": [
           {
            "aaxis": {
             "endlinecolor": "#2a3f5f",
             "gridcolor": "white",
             "linecolor": "white",
             "minorgridcolor": "white",
             "startlinecolor": "#2a3f5f"
            },
            "baxis": {
             "endlinecolor": "#2a3f5f",
             "gridcolor": "white",
             "linecolor": "white",
             "minorgridcolor": "white",
             "startlinecolor": "#2a3f5f"
            },
            "type": "carpet"
           }
          ],
          "choropleth": [
           {
            "colorbar": {
             "outlinewidth": 0,
             "ticks": ""
            },
            "type": "choropleth"
           }
          ],
          "contour": [
           {
            "colorbar": {
             "outlinewidth": 0,
             "ticks": ""
            },
            "colorscale": [
             [
              0,
              "#0d0887"
             ],
             [
              0.1111111111111111,
              "#46039f"
             ],
             [
              0.2222222222222222,
              "#7201a8"
             ],
             [
              0.3333333333333333,
              "#9c179e"
             ],
             [
              0.4444444444444444,
              "#bd3786"
             ],
             [
              0.5555555555555556,
              "#d8576b"
             ],
             [
              0.6666666666666666,
              "#ed7953"
             ],
             [
              0.7777777777777778,
              "#fb9f3a"
             ],
             [
              0.8888888888888888,
              "#fdca26"
             ],
             [
              1,
              "#f0f921"
             ]
            ],
            "type": "contour"
           }
          ],
          "contourcarpet": [
           {
            "colorbar": {
             "outlinewidth": 0,
             "ticks": ""
            },
            "type": "contourcarpet"
           }
          ],
          "heatmap": [
           {
            "colorbar": {
             "outlinewidth": 0,
             "ticks": ""
            },
            "colorscale": [
             [
              0,
              "#0d0887"
             ],
             [
              0.1111111111111111,
              "#46039f"
             ],
             [
              0.2222222222222222,
              "#7201a8"
             ],
             [
              0.3333333333333333,
              "#9c179e"
             ],
             [
              0.4444444444444444,
              "#bd3786"
             ],
             [
              0.5555555555555556,
              "#d8576b"
             ],
             [
              0.6666666666666666,
              "#ed7953"
             ],
             [
              0.7777777777777778,
              "#fb9f3a"
             ],
             [
              0.8888888888888888,
              "#fdca26"
             ],
             [
              1,
              "#f0f921"
             ]
            ],
            "type": "heatmap"
           }
          ],
          "heatmapgl": [
           {
            "colorbar": {
             "outlinewidth": 0,
             "ticks": ""
            },
            "colorscale": [
             [
              0,
              "#0d0887"
             ],
             [
              0.1111111111111111,
              "#46039f"
             ],
             [
              0.2222222222222222,
              "#7201a8"
             ],
             [
              0.3333333333333333,
              "#9c179e"
             ],
             [
              0.4444444444444444,
              "#bd3786"
             ],
             [
              0.5555555555555556,
              "#d8576b"
             ],
             [
              0.6666666666666666,
              "#ed7953"
             ],
             [
              0.7777777777777778,
              "#fb9f3a"
             ],
             [
              0.8888888888888888,
              "#fdca26"
             ],
             [
              1,
              "#f0f921"
             ]
            ],
            "type": "heatmapgl"
           }
          ],
          "histogram": [
           {
            "marker": {
             "pattern": {
              "fillmode": "overlay",
              "size": 10,
              "solidity": 0.2
             }
            },
            "type": "histogram"
           }
          ],
          "histogram2d": [
           {
            "colorbar": {
             "outlinewidth": 0,
             "ticks": ""
            },
            "colorscale": [
             [
              0,
              "#0d0887"
             ],
             [
              0.1111111111111111,
              "#46039f"
             ],
             [
              0.2222222222222222,
              "#7201a8"
             ],
             [
              0.3333333333333333,
              "#9c179e"
             ],
             [
              0.4444444444444444,
              "#bd3786"
             ],
             [
              0.5555555555555556,
              "#d8576b"
             ],
             [
              0.6666666666666666,
              "#ed7953"
             ],
             [
              0.7777777777777778,
              "#fb9f3a"
             ],
             [
              0.8888888888888888,
              "#fdca26"
             ],
             [
              1,
              "#f0f921"
             ]
            ],
            "type": "histogram2d"
           }
          ],
          "histogram2dcontour": [
           {
            "colorbar": {
             "outlinewidth": 0,
             "ticks": ""
            },
            "colorscale": [
             [
              0,
              "#0d0887"
             ],
             [
              0.1111111111111111,
              "#46039f"
             ],
             [
              0.2222222222222222,
              "#7201a8"
             ],
             [
              0.3333333333333333,
              "#9c179e"
             ],
             [
              0.4444444444444444,
              "#bd3786"
             ],
             [
              0.5555555555555556,
              "#d8576b"
             ],
             [
              0.6666666666666666,
              "#ed7953"
             ],
             [
              0.7777777777777778,
              "#fb9f3a"
             ],
             [
              0.8888888888888888,
              "#fdca26"
             ],
             [
              1,
              "#f0f921"
             ]
            ],
            "type": "histogram2dcontour"
           }
          ],
          "mesh3d": [
           {
            "colorbar": {
             "outlinewidth": 0,
             "ticks": ""
            },
            "type": "mesh3d"
           }
          ],
          "parcoords": [
           {
            "line": {
             "colorbar": {
              "outlinewidth": 0,
              "ticks": ""
             }
            },
            "type": "parcoords"
           }
          ],
          "pie": [
           {
            "automargin": true,
            "type": "pie"
           }
          ],
          "scatter": [
           {
            "fillpattern": {
             "fillmode": "overlay",
             "size": 10,
             "solidity": 0.2
            },
            "type": "scatter"
           }
          ],
          "scatter3d": [
           {
            "line": {
             "colorbar": {
              "outlinewidth": 0,
              "ticks": ""
             }
            },
            "marker": {
             "colorbar": {
              "outlinewidth": 0,
              "ticks": ""
             }
            },
            "type": "scatter3d"
           }
          ],
          "scattercarpet": [
           {
            "marker": {
             "colorbar": {
              "outlinewidth": 0,
              "ticks": ""
             }
            },
            "type": "scattercarpet"
           }
          ],
          "scattergeo": [
           {
            "marker": {
             "colorbar": {
              "outlinewidth": 0,
              "ticks": ""
             }
            },
            "type": "scattergeo"
           }
          ],
          "scattergl": [
           {
            "marker": {
             "colorbar": {
              "outlinewidth": 0,
              "ticks": ""
             }
            },
            "type": "scattergl"
           }
          ],
          "scattermapbox": [
           {
            "marker": {
             "colorbar": {
              "outlinewidth": 0,
              "ticks": ""
             }
            },
            "type": "scattermapbox"
           }
          ],
          "scatterpolar": [
           {
            "marker": {
             "colorbar": {
              "outlinewidth": 0,
              "ticks": ""
             }
            },
            "type": "scatterpolar"
           }
          ],
          "scatterpolargl": [
           {
            "marker": {
             "colorbar": {
              "outlinewidth": 0,
              "ticks": ""
             }
            },
            "type": "scatterpolargl"
           }
          ],
          "scatterternary": [
           {
            "marker": {
             "colorbar": {
              "outlinewidth": 0,
              "ticks": ""
             }
            },
            "type": "scatterternary"
           }
          ],
          "surface": [
           {
            "colorbar": {
             "outlinewidth": 0,
             "ticks": ""
            },
            "colorscale": [
             [
              0,
              "#0d0887"
             ],
             [
              0.1111111111111111,
              "#46039f"
             ],
             [
              0.2222222222222222,
              "#7201a8"
             ],
             [
              0.3333333333333333,
              "#9c179e"
             ],
             [
              0.4444444444444444,
              "#bd3786"
             ],
             [
              0.5555555555555556,
              "#d8576b"
             ],
             [
              0.6666666666666666,
              "#ed7953"
             ],
             [
              0.7777777777777778,
              "#fb9f3a"
             ],
             [
              0.8888888888888888,
              "#fdca26"
             ],
             [
              1,
              "#f0f921"
             ]
            ],
            "type": "surface"
           }
          ],
          "table": [
           {
            "cells": {
             "fill": {
              "color": "#EBF0F8"
             },
             "line": {
              "color": "white"
             }
            },
            "header": {
             "fill": {
              "color": "#C8D4E3"
             },
             "line": {
              "color": "white"
             }
            },
            "type": "table"
           }
          ]
         },
         "layout": {
          "annotationdefaults": {
           "arrowcolor": "#2a3f5f",
           "arrowhead": 0,
           "arrowwidth": 1
          },
          "autotypenumbers": "strict",
          "coloraxis": {
           "colorbar": {
            "outlinewidth": 0,
            "ticks": ""
           }
          },
          "colorscale": {
           "diverging": [
            [
             0,
             "#8e0152"
            ],
            [
             0.1,
             "#c51b7d"
            ],
            [
             0.2,
             "#de77ae"
            ],
            [
             0.3,
             "#f1b6da"
            ],
            [
             0.4,
             "#fde0ef"
            ],
            [
             0.5,
             "#f7f7f7"
            ],
            [
             0.6,
             "#e6f5d0"
            ],
            [
             0.7,
             "#b8e186"
            ],
            [
             0.8,
             "#7fbc41"
            ],
            [
             0.9,
             "#4d9221"
            ],
            [
             1,
             "#276419"
            ]
           ],
           "sequential": [
            [
             0,
             "#0d0887"
            ],
            [
             0.1111111111111111,
             "#46039f"
            ],
            [
             0.2222222222222222,
             "#7201a8"
            ],
            [
             0.3333333333333333,
             "#9c179e"
            ],
            [
             0.4444444444444444,
             "#bd3786"
            ],
            [
             0.5555555555555556,
             "#d8576b"
            ],
            [
             0.6666666666666666,
             "#ed7953"
            ],
            [
             0.7777777777777778,
             "#fb9f3a"
            ],
            [
             0.8888888888888888,
             "#fdca26"
            ],
            [
             1,
             "#f0f921"
            ]
           ],
           "sequentialminus": [
            [
             0,
             "#0d0887"
            ],
            [
             0.1111111111111111,
             "#46039f"
            ],
            [
             0.2222222222222222,
             "#7201a8"
            ],
            [
             0.3333333333333333,
             "#9c179e"
            ],
            [
             0.4444444444444444,
             "#bd3786"
            ],
            [
             0.5555555555555556,
             "#d8576b"
            ],
            [
             0.6666666666666666,
             "#ed7953"
            ],
            [
             0.7777777777777778,
             "#fb9f3a"
            ],
            [
             0.8888888888888888,
             "#fdca26"
            ],
            [
             1,
             "#f0f921"
            ]
           ]
          },
          "colorway": [
           "#636efa",
           "#EF553B",
           "#00cc96",
           "#ab63fa",
           "#FFA15A",
           "#19d3f3",
           "#FF6692",
           "#B6E880",
           "#FF97FF",
           "#FECB52"
          ],
          "font": {
           "color": "#2a3f5f"
          },
          "geo": {
           "bgcolor": "white",
           "lakecolor": "white",
           "landcolor": "#E5ECF6",
           "showlakes": true,
           "showland": true,
           "subunitcolor": "white"
          },
          "hoverlabel": {
           "align": "left"
          },
          "hovermode": "closest",
          "mapbox": {
           "style": "light"
          },
          "paper_bgcolor": "white",
          "plot_bgcolor": "#E5ECF6",
          "polar": {
           "angularaxis": {
            "gridcolor": "white",
            "linecolor": "white",
            "ticks": ""
           },
           "bgcolor": "#E5ECF6",
           "radialaxis": {
            "gridcolor": "white",
            "linecolor": "white",
            "ticks": ""
           }
          },
          "scene": {
           "xaxis": {
            "backgroundcolor": "#E5ECF6",
            "gridcolor": "white",
            "gridwidth": 2,
            "linecolor": "white",
            "showbackground": true,
            "ticks": "",
            "zerolinecolor": "white"
           },
           "yaxis": {
            "backgroundcolor": "#E5ECF6",
            "gridcolor": "white",
            "gridwidth": 2,
            "linecolor": "white",
            "showbackground": true,
            "ticks": "",
            "zerolinecolor": "white"
           },
           "zaxis": {
            "backgroundcolor": "#E5ECF6",
            "gridcolor": "white",
            "gridwidth": 2,
            "linecolor": "white",
            "showbackground": true,
            "ticks": "",
            "zerolinecolor": "white"
           }
          },
          "shapedefaults": {
           "line": {
            "color": "#2a3f5f"
           }
          },
          "ternary": {
           "aaxis": {
            "gridcolor": "white",
            "linecolor": "white",
            "ticks": ""
           },
           "baxis": {
            "gridcolor": "white",
            "linecolor": "white",
            "ticks": ""
           },
           "bgcolor": "#E5ECF6",
           "caxis": {
            "gridcolor": "white",
            "linecolor": "white",
            "ticks": ""
           }
          },
          "title": {
           "x": 0.05
          },
          "xaxis": {
           "automargin": true,
           "gridcolor": "white",
           "linecolor": "white",
           "ticks": "",
           "title": {
            "standoff": 15
           },
           "zerolinecolor": "white",
           "zerolinewidth": 2
          },
          "yaxis": {
           "automargin": true,
           "gridcolor": "white",
           "linecolor": "white",
           "ticks": "",
           "title": {
            "standoff": 15
           },
           "zerolinecolor": "white",
           "zerolinewidth": 2
          }
         }
        },
        "title": {
         "text": "Top 10 des mots les plus fréquents dans les descriptions d'articles récupérés"
        },
        "xaxis": {
         "anchor": "y",
         "domain": [
          0,
          1
         ],
         "title": {
          "text": "Mots"
         }
        },
        "yaxis": {
         "anchor": "x",
         "domain": [
          0,
          1
         ],
         "title": {
          "text": "Fréquences"
         }
        }
       }
      }
     },
     "metadata": {},
     "output_type": "display_data"
    }
   ],
   "source": [
    "import plotly.express as px\n",
    "from collections import Counter\n",
    "\n",
    "sorted_description_dictionary=sorted(combined_dict_description.items(), key= lambda item:item[1], reverse=True)[:10]\n",
    "\n",
    "keys=[key for key, value in sorted_description_dictionary]\n",
    "values=[value for key, value in sorted_description_dictionary]\n",
    "\n",
    "\n",
    "fig = px.bar(x=keys, y=values, title=\"Top 10 des mots les plus fréquents dans les descriptions d'articles récupérés\", labels={'x':'Mots', 'y':'Fréquences'})\n",
    "fig.show()"
   ]
  },
  {
   "cell_type": "markdown",
   "metadata": {},
   "source": [
    "On observe aisément l'omniprésence de mots récurrents (stopwords) dans le corpus étudié. Nous allons donc les enlever et ensuite procéder à la deuxième étape de préparation du texte qui consistera en une lemmatisation et une analyse plus poussée."
   ]
  },
  {
   "cell_type": "code",
   "execution_count": 131,
   "metadata": {},
   "outputs": [
    {
     "name": "stdout",
     "output_type": "stream",
     "text": [
      "Defaulting to user installation because normal site-packages is not writeable\n",
      "Requirement already satisfied: nltk in /Users/dabadieraphael/Library/Python/3.9/lib/python/site-packages (3.8.1)\n",
      "Requirement already satisfied: regex>=2021.8.3 in /Users/dabadieraphael/Library/Python/3.9/lib/python/site-packages (from nltk) (2023.10.3)\n",
      "Requirement already satisfied: joblib in /Users/dabadieraphael/Library/Python/3.9/lib/python/site-packages (from nltk) (1.3.2)\n",
      "Requirement already satisfied: click in /Users/dabadieraphael/Library/Python/3.9/lib/python/site-packages (from nltk) (8.1.7)\n",
      "Requirement already satisfied: tqdm in /Users/dabadieraphael/Library/Python/3.9/lib/python/site-packages (from nltk) (4.66.1)\n",
      "\u001b[33mWARNING: You are using pip version 21.2.4; however, version 23.3.1 is available.\n",
      "You should consider upgrading via the '/Library/Developer/CommandLineTools/usr/bin/python3 -m pip install --upgrade pip' command.\u001b[0m\n",
      "Note: you may need to restart the kernel to use updated packages.\n"
     ]
    }
   ],
   "source": [
    "pip install nltk"
   ]
  },
  {
   "cell_type": "code",
   "execution_count": 132,
   "metadata": {},
   "outputs": [
    {
     "name": "stderr",
     "output_type": "stream",
     "text": [
      "[nltk_data] Downloading package stopwords to\n",
      "[nltk_data]     /Users/dabadieraphael/nltk_data...\n",
      "[nltk_data]   Package stopwords is already up-to-date!\n",
      "[nltk_data] Downloading package punkt to\n",
      "[nltk_data]     /Users/dabadieraphael/nltk_data...\n",
      "[nltk_data]   Package punkt is already up-to-date!\n",
      "[nltk_data] Downloading package genesis to\n",
      "[nltk_data]     /Users/dabadieraphael/nltk_data...\n",
      "[nltk_data]   Unzipping corpora/genesis.zip.\n",
      "[nltk_data] Downloading package wordnet to\n",
      "[nltk_data]     /Users/dabadieraphael/nltk_data...\n",
      "[nltk_data]   Package wordnet is already up-to-date!\n",
      "[nltk_data] Downloading package omw-1.4 to\n",
      "[nltk_data]     /Users/dabadieraphael/nltk_data...\n"
     ]
    },
    {
     "data": {
      "text/plain": [
       "True"
      ]
     },
     "execution_count": 132,
     "metadata": {},
     "output_type": "execute_result"
    }
   ],
   "source": [
    "import nltk\n",
    "nltk.download('stopwords')\n",
    "nltk.download('punkt')\n",
    "nltk.download('genesis')\n",
    "nltk.download('wordnet')\n",
    "nltk.download('omw-1.4')"
   ]
  },
  {
   "cell_type": "code",
   "execution_count": 136,
   "metadata": {},
   "outputs": [],
   "source": [
    "import nltk\n",
    "from nltk.corpus import stopwords\n",
    "from nltk.stem import WordNetLemmatizer\n",
    "from nltk.tokenize import word_tokenize\n",
    "\n",
    "stops = set(stopwords.words('english'))\n",
    "lemmatizer = WordNetLemmatizer()\n",
    "def clean_stopwords(text):\n",
    "    words = word_tokenize(text)\n",
    "    cleaned_text=[word for word in words if word not in stops]\n",
    "    return ' '.join(cleaned_text)\n",
    "\n",
    "df['Titre_cleaned_stopwords']=df['Titre_cleaned'].apply(clean_stopwords)\n",
    "df['Description_cleaned_stopwords']=df['Description_cleaned'].apply(clean_stopwords)\n"
   ]
  },
  {
   "cell_type": "code",
   "execution_count": 139,
   "metadata": {},
   "outputs": [
    {
     "data": {
      "text/html": [
       "<div>\n",
       "<style scoped>\n",
       "    .dataframe tbody tr th:only-of-type {\n",
       "        vertical-align: middle;\n",
       "    }\n",
       "\n",
       "    .dataframe tbody tr th {\n",
       "        vertical-align: top;\n",
       "    }\n",
       "\n",
       "    .dataframe thead th {\n",
       "        text-align: right;\n",
       "    }\n",
       "</style>\n",
       "<table border=\"1\" class=\"dataframe\">\n",
       "  <thead>\n",
       "    <tr style=\"text-align: right;\">\n",
       "      <th></th>\n",
       "      <th>Titre</th>\n",
       "      <th>URL</th>\n",
       "      <th>Date de publication</th>\n",
       "      <th>Description</th>\n",
       "      <th>Contenu</th>\n",
       "      <th>Titre_cleaned</th>\n",
       "      <th>Description_cleaned</th>\n",
       "      <th>Counting_Words_Text</th>\n",
       "      <th>Counting_Words_Description</th>\n",
       "      <th>Most_common_text</th>\n",
       "      <th>Most_common_description</th>\n",
       "      <th>Titre_cleaned_stopwords</th>\n",
       "      <th>Description_cleaned_stopwords</th>\n",
       "    </tr>\n",
       "  </thead>\n",
       "  <tbody>\n",
       "    <tr>\n",
       "      <th>0</th>\n",
       "      <td>Governments spying on Apple and Google users t...</td>\n",
       "      <td>https://www.cnbc.com/2023/12/06/apple-and-goog...</td>\n",
       "      <td>2023-12-06 14:55:00+00:00</td>\n",
       "      <td>U.S. Senator Ron Wyden warned that foreign gov...</td>\n",
       "      <td>&lt;!DOCTYPE html&gt;&lt;html lang=\"en\" prefix=\"og=http...</td>\n",
       "      <td>governments spying on apple and google users t...</td>\n",
       "      <td>us senator ron wyden warned that foreign gover...</td>\n",
       "      <td>{'governments': 1, 'spying': 1, 'on': 1, 'appl...</td>\n",
       "      <td>{'us': 1, 'senator': 1, 'ron': 1, 'wyden': 1, ...</td>\n",
       "      <td>{'governments': 1, 'spying': 1, 'on': 1, 'appl...</td>\n",
       "      <td>{'us': 1, 'senator': 1, 'ron': 1, 'wyden': 1, ...</td>\n",
       "      <td>governments spying apple google users phone no...</td>\n",
       "      <td>us senator ron wyden warned foreign government...</td>\n",
       "    </tr>\n",
       "    <tr>\n",
       "      <th>1</th>\n",
       "      <td>Warren Buffett's Apple stake just hit $177 bil...</td>\n",
       "      <td>https://markets.businessinsider.com/news/stock...</td>\n",
       "      <td>2023-12-06 11:39:21+00:00</td>\n",
       "      <td>Apple's stock price has surged by almost 50% t...</td>\n",
       "      <td>&lt;!DOCTYPE html&gt;\\n&lt;html lang=\"en-US\"&gt;\\n\\n&lt;head&gt;...</td>\n",
       "      <td>warren buffetts apple stake just hit  billion ...</td>\n",
       "      <td>apples stock price has surged by almost  this ...</td>\n",
       "      <td>{'warren': 1, 'buffetts': 1, 'apple': 1, 'stak...</td>\n",
       "      <td>{'apples': 1, 'stock': 1, 'price': 1, 'has': 1...</td>\n",
       "      <td>{'warren': 1, 'buffetts': 1, 'apple': 1, 'stak...</td>\n",
       "      <td>{'to': 2, 'apples': 1, 'stock': 1, 'price': 1,...</td>\n",
       "      <td>warren buffetts apple stake hit billion value ...</td>\n",
       "      <td>apples stock price surged almost year nearreco...</td>\n",
       "    </tr>\n",
       "    <tr>\n",
       "      <th>2</th>\n",
       "      <td>Apple regains a $3 trillion market cap and is ...</td>\n",
       "      <td>https://markets.businessinsider.com/news/stock...</td>\n",
       "      <td>2023-12-06 10:16:42+00:00</td>\n",
       "      <td>Apple's market cap passed the $3 trillion thre...</td>\n",
       "      <td>&lt;!DOCTYPE html&gt;\\n&lt;html lang=\"en-US\"&gt;\\n\\n&lt;head&gt;...</td>\n",
       "      <td>apple regains a  trillion market cap and is on...</td>\n",
       "      <td>apples market cap passed the  trillion thresho...</td>\n",
       "      <td>{'apple': 1, 'regains': 1, 'a': 2, 'trillion':...</td>\n",
       "      <td>{'apples': 1, 'market': 1, 'cap': 1, 'passed':...</td>\n",
       "      <td>{'the': 3, 'a': 2, 'apple': 1, 'regains': 1, '...</td>\n",
       "      <td>{'the': 2, 'apples': 1, 'market': 1, 'cap': 1,...</td>\n",
       "      <td>apple regains trillion market cap track end ye...</td>\n",
       "      <td>apples market cap passed trillion threshold fi...</td>\n",
       "    </tr>\n",
       "    <tr>\n",
       "      <th>3</th>\n",
       "      <td>Qualcomm's X Elite Crushes Apple: Arm Holdings...</td>\n",
       "      <td>https://www.forbes.com/sites/jonmarkman/2023/1...</td>\n",
       "      <td>2023-12-05 23:06:18+00:00</td>\n",
       "      <td>Executives at Apple announced on October that ...</td>\n",
       "      <td>&lt;!DOCTYPE html&gt;&lt;html lang=\"en\"&gt;&lt;head&gt;&lt;link rel...</td>\n",
       "      <td>qualcomms x elite crushes apple arm holdings s...</td>\n",
       "      <td>executives at apple announced on october that ...</td>\n",
       "      <td>{'qualcomms': 1, 'x': 1, 'elite': 1, 'crushes'...</td>\n",
       "      <td>{'executives': 1, 'at': 1, 'apple': 1, 'announ...</td>\n",
       "      <td>{'qualcomms': 1, 'x': 1, 'elite': 1, 'crushes'...</td>\n",
       "      <td>{'executives': 1, 'at': 1, 'apple': 1, 'announ...</td>\n",
       "      <td>qualcomms x elite crushes apple arm holdings s...</td>\n",
       "      <td>executives apple announced october new compute...</td>\n",
       "    </tr>\n",
       "    <tr>\n",
       "      <th>4</th>\n",
       "      <td>Apple is a $3 trillion company again, for the ...</td>\n",
       "      <td>https://www.marketwatch.com/story/apple-is-a-3...</td>\n",
       "      <td>2023-12-05 22:11:00+00:00</td>\n",
       "      <td>Apple's stock is up 49% so far in 2023, but ot...</td>\n",
       "      <td>&lt;!DOCTYPE html&gt;\\n&lt;html\\n  lang=\"en-US\"\\n  data...</td>\n",
       "      <td>apple is a  trillion company again for the fir...</td>\n",
       "      <td>apples stock is up  so far in  but other big t...</td>\n",
       "      <td>{'apple': 1, 'is': 1, 'a': 1, 'trillion': 1, '...</td>\n",
       "      <td>{'apples': 1, 'stock': 1, 'is': 1, 'up': 1, 's...</td>\n",
       "      <td>{'apple': 1, 'is': 1, 'a': 1, 'trillion': 1, '...</td>\n",
       "      <td>{'apples': 1, 'stock': 1, 'is': 1, 'up': 1, 's...</td>\n",
       "      <td>apple trillion company first time since august</td>\n",
       "      <td>apples stock far big tech stocks enjoyed bigge...</td>\n",
       "    </tr>\n",
       "  </tbody>\n",
       "</table>\n",
       "</div>"
      ],
      "text/plain": [
       "                                               Titre  \\\n",
       "0  Governments spying on Apple and Google users t...   \n",
       "1  Warren Buffett's Apple stake just hit $177 bil...   \n",
       "2  Apple regains a $3 trillion market cap and is ...   \n",
       "3  Qualcomm's X Elite Crushes Apple: Arm Holdings...   \n",
       "4  Apple is a $3 trillion company again, for the ...   \n",
       "\n",
       "                                                 URL  \\\n",
       "0  https://www.cnbc.com/2023/12/06/apple-and-goog...   \n",
       "1  https://markets.businessinsider.com/news/stock...   \n",
       "2  https://markets.businessinsider.com/news/stock...   \n",
       "3  https://www.forbes.com/sites/jonmarkman/2023/1...   \n",
       "4  https://www.marketwatch.com/story/apple-is-a-3...   \n",
       "\n",
       "        Date de publication  \\\n",
       "0 2023-12-06 14:55:00+00:00   \n",
       "1 2023-12-06 11:39:21+00:00   \n",
       "2 2023-12-06 10:16:42+00:00   \n",
       "3 2023-12-05 23:06:18+00:00   \n",
       "4 2023-12-05 22:11:00+00:00   \n",
       "\n",
       "                                         Description  \\\n",
       "0  U.S. Senator Ron Wyden warned that foreign gov...   \n",
       "1  Apple's stock price has surged by almost 50% t...   \n",
       "2  Apple's market cap passed the $3 trillion thre...   \n",
       "3  Executives at Apple announced on October that ...   \n",
       "4  Apple's stock is up 49% so far in 2023, but ot...   \n",
       "\n",
       "                                             Contenu  \\\n",
       "0  <!DOCTYPE html><html lang=\"en\" prefix=\"og=http...   \n",
       "1  <!DOCTYPE html>\\n<html lang=\"en-US\">\\n\\n<head>...   \n",
       "2  <!DOCTYPE html>\\n<html lang=\"en-US\">\\n\\n<head>...   \n",
       "3  <!DOCTYPE html><html lang=\"en\"><head><link rel...   \n",
       "4  <!DOCTYPE html>\\n<html\\n  lang=\"en-US\"\\n  data...   \n",
       "\n",
       "                                       Titre_cleaned  \\\n",
       "0  governments spying on apple and google users t...   \n",
       "1  warren buffetts apple stake just hit  billion ...   \n",
       "2  apple regains a  trillion market cap and is on...   \n",
       "3  qualcomms x elite crushes apple arm holdings s...   \n",
       "4  apple is a  trillion company again for the fir...   \n",
       "\n",
       "                                 Description_cleaned  \\\n",
       "0  us senator ron wyden warned that foreign gover...   \n",
       "1  apples stock price has surged by almost  this ...   \n",
       "2  apples market cap passed the  trillion thresho...   \n",
       "3  executives at apple announced on october that ...   \n",
       "4  apples stock is up  so far in  but other big t...   \n",
       "\n",
       "                                 Counting_Words_Text  \\\n",
       "0  {'governments': 1, 'spying': 1, 'on': 1, 'appl...   \n",
       "1  {'warren': 1, 'buffetts': 1, 'apple': 1, 'stak...   \n",
       "2  {'apple': 1, 'regains': 1, 'a': 2, 'trillion':...   \n",
       "3  {'qualcomms': 1, 'x': 1, 'elite': 1, 'crushes'...   \n",
       "4  {'apple': 1, 'is': 1, 'a': 1, 'trillion': 1, '...   \n",
       "\n",
       "                          Counting_Words_Description  \\\n",
       "0  {'us': 1, 'senator': 1, 'ron': 1, 'wyden': 1, ...   \n",
       "1  {'apples': 1, 'stock': 1, 'price': 1, 'has': 1...   \n",
       "2  {'apples': 1, 'market': 1, 'cap': 1, 'passed':...   \n",
       "3  {'executives': 1, 'at': 1, 'apple': 1, 'announ...   \n",
       "4  {'apples': 1, 'stock': 1, 'is': 1, 'up': 1, 's...   \n",
       "\n",
       "                                    Most_common_text  \\\n",
       "0  {'governments': 1, 'spying': 1, 'on': 1, 'appl...   \n",
       "1  {'warren': 1, 'buffetts': 1, 'apple': 1, 'stak...   \n",
       "2  {'the': 3, 'a': 2, 'apple': 1, 'regains': 1, '...   \n",
       "3  {'qualcomms': 1, 'x': 1, 'elite': 1, 'crushes'...   \n",
       "4  {'apple': 1, 'is': 1, 'a': 1, 'trillion': 1, '...   \n",
       "\n",
       "                             Most_common_description  \\\n",
       "0  {'us': 1, 'senator': 1, 'ron': 1, 'wyden': 1, ...   \n",
       "1  {'to': 2, 'apples': 1, 'stock': 1, 'price': 1,...   \n",
       "2  {'the': 2, 'apples': 1, 'market': 1, 'cap': 1,...   \n",
       "3  {'executives': 1, 'at': 1, 'apple': 1, 'announ...   \n",
       "4  {'apples': 1, 'stock': 1, 'is': 1, 'up': 1, 's...   \n",
       "\n",
       "                             Titre_cleaned_stopwords  \\\n",
       "0  governments spying apple google users phone no...   \n",
       "1  warren buffetts apple stake hit billion value ...   \n",
       "2  apple regains trillion market cap track end ye...   \n",
       "3  qualcomms x elite crushes apple arm holdings s...   \n",
       "4     apple trillion company first time since august   \n",
       "\n",
       "                       Description_cleaned_stopwords  \n",
       "0  us senator ron wyden warned foreign government...  \n",
       "1  apples stock price surged almost year nearreco...  \n",
       "2  apples market cap passed trillion threshold fi...  \n",
       "3  executives apple announced october new compute...  \n",
       "4  apples stock far big tech stocks enjoyed bigge...  "
      ]
     },
     "execution_count": 139,
     "metadata": {},
     "output_type": "execute_result"
    }
   ],
   "source": [
    "df.head()"
   ]
  },
  {
   "cell_type": "code",
   "execution_count": 153,
   "metadata": {},
   "outputs": [
    {
     "data": {
      "application/vnd.plotly.v1+json": {
       "config": {
        "plotlyServerURL": "https://plot.ly"
       },
       "data": [
        {
         "alignmentgroup": "True",
         "hovertemplate": "Mots=%{x}<br>Fréquences=%{y}<extra></extra>",
         "legendgroup": "",
         "marker": {
          "color": "#636efa",
          "pattern": {
           "shape": ""
          }
         },
         "name": "",
         "offsetgroup": "",
         "orientation": "v",
         "showlegend": false,
         "textposition": "auto",
         "type": "bar",
         "x": [
          "apple",
          "trillion",
          "iphone",
          "apples",
          "new",
          "cap",
          "time",
          "first",
          "users",
          "market"
         ],
         "xaxis": "x",
         "y": [
          16,
          5,
          5,
          4,
          4,
          3,
          3,
          3,
          2,
          2
         ],
         "yaxis": "y"
        }
       ],
       "layout": {
        "barmode": "relative",
        "legend": {
         "tracegroupgap": 0
        },
        "template": {
         "data": {
          "bar": [
           {
            "error_x": {
             "color": "#2a3f5f"
            },
            "error_y": {
             "color": "#2a3f5f"
            },
            "marker": {
             "line": {
              "color": "#E5ECF6",
              "width": 0.5
             },
             "pattern": {
              "fillmode": "overlay",
              "size": 10,
              "solidity": 0.2
             }
            },
            "type": "bar"
           }
          ],
          "barpolar": [
           {
            "marker": {
             "line": {
              "color": "#E5ECF6",
              "width": 0.5
             },
             "pattern": {
              "fillmode": "overlay",
              "size": 10,
              "solidity": 0.2
             }
            },
            "type": "barpolar"
           }
          ],
          "carpet": [
           {
            "aaxis": {
             "endlinecolor": "#2a3f5f",
             "gridcolor": "white",
             "linecolor": "white",
             "minorgridcolor": "white",
             "startlinecolor": "#2a3f5f"
            },
            "baxis": {
             "endlinecolor": "#2a3f5f",
             "gridcolor": "white",
             "linecolor": "white",
             "minorgridcolor": "white",
             "startlinecolor": "#2a3f5f"
            },
            "type": "carpet"
           }
          ],
          "choropleth": [
           {
            "colorbar": {
             "outlinewidth": 0,
             "ticks": ""
            },
            "type": "choropleth"
           }
          ],
          "contour": [
           {
            "colorbar": {
             "outlinewidth": 0,
             "ticks": ""
            },
            "colorscale": [
             [
              0,
              "#0d0887"
             ],
             [
              0.1111111111111111,
              "#46039f"
             ],
             [
              0.2222222222222222,
              "#7201a8"
             ],
             [
              0.3333333333333333,
              "#9c179e"
             ],
             [
              0.4444444444444444,
              "#bd3786"
             ],
             [
              0.5555555555555556,
              "#d8576b"
             ],
             [
              0.6666666666666666,
              "#ed7953"
             ],
             [
              0.7777777777777778,
              "#fb9f3a"
             ],
             [
              0.8888888888888888,
              "#fdca26"
             ],
             [
              1,
              "#f0f921"
             ]
            ],
            "type": "contour"
           }
          ],
          "contourcarpet": [
           {
            "colorbar": {
             "outlinewidth": 0,
             "ticks": ""
            },
            "type": "contourcarpet"
           }
          ],
          "heatmap": [
           {
            "colorbar": {
             "outlinewidth": 0,
             "ticks": ""
            },
            "colorscale": [
             [
              0,
              "#0d0887"
             ],
             [
              0.1111111111111111,
              "#46039f"
             ],
             [
              0.2222222222222222,
              "#7201a8"
             ],
             [
              0.3333333333333333,
              "#9c179e"
             ],
             [
              0.4444444444444444,
              "#bd3786"
             ],
             [
              0.5555555555555556,
              "#d8576b"
             ],
             [
              0.6666666666666666,
              "#ed7953"
             ],
             [
              0.7777777777777778,
              "#fb9f3a"
             ],
             [
              0.8888888888888888,
              "#fdca26"
             ],
             [
              1,
              "#f0f921"
             ]
            ],
            "type": "heatmap"
           }
          ],
          "heatmapgl": [
           {
            "colorbar": {
             "outlinewidth": 0,
             "ticks": ""
            },
            "colorscale": [
             [
              0,
              "#0d0887"
             ],
             [
              0.1111111111111111,
              "#46039f"
             ],
             [
              0.2222222222222222,
              "#7201a8"
             ],
             [
              0.3333333333333333,
              "#9c179e"
             ],
             [
              0.4444444444444444,
              "#bd3786"
             ],
             [
              0.5555555555555556,
              "#d8576b"
             ],
             [
              0.6666666666666666,
              "#ed7953"
             ],
             [
              0.7777777777777778,
              "#fb9f3a"
             ],
             [
              0.8888888888888888,
              "#fdca26"
             ],
             [
              1,
              "#f0f921"
             ]
            ],
            "type": "heatmapgl"
           }
          ],
          "histogram": [
           {
            "marker": {
             "pattern": {
              "fillmode": "overlay",
              "size": 10,
              "solidity": 0.2
             }
            },
            "type": "histogram"
           }
          ],
          "histogram2d": [
           {
            "colorbar": {
             "outlinewidth": 0,
             "ticks": ""
            },
            "colorscale": [
             [
              0,
              "#0d0887"
             ],
             [
              0.1111111111111111,
              "#46039f"
             ],
             [
              0.2222222222222222,
              "#7201a8"
             ],
             [
              0.3333333333333333,
              "#9c179e"
             ],
             [
              0.4444444444444444,
              "#bd3786"
             ],
             [
              0.5555555555555556,
              "#d8576b"
             ],
             [
              0.6666666666666666,
              "#ed7953"
             ],
             [
              0.7777777777777778,
              "#fb9f3a"
             ],
             [
              0.8888888888888888,
              "#fdca26"
             ],
             [
              1,
              "#f0f921"
             ]
            ],
            "type": "histogram2d"
           }
          ],
          "histogram2dcontour": [
           {
            "colorbar": {
             "outlinewidth": 0,
             "ticks": ""
            },
            "colorscale": [
             [
              0,
              "#0d0887"
             ],
             [
              0.1111111111111111,
              "#46039f"
             ],
             [
              0.2222222222222222,
              "#7201a8"
             ],
             [
              0.3333333333333333,
              "#9c179e"
             ],
             [
              0.4444444444444444,
              "#bd3786"
             ],
             [
              0.5555555555555556,
              "#d8576b"
             ],
             [
              0.6666666666666666,
              "#ed7953"
             ],
             [
              0.7777777777777778,
              "#fb9f3a"
             ],
             [
              0.8888888888888888,
              "#fdca26"
             ],
             [
              1,
              "#f0f921"
             ]
            ],
            "type": "histogram2dcontour"
           }
          ],
          "mesh3d": [
           {
            "colorbar": {
             "outlinewidth": 0,
             "ticks": ""
            },
            "type": "mesh3d"
           }
          ],
          "parcoords": [
           {
            "line": {
             "colorbar": {
              "outlinewidth": 0,
              "ticks": ""
             }
            },
            "type": "parcoords"
           }
          ],
          "pie": [
           {
            "automargin": true,
            "type": "pie"
           }
          ],
          "scatter": [
           {
            "fillpattern": {
             "fillmode": "overlay",
             "size": 10,
             "solidity": 0.2
            },
            "type": "scatter"
           }
          ],
          "scatter3d": [
           {
            "line": {
             "colorbar": {
              "outlinewidth": 0,
              "ticks": ""
             }
            },
            "marker": {
             "colorbar": {
              "outlinewidth": 0,
              "ticks": ""
             }
            },
            "type": "scatter3d"
           }
          ],
          "scattercarpet": [
           {
            "marker": {
             "colorbar": {
              "outlinewidth": 0,
              "ticks": ""
             }
            },
            "type": "scattercarpet"
           }
          ],
          "scattergeo": [
           {
            "marker": {
             "colorbar": {
              "outlinewidth": 0,
              "ticks": ""
             }
            },
            "type": "scattergeo"
           }
          ],
          "scattergl": [
           {
            "marker": {
             "colorbar": {
              "outlinewidth": 0,
              "ticks": ""
             }
            },
            "type": "scattergl"
           }
          ],
          "scattermapbox": [
           {
            "marker": {
             "colorbar": {
              "outlinewidth": 0,
              "ticks": ""
             }
            },
            "type": "scattermapbox"
           }
          ],
          "scatterpolar": [
           {
            "marker": {
             "colorbar": {
              "outlinewidth": 0,
              "ticks": ""
             }
            },
            "type": "scatterpolar"
           }
          ],
          "scatterpolargl": [
           {
            "marker": {
             "colorbar": {
              "outlinewidth": 0,
              "ticks": ""
             }
            },
            "type": "scatterpolargl"
           }
          ],
          "scatterternary": [
           {
            "marker": {
             "colorbar": {
              "outlinewidth": 0,
              "ticks": ""
             }
            },
            "type": "scatterternary"
           }
          ],
          "surface": [
           {
            "colorbar": {
             "outlinewidth": 0,
             "ticks": ""
            },
            "colorscale": [
             [
              0,
              "#0d0887"
             ],
             [
              0.1111111111111111,
              "#46039f"
             ],
             [
              0.2222222222222222,
              "#7201a8"
             ],
             [
              0.3333333333333333,
              "#9c179e"
             ],
             [
              0.4444444444444444,
              "#bd3786"
             ],
             [
              0.5555555555555556,
              "#d8576b"
             ],
             [
              0.6666666666666666,
              "#ed7953"
             ],
             [
              0.7777777777777778,
              "#fb9f3a"
             ],
             [
              0.8888888888888888,
              "#fdca26"
             ],
             [
              1,
              "#f0f921"
             ]
            ],
            "type": "surface"
           }
          ],
          "table": [
           {
            "cells": {
             "fill": {
              "color": "#EBF0F8"
             },
             "line": {
              "color": "white"
             }
            },
            "header": {
             "fill": {
              "color": "#C8D4E3"
             },
             "line": {
              "color": "white"
             }
            },
            "type": "table"
           }
          ]
         },
         "layout": {
          "annotationdefaults": {
           "arrowcolor": "#2a3f5f",
           "arrowhead": 0,
           "arrowwidth": 1
          },
          "autotypenumbers": "strict",
          "coloraxis": {
           "colorbar": {
            "outlinewidth": 0,
            "ticks": ""
           }
          },
          "colorscale": {
           "diverging": [
            [
             0,
             "#8e0152"
            ],
            [
             0.1,
             "#c51b7d"
            ],
            [
             0.2,
             "#de77ae"
            ],
            [
             0.3,
             "#f1b6da"
            ],
            [
             0.4,
             "#fde0ef"
            ],
            [
             0.5,
             "#f7f7f7"
            ],
            [
             0.6,
             "#e6f5d0"
            ],
            [
             0.7,
             "#b8e186"
            ],
            [
             0.8,
             "#7fbc41"
            ],
            [
             0.9,
             "#4d9221"
            ],
            [
             1,
             "#276419"
            ]
           ],
           "sequential": [
            [
             0,
             "#0d0887"
            ],
            [
             0.1111111111111111,
             "#46039f"
            ],
            [
             0.2222222222222222,
             "#7201a8"
            ],
            [
             0.3333333333333333,
             "#9c179e"
            ],
            [
             0.4444444444444444,
             "#bd3786"
            ],
            [
             0.5555555555555556,
             "#d8576b"
            ],
            [
             0.6666666666666666,
             "#ed7953"
            ],
            [
             0.7777777777777778,
             "#fb9f3a"
            ],
            [
             0.8888888888888888,
             "#fdca26"
            ],
            [
             1,
             "#f0f921"
            ]
           ],
           "sequentialminus": [
            [
             0,
             "#0d0887"
            ],
            [
             0.1111111111111111,
             "#46039f"
            ],
            [
             0.2222222222222222,
             "#7201a8"
            ],
            [
             0.3333333333333333,
             "#9c179e"
            ],
            [
             0.4444444444444444,
             "#bd3786"
            ],
            [
             0.5555555555555556,
             "#d8576b"
            ],
            [
             0.6666666666666666,
             "#ed7953"
            ],
            [
             0.7777777777777778,
             "#fb9f3a"
            ],
            [
             0.8888888888888888,
             "#fdca26"
            ],
            [
             1,
             "#f0f921"
            ]
           ]
          },
          "colorway": [
           "#636efa",
           "#EF553B",
           "#00cc96",
           "#ab63fa",
           "#FFA15A",
           "#19d3f3",
           "#FF6692",
           "#B6E880",
           "#FF97FF",
           "#FECB52"
          ],
          "font": {
           "color": "#2a3f5f"
          },
          "geo": {
           "bgcolor": "white",
           "lakecolor": "white",
           "landcolor": "#E5ECF6",
           "showlakes": true,
           "showland": true,
           "subunitcolor": "white"
          },
          "hoverlabel": {
           "align": "left"
          },
          "hovermode": "closest",
          "mapbox": {
           "style": "light"
          },
          "paper_bgcolor": "white",
          "plot_bgcolor": "#E5ECF6",
          "polar": {
           "angularaxis": {
            "gridcolor": "white",
            "linecolor": "white",
            "ticks": ""
           },
           "bgcolor": "#E5ECF6",
           "radialaxis": {
            "gridcolor": "white",
            "linecolor": "white",
            "ticks": ""
           }
          },
          "scene": {
           "xaxis": {
            "backgroundcolor": "#E5ECF6",
            "gridcolor": "white",
            "gridwidth": 2,
            "linecolor": "white",
            "showbackground": true,
            "ticks": "",
            "zerolinecolor": "white"
           },
           "yaxis": {
            "backgroundcolor": "#E5ECF6",
            "gridcolor": "white",
            "gridwidth": 2,
            "linecolor": "white",
            "showbackground": true,
            "ticks": "",
            "zerolinecolor": "white"
           },
           "zaxis": {
            "backgroundcolor": "#E5ECF6",
            "gridcolor": "white",
            "gridwidth": 2,
            "linecolor": "white",
            "showbackground": true,
            "ticks": "",
            "zerolinecolor": "white"
           }
          },
          "shapedefaults": {
           "line": {
            "color": "#2a3f5f"
           }
          },
          "ternary": {
           "aaxis": {
            "gridcolor": "white",
            "linecolor": "white",
            "ticks": ""
           },
           "baxis": {
            "gridcolor": "white",
            "linecolor": "white",
            "ticks": ""
           },
           "bgcolor": "#E5ECF6",
           "caxis": {
            "gridcolor": "white",
            "linecolor": "white",
            "ticks": ""
           }
          },
          "title": {
           "x": 0.05
          },
          "xaxis": {
           "automargin": true,
           "gridcolor": "white",
           "linecolor": "white",
           "ticks": "",
           "title": {
            "standoff": 15
           },
           "zerolinecolor": "white",
           "zerolinewidth": 2
          },
          "yaxis": {
           "automargin": true,
           "gridcolor": "white",
           "linecolor": "white",
           "ticks": "",
           "title": {
            "standoff": 15
           },
           "zerolinecolor": "white",
           "zerolinewidth": 2
          }
         }
        },
        "title": {
         "text": "Top 10 des mots les plus fréquents dans les descriptions d'articles récupérés (hors stopwords)"
        },
        "xaxis": {
         "anchor": "y",
         "domain": [
          0,
          1
         ],
         "title": {
          "text": "Mots"
         }
        },
        "yaxis": {
         "anchor": "x",
         "domain": [
          0,
          1
         ],
         "title": {
          "text": "Fréquences"
         }
        }
       }
      }
     },
     "metadata": {},
     "output_type": "display_data"
    }
   ],
   "source": [
    "#Mots les plus fréquents après suppression des stopwords\n",
    "df['Counting_Words_Text_nostopwords']=df['Titre_cleaned_stopwords'].apply(count_common_words)\n",
    "df['Counting_Words_Descr_nostopwords']=df['Description_cleaned_stopwords'].apply(count_common_words)\n",
    "\n",
    "combined_dict_text_bis=combine_dictionaries(df,'Counting_Words_Text_nostopwords')\n",
    "sorted_description_dictionary=sorted(combined_dict_text_bis.items(), key= lambda item:item[1], reverse=True)[:10]\n",
    "\n",
    "keys=[key for key, value in sorted_description_dictionary]\n",
    "values=[value for key, value in sorted_description_dictionary]\n",
    "\n",
    "\n",
    "fig = px.bar(x=keys, y=values, title=\"Top 10 des mots les plus fréquents dans les descriptions d'articles récupérés (hors stopwords)\", labels={'x':'Mots', 'y':'Fréquences'})\n",
    "fig.show()"
   ]
  },
  {
   "cell_type": "code",
   "execution_count": 154,
   "metadata": {},
   "outputs": [
    {
     "data": {
      "application/vnd.plotly.v1+json": {
       "config": {
        "plotlyServerURL": "https://plot.ly"
       },
       "data": [
        {
         "alignmentgroup": "True",
         "hovertemplate": "Mots=%{x}<br>Fréquences=%{y}<extra></extra>",
         "legendgroup": "",
         "marker": {
          "color": "#636efa",
          "pattern": {
           "shape": ""
          }
         },
         "name": "",
         "offsetgroup": "",
         "orientation": "v",
         "showlegend": false,
         "textposition": "auto",
         "type": "bar",
         "x": [
          "apple",
          "trillion",
          "iphone",
          "apples",
          "new",
          "cap",
          "time",
          "first",
          "users",
          "market"
         ],
         "xaxis": "x",
         "y": [
          16,
          5,
          5,
          4,
          4,
          3,
          3,
          3,
          2,
          2
         ],
         "yaxis": "y"
        }
       ],
       "layout": {
        "barmode": "relative",
        "legend": {
         "tracegroupgap": 0
        },
        "template": {
         "data": {
          "bar": [
           {
            "error_x": {
             "color": "#2a3f5f"
            },
            "error_y": {
             "color": "#2a3f5f"
            },
            "marker": {
             "line": {
              "color": "#E5ECF6",
              "width": 0.5
             },
             "pattern": {
              "fillmode": "overlay",
              "size": 10,
              "solidity": 0.2
             }
            },
            "type": "bar"
           }
          ],
          "barpolar": [
           {
            "marker": {
             "line": {
              "color": "#E5ECF6",
              "width": 0.5
             },
             "pattern": {
              "fillmode": "overlay",
              "size": 10,
              "solidity": 0.2
             }
            },
            "type": "barpolar"
           }
          ],
          "carpet": [
           {
            "aaxis": {
             "endlinecolor": "#2a3f5f",
             "gridcolor": "white",
             "linecolor": "white",
             "minorgridcolor": "white",
             "startlinecolor": "#2a3f5f"
            },
            "baxis": {
             "endlinecolor": "#2a3f5f",
             "gridcolor": "white",
             "linecolor": "white",
             "minorgridcolor": "white",
             "startlinecolor": "#2a3f5f"
            },
            "type": "carpet"
           }
          ],
          "choropleth": [
           {
            "colorbar": {
             "outlinewidth": 0,
             "ticks": ""
            },
            "type": "choropleth"
           }
          ],
          "contour": [
           {
            "colorbar": {
             "outlinewidth": 0,
             "ticks": ""
            },
            "colorscale": [
             [
              0,
              "#0d0887"
             ],
             [
              0.1111111111111111,
              "#46039f"
             ],
             [
              0.2222222222222222,
              "#7201a8"
             ],
             [
              0.3333333333333333,
              "#9c179e"
             ],
             [
              0.4444444444444444,
              "#bd3786"
             ],
             [
              0.5555555555555556,
              "#d8576b"
             ],
             [
              0.6666666666666666,
              "#ed7953"
             ],
             [
              0.7777777777777778,
              "#fb9f3a"
             ],
             [
              0.8888888888888888,
              "#fdca26"
             ],
             [
              1,
              "#f0f921"
             ]
            ],
            "type": "contour"
           }
          ],
          "contourcarpet": [
           {
            "colorbar": {
             "outlinewidth": 0,
             "ticks": ""
            },
            "type": "contourcarpet"
           }
          ],
          "heatmap": [
           {
            "colorbar": {
             "outlinewidth": 0,
             "ticks": ""
            },
            "colorscale": [
             [
              0,
              "#0d0887"
             ],
             [
              0.1111111111111111,
              "#46039f"
             ],
             [
              0.2222222222222222,
              "#7201a8"
             ],
             [
              0.3333333333333333,
              "#9c179e"
             ],
             [
              0.4444444444444444,
              "#bd3786"
             ],
             [
              0.5555555555555556,
              "#d8576b"
             ],
             [
              0.6666666666666666,
              "#ed7953"
             ],
             [
              0.7777777777777778,
              "#fb9f3a"
             ],
             [
              0.8888888888888888,
              "#fdca26"
             ],
             [
              1,
              "#f0f921"
             ]
            ],
            "type": "heatmap"
           }
          ],
          "heatmapgl": [
           {
            "colorbar": {
             "outlinewidth": 0,
             "ticks": ""
            },
            "colorscale": [
             [
              0,
              "#0d0887"
             ],
             [
              0.1111111111111111,
              "#46039f"
             ],
             [
              0.2222222222222222,
              "#7201a8"
             ],
             [
              0.3333333333333333,
              "#9c179e"
             ],
             [
              0.4444444444444444,
              "#bd3786"
             ],
             [
              0.5555555555555556,
              "#d8576b"
             ],
             [
              0.6666666666666666,
              "#ed7953"
             ],
             [
              0.7777777777777778,
              "#fb9f3a"
             ],
             [
              0.8888888888888888,
              "#fdca26"
             ],
             [
              1,
              "#f0f921"
             ]
            ],
            "type": "heatmapgl"
           }
          ],
          "histogram": [
           {
            "marker": {
             "pattern": {
              "fillmode": "overlay",
              "size": 10,
              "solidity": 0.2
             }
            },
            "type": "histogram"
           }
          ],
          "histogram2d": [
           {
            "colorbar": {
             "outlinewidth": 0,
             "ticks": ""
            },
            "colorscale": [
             [
              0,
              "#0d0887"
             ],
             [
              0.1111111111111111,
              "#46039f"
             ],
             [
              0.2222222222222222,
              "#7201a8"
             ],
             [
              0.3333333333333333,
              "#9c179e"
             ],
             [
              0.4444444444444444,
              "#bd3786"
             ],
             [
              0.5555555555555556,
              "#d8576b"
             ],
             [
              0.6666666666666666,
              "#ed7953"
             ],
             [
              0.7777777777777778,
              "#fb9f3a"
             ],
             [
              0.8888888888888888,
              "#fdca26"
             ],
             [
              1,
              "#f0f921"
             ]
            ],
            "type": "histogram2d"
           }
          ],
          "histogram2dcontour": [
           {
            "colorbar": {
             "outlinewidth": 0,
             "ticks": ""
            },
            "colorscale": [
             [
              0,
              "#0d0887"
             ],
             [
              0.1111111111111111,
              "#46039f"
             ],
             [
              0.2222222222222222,
              "#7201a8"
             ],
             [
              0.3333333333333333,
              "#9c179e"
             ],
             [
              0.4444444444444444,
              "#bd3786"
             ],
             [
              0.5555555555555556,
              "#d8576b"
             ],
             [
              0.6666666666666666,
              "#ed7953"
             ],
             [
              0.7777777777777778,
              "#fb9f3a"
             ],
             [
              0.8888888888888888,
              "#fdca26"
             ],
             [
              1,
              "#f0f921"
             ]
            ],
            "type": "histogram2dcontour"
           }
          ],
          "mesh3d": [
           {
            "colorbar": {
             "outlinewidth": 0,
             "ticks": ""
            },
            "type": "mesh3d"
           }
          ],
          "parcoords": [
           {
            "line": {
             "colorbar": {
              "outlinewidth": 0,
              "ticks": ""
             }
            },
            "type": "parcoords"
           }
          ],
          "pie": [
           {
            "automargin": true,
            "type": "pie"
           }
          ],
          "scatter": [
           {
            "fillpattern": {
             "fillmode": "overlay",
             "size": 10,
             "solidity": 0.2
            },
            "type": "scatter"
           }
          ],
          "scatter3d": [
           {
            "line": {
             "colorbar": {
              "outlinewidth": 0,
              "ticks": ""
             }
            },
            "marker": {
             "colorbar": {
              "outlinewidth": 0,
              "ticks": ""
             }
            },
            "type": "scatter3d"
           }
          ],
          "scattercarpet": [
           {
            "marker": {
             "colorbar": {
              "outlinewidth": 0,
              "ticks": ""
             }
            },
            "type": "scattercarpet"
           }
          ],
          "scattergeo": [
           {
            "marker": {
             "colorbar": {
              "outlinewidth": 0,
              "ticks": ""
             }
            },
            "type": "scattergeo"
           }
          ],
          "scattergl": [
           {
            "marker": {
             "colorbar": {
              "outlinewidth": 0,
              "ticks": ""
             }
            },
            "type": "scattergl"
           }
          ],
          "scattermapbox": [
           {
            "marker": {
             "colorbar": {
              "outlinewidth": 0,
              "ticks": ""
             }
            },
            "type": "scattermapbox"
           }
          ],
          "scatterpolar": [
           {
            "marker": {
             "colorbar": {
              "outlinewidth": 0,
              "ticks": ""
             }
            },
            "type": "scatterpolar"
           }
          ],
          "scatterpolargl": [
           {
            "marker": {
             "colorbar": {
              "outlinewidth": 0,
              "ticks": ""
             }
            },
            "type": "scatterpolargl"
           }
          ],
          "scatterternary": [
           {
            "marker": {
             "colorbar": {
              "outlinewidth": 0,
              "ticks": ""
             }
            },
            "type": "scatterternary"
           }
          ],
          "surface": [
           {
            "colorbar": {
             "outlinewidth": 0,
             "ticks": ""
            },
            "colorscale": [
             [
              0,
              "#0d0887"
             ],
             [
              0.1111111111111111,
              "#46039f"
             ],
             [
              0.2222222222222222,
              "#7201a8"
             ],
             [
              0.3333333333333333,
              "#9c179e"
             ],
             [
              0.4444444444444444,
              "#bd3786"
             ],
             [
              0.5555555555555556,
              "#d8576b"
             ],
             [
              0.6666666666666666,
              "#ed7953"
             ],
             [
              0.7777777777777778,
              "#fb9f3a"
             ],
             [
              0.8888888888888888,
              "#fdca26"
             ],
             [
              1,
              "#f0f921"
             ]
            ],
            "type": "surface"
           }
          ],
          "table": [
           {
            "cells": {
             "fill": {
              "color": "#EBF0F8"
             },
             "line": {
              "color": "white"
             }
            },
            "header": {
             "fill": {
              "color": "#C8D4E3"
             },
             "line": {
              "color": "white"
             }
            },
            "type": "table"
           }
          ]
         },
         "layout": {
          "annotationdefaults": {
           "arrowcolor": "#2a3f5f",
           "arrowhead": 0,
           "arrowwidth": 1
          },
          "autotypenumbers": "strict",
          "coloraxis": {
           "colorbar": {
            "outlinewidth": 0,
            "ticks": ""
           }
          },
          "colorscale": {
           "diverging": [
            [
             0,
             "#8e0152"
            ],
            [
             0.1,
             "#c51b7d"
            ],
            [
             0.2,
             "#de77ae"
            ],
            [
             0.3,
             "#f1b6da"
            ],
            [
             0.4,
             "#fde0ef"
            ],
            [
             0.5,
             "#f7f7f7"
            ],
            [
             0.6,
             "#e6f5d0"
            ],
            [
             0.7,
             "#b8e186"
            ],
            [
             0.8,
             "#7fbc41"
            ],
            [
             0.9,
             "#4d9221"
            ],
            [
             1,
             "#276419"
            ]
           ],
           "sequential": [
            [
             0,
             "#0d0887"
            ],
            [
             0.1111111111111111,
             "#46039f"
            ],
            [
             0.2222222222222222,
             "#7201a8"
            ],
            [
             0.3333333333333333,
             "#9c179e"
            ],
            [
             0.4444444444444444,
             "#bd3786"
            ],
            [
             0.5555555555555556,
             "#d8576b"
            ],
            [
             0.6666666666666666,
             "#ed7953"
            ],
            [
             0.7777777777777778,
             "#fb9f3a"
            ],
            [
             0.8888888888888888,
             "#fdca26"
            ],
            [
             1,
             "#f0f921"
            ]
           ],
           "sequentialminus": [
            [
             0,
             "#0d0887"
            ],
            [
             0.1111111111111111,
             "#46039f"
            ],
            [
             0.2222222222222222,
             "#7201a8"
            ],
            [
             0.3333333333333333,
             "#9c179e"
            ],
            [
             0.4444444444444444,
             "#bd3786"
            ],
            [
             0.5555555555555556,
             "#d8576b"
            ],
            [
             0.6666666666666666,
             "#ed7953"
            ],
            [
             0.7777777777777778,
             "#fb9f3a"
            ],
            [
             0.8888888888888888,
             "#fdca26"
            ],
            [
             1,
             "#f0f921"
            ]
           ]
          },
          "colorway": [
           "#636efa",
           "#EF553B",
           "#00cc96",
           "#ab63fa",
           "#FFA15A",
           "#19d3f3",
           "#FF6692",
           "#B6E880",
           "#FF97FF",
           "#FECB52"
          ],
          "font": {
           "color": "#2a3f5f"
          },
          "geo": {
           "bgcolor": "white",
           "lakecolor": "white",
           "landcolor": "#E5ECF6",
           "showlakes": true,
           "showland": true,
           "subunitcolor": "white"
          },
          "hoverlabel": {
           "align": "left"
          },
          "hovermode": "closest",
          "mapbox": {
           "style": "light"
          },
          "paper_bgcolor": "white",
          "plot_bgcolor": "#E5ECF6",
          "polar": {
           "angularaxis": {
            "gridcolor": "white",
            "linecolor": "white",
            "ticks": ""
           },
           "bgcolor": "#E5ECF6",
           "radialaxis": {
            "gridcolor": "white",
            "linecolor": "white",
            "ticks": ""
           }
          },
          "scene": {
           "xaxis": {
            "backgroundcolor": "#E5ECF6",
            "gridcolor": "white",
            "gridwidth": 2,
            "linecolor": "white",
            "showbackground": true,
            "ticks": "",
            "zerolinecolor": "white"
           },
           "yaxis": {
            "backgroundcolor": "#E5ECF6",
            "gridcolor": "white",
            "gridwidth": 2,
            "linecolor": "white",
            "showbackground": true,
            "ticks": "",
            "zerolinecolor": "white"
           },
           "zaxis": {
            "backgroundcolor": "#E5ECF6",
            "gridcolor": "white",
            "gridwidth": 2,
            "linecolor": "white",
            "showbackground": true,
            "ticks": "",
            "zerolinecolor": "white"
           }
          },
          "shapedefaults": {
           "line": {
            "color": "#2a3f5f"
           }
          },
          "ternary": {
           "aaxis": {
            "gridcolor": "white",
            "linecolor": "white",
            "ticks": ""
           },
           "baxis": {
            "gridcolor": "white",
            "linecolor": "white",
            "ticks": ""
           },
           "bgcolor": "#E5ECF6",
           "caxis": {
            "gridcolor": "white",
            "linecolor": "white",
            "ticks": ""
           }
          },
          "title": {
           "x": 0.05
          },
          "xaxis": {
           "automargin": true,
           "gridcolor": "white",
           "linecolor": "white",
           "ticks": "",
           "title": {
            "standoff": 15
           },
           "zerolinecolor": "white",
           "zerolinewidth": 2
          },
          "yaxis": {
           "automargin": true,
           "gridcolor": "white",
           "linecolor": "white",
           "ticks": "",
           "title": {
            "standoff": 15
           },
           "zerolinecolor": "white",
           "zerolinewidth": 2
          }
         }
        },
        "title": {
         "text": "Top 10 des mots les plus fréquents dans les descriptions d'articles récupérés (hors stopwords)"
        },
        "xaxis": {
         "anchor": "y",
         "domain": [
          0,
          1
         ],
         "title": {
          "text": "Mots"
         }
        },
        "yaxis": {
         "anchor": "x",
         "domain": [
          0,
          1
         ],
         "title": {
          "text": "Fréquences"
         }
        }
       }
      }
     },
     "metadata": {},
     "output_type": "display_data"
    }
   ],
   "source": [
    "combined_dict_description_bis=combine_dictionaries(df,'Counting_Words_Text_nostopwords')\n",
    "sorted_description_dictionary=sorted(combined_dict_description_bis.items(), key= lambda item:item[1], reverse=True)[:10]\n",
    "\n",
    "keys=[key for key, value in sorted_description_dictionary]\n",
    "values=[value for key, value in sorted_description_dictionary]\n",
    "\n",
    "\n",
    "fig = px.bar(x=keys, y=values, title=\"Top 10 des mots les plus fréquents dans les descriptions d'articles récupérés (hors stopwords)\", labels={'x':'Mots', 'y':'Fréquences'})\n",
    "fig.show()"
   ]
  }
 ],
 "metadata": {
  "kernelspec": {
   "display_name": "Python 3",
   "language": "python",
   "name": "python3"
  },
  "language_info": {
   "codemirror_mode": {
    "name": "ipython",
    "version": 3
   },
   "file_extension": ".py",
   "mimetype": "text/x-python",
   "name": "python",
   "nbconvert_exporter": "python",
   "pygments_lexer": "ipython3",
   "version": "3.9.6"
  }
 },
 "nbformat": 4,
 "nbformat_minor": 2
}
