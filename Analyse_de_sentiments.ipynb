{
 "cells": [
  {
   "cell_type": "code",
   "execution_count": 3,
   "metadata": {},
   "outputs": [
    {
     "name": "stderr",
     "output_type": "stream",
     "text": [
      "/Users/dabadieraphael/Library/Python/3.9/lib/python/site-packages/urllib3/__init__.py:34: NotOpenSSLWarning: urllib3 v2 only supports OpenSSL 1.1.1+, currently the 'ssl' module is compiled with 'LibreSSL 2.8.3'. See: https://github.com/urllib3/urllib3/issues/3020\n",
      "  warnings.warn(\n"
     ]
    },
    {
     "name": "stdout",
     "output_type": "stream",
     "text": [
      "Titre: iPhone 16 And iPhone 16 Pro To Upgrade Important Apple Specialty, Insider Claims\n",
      "Source: Forbes\n",
      "URL: https://www.forbes.com/sites/davidphelan/2023/12/10/apple-iphone-16-to-upgrade-essential-apple-specialty-insider-claims/\n",
      "\n",
      "Titre: New Samsung Leaks Reveal Stunning Galaxy S24 Ultra Design Decision\n",
      "Source: Forbes\n",
      "URL: https://www.forbes.com/sites/ewanspence/2023/12/10/samsung-galaxy-s24-ultra-design-performance-s-pen-speaker-volume-new-galaxy-s24-release/\n",
      "\n",
      "Titre: Apple Leak Confirms Surprise iPhone 16 Pro Upgrade\n",
      "Source: Forbes\n",
      "URL: https://www.forbes.com/sites/ewanspence/2023/12/10/apple-iphone-16-pro-max-battery-upgrade-performance-impact-new-iphone-release/\n",
      "\n",
      "Titre: Forget The New MacBook Pro, Apple Has Something Much Better\n",
      "Source: Forbes\n",
      "URL: https://www.forbes.com/sites/ewanspence/2023/12/10/apple-macbook-pro-m3-performance-battery-upgrade-impact-new-macbook-air-release/\n",
      "\n",
      "Titre: Apple's Competency At Its Core\n",
      "Source: Forbes\n",
      "URL: https://www.forbes.com/sites/gregpetro/2023/12/10/apples-competency-at-its-core/\n",
      "\n",
      "Titre: Why You Should Delete These 17 ‘Dangerous’ Apps On Your Phone\n",
      "Source: Forbes\n",
      "URL: https://www.forbes.com/sites/zakdoffman/2023/12/10/google-android-and-apple-iphone-users-need-to-delete-these-apps-now/\n",
      "\n",
      "Titre: Jazz Singer Stacey Kent Returns With Her Requests Album ‘Summer Me, Winter Me’\n",
      "Source: Forbes\n",
      "URL: https://www.forbes.com/sites/davidchiu/2023/12/10/jazz-singer-stacey-kent-returns-with-her-requests-album-summer-me-winter-me/\n",
      "\n",
      "Titre: ‘Fortnite’ Has Actually Made The Metaverse After Everyone Else Quit\n",
      "Source: Forbes\n",
      "URL: https://www.forbes.com/sites/paultassi/2023/12/10/fortnite-has-actually-made-the-metaverse-after-everyone-else-quit/\n",
      "\n",
      "Titre: The Top Premium Scotch Whiskies: 2023 Beverage Testing Institute\n",
      "Source: Forbes\n",
      "URL: https://www.forbes.com/sites/joemicallef/2023/12/10/the-top-premium-scotch-whiskies-2023-beverage-testing-institute/\n",
      "\n",
      "Titre: Business Tech Roundup: Microsoft Teams Moves A Step Closer To No Longer Being Part Of Office\n",
      "Source: Forbes\n",
      "URL: https://www.forbes.com/sites/quickerbettertech/2023/12/10/business-tech-roundup-microsoft-teams-moves-a-step-closer-to-no-longer-being-part-of-office/\n",
      "\n",
      "Titre: 2023 Forbes Holiday Cocktail Guide\n",
      "Source: Forbes\n",
      "URL: https://www.forbes.com/sites/karlaalindahao/2023/12/08/best-holiday-cocktail-recipes-2023/\n",
      "\n",
      "Titre: NBA In-Season Tournament Championship Tips Off Tonight: Here’s What To Know About The New Competition\n",
      "Source: Forbes\n",
      "URL: https://www.forbes.com/sites/antoniopequenoiv/2023/12/09/nba-in-season-tournament-championship-tips-off-tonight-heres-what-to-know-about-the-new-competition/\n",
      "\n",
      "Titre: Forget The New MacBook Pro, Apple Has Something Much Better\n",
      "Source: Forbes\n",
      "URL: https://www.forbes.com/sites/ewanspence/2023/12/09/apple-macbook-pro-m3-performance-battery-upgrade-impact-new-macbook-air-release/\n",
      "\n",
      "Titre: Weekend Sip: Looking for the perfect boozy holiday gift? Here’s our annual 12 bottles of Christmas guide.\n",
      "Source: MarketWatch\n",
      "URL: https://www.marketwatch.com/story/looking-for-the-perfect-boozy-holiday-gift-heres-our-annual-12-bottles-of-christmas-guide-ead0054c\n",
      "\n",
      "Titre: New Samsung Leaks Reveal Stunning Galaxy S24 Ultra Design Decision\n",
      "Source: Forbes\n",
      "URL: https://www.forbes.com/sites/ewanspence/2023/12/09/samsung-galaxy-s24-ultra-design-performance-s-pen-speaker-volume-new-galaxy-s24-release/\n",
      "\n",
      "Titre: ‘Squid Game: The Challenge’ Dethroned Again In Netflix’s Top 10 List By A New Show\n",
      "Source: Forbes\n",
      "URL: https://www.forbes.com/sites/paultassi/2023/12/09/squid-game-the-challenge-dethroned-again-in-netflixs-top-10-list-by-a-new-show/\n",
      "\n",
      "Titre: Apple Leak Confirms Surprise iPhone 16 Pro Upgrade\n",
      "Source: Forbes\n",
      "URL: https://www.forbes.com/sites/ewanspence/2023/12/09/apple-iphone-16-pro-max-battery-upgrade-performance-impact-new-iphone-release/\n",
      "\n",
      "Titre: Apple iOS 17.2 Release Date: The Coolest iPhone Upgrade Is Days Away\n",
      "Source: Forbes\n",
      "URL: https://www.forbes.com/sites/davidphelan/2023/12/09/apple-ios-172-release-date-the-coolest-iphone-upgrade-is-days-away/\n",
      "\n",
      "Titre: Apple iMessage Soundly Beaten As Surprise New Update Goes Live\n",
      "Source: Forbes\n",
      "URL: https://www.forbes.com/sites/zakdoffman/2023/12/09/apple-iphone-and-google-android-users-get-surprise-new-facebook-messenger-and-whatsapp-updates/\n",
      "\n",
      "Titre: Holiday Gift Guide: New Zealand Sauvignon Blancs\n",
      "Source: Forbes\n",
      "URL: https://www.forbes.com/sites/jeanettehurt/2023/12/08/holiday-gift-guide-new-zealand-sauvignon-blancs/\n",
      "\n",
      "Titre: Company Close Updates: Snap Inc. stock outperforms competitors on strong trading day\n",
      "Source: MarketWatch\n",
      "URL: https://www.marketwatch.com/data-news/snap-inc-stock-outperforms-competitors-on-strong-trading-day-5248769f-9c9a998da72b\n",
      "\n",
      "Titre: Holiday Gift Guide: 20+ Fine Food Gifts From Around The Globe\n",
      "Source: Forbes\n",
      "URL: https://www.forbes.com/sites/ronaberg/2023/12/08/holiday-gift-guide-20-fine-food--gifts-from-around-the-globe/\n",
      "\n",
      "Titre: What To Stream This Weekend: New Shows And Movies On Netflix, Hulu, Amazon Prime Video And More\n",
      "Source: Forbes\n",
      "URL: https://www.forbes.com/sites/erikkain/2023/12/08/what-to-stream-this-weekend-new-shows-and-movies-on-netflix-hulu-amazon-prime-video-and-more/\n",
      "\n",
      "Titre: Apple Loop: Apple’s iPhone 16 Problem, Stunning iPad Leaks, MacBook Air Surprise\n",
      "Source: Forbes\n",
      "URL: https://www.forbes.com/sites/ewanspence/2023/12/08/apple-headlines-iphone-16-leak-modem-macbook-air-release-date-ipad-pro-specs-apple-watch/\n",
      "\n",
      "Titre: Android Circuit: Pixel 8 Pro’s Massive Update, Improving Genshin Impact, OnePlus 12 Details Confirmed\n",
      "Source: Forbes\n",
      "URL: https://www.forbes.com/sites/ewanspence/2023/12/08/android-headlines-samsung-galaxy-s24-ultra-oneplus-12-discord-app/\n",
      "\n",
      "Titre: How To Photoshop On An iPhone – Edit With Ease\n",
      "Source: Forbes\n",
      "URL: https://www.forbes.com/sites/technology/article/how-to-photoshop-on-an-iphone/\n",
      "\n",
      "Titre: Apple iPhone, Watch product design head to leave: report\n",
      "Source: MarketWatch\n",
      "URL: https://www.marketwatch.com/story/apple-iphone-watch-product-design-head-to-leave-report-bcfc6dc6\n",
      "\n",
      "Titre: : Apple iPhone, Watch product design head to leave: report\n",
      "Source: MarketWatch\n",
      "URL: https://www.marketwatch.com/story/apple-iphone-watch-product-design-head-to-leave-report-bcfc6dc6\n",
      "\n",
      "Titre: Paramount Shares Rocket After Reports Of Potential Takeover\n",
      "Source: Forbes\n",
      "URL: https://www.forbes.com/sites/antoniopequenoiv/2023/12/08/paramount-shares-rocket-after-reports-of-potential-takeover/\n",
      "\n",
      "Titre: Sip Into The Season With These 10 Winter Cocktails\n",
      "Source: Forbes\n",
      "URL: https://www.forbes.com/sites/emilyprice/2023/12/08/sip-into-the-season-with-these-10-winter-cocktails/\n",
      "\n",
      "Titre: Holiday Gift Guide 2023: The Best Non-Alcoholic Gifts\n",
      "Source: Forbes\n",
      "URL: https://www.forbes.com/sites/nomanazish/2023/12/08/holiday-gift-guide-2023-the-best-non-alcoholic-gifts/\n",
      "\n",
      "Titre: Soviet Mainframes To Silicon Mountains: Armenia As A Tech Powerhouse\n",
      "Source: Forbes\n",
      "URL: https://www.forbes.com/sites/craigsmith/2023/12/08/soviet-mainframes-to-silicon-mountains-armenia-as-a-tech-powerhouse/\n",
      "\n",
      "Titre: Southall Aces Southern Hospitality As Epic Farm Resort\n",
      "Source: Forbes\n",
      "URL: https://www.forbes.com/sites/beckbamberger/2023/12/08/southall-aces-southern-hospitality-as-epic-farm-resort/\n",
      "\n",
      "Titre: Apple's latest moves in India underscore data showing it's primed to be the next China\n",
      "Source: CNBC\n",
      "URL: https://www.cnbc.com/2023/12/08/apples-latest-moves-in-india-underscore-data-showing-its-primed-to-be-the-next-china.html\n",
      "\n",
      "Titre: X Has Become A Full-Fledged PR Disaster But It Won't Go Away Anytime Soon\n",
      "Source: Forbes\n",
      "URL: https://www.forbes.com/sites/petersuciu/2023/12/08/x-has-become-a-full-fledged-pr-disaster-but-it-wont-go-away-anytime-soon/\n",
      "\n",
      "Titre: Paramount shares jump after reports of takeover interest\n",
      "Source: CNBC\n",
      "URL: https://www.cnbc.com/2023/12/08/paramount-para-takeover-interest-reports.html\n",
      "\n",
      "Titre: Investors are taking more risk as we near the end of 2023\n",
      "Source: MarketWatch\n",
      "URL: https://www.marketwatch.com/story/investors-are-taking-more-risk-as-we-near-the-end-of-2023-534e8964\n",
      "\n",
      "Titre: Three Moves For Developing General Management Talent\n",
      "Source: Forbes\n",
      "URL: https://www.forbes.com/sites/stephenmiles/2023/12/08/three-moves-for-developing-general-management-talent/\n",
      "\n",
      "Titre: Can The Jobs Number End The Rally?\n",
      "Source: Forbes\n",
      "URL: https://www.forbes.com/sites/jjkinahan/2023/12/08/can-the-jobs-number-end-the-rally/\n",
      "\n",
      "Titre: Google weighs Gemini AI project to tell people their life story using phone data, photos\n",
      "Source: CNBC\n",
      "URL: https://www.cnbc.com/2023/12/08/google-weighing-project-ellmann-uses-gemini-ai-to-tell-life-stories.html\n",
      "\n",
      "Titre: Holiday Gift Guide 2023: The Best Stocking Stuffer Supplements\n",
      "Source: Forbes\n",
      "URL: https://www.forbes.com/sites/annahaines/2023/12/08/holiday-gift-guide-2023-the-best-stocking-stuffer-supplements/\n",
      "\n",
      "Titre: Jim Cramer's top 10 things to watch in the stock market Friday\n",
      "Source: CNBC\n",
      "URL: https://www.cnbc.com/2023/12/08/jim-cramers-top-10-things-to-watch-in-the-stock-market-friday.html\n",
      "\n",
      "Titre: Lessons Learned From Health Plan Transformation\n",
      "Source: Forbes\n",
      "URL: https://www.forbes.com/sites/forbestechcouncil/2023/12/08/lessons-learned-from-health-plan-transformation/\n",
      "\n",
      "Titre: Market Extra: Can the U.S. stock-market rally survive without ‘the Magnificent Seven?’ One top Wall Street strategist says ‘yes’.\n",
      "Source: MarketWatch\n",
      "URL: https://www.marketwatch.com/story/can-the-u-s-stock-market-rally-survive-without-the-magnificent-seven-one-top-wall-street-strategist-says-yes-c7703e7c\n",
      "\n",
      "Titre: Greta Gerwig’s Movies: Ranked And In Order Of Release\n",
      "Source: Forbes\n",
      "URL: https://www.forbes.com/sites/entertainment/article/greta-gerwig-movies/\n",
      "\n",
      "Titre: Unlocking More Value From Sponsorship Rights, Properties, And Assets\n",
      "Source: Forbes\n",
      "URL: https://www.forbes.com/sites/stephendiorio/2023/12/08/unlocking-more-value-from-sponsorship-rights-properties-and-assets/\n",
      "\n",
      "Titre: No-One Cares Which Bank Provides Their Apple Card\n",
      "Source: Forbes\n",
      "URL: https://www.forbes.com/sites/davidbirch/2023/12/08/no-one-cares-which-bank-provides-their-apple-card/\n",
      "\n",
      "Titre: Apple Wants To Make 1-In-4 iPhones In India As Tata Plans To Build Country’s Biggest Factory For The Smartphone, Reports Say\n",
      "Source: Forbes\n",
      "URL: https://www.forbes.com/sites/siladityaray/2023/12/08/apple-wants-to-make-1-in-4-iphones-in-india-as-tata-plans-to-build-countrys-biggest-factory-for-the-smartphone-reports-say/\n",
      "\n",
      "Titre: Need to Know: Investors might panic as inflation falls further — here’s the stock-market call of JPMorgan’s resolute bear\n",
      "Source: MarketWatch\n",
      "URL: https://www.marketwatch.com/story/investors-might-panic-as-inflation-falls-further-heres-the-stock-market-call-of-jpmorgans-resolute-bear-e451172d\n",
      "\n",
      "Titre: The Forbes 2023 All-Star Eateries In New York\n",
      "Source: Forbes\n",
      "URL: https://www.forbes.com/sites/steveforbes/2023/12/08/the-forbes-2023-all-star-eateries-in-new-york/\n",
      "\n",
      "Titre: The 2024 Subaru Impreza vs. the Honda Civic: How these compact cars compare\n",
      "Source: MarketWatch\n",
      "URL: https://www.marketwatch.com/story/the-2024-subaru-impreza-vs-the-honda-civic-how-these-compact-cars-compare-d50b8cc3\n",
      "\n",
      "Titre: Apple reportedly plans major expansion of iPhone production in India\n",
      "Source: MarketWatch\n",
      "URL: https://www.marketwatch.com/story/apple-reportedly-plans-major-expansion-of-iphone-production-in-india-af079e34\n",
      "\n",
      "Titre: : Apple reportedly plans major expansion of iPhone production in India\n",
      "Source: MarketWatch\n",
      "URL: https://www.marketwatch.com/story/apple-reportedly-plans-major-expansion-of-iphone-production-in-india-af079e34\n",
      "\n",
      "Titre: Here’s How Fashion Is Showing Up At Art Basel Miami 2023\n",
      "Source: Forbes\n",
      "URL: https://www.forbes.com/sites/cassellferere/2023/12/07/heres-how-fashion-is-showing-up-at-art-basel-miami-2023/\n",
      "\n",
      "Titre: Broadcom's AI prowess is undiminished, despite reporting a mixed quarter\n",
      "Source: CNBC\n",
      "URL: https://www.cnbc.com/2023/12/07/broadcoms-ai-prowess-is-undiminished-despite-a-mixed-quarter.html\n",
      "\n",
      "Titre: Elon Musk considers reinstating Alex Jones' X account, backtracking on prior decision\n",
      "Source: CNBC\n",
      "URL: https://www.cnbc.com/2023/12/07/elon-musk-considers-reinstating-alex-jones-x-account.html\n",
      "\n",
      "Titre: Holiday Gift Guide 2023: The 10 Best Sweet Treats From Hotels\n",
      "Source: Forbes\n",
      "URL: https://www.forbes.com/sites/brittanyanas/2023/12/07/holiday-gift-guide-2023-the-10-best-sweet-treats-from-hotels/\n",
      "\n",
      "Titre: Company Close Updates: Peloton Interactive Inc. stock underperforms Thursday when compared to competitors\n",
      "Source: MarketWatch\n",
      "URL: https://www.marketwatch.com/data-news/peloton-interactive-inc-stock-underperforms-thursday-when-compared-to-competitors-4d28c24f-f927ea2c1913\n",
      "\n",
      "Titre: Here's what's on the menu at McDonald's new CosMc's spinoff restaurant\n",
      "Source: CNBC\n",
      "URL: https://www.cnbc.com/2023/12/07/heres-whats-on-the-menu-at-mcdonalds-new-cosmcs-spinoff-restaurant.html\n",
      "\n",
      "Titre: Apple Adds NameDrop-Like Pass-Sharing Feature To Latest iOS 17.2 Beta That Presages Similar Accessibility Gains\n",
      "Source: Forbes\n",
      "URL: https://www.forbes.com/sites/stevenaquino/2023/12/07/apple-adds-namedrop-like-pass-sharing-feature-to-latest-ios-172-beta-that-presages-similar-accessibility-gains/\n",
      "\n",
      "Titre: Thriving In The Unknown: How To Navigate Life’s Chaos With Ease\n",
      "Source: Forbes\n",
      "URL: https://www.forbes.com/sites/soulaimagourani/2023/12/07/thriving-in-the-unknown-how-to-navigate-lifes-chaos-with-ease/\n",
      "\n",
      "Titre: TikTok’s Most Popular Songs In 2023 Were Sped-Up Remixes\n",
      "Source: Forbes\n",
      "URL: https://www.forbes.com/sites/conormurray/2023/12/07/tiktoks-most-popular-songs-in-2023-were-sped-up-remixes/\n",
      "\n",
      "Titre: Apple iPad 2024: All-New Big-Screen Model Coming In Weeks, Report Says\n",
      "Source: Forbes\n",
      "URL: https://www.forbes.com/sites/davidphelan/2023/12/07/apple-ipad-2024-all-new-big-screen-model-coming-in-weeks-report-says/\n",
      "\n",
      "Titre: How To Tackle Generative AI And Data Governance\n",
      "Source: Forbes\n",
      "URL: https://www.forbes.com/sites/meganpoinski/2023/12/07/how-to-tackle-generative-ai-and-data-governance/\n",
      "\n",
      "Titre: Dow Update: Walgreens Boots, Intel share gains contribute to Dow's nearly 100-point jump\n",
      "Source: MarketWatch\n",
      "URL: https://www.marketwatch.com/data-news/walgreens-boots-intel-share-gains-contribute-to-dow-s-nearly-100-point-jump-16786b01-5ec24748c015\n",
      "\n",
      "Titre: : Tesla executive overseeing Dojo supercomputer departs: report\n",
      "Source: MarketWatch\n",
      "URL: https://www.marketwatch.com/story/tesla-executive-overseeing-dojo-supercomputer-departs-report-2e767dec\n",
      "\n",
      "Titre: Google Training Gemini On Its Own Chips Reveals Another Of Its Advantages\n",
      "Source: Forbes\n",
      "URL: https://www.forbes.com/sites/richardnieva/2023/12/07/google-deepmind-gemini-tpu/\n",
      "\n",
      "Titre: Musk Slams Disney CEO Bob Iger—Again—After Disney Suspends Ads On X\n",
      "Source: Forbes\n",
      "URL: https://www.forbes.com/sites/brianbushard/2023/12/07/musk-slams-disney-ceo-bob-iger-again-after-disney-suspends-ads-on-x/\n",
      "\n",
      "Titre: The Evolving Landscape Of Communication Service Providers: Challenges And Strategies\n",
      "Source: Forbes\n",
      "URL: https://www.forbes.com/sites/forbesbusinesscouncil/2023/12/07/the-evolving-landscape-of-communication-service-providers-challenges-and-strategies/\n",
      "\n",
      "Titre: Deep Dive: These are the dividend stocks that will hold up in a weakening economy in 2024, says this highly rated money manager\n",
      "Source: MarketWatch\n",
      "URL: https://www.marketwatch.com/story/these-are-the-dividend-stocks-that-will-hold-up-in-a-weakening-economy-in-2024-says-this-highly-rated-money-manager-45fb3865\n",
      "\n",
      "Titre: Elvis Presley’s Comeback: The King Returns To Several Billboard Charts\n",
      "Source: Forbes\n",
      "URL: https://www.forbes.com/sites/hughmcintyre/2023/12/07/elvis-presleys-comeback-the-king-returns-to-several-billboard-charts/\n",
      "\n",
      "Titre: AI Agents And The Era Of The Intelligent Interface\n",
      "Source: Forbes\n",
      "URL: https://www.forbes.com/sites/davidarmano/2023/12/07/ai-agents-and-the-era-of-the-intelligent-interface/\n",
      "\n",
      "Titre: OWC Reveals Its First And Fastest USB4 Enclosure For SSDs\n",
      "Source: Forbes\n",
      "URL: https://www.forbes.com/sites/marksparrow/2023/12/07/owc-reveals-its-first-and-fastest-usb4-enclosure-for-ssds/\n",
      "\n",
      "Titre: 5 Consumer Tech Industry Predictions For 2024\n",
      "Source: Forbes\n",
      "URL: https://www.forbes.com/sites/forbestechcouncil/2023/12/07/5-consumer-tech-industry-predictions-for-2024/\n",
      "\n",
      "Titre: Insta360 Go 3 Gets The Classic Matte Black Treatment With A New Version\n",
      "Source: Forbes\n",
      "URL: https://www.forbes.com/sites/prakharkhanna/2023/12/07/insta360-go-3-gets-the-classic-matte-black-treatment-with-a-new-version/\n",
      "\n",
      "Titre: U.S. retail lobbyists retract key claim on 'organized retail crime' accounting for inventory losses\n",
      "Source: CNBC\n",
      "URL: https://www.cnbc.com/2023/12/07/us-retail-lobbyists-retract-key-claim-on-organized-retail-crime-accounting-for-inventory-losses.html\n",
      "\n",
      "Titre: India’s stock market tops $4 trillion in value as investors buy into world’s fastest growing big economy\n",
      "Source: MarketWatch\n",
      "URL: https://www.marketwatch.com/story/indias-stock-market-tops-4-trillion-in-value-as-investors-buy-into-worlds-fastest-growing-big-economy-12c471e1\n",
      "\n",
      "Titre: iOS 17.2 Is Coming Any Minute Now With Brilliant New iPhone Features\n",
      "Source: Forbes\n",
      "URL: https://www.forbes.com/sites/kateoflahertyuk/2023/12/07/ios-172-is-coming-any-minute-now-with-brilliant-new-iphone-features/\n",
      "\n",
      "Titre: With Concerns About Brand Safety, More Advertisers Have Left X\n",
      "Source: Forbes\n",
      "URL: https://www.forbes.com/sites/bradadgate/2023/12/07/with-concerns-about-brand-safety-more-advertisers-have-left-x/\n",
      "\n",
      "Titre: Why You Should Buy Costco’s Latest Scotch Whisky Expressions\n",
      "Source: Forbes\n",
      "URL: https://www.forbes.com/sites/joemicallef/2023/12/07/why-you-should-buy-costcos-latest-scotch-whisky-expressions/\n",
      "\n",
      "Titre: U.S. Government Secretly Demanding Phone Data, Senator Claims\n",
      "Source: Forbes\n",
      "URL: https://www.forbes.com/sites/emmawoollacott/2023/12/07/us-government-secretly-demanding-phone-data-senator-claims/\n",
      "\n",
      "Titre: There’s a new market dynamic heading into payrolls report, Goldman trading expert says\n",
      "Source: MarketWatch\n",
      "URL: https://www.marketwatch.com/story/theres-a-new-market-dynamic-heading-into-payrolls-report-goldman-trading-expert-says-1f3798f2\n",
      "\n",
      "Titre: Tech Moms Thriving: Balancing Bytes And Well-Being In The CTO's World\n",
      "Source: Forbes\n",
      "URL: https://www.forbes.com/sites/forbestechcouncil/2023/12/07/tech-moms-thriving-balancing-bytes-and-well-being-in-the-ctos-world/\n",
      "\n",
      "Titre: Microsoft's president meets with the Chinese government to discuss A.I. co-operation\n",
      "Source: CNBC\n",
      "URL: https://www.cnbc.com/2023/12/07/microsofts-president-meets-with-the-chinese-government-to-talk-ai.html\n",
      "\n",
      "Titre: Meta Launches End-To-End Encryption For Messages On Facebook And Messenger\n",
      "Source: Forbes\n",
      "URL: https://www.forbes.com/sites/roberthart/2023/12/07/meta-launches-end-to-end-encryption-for-messages-on-facebook-and-messenger/\n",
      "\n",
      "Titre: New Apple Leak Hints At Early MacBook Air Upgrade\n",
      "Source: Forbes\n",
      "URL: https://www.forbes.com/sites/ewanspence/2023/12/06/apple-macbook-air-m3-apple-silicon-upgrade-new-macbook/\n",
      "\n",
      "Titre: Meta to expand encryption on Messenger making it similar to WhatsApp\n",
      "Source: CNBC\n",
      "URL: https://www.cnbc.com/2023/12/07/meta-to-expand-encryption-on-messenger-making-it-similar-to-whatsapp.html\n",
      "\n",
      "Titre: Every Major Event In Taylor Swift's Record-Breaking 2023—From The Eras Tour To Time Person Of The Year\n",
      "Source: Forbes\n",
      "URL: https://www.forbes.com/sites/conormurray/2023/12/06/every-major-event-in-taylor-swifts-record-breaking-2023-from-the-eras-tour-to-time-person-of-the-year/\n",
      "\n",
      "Titre: The Democratization Of Corporate Governance\n",
      "Source: Forbes\n",
      "URL: https://www.forbes.com/sites/quora/2023/12/06/the-democratization-of-corporate-governance/\n",
      "\n",
      "Titre: Morgan Wallen Says ‘There’s No Excuse’ For Using Racial Slur\n",
      "Source: Forbes\n",
      "URL: https://www.forbes.com/sites/anafaguy/2023/12/06/morgan-wallen-says-theres-no-excuse-for-using-racial-slur/\n",
      "\n",
      "Titre: Apple Planning New iPads And Macs Amid Drop In Sales, Report Says\n",
      "Source: Forbes\n",
      "URL: https://www.forbes.com/sites/britneynguyen/2023/12/06/apple-planning-new-ipads-and-macs-amid-drop-in-sales-report-says/\n",
      "\n",
      "Titre: The Launch Of The Access Controller For PlayStation 5 Is A Really Big Deal For Gamers And Tech Journalists Alike\n",
      "Source: Forbes\n",
      "URL: https://www.forbes.com/sites/stevenaquino/2023/12/06/the-launch-of-the-access-controller-for-playstation-5-is-a-really-big-deal-for-gamers-and-tech-journalists-alike/\n",
      "\n",
      "Titre: Disney+ adding Hulu integration as streaming bundles accelerate\n",
      "Source: CNBC\n",
      "URL: https://www.cnbc.com/2023/12/06/disney-adding-hulu-integration-as-streaming-bundles-accelerate.html\n",
      "\n",
      "Titre: Ex-Twitter Executive Alleges He Was Fired After Musk Sale For Raising Security Concerns\n",
      "Source: Forbes\n",
      "URL: https://www.forbes.com/sites/antoniopequenoiv/2023/12/06/ex-twitter-executive-alleges-he-was-fired-after-musk-sale-for-raising-security-concerns/\n",
      "\n",
      "Titre: Front Office Sports: Disney’s ESPN wants to keep the NBA, but could the price be too high?\n",
      "Source: MarketWatch\n",
      "URL: https://www.marketwatch.com/story/disneys-espn-wants-to-keep-the-nba-but-could-the-price-be-too-high-90cca310\n",
      "\n",
      "Titre: These are the best—and worst—U.S. metro areas for the middle class, new study shows\n",
      "Source: CNBC\n",
      "URL: https://www.cnbc.com/2023/12/06/lisep-best-worst-cities-us-middle-class.html\n",
      "\n",
      "Titre: Fisker’s stock at all-time low amid rallies for other EV makers’ stocks\n",
      "Source: MarketWatch\n",
      "URL: https://www.marketwatch.com/story/fiskers-stock-at-all-time-low-amid-rallies-for-other-ev-makers-stocks-51e139a5\n",
      "\n",
      "Titre: Samsung Makes Surprise Free Offer To Galaxy S23 Owners\n",
      "Source: Forbes\n",
      "URL: https://www.forbes.com/sites/jaymcgregor/2023/12/06/samsung-boost-free-disney-plus-subscription-galaxy-s23/\n",
      "\n",
      "Titre: Does Your Dream Job Really Exist?\n",
      "Source: Forbes\n",
      "URL: https://www.forbes.com/sites/jameshudson/2023/12/06/does-your-dream-job-really-exist/\n",
      "\n",
      "Titre: Decoding Bezos: Brilliant Or Lucky? 4 Key Insights For Ventures & Angels\n",
      "Source: Forbes\n",
      "URL: https://www.forbes.com/sites/dileeprao/2023/12/06/decoding-bezos-brilliant-or-lucky-4-key-insights-for-ventures--angels/\n",
      "\n"
     ]
    }
   ],
   "source": [
    "\n",
    "import requests\n",
    "parameters = {\n",
    "    'q': 'Apple',\n",
    "    'domains': 'marketwatch.com,cnbc.com,wsj.com,forbes.com',\n",
    "    'sortBy': 'publishedAt',\n",
    "    'apiKey': '1b20fb6f9b9d40f0b4e4ad6fe5d90755'  # Assurez-vous d'utiliser votre propre clé API\n",
    "}\n",
    "\n",
    "url = 'https://newsapi.org/v2/everything'\n",
    "\n",
    "# Appel de l'API\n",
    "response = requests.get(url, params=parameters)\n",
    "articles = response.json().get('articles', [])  # Utilisez .get pour éviter les erreurs si 'articles' n'existe pas\n",
    "\n",
    "# Itérer sur chaque article récupéré\n",
    "for article in articles:\n",
    "    title = article.get('title', 'Titre indisponible')  # Utilisez .get pour éviter les erreurs si 'title' n'existe pas\n",
    "    source_name = article.get('source', {}).get('name', 'Source indisponible')  # Récupérer le nom de la source\n",
    "    url = article.get('url', 'URL indisponible')  # Récupérer l'URL de l'article\n",
    "    print(f\"Titre: {title}\\nSource: {source_name}\\nURL: {url}\\n\")\n"
   ]
  },
  {
   "cell_type": "code",
   "execution_count": 4,
   "metadata": {},
   "outputs": [],
   "source": [
    "import csv\n",
    "\n",
    "with open('articles.csv', mode='w', newline='', encoding='utf-8') as file:\n",
    "    writer = csv.writer(file)\n",
    "    writer.writerow(['Titre', 'URL', 'Date de publication', 'Description','Source'])\n",
    "    for article in articles:\n",
    "        if \"Apple\" not in article['title']:\n",
    "          continue\n",
    "        writer.writerow([article['title'], article['url'], article['publishedAt'], article['description'], article['source']['name']])\n",
    "\n",
    "       "
   ]
  },
  {
   "cell_type": "markdown",
   "metadata": {},
   "source": [
    "\n",
    "\n",
    "# Récupération du contenu des articles"
   ]
  },
  {
   "cell_type": "code",
   "execution_count": 5,
   "metadata": {},
   "outputs": [
    {
     "data": {
      "text/html": [
       "<div>\n",
       "<style scoped>\n",
       "    .dataframe tbody tr th:only-of-type {\n",
       "        vertical-align: middle;\n",
       "    }\n",
       "\n",
       "    .dataframe tbody tr th {\n",
       "        vertical-align: top;\n",
       "    }\n",
       "\n",
       "    .dataframe thead th {\n",
       "        text-align: right;\n",
       "    }\n",
       "</style>\n",
       "<table border=\"1\" class=\"dataframe\">\n",
       "  <thead>\n",
       "    <tr style=\"text-align: right;\">\n",
       "      <th></th>\n",
       "      <th>Titre</th>\n",
       "      <th>URL</th>\n",
       "      <th>Date de publication</th>\n",
       "      <th>Description</th>\n",
       "      <th>Source</th>\n",
       "    </tr>\n",
       "  </thead>\n",
       "  <tbody>\n",
       "    <tr>\n",
       "      <th>0</th>\n",
       "      <td>iPhone 16 And iPhone 16 Pro To Upgrade Importa...</td>\n",
       "      <td>https://www.forbes.com/sites/davidphelan/2023/...</td>\n",
       "      <td>2023-12-11T00:00:01Z</td>\n",
       "      <td>Next year’s iPhones will have an improved hard...</td>\n",
       "      <td>Forbes</td>\n",
       "    </tr>\n",
       "    <tr>\n",
       "      <th>1</th>\n",
       "      <td>Apple Leak Confirms Surprise iPhone 16 Pro Upg...</td>\n",
       "      <td>https://www.forbes.com/sites/ewanspence/2023/1...</td>\n",
       "      <td>2023-12-10T21:42:30Z</td>\n",
       "      <td>iPhone 16 Pro models will be the first to bene...</td>\n",
       "      <td>Forbes</td>\n",
       "    </tr>\n",
       "    <tr>\n",
       "      <th>2</th>\n",
       "      <td>Forget The New MacBook Pro, Apple Has Somethin...</td>\n",
       "      <td>https://www.forbes.com/sites/ewanspence/2023/1...</td>\n",
       "      <td>2023-12-10T19:17:56Z</td>\n",
       "      <td>Apple’s awkward MacBook Pro may look attractiv...</td>\n",
       "      <td>Forbes</td>\n",
       "    </tr>\n",
       "    <tr>\n",
       "      <th>3</th>\n",
       "      <td>Apple's Competency At Its Core</td>\n",
       "      <td>https://www.forbes.com/sites/gregpetro/2023/12...</td>\n",
       "      <td>2023-12-10T18:37:42Z</td>\n",
       "      <td>Examining Apple's triumph in innovation and ma...</td>\n",
       "      <td>Forbes</td>\n",
       "    </tr>\n",
       "    <tr>\n",
       "      <th>4</th>\n",
       "      <td>Forget The New MacBook Pro, Apple Has Somethin...</td>\n",
       "      <td>https://www.forbes.com/sites/ewanspence/2023/1...</td>\n",
       "      <td>2023-12-09T20:30:22Z</td>\n",
       "      <td>Apple’s awkward MacBook Pro may look attractiv...</td>\n",
       "      <td>Forbes</td>\n",
       "    </tr>\n",
       "    <tr>\n",
       "      <th>5</th>\n",
       "      <td>Apple Leak Confirms Surprise iPhone 16 Pro Upg...</td>\n",
       "      <td>https://www.forbes.com/sites/ewanspence/2023/1...</td>\n",
       "      <td>2023-12-09T14:42:17Z</td>\n",
       "      <td>iPhone 16 Pro models will be the first to bene...</td>\n",
       "      <td>Forbes</td>\n",
       "    </tr>\n",
       "    <tr>\n",
       "      <th>6</th>\n",
       "      <td>Apple iOS 17.2 Release Date: The Coolest iPhon...</td>\n",
       "      <td>https://www.forbes.com/sites/davidphelan/2023/...</td>\n",
       "      <td>2023-12-09T14:38:43Z</td>\n",
       "      <td>There’s a big iPhone update coming and it’s fu...</td>\n",
       "      <td>Forbes</td>\n",
       "    </tr>\n",
       "    <tr>\n",
       "      <th>7</th>\n",
       "      <td>Apple iMessage Soundly Beaten As Surprise New ...</td>\n",
       "      <td>https://www.forbes.com/sites/zakdoffman/2023/1...</td>\n",
       "      <td>2023-12-09T12:30:29Z</td>\n",
       "      <td>Forget iPhone 15—Apple suddenly has a major iP...</td>\n",
       "      <td>Forbes</td>\n",
       "    </tr>\n",
       "    <tr>\n",
       "      <th>8</th>\n",
       "      <td>Apple Loop: Apple’s iPhone 16 Problem, Stunnin...</td>\n",
       "      <td>https://www.forbes.com/sites/ewanspence/2023/1...</td>\n",
       "      <td>2023-12-08T21:32:17Z</td>\n",
       "      <td>This week’s Apple headlines; Apple’s iPhone 16...</td>\n",
       "      <td>Forbes</td>\n",
       "    </tr>\n",
       "    <tr>\n",
       "      <th>9</th>\n",
       "      <td>Apple iPhone, Watch product design head to lea...</td>\n",
       "      <td>https://www.marketwatch.com/story/apple-iphone...</td>\n",
       "      <td>2023-12-08T20:37:19Z</td>\n",
       "      <td>Tang Tan, the Apple Inc. executive who headed ...</td>\n",
       "      <td>MarketWatch</td>\n",
       "    </tr>\n",
       "    <tr>\n",
       "      <th>10</th>\n",
       "      <td>: Apple iPhone, Watch product design head to l...</td>\n",
       "      <td>https://www.marketwatch.com/story/apple-iphone...</td>\n",
       "      <td>2023-12-08T20:30:00Z</td>\n",
       "      <td>Tang Tan, the Apple Inc. executive who headed ...</td>\n",
       "      <td>MarketWatch</td>\n",
       "    </tr>\n",
       "    <tr>\n",
       "      <th>11</th>\n",
       "      <td>Apple's latest moves in India underscore data ...</td>\n",
       "      <td>https://www.cnbc.com/2023/12/08/apples-latest-...</td>\n",
       "      <td>2023-12-08T18:20:47Z</td>\n",
       "      <td>India's economy is about 16½ years behind Chin...</td>\n",
       "      <td>CNBC</td>\n",
       "    </tr>\n",
       "    <tr>\n",
       "      <th>12</th>\n",
       "      <td>No-One Cares Which Bank Provides Their Apple Card</td>\n",
       "      <td>https://www.forbes.com/sites/davidbirch/2023/1...</td>\n",
       "      <td>2023-12-08T11:57:45Z</td>\n",
       "      <td>So long as my rewards card works and I get my ...</td>\n",
       "      <td>Forbes</td>\n",
       "    </tr>\n",
       "    <tr>\n",
       "      <th>13</th>\n",
       "      <td>Apple Wants To Make 1-In-4 iPhones In India As...</td>\n",
       "      <td>https://www.forbes.com/sites/siladityaray/2023...</td>\n",
       "      <td>2023-12-08T11:48:48Z</td>\n",
       "      <td>Apple wants to expand its Indian manufacturing...</td>\n",
       "      <td>Forbes</td>\n",
       "    </tr>\n",
       "    <tr>\n",
       "      <th>14</th>\n",
       "      <td>Apple reportedly plans major expansion of iPho...</td>\n",
       "      <td>https://www.marketwatch.com/story/apple-report...</td>\n",
       "      <td>2023-12-08T04:23:00Z</td>\n",
       "      <td>Apple Inc. is planning a massive expansion of ...</td>\n",
       "      <td>MarketWatch</td>\n",
       "    </tr>\n",
       "    <tr>\n",
       "      <th>15</th>\n",
       "      <td>: Apple reportedly plans major expansion of iP...</td>\n",
       "      <td>https://www.marketwatch.com/story/apple-report...</td>\n",
       "      <td>2023-12-08T04:23:00Z</td>\n",
       "      <td>Apple Inc. is planning a massive expansion of ...</td>\n",
       "      <td>MarketWatch</td>\n",
       "    </tr>\n",
       "    <tr>\n",
       "      <th>16</th>\n",
       "      <td>Apple Adds NameDrop-Like Pass-Sharing Feature ...</td>\n",
       "      <td>https://www.forbes.com/sites/stevenaquino/2023...</td>\n",
       "      <td>2023-12-07T21:56:41Z</td>\n",
       "      <td>The feature bears a strong resemblance to the ...</td>\n",
       "      <td>Forbes</td>\n",
       "    </tr>\n",
       "    <tr>\n",
       "      <th>17</th>\n",
       "      <td>Apple iPad 2024: All-New Big-Screen Model Comi...</td>\n",
       "      <td>https://www.forbes.com/sites/davidphelan/2023/...</td>\n",
       "      <td>2023-12-07T19:30:38Z</td>\n",
       "      <td>The latest reports suggest that four new iPads...</td>\n",
       "      <td>Forbes</td>\n",
       "    </tr>\n",
       "    <tr>\n",
       "      <th>18</th>\n",
       "      <td>New Apple Leak Hints At Early MacBook Air Upgrade</td>\n",
       "      <td>https://www.forbes.com/sites/ewanspence/2023/1...</td>\n",
       "      <td>2023-12-07T09:30:30Z</td>\n",
       "      <td>Apple's next MacBook Air laptops may arrive ea...</td>\n",
       "      <td>Forbes</td>\n",
       "    </tr>\n",
       "    <tr>\n",
       "      <th>19</th>\n",
       "      <td>Apple Planning New iPads And Macs Amid Drop In...</td>\n",
       "      <td>https://www.forbes.com/sites/britneynguyen/202...</td>\n",
       "      <td>2023-12-06T19:57:35Z</td>\n",
       "      <td>Apple did not release new iPads this year, con...</td>\n",
       "      <td>Forbes</td>\n",
       "    </tr>\n",
       "  </tbody>\n",
       "</table>\n",
       "</div>"
      ],
      "text/plain": [
       "                                                Titre  \\\n",
       "0   iPhone 16 And iPhone 16 Pro To Upgrade Importa...   \n",
       "1   Apple Leak Confirms Surprise iPhone 16 Pro Upg...   \n",
       "2   Forget The New MacBook Pro, Apple Has Somethin...   \n",
       "3                      Apple's Competency At Its Core   \n",
       "4   Forget The New MacBook Pro, Apple Has Somethin...   \n",
       "5   Apple Leak Confirms Surprise iPhone 16 Pro Upg...   \n",
       "6   Apple iOS 17.2 Release Date: The Coolest iPhon...   \n",
       "7   Apple iMessage Soundly Beaten As Surprise New ...   \n",
       "8   Apple Loop: Apple’s iPhone 16 Problem, Stunnin...   \n",
       "9   Apple iPhone, Watch product design head to lea...   \n",
       "10  : Apple iPhone, Watch product design head to l...   \n",
       "11  Apple's latest moves in India underscore data ...   \n",
       "12  No-One Cares Which Bank Provides Their Apple Card   \n",
       "13  Apple Wants To Make 1-In-4 iPhones In India As...   \n",
       "14  Apple reportedly plans major expansion of iPho...   \n",
       "15  : Apple reportedly plans major expansion of iP...   \n",
       "16  Apple Adds NameDrop-Like Pass-Sharing Feature ...   \n",
       "17  Apple iPad 2024: All-New Big-Screen Model Comi...   \n",
       "18  New Apple Leak Hints At Early MacBook Air Upgrade   \n",
       "19  Apple Planning New iPads And Macs Amid Drop In...   \n",
       "\n",
       "                                                  URL   Date de publication  \\\n",
       "0   https://www.forbes.com/sites/davidphelan/2023/...  2023-12-11T00:00:01Z   \n",
       "1   https://www.forbes.com/sites/ewanspence/2023/1...  2023-12-10T21:42:30Z   \n",
       "2   https://www.forbes.com/sites/ewanspence/2023/1...  2023-12-10T19:17:56Z   \n",
       "3   https://www.forbes.com/sites/gregpetro/2023/12...  2023-12-10T18:37:42Z   \n",
       "4   https://www.forbes.com/sites/ewanspence/2023/1...  2023-12-09T20:30:22Z   \n",
       "5   https://www.forbes.com/sites/ewanspence/2023/1...  2023-12-09T14:42:17Z   \n",
       "6   https://www.forbes.com/sites/davidphelan/2023/...  2023-12-09T14:38:43Z   \n",
       "7   https://www.forbes.com/sites/zakdoffman/2023/1...  2023-12-09T12:30:29Z   \n",
       "8   https://www.forbes.com/sites/ewanspence/2023/1...  2023-12-08T21:32:17Z   \n",
       "9   https://www.marketwatch.com/story/apple-iphone...  2023-12-08T20:37:19Z   \n",
       "10  https://www.marketwatch.com/story/apple-iphone...  2023-12-08T20:30:00Z   \n",
       "11  https://www.cnbc.com/2023/12/08/apples-latest-...  2023-12-08T18:20:47Z   \n",
       "12  https://www.forbes.com/sites/davidbirch/2023/1...  2023-12-08T11:57:45Z   \n",
       "13  https://www.forbes.com/sites/siladityaray/2023...  2023-12-08T11:48:48Z   \n",
       "14  https://www.marketwatch.com/story/apple-report...  2023-12-08T04:23:00Z   \n",
       "15  https://www.marketwatch.com/story/apple-report...  2023-12-08T04:23:00Z   \n",
       "16  https://www.forbes.com/sites/stevenaquino/2023...  2023-12-07T21:56:41Z   \n",
       "17  https://www.forbes.com/sites/davidphelan/2023/...  2023-12-07T19:30:38Z   \n",
       "18  https://www.forbes.com/sites/ewanspence/2023/1...  2023-12-07T09:30:30Z   \n",
       "19  https://www.forbes.com/sites/britneynguyen/202...  2023-12-06T19:57:35Z   \n",
       "\n",
       "                                          Description       Source  \n",
       "0   Next year’s iPhones will have an improved hard...       Forbes  \n",
       "1   iPhone 16 Pro models will be the first to bene...       Forbes  \n",
       "2   Apple’s awkward MacBook Pro may look attractiv...       Forbes  \n",
       "3   Examining Apple's triumph in innovation and ma...       Forbes  \n",
       "4   Apple’s awkward MacBook Pro may look attractiv...       Forbes  \n",
       "5   iPhone 16 Pro models will be the first to bene...       Forbes  \n",
       "6   There’s a big iPhone update coming and it’s fu...       Forbes  \n",
       "7   Forget iPhone 15—Apple suddenly has a major iP...       Forbes  \n",
       "8   This week’s Apple headlines; Apple’s iPhone 16...       Forbes  \n",
       "9   Tang Tan, the Apple Inc. executive who headed ...  MarketWatch  \n",
       "10  Tang Tan, the Apple Inc. executive who headed ...  MarketWatch  \n",
       "11  India's economy is about 16½ years behind Chin...         CNBC  \n",
       "12  So long as my rewards card works and I get my ...       Forbes  \n",
       "13  Apple wants to expand its Indian manufacturing...       Forbes  \n",
       "14  Apple Inc. is planning a massive expansion of ...  MarketWatch  \n",
       "15  Apple Inc. is planning a massive expansion of ...  MarketWatch  \n",
       "16  The feature bears a strong resemblance to the ...       Forbes  \n",
       "17  The latest reports suggest that four new iPads...       Forbes  \n",
       "18  Apple's next MacBook Air laptops may arrive ea...       Forbes  \n",
       "19  Apple did not release new iPads this year, con...       Forbes  "
      ]
     },
     "execution_count": 5,
     "metadata": {},
     "output_type": "execute_result"
    }
   ],
   "source": [
    "import pandas as pd\n",
    "\n",
    "df=pd.read_csv('articles.csv')\n",
    "df"
   ]
  },
  {
   "cell_type": "code",
   "execution_count": 6,
   "metadata": {},
   "outputs": [
    {
     "data": {
      "text/html": [
       "<div>\n",
       "<style scoped>\n",
       "    .dataframe tbody tr th:only-of-type {\n",
       "        vertical-align: middle;\n",
       "    }\n",
       "\n",
       "    .dataframe tbody tr th {\n",
       "        vertical-align: top;\n",
       "    }\n",
       "\n",
       "    .dataframe thead th {\n",
       "        text-align: right;\n",
       "    }\n",
       "</style>\n",
       "<table border=\"1\" class=\"dataframe\">\n",
       "  <thead>\n",
       "    <tr style=\"text-align: right;\">\n",
       "      <th></th>\n",
       "      <th>Titre</th>\n",
       "      <th>URL</th>\n",
       "      <th>Date de publication</th>\n",
       "      <th>Description</th>\n",
       "      <th>Source</th>\n",
       "      <th>Contenu</th>\n",
       "    </tr>\n",
       "  </thead>\n",
       "  <tbody>\n",
       "    <tr>\n",
       "      <th>0</th>\n",
       "      <td>iPhone 16 And iPhone 16 Pro To Upgrade Importa...</td>\n",
       "      <td>https://www.forbes.com/sites/davidphelan/2023/...</td>\n",
       "      <td>2023-12-11T00:00:01Z</td>\n",
       "      <td>Next year’s iPhones will have an improved hard...</td>\n",
       "      <td>Forbes</td>\n",
       "      <td>&lt;!DOCTYPE html&gt;&lt;html lang=\"en\"&gt;&lt;head&gt;&lt;link rel...</td>\n",
       "    </tr>\n",
       "    <tr>\n",
       "      <th>1</th>\n",
       "      <td>Apple Leak Confirms Surprise iPhone 16 Pro Upg...</td>\n",
       "      <td>https://www.forbes.com/sites/ewanspence/2023/1...</td>\n",
       "      <td>2023-12-10T21:42:30Z</td>\n",
       "      <td>iPhone 16 Pro models will be the first to bene...</td>\n",
       "      <td>Forbes</td>\n",
       "      <td>&lt;!DOCTYPE html&gt;&lt;html lang=\"en\"&gt;&lt;head&gt;&lt;link rel...</td>\n",
       "    </tr>\n",
       "    <tr>\n",
       "      <th>2</th>\n",
       "      <td>Forget The New MacBook Pro, Apple Has Somethin...</td>\n",
       "      <td>https://www.forbes.com/sites/ewanspence/2023/1...</td>\n",
       "      <td>2023-12-10T19:17:56Z</td>\n",
       "      <td>Apple’s awkward MacBook Pro may look attractiv...</td>\n",
       "      <td>Forbes</td>\n",
       "      <td>&lt;!DOCTYPE html&gt;&lt;html lang=\"en\"&gt;&lt;head&gt;&lt;link rel...</td>\n",
       "    </tr>\n",
       "    <tr>\n",
       "      <th>3</th>\n",
       "      <td>Apple's Competency At Its Core</td>\n",
       "      <td>https://www.forbes.com/sites/gregpetro/2023/12...</td>\n",
       "      <td>2023-12-10T18:37:42Z</td>\n",
       "      <td>Examining Apple's triumph in innovation and ma...</td>\n",
       "      <td>Forbes</td>\n",
       "      <td>&lt;!DOCTYPE html&gt;&lt;html lang=\"en\"&gt;&lt;head&gt;&lt;link rel...</td>\n",
       "    </tr>\n",
       "    <tr>\n",
       "      <th>4</th>\n",
       "      <td>Forget The New MacBook Pro, Apple Has Somethin...</td>\n",
       "      <td>https://www.forbes.com/sites/ewanspence/2023/1...</td>\n",
       "      <td>2023-12-09T20:30:22Z</td>\n",
       "      <td>Apple’s awkward MacBook Pro may look attractiv...</td>\n",
       "      <td>Forbes</td>\n",
       "      <td>&lt;!DOCTYPE html&gt;&lt;html lang=\"en\"&gt;&lt;head&gt;&lt;link rel...</td>\n",
       "    </tr>\n",
       "  </tbody>\n",
       "</table>\n",
       "</div>"
      ],
      "text/plain": [
       "                                               Titre  \\\n",
       "0  iPhone 16 And iPhone 16 Pro To Upgrade Importa...   \n",
       "1  Apple Leak Confirms Surprise iPhone 16 Pro Upg...   \n",
       "2  Forget The New MacBook Pro, Apple Has Somethin...   \n",
       "3                     Apple's Competency At Its Core   \n",
       "4  Forget The New MacBook Pro, Apple Has Somethin...   \n",
       "\n",
       "                                                 URL   Date de publication  \\\n",
       "0  https://www.forbes.com/sites/davidphelan/2023/...  2023-12-11T00:00:01Z   \n",
       "1  https://www.forbes.com/sites/ewanspence/2023/1...  2023-12-10T21:42:30Z   \n",
       "2  https://www.forbes.com/sites/ewanspence/2023/1...  2023-12-10T19:17:56Z   \n",
       "3  https://www.forbes.com/sites/gregpetro/2023/12...  2023-12-10T18:37:42Z   \n",
       "4  https://www.forbes.com/sites/ewanspence/2023/1...  2023-12-09T20:30:22Z   \n",
       "\n",
       "                                         Description  Source  \\\n",
       "0  Next year’s iPhones will have an improved hard...  Forbes   \n",
       "1  iPhone 16 Pro models will be the first to bene...  Forbes   \n",
       "2  Apple’s awkward MacBook Pro may look attractiv...  Forbes   \n",
       "3  Examining Apple's triumph in innovation and ma...  Forbes   \n",
       "4  Apple’s awkward MacBook Pro may look attractiv...  Forbes   \n",
       "\n",
       "                                             Contenu  \n",
       "0  <!DOCTYPE html><html lang=\"en\"><head><link rel...  \n",
       "1  <!DOCTYPE html><html lang=\"en\"><head><link rel...  \n",
       "2  <!DOCTYPE html><html lang=\"en\"><head><link rel...  \n",
       "3  <!DOCTYPE html><html lang=\"en\"><head><link rel...  \n",
       "4  <!DOCTYPE html><html lang=\"en\"><head><link rel...  "
      ]
     },
     "execution_count": 6,
     "metadata": {},
     "output_type": "execute_result"
    }
   ],
   "source": [
    "urls = [url for url in df['URL']]\n",
    "html_contents = []\n",
    "compteur=0\n",
    "df['Contenu']=[None] * len(df)\n",
    "\n",
    "for url in urls:\n",
    "    response = requests.get(url)\n",
    "    if response.status_code == 200:\n",
    "        html_contents.append(response.text)\n",
    "        df['Contenu'].loc[compteur]=response.text\n",
    "    else:\n",
    "        print(f\"Échec de récupération pour {url}\")\n",
    "    compteur+=1\n",
    "\n",
    "df.head()"
   ]
  },
  {
   "cell_type": "code",
   "execution_count": 7,
   "metadata": {},
   "outputs": [
    {
     "data": {
      "text/html": [
       "<div>\n",
       "<style scoped>\n",
       "    .dataframe tbody tr th:only-of-type {\n",
       "        vertical-align: middle;\n",
       "    }\n",
       "\n",
       "    .dataframe tbody tr th {\n",
       "        vertical-align: top;\n",
       "    }\n",
       "\n",
       "    .dataframe thead th {\n",
       "        text-align: right;\n",
       "    }\n",
       "</style>\n",
       "<table border=\"1\" class=\"dataframe\">\n",
       "  <thead>\n",
       "    <tr style=\"text-align: right;\">\n",
       "      <th></th>\n",
       "      <th>Titre</th>\n",
       "      <th>URL</th>\n",
       "      <th>Date de publication</th>\n",
       "      <th>Description</th>\n",
       "      <th>Source</th>\n",
       "      <th>Contenu</th>\n",
       "    </tr>\n",
       "  </thead>\n",
       "  <tbody>\n",
       "    <tr>\n",
       "      <th>0</th>\n",
       "      <td>iPhone 16 And iPhone 16 Pro To Upgrade Importa...</td>\n",
       "      <td>https://www.forbes.com/sites/davidphelan/2023/...</td>\n",
       "      <td>2023-12-11 00:00:01+00:00</td>\n",
       "      <td>Next year’s iPhones will have an improved hard...</td>\n",
       "      <td>Forbes</td>\n",
       "      <td>&lt;!DOCTYPE html&gt;&lt;html lang=\"en\"&gt;&lt;head&gt;&lt;link rel...</td>\n",
       "    </tr>\n",
       "    <tr>\n",
       "      <th>1</th>\n",
       "      <td>Apple Leak Confirms Surprise iPhone 16 Pro Upg...</td>\n",
       "      <td>https://www.forbes.com/sites/ewanspence/2023/1...</td>\n",
       "      <td>2023-12-10 21:42:30+00:00</td>\n",
       "      <td>iPhone 16 Pro models will be the first to bene...</td>\n",
       "      <td>Forbes</td>\n",
       "      <td>&lt;!DOCTYPE html&gt;&lt;html lang=\"en\"&gt;&lt;head&gt;&lt;link rel...</td>\n",
       "    </tr>\n",
       "    <tr>\n",
       "      <th>2</th>\n",
       "      <td>Forget The New MacBook Pro, Apple Has Somethin...</td>\n",
       "      <td>https://www.forbes.com/sites/ewanspence/2023/1...</td>\n",
       "      <td>2023-12-10 19:17:56+00:00</td>\n",
       "      <td>Apple’s awkward MacBook Pro may look attractiv...</td>\n",
       "      <td>Forbes</td>\n",
       "      <td>&lt;!DOCTYPE html&gt;&lt;html lang=\"en\"&gt;&lt;head&gt;&lt;link rel...</td>\n",
       "    </tr>\n",
       "    <tr>\n",
       "      <th>3</th>\n",
       "      <td>Apple's Competency At Its Core</td>\n",
       "      <td>https://www.forbes.com/sites/gregpetro/2023/12...</td>\n",
       "      <td>2023-12-10 18:37:42+00:00</td>\n",
       "      <td>Examining Apple's triumph in innovation and ma...</td>\n",
       "      <td>Forbes</td>\n",
       "      <td>&lt;!DOCTYPE html&gt;&lt;html lang=\"en\"&gt;&lt;head&gt;&lt;link rel...</td>\n",
       "    </tr>\n",
       "    <tr>\n",
       "      <th>4</th>\n",
       "      <td>Forget The New MacBook Pro, Apple Has Somethin...</td>\n",
       "      <td>https://www.forbes.com/sites/ewanspence/2023/1...</td>\n",
       "      <td>2023-12-09 20:30:22+00:00</td>\n",
       "      <td>Apple’s awkward MacBook Pro may look attractiv...</td>\n",
       "      <td>Forbes</td>\n",
       "      <td>&lt;!DOCTYPE html&gt;&lt;html lang=\"en\"&gt;&lt;head&gt;&lt;link rel...</td>\n",
       "    </tr>\n",
       "  </tbody>\n",
       "</table>\n",
       "</div>"
      ],
      "text/plain": [
       "                                               Titre  \\\n",
       "0  iPhone 16 And iPhone 16 Pro To Upgrade Importa...   \n",
       "1  Apple Leak Confirms Surprise iPhone 16 Pro Upg...   \n",
       "2  Forget The New MacBook Pro, Apple Has Somethin...   \n",
       "3                     Apple's Competency At Its Core   \n",
       "4  Forget The New MacBook Pro, Apple Has Somethin...   \n",
       "\n",
       "                                                 URL  \\\n",
       "0  https://www.forbes.com/sites/davidphelan/2023/...   \n",
       "1  https://www.forbes.com/sites/ewanspence/2023/1...   \n",
       "2  https://www.forbes.com/sites/ewanspence/2023/1...   \n",
       "3  https://www.forbes.com/sites/gregpetro/2023/12...   \n",
       "4  https://www.forbes.com/sites/ewanspence/2023/1...   \n",
       "\n",
       "        Date de publication  \\\n",
       "0 2023-12-11 00:00:01+00:00   \n",
       "1 2023-12-10 21:42:30+00:00   \n",
       "2 2023-12-10 19:17:56+00:00   \n",
       "3 2023-12-10 18:37:42+00:00   \n",
       "4 2023-12-09 20:30:22+00:00   \n",
       "\n",
       "                                         Description  Source  \\\n",
       "0  Next year’s iPhones will have an improved hard...  Forbes   \n",
       "1  iPhone 16 Pro models will be the first to bene...  Forbes   \n",
       "2  Apple’s awkward MacBook Pro may look attractiv...  Forbes   \n",
       "3  Examining Apple's triumph in innovation and ma...  Forbes   \n",
       "4  Apple’s awkward MacBook Pro may look attractiv...  Forbes   \n",
       "\n",
       "                                             Contenu  \n",
       "0  <!DOCTYPE html><html lang=\"en\"><head><link rel...  \n",
       "1  <!DOCTYPE html><html lang=\"en\"><head><link rel...  \n",
       "2  <!DOCTYPE html><html lang=\"en\"><head><link rel...  \n",
       "3  <!DOCTYPE html><html lang=\"en\"><head><link rel...  \n",
       "4  <!DOCTYPE html><html lang=\"en\"><head><link rel...  "
      ]
     },
     "execution_count": 7,
     "metadata": {},
     "output_type": "execute_result"
    }
   ],
   "source": [
    "#Transformation de la colonne Date de publication en DateTime\n",
    "\n",
    "df['Date de publication']=pd.to_datetime(df['Date de publication'])\n",
    "df.head()"
   ]
  },
  {
   "cell_type": "markdown",
   "metadata": {},
   "source": [
    "Comparaison de la taille des différents titres / descriptions / contenus"
   ]
  },
  {
   "cell_type": "code",
   "execution_count": 8,
   "metadata": {},
   "outputs": [
    {
     "name": "stdout",
     "output_type": "stream",
     "text": [
      "Defaulting to user installation because normal site-packages is not writeable\n",
      "Requirement already satisfied: seaborn in /Users/dabadieraphael/Library/Python/3.9/lib/python/site-packages (0.13.0)\n",
      "Requirement already satisfied: pandas>=1.2 in /Users/dabadieraphael/Library/Python/3.9/lib/python/site-packages (from seaborn) (2.1.3)\n",
      "Requirement already satisfied: numpy!=1.24.0,>=1.20 in /Users/dabadieraphael/Library/Python/3.9/lib/python/site-packages (from seaborn) (1.26.2)\n",
      "Requirement already satisfied: matplotlib!=3.6.1,>=3.3 in /Users/dabadieraphael/Library/Python/3.9/lib/python/site-packages (from seaborn) (3.8.2)\n",
      "Requirement already satisfied: pyparsing>=2.3.1 in /Users/dabadieraphael/Library/Python/3.9/lib/python/site-packages (from matplotlib!=3.6.1,>=3.3->seaborn) (3.1.1)\n",
      "Requirement already satisfied: packaging>=20.0 in /Users/dabadieraphael/Library/Python/3.9/lib/python/site-packages (from matplotlib!=3.6.1,>=3.3->seaborn) (23.2)\n",
      "Requirement already satisfied: pillow>=8 in /Users/dabadieraphael/Library/Python/3.9/lib/python/site-packages (from matplotlib!=3.6.1,>=3.3->seaborn) (10.1.0)\n",
      "Requirement already satisfied: importlib-resources>=3.2.0 in /Users/dabadieraphael/Library/Python/3.9/lib/python/site-packages (from matplotlib!=3.6.1,>=3.3->seaborn) (6.1.1)\n",
      "Requirement already satisfied: contourpy>=1.0.1 in /Users/dabadieraphael/Library/Python/3.9/lib/python/site-packages (from matplotlib!=3.6.1,>=3.3->seaborn) (1.2.0)\n",
      "Requirement already satisfied: python-dateutil>=2.7 in /Users/dabadieraphael/Library/Python/3.9/lib/python/site-packages (from matplotlib!=3.6.1,>=3.3->seaborn) (2.8.2)\n",
      "Requirement already satisfied: fonttools>=4.22.0 in /Users/dabadieraphael/Library/Python/3.9/lib/python/site-packages (from matplotlib!=3.6.1,>=3.3->seaborn) (4.46.0)\n",
      "Requirement already satisfied: cycler>=0.10 in /Users/dabadieraphael/Library/Python/3.9/lib/python/site-packages (from matplotlib!=3.6.1,>=3.3->seaborn) (0.12.1)\n",
      "Requirement already satisfied: kiwisolver>=1.3.1 in /Users/dabadieraphael/Library/Python/3.9/lib/python/site-packages (from matplotlib!=3.6.1,>=3.3->seaborn) (1.4.5)\n",
      "Requirement already satisfied: zipp>=3.1.0 in /Users/dabadieraphael/Library/Python/3.9/lib/python/site-packages (from importlib-resources>=3.2.0->matplotlib!=3.6.1,>=3.3->seaborn) (3.17.0)\n",
      "Requirement already satisfied: pytz>=2020.1 in /Users/dabadieraphael/Library/Python/3.9/lib/python/site-packages (from pandas>=1.2->seaborn) (2023.3.post1)\n",
      "Requirement already satisfied: tzdata>=2022.1 in /Users/dabadieraphael/Library/Python/3.9/lib/python/site-packages (from pandas>=1.2->seaborn) (2023.3)\n",
      "Requirement already satisfied: six>=1.5 in /Library/Developer/CommandLineTools/Library/Frameworks/Python3.framework/Versions/3.9/lib/python3.9/site-packages (from python-dateutil>=2.7->matplotlib!=3.6.1,>=3.3->seaborn) (1.15.0)\n",
      "\u001b[33mWARNING: You are using pip version 21.2.4; however, version 23.3.1 is available.\n",
      "You should consider upgrading via the '/Library/Developer/CommandLineTools/usr/bin/python3 -m pip install --upgrade pip' command.\u001b[0m\n",
      "Note: you may need to restart the kernel to use updated packages.\n"
     ]
    }
   ],
   "source": [
    "pip install seaborn"
   ]
  },
  {
   "cell_type": "code",
   "execution_count": 9,
   "metadata": {},
   "outputs": [
    {
     "data": {
      "image/png": "[encoded data removed]",
      "text/plain": [
       "<Figure size 1200x800 with 1 Axes>"
      ]
     },
     "metadata": {},
     "output_type": "display_data"
    }
   ],
   "source": [
    "import matplotlib.pyplot as plt\n",
    "import seaborn as sns\n",
    "\n",
    "df['Title_length']=df['Titre'].apply(lambda x : len(str(x).split()))\n",
    "df_sorted_by_title=df.sort_values(by='Title_length', ascending=False)\n",
    "\n",
    "\n",
    "plt.figure(figsize=(12, 8))\n",
    "sns.barplot(x='Title_length', y='Titre', data=df_sorted_by_title, orient='h')\n",
    "\n",
    "plt.xlabel('Nombre de mots dans le titre')\n",
    "plt.ylabel('Titre')\n",
    "plt.title('Longueur du titre par article')\n",
    "plt.show()"
   ]
  },
  {
   "cell_type": "code",
   "execution_count": 10,
   "metadata": {},
   "outputs": [
    {
     "data": {
      "image/png": "[encoded data removed]",
      "text/plain": [
       "<Figure size 1200x800 with 1 Axes>"
      ]
     },
     "metadata": {},
     "output_type": "display_data"
    }
   ],
   "source": [
    "df['Description_length']=df['Description'].apply(lambda x : len(str(x).split()))\n",
    "df_sorted_by_title=df.sort_values(by='Description_length', ascending=False)\n",
    "\n",
    "\n",
    "plt.figure(figsize=(12, 8))\n",
    "sns.barplot(x='Description_length', y='Titre', data=df_sorted_by_title, orient='h', color='red')\n",
    "\n",
    "plt.xlabel('Nombre de mots dans la description')\n",
    "plt.ylabel('Titre')\n",
    "plt.title('Longueur de la description par titre d\\'article')\n",
    "plt.show()"
   ]
  },
  {
   "cell_type": "code",
   "execution_count": 11,
   "metadata": {},
   "outputs": [
    {
     "data": {
      "image/png": "[encoded data removed]",
      "text/plain": [
       "<Figure size 1200x800 with 1 Axes>"
      ]
     },
     "metadata": {},
     "output_type": "display_data"
    }
   ],
   "source": [
    "df['Content_length']=df['Contenu'].apply(lambda x : len(str(x).split()))\n",
    "df_sorted_by_title=df.sort_values(by='Content_length', ascending=False)\n",
    "\n",
    "\n",
    "plt.figure(figsize=(12, 8))\n",
    "sns.barplot(x='Content_length', y='Titre', data=df_sorted_by_title, orient='h', color='cyan')\n",
    "\n",
    "plt.xlabel(\"Nombre de mots dans l'article\")\n",
    "plt.ylabel('Titre')\n",
    "plt.title('Longueur du contenu par titre d\\'article')\n",
    "plt.show()"
   ]
  },
  {
   "cell_type": "code",
   "execution_count": 12,
   "metadata": {},
   "outputs": [
    {
     "data": {
      "text/html": [
       "<div>\n",
       "<style scoped>\n",
       "    .dataframe tbody tr th:only-of-type {\n",
       "        vertical-align: middle;\n",
       "    }\n",
       "\n",
       "    .dataframe tbody tr th {\n",
       "        vertical-align: top;\n",
       "    }\n",
       "\n",
       "    .dataframe thead th {\n",
       "        text-align: right;\n",
       "    }\n",
       "</style>\n",
       "<table border=\"1\" class=\"dataframe\">\n",
       "  <thead>\n",
       "    <tr style=\"text-align: right;\">\n",
       "      <th></th>\n",
       "      <th>Titre</th>\n",
       "      <th>URL</th>\n",
       "      <th>Date de publication</th>\n",
       "      <th>Description</th>\n",
       "      <th>Source</th>\n",
       "      <th>Contenu</th>\n",
       "      <th>Title_length</th>\n",
       "      <th>Description_length</th>\n",
       "      <th>Content_length</th>\n",
       "    </tr>\n",
       "  </thead>\n",
       "  <tbody>\n",
       "    <tr>\n",
       "      <th>11</th>\n",
       "      <td>Apple's latest moves in India underscore data ...</td>\n",
       "      <td>https://www.cnbc.com/2023/12/08/apples-latest-...</td>\n",
       "      <td>2023-12-08 18:20:47+00:00</td>\n",
       "      <td>India's economy is about 16½ years behind Chin...</td>\n",
       "      <td>CNBC</td>\n",
       "      <td>&lt;!DOCTYPE html&gt;&lt;html lang=\"en\" prefix=\"og=http...</td>\n",
       "      <td>15</td>\n",
       "      <td>21</td>\n",
       "      <td>25990</td>\n",
       "    </tr>\n",
       "    <tr>\n",
       "      <th>19</th>\n",
       "      <td>Apple Planning New iPads And Macs Amid Drop In...</td>\n",
       "      <td>https://www.forbes.com/sites/britneynguyen/202...</td>\n",
       "      <td>2023-12-06 19:57:35+00:00</td>\n",
       "      <td>Apple did not release new iPads this year, con...</td>\n",
       "      <td>Forbes</td>\n",
       "      <td>&lt;!DOCTYPE html&gt;&lt;html lang=\"en\"&gt;&lt;head&gt;&lt;link rel...</td>\n",
       "      <td>12</td>\n",
       "      <td>27</td>\n",
       "      <td>14765</td>\n",
       "    </tr>\n",
       "    <tr>\n",
       "      <th>13</th>\n",
       "      <td>Apple Wants To Make 1-In-4 iPhones In India As...</td>\n",
       "      <td>https://www.forbes.com/sites/siladityaray/2023...</td>\n",
       "      <td>2023-12-08 11:48:48+00:00</td>\n",
       "      <td>Apple wants to expand its Indian manufacturing...</td>\n",
       "      <td>Forbes</td>\n",
       "      <td>&lt;!DOCTYPE html&gt;&lt;html lang=\"en\"&gt;&lt;head&gt;&lt;link rel...</td>\n",
       "      <td>21</td>\n",
       "      <td>25</td>\n",
       "      <td>14747</td>\n",
       "    </tr>\n",
       "    <tr>\n",
       "      <th>14</th>\n",
       "      <td>Apple reportedly plans major expansion of iPho...</td>\n",
       "      <td>https://www.marketwatch.com/story/apple-report...</td>\n",
       "      <td>2023-12-08 04:23:00+00:00</td>\n",
       "      <td>Apple Inc. is planning a massive expansion of ...</td>\n",
       "      <td>MarketWatch</td>\n",
       "      <td>&lt;!DOCTYPE html&gt;\\n&lt;html\\n  lang=\"en-US\"\\n  data...</td>\n",
       "      <td>10</td>\n",
       "      <td>17</td>\n",
       "      <td>14625</td>\n",
       "    </tr>\n",
       "    <tr>\n",
       "      <th>15</th>\n",
       "      <td>: Apple reportedly plans major expansion of iP...</td>\n",
       "      <td>https://www.marketwatch.com/story/apple-report...</td>\n",
       "      <td>2023-12-08 04:23:00+00:00</td>\n",
       "      <td>Apple Inc. is planning a massive expansion of ...</td>\n",
       "      <td>MarketWatch</td>\n",
       "      <td>&lt;!DOCTYPE html&gt;\\n&lt;html\\n  lang=\"en-US\"\\n  data...</td>\n",
       "      <td>11</td>\n",
       "      <td>17</td>\n",
       "      <td>14597</td>\n",
       "    </tr>\n",
       "    <tr>\n",
       "      <th>10</th>\n",
       "      <td>: Apple iPhone, Watch product design head to l...</td>\n",
       "      <td>https://www.marketwatch.com/story/apple-iphone...</td>\n",
       "      <td>2023-12-08 20:30:00+00:00</td>\n",
       "      <td>Tang Tan, the Apple Inc. executive who headed ...</td>\n",
       "      <td>MarketWatch</td>\n",
       "      <td>&lt;!DOCTYPE html&gt;\\n&lt;html\\n  lang=\"en-US\"\\n  data...</td>\n",
       "      <td>10</td>\n",
       "      <td>27</td>\n",
       "      <td>14485</td>\n",
       "    </tr>\n",
       "    <tr>\n",
       "      <th>9</th>\n",
       "      <td>Apple iPhone, Watch product design head to lea...</td>\n",
       "      <td>https://www.marketwatch.com/story/apple-iphone...</td>\n",
       "      <td>2023-12-08 20:37:19+00:00</td>\n",
       "      <td>Tang Tan, the Apple Inc. executive who headed ...</td>\n",
       "      <td>MarketWatch</td>\n",
       "      <td>&lt;!DOCTYPE html&gt;\\n&lt;html\\n  lang=\"en-US\"\\n  data...</td>\n",
       "      <td>9</td>\n",
       "      <td>27</td>\n",
       "      <td>14456</td>\n",
       "    </tr>\n",
       "    <tr>\n",
       "      <th>8</th>\n",
       "      <td>Apple Loop: Apple’s iPhone 16 Problem, Stunnin...</td>\n",
       "      <td>https://www.forbes.com/sites/ewanspence/2023/1...</td>\n",
       "      <td>2023-12-08 21:32:17+00:00</td>\n",
       "      <td>This week’s Apple headlines; Apple’s iPhone 16...</td>\n",
       "      <td>Forbes</td>\n",
       "      <td>&lt;!DOCTYPE html&gt;&lt;html lang=\"en\"&gt;&lt;head&gt;&lt;link rel...</td>\n",
       "      <td>12</td>\n",
       "      <td>31</td>\n",
       "      <td>13927</td>\n",
       "    </tr>\n",
       "    <tr>\n",
       "      <th>7</th>\n",
       "      <td>Apple iMessage Soundly Beaten As Surprise New ...</td>\n",
       "      <td>https://www.forbes.com/sites/zakdoffman/2023/1...</td>\n",
       "      <td>2023-12-09 12:30:29+00:00</td>\n",
       "      <td>Forget iPhone 15—Apple suddenly has a major iP...</td>\n",
       "      <td>Forbes</td>\n",
       "      <td>&lt;!DOCTYPE html&gt;&lt;html lang=\"en\"&gt;&lt;head&gt;&lt;link rel...</td>\n",
       "      <td>10</td>\n",
       "      <td>14</td>\n",
       "      <td>13800</td>\n",
       "    </tr>\n",
       "    <tr>\n",
       "      <th>12</th>\n",
       "      <td>No-One Cares Which Bank Provides Their Apple Card</td>\n",
       "      <td>https://www.forbes.com/sites/davidbirch/2023/1...</td>\n",
       "      <td>2023-12-08 11:57:45+00:00</td>\n",
       "      <td>So long as my rewards card works and I get my ...</td>\n",
       "      <td>Forbes</td>\n",
       "      <td>&lt;!DOCTYPE html&gt;&lt;html lang=\"en\"&gt;&lt;head&gt;&lt;link rel...</td>\n",
       "      <td>8</td>\n",
       "      <td>24</td>\n",
       "      <td>13004</td>\n",
       "    </tr>\n",
       "    <tr>\n",
       "      <th>6</th>\n",
       "      <td>Apple iOS 17.2 Release Date: The Coolest iPhon...</td>\n",
       "      <td>https://www.forbes.com/sites/davidphelan/2023/...</td>\n",
       "      <td>2023-12-09 14:38:43+00:00</td>\n",
       "      <td>There’s a big iPhone update coming and it’s fu...</td>\n",
       "      <td>Forbes</td>\n",
       "      <td>&lt;!DOCTYPE html&gt;&lt;html lang=\"en\"&gt;&lt;head&gt;&lt;link rel...</td>\n",
       "      <td>12</td>\n",
       "      <td>22</td>\n",
       "      <td>13002</td>\n",
       "    </tr>\n",
       "    <tr>\n",
       "      <th>17</th>\n",
       "      <td>Apple iPad 2024: All-New Big-Screen Model Comi...</td>\n",
       "      <td>https://www.forbes.com/sites/davidphelan/2023/...</td>\n",
       "      <td>2023-12-07 19:30:38+00:00</td>\n",
       "      <td>The latest reports suggest that four new iPads...</td>\n",
       "      <td>Forbes</td>\n",
       "      <td>&lt;!DOCTYPE html&gt;&lt;html lang=\"en\"&gt;&lt;head&gt;&lt;link rel...</td>\n",
       "      <td>11</td>\n",
       "      <td>24</td>\n",
       "      <td>12993</td>\n",
       "    </tr>\n",
       "    <tr>\n",
       "      <th>4</th>\n",
       "      <td>Forget The New MacBook Pro, Apple Has Somethin...</td>\n",
       "      <td>https://www.forbes.com/sites/ewanspence/2023/1...</td>\n",
       "      <td>2023-12-09 20:30:22+00:00</td>\n",
       "      <td>Apple’s awkward MacBook Pro may look attractiv...</td>\n",
       "      <td>Forbes</td>\n",
       "      <td>&lt;!DOCTYPE html&gt;&lt;html lang=\"en\"&gt;&lt;head&gt;&lt;link rel...</td>\n",
       "      <td>10</td>\n",
       "      <td>17</td>\n",
       "      <td>12981</td>\n",
       "    </tr>\n",
       "    <tr>\n",
       "      <th>2</th>\n",
       "      <td>Forget The New MacBook Pro, Apple Has Somethin...</td>\n",
       "      <td>https://www.forbes.com/sites/ewanspence/2023/1...</td>\n",
       "      <td>2023-12-10 19:17:56+00:00</td>\n",
       "      <td>Apple’s awkward MacBook Pro may look attractiv...</td>\n",
       "      <td>Forbes</td>\n",
       "      <td>&lt;!DOCTYPE html&gt;&lt;html lang=\"en\"&gt;&lt;head&gt;&lt;link rel...</td>\n",
       "      <td>10</td>\n",
       "      <td>17</td>\n",
       "      <td>12981</td>\n",
       "    </tr>\n",
       "    <tr>\n",
       "      <th>0</th>\n",
       "      <td>iPhone 16 And iPhone 16 Pro To Upgrade Importa...</td>\n",
       "      <td>https://www.forbes.com/sites/davidphelan/2023/...</td>\n",
       "      <td>2023-12-11 00:00:01+00:00</td>\n",
       "      <td>Next year’s iPhones will have an improved hard...</td>\n",
       "      <td>Forbes</td>\n",
       "      <td>&lt;!DOCTYPE html&gt;&lt;html lang=\"en\"&gt;&lt;head&gt;&lt;link rel...</td>\n",
       "      <td>13</td>\n",
       "      <td>18</td>\n",
       "      <td>12963</td>\n",
       "    </tr>\n",
       "    <tr>\n",
       "      <th>1</th>\n",
       "      <td>Apple Leak Confirms Surprise iPhone 16 Pro Upg...</td>\n",
       "      <td>https://www.forbes.com/sites/ewanspence/2023/1...</td>\n",
       "      <td>2023-12-10 21:42:30+00:00</td>\n",
       "      <td>iPhone 16 Pro models will be the first to bene...</td>\n",
       "      <td>Forbes</td>\n",
       "      <td>&lt;!DOCTYPE html&gt;&lt;html lang=\"en\"&gt;&lt;head&gt;&lt;link rel...</td>\n",
       "      <td>8</td>\n",
       "      <td>21</td>\n",
       "      <td>12760</td>\n",
       "    </tr>\n",
       "    <tr>\n",
       "      <th>5</th>\n",
       "      <td>Apple Leak Confirms Surprise iPhone 16 Pro Upg...</td>\n",
       "      <td>https://www.forbes.com/sites/ewanspence/2023/1...</td>\n",
       "      <td>2023-12-09 14:42:17+00:00</td>\n",
       "      <td>iPhone 16 Pro models will be the first to bene...</td>\n",
       "      <td>Forbes</td>\n",
       "      <td>&lt;!DOCTYPE html&gt;&lt;html lang=\"en\"&gt;&lt;head&gt;&lt;link rel...</td>\n",
       "      <td>8</td>\n",
       "      <td>21</td>\n",
       "      <td>12760</td>\n",
       "    </tr>\n",
       "    <tr>\n",
       "      <th>18</th>\n",
       "      <td>New Apple Leak Hints At Early MacBook Air Upgrade</td>\n",
       "      <td>https://www.forbes.com/sites/ewanspence/2023/1...</td>\n",
       "      <td>2023-12-07 09:30:30+00:00</td>\n",
       "      <td>Apple's next MacBook Air laptops may arrive ea...</td>\n",
       "      <td>Forbes</td>\n",
       "      <td>&lt;!DOCTYPE html&gt;&lt;html lang=\"en\"&gt;&lt;head&gt;&lt;link rel...</td>\n",
       "      <td>9</td>\n",
       "      <td>10</td>\n",
       "      <td>12755</td>\n",
       "    </tr>\n",
       "    <tr>\n",
       "      <th>16</th>\n",
       "      <td>Apple Adds NameDrop-Like Pass-Sharing Feature ...</td>\n",
       "      <td>https://www.forbes.com/sites/stevenaquino/2023...</td>\n",
       "      <td>2023-12-07 21:56:41+00:00</td>\n",
       "      <td>The feature bears a strong resemblance to the ...</td>\n",
       "      <td>Forbes</td>\n",
       "      <td>&lt;!DOCTYPE html&gt;&lt;html lang=\"en\"&gt;&lt;head&gt;&lt;link rel...</td>\n",
       "      <td>15</td>\n",
       "      <td>15</td>\n",
       "      <td>12160</td>\n",
       "    </tr>\n",
       "    <tr>\n",
       "      <th>3</th>\n",
       "      <td>Apple's Competency At Its Core</td>\n",
       "      <td>https://www.forbes.com/sites/gregpetro/2023/12...</td>\n",
       "      <td>2023-12-10 18:37:42+00:00</td>\n",
       "      <td>Examining Apple's triumph in innovation and ma...</td>\n",
       "      <td>Forbes</td>\n",
       "      <td>&lt;!DOCTYPE html&gt;&lt;html lang=\"en\"&gt;&lt;head&gt;&lt;link rel...</td>\n",
       "      <td>5</td>\n",
       "      <td>20</td>\n",
       "      <td>12147</td>\n",
       "    </tr>\n",
       "  </tbody>\n",
       "</table>\n",
       "</div>"
      ],
      "text/plain": [
       "                                                Titre  \\\n",
       "11  Apple's latest moves in India underscore data ...   \n",
       "19  Apple Planning New iPads And Macs Amid Drop In...   \n",
       "13  Apple Wants To Make 1-In-4 iPhones In India As...   \n",
       "14  Apple reportedly plans major expansion of iPho...   \n",
       "15  : Apple reportedly plans major expansion of iP...   \n",
       "10  : Apple iPhone, Watch product design head to l...   \n",
       "9   Apple iPhone, Watch product design head to lea...   \n",
       "8   Apple Loop: Apple’s iPhone 16 Problem, Stunnin...   \n",
       "7   Apple iMessage Soundly Beaten As Surprise New ...   \n",
       "12  No-One Cares Which Bank Provides Their Apple Card   \n",
       "6   Apple iOS 17.2 Release Date: The Coolest iPhon...   \n",
       "17  Apple iPad 2024: All-New Big-Screen Model Comi...   \n",
       "4   Forget The New MacBook Pro, Apple Has Somethin...   \n",
       "2   Forget The New MacBook Pro, Apple Has Somethin...   \n",
       "0   iPhone 16 And iPhone 16 Pro To Upgrade Importa...   \n",
       "1   Apple Leak Confirms Surprise iPhone 16 Pro Upg...   \n",
       "5   Apple Leak Confirms Surprise iPhone 16 Pro Upg...   \n",
       "18  New Apple Leak Hints At Early MacBook Air Upgrade   \n",
       "16  Apple Adds NameDrop-Like Pass-Sharing Feature ...   \n",
       "3                      Apple's Competency At Its Core   \n",
       "\n",
       "                                                  URL  \\\n",
       "11  https://www.cnbc.com/2023/12/08/apples-latest-...   \n",
       "19  https://www.forbes.com/sites/britneynguyen/202...   \n",
       "13  https://www.forbes.com/sites/siladityaray/2023...   \n",
       "14  https://www.marketwatch.com/story/apple-report...   \n",
       "15  https://www.marketwatch.com/story/apple-report...   \n",
       "10  https://www.marketwatch.com/story/apple-iphone...   \n",
       "9   https://www.marketwatch.com/story/apple-iphone...   \n",
       "8   https://www.forbes.com/sites/ewanspence/2023/1...   \n",
       "7   https://www.forbes.com/sites/zakdoffman/2023/1...   \n",
       "12  https://www.forbes.com/sites/davidbirch/2023/1...   \n",
       "6   https://www.forbes.com/sites/davidphelan/2023/...   \n",
       "17  https://www.forbes.com/sites/davidphelan/2023/...   \n",
       "4   https://www.forbes.com/sites/ewanspence/2023/1...   \n",
       "2   https://www.forbes.com/sites/ewanspence/2023/1...   \n",
       "0   https://www.forbes.com/sites/davidphelan/2023/...   \n",
       "1   https://www.forbes.com/sites/ewanspence/2023/1...   \n",
       "5   https://www.forbes.com/sites/ewanspence/2023/1...   \n",
       "18  https://www.forbes.com/sites/ewanspence/2023/1...   \n",
       "16  https://www.forbes.com/sites/stevenaquino/2023...   \n",
       "3   https://www.forbes.com/sites/gregpetro/2023/12...   \n",
       "\n",
       "         Date de publication  \\\n",
       "11 2023-12-08 18:20:47+00:00   \n",
       "19 2023-12-06 19:57:35+00:00   \n",
       "13 2023-12-08 11:48:48+00:00   \n",
       "14 2023-12-08 04:23:00+00:00   \n",
       "15 2023-12-08 04:23:00+00:00   \n",
       "10 2023-12-08 20:30:00+00:00   \n",
       "9  2023-12-08 20:37:19+00:00   \n",
       "8  2023-12-08 21:32:17+00:00   \n",
       "7  2023-12-09 12:30:29+00:00   \n",
       "12 2023-12-08 11:57:45+00:00   \n",
       "6  2023-12-09 14:38:43+00:00   \n",
       "17 2023-12-07 19:30:38+00:00   \n",
       "4  2023-12-09 20:30:22+00:00   \n",
       "2  2023-12-10 19:17:56+00:00   \n",
       "0  2023-12-11 00:00:01+00:00   \n",
       "1  2023-12-10 21:42:30+00:00   \n",
       "5  2023-12-09 14:42:17+00:00   \n",
       "18 2023-12-07 09:30:30+00:00   \n",
       "16 2023-12-07 21:56:41+00:00   \n",
       "3  2023-12-10 18:37:42+00:00   \n",
       "\n",
       "                                          Description       Source  \\\n",
       "11  India's economy is about 16½ years behind Chin...         CNBC   \n",
       "19  Apple did not release new iPads this year, con...       Forbes   \n",
       "13  Apple wants to expand its Indian manufacturing...       Forbes   \n",
       "14  Apple Inc. is planning a massive expansion of ...  MarketWatch   \n",
       "15  Apple Inc. is planning a massive expansion of ...  MarketWatch   \n",
       "10  Tang Tan, the Apple Inc. executive who headed ...  MarketWatch   \n",
       "9   Tang Tan, the Apple Inc. executive who headed ...  MarketWatch   \n",
       "8   This week’s Apple headlines; Apple’s iPhone 16...       Forbes   \n",
       "7   Forget iPhone 15—Apple suddenly has a major iP...       Forbes   \n",
       "12  So long as my rewards card works and I get my ...       Forbes   \n",
       "6   There’s a big iPhone update coming and it’s fu...       Forbes   \n",
       "17  The latest reports suggest that four new iPads...       Forbes   \n",
       "4   Apple’s awkward MacBook Pro may look attractiv...       Forbes   \n",
       "2   Apple’s awkward MacBook Pro may look attractiv...       Forbes   \n",
       "0   Next year’s iPhones will have an improved hard...       Forbes   \n",
       "1   iPhone 16 Pro models will be the first to bene...       Forbes   \n",
       "5   iPhone 16 Pro models will be the first to bene...       Forbes   \n",
       "18  Apple's next MacBook Air laptops may arrive ea...       Forbes   \n",
       "16  The feature bears a strong resemblance to the ...       Forbes   \n",
       "3   Examining Apple's triumph in innovation and ma...       Forbes   \n",
       "\n",
       "                                              Contenu  Title_length  \\\n",
       "11  <!DOCTYPE html><html lang=\"en\" prefix=\"og=http...            15   \n",
       "19  <!DOCTYPE html><html lang=\"en\"><head><link rel...            12   \n",
       "13  <!DOCTYPE html><html lang=\"en\"><head><link rel...            21   \n",
       "14  <!DOCTYPE html>\\n<html\\n  lang=\"en-US\"\\n  data...            10   \n",
       "15  <!DOCTYPE html>\\n<html\\n  lang=\"en-US\"\\n  data...            11   \n",
       "10  <!DOCTYPE html>\\n<html\\n  lang=\"en-US\"\\n  data...            10   \n",
       "9   <!DOCTYPE html>\\n<html\\n  lang=\"en-US\"\\n  data...             9   \n",
       "8   <!DOCTYPE html><html lang=\"en\"><head><link rel...            12   \n",
       "7   <!DOCTYPE html><html lang=\"en\"><head><link rel...            10   \n",
       "12  <!DOCTYPE html><html lang=\"en\"><head><link rel...             8   \n",
       "6   <!DOCTYPE html><html lang=\"en\"><head><link rel...            12   \n",
       "17  <!DOCTYPE html><html lang=\"en\"><head><link rel...            11   \n",
       "4   <!DOCTYPE html><html lang=\"en\"><head><link rel...            10   \n",
       "2   <!DOCTYPE html><html lang=\"en\"><head><link rel...            10   \n",
       "0   <!DOCTYPE html><html lang=\"en\"><head><link rel...            13   \n",
       "1   <!DOCTYPE html><html lang=\"en\"><head><link rel...             8   \n",
       "5   <!DOCTYPE html><html lang=\"en\"><head><link rel...             8   \n",
       "18  <!DOCTYPE html><html lang=\"en\"><head><link rel...             9   \n",
       "16  <!DOCTYPE html><html lang=\"en\"><head><link rel...            15   \n",
       "3   <!DOCTYPE html><html lang=\"en\"><head><link rel...             5   \n",
       "\n",
       "    Description_length  Content_length  \n",
       "11                  21           25990  \n",
       "19                  27           14765  \n",
       "13                  25           14747  \n",
       "14                  17           14625  \n",
       "15                  17           14597  \n",
       "10                  27           14485  \n",
       "9                   27           14456  \n",
       "8                   31           13927  \n",
       "7                   14           13800  \n",
       "12                  24           13004  \n",
       "6                   22           13002  \n",
       "17                  24           12993  \n",
       "4                   17           12981  \n",
       "2                   17           12981  \n",
       "0                   18           12963  \n",
       "1                   21           12760  \n",
       "5                   21           12760  \n",
       "18                  10           12755  \n",
       "16                  15           12160  \n",
       "3                   20           12147  "
      ]
     },
     "execution_count": 12,
     "metadata": {},
     "output_type": "execute_result"
    }
   ],
   "source": [
    "df_sorted_by_title"
   ]
  },
  {
   "cell_type": "code",
   "execution_count": 13,
   "metadata": {},
   "outputs": [
    {
     "data": {
      "image/png": "[encoded data removed]",
      "text/plain": [
       "<Figure size 640x480 with 2 Axes>"
      ]
     },
     "metadata": {},
     "output_type": "display_data"
    }
   ],
   "source": [
    "#Comparaison des articles récoltés entre eux selon ces trois dimensions sous forme d'un bubble chart : l'axe X correspond à la longueur du titre, l'axe Y à la longueur de la description et la taille de la bulle représentera la longueur du contenu de l'article.\n",
    "\n",
    "import matplotlib.pyplot as plt\n",
    "\n",
    "bubble_size=df['Content_length']/df['Content_length'].max()*1000 #Normalisation de la taille des bulles à des valeurs proches de celles obtenues pour les tailles de titre et de description\n",
    "\n",
    "plt.scatter(x=df['Title_length'], y=df['Description_length'],s=bubble_size,alpha=0.4)\n",
    "plt.xlabel('Longueur des titres')\n",
    "plt.ylabel('Longueur des descriptions')\n",
    "plt.title('Comparaison de la taille des différents attributs des articles récupérés')\n",
    "plt.colorbar(label='Longueur du contenu normalisée')\n",
    "plt.show()"
   ]
  },
  {
   "cell_type": "markdown",
   "metadata": {},
   "source": [
    "# Préparation du texte en vue de l'analyse de sentiments (Nettoyage et analyse des titres et descriptions)"
   ]
  },
  {
   "cell_type": "markdown",
   "metadata": {},
   "source": [
    "**Nettoyage du texte**"
   ]
  },
  {
   "cell_type": "code",
   "execution_count": 42,
   "metadata": {},
   "outputs": [],
   "source": [
    "#Fonctions importantes pour la suite \n",
    "import nltk\n",
    "from nltk.corpus import stopwords\n",
    "from nltk.stem import WordNetLemmatizer\n",
    "from nltk.tokenize import word_tokenize\n",
    "\n",
    "def cleaning_text(text):\n",
    "    #Passage du texte en miniscules\n",
    "    text=text.lower()\n",
    "    #Suppression des chiffres\n",
    "    text=re.sub(r'\\d+', '', text)\n",
    "    #Suppression de la ponctuation et des symboles spéciaux\n",
    "    text=re.sub(r'[^\\w\\s]', '', text)\n",
    "    return text\n",
    "\n",
    "\n",
    "def count_common_words(text):\n",
    "    words=text.split()\n",
    "    dict={}\n",
    "    for el in words :\n",
    "        if el not in dict:\n",
    "            dict[el]=1\n",
    "        else:\n",
    "            dict[el]+=1\n",
    "    return dict\n",
    "\n",
    "def most_common_words(dictionary):\n",
    "    sorted_dict=dict(sorted(dictionary.items(), key=lambda item: item[1], reverse=True))\n",
    "    return sorted_dict\n",
    "\n",
    "\n",
    "\n",
    "def combine_dictionaries(df,df_column_name):\n",
    "    combined_dict={}\n",
    "    column_index=df.columns.get_loc(str(df_column_name))\n",
    "    for i in range(len(df)):\n",
    "        temp_dictionary=df.iloc[i,int(column_index)]\n",
    "\n",
    "        for key, value in temp_dictionary.items():\n",
    "            if key not in combined_dict:\n",
    "                combined_dict[key]=value\n",
    "            else:\n",
    "                combined_dict[key]+=value\n",
    "    return combined_dict\n",
    "\n",
    "stops = set(stopwords.words('english'))\n",
    "lemmatizer = WordNetLemmatizer()\n",
    "def clean_stopwords(text):\n",
    "    words = word_tokenize(text)\n",
    "    cleaned_text=[word for word in words if word not in stops]\n",
    "    return ' '.join(cleaned_text)"
   ]
  },
  {
   "cell_type": "code",
   "execution_count": 15,
   "metadata": {},
   "outputs": [
    {
     "name": "stdout",
     "output_type": "stream",
     "text": [
      "Defaulting to user installation because normal site-packages is not writeable\n",
      "Requirement already satisfied: beautifulsoup4 in /Users/dabadieraphael/Library/Python/3.9/lib/python/site-packages (4.12.2)\n",
      "Requirement already satisfied: lxml in /Users/dabadieraphael/Library/Python/3.9/lib/python/site-packages (4.9.3)\n",
      "Requirement already satisfied: soupsieve>1.2 in /Users/dabadieraphael/Library/Python/3.9/lib/python/site-packages (from beautifulsoup4) (2.5)\n",
      "\u001b[33mWARNING: You are using pip version 21.2.4; however, version 23.3.1 is available.\n",
      "You should consider upgrading via the '/Library/Developer/CommandLineTools/usr/bin/python3 -m pip install --upgrade pip' command.\u001b[0m\n",
      "Note: you may need to restart the kernel to use updated packages.\n"
     ]
    }
   ],
   "source": [
    "pip install beautifulsoup4 lxml"
   ]
  },
  {
   "cell_type": "code",
   "execution_count": 17,
   "metadata": {},
   "outputs": [],
   "source": [
    "import re"
   ]
  },
  {
   "cell_type": "code",
   "execution_count": 43,
   "metadata": {},
   "outputs": [
    {
     "data": {
      "text/html": [
       "<div>\n",
       "<style scoped>\n",
       "    .dataframe tbody tr th:only-of-type {\n",
       "        vertical-align: middle;\n",
       "    }\n",
       "\n",
       "    .dataframe tbody tr th {\n",
       "        vertical-align: top;\n",
       "    }\n",
       "\n",
       "    .dataframe thead th {\n",
       "        text-align: right;\n",
       "    }\n",
       "</style>\n",
       "<table border=\"1\" class=\"dataframe\">\n",
       "  <thead>\n",
       "    <tr style=\"text-align: right;\">\n",
       "      <th></th>\n",
       "      <th>Titre</th>\n",
       "      <th>URL</th>\n",
       "      <th>Date de publication</th>\n",
       "      <th>Description</th>\n",
       "      <th>Source</th>\n",
       "      <th>Contenu</th>\n",
       "      <th>Title_length</th>\n",
       "      <th>Description_length</th>\n",
       "      <th>Content_length</th>\n",
       "      <th>Titre_cleaned</th>\n",
       "      <th>Description_cleaned</th>\n",
       "    </tr>\n",
       "  </thead>\n",
       "  <tbody>\n",
       "    <tr>\n",
       "      <th>0</th>\n",
       "      <td>iPhone 16 And iPhone 16 Pro To Upgrade Importa...</td>\n",
       "      <td>https://www.forbes.com/sites/davidphelan/2023/...</td>\n",
       "      <td>2023-12-11 00:00:01+00:00</td>\n",
       "      <td>Next year’s iPhones will have an improved hard...</td>\n",
       "      <td>Forbes</td>\n",
       "      <td>&lt;!DOCTYPE html&gt;&lt;html lang=\"en\"&gt;&lt;head&gt;&lt;link rel...</td>\n",
       "      <td>13</td>\n",
       "      <td>18</td>\n",
       "      <td>12963</td>\n",
       "      <td>iphone  and iphone  pro to upgrade important a...</td>\n",
       "      <td>next years iphones will have an improved hardw...</td>\n",
       "    </tr>\n",
       "    <tr>\n",
       "      <th>1</th>\n",
       "      <td>Apple Leak Confirms Surprise iPhone 16 Pro Upg...</td>\n",
       "      <td>https://www.forbes.com/sites/ewanspence/2023/1...</td>\n",
       "      <td>2023-12-10 21:42:30+00:00</td>\n",
       "      <td>iPhone 16 Pro models will be the first to bene...</td>\n",
       "      <td>Forbes</td>\n",
       "      <td>&lt;!DOCTYPE html&gt;&lt;html lang=\"en\"&gt;&lt;head&gt;&lt;link rel...</td>\n",
       "      <td>8</td>\n",
       "      <td>21</td>\n",
       "      <td>12760</td>\n",
       "      <td>apple leak confirms surprise iphone  pro upgrade</td>\n",
       "      <td>iphone  pro models will be the first to benefi...</td>\n",
       "    </tr>\n",
       "    <tr>\n",
       "      <th>2</th>\n",
       "      <td>Forget The New MacBook Pro, Apple Has Somethin...</td>\n",
       "      <td>https://www.forbes.com/sites/ewanspence/2023/1...</td>\n",
       "      <td>2023-12-10 19:17:56+00:00</td>\n",
       "      <td>Apple’s awkward MacBook Pro may look attractiv...</td>\n",
       "      <td>Forbes</td>\n",
       "      <td>&lt;!DOCTYPE html&gt;&lt;html lang=\"en\"&gt;&lt;head&gt;&lt;link rel...</td>\n",
       "      <td>10</td>\n",
       "      <td>17</td>\n",
       "      <td>12981</td>\n",
       "      <td>forget the new macbook pro apple has something...</td>\n",
       "      <td>apples awkward macbook pro may look attractive...</td>\n",
       "    </tr>\n",
       "    <tr>\n",
       "      <th>3</th>\n",
       "      <td>Apple's Competency At Its Core</td>\n",
       "      <td>https://www.forbes.com/sites/gregpetro/2023/12...</td>\n",
       "      <td>2023-12-10 18:37:42+00:00</td>\n",
       "      <td>Examining Apple's triumph in innovation and ma...</td>\n",
       "      <td>Forbes</td>\n",
       "      <td>&lt;!DOCTYPE html&gt;&lt;html lang=\"en\"&gt;&lt;head&gt;&lt;link rel...</td>\n",
       "      <td>5</td>\n",
       "      <td>20</td>\n",
       "      <td>12147</td>\n",
       "      <td>apples competency at its core</td>\n",
       "      <td>examining apples triumph in innovation and mar...</td>\n",
       "    </tr>\n",
       "    <tr>\n",
       "      <th>4</th>\n",
       "      <td>Forget The New MacBook Pro, Apple Has Somethin...</td>\n",
       "      <td>https://www.forbes.com/sites/ewanspence/2023/1...</td>\n",
       "      <td>2023-12-09 20:30:22+00:00</td>\n",
       "      <td>Apple’s awkward MacBook Pro may look attractiv...</td>\n",
       "      <td>Forbes</td>\n",
       "      <td>&lt;!DOCTYPE html&gt;&lt;html lang=\"en\"&gt;&lt;head&gt;&lt;link rel...</td>\n",
       "      <td>10</td>\n",
       "      <td>17</td>\n",
       "      <td>12981</td>\n",
       "      <td>forget the new macbook pro apple has something...</td>\n",
       "      <td>apples awkward macbook pro may look attractive...</td>\n",
       "    </tr>\n",
       "  </tbody>\n",
       "</table>\n",
       "</div>"
      ],
      "text/plain": [
       "                                               Titre  \\\n",
       "0  iPhone 16 And iPhone 16 Pro To Upgrade Importa...   \n",
       "1  Apple Leak Confirms Surprise iPhone 16 Pro Upg...   \n",
       "2  Forget The New MacBook Pro, Apple Has Somethin...   \n",
       "3                     Apple's Competency At Its Core   \n",
       "4  Forget The New MacBook Pro, Apple Has Somethin...   \n",
       "\n",
       "                                                 URL  \\\n",
       "0  https://www.forbes.com/sites/davidphelan/2023/...   \n",
       "1  https://www.forbes.com/sites/ewanspence/2023/1...   \n",
       "2  https://www.forbes.com/sites/ewanspence/2023/1...   \n",
       "3  https://www.forbes.com/sites/gregpetro/2023/12...   \n",
       "4  https://www.forbes.com/sites/ewanspence/2023/1...   \n",
       "\n",
       "        Date de publication  \\\n",
       "0 2023-12-11 00:00:01+00:00   \n",
       "1 2023-12-10 21:42:30+00:00   \n",
       "2 2023-12-10 19:17:56+00:00   \n",
       "3 2023-12-10 18:37:42+00:00   \n",
       "4 2023-12-09 20:30:22+00:00   \n",
       "\n",
       "                                         Description  Source  \\\n",
       "0  Next year’s iPhones will have an improved hard...  Forbes   \n",
       "1  iPhone 16 Pro models will be the first to bene...  Forbes   \n",
       "2  Apple’s awkward MacBook Pro may look attractiv...  Forbes   \n",
       "3  Examining Apple's triumph in innovation and ma...  Forbes   \n",
       "4  Apple’s awkward MacBook Pro may look attractiv...  Forbes   \n",
       "\n",
       "                                             Contenu  Title_length  \\\n",
       "0  <!DOCTYPE html><html lang=\"en\"><head><link rel...            13   \n",
       "1  <!DOCTYPE html><html lang=\"en\"><head><link rel...             8   \n",
       "2  <!DOCTYPE html><html lang=\"en\"><head><link rel...            10   \n",
       "3  <!DOCTYPE html><html lang=\"en\"><head><link rel...             5   \n",
       "4  <!DOCTYPE html><html lang=\"en\"><head><link rel...            10   \n",
       "\n",
       "   Description_length  Content_length  \\\n",
       "0                  18           12963   \n",
       "1                  21           12760   \n",
       "2                  17           12981   \n",
       "3                  20           12147   \n",
       "4                  17           12981   \n",
       "\n",
       "                                       Titre_cleaned  \\\n",
       "0  iphone  and iphone  pro to upgrade important a...   \n",
       "1   apple leak confirms surprise iphone  pro upgrade   \n",
       "2  forget the new macbook pro apple has something...   \n",
       "3                      apples competency at its core   \n",
       "4  forget the new macbook pro apple has something...   \n",
       "\n",
       "                                 Description_cleaned  \n",
       "0  next years iphones will have an improved hardw...  \n",
       "1  iphone  pro models will be the first to benefi...  \n",
       "2  apples awkward macbook pro may look attractive...  \n",
       "3  examining apples triumph in innovation and mar...  \n",
       "4  apples awkward macbook pro may look attractive...  "
      ]
     },
     "execution_count": 43,
     "metadata": {},
     "output_type": "execute_result"
    }
   ],
   "source": [
    "df_analyse_1=df.copy()\n",
    "df_analyse_1['Titre_cleaned']=df_analyse_1['Titre'].apply(cleaning_text)\n",
    "df_analyse_1['Description_cleaned']=df_analyse_1['Description'].apply(cleaning_text)\n",
    "df_analyse_1.head()"
   ]
  },
  {
   "cell_type": "code",
   "execution_count": 44,
   "metadata": {},
   "outputs": [
    {
     "data": {
      "text/html": [
       "<div>\n",
       "<style scoped>\n",
       "    .dataframe tbody tr th:only-of-type {\n",
       "        vertical-align: middle;\n",
       "    }\n",
       "\n",
       "    .dataframe tbody tr th {\n",
       "        vertical-align: top;\n",
       "    }\n",
       "\n",
       "    .dataframe thead th {\n",
       "        text-align: right;\n",
       "    }\n",
       "</style>\n",
       "<table border=\"1\" class=\"dataframe\">\n",
       "  <thead>\n",
       "    <tr style=\"text-align: right;\">\n",
       "      <th></th>\n",
       "      <th>Titre</th>\n",
       "      <th>URL</th>\n",
       "      <th>Date de publication</th>\n",
       "      <th>Description</th>\n",
       "      <th>Source</th>\n",
       "      <th>Contenu</th>\n",
       "      <th>Title_length</th>\n",
       "      <th>Description_length</th>\n",
       "      <th>Content_length</th>\n",
       "      <th>Titre_cleaned</th>\n",
       "      <th>Description_cleaned</th>\n",
       "      <th>Counting_Words_Text</th>\n",
       "      <th>Counting_Words_Description</th>\n",
       "    </tr>\n",
       "  </thead>\n",
       "  <tbody>\n",
       "    <tr>\n",
       "      <th>0</th>\n",
       "      <td>iPhone 16 And iPhone 16 Pro To Upgrade Importa...</td>\n",
       "      <td>https://www.forbes.com/sites/davidphelan/2023/...</td>\n",
       "      <td>2023-12-11 00:00:01+00:00</td>\n",
       "      <td>Next year’s iPhones will have an improved hard...</td>\n",
       "      <td>Forbes</td>\n",
       "      <td>&lt;!DOCTYPE html&gt;&lt;html lang=\"en\"&gt;&lt;head&gt;&lt;link rel...</td>\n",
       "      <td>13</td>\n",
       "      <td>18</td>\n",
       "      <td>12963</td>\n",
       "      <td>iphone  and iphone  pro to upgrade important a...</td>\n",
       "      <td>next years iphones will have an improved hardw...</td>\n",
       "      <td>{'iphone': 2, 'and': 1, 'pro': 1, 'to': 1, 'up...</td>\n",
       "      <td>{'next': 1, 'years': 1, 'iphones': 1, 'will': ...</td>\n",
       "    </tr>\n",
       "    <tr>\n",
       "      <th>1</th>\n",
       "      <td>Apple Leak Confirms Surprise iPhone 16 Pro Upg...</td>\n",
       "      <td>https://www.forbes.com/sites/ewanspence/2023/1...</td>\n",
       "      <td>2023-12-10 21:42:30+00:00</td>\n",
       "      <td>iPhone 16 Pro models will be the first to bene...</td>\n",
       "      <td>Forbes</td>\n",
       "      <td>&lt;!DOCTYPE html&gt;&lt;html lang=\"en\"&gt;&lt;head&gt;&lt;link rel...</td>\n",
       "      <td>8</td>\n",
       "      <td>21</td>\n",
       "      <td>12760</td>\n",
       "      <td>apple leak confirms surprise iphone  pro upgrade</td>\n",
       "      <td>iphone  pro models will be the first to benefi...</td>\n",
       "      <td>{'apple': 1, 'leak': 1, 'confirms': 1, 'surpri...</td>\n",
       "      <td>{'iphone': 2, 'pro': 1, 'models': 1, 'will': 1...</td>\n",
       "    </tr>\n",
       "    <tr>\n",
       "      <th>2</th>\n",
       "      <td>Forget The New MacBook Pro, Apple Has Somethin...</td>\n",
       "      <td>https://www.forbes.com/sites/ewanspence/2023/1...</td>\n",
       "      <td>2023-12-10 19:17:56+00:00</td>\n",
       "      <td>Apple’s awkward MacBook Pro may look attractiv...</td>\n",
       "      <td>Forbes</td>\n",
       "      <td>&lt;!DOCTYPE html&gt;&lt;html lang=\"en\"&gt;&lt;head&gt;&lt;link rel...</td>\n",
       "      <td>10</td>\n",
       "      <td>17</td>\n",
       "      <td>12981</td>\n",
       "      <td>forget the new macbook pro apple has something...</td>\n",
       "      <td>apples awkward macbook pro may look attractive...</td>\n",
       "      <td>{'forget': 1, 'the': 1, 'new': 1, 'macbook': 1...</td>\n",
       "      <td>{'apples': 1, 'awkward': 1, 'macbook': 1, 'pro...</td>\n",
       "    </tr>\n",
       "    <tr>\n",
       "      <th>3</th>\n",
       "      <td>Apple's Competency At Its Core</td>\n",
       "      <td>https://www.forbes.com/sites/gregpetro/2023/12...</td>\n",
       "      <td>2023-12-10 18:37:42+00:00</td>\n",
       "      <td>Examining Apple's triumph in innovation and ma...</td>\n",
       "      <td>Forbes</td>\n",
       "      <td>&lt;!DOCTYPE html&gt;&lt;html lang=\"en\"&gt;&lt;head&gt;&lt;link rel...</td>\n",
       "      <td>5</td>\n",
       "      <td>20</td>\n",
       "      <td>12147</td>\n",
       "      <td>apples competency at its core</td>\n",
       "      <td>examining apples triumph in innovation and mar...</td>\n",
       "      <td>{'apples': 1, 'competency': 1, 'at': 1, 'its':...</td>\n",
       "      <td>{'examining': 1, 'apples': 1, 'triumph': 1, 'i...</td>\n",
       "    </tr>\n",
       "    <tr>\n",
       "      <th>4</th>\n",
       "      <td>Forget The New MacBook Pro, Apple Has Somethin...</td>\n",
       "      <td>https://www.forbes.com/sites/ewanspence/2023/1...</td>\n",
       "      <td>2023-12-09 20:30:22+00:00</td>\n",
       "      <td>Apple’s awkward MacBook Pro may look attractiv...</td>\n",
       "      <td>Forbes</td>\n",
       "      <td>&lt;!DOCTYPE html&gt;&lt;html lang=\"en\"&gt;&lt;head&gt;&lt;link rel...</td>\n",
       "      <td>10</td>\n",
       "      <td>17</td>\n",
       "      <td>12981</td>\n",
       "      <td>forget the new macbook pro apple has something...</td>\n",
       "      <td>apples awkward macbook pro may look attractive...</td>\n",
       "      <td>{'forget': 1, 'the': 1, 'new': 1, 'macbook': 1...</td>\n",
       "      <td>{'apples': 1, 'awkward': 1, 'macbook': 1, 'pro...</td>\n",
       "    </tr>\n",
       "    <tr>\n",
       "      <th>5</th>\n",
       "      <td>Apple Leak Confirms Surprise iPhone 16 Pro Upg...</td>\n",
       "      <td>https://www.forbes.com/sites/ewanspence/2023/1...</td>\n",
       "      <td>2023-12-09 14:42:17+00:00</td>\n",
       "      <td>iPhone 16 Pro models will be the first to bene...</td>\n",
       "      <td>Forbes</td>\n",
       "      <td>&lt;!DOCTYPE html&gt;&lt;html lang=\"en\"&gt;&lt;head&gt;&lt;link rel...</td>\n",
       "      <td>8</td>\n",
       "      <td>21</td>\n",
       "      <td>12760</td>\n",
       "      <td>apple leak confirms surprise iphone  pro upgrade</td>\n",
       "      <td>iphone  pro models will be the first to benefi...</td>\n",
       "      <td>{'apple': 1, 'leak': 1, 'confirms': 1, 'surpri...</td>\n",
       "      <td>{'iphone': 2, 'pro': 1, 'models': 1, 'will': 1...</td>\n",
       "    </tr>\n",
       "    <tr>\n",
       "      <th>6</th>\n",
       "      <td>Apple iOS 17.2 Release Date: The Coolest iPhon...</td>\n",
       "      <td>https://www.forbes.com/sites/davidphelan/2023/...</td>\n",
       "      <td>2023-12-09 14:38:43+00:00</td>\n",
       "      <td>There’s a big iPhone update coming and it’s fu...</td>\n",
       "      <td>Forbes</td>\n",
       "      <td>&lt;!DOCTYPE html&gt;&lt;html lang=\"en\"&gt;&lt;head&gt;&lt;link rel...</td>\n",
       "      <td>12</td>\n",
       "      <td>22</td>\n",
       "      <td>13002</td>\n",
       "      <td>apple ios  release date the coolest iphone upg...</td>\n",
       "      <td>theres a big iphone update coming and its full...</td>\n",
       "      <td>{'apple': 1, 'ios': 1, 'release': 1, 'date': 1...</td>\n",
       "      <td>{'theres': 1, 'a': 1, 'big': 1, 'iphone': 1, '...</td>\n",
       "    </tr>\n",
       "    <tr>\n",
       "      <th>7</th>\n",
       "      <td>Apple iMessage Soundly Beaten As Surprise New ...</td>\n",
       "      <td>https://www.forbes.com/sites/zakdoffman/2023/1...</td>\n",
       "      <td>2023-12-09 12:30:29+00:00</td>\n",
       "      <td>Forget iPhone 15—Apple suddenly has a major iP...</td>\n",
       "      <td>Forbes</td>\n",
       "      <td>&lt;!DOCTYPE html&gt;&lt;html lang=\"en\"&gt;&lt;head&gt;&lt;link rel...</td>\n",
       "      <td>10</td>\n",
       "      <td>14</td>\n",
       "      <td>13800</td>\n",
       "      <td>apple imessage soundly beaten as surprise new ...</td>\n",
       "      <td>forget iphone apple suddenly has a major iphon...</td>\n",
       "      <td>{'apple': 1, 'imessage': 1, 'soundly': 1, 'bea...</td>\n",
       "      <td>{'forget': 1, 'iphone': 2, 'apple': 1, 'sudden...</td>\n",
       "    </tr>\n",
       "    <tr>\n",
       "      <th>8</th>\n",
       "      <td>Apple Loop: Apple’s iPhone 16 Problem, Stunnin...</td>\n",
       "      <td>https://www.forbes.com/sites/ewanspence/2023/1...</td>\n",
       "      <td>2023-12-08 21:32:17+00:00</td>\n",
       "      <td>This week’s Apple headlines; Apple’s iPhone 16...</td>\n",
       "      <td>Forbes</td>\n",
       "      <td>&lt;!DOCTYPE html&gt;&lt;html lang=\"en\"&gt;&lt;head&gt;&lt;link rel...</td>\n",
       "      <td>12</td>\n",
       "      <td>31</td>\n",
       "      <td>13927</td>\n",
       "      <td>apple loop apples iphone  problem stunning ipa...</td>\n",
       "      <td>this weeks apple headlines apples iphone  prob...</td>\n",
       "      <td>{'apple': 1, 'loop': 1, 'apples': 1, 'iphone':...</td>\n",
       "      <td>{'this': 1, 'weeks': 1, 'apple': 2, 'headlines...</td>\n",
       "    </tr>\n",
       "    <tr>\n",
       "      <th>9</th>\n",
       "      <td>Apple iPhone, Watch product design head to lea...</td>\n",
       "      <td>https://www.marketwatch.com/story/apple-iphone...</td>\n",
       "      <td>2023-12-08 20:37:19+00:00</td>\n",
       "      <td>Tang Tan, the Apple Inc. executive who headed ...</td>\n",
       "      <td>MarketWatch</td>\n",
       "      <td>&lt;!DOCTYPE html&gt;\\n&lt;html\\n  lang=\"en-US\"\\n  data...</td>\n",
       "      <td>9</td>\n",
       "      <td>27</td>\n",
       "      <td>14456</td>\n",
       "      <td>apple iphone watch product design head to leav...</td>\n",
       "      <td>tang tan the apple inc executive who headed pr...</td>\n",
       "      <td>{'apple': 1, 'iphone': 1, 'watch': 1, 'product...</td>\n",
       "      <td>{'tang': 1, 'tan': 1, 'the': 4, 'apple': 2, 'i...</td>\n",
       "    </tr>\n",
       "    <tr>\n",
       "      <th>10</th>\n",
       "      <td>: Apple iPhone, Watch product design head to l...</td>\n",
       "      <td>https://www.marketwatch.com/story/apple-iphone...</td>\n",
       "      <td>2023-12-08 20:30:00+00:00</td>\n",
       "      <td>Tang Tan, the Apple Inc. executive who headed ...</td>\n",
       "      <td>MarketWatch</td>\n",
       "      <td>&lt;!DOCTYPE html&gt;\\n&lt;html\\n  lang=\"en-US\"\\n  data...</td>\n",
       "      <td>10</td>\n",
       "      <td>27</td>\n",
       "      <td>14485</td>\n",
       "      <td>apple iphone watch product design head to lea...</td>\n",
       "      <td>tang tan the apple inc executive who headed pr...</td>\n",
       "      <td>{'apple': 1, 'iphone': 1, 'watch': 1, 'product...</td>\n",
       "      <td>{'tang': 1, 'tan': 1, 'the': 4, 'apple': 2, 'i...</td>\n",
       "    </tr>\n",
       "    <tr>\n",
       "      <th>11</th>\n",
       "      <td>Apple's latest moves in India underscore data ...</td>\n",
       "      <td>https://www.cnbc.com/2023/12/08/apples-latest-...</td>\n",
       "      <td>2023-12-08 18:20:47+00:00</td>\n",
       "      <td>India's economy is about 16½ years behind Chin...</td>\n",
       "      <td>CNBC</td>\n",
       "      <td>&lt;!DOCTYPE html&gt;&lt;html lang=\"en\" prefix=\"og=http...</td>\n",
       "      <td>15</td>\n",
       "      <td>21</td>\n",
       "      <td>25990</td>\n",
       "      <td>apples latest moves in india underscore data s...</td>\n",
       "      <td>indias economy is about ½ years behind chinas ...</td>\n",
       "      <td>{'apples': 1, 'latest': 1, 'moves': 1, 'in': 1...</td>\n",
       "      <td>{'indias': 1, 'economy': 2, 'is': 1, 'about': ...</td>\n",
       "    </tr>\n",
       "    <tr>\n",
       "      <th>12</th>\n",
       "      <td>No-One Cares Which Bank Provides Their Apple Card</td>\n",
       "      <td>https://www.forbes.com/sites/davidbirch/2023/1...</td>\n",
       "      <td>2023-12-08 11:57:45+00:00</td>\n",
       "      <td>So long as my rewards card works and I get my ...</td>\n",
       "      <td>Forbes</td>\n",
       "      <td>&lt;!DOCTYPE html&gt;&lt;html lang=\"en\"&gt;&lt;head&gt;&lt;link rel...</td>\n",
       "      <td>8</td>\n",
       "      <td>24</td>\n",
       "      <td>13004</td>\n",
       "      <td>noone cares which bank provides their apple card</td>\n",
       "      <td>so long as my rewards card works and i get my ...</td>\n",
       "      <td>{'noone': 1, 'cares': 1, 'which': 1, 'bank': 1...</td>\n",
       "      <td>{'so': 1, 'long': 1, 'as': 1, 'my': 2, 'reward...</td>\n",
       "    </tr>\n",
       "    <tr>\n",
       "      <th>13</th>\n",
       "      <td>Apple Wants To Make 1-In-4 iPhones In India As...</td>\n",
       "      <td>https://www.forbes.com/sites/siladityaray/2023...</td>\n",
       "      <td>2023-12-08 11:48:48+00:00</td>\n",
       "      <td>Apple wants to expand its Indian manufacturing...</td>\n",
       "      <td>Forbes</td>\n",
       "      <td>&lt;!DOCTYPE html&gt;&lt;html lang=\"en\"&gt;&lt;head&gt;&lt;link rel...</td>\n",
       "      <td>21</td>\n",
       "      <td>25</td>\n",
       "      <td>14747</td>\n",
       "      <td>apple wants to make in iphones in india as tat...</td>\n",
       "      <td>apple wants to expand its indian manufacturing...</td>\n",
       "      <td>{'apple': 1, 'wants': 1, 'to': 2, 'make': 1, '...</td>\n",
       "      <td>{'apple': 1, 'wants': 1, 'to': 3, 'expand': 1,...</td>\n",
       "    </tr>\n",
       "    <tr>\n",
       "      <th>14</th>\n",
       "      <td>Apple reportedly plans major expansion of iPho...</td>\n",
       "      <td>https://www.marketwatch.com/story/apple-report...</td>\n",
       "      <td>2023-12-08 04:23:00+00:00</td>\n",
       "      <td>Apple Inc. is planning a massive expansion of ...</td>\n",
       "      <td>MarketWatch</td>\n",
       "      <td>&lt;!DOCTYPE html&gt;\\n&lt;html\\n  lang=\"en-US\"\\n  data...</td>\n",
       "      <td>10</td>\n",
       "      <td>17</td>\n",
       "      <td>14625</td>\n",
       "      <td>apple reportedly plans major expansion of ipho...</td>\n",
       "      <td>apple inc is planning a massive expansion of i...</td>\n",
       "      <td>{'apple': 1, 'reportedly': 1, 'plans': 1, 'maj...</td>\n",
       "      <td>{'apple': 1, 'inc': 1, 'is': 1, 'planning': 1,...</td>\n",
       "    </tr>\n",
       "    <tr>\n",
       "      <th>15</th>\n",
       "      <td>: Apple reportedly plans major expansion of iP...</td>\n",
       "      <td>https://www.marketwatch.com/story/apple-report...</td>\n",
       "      <td>2023-12-08 04:23:00+00:00</td>\n",
       "      <td>Apple Inc. is planning a massive expansion of ...</td>\n",
       "      <td>MarketWatch</td>\n",
       "      <td>&lt;!DOCTYPE html&gt;\\n&lt;html\\n  lang=\"en-US\"\\n  data...</td>\n",
       "      <td>11</td>\n",
       "      <td>17</td>\n",
       "      <td>14597</td>\n",
       "      <td>apple reportedly plans major expansion of iph...</td>\n",
       "      <td>apple inc is planning a massive expansion of i...</td>\n",
       "      <td>{'apple': 1, 'reportedly': 1, 'plans': 1, 'maj...</td>\n",
       "      <td>{'apple': 1, 'inc': 1, 'is': 1, 'planning': 1,...</td>\n",
       "    </tr>\n",
       "    <tr>\n",
       "      <th>16</th>\n",
       "      <td>Apple Adds NameDrop-Like Pass-Sharing Feature ...</td>\n",
       "      <td>https://www.forbes.com/sites/stevenaquino/2023...</td>\n",
       "      <td>2023-12-07 21:56:41+00:00</td>\n",
       "      <td>The feature bears a strong resemblance to the ...</td>\n",
       "      <td>Forbes</td>\n",
       "      <td>&lt;!DOCTYPE html&gt;&lt;html lang=\"en\"&gt;&lt;head&gt;&lt;link rel...</td>\n",
       "      <td>15</td>\n",
       "      <td>15</td>\n",
       "      <td>12160</td>\n",
       "      <td>apple adds namedroplike passsharing feature to...</td>\n",
       "      <td>the feature bears a strong resemblance to the ...</td>\n",
       "      <td>{'apple': 1, 'adds': 1, 'namedroplike': 1, 'pa...</td>\n",
       "      <td>{'the': 2, 'feature': 1, 'bears': 1, 'a': 1, '...</td>\n",
       "    </tr>\n",
       "    <tr>\n",
       "      <th>17</th>\n",
       "      <td>Apple iPad 2024: All-New Big-Screen Model Comi...</td>\n",
       "      <td>https://www.forbes.com/sites/davidphelan/2023/...</td>\n",
       "      <td>2023-12-07 19:30:38+00:00</td>\n",
       "      <td>The latest reports suggest that four new iPads...</td>\n",
       "      <td>Forbes</td>\n",
       "      <td>&lt;!DOCTYPE html&gt;&lt;html lang=\"en\"&gt;&lt;head&gt;&lt;link rel...</td>\n",
       "      <td>11</td>\n",
       "      <td>24</td>\n",
       "      <td>12993</td>\n",
       "      <td>apple ipad  allnew bigscreen model coming in w...</td>\n",
       "      <td>the latest reports suggest that four new ipads...</td>\n",
       "      <td>{'apple': 1, 'ipad': 1, 'allnew': 1, 'bigscree...</td>\n",
       "      <td>{'the': 3, 'latest': 1, 'reports': 1, 'suggest...</td>\n",
       "    </tr>\n",
       "    <tr>\n",
       "      <th>18</th>\n",
       "      <td>New Apple Leak Hints At Early MacBook Air Upgrade</td>\n",
       "      <td>https://www.forbes.com/sites/ewanspence/2023/1...</td>\n",
       "      <td>2023-12-07 09:30:30+00:00</td>\n",
       "      <td>Apple's next MacBook Air laptops may arrive ea...</td>\n",
       "      <td>Forbes</td>\n",
       "      <td>&lt;!DOCTYPE html&gt;&lt;html lang=\"en\"&gt;&lt;head&gt;&lt;link rel...</td>\n",
       "      <td>9</td>\n",
       "      <td>10</td>\n",
       "      <td>12755</td>\n",
       "      <td>new apple leak hints at early macbook air upgrade</td>\n",
       "      <td>apples next macbook air laptops may arrive ear...</td>\n",
       "      <td>{'new': 1, 'apple': 1, 'leak': 1, 'hints': 1, ...</td>\n",
       "      <td>{'apples': 1, 'next': 1, 'macbook': 1, 'air': ...</td>\n",
       "    </tr>\n",
       "    <tr>\n",
       "      <th>19</th>\n",
       "      <td>Apple Planning New iPads And Macs Amid Drop In...</td>\n",
       "      <td>https://www.forbes.com/sites/britneynguyen/202...</td>\n",
       "      <td>2023-12-06 19:57:35+00:00</td>\n",
       "      <td>Apple did not release new iPads this year, con...</td>\n",
       "      <td>Forbes</td>\n",
       "      <td>&lt;!DOCTYPE html&gt;&lt;html lang=\"en\"&gt;&lt;head&gt;&lt;link rel...</td>\n",
       "      <td>12</td>\n",
       "      <td>27</td>\n",
       "      <td>14765</td>\n",
       "      <td>apple planning new ipads and macs amid drop in...</td>\n",
       "      <td>apple did not release new ipads this year cont...</td>\n",
       "      <td>{'apple': 1, 'planning': 1, 'new': 1, 'ipads':...</td>\n",
       "      <td>{'apple': 1, 'did': 1, 'not': 1, 'release': 1,...</td>\n",
       "    </tr>\n",
       "  </tbody>\n",
       "</table>\n",
       "</div>"
      ],
      "text/plain": [
       "                                                Titre  \\\n",
       "0   iPhone 16 And iPhone 16 Pro To Upgrade Importa...   \n",
       "1   Apple Leak Confirms Surprise iPhone 16 Pro Upg...   \n",
       "2   Forget The New MacBook Pro, Apple Has Somethin...   \n",
       "3                      Apple's Competency At Its Core   \n",
       "4   Forget The New MacBook Pro, Apple Has Somethin...   \n",
       "5   Apple Leak Confirms Surprise iPhone 16 Pro Upg...   \n",
       "6   Apple iOS 17.2 Release Date: The Coolest iPhon...   \n",
       "7   Apple iMessage Soundly Beaten As Surprise New ...   \n",
       "8   Apple Loop: Apple’s iPhone 16 Problem, Stunnin...   \n",
       "9   Apple iPhone, Watch product design head to lea...   \n",
       "10  : Apple iPhone, Watch product design head to l...   \n",
       "11  Apple's latest moves in India underscore data ...   \n",
       "12  No-One Cares Which Bank Provides Their Apple Card   \n",
       "13  Apple Wants To Make 1-In-4 iPhones In India As...   \n",
       "14  Apple reportedly plans major expansion of iPho...   \n",
       "15  : Apple reportedly plans major expansion of iP...   \n",
       "16  Apple Adds NameDrop-Like Pass-Sharing Feature ...   \n",
       "17  Apple iPad 2024: All-New Big-Screen Model Comi...   \n",
       "18  New Apple Leak Hints At Early MacBook Air Upgrade   \n",
       "19  Apple Planning New iPads And Macs Amid Drop In...   \n",
       "\n",
       "                                                  URL  \\\n",
       "0   https://www.forbes.com/sites/davidphelan/2023/...   \n",
       "1   https://www.forbes.com/sites/ewanspence/2023/1...   \n",
       "2   https://www.forbes.com/sites/ewanspence/2023/1...   \n",
       "3   https://www.forbes.com/sites/gregpetro/2023/12...   \n",
       "4   https://www.forbes.com/sites/ewanspence/2023/1...   \n",
       "5   https://www.forbes.com/sites/ewanspence/2023/1...   \n",
       "6   https://www.forbes.com/sites/davidphelan/2023/...   \n",
       "7   https://www.forbes.com/sites/zakdoffman/2023/1...   \n",
       "8   https://www.forbes.com/sites/ewanspence/2023/1...   \n",
       "9   https://www.marketwatch.com/story/apple-iphone...   \n",
       "10  https://www.marketwatch.com/story/apple-iphone...   \n",
       "11  https://www.cnbc.com/2023/12/08/apples-latest-...   \n",
       "12  https://www.forbes.com/sites/davidbirch/2023/1...   \n",
       "13  https://www.forbes.com/sites/siladityaray/2023...   \n",
       "14  https://www.marketwatch.com/story/apple-report...   \n",
       "15  https://www.marketwatch.com/story/apple-report...   \n",
       "16  https://www.forbes.com/sites/stevenaquino/2023...   \n",
       "17  https://www.forbes.com/sites/davidphelan/2023/...   \n",
       "18  https://www.forbes.com/sites/ewanspence/2023/1...   \n",
       "19  https://www.forbes.com/sites/britneynguyen/202...   \n",
       "\n",
       "         Date de publication  \\\n",
       "0  2023-12-11 00:00:01+00:00   \n",
       "1  2023-12-10 21:42:30+00:00   \n",
       "2  2023-12-10 19:17:56+00:00   \n",
       "3  2023-12-10 18:37:42+00:00   \n",
       "4  2023-12-09 20:30:22+00:00   \n",
       "5  2023-12-09 14:42:17+00:00   \n",
       "6  2023-12-09 14:38:43+00:00   \n",
       "7  2023-12-09 12:30:29+00:00   \n",
       "8  2023-12-08 21:32:17+00:00   \n",
       "9  2023-12-08 20:37:19+00:00   \n",
       "10 2023-12-08 20:30:00+00:00   \n",
       "11 2023-12-08 18:20:47+00:00   \n",
       "12 2023-12-08 11:57:45+00:00   \n",
       "13 2023-12-08 11:48:48+00:00   \n",
       "14 2023-12-08 04:23:00+00:00   \n",
       "15 2023-12-08 04:23:00+00:00   \n",
       "16 2023-12-07 21:56:41+00:00   \n",
       "17 2023-12-07 19:30:38+00:00   \n",
       "18 2023-12-07 09:30:30+00:00   \n",
       "19 2023-12-06 19:57:35+00:00   \n",
       "\n",
       "                                          Description       Source  \\\n",
       "0   Next year’s iPhones will have an improved hard...       Forbes   \n",
       "1   iPhone 16 Pro models will be the first to bene...       Forbes   \n",
       "2   Apple’s awkward MacBook Pro may look attractiv...       Forbes   \n",
       "3   Examining Apple's triumph in innovation and ma...       Forbes   \n",
       "4   Apple’s awkward MacBook Pro may look attractiv...       Forbes   \n",
       "5   iPhone 16 Pro models will be the first to bene...       Forbes   \n",
       "6   There’s a big iPhone update coming and it’s fu...       Forbes   \n",
       "7   Forget iPhone 15—Apple suddenly has a major iP...       Forbes   \n",
       "8   This week’s Apple headlines; Apple’s iPhone 16...       Forbes   \n",
       "9   Tang Tan, the Apple Inc. executive who headed ...  MarketWatch   \n",
       "10  Tang Tan, the Apple Inc. executive who headed ...  MarketWatch   \n",
       "11  India's economy is about 16½ years behind Chin...         CNBC   \n",
       "12  So long as my rewards card works and I get my ...       Forbes   \n",
       "13  Apple wants to expand its Indian manufacturing...       Forbes   \n",
       "14  Apple Inc. is planning a massive expansion of ...  MarketWatch   \n",
       "15  Apple Inc. is planning a massive expansion of ...  MarketWatch   \n",
       "16  The feature bears a strong resemblance to the ...       Forbes   \n",
       "17  The latest reports suggest that four new iPads...       Forbes   \n",
       "18  Apple's next MacBook Air laptops may arrive ea...       Forbes   \n",
       "19  Apple did not release new iPads this year, con...       Forbes   \n",
       "\n",
       "                                              Contenu  Title_length  \\\n",
       "0   <!DOCTYPE html><html lang=\"en\"><head><link rel...            13   \n",
       "1   <!DOCTYPE html><html lang=\"en\"><head><link rel...             8   \n",
       "2   <!DOCTYPE html><html lang=\"en\"><head><link rel...            10   \n",
       "3   <!DOCTYPE html><html lang=\"en\"><head><link rel...             5   \n",
       "4   <!DOCTYPE html><html lang=\"en\"><head><link rel...            10   \n",
       "5   <!DOCTYPE html><html lang=\"en\"><head><link rel...             8   \n",
       "6   <!DOCTYPE html><html lang=\"en\"><head><link rel...            12   \n",
       "7   <!DOCTYPE html><html lang=\"en\"><head><link rel...            10   \n",
       "8   <!DOCTYPE html><html lang=\"en\"><head><link rel...            12   \n",
       "9   <!DOCTYPE html>\\n<html\\n  lang=\"en-US\"\\n  data...             9   \n",
       "10  <!DOCTYPE html>\\n<html\\n  lang=\"en-US\"\\n  data...            10   \n",
       "11  <!DOCTYPE html><html lang=\"en\" prefix=\"og=http...            15   \n",
       "12  <!DOCTYPE html><html lang=\"en\"><head><link rel...             8   \n",
       "13  <!DOCTYPE html><html lang=\"en\"><head><link rel...            21   \n",
       "14  <!DOCTYPE html>\\n<html\\n  lang=\"en-US\"\\n  data...            10   \n",
       "15  <!DOCTYPE html>\\n<html\\n  lang=\"en-US\"\\n  data...            11   \n",
       "16  <!DOCTYPE html><html lang=\"en\"><head><link rel...            15   \n",
       "17  <!DOCTYPE html><html lang=\"en\"><head><link rel...            11   \n",
       "18  <!DOCTYPE html><html lang=\"en\"><head><link rel...             9   \n",
       "19  <!DOCTYPE html><html lang=\"en\"><head><link rel...            12   \n",
       "\n",
       "    Description_length  Content_length  \\\n",
       "0                   18           12963   \n",
       "1                   21           12760   \n",
       "2                   17           12981   \n",
       "3                   20           12147   \n",
       "4                   17           12981   \n",
       "5                   21           12760   \n",
       "6                   22           13002   \n",
       "7                   14           13800   \n",
       "8                   31           13927   \n",
       "9                   27           14456   \n",
       "10                  27           14485   \n",
       "11                  21           25990   \n",
       "12                  24           13004   \n",
       "13                  25           14747   \n",
       "14                  17           14625   \n",
       "15                  17           14597   \n",
       "16                  15           12160   \n",
       "17                  24           12993   \n",
       "18                  10           12755   \n",
       "19                  27           14765   \n",
       "\n",
       "                                        Titre_cleaned  \\\n",
       "0   iphone  and iphone  pro to upgrade important a...   \n",
       "1    apple leak confirms surprise iphone  pro upgrade   \n",
       "2   forget the new macbook pro apple has something...   \n",
       "3                       apples competency at its core   \n",
       "4   forget the new macbook pro apple has something...   \n",
       "5    apple leak confirms surprise iphone  pro upgrade   \n",
       "6   apple ios  release date the coolest iphone upg...   \n",
       "7   apple imessage soundly beaten as surprise new ...   \n",
       "8   apple loop apples iphone  problem stunning ipa...   \n",
       "9   apple iphone watch product design head to leav...   \n",
       "10   apple iphone watch product design head to lea...   \n",
       "11  apples latest moves in india underscore data s...   \n",
       "12   noone cares which bank provides their apple card   \n",
       "13  apple wants to make in iphones in india as tat...   \n",
       "14  apple reportedly plans major expansion of ipho...   \n",
       "15   apple reportedly plans major expansion of iph...   \n",
       "16  apple adds namedroplike passsharing feature to...   \n",
       "17  apple ipad  allnew bigscreen model coming in w...   \n",
       "18  new apple leak hints at early macbook air upgrade   \n",
       "19  apple planning new ipads and macs amid drop in...   \n",
       "\n",
       "                                  Description_cleaned  \\\n",
       "0   next years iphones will have an improved hardw...   \n",
       "1   iphone  pro models will be the first to benefi...   \n",
       "2   apples awkward macbook pro may look attractive...   \n",
       "3   examining apples triumph in innovation and mar...   \n",
       "4   apples awkward macbook pro may look attractive...   \n",
       "5   iphone  pro models will be the first to benefi...   \n",
       "6   theres a big iphone update coming and its full...   \n",
       "7   forget iphone apple suddenly has a major iphon...   \n",
       "8   this weeks apple headlines apples iphone  prob...   \n",
       "9   tang tan the apple inc executive who headed pr...   \n",
       "10  tang tan the apple inc executive who headed pr...   \n",
       "11  indias economy is about ½ years behind chinas ...   \n",
       "12  so long as my rewards card works and i get my ...   \n",
       "13  apple wants to expand its indian manufacturing...   \n",
       "14  apple inc is planning a massive expansion of i...   \n",
       "15  apple inc is planning a massive expansion of i...   \n",
       "16  the feature bears a strong resemblance to the ...   \n",
       "17  the latest reports suggest that four new ipads...   \n",
       "18  apples next macbook air laptops may arrive ear...   \n",
       "19  apple did not release new ipads this year cont...   \n",
       "\n",
       "                                  Counting_Words_Text  \\\n",
       "0   {'iphone': 2, 'and': 1, 'pro': 1, 'to': 1, 'up...   \n",
       "1   {'apple': 1, 'leak': 1, 'confirms': 1, 'surpri...   \n",
       "2   {'forget': 1, 'the': 1, 'new': 1, 'macbook': 1...   \n",
       "3   {'apples': 1, 'competency': 1, 'at': 1, 'its':...   \n",
       "4   {'forget': 1, 'the': 1, 'new': 1, 'macbook': 1...   \n",
       "5   {'apple': 1, 'leak': 1, 'confirms': 1, 'surpri...   \n",
       "6   {'apple': 1, 'ios': 1, 'release': 1, 'date': 1...   \n",
       "7   {'apple': 1, 'imessage': 1, 'soundly': 1, 'bea...   \n",
       "8   {'apple': 1, 'loop': 1, 'apples': 1, 'iphone':...   \n",
       "9   {'apple': 1, 'iphone': 1, 'watch': 1, 'product...   \n",
       "10  {'apple': 1, 'iphone': 1, 'watch': 1, 'product...   \n",
       "11  {'apples': 1, 'latest': 1, 'moves': 1, 'in': 1...   \n",
       "12  {'noone': 1, 'cares': 1, 'which': 1, 'bank': 1...   \n",
       "13  {'apple': 1, 'wants': 1, 'to': 2, 'make': 1, '...   \n",
       "14  {'apple': 1, 'reportedly': 1, 'plans': 1, 'maj...   \n",
       "15  {'apple': 1, 'reportedly': 1, 'plans': 1, 'maj...   \n",
       "16  {'apple': 1, 'adds': 1, 'namedroplike': 1, 'pa...   \n",
       "17  {'apple': 1, 'ipad': 1, 'allnew': 1, 'bigscree...   \n",
       "18  {'new': 1, 'apple': 1, 'leak': 1, 'hints': 1, ...   \n",
       "19  {'apple': 1, 'planning': 1, 'new': 1, 'ipads':...   \n",
       "\n",
       "                           Counting_Words_Description  \n",
       "0   {'next': 1, 'years': 1, 'iphones': 1, 'will': ...  \n",
       "1   {'iphone': 2, 'pro': 1, 'models': 1, 'will': 1...  \n",
       "2   {'apples': 1, 'awkward': 1, 'macbook': 1, 'pro...  \n",
       "3   {'examining': 1, 'apples': 1, 'triumph': 1, 'i...  \n",
       "4   {'apples': 1, 'awkward': 1, 'macbook': 1, 'pro...  \n",
       "5   {'iphone': 2, 'pro': 1, 'models': 1, 'will': 1...  \n",
       "6   {'theres': 1, 'a': 1, 'big': 1, 'iphone': 1, '...  \n",
       "7   {'forget': 1, 'iphone': 2, 'apple': 1, 'sudden...  \n",
       "8   {'this': 1, 'weeks': 1, 'apple': 2, 'headlines...  \n",
       "9   {'tang': 1, 'tan': 1, 'the': 4, 'apple': 2, 'i...  \n",
       "10  {'tang': 1, 'tan': 1, 'the': 4, 'apple': 2, 'i...  \n",
       "11  {'indias': 1, 'economy': 2, 'is': 1, 'about': ...  \n",
       "12  {'so': 1, 'long': 1, 'as': 1, 'my': 2, 'reward...  \n",
       "13  {'apple': 1, 'wants': 1, 'to': 3, 'expand': 1,...  \n",
       "14  {'apple': 1, 'inc': 1, 'is': 1, 'planning': 1,...  \n",
       "15  {'apple': 1, 'inc': 1, 'is': 1, 'planning': 1,...  \n",
       "16  {'the': 2, 'feature': 1, 'bears': 1, 'a': 1, '...  \n",
       "17  {'the': 3, 'latest': 1, 'reports': 1, 'suggest...  \n",
       "18  {'apples': 1, 'next': 1, 'macbook': 1, 'air': ...  \n",
       "19  {'apple': 1, 'did': 1, 'not': 1, 'release': 1,...  "
      ]
     },
     "execution_count": 44,
     "metadata": {},
     "output_type": "execute_result"
    }
   ],
   "source": [
    "df_analyse_1['Counting_Words_Text']=df_analyse_1['Titre_cleaned'].apply(count_common_words)\n",
    "df_analyse_1['Counting_Words_Description']=df_analyse_1['Description_cleaned'].apply(count_common_words)\n",
    "\n",
    "df_analyse_1"
   ]
  },
  {
   "cell_type": "code",
   "execution_count": 45,
   "metadata": {},
   "outputs": [
    {
     "data": {
      "text/html": [
       "<div>\n",
       "<style scoped>\n",
       "    .dataframe tbody tr th:only-of-type {\n",
       "        vertical-align: middle;\n",
       "    }\n",
       "\n",
       "    .dataframe tbody tr th {\n",
       "        vertical-align: top;\n",
       "    }\n",
       "\n",
       "    .dataframe thead th {\n",
       "        text-align: right;\n",
       "    }\n",
       "</style>\n",
       "<table border=\"1\" class=\"dataframe\">\n",
       "  <thead>\n",
       "    <tr style=\"text-align: right;\">\n",
       "      <th></th>\n",
       "      <th>Titre</th>\n",
       "      <th>URL</th>\n",
       "      <th>Date de publication</th>\n",
       "      <th>Description</th>\n",
       "      <th>Source</th>\n",
       "      <th>Contenu</th>\n",
       "      <th>Title_length</th>\n",
       "      <th>Description_length</th>\n",
       "      <th>Content_length</th>\n",
       "      <th>Titre_cleaned</th>\n",
       "      <th>Description_cleaned</th>\n",
       "      <th>Counting_Words_Text</th>\n",
       "      <th>Counting_Words_Description</th>\n",
       "      <th>Most_common_text</th>\n",
       "      <th>Most_common_description</th>\n",
       "    </tr>\n",
       "  </thead>\n",
       "  <tbody>\n",
       "    <tr>\n",
       "      <th>0</th>\n",
       "      <td>iPhone 16 And iPhone 16 Pro To Upgrade Importa...</td>\n",
       "      <td>https://www.forbes.com/sites/davidphelan/2023/...</td>\n",
       "      <td>2023-12-11 00:00:01+00:00</td>\n",
       "      <td>Next year’s iPhones will have an improved hard...</td>\n",
       "      <td>Forbes</td>\n",
       "      <td>&lt;!DOCTYPE html&gt;&lt;html lang=\"en\"&gt;&lt;head&gt;&lt;link rel...</td>\n",
       "      <td>13</td>\n",
       "      <td>18</td>\n",
       "      <td>12963</td>\n",
       "      <td>iphone  and iphone  pro to upgrade important a...</td>\n",
       "      <td>next years iphones will have an improved hardw...</td>\n",
       "      <td>{'iphone': 2, 'and': 1, 'pro': 1, 'to': 1, 'up...</td>\n",
       "      <td>{'next': 1, 'years': 1, 'iphones': 1, 'will': ...</td>\n",
       "      <td>{'iphone': 2, 'and': 1, 'pro': 1, 'to': 1, 'up...</td>\n",
       "      <td>{'next': 1, 'years': 1, 'iphones': 1, 'will': ...</td>\n",
       "    </tr>\n",
       "    <tr>\n",
       "      <th>1</th>\n",
       "      <td>Apple Leak Confirms Surprise iPhone 16 Pro Upg...</td>\n",
       "      <td>https://www.forbes.com/sites/ewanspence/2023/1...</td>\n",
       "      <td>2023-12-10 21:42:30+00:00</td>\n",
       "      <td>iPhone 16 Pro models will be the first to bene...</td>\n",
       "      <td>Forbes</td>\n",
       "      <td>&lt;!DOCTYPE html&gt;&lt;html lang=\"en\"&gt;&lt;head&gt;&lt;link rel...</td>\n",
       "      <td>8</td>\n",
       "      <td>21</td>\n",
       "      <td>12760</td>\n",
       "      <td>apple leak confirms surprise iphone  pro upgrade</td>\n",
       "      <td>iphone  pro models will be the first to benefi...</td>\n",
       "      <td>{'apple': 1, 'leak': 1, 'confirms': 1, 'surpri...</td>\n",
       "      <td>{'iphone': 2, 'pro': 1, 'models': 1, 'will': 1...</td>\n",
       "      <td>{'apple': 1, 'leak': 1, 'confirms': 1, 'surpri...</td>\n",
       "      <td>{'iphone': 2, 'to': 2, 'pro': 1, 'models': 1, ...</td>\n",
       "    </tr>\n",
       "    <tr>\n",
       "      <th>2</th>\n",
       "      <td>Forget The New MacBook Pro, Apple Has Somethin...</td>\n",
       "      <td>https://www.forbes.com/sites/ewanspence/2023/1...</td>\n",
       "      <td>2023-12-10 19:17:56+00:00</td>\n",
       "      <td>Apple’s awkward MacBook Pro may look attractiv...</td>\n",
       "      <td>Forbes</td>\n",
       "      <td>&lt;!DOCTYPE html&gt;&lt;html lang=\"en\"&gt;&lt;head&gt;&lt;link rel...</td>\n",
       "      <td>10</td>\n",
       "      <td>17</td>\n",
       "      <td>12981</td>\n",
       "      <td>forget the new macbook pro apple has something...</td>\n",
       "      <td>apples awkward macbook pro may look attractive...</td>\n",
       "      <td>{'forget': 1, 'the': 1, 'new': 1, 'macbook': 1...</td>\n",
       "      <td>{'apples': 1, 'awkward': 1, 'macbook': 1, 'pro...</td>\n",
       "      <td>{'forget': 1, 'the': 1, 'new': 1, 'macbook': 1...</td>\n",
       "      <td>{'apples': 1, 'awkward': 1, 'macbook': 1, 'pro...</td>\n",
       "    </tr>\n",
       "    <tr>\n",
       "      <th>3</th>\n",
       "      <td>Apple's Competency At Its Core</td>\n",
       "      <td>https://www.forbes.com/sites/gregpetro/2023/12...</td>\n",
       "      <td>2023-12-10 18:37:42+00:00</td>\n",
       "      <td>Examining Apple's triumph in innovation and ma...</td>\n",
       "      <td>Forbes</td>\n",
       "      <td>&lt;!DOCTYPE html&gt;&lt;html lang=\"en\"&gt;&lt;head&gt;&lt;link rel...</td>\n",
       "      <td>5</td>\n",
       "      <td>20</td>\n",
       "      <td>12147</td>\n",
       "      <td>apples competency at its core</td>\n",
       "      <td>examining apples triumph in innovation and mar...</td>\n",
       "      <td>{'apples': 1, 'competency': 1, 'at': 1, 'its':...</td>\n",
       "      <td>{'examining': 1, 'apples': 1, 'triumph': 1, 'i...</td>\n",
       "      <td>{'apples': 1, 'competency': 1, 'at': 1, 'its':...</td>\n",
       "      <td>{'in': 2, 'and': 2, 'examining': 1, 'apples': ...</td>\n",
       "    </tr>\n",
       "    <tr>\n",
       "      <th>4</th>\n",
       "      <td>Forget The New MacBook Pro, Apple Has Somethin...</td>\n",
       "      <td>https://www.forbes.com/sites/ewanspence/2023/1...</td>\n",
       "      <td>2023-12-09 20:30:22+00:00</td>\n",
       "      <td>Apple’s awkward MacBook Pro may look attractiv...</td>\n",
       "      <td>Forbes</td>\n",
       "      <td>&lt;!DOCTYPE html&gt;&lt;html lang=\"en\"&gt;&lt;head&gt;&lt;link rel...</td>\n",
       "      <td>10</td>\n",
       "      <td>17</td>\n",
       "      <td>12981</td>\n",
       "      <td>forget the new macbook pro apple has something...</td>\n",
       "      <td>apples awkward macbook pro may look attractive...</td>\n",
       "      <td>{'forget': 1, 'the': 1, 'new': 1, 'macbook': 1...</td>\n",
       "      <td>{'apples': 1, 'awkward': 1, 'macbook': 1, 'pro...</td>\n",
       "      <td>{'forget': 1, 'the': 1, 'new': 1, 'macbook': 1...</td>\n",
       "      <td>{'apples': 1, 'awkward': 1, 'macbook': 1, 'pro...</td>\n",
       "    </tr>\n",
       "  </tbody>\n",
       "</table>\n",
       "</div>"
      ],
      "text/plain": [
       "                                               Titre  \\\n",
       "0  iPhone 16 And iPhone 16 Pro To Upgrade Importa...   \n",
       "1  Apple Leak Confirms Surprise iPhone 16 Pro Upg...   \n",
       "2  Forget The New MacBook Pro, Apple Has Somethin...   \n",
       "3                     Apple's Competency At Its Core   \n",
       "4  Forget The New MacBook Pro, Apple Has Somethin...   \n",
       "\n",
       "                                                 URL  \\\n",
       "0  https://www.forbes.com/sites/davidphelan/2023/...   \n",
       "1  https://www.forbes.com/sites/ewanspence/2023/1...   \n",
       "2  https://www.forbes.com/sites/ewanspence/2023/1...   \n",
       "3  https://www.forbes.com/sites/gregpetro/2023/12...   \n",
       "4  https://www.forbes.com/sites/ewanspence/2023/1...   \n",
       "\n",
       "        Date de publication  \\\n",
       "0 2023-12-11 00:00:01+00:00   \n",
       "1 2023-12-10 21:42:30+00:00   \n",
       "2 2023-12-10 19:17:56+00:00   \n",
       "3 2023-12-10 18:37:42+00:00   \n",
       "4 2023-12-09 20:30:22+00:00   \n",
       "\n",
       "                                         Description  Source  \\\n",
       "0  Next year’s iPhones will have an improved hard...  Forbes   \n",
       "1  iPhone 16 Pro models will be the first to bene...  Forbes   \n",
       "2  Apple’s awkward MacBook Pro may look attractiv...  Forbes   \n",
       "3  Examining Apple's triumph in innovation and ma...  Forbes   \n",
       "4  Apple’s awkward MacBook Pro may look attractiv...  Forbes   \n",
       "\n",
       "                                             Contenu  Title_length  \\\n",
       "0  <!DOCTYPE html><html lang=\"en\"><head><link rel...            13   \n",
       "1  <!DOCTYPE html><html lang=\"en\"><head><link rel...             8   \n",
       "2  <!DOCTYPE html><html lang=\"en\"><head><link rel...            10   \n",
       "3  <!DOCTYPE html><html lang=\"en\"><head><link rel...             5   \n",
       "4  <!DOCTYPE html><html lang=\"en\"><head><link rel...            10   \n",
       "\n",
       "   Description_length  Content_length  \\\n",
       "0                  18           12963   \n",
       "1                  21           12760   \n",
       "2                  17           12981   \n",
       "3                  20           12147   \n",
       "4                  17           12981   \n",
       "\n",
       "                                       Titre_cleaned  \\\n",
       "0  iphone  and iphone  pro to upgrade important a...   \n",
       "1   apple leak confirms surprise iphone  pro upgrade   \n",
       "2  forget the new macbook pro apple has something...   \n",
       "3                      apples competency at its core   \n",
       "4  forget the new macbook pro apple has something...   \n",
       "\n",
       "                                 Description_cleaned  \\\n",
       "0  next years iphones will have an improved hardw...   \n",
       "1  iphone  pro models will be the first to benefi...   \n",
       "2  apples awkward macbook pro may look attractive...   \n",
       "3  examining apples triumph in innovation and mar...   \n",
       "4  apples awkward macbook pro may look attractive...   \n",
       "\n",
       "                                 Counting_Words_Text  \\\n",
       "0  {'iphone': 2, 'and': 1, 'pro': 1, 'to': 1, 'up...   \n",
       "1  {'apple': 1, 'leak': 1, 'confirms': 1, 'surpri...   \n",
       "2  {'forget': 1, 'the': 1, 'new': 1, 'macbook': 1...   \n",
       "3  {'apples': 1, 'competency': 1, 'at': 1, 'its':...   \n",
       "4  {'forget': 1, 'the': 1, 'new': 1, 'macbook': 1...   \n",
       "\n",
       "                          Counting_Words_Description  \\\n",
       "0  {'next': 1, 'years': 1, 'iphones': 1, 'will': ...   \n",
       "1  {'iphone': 2, 'pro': 1, 'models': 1, 'will': 1...   \n",
       "2  {'apples': 1, 'awkward': 1, 'macbook': 1, 'pro...   \n",
       "3  {'examining': 1, 'apples': 1, 'triumph': 1, 'i...   \n",
       "4  {'apples': 1, 'awkward': 1, 'macbook': 1, 'pro...   \n",
       "\n",
       "                                    Most_common_text  \\\n",
       "0  {'iphone': 2, 'and': 1, 'pro': 1, 'to': 1, 'up...   \n",
       "1  {'apple': 1, 'leak': 1, 'confirms': 1, 'surpri...   \n",
       "2  {'forget': 1, 'the': 1, 'new': 1, 'macbook': 1...   \n",
       "3  {'apples': 1, 'competency': 1, 'at': 1, 'its':...   \n",
       "4  {'forget': 1, 'the': 1, 'new': 1, 'macbook': 1...   \n",
       "\n",
       "                             Most_common_description  \n",
       "0  {'next': 1, 'years': 1, 'iphones': 1, 'will': ...  \n",
       "1  {'iphone': 2, 'to': 2, 'pro': 1, 'models': 1, ...  \n",
       "2  {'apples': 1, 'awkward': 1, 'macbook': 1, 'pro...  \n",
       "3  {'in': 2, 'and': 2, 'examining': 1, 'apples': ...  \n",
       "4  {'apples': 1, 'awkward': 1, 'macbook': 1, 'pro...  "
      ]
     },
     "execution_count": 45,
     "metadata": {},
     "output_type": "execute_result"
    }
   ],
   "source": [
    "#On affiche les mots les plus fréquents dans chaque article\n",
    "\n",
    "df_analyse_1['Most_common_text']=df_analyse_1['Counting_Words_Text'].apply(most_common_words)\n",
    "df_analyse_1['Most_common_description']=df_analyse_1['Counting_Words_Description'].apply(most_common_words)\n",
    "df_analyse_1.head()"
   ]
  },
  {
   "cell_type": "code",
   "execution_count": 255,
   "metadata": {},
   "outputs": [],
   "source": [
    "#Fonction qui transforme une colonne de dictionnaires d'un dataframe en un seul dictionnaire\n",
    "\n",
    "combined_dict_text=combine_dictionaries(df_analyse_1,'Most_common_text')\n",
    "combined_dict_description= combine_dictionaries(df_analyse_1, 'Most_common_description')\n",
    "\n"
   ]
  },
  {
   "cell_type": "code",
   "execution_count": 47,
   "metadata": {},
   "outputs": [
    {
     "data": {
      "application/vnd.plotly.v1+json": {
       "config": {
        "plotlyServerURL": "https://plot.ly"
       },
       "data": [
        {
         "alignmentgroup": "True",
         "hovertemplate": "Mots=%{x}<br>Fréquences=%{y}<extra></extra>",
         "legendgroup": "",
         "marker": {
          "color": "#636efa",
          "pattern": {
           "shape": ""
          }
         },
         "name": "",
         "offsetgroup": "",
         "orientation": "v",
         "showlegend": false,
         "textposition": "auto",
         "type": "bar",
         "x": [
          "apple",
          "iphone",
          "to",
          "in",
          "pro",
          "upgrade",
          "the",
          "new",
          "surprise",
          "macbook"
         ],
         "xaxis": "x",
         "y": [
          18,
          10,
          7,
          7,
          5,
          5,
          5,
          5,
          4,
          4
         ],
         "yaxis": "y"
        }
       ],
       "layout": {
        "barmode": "relative",
        "legend": {
         "tracegroupgap": 0
        },
        "template": {
         "data": {
          "bar": [
           {
            "error_x": {
             "color": "#2a3f5f"
            },
            "error_y": {
             "color": "#2a3f5f"
            },
            "marker": {
             "line": {
              "color": "#E5ECF6",
              "width": 0.5
             },
             "pattern": {
              "fillmode": "overlay",
              "size": 10,
              "solidity": 0.2
             }
            },
            "type": "bar"
           }
          ],
          "barpolar": [
           {
            "marker": {
             "line": {
              "color": "#E5ECF6",
              "width": 0.5
             },
             "pattern": {
              "fillmode": "overlay",
              "size": 10,
              "solidity": 0.2
             }
            },
            "type": "barpolar"
           }
          ],
          "carpet": [
           {
            "aaxis": {
             "endlinecolor": "#2a3f5f",
             "gridcolor": "white",
             "linecolor": "white",
             "minorgridcolor": "white",
             "startlinecolor": "#2a3f5f"
            },
            "baxis": {
             "endlinecolor": "#2a3f5f",
             "gridcolor": "white",
             "linecolor": "white",
             "minorgridcolor": "white",
             "startlinecolor": "#2a3f5f"
            },
            "type": "carpet"
           }
          ],
          "choropleth": [
           {
            "colorbar": {
             "outlinewidth": 0,
             "ticks": ""
            },
            "type": "choropleth"
           }
          ],
          "contour": [
           {
            "colorbar": {
             "outlinewidth": 0,
             "ticks": ""
            },
            "colorscale": [
             [
              0,
              "#0d0887"
             ],
             [
              0.1111111111111111,
              "#46039f"
             ],
             [
              0.2222222222222222,
              "#7201a8"
             ],
             [
              0.3333333333333333,
              "#9c179e"
             ],
             [
              0.4444444444444444,
              "#bd3786"
             ],
             [
              0.5555555555555556,
              "#d8576b"
             ],
             [
              0.6666666666666666,
              "#ed7953"
             ],
             [
              0.7777777777777778,
              "#fb9f3a"
             ],
             [
              0.8888888888888888,
              "#fdca26"
             ],
             [
              1,
              "#f0f921"
             ]
            ],
            "type": "contour"
           }
          ],
          "contourcarpet": [
           {
            "colorbar": {
             "outlinewidth": 0,
             "ticks": ""
            },
            "type": "contourcarpet"
           }
          ],
          "heatmap": [
           {
            "colorbar": {
             "outlinewidth": 0,
             "ticks": ""
            },
            "colorscale": [
             [
              0,
              "#0d0887"
             ],
             [
              0.1111111111111111,
              "#46039f"
             ],
             [
              0.2222222222222222,
              "#7201a8"
             ],
             [
              0.3333333333333333,
              "#9c179e"
             ],
             [
              0.4444444444444444,
              "#bd3786"
             ],
             [
              0.5555555555555556,
              "#d8576b"
             ],
             [
              0.6666666666666666,
              "#ed7953"
             ],
             [
              0.7777777777777778,
              "#fb9f3a"
             ],
             [
              0.8888888888888888,
              "#fdca26"
             ],
             [
              1,
              "#f0f921"
             ]
            ],
            "type": "heatmap"
           }
          ],
          "heatmapgl": [
           {
            "colorbar": {
             "outlinewidth": 0,
             "ticks": ""
            },
            "colorscale": [
             [
              0,
              "#0d0887"
             ],
             [
              0.1111111111111111,
              "#46039f"
             ],
             [
              0.2222222222222222,
              "#7201a8"
             ],
             [
              0.3333333333333333,
              "#9c179e"
             ],
             [
              0.4444444444444444,
              "#bd3786"
             ],
             [
              0.5555555555555556,
              "#d8576b"
             ],
             [
              0.6666666666666666,
              "#ed7953"
             ],
             [
              0.7777777777777778,
              "#fb9f3a"
             ],
             [
              0.8888888888888888,
              "#fdca26"
             ],
             [
              1,
              "#f0f921"
             ]
            ],
            "type": "heatmapgl"
           }
          ],
          "histogram": [
           {
            "marker": {
             "pattern": {
              "fillmode": "overlay",
              "size": 10,
              "solidity": 0.2
             }
            },
            "type": "histogram"
           }
          ],
          "histogram2d": [
           {
            "colorbar": {
             "outlinewidth": 0,
             "ticks": ""
            },
            "colorscale": [
             [
              0,
              "#0d0887"
             ],
             [
              0.1111111111111111,
              "#46039f"
             ],
             [
              0.2222222222222222,
              "#7201a8"
             ],
             [
              0.3333333333333333,
              "#9c179e"
             ],
             [
              0.4444444444444444,
              "#bd3786"
             ],
             [
              0.5555555555555556,
              "#d8576b"
             ],
             [
              0.6666666666666666,
              "#ed7953"
             ],
             [
              0.7777777777777778,
              "#fb9f3a"
             ],
             [
              0.8888888888888888,
              "#fdca26"
             ],
             [
              1,
              "#f0f921"
             ]
            ],
            "type": "histogram2d"
           }
          ],
          "histogram2dcontour": [
           {
            "colorbar": {
             "outlinewidth": 0,
             "ticks": ""
            },
            "colorscale": [
             [
              0,
              "#0d0887"
             ],
             [
              0.1111111111111111,
              "#46039f"
             ],
             [
              0.2222222222222222,
              "#7201a8"
             ],
             [
              0.3333333333333333,
              "#9c179e"
             ],
             [
              0.4444444444444444,
              "#bd3786"
             ],
             [
              0.5555555555555556,
              "#d8576b"
             ],
             [
              0.6666666666666666,
              "#ed7953"
             ],
             [
              0.7777777777777778,
              "#fb9f3a"
             ],
             [
              0.8888888888888888,
              "#fdca26"
             ],
             [
              1,
              "#f0f921"
             ]
            ],
            "type": "histogram2dcontour"
           }
          ],
          "mesh3d": [
           {
            "colorbar": {
             "outlinewidth": 0,
             "ticks": ""
            },
            "type": "mesh3d"
           }
          ],
          "parcoords": [
           {
            "line": {
             "colorbar": {
              "outlinewidth": 0,
              "ticks": ""
             }
            },
            "type": "parcoords"
           }
          ],
          "pie": [
           {
            "automargin": true,
            "type": "pie"
           }
          ],
          "scatter": [
           {
            "fillpattern": {
             "fillmode": "overlay",
             "size": 10,
             "solidity": 0.2
            },
            "type": "scatter"
           }
          ],
          "scatter3d": [
           {
            "line": {
             "colorbar": {
              "outlinewidth": 0,
              "ticks": ""
             }
            },
            "marker": {
             "colorbar": {
              "outlinewidth": 0,
              "ticks": ""
             }
            },
            "type": "scatter3d"
           }
          ],
          "scattercarpet": [
           {
            "marker": {
             "colorbar": {
              "outlinewidth": 0,
              "ticks": ""
             }
            },
            "type": "scattercarpet"
           }
          ],
          "scattergeo": [
           {
            "marker": {
             "colorbar": {
              "outlinewidth": 0,
              "ticks": ""
             }
            },
            "type": "scattergeo"
           }
          ],
          "scattergl": [
           {
            "marker": {
             "colorbar": {
              "outlinewidth": 0,
              "ticks": ""
             }
            },
            "type": "scattergl"
           }
          ],
          "scattermapbox": [
           {
            "marker": {
             "colorbar": {
              "outlinewidth": 0,
              "ticks": ""
             }
            },
            "type": "scattermapbox"
           }
          ],
          "scatterpolar": [
           {
            "marker": {
             "colorbar": {
              "outlinewidth": 0,
              "ticks": ""
             }
            },
            "type": "scatterpolar"
           }
          ],
          "scatterpolargl": [
           {
            "marker": {
             "colorbar": {
              "outlinewidth": 0,
              "ticks": ""
             }
            },
            "type": "scatterpolargl"
           }
          ],
          "scatterternary": [
           {
            "marker": {
             "colorbar": {
              "outlinewidth": 0,
              "ticks": ""
             }
            },
            "type": "scatterternary"
           }
          ],
          "surface": [
           {
            "colorbar": {
             "outlinewidth": 0,
             "ticks": ""
            },
            "colorscale": [
             [
              0,
              "#0d0887"
             ],
             [
              0.1111111111111111,
              "#46039f"
             ],
             [
              0.2222222222222222,
              "#7201a8"
             ],
             [
              0.3333333333333333,
              "#9c179e"
             ],
             [
              0.4444444444444444,
              "#bd3786"
             ],
             [
              0.5555555555555556,
              "#d8576b"
             ],
             [
              0.6666666666666666,
              "#ed7953"
             ],
             [
              0.7777777777777778,
              "#fb9f3a"
             ],
             [
              0.8888888888888888,
              "#fdca26"
             ],
             [
              1,
              "#f0f921"
             ]
            ],
            "type": "surface"
           }
          ],
          "table": [
           {
            "cells": {
             "fill": {
              "color": "#EBF0F8"
             },
             "line": {
              "color": "white"
             }
            },
            "header": {
             "fill": {
              "color": "#C8D4E3"
             },
             "line": {
              "color": "white"
             }
            },
            "type": "table"
           }
          ]
         },
         "layout": {
          "annotationdefaults": {
           "arrowcolor": "#2a3f5f",
           "arrowhead": 0,
           "arrowwidth": 1
          },
          "autotypenumbers": "strict",
          "coloraxis": {
           "colorbar": {
            "outlinewidth": 0,
            "ticks": ""
           }
          },
          "colorscale": {
           "diverging": [
            [
             0,
             "#8e0152"
            ],
            [
             0.1,
             "#c51b7d"
            ],
            [
             0.2,
             "#de77ae"
            ],
            [
             0.3,
             "#f1b6da"
            ],
            [
             0.4,
             "#fde0ef"
            ],
            [
             0.5,
             "#f7f7f7"
            ],
            [
             0.6,
             "#e6f5d0"
            ],
            [
             0.7,
             "#b8e186"
            ],
            [
             0.8,
             "#7fbc41"
            ],
            [
             0.9,
             "#4d9221"
            ],
            [
             1,
             "#276419"
            ]
           ],
           "sequential": [
            [
             0,
             "#0d0887"
            ],
            [
             0.1111111111111111,
             "#46039f"
            ],
            [
             0.2222222222222222,
             "#7201a8"
            ],
            [
             0.3333333333333333,
             "#9c179e"
            ],
            [
             0.4444444444444444,
             "#bd3786"
            ],
            [
             0.5555555555555556,
             "#d8576b"
            ],
            [
             0.6666666666666666,
             "#ed7953"
            ],
            [
             0.7777777777777778,
             "#fb9f3a"
            ],
            [
             0.8888888888888888,
             "#fdca26"
            ],
            [
             1,
             "#f0f921"
            ]
           ],
           "sequentialminus": [
            [
             0,
             "#0d0887"
            ],
            [
             0.1111111111111111,
             "#46039f"
            ],
            [
             0.2222222222222222,
             "#7201a8"
            ],
            [
             0.3333333333333333,
             "#9c179e"
            ],
            [
             0.4444444444444444,
             "#bd3786"
            ],
            [
             0.5555555555555556,
             "#d8576b"
            ],
            [
             0.6666666666666666,
             "#ed7953"
            ],
            [
             0.7777777777777778,
             "#fb9f3a"
            ],
            [
             0.8888888888888888,
             "#fdca26"
            ],
            [
             1,
             "#f0f921"
            ]
           ]
          },
          "colorway": [
           "#636efa",
           "#EF553B",
           "#00cc96",
           "#ab63fa",
           "#FFA15A",
           "#19d3f3",
           "#FF6692",
           "#B6E880",
           "#FF97FF",
           "#FECB52"
          ],
          "font": {
           "color": "#2a3f5f"
          },
          "geo": {
           "bgcolor": "white",
           "lakecolor": "white",
           "landcolor": "#E5ECF6",
           "showlakes": true,
           "showland": true,
           "subunitcolor": "white"
          },
          "hoverlabel": {
           "align": "left"
          },
          "hovermode": "closest",
          "mapbox": {
           "style": "light"
          },
          "paper_bgcolor": "white",
          "plot_bgcolor": "#E5ECF6",
          "polar": {
           "angularaxis": {
            "gridcolor": "white",
            "linecolor": "white",
            "ticks": ""
           },
           "bgcolor": "#E5ECF6",
           "radialaxis": {
            "gridcolor": "white",
            "linecolor": "white",
            "ticks": ""
           }
          },
          "scene": {
           "xaxis": {
            "backgroundcolor": "#E5ECF6",
            "gridcolor": "white",
            "gridwidth": 2,
            "linecolor": "white",
            "showbackground": true,
            "ticks": "",
            "zerolinecolor": "white"
           },
           "yaxis": {
            "backgroundcolor": "#E5ECF6",
            "gridcolor": "white",
            "gridwidth": 2,
            "linecolor": "white",
            "showbackground": true,
            "ticks": "",
            "zerolinecolor": "white"
           },
           "zaxis": {
            "backgroundcolor": "#E5ECF6",
            "gridcolor": "white",
            "gridwidth": 2,
            "linecolor": "white",
            "showbackground": true,
            "ticks": "",
            "zerolinecolor": "white"
           }
          },
          "shapedefaults": {
           "line": {
            "color": "#2a3f5f"
           }
          },
          "ternary": {
           "aaxis": {
            "gridcolor": "white",
            "linecolor": "white",
            "ticks": ""
           },
           "baxis": {
            "gridcolor": "white",
            "linecolor": "white",
            "ticks": ""
           },
           "bgcolor": "#E5ECF6",
           "caxis": {
            "gridcolor": "white",
            "linecolor": "white",
            "ticks": ""
           }
          },
          "title": {
           "x": 0.05
          },
          "xaxis": {
           "automargin": true,
           "gridcolor": "white",
           "linecolor": "white",
           "ticks": "",
           "title": {
            "standoff": 15
           },
           "zerolinecolor": "white",
           "zerolinewidth": 2
          },
          "yaxis": {
           "automargin": true,
           "gridcolor": "white",
           "linecolor": "white",
           "ticks": "",
           "title": {
            "standoff": 15
           },
           "zerolinecolor": "white",
           "zerolinewidth": 2
          }
         }
        },
        "title": {
         "text": "Top 10 des mots les plus fréquents dans les titres d'articles récupérés"
        },
        "xaxis": {
         "anchor": "y",
         "domain": [
          0,
          1
         ],
         "title": {
          "text": "Mots"
         }
        },
        "yaxis": {
         "anchor": "x",
         "domain": [
          0,
          1
         ],
         "title": {
          "text": "Fréquences"
         }
        }
       }
      }
     },
     "metadata": {},
     "output_type": "display_data"
    }
   ],
   "source": [
    "import plotly.express as px\n",
    "from collections import Counter\n",
    "\n",
    "sorted_text_dictionary=sorted(combined_dict_text.items(), key= lambda item:item[1], reverse=True)[:10]\n",
    "\n",
    "keys=[key for key, value in sorted_text_dictionary]\n",
    "values=[value for key, value in sorted_text_dictionary]\n",
    "\n",
    "\n",
    "fig = px.bar(x=keys, y=values, title=\"Top 10 des mots les plus fréquents dans les titres d'articles récupérés\", labels={'x':'Mots', 'y':'Fréquences'})\n",
    "fig.show()\n"
   ]
  },
  {
   "cell_type": "code",
   "execution_count": 48,
   "metadata": {},
   "outputs": [
    {
     "data": {
      "application/vnd.plotly.v1+json": {
       "config": {
        "plotlyServerURL": "https://plot.ly"
       },
       "data": [
        {
         "alignmentgroup": "True",
         "hovertemplate": "Mots=%{x}<br>Fréquences=%{y}<extra></extra>",
         "legendgroup": "",
         "marker": {
          "color": "#636efa",
          "pattern": {
           "shape": ""
          }
         },
         "name": "",
         "offsetgroup": "",
         "orientation": "v",
         "showlegend": false,
         "textposition": "auto",
         "type": "bar",
         "x": [
          "the",
          "to",
          "iphone",
          "a",
          "apple",
          "and",
          "in",
          "for",
          "apples",
          "of"
         ],
         "xaxis": "x",
         "y": [
          19,
          13,
          12,
          11,
          11,
          9,
          9,
          8,
          7,
          7
         ],
         "yaxis": "y"
        }
       ],
       "layout": {
        "barmode": "relative",
        "legend": {
         "tracegroupgap": 0
        },
        "template": {
         "data": {
          "bar": [
           {
            "error_x": {
             "color": "#2a3f5f"
            },
            "error_y": {
             "color": "#2a3f5f"
            },
            "marker": {
             "line": {
              "color": "#E5ECF6",
              "width": 0.5
             },
             "pattern": {
              "fillmode": "overlay",
              "size": 10,
              "solidity": 0.2
             }
            },
            "type": "bar"
           }
          ],
          "barpolar": [
           {
            "marker": {
             "line": {
              "color": "#E5ECF6",
              "width": 0.5
             },
             "pattern": {
              "fillmode": "overlay",
              "size": 10,
              "solidity": 0.2
             }
            },
            "type": "barpolar"
           }
          ],
          "carpet": [
           {
            "aaxis": {
             "endlinecolor": "#2a3f5f",
             "gridcolor": "white",
             "linecolor": "white",
             "minorgridcolor": "white",
             "startlinecolor": "#2a3f5f"
            },
            "baxis": {
             "endlinecolor": "#2a3f5f",
             "gridcolor": "white",
             "linecolor": "white",
             "minorgridcolor": "white",
             "startlinecolor": "#2a3f5f"
            },
            "type": "carpet"
           }
          ],
          "choropleth": [
           {
            "colorbar": {
             "outlinewidth": 0,
             "ticks": ""
            },
            "type": "choropleth"
           }
          ],
          "contour": [
           {
            "colorbar": {
             "outlinewidth": 0,
             "ticks": ""
            },
            "colorscale": [
             [
              0,
              "#0d0887"
             ],
             [
              0.1111111111111111,
              "#46039f"
             ],
             [
              0.2222222222222222,
              "#7201a8"
             ],
             [
              0.3333333333333333,
              "#9c179e"
             ],
             [
              0.4444444444444444,
              "#bd3786"
             ],
             [
              0.5555555555555556,
              "#d8576b"
             ],
             [
              0.6666666666666666,
              "#ed7953"
             ],
             [
              0.7777777777777778,
              "#fb9f3a"
             ],
             [
              0.8888888888888888,
              "#fdca26"
             ],
             [
              1,
              "#f0f921"
             ]
            ],
            "type": "contour"
           }
          ],
          "contourcarpet": [
           {
            "colorbar": {
             "outlinewidth": 0,
             "ticks": ""
            },
            "type": "contourcarpet"
           }
          ],
          "heatmap": [
           {
            "colorbar": {
             "outlinewidth": 0,
             "ticks": ""
            },
            "colorscale": [
             [
              0,
              "#0d0887"
             ],
             [
              0.1111111111111111,
              "#46039f"
             ],
             [
              0.2222222222222222,
              "#7201a8"
             ],
             [
              0.3333333333333333,
              "#9c179e"
             ],
             [
              0.4444444444444444,
              "#bd3786"
             ],
             [
              0.5555555555555556,
              "#d8576b"
             ],
             [
              0.6666666666666666,
              "#ed7953"
             ],
             [
              0.7777777777777778,
              "#fb9f3a"
             ],
             [
              0.8888888888888888,
              "#fdca26"
             ],
             [
              1,
              "#f0f921"
             ]
            ],
            "type": "heatmap"
           }
          ],
          "heatmapgl": [
           {
            "colorbar": {
             "outlinewidth": 0,
             "ticks": ""
            },
            "colorscale": [
             [
              0,
              "#0d0887"
             ],
             [
              0.1111111111111111,
              "#46039f"
             ],
             [
              0.2222222222222222,
              "#7201a8"
             ],
             [
              0.3333333333333333,
              "#9c179e"
             ],
             [
              0.4444444444444444,
              "#bd3786"
             ],
             [
              0.5555555555555556,
              "#d8576b"
             ],
             [
              0.6666666666666666,
              "#ed7953"
             ],
             [
              0.7777777777777778,
              "#fb9f3a"
             ],
             [
              0.8888888888888888,
              "#fdca26"
             ],
             [
              1,
              "#f0f921"
             ]
            ],
            "type": "heatmapgl"
           }
          ],
          "histogram": [
           {
            "marker": {
             "pattern": {
              "fillmode": "overlay",
              "size": 10,
              "solidity": 0.2
             }
            },
            "type": "histogram"
           }
          ],
          "histogram2d": [
           {
            "colorbar": {
             "outlinewidth": 0,
             "ticks": ""
            },
            "colorscale": [
             [
              0,
              "#0d0887"
             ],
             [
              0.1111111111111111,
              "#46039f"
             ],
             [
              0.2222222222222222,
              "#7201a8"
             ],
             [
              0.3333333333333333,
              "#9c179e"
             ],
             [
              0.4444444444444444,
              "#bd3786"
             ],
             [
              0.5555555555555556,
              "#d8576b"
             ],
             [
              0.6666666666666666,
              "#ed7953"
             ],
             [
              0.7777777777777778,
              "#fb9f3a"
             ],
             [
              0.8888888888888888,
              "#fdca26"
             ],
             [
              1,
              "#f0f921"
             ]
            ],
            "type": "histogram2d"
           }
          ],
          "histogram2dcontour": [
           {
            "colorbar": {
             "outlinewidth": 0,
             "ticks": ""
            },
            "colorscale": [
             [
              0,
              "#0d0887"
             ],
             [
              0.1111111111111111,
              "#46039f"
             ],
             [
              0.2222222222222222,
              "#7201a8"
             ],
             [
              0.3333333333333333,
              "#9c179e"
             ],
             [
              0.4444444444444444,
              "#bd3786"
             ],
             [
              0.5555555555555556,
              "#d8576b"
             ],
             [
              0.6666666666666666,
              "#ed7953"
             ],
             [
              0.7777777777777778,
              "#fb9f3a"
             ],
             [
              0.8888888888888888,
              "#fdca26"
             ],
             [
              1,
              "#f0f921"
             ]
            ],
            "type": "histogram2dcontour"
           }
          ],
          "mesh3d": [
           {
            "colorbar": {
             "outlinewidth": 0,
             "ticks": ""
            },
            "type": "mesh3d"
           }
          ],
          "parcoords": [
           {
            "line": {
             "colorbar": {
              "outlinewidth": 0,
              "ticks": ""
             }
            },
            "type": "parcoords"
           }
          ],
          "pie": [
           {
            "automargin": true,
            "type": "pie"
           }
          ],
          "scatter": [
           {
            "fillpattern": {
             "fillmode": "overlay",
             "size": 10,
             "solidity": 0.2
            },
            "type": "scatter"
           }
          ],
          "scatter3d": [
           {
            "line": {
             "colorbar": {
              "outlinewidth": 0,
              "ticks": ""
             }
            },
            "marker": {
             "colorbar": {
              "outlinewidth": 0,
              "ticks": ""
             }
            },
            "type": "scatter3d"
           }
          ],
          "scattercarpet": [
           {
            "marker": {
             "colorbar": {
              "outlinewidth": 0,
              "ticks": ""
             }
            },
            "type": "scattercarpet"
           }
          ],
          "scattergeo": [
           {
            "marker": {
             "colorbar": {
              "outlinewidth": 0,
              "ticks": ""
             }
            },
            "type": "scattergeo"
           }
          ],
          "scattergl": [
           {
            "marker": {
             "colorbar": {
              "outlinewidth": 0,
              "ticks": ""
             }
            },
            "type": "scattergl"
           }
          ],
          "scattermapbox": [
           {
            "marker": {
             "colorbar": {
              "outlinewidth": 0,
              "ticks": ""
             }
            },
            "type": "scattermapbox"
           }
          ],
          "scatterpolar": [
           {
            "marker": {
             "colorbar": {
              "outlinewidth": 0,
              "ticks": ""
             }
            },
            "type": "scatterpolar"
           }
          ],
          "scatterpolargl": [
           {
            "marker": {
             "colorbar": {
              "outlinewidth": 0,
              "ticks": ""
             }
            },
            "type": "scatterpolargl"
           }
          ],
          "scatterternary": [
           {
            "marker": {
             "colorbar": {
              "outlinewidth": 0,
              "ticks": ""
             }
            },
            "type": "scatterternary"
           }
          ],
          "surface": [
           {
            "colorbar": {
             "outlinewidth": 0,
             "ticks": ""
            },
            "colorscale": [
             [
              0,
              "#0d0887"
             ],
             [
              0.1111111111111111,
              "#46039f"
             ],
             [
              0.2222222222222222,
              "#7201a8"
             ],
             [
              0.3333333333333333,
              "#9c179e"
             ],
             [
              0.4444444444444444,
              "#bd3786"
             ],
             [
              0.5555555555555556,
              "#d8576b"
             ],
             [
              0.6666666666666666,
              "#ed7953"
             ],
             [
              0.7777777777777778,
              "#fb9f3a"
             ],
             [
              0.8888888888888888,
              "#fdca26"
             ],
             [
              1,
              "#f0f921"
             ]
            ],
            "type": "surface"
           }
          ],
          "table": [
           {
            "cells": {
             "fill": {
              "color": "#EBF0F8"
             },
             "line": {
              "color": "white"
             }
            },
            "header": {
             "fill": {
              "color": "#C8D4E3"
             },
             "line": {
              "color": "white"
             }
            },
            "type": "table"
           }
          ]
         },
         "layout": {
          "annotationdefaults": {
           "arrowcolor": "#2a3f5f",
           "arrowhead": 0,
           "arrowwidth": 1
          },
          "autotypenumbers": "strict",
          "coloraxis": {
           "colorbar": {
            "outlinewidth": 0,
            "ticks": ""
           }
          },
          "colorscale": {
           "diverging": [
            [
             0,
             "#8e0152"
            ],
            [
             0.1,
             "#c51b7d"
            ],
            [
             0.2,
             "#de77ae"
            ],
            [
             0.3,
             "#f1b6da"
            ],
            [
             0.4,
             "#fde0ef"
            ],
            [
             0.5,
             "#f7f7f7"
            ],
            [
             0.6,
             "#e6f5d0"
            ],
            [
             0.7,
             "#b8e186"
            ],
            [
             0.8,
             "#7fbc41"
            ],
            [
             0.9,
             "#4d9221"
            ],
            [
             1,
             "#276419"
            ]
           ],
           "sequential": [
            [
             0,
             "#0d0887"
            ],
            [
             0.1111111111111111,
             "#46039f"
            ],
            [
             0.2222222222222222,
             "#7201a8"
            ],
            [
             0.3333333333333333,
             "#9c179e"
            ],
            [
             0.4444444444444444,
             "#bd3786"
            ],
            [
             0.5555555555555556,
             "#d8576b"
            ],
            [
             0.6666666666666666,
             "#ed7953"
            ],
            [
             0.7777777777777778,
             "#fb9f3a"
            ],
            [
             0.8888888888888888,
             "#fdca26"
            ],
            [
             1,
             "#f0f921"
            ]
           ],
           "sequentialminus": [
            [
             0,
             "#0d0887"
            ],
            [
             0.1111111111111111,
             "#46039f"
            ],
            [
             0.2222222222222222,
             "#7201a8"
            ],
            [
             0.3333333333333333,
             "#9c179e"
            ],
            [
             0.4444444444444444,
             "#bd3786"
            ],
            [
             0.5555555555555556,
             "#d8576b"
            ],
            [
             0.6666666666666666,
             "#ed7953"
            ],
            [
             0.7777777777777778,
             "#fb9f3a"
            ],
            [
             0.8888888888888888,
             "#fdca26"
            ],
            [
             1,
             "#f0f921"
            ]
           ]
          },
          "colorway": [
           "#636efa",
           "#EF553B",
           "#00cc96",
           "#ab63fa",
           "#FFA15A",
           "#19d3f3",
           "#FF6692",
           "#B6E880",
           "#FF97FF",
           "#FECB52"
          ],
          "font": {
           "color": "#2a3f5f"
          },
          "geo": {
           "bgcolor": "white",
           "lakecolor": "white",
           "landcolor": "#E5ECF6",
           "showlakes": true,
           "showland": true,
           "subunitcolor": "white"
          },
          "hoverlabel": {
           "align": "left"
          },
          "hovermode": "closest",
          "mapbox": {
           "style": "light"
          },
          "paper_bgcolor": "white",
          "plot_bgcolor": "#E5ECF6",
          "polar": {
           "angularaxis": {
            "gridcolor": "white",
            "linecolor": "white",
            "ticks": ""
           },
           "bgcolor": "#E5ECF6",
           "radialaxis": {
            "gridcolor": "white",
            "linecolor": "white",
            "ticks": ""
           }
          },
          "scene": {
           "xaxis": {
            "backgroundcolor": "#E5ECF6",
            "gridcolor": "white",
            "gridwidth": 2,
            "linecolor": "white",
            "showbackground": true,
            "ticks": "",
            "zerolinecolor": "white"
           },
           "yaxis": {
            "backgroundcolor": "#E5ECF6",
            "gridcolor": "white",
            "gridwidth": 2,
            "linecolor": "white",
            "showbackground": true,
            "ticks": "",
            "zerolinecolor": "white"
           },
           "zaxis": {
            "backgroundcolor": "#E5ECF6",
            "gridcolor": "white",
            "gridwidth": 2,
            "linecolor": "white",
            "showbackground": true,
            "ticks": "",
            "zerolinecolor": "white"
           }
          },
          "shapedefaults": {
           "line": {
            "color": "#2a3f5f"
           }
          },
          "ternary": {
           "aaxis": {
            "gridcolor": "white",
            "linecolor": "white",
            "ticks": ""
           },
           "baxis": {
            "gridcolor": "white",
            "linecolor": "white",
            "ticks": ""
           },
           "bgcolor": "#E5ECF6",
           "caxis": {
            "gridcolor": "white",
            "linecolor": "white",
            "ticks": ""
           }
          },
          "title": {
           "x": 0.05
          },
          "xaxis": {
           "automargin": true,
           "gridcolor": "white",
           "linecolor": "white",
           "ticks": "",
           "title": {
            "standoff": 15
           },
           "zerolinecolor": "white",
           "zerolinewidth": 2
          },
          "yaxis": {
           "automargin": true,
           "gridcolor": "white",
           "linecolor": "white",
           "ticks": "",
           "title": {
            "standoff": 15
           },
           "zerolinecolor": "white",
           "zerolinewidth": 2
          }
         }
        },
        "title": {
         "text": "Top 10 des mots les plus fréquents dans les descriptions d'articles récupérés"
        },
        "xaxis": {
         "anchor": "y",
         "domain": [
          0,
          1
         ],
         "title": {
          "text": "Mots"
         }
        },
        "yaxis": {
         "anchor": "x",
         "domain": [
          0,
          1
         ],
         "title": {
          "text": "Fréquences"
         }
        }
       }
      }
     },
     "metadata": {},
     "output_type": "display_data"
    }
   ],
   "source": [
    "import plotly.express as px\n",
    "from collections import Counter\n",
    "\n",
    "sorted_description_dictionary=sorted(combined_dict_description.items(), key= lambda item:item[1], reverse=True)[:10]\n",
    "\n",
    "keys=[key for key, value in sorted_description_dictionary]\n",
    "values=[value for key, value in sorted_description_dictionary]\n",
    "\n",
    "\n",
    "fig = px.bar(x=keys, y=values, title=\"Top 10 des mots les plus fréquents dans les descriptions d'articles récupérés\", labels={'x':'Mots', 'y':'Fréquences'})\n",
    "fig.show()"
   ]
  },
  {
   "cell_type": "markdown",
   "metadata": {},
   "source": [
    "On observe aisément l'omniprésence de mots récurrents (stopwords) dans le corpus étudié. Nous allons donc les enlever et ensuite procéder à la deuxième étape de préparation du texte qui consistera en une lemmatisation et une analyse plus poussée."
   ]
  },
  {
   "cell_type": "code",
   "execution_count": 24,
   "metadata": {},
   "outputs": [
    {
     "name": "stdout",
     "output_type": "stream",
     "text": [
      "Defaulting to user installation because normal site-packages is not writeable\n",
      "Requirement already satisfied: nltk in /Users/dabadieraphael/Library/Python/3.9/lib/python/site-packages (3.8.1)\n",
      "Requirement already satisfied: regex>=2021.8.3 in /Users/dabadieraphael/Library/Python/3.9/lib/python/site-packages (from nltk) (2023.10.3)\n",
      "Requirement already satisfied: joblib in /Users/dabadieraphael/Library/Python/3.9/lib/python/site-packages (from nltk) (1.3.2)\n",
      "Requirement already satisfied: tqdm in /Users/dabadieraphael/Library/Python/3.9/lib/python/site-packages (from nltk) (4.66.1)\n",
      "Requirement already satisfied: click in /Users/dabadieraphael/Library/Python/3.9/lib/python/site-packages (from nltk) (8.1.7)\n",
      "\u001b[33mWARNING: You are using pip version 21.2.4; however, version 23.3.1 is available.\n",
      "You should consider upgrading via the '/Library/Developer/CommandLineTools/usr/bin/python3 -m pip install --upgrade pip' command.\u001b[0m\n",
      "Note: you may need to restart the kernel to use updated packages.\n"
     ]
    }
   ],
   "source": [
    "pip install nltk"
   ]
  },
  {
   "cell_type": "code",
   "execution_count": 49,
   "metadata": {},
   "outputs": [
    {
     "name": "stderr",
     "output_type": "stream",
     "text": [
      "[nltk_data] Downloading package stopwords to\n",
      "[nltk_data]     /Users/dabadieraphael/nltk_data...\n",
      "[nltk_data]   Package stopwords is already up-to-date!\n",
      "[nltk_data] Downloading package punkt to\n",
      "[nltk_data]     /Users/dabadieraphael/nltk_data...\n",
      "[nltk_data]   Package punkt is already up-to-date!\n",
      "[nltk_data] Downloading package genesis to\n",
      "[nltk_data]     /Users/dabadieraphael/nltk_data...\n",
      "[nltk_data]   Package genesis is already up-to-date!\n",
      "[nltk_data] Downloading package wordnet to\n",
      "[nltk_data]     /Users/dabadieraphael/nltk_data...\n",
      "[nltk_data]   Package wordnet is already up-to-date!\n",
      "[nltk_data] Downloading package omw-1.4 to\n",
      "[nltk_data]     /Users/dabadieraphael/nltk_data...\n",
      "[nltk_data]   Package omw-1.4 is already up-to-date!\n"
     ]
    },
    {
     "data": {
      "text/plain": [
       "True"
      ]
     },
     "execution_count": 49,
     "metadata": {},
     "output_type": "execute_result"
    }
   ],
   "source": [
    "import nltk\n",
    "nltk.download('stopwords')\n",
    "nltk.download('punkt')\n",
    "nltk.download('genesis')\n",
    "nltk.download('wordnet')\n",
    "nltk.download('omw-1.4')"
   ]
  },
  {
   "cell_type": "code",
   "execution_count": 50,
   "metadata": {},
   "outputs": [],
   "source": [
    "import nltk\n",
    "from nltk.corpus import stopwords\n",
    "from nltk.stem import WordNetLemmatizer\n",
    "from nltk.tokenize import word_tokenize\n",
    "\n",
    "df_analyse_1['Titre_cleaned_stopwords']=df_analyse_1['Titre_cleaned'].apply(clean_stopwords)\n",
    "df_analyse_1['Description_cleaned_stopwords']=df_analyse_1['Description_cleaned'].apply(clean_stopwords)\n"
   ]
  },
  {
   "cell_type": "code",
   "execution_count": 51,
   "metadata": {},
   "outputs": [
    {
     "data": {
      "application/vnd.plotly.v1+json": {
       "config": {
        "plotlyServerURL": "https://plot.ly"
       },
       "data": [
        {
         "alignmentgroup": "True",
         "hovertemplate": "Mots=%{x}<br>Fréquences=%{y}<extra></extra>",
         "legendgroup": "",
         "marker": {
          "color": "#636efa",
          "pattern": {
           "shape": ""
          }
         },
         "name": "",
         "offsetgroup": "",
         "orientation": "v",
         "showlegend": false,
         "textposition": "auto",
         "type": "bar",
         "x": [
          "apple",
          "iphone",
          "pro",
          "upgrade",
          "new",
          "surprise",
          "macbook",
          "report",
          "india",
          "leak"
         ],
         "xaxis": "x",
         "y": [
          18,
          10,
          5,
          5,
          5,
          4,
          4,
          4,
          4,
          3
         ],
         "yaxis": "y"
        }
       ],
       "layout": {
        "barmode": "relative",
        "legend": {
         "tracegroupgap": 0
        },
        "template": {
         "data": {
          "bar": [
           {
            "error_x": {
             "color": "#2a3f5f"
            },
            "error_y": {
             "color": "#2a3f5f"
            },
            "marker": {
             "line": {
              "color": "#E5ECF6",
              "width": 0.5
             },
             "pattern": {
              "fillmode": "overlay",
              "size": 10,
              "solidity": 0.2
             }
            },
            "type": "bar"
           }
          ],
          "barpolar": [
           {
            "marker": {
             "line": {
              "color": "#E5ECF6",
              "width": 0.5
             },
             "pattern": {
              "fillmode": "overlay",
              "size": 10,
              "solidity": 0.2
             }
            },
            "type": "barpolar"
           }
          ],
          "carpet": [
           {
            "aaxis": {
             "endlinecolor": "#2a3f5f",
             "gridcolor": "white",
             "linecolor": "white",
             "minorgridcolor": "white",
             "startlinecolor": "#2a3f5f"
            },
            "baxis": {
             "endlinecolor": "#2a3f5f",
             "gridcolor": "white",
             "linecolor": "white",
             "minorgridcolor": "white",
             "startlinecolor": "#2a3f5f"
            },
            "type": "carpet"
           }
          ],
          "choropleth": [
           {
            "colorbar": {
             "outlinewidth": 0,
             "ticks": ""
            },
            "type": "choropleth"
           }
          ],
          "contour": [
           {
            "colorbar": {
             "outlinewidth": 0,
             "ticks": ""
            },
            "colorscale": [
             [
              0,
              "#0d0887"
             ],
             [
              0.1111111111111111,
              "#46039f"
             ],
             [
              0.2222222222222222,
              "#7201a8"
             ],
             [
              0.3333333333333333,
              "#9c179e"
             ],
             [
              0.4444444444444444,
              "#bd3786"
             ],
             [
              0.5555555555555556,
              "#d8576b"
             ],
             [
              0.6666666666666666,
              "#ed7953"
             ],
             [
              0.7777777777777778,
              "#fb9f3a"
             ],
             [
              0.8888888888888888,
              "#fdca26"
             ],
             [
              1,
              "#f0f921"
             ]
            ],
            "type": "contour"
           }
          ],
          "contourcarpet": [
           {
            "colorbar": {
             "outlinewidth": 0,
             "ticks": ""
            },
            "type": "contourcarpet"
           }
          ],
          "heatmap": [
           {
            "colorbar": {
             "outlinewidth": 0,
             "ticks": ""
            },
            "colorscale": [
             [
              0,
              "#0d0887"
             ],
             [
              0.1111111111111111,
              "#46039f"
             ],
             [
              0.2222222222222222,
              "#7201a8"
             ],
             [
              0.3333333333333333,
              "#9c179e"
             ],
             [
              0.4444444444444444,
              "#bd3786"
             ],
             [
              0.5555555555555556,
              "#d8576b"
             ],
             [
              0.6666666666666666,
              "#ed7953"
             ],
             [
              0.7777777777777778,
              "#fb9f3a"
             ],
             [
              0.8888888888888888,
              "#fdca26"
             ],
             [
              1,
              "#f0f921"
             ]
            ],
            "type": "heatmap"
           }
          ],
          "heatmapgl": [
           {
            "colorbar": {
             "outlinewidth": 0,
             "ticks": ""
            },
            "colorscale": [
             [
              0,
              "#0d0887"
             ],
             [
              0.1111111111111111,
              "#46039f"
             ],
             [
              0.2222222222222222,
              "#7201a8"
             ],
             [
              0.3333333333333333,
              "#9c179e"
             ],
             [
              0.4444444444444444,
              "#bd3786"
             ],
             [
              0.5555555555555556,
              "#d8576b"
             ],
             [
              0.6666666666666666,
              "#ed7953"
             ],
             [
              0.7777777777777778,
              "#fb9f3a"
             ],
             [
              0.8888888888888888,
              "#fdca26"
             ],
             [
              1,
              "#f0f921"
             ]
            ],
            "type": "heatmapgl"
           }
          ],
          "histogram": [
           {
            "marker": {
             "pattern": {
              "fillmode": "overlay",
              "size": 10,
              "solidity": 0.2
             }
            },
            "type": "histogram"
           }
          ],
          "histogram2d": [
           {
            "colorbar": {
             "outlinewidth": 0,
             "ticks": ""
            },
            "colorscale": [
             [
              0,
              "#0d0887"
             ],
             [
              0.1111111111111111,
              "#46039f"
             ],
             [
              0.2222222222222222,
              "#7201a8"
             ],
             [
              0.3333333333333333,
              "#9c179e"
             ],
             [
              0.4444444444444444,
              "#bd3786"
             ],
             [
              0.5555555555555556,
              "#d8576b"
             ],
             [
              0.6666666666666666,
              "#ed7953"
             ],
             [
              0.7777777777777778,
              "#fb9f3a"
             ],
             [
              0.8888888888888888,
              "#fdca26"
             ],
             [
              1,
              "#f0f921"
             ]
            ],
            "type": "histogram2d"
           }
          ],
          "histogram2dcontour": [
           {
            "colorbar": {
             "outlinewidth": 0,
             "ticks": ""
            },
            "colorscale": [
             [
              0,
              "#0d0887"
             ],
             [
              0.1111111111111111,
              "#46039f"
             ],
             [
              0.2222222222222222,
              "#7201a8"
             ],
             [
              0.3333333333333333,
              "#9c179e"
             ],
             [
              0.4444444444444444,
              "#bd3786"
             ],
             [
              0.5555555555555556,
              "#d8576b"
             ],
             [
              0.6666666666666666,
              "#ed7953"
             ],
             [
              0.7777777777777778,
              "#fb9f3a"
             ],
             [
              0.8888888888888888,
              "#fdca26"
             ],
             [
              1,
              "#f0f921"
             ]
            ],
            "type": "histogram2dcontour"
           }
          ],
          "mesh3d": [
           {
            "colorbar": {
             "outlinewidth": 0,
             "ticks": ""
            },
            "type": "mesh3d"
           }
          ],
          "parcoords": [
           {
            "line": {
             "colorbar": {
              "outlinewidth": 0,
              "ticks": ""
             }
            },
            "type": "parcoords"
           }
          ],
          "pie": [
           {
            "automargin": true,
            "type": "pie"
           }
          ],
          "scatter": [
           {
            "fillpattern": {
             "fillmode": "overlay",
             "size": 10,
             "solidity": 0.2
            },
            "type": "scatter"
           }
          ],
          "scatter3d": [
           {
            "line": {
             "colorbar": {
              "outlinewidth": 0,
              "ticks": ""
             }
            },
            "marker": {
             "colorbar": {
              "outlinewidth": 0,
              "ticks": ""
             }
            },
            "type": "scatter3d"
           }
          ],
          "scattercarpet": [
           {
            "marker": {
             "colorbar": {
              "outlinewidth": 0,
              "ticks": ""
             }
            },
            "type": "scattercarpet"
           }
          ],
          "scattergeo": [
           {
            "marker": {
             "colorbar": {
              "outlinewidth": 0,
              "ticks": ""
             }
            },
            "type": "scattergeo"
           }
          ],
          "scattergl": [
           {
            "marker": {
             "colorbar": {
              "outlinewidth": 0,
              "ticks": ""
             }
            },
            "type": "scattergl"
           }
          ],
          "scattermapbox": [
           {
            "marker": {
             "colorbar": {
              "outlinewidth": 0,
              "ticks": ""
             }
            },
            "type": "scattermapbox"
           }
          ],
          "scatterpolar": [
           {
            "marker": {
             "colorbar": {
              "outlinewidth": 0,
              "ticks": ""
             }
            },
            "type": "scatterpolar"
           }
          ],
          "scatterpolargl": [
           {
            "marker": {
             "colorbar": {
              "outlinewidth": 0,
              "ticks": ""
             }
            },
            "type": "scatterpolargl"
           }
          ],
          "scatterternary": [
           {
            "marker": {
             "colorbar": {
              "outlinewidth": 0,
              "ticks": ""
             }
            },
            "type": "scatterternary"
           }
          ],
          "surface": [
           {
            "colorbar": {
             "outlinewidth": 0,
             "ticks": ""
            },
            "colorscale": [
             [
              0,
              "#0d0887"
             ],
             [
              0.1111111111111111,
              "#46039f"
             ],
             [
              0.2222222222222222,
              "#7201a8"
             ],
             [
              0.3333333333333333,
              "#9c179e"
             ],
             [
              0.4444444444444444,
              "#bd3786"
             ],
             [
              0.5555555555555556,
              "#d8576b"
             ],
             [
              0.6666666666666666,
              "#ed7953"
             ],
             [
              0.7777777777777778,
              "#fb9f3a"
             ],
             [
              0.8888888888888888,
              "#fdca26"
             ],
             [
              1,
              "#f0f921"
             ]
            ],
            "type": "surface"
           }
          ],
          "table": [
           {
            "cells": {
             "fill": {
              "color": "#EBF0F8"
             },
             "line": {
              "color": "white"
             }
            },
            "header": {
             "fill": {
              "color": "#C8D4E3"
             },
             "line": {
              "color": "white"
             }
            },
            "type": "table"
           }
          ]
         },
         "layout": {
          "annotationdefaults": {
           "arrowcolor": "#2a3f5f",
           "arrowhead": 0,
           "arrowwidth": 1
          },
          "autotypenumbers": "strict",
          "coloraxis": {
           "colorbar": {
            "outlinewidth": 0,
            "ticks": ""
           }
          },
          "colorscale": {
           "diverging": [
            [
             0,
             "#8e0152"
            ],
            [
             0.1,
             "#c51b7d"
            ],
            [
             0.2,
             "#de77ae"
            ],
            [
             0.3,
             "#f1b6da"
            ],
            [
             0.4,
             "#fde0ef"
            ],
            [
             0.5,
             "#f7f7f7"
            ],
            [
             0.6,
             "#e6f5d0"
            ],
            [
             0.7,
             "#b8e186"
            ],
            [
             0.8,
             "#7fbc41"
            ],
            [
             0.9,
             "#4d9221"
            ],
            [
             1,
             "#276419"
            ]
           ],
           "sequential": [
            [
             0,
             "#0d0887"
            ],
            [
             0.1111111111111111,
             "#46039f"
            ],
            [
             0.2222222222222222,
             "#7201a8"
            ],
            [
             0.3333333333333333,
             "#9c179e"
            ],
            [
             0.4444444444444444,
             "#bd3786"
            ],
            [
             0.5555555555555556,
             "#d8576b"
            ],
            [
             0.6666666666666666,
             "#ed7953"
            ],
            [
             0.7777777777777778,
             "#fb9f3a"
            ],
            [
             0.8888888888888888,
             "#fdca26"
            ],
            [
             1,
             "#f0f921"
            ]
           ],
           "sequentialminus": [
            [
             0,
             "#0d0887"
            ],
            [
             0.1111111111111111,
             "#46039f"
            ],
            [
             0.2222222222222222,
             "#7201a8"
            ],
            [
             0.3333333333333333,
             "#9c179e"
            ],
            [
             0.4444444444444444,
             "#bd3786"
            ],
            [
             0.5555555555555556,
             "#d8576b"
            ],
            [
             0.6666666666666666,
             "#ed7953"
            ],
            [
             0.7777777777777778,
             "#fb9f3a"
            ],
            [
             0.8888888888888888,
             "#fdca26"
            ],
            [
             1,
             "#f0f921"
            ]
           ]
          },
          "colorway": [
           "#636efa",
           "#EF553B",
           "#00cc96",
           "#ab63fa",
           "#FFA15A",
           "#19d3f3",
           "#FF6692",
           "#B6E880",
           "#FF97FF",
           "#FECB52"
          ],
          "font": {
           "color": "#2a3f5f"
          },
          "geo": {
           "bgcolor": "white",
           "lakecolor": "white",
           "landcolor": "#E5ECF6",
           "showlakes": true,
           "showland": true,
           "subunitcolor": "white"
          },
          "hoverlabel": {
           "align": "left"
          },
          "hovermode": "closest",
          "mapbox": {
           "style": "light"
          },
          "paper_bgcolor": "white",
          "plot_bgcolor": "#E5ECF6",
          "polar": {
           "angularaxis": {
            "gridcolor": "white",
            "linecolor": "white",
            "ticks": ""
           },
           "bgcolor": "#E5ECF6",
           "radialaxis": {
            "gridcolor": "white",
            "linecolor": "white",
            "ticks": ""
           }
          },
          "scene": {
           "xaxis": {
            "backgroundcolor": "#E5ECF6",
            "gridcolor": "white",
            "gridwidth": 2,
            "linecolor": "white",
            "showbackground": true,
            "ticks": "",
            "zerolinecolor": "white"
           },
           "yaxis": {
            "backgroundcolor": "#E5ECF6",
            "gridcolor": "white",
            "gridwidth": 2,
            "linecolor": "white",
            "showbackground": true,
            "ticks": "",
            "zerolinecolor": "white"
           },
           "zaxis": {
            "backgroundcolor": "#E5ECF6",
            "gridcolor": "white",
            "gridwidth": 2,
            "linecolor": "white",
            "showbackground": true,
            "ticks": "",
            "zerolinecolor": "white"
           }
          },
          "shapedefaults": {
           "line": {
            "color": "#2a3f5f"
           }
          },
          "ternary": {
           "aaxis": {
            "gridcolor": "white",
            "linecolor": "white",
            "ticks": ""
           },
           "baxis": {
            "gridcolor": "white",
            "linecolor": "white",
            "ticks": ""
           },
           "bgcolor": "#E5ECF6",
           "caxis": {
            "gridcolor": "white",
            "linecolor": "white",
            "ticks": ""
           }
          },
          "title": {
           "x": 0.05
          },
          "xaxis": {
           "automargin": true,
           "gridcolor": "white",
           "linecolor": "white",
           "ticks": "",
           "title": {
            "standoff": 15
           },
           "zerolinecolor": "white",
           "zerolinewidth": 2
          },
          "yaxis": {
           "automargin": true,
           "gridcolor": "white",
           "linecolor": "white",
           "ticks": "",
           "title": {
            "standoff": 15
           },
           "zerolinecolor": "white",
           "zerolinewidth": 2
          }
         }
        },
        "title": {
         "text": "Top 10 des mots les plus fréquents dans les descriptions d'articles récupérés (hors stopwords)"
        },
        "xaxis": {
         "anchor": "y",
         "domain": [
          0,
          1
         ],
         "title": {
          "text": "Mots"
         }
        },
        "yaxis": {
         "anchor": "x",
         "domain": [
          0,
          1
         ],
         "title": {
          "text": "Fréquences"
         }
        }
       }
      }
     },
     "metadata": {},
     "output_type": "display_data"
    }
   ],
   "source": [
    "#Mots les plus fréquents après suppression des stopwords\n",
    "df_analyse_1['Counting_Words_Text_nostopwords']=df_analyse_1['Titre_cleaned_stopwords'].apply(count_common_words)\n",
    "df_analyse_1['Counting_Words_Descr_nostopwords']=df_analyse_1['Description_cleaned_stopwords'].apply(count_common_words)\n",
    "\n",
    "combined_dict_text_bis=combine_dictionaries(df_analyse_1,'Counting_Words_Text_nostopwords')\n",
    "sorted_description_dictionary=sorted(combined_dict_text_bis.items(), key= lambda item:item[1], reverse=True)[:10]\n",
    "\n",
    "keys=[key for key, value in sorted_description_dictionary]\n",
    "values=[value for key, value in sorted_description_dictionary]\n",
    "\n",
    "\n",
    "fig = px.bar(x=keys, y=values, title=\"Top 10 des mots les plus fréquents dans les descriptions d'articles récupérés (hors stopwords)\", labels={'x':'Mots', 'y':'Fréquences'})\n",
    "fig.show()"
   ]
  },
  {
   "cell_type": "code",
   "execution_count": 52,
   "metadata": {},
   "outputs": [
    {
     "data": {
      "application/vnd.plotly.v1+json": {
       "config": {
        "plotlyServerURL": "https://plot.ly"
       },
       "data": [
        {
         "alignmentgroup": "True",
         "hovertemplate": "Mots=%{x}<br>Fréquences=%{y}<extra></extra>",
         "legendgroup": "",
         "marker": {
          "color": "#636efa",
          "pattern": {
           "shape": ""
          }
         },
         "name": "",
         "offsetgroup": "",
         "orientation": "v",
         "showlegend": false,
         "textposition": "auto",
         "type": "bar",
         "x": [
          "apple",
          "iphone",
          "pro",
          "upgrade",
          "new",
          "surprise",
          "macbook",
          "report",
          "india",
          "leak"
         ],
         "xaxis": "x",
         "y": [
          18,
          10,
          5,
          5,
          5,
          4,
          4,
          4,
          4,
          3
         ],
         "yaxis": "y"
        }
       ],
       "layout": {
        "barmode": "relative",
        "legend": {
         "tracegroupgap": 0
        },
        "template": {
         "data": {
          "bar": [
           {
            "error_x": {
             "color": "#2a3f5f"
            },
            "error_y": {
             "color": "#2a3f5f"
            },
            "marker": {
             "line": {
              "color": "#E5ECF6",
              "width": 0.5
             },
             "pattern": {
              "fillmode": "overlay",
              "size": 10,
              "solidity": 0.2
             }
            },
            "type": "bar"
           }
          ],
          "barpolar": [
           {
            "marker": {
             "line": {
              "color": "#E5ECF6",
              "width": 0.5
             },
             "pattern": {
              "fillmode": "overlay",
              "size": 10,
              "solidity": 0.2
             }
            },
            "type": "barpolar"
           }
          ],
          "carpet": [
           {
            "aaxis": {
             "endlinecolor": "#2a3f5f",
             "gridcolor": "white",
             "linecolor": "white",
             "minorgridcolor": "white",
             "startlinecolor": "#2a3f5f"
            },
            "baxis": {
             "endlinecolor": "#2a3f5f",
             "gridcolor": "white",
             "linecolor": "white",
             "minorgridcolor": "white",
             "startlinecolor": "#2a3f5f"
            },
            "type": "carpet"
           }
          ],
          "choropleth": [
           {
            "colorbar": {
             "outlinewidth": 0,
             "ticks": ""
            },
            "type": "choropleth"
           }
          ],
          "contour": [
           {
            "colorbar": {
             "outlinewidth": 0,
             "ticks": ""
            },
            "colorscale": [
             [
              0,
              "#0d0887"
             ],
             [
              0.1111111111111111,
              "#46039f"
             ],
             [
              0.2222222222222222,
              "#7201a8"
             ],
             [
              0.3333333333333333,
              "#9c179e"
             ],
             [
              0.4444444444444444,
              "#bd3786"
             ],
             [
              0.5555555555555556,
              "#d8576b"
             ],
             [
              0.6666666666666666,
              "#ed7953"
             ],
             [
              0.7777777777777778,
              "#fb9f3a"
             ],
             [
              0.8888888888888888,
              "#fdca26"
             ],
             [
              1,
              "#f0f921"
             ]
            ],
            "type": "contour"
           }
          ],
          "contourcarpet": [
           {
            "colorbar": {
             "outlinewidth": 0,
             "ticks": ""
            },
            "type": "contourcarpet"
           }
          ],
          "heatmap": [
           {
            "colorbar": {
             "outlinewidth": 0,
             "ticks": ""
            },
            "colorscale": [
             [
              0,
              "#0d0887"
             ],
             [
              0.1111111111111111,
              "#46039f"
             ],
             [
              0.2222222222222222,
              "#7201a8"
             ],
             [
              0.3333333333333333,
              "#9c179e"
             ],
             [
              0.4444444444444444,
              "#bd3786"
             ],
             [
              0.5555555555555556,
              "#d8576b"
             ],
             [
              0.6666666666666666,
              "#ed7953"
             ],
             [
              0.7777777777777778,
              "#fb9f3a"
             ],
             [
              0.8888888888888888,
              "#fdca26"
             ],
             [
              1,
              "#f0f921"
             ]
            ],
            "type": "heatmap"
           }
          ],
          "heatmapgl": [
           {
            "colorbar": {
             "outlinewidth": 0,
             "ticks": ""
            },
            "colorscale": [
             [
              0,
              "#0d0887"
             ],
             [
              0.1111111111111111,
              "#46039f"
             ],
             [
              0.2222222222222222,
              "#7201a8"
             ],
             [
              0.3333333333333333,
              "#9c179e"
             ],
             [
              0.4444444444444444,
              "#bd3786"
             ],
             [
              0.5555555555555556,
              "#d8576b"
             ],
             [
              0.6666666666666666,
              "#ed7953"
             ],
             [
              0.7777777777777778,
              "#fb9f3a"
             ],
             [
              0.8888888888888888,
              "#fdca26"
             ],
             [
              1,
              "#f0f921"
             ]
            ],
            "type": "heatmapgl"
           }
          ],
          "histogram": [
           {
            "marker": {
             "pattern": {
              "fillmode": "overlay",
              "size": 10,
              "solidity": 0.2
             }
            },
            "type": "histogram"
           }
          ],
          "histogram2d": [
           {
            "colorbar": {
             "outlinewidth": 0,
             "ticks": ""
            },
            "colorscale": [
             [
              0,
              "#0d0887"
             ],
             [
              0.1111111111111111,
              "#46039f"
             ],
             [
              0.2222222222222222,
              "#7201a8"
             ],
             [
              0.3333333333333333,
              "#9c179e"
             ],
             [
              0.4444444444444444,
              "#bd3786"
             ],
             [
              0.5555555555555556,
              "#d8576b"
             ],
             [
              0.6666666666666666,
              "#ed7953"
             ],
             [
              0.7777777777777778,
              "#fb9f3a"
             ],
             [
              0.8888888888888888,
              "#fdca26"
             ],
             [
              1,
              "#f0f921"
             ]
            ],
            "type": "histogram2d"
           }
          ],
          "histogram2dcontour": [
           {
            "colorbar": {
             "outlinewidth": 0,
             "ticks": ""
            },
            "colorscale": [
             [
              0,
              "#0d0887"
             ],
             [
              0.1111111111111111,
              "#46039f"
             ],
             [
              0.2222222222222222,
              "#7201a8"
             ],
             [
              0.3333333333333333,
              "#9c179e"
             ],
             [
              0.4444444444444444,
              "#bd3786"
             ],
             [
              0.5555555555555556,
              "#d8576b"
             ],
             [
              0.6666666666666666,
              "#ed7953"
             ],
             [
              0.7777777777777778,
              "#fb9f3a"
             ],
             [
              0.8888888888888888,
              "#fdca26"
             ],
             [
              1,
              "#f0f921"
             ]
            ],
            "type": "histogram2dcontour"
           }
          ],
          "mesh3d": [
           {
            "colorbar": {
             "outlinewidth": 0,
             "ticks": ""
            },
            "type": "mesh3d"
           }
          ],
          "parcoords": [
           {
            "line": {
             "colorbar": {
              "outlinewidth": 0,
              "ticks": ""
             }
            },
            "type": "parcoords"
           }
          ],
          "pie": [
           {
            "automargin": true,
            "type": "pie"
           }
          ],
          "scatter": [
           {
            "fillpattern": {
             "fillmode": "overlay",
             "size": 10,
             "solidity": 0.2
            },
            "type": "scatter"
           }
          ],
          "scatter3d": [
           {
            "line": {
             "colorbar": {
              "outlinewidth": 0,
              "ticks": ""
             }
            },
            "marker": {
             "colorbar": {
              "outlinewidth": 0,
              "ticks": ""
             }
            },
            "type": "scatter3d"
           }
          ],
          "scattercarpet": [
           {
            "marker": {
             "colorbar": {
              "outlinewidth": 0,
              "ticks": ""
             }
            },
            "type": "scattercarpet"
           }
          ],
          "scattergeo": [
           {
            "marker": {
             "colorbar": {
              "outlinewidth": 0,
              "ticks": ""
             }
            },
            "type": "scattergeo"
           }
          ],
          "scattergl": [
           {
            "marker": {
             "colorbar": {
              "outlinewidth": 0,
              "ticks": ""
             }
            },
            "type": "scattergl"
           }
          ],
          "scattermapbox": [
           {
            "marker": {
             "colorbar": {
              "outlinewidth": 0,
              "ticks": ""
             }
            },
            "type": "scattermapbox"
           }
          ],
          "scatterpolar": [
           {
            "marker": {
             "colorbar": {
              "outlinewidth": 0,
              "ticks": ""
             }
            },
            "type": "scatterpolar"
           }
          ],
          "scatterpolargl": [
           {
            "marker": {
             "colorbar": {
              "outlinewidth": 0,
              "ticks": ""
             }
            },
            "type": "scatterpolargl"
           }
          ],
          "scatterternary": [
           {
            "marker": {
             "colorbar": {
              "outlinewidth": 0,
              "ticks": ""
             }
            },
            "type": "scatterternary"
           }
          ],
          "surface": [
           {
            "colorbar": {
             "outlinewidth": 0,
             "ticks": ""
            },
            "colorscale": [
             [
              0,
              "#0d0887"
             ],
             [
              0.1111111111111111,
              "#46039f"
             ],
             [
              0.2222222222222222,
              "#7201a8"
             ],
             [
              0.3333333333333333,
              "#9c179e"
             ],
             [
              0.4444444444444444,
              "#bd3786"
             ],
             [
              0.5555555555555556,
              "#d8576b"
             ],
             [
              0.6666666666666666,
              "#ed7953"
             ],
             [
              0.7777777777777778,
              "#fb9f3a"
             ],
             [
              0.8888888888888888,
              "#fdca26"
             ],
             [
              1,
              "#f0f921"
             ]
            ],
            "type": "surface"
           }
          ],
          "table": [
           {
            "cells": {
             "fill": {
              "color": "#EBF0F8"
             },
             "line": {
              "color": "white"
             }
            },
            "header": {
             "fill": {
              "color": "#C8D4E3"
             },
             "line": {
              "color": "white"
             }
            },
            "type": "table"
           }
          ]
         },
         "layout": {
          "annotationdefaults": {
           "arrowcolor": "#2a3f5f",
           "arrowhead": 0,
           "arrowwidth": 1
          },
          "autotypenumbers": "strict",
          "coloraxis": {
           "colorbar": {
            "outlinewidth": 0,
            "ticks": ""
           }
          },
          "colorscale": {
           "diverging": [
            [
             0,
             "#8e0152"
            ],
            [
             0.1,
             "#c51b7d"
            ],
            [
             0.2,
             "#de77ae"
            ],
            [
             0.3,
             "#f1b6da"
            ],
            [
             0.4,
             "#fde0ef"
            ],
            [
             0.5,
             "#f7f7f7"
            ],
            [
             0.6,
             "#e6f5d0"
            ],
            [
             0.7,
             "#b8e186"
            ],
            [
             0.8,
             "#7fbc41"
            ],
            [
             0.9,
             "#4d9221"
            ],
            [
             1,
             "#276419"
            ]
           ],
           "sequential": [
            [
             0,
             "#0d0887"
            ],
            [
             0.1111111111111111,
             "#46039f"
            ],
            [
             0.2222222222222222,
             "#7201a8"
            ],
            [
             0.3333333333333333,
             "#9c179e"
            ],
            [
             0.4444444444444444,
             "#bd3786"
            ],
            [
             0.5555555555555556,
             "#d8576b"
            ],
            [
             0.6666666666666666,
             "#ed7953"
            ],
            [
             0.7777777777777778,
             "#fb9f3a"
            ],
            [
             0.8888888888888888,
             "#fdca26"
            ],
            [
             1,
             "#f0f921"
            ]
           ],
           "sequentialminus": [
            [
             0,
             "#0d0887"
            ],
            [
             0.1111111111111111,
             "#46039f"
            ],
            [
             0.2222222222222222,
             "#7201a8"
            ],
            [
             0.3333333333333333,
             "#9c179e"
            ],
            [
             0.4444444444444444,
             "#bd3786"
            ],
            [
             0.5555555555555556,
             "#d8576b"
            ],
            [
             0.6666666666666666,
             "#ed7953"
            ],
            [
             0.7777777777777778,
             "#fb9f3a"
            ],
            [
             0.8888888888888888,
             "#fdca26"
            ],
            [
             1,
             "#f0f921"
            ]
           ]
          },
          "colorway": [
           "#636efa",
           "#EF553B",
           "#00cc96",
           "#ab63fa",
           "#FFA15A",
           "#19d3f3",
           "#FF6692",
           "#B6E880",
           "#FF97FF",
           "#FECB52"
          ],
          "font": {
           "color": "#2a3f5f"
          },
          "geo": {
           "bgcolor": "white",
           "lakecolor": "white",
           "landcolor": "#E5ECF6",
           "showlakes": true,
           "showland": true,
           "subunitcolor": "white"
          },
          "hoverlabel": {
           "align": "left"
          },
          "hovermode": "closest",
          "mapbox": {
           "style": "light"
          },
          "paper_bgcolor": "white",
          "plot_bgcolor": "#E5ECF6",
          "polar": {
           "angularaxis": {
            "gridcolor": "white",
            "linecolor": "white",
            "ticks": ""
           },
           "bgcolor": "#E5ECF6",
           "radialaxis": {
            "gridcolor": "white",
            "linecolor": "white",
            "ticks": ""
           }
          },
          "scene": {
           "xaxis": {
            "backgroundcolor": "#E5ECF6",
            "gridcolor": "white",
            "gridwidth": 2,
            "linecolor": "white",
            "showbackground": true,
            "ticks": "",
            "zerolinecolor": "white"
           },
           "yaxis": {
            "backgroundcolor": "#E5ECF6",
            "gridcolor": "white",
            "gridwidth": 2,
            "linecolor": "white",
            "showbackground": true,
            "ticks": "",
            "zerolinecolor": "white"
           },
           "zaxis": {
            "backgroundcolor": "#E5ECF6",
            "gridcolor": "white",
            "gridwidth": 2,
            "linecolor": "white",
            "showbackground": true,
            "ticks": "",
            "zerolinecolor": "white"
           }
          },
          "shapedefaults": {
           "line": {
            "color": "#2a3f5f"
           }
          },
          "ternary": {
           "aaxis": {
            "gridcolor": "white",
            "linecolor": "white",
            "ticks": ""
           },
           "baxis": {
            "gridcolor": "white",
            "linecolor": "white",
            "ticks": ""
           },
           "bgcolor": "#E5ECF6",
           "caxis": {
            "gridcolor": "white",
            "linecolor": "white",
            "ticks": ""
           }
          },
          "title": {
           "x": 0.05
          },
          "xaxis": {
           "automargin": true,
           "gridcolor": "white",
           "linecolor": "white",
           "ticks": "",
           "title": {
            "standoff": 15
           },
           "zerolinecolor": "white",
           "zerolinewidth": 2
          },
          "yaxis": {
           "automargin": true,
           "gridcolor": "white",
           "linecolor": "white",
           "ticks": "",
           "title": {
            "standoff": 15
           },
           "zerolinecolor": "white",
           "zerolinewidth": 2
          }
         }
        },
        "title": {
         "text": "Top 10 des mots les plus fréquents dans les descriptions d'articles récupérés (hors stopwords)"
        },
        "xaxis": {
         "anchor": "y",
         "domain": [
          0,
          1
         ],
         "title": {
          "text": "Mots"
         }
        },
        "yaxis": {
         "anchor": "x",
         "domain": [
          0,
          1
         ],
         "title": {
          "text": "Fréquences"
         }
        }
       }
      }
     },
     "metadata": {},
     "output_type": "display_data"
    }
   ],
   "source": [
    "combined_dict_description_bis=combine_dictionaries(df_analyse_1,'Counting_Words_Text_nostopwords')\n",
    "sorted_description_dictionary=sorted(combined_dict_description_bis.items(), key= lambda item:item[1], reverse=True)[:10]\n",
    "\n",
    "keys=[key for key, value in sorted_description_dictionary]\n",
    "values=[value for key, value in sorted_description_dictionary]\n",
    "\n",
    "\n",
    "fig = px.bar(x=keys, y=values, title=\"Top 10 des mots les plus fréquents dans les descriptions d'articles récupérés (hors stopwords)\", labels={'x':'Mots', 'y':'Fréquences'})\n",
    "fig.show()"
   ]
  },
  {
   "cell_type": "markdown",
   "metadata": {},
   "source": [
    "# Préparation du texte en vue de l'analyse de sentiments (Nettoyage et analyse du contenu des articles)"
   ]
  },
  {
   "cell_type": "code",
   "execution_count": 53,
   "metadata": {},
   "outputs": [],
   "source": [
    "#Mise en place de règles propres à chaque source de données pour récupérer les parties intéressantes\n",
    "\n",
    "from bs4 import BeautifulSoup\n",
    "#Fonction adaptée aux articles Forbes et MarketWatch\n",
    "def clean_html_1(text_html): \n",
    "    soup=BeautifulSoup(text_html, 'html.parser')\n",
    "    title=soup.find_all('h1', class_=True)\n",
    "    content=soup.find_all('p')\n",
    "    united_content = ' '.join(el.get_text(strip=True) for el in title + content )\n",
    "    return united_content\n",
    "\n",
    "#Fonction adaptée aux articles de CNBC\n",
    "def clean_html_2(text_html): \n",
    "    soup=BeautifulSoup(text_html, 'html.parser')\n",
    "    title=soup.find_all('h1', class_=True)\n",
    "    key_points=soup.find_all('li')\n",
    "    content=soup.find_all('p')\n",
    "    united_content = ' '.join(el.get_text(strip=True) for el in title + content + key_points )\n",
    "    return united_content\n",
    "\n",
    "df_content=df.copy()\n",
    "df_content['Cleaned_html_content'] = df_content.apply(lambda row: clean_html_2(row['Contenu']) if row['Source'] == 'CNBC' else clean_html_1(row['Contenu']), axis=1)\n"
   ]
  },
  {
   "cell_type": "code",
   "execution_count": 82,
   "metadata": {},
   "outputs": [
    {
     "data": {
      "text/html": [
       "<div>\n",
       "<style scoped>\n",
       "    .dataframe tbody tr th:only-of-type {\n",
       "        vertical-align: middle;\n",
       "    }\n",
       "\n",
       "    .dataframe tbody tr th {\n",
       "        vertical-align: top;\n",
       "    }\n",
       "\n",
       "    .dataframe thead th {\n",
       "        text-align: right;\n",
       "    }\n",
       "</style>\n",
       "<table border=\"1\" class=\"dataframe\">\n",
       "  <thead>\n",
       "    <tr style=\"text-align: right;\">\n",
       "      <th></th>\n",
       "      <th>Titre</th>\n",
       "      <th>URL</th>\n",
       "      <th>Date de publication</th>\n",
       "      <th>Description</th>\n",
       "      <th>Source</th>\n",
       "      <th>Contenu</th>\n",
       "      <th>Title_length</th>\n",
       "      <th>Description_length</th>\n",
       "      <th>Content_length</th>\n",
       "      <th>Cleaned_html_content</th>\n",
       "      <th>Content_cleaned</th>\n",
       "      <th>Counting_Words</th>\n",
       "      <th>Most_common_text</th>\n",
       "      <th>Content_cleaned_from_stopwords</th>\n",
       "      <th>Counting_Words_bis</th>\n",
       "      <th>Most_common_text_bis</th>\n",
       "    </tr>\n",
       "  </thead>\n",
       "  <tbody>\n",
       "    <tr>\n",
       "      <th>0</th>\n",
       "      <td>iPhone 16 And iPhone 16 Pro To Upgrade Importa...</td>\n",
       "      <td>https://www.forbes.com/sites/davidphelan/2023/...</td>\n",
       "      <td>2023-12-11 00:00:01+00:00</td>\n",
       "      <td>Next year’s iPhones will have an improved hard...</td>\n",
       "      <td>Forbes</td>\n",
       "      <td>&lt;!DOCTYPE html&gt;&lt;html lang=\"en\"&gt;&lt;head&gt;&lt;link rel...</td>\n",
       "      <td>13</td>\n",
       "      <td>18</td>\n",
       "      <td>12963</td>\n",
       "      <td>iPhone 16 And iPhone 16 Pro To Upgrade Importa...</td>\n",
       "      <td>iphone  and iphone  pro to upgrade important a...</td>\n",
       "      <td>{'iphone': 12, 'and': 12, 'pro': 1, 'to': 17, ...</td>\n",
       "      <td>{'the': 23, 'to': 17, 'a': 15, 'iphone': 12, '...</td>\n",
       "      <td>iphone iphone pro upgrade important apple spec...</td>\n",
       "      <td>{'iphone': 12, 'pro': 1, 'upgrade': 8, 'import...</td>\n",
       "      <td>{'iphone': 12, 'upgrade': 8, 'apple': 8, 'siri...</td>\n",
       "    </tr>\n",
       "    <tr>\n",
       "      <th>1</th>\n",
       "      <td>Apple Leak Confirms Surprise iPhone 16 Pro Upg...</td>\n",
       "      <td>https://www.forbes.com/sites/ewanspence/2023/1...</td>\n",
       "      <td>2023-12-10 21:42:30+00:00</td>\n",
       "      <td>iPhone 16 Pro models will be the first to bene...</td>\n",
       "      <td>Forbes</td>\n",
       "      <td>&lt;!DOCTYPE html&gt;&lt;html lang=\"en\"&gt;&lt;head&gt;&lt;link rel...</td>\n",
       "      <td>8</td>\n",
       "      <td>21</td>\n",
       "      <td>12760</td>\n",
       "      <td>Apple Leak Confirms Surprise iPhone 16 Pro Upg...</td>\n",
       "      <td>apple leak confirms surprise iphone  pro upgra...</td>\n",
       "      <td>{'apple': 17, 'leak': 1, 'confirms': 1, 'surpr...</td>\n",
       "      <td>{'the': 62, 'of': 28, 'iphone': 21, 'to': 21, ...</td>\n",
       "      <td>apple leak confirms surprise iphone pro upgrad...</td>\n",
       "      <td>{'apple': 17, 'leak': 1, 'confirms': 1, 'surpr...</td>\n",
       "      <td>{'iphone': 21, 'apple': 17, 'pro': 11, 'design...</td>\n",
       "    </tr>\n",
       "    <tr>\n",
       "      <th>2</th>\n",
       "      <td>Forget The New MacBook Pro, Apple Has Somethin...</td>\n",
       "      <td>https://www.forbes.com/sites/ewanspence/2023/1...</td>\n",
       "      <td>2023-12-10 19:17:56+00:00</td>\n",
       "      <td>Apple’s awkward MacBook Pro may look attractiv...</td>\n",
       "      <td>Forbes</td>\n",
       "      <td>&lt;!DOCTYPE html&gt;&lt;html lang=\"en\"&gt;&lt;head&gt;&lt;link rel...</td>\n",
       "      <td>10</td>\n",
       "      <td>17</td>\n",
       "      <td>12981</td>\n",
       "      <td>Forget The New MacBook Pro, Apple Has Somethin...</td>\n",
       "      <td>forget the new macbook pro apple has something...</td>\n",
       "      <td>{'forget': 1, 'the': 71, 'new': 3, 'macbook': ...</td>\n",
       "      <td>{'the': 71, 'macbook': 35, 'm': 28, 'pro': 22,...</td>\n",
       "      <td>forget new macbook pro apple something much be...</td>\n",
       "      <td>{'forget': 1, 'new': 3, 'macbook': 35, 'pro': ...</td>\n",
       "      <td>{'macbook': 35, 'pro': 22, 'air': 14, 'apple':...</td>\n",
       "    </tr>\n",
       "    <tr>\n",
       "      <th>3</th>\n",
       "      <td>Apple's Competency At Its Core</td>\n",
       "      <td>https://www.forbes.com/sites/gregpetro/2023/12...</td>\n",
       "      <td>2023-12-10 18:37:42+00:00</td>\n",
       "      <td>Examining Apple's triumph in innovation and ma...</td>\n",
       "      <td>Forbes</td>\n",
       "      <td>&lt;!DOCTYPE html&gt;&lt;html lang=\"en\"&gt;&lt;head&gt;&lt;link rel...</td>\n",
       "      <td>5</td>\n",
       "      <td>20</td>\n",
       "      <td>12147</td>\n",
       "      <td>Apple's Competency At Its Core Apple's Compete...</td>\n",
       "      <td>apples competency at its core apples competenc...</td>\n",
       "      <td>{'apples': 5, 'competency': 2, 'at': 4, 'its':...</td>\n",
       "      <td>{'to': 22, 'a': 20, 'and': 16, 'the': 15, 'of'...</td>\n",
       "      <td>apples competency core apples competency core ...</td>\n",
       "      <td>{'apples': 5, 'competency': 2, 'core': 4, 'yea...</td>\n",
       "      <td>{'apple': 6, 'apples': 5, 'years': 5, 'easy': ...</td>\n",
       "    </tr>\n",
       "    <tr>\n",
       "      <th>4</th>\n",
       "      <td>Forget The New MacBook Pro, Apple Has Somethin...</td>\n",
       "      <td>https://www.forbes.com/sites/ewanspence/2023/1...</td>\n",
       "      <td>2023-12-09 20:30:22+00:00</td>\n",
       "      <td>Apple’s awkward MacBook Pro may look attractiv...</td>\n",
       "      <td>Forbes</td>\n",
       "      <td>&lt;!DOCTYPE html&gt;&lt;html lang=\"en\"&gt;&lt;head&gt;&lt;link rel...</td>\n",
       "      <td>10</td>\n",
       "      <td>17</td>\n",
       "      <td>12981</td>\n",
       "      <td>Forget The New MacBook Pro, Apple Has Somethin...</td>\n",
       "      <td>forget the new macbook pro apple has something...</td>\n",
       "      <td>{'forget': 1, 'the': 71, 'new': 3, 'macbook': ...</td>\n",
       "      <td>{'the': 71, 'macbook': 35, 'm': 28, 'pro': 22,...</td>\n",
       "      <td>forget new macbook pro apple something much be...</td>\n",
       "      <td>{'forget': 1, 'new': 3, 'macbook': 35, 'pro': ...</td>\n",
       "      <td>{'macbook': 35, 'pro': 22, 'air': 14, 'apple':...</td>\n",
       "    </tr>\n",
       "  </tbody>\n",
       "</table>\n",
       "</div>"
      ],
      "text/plain": [
       "                                               Titre  \\\n",
       "0  iPhone 16 And iPhone 16 Pro To Upgrade Importa...   \n",
       "1  Apple Leak Confirms Surprise iPhone 16 Pro Upg...   \n",
       "2  Forget The New MacBook Pro, Apple Has Somethin...   \n",
       "3                     Apple's Competency At Its Core   \n",
       "4  Forget The New MacBook Pro, Apple Has Somethin...   \n",
       "\n",
       "                                                 URL  \\\n",
       "0  https://www.forbes.com/sites/davidphelan/2023/...   \n",
       "1  https://www.forbes.com/sites/ewanspence/2023/1...   \n",
       "2  https://www.forbes.com/sites/ewanspence/2023/1...   \n",
       "3  https://www.forbes.com/sites/gregpetro/2023/12...   \n",
       "4  https://www.forbes.com/sites/ewanspence/2023/1...   \n",
       "\n",
       "        Date de publication  \\\n",
       "0 2023-12-11 00:00:01+00:00   \n",
       "1 2023-12-10 21:42:30+00:00   \n",
       "2 2023-12-10 19:17:56+00:00   \n",
       "3 2023-12-10 18:37:42+00:00   \n",
       "4 2023-12-09 20:30:22+00:00   \n",
       "\n",
       "                                         Description  Source  \\\n",
       "0  Next year’s iPhones will have an improved hard...  Forbes   \n",
       "1  iPhone 16 Pro models will be the first to bene...  Forbes   \n",
       "2  Apple’s awkward MacBook Pro may look attractiv...  Forbes   \n",
       "3  Examining Apple's triumph in innovation and ma...  Forbes   \n",
       "4  Apple’s awkward MacBook Pro may look attractiv...  Forbes   \n",
       "\n",
       "                                             Contenu  Title_length  \\\n",
       "0  <!DOCTYPE html><html lang=\"en\"><head><link rel...            13   \n",
       "1  <!DOCTYPE html><html lang=\"en\"><head><link rel...             8   \n",
       "2  <!DOCTYPE html><html lang=\"en\"><head><link rel...            10   \n",
       "3  <!DOCTYPE html><html lang=\"en\"><head><link rel...             5   \n",
       "4  <!DOCTYPE html><html lang=\"en\"><head><link rel...            10   \n",
       "\n",
       "   Description_length  Content_length  \\\n",
       "0                  18           12963   \n",
       "1                  21           12760   \n",
       "2                  17           12981   \n",
       "3                  20           12147   \n",
       "4                  17           12981   \n",
       "\n",
       "                                Cleaned_html_content  \\\n",
       "0  iPhone 16 And iPhone 16 Pro To Upgrade Importa...   \n",
       "1  Apple Leak Confirms Surprise iPhone 16 Pro Upg...   \n",
       "2  Forget The New MacBook Pro, Apple Has Somethin...   \n",
       "3  Apple's Competency At Its Core Apple's Compete...   \n",
       "4  Forget The New MacBook Pro, Apple Has Somethin...   \n",
       "\n",
       "                                     Content_cleaned  \\\n",
       "0  iphone  and iphone  pro to upgrade important a...   \n",
       "1  apple leak confirms surprise iphone  pro upgra...   \n",
       "2  forget the new macbook pro apple has something...   \n",
       "3  apples competency at its core apples competenc...   \n",
       "4  forget the new macbook pro apple has something...   \n",
       "\n",
       "                                      Counting_Words  \\\n",
       "0  {'iphone': 12, 'and': 12, 'pro': 1, 'to': 17, ...   \n",
       "1  {'apple': 17, 'leak': 1, 'confirms': 1, 'surpr...   \n",
       "2  {'forget': 1, 'the': 71, 'new': 3, 'macbook': ...   \n",
       "3  {'apples': 5, 'competency': 2, 'at': 4, 'its':...   \n",
       "4  {'forget': 1, 'the': 71, 'new': 3, 'macbook': ...   \n",
       "\n",
       "                                    Most_common_text  \\\n",
       "0  {'the': 23, 'to': 17, 'a': 15, 'iphone': 12, '...   \n",
       "1  {'the': 62, 'of': 28, 'iphone': 21, 'to': 21, ...   \n",
       "2  {'the': 71, 'macbook': 35, 'm': 28, 'pro': 22,...   \n",
       "3  {'to': 22, 'a': 20, 'and': 16, 'the': 15, 'of'...   \n",
       "4  {'the': 71, 'macbook': 35, 'm': 28, 'pro': 22,...   \n",
       "\n",
       "                      Content_cleaned_from_stopwords  \\\n",
       "0  iphone iphone pro upgrade important apple spec...   \n",
       "1  apple leak confirms surprise iphone pro upgrad...   \n",
       "2  forget new macbook pro apple something much be...   \n",
       "3  apples competency core apples competency core ...   \n",
       "4  forget new macbook pro apple something much be...   \n",
       "\n",
       "                                  Counting_Words_bis  \\\n",
       "0  {'iphone': 12, 'pro': 1, 'upgrade': 8, 'import...   \n",
       "1  {'apple': 17, 'leak': 1, 'confirms': 1, 'surpr...   \n",
       "2  {'forget': 1, 'new': 3, 'macbook': 35, 'pro': ...   \n",
       "3  {'apples': 5, 'competency': 2, 'core': 4, 'yea...   \n",
       "4  {'forget': 1, 'new': 3, 'macbook': 35, 'pro': ...   \n",
       "\n",
       "                                Most_common_text_bis  \n",
       "0  {'iphone': 12, 'upgrade': 8, 'apple': 8, 'siri...  \n",
       "1  {'iphone': 21, 'apple': 17, 'pro': 11, 'design...  \n",
       "2  {'macbook': 35, 'pro': 22, 'air': 14, 'apple':...  \n",
       "3  {'apple': 6, 'apples': 5, 'years': 5, 'easy': ...  \n",
       "4  {'macbook': 35, 'pro': 22, 'air': 14, 'apple':...  "
      ]
     },
     "execution_count": 82,
     "metadata": {},
     "output_type": "execute_result"
    }
   ],
   "source": [
    "df_content.head()"
   ]
  },
  {
   "cell_type": "code",
   "execution_count": 54,
   "metadata": {},
   "outputs": [
    {
     "data": {
      "text/html": [
       "<div>\n",
       "<style scoped>\n",
       "    .dataframe tbody tr th:only-of-type {\n",
       "        vertical-align: middle;\n",
       "    }\n",
       "\n",
       "    .dataframe tbody tr th {\n",
       "        vertical-align: top;\n",
       "    }\n",
       "\n",
       "    .dataframe thead th {\n",
       "        text-align: right;\n",
       "    }\n",
       "</style>\n",
       "<table border=\"1\" class=\"dataframe\">\n",
       "  <thead>\n",
       "    <tr style=\"text-align: right;\">\n",
       "      <th></th>\n",
       "      <th>Titre</th>\n",
       "      <th>URL</th>\n",
       "      <th>Date de publication</th>\n",
       "      <th>Description</th>\n",
       "      <th>Source</th>\n",
       "      <th>Contenu</th>\n",
       "      <th>Title_length</th>\n",
       "      <th>Description_length</th>\n",
       "      <th>Content_length</th>\n",
       "      <th>Cleaned_html_content</th>\n",
       "      <th>Content_cleaned</th>\n",
       "    </tr>\n",
       "  </thead>\n",
       "  <tbody>\n",
       "    <tr>\n",
       "      <th>0</th>\n",
       "      <td>iPhone 16 And iPhone 16 Pro To Upgrade Importa...</td>\n",
       "      <td>https://www.forbes.com/sites/davidphelan/2023/...</td>\n",
       "      <td>2023-12-11 00:00:01+00:00</td>\n",
       "      <td>Next year’s iPhones will have an improved hard...</td>\n",
       "      <td>Forbes</td>\n",
       "      <td>&lt;!DOCTYPE html&gt;&lt;html lang=\"en\"&gt;&lt;head&gt;&lt;link rel...</td>\n",
       "      <td>13</td>\n",
       "      <td>18</td>\n",
       "      <td>12963</td>\n",
       "      <td>iPhone 16 And iPhone 16 Pro To Upgrade Importa...</td>\n",
       "      <td>iphone  and iphone  pro to upgrade important a...</td>\n",
       "    </tr>\n",
       "    <tr>\n",
       "      <th>1</th>\n",
       "      <td>Apple Leak Confirms Surprise iPhone 16 Pro Upg...</td>\n",
       "      <td>https://www.forbes.com/sites/ewanspence/2023/1...</td>\n",
       "      <td>2023-12-10 21:42:30+00:00</td>\n",
       "      <td>iPhone 16 Pro models will be the first to bene...</td>\n",
       "      <td>Forbes</td>\n",
       "      <td>&lt;!DOCTYPE html&gt;&lt;html lang=\"en\"&gt;&lt;head&gt;&lt;link rel...</td>\n",
       "      <td>8</td>\n",
       "      <td>21</td>\n",
       "      <td>12760</td>\n",
       "      <td>Apple Leak Confirms Surprise iPhone 16 Pro Upg...</td>\n",
       "      <td>apple leak confirms surprise iphone  pro upgra...</td>\n",
       "    </tr>\n",
       "    <tr>\n",
       "      <th>2</th>\n",
       "      <td>Forget The New MacBook Pro, Apple Has Somethin...</td>\n",
       "      <td>https://www.forbes.com/sites/ewanspence/2023/1...</td>\n",
       "      <td>2023-12-10 19:17:56+00:00</td>\n",
       "      <td>Apple’s awkward MacBook Pro may look attractiv...</td>\n",
       "      <td>Forbes</td>\n",
       "      <td>&lt;!DOCTYPE html&gt;&lt;html lang=\"en\"&gt;&lt;head&gt;&lt;link rel...</td>\n",
       "      <td>10</td>\n",
       "      <td>17</td>\n",
       "      <td>12981</td>\n",
       "      <td>Forget The New MacBook Pro, Apple Has Somethin...</td>\n",
       "      <td>forget the new macbook pro apple has something...</td>\n",
       "    </tr>\n",
       "    <tr>\n",
       "      <th>3</th>\n",
       "      <td>Apple's Competency At Its Core</td>\n",
       "      <td>https://www.forbes.com/sites/gregpetro/2023/12...</td>\n",
       "      <td>2023-12-10 18:37:42+00:00</td>\n",
       "      <td>Examining Apple's triumph in innovation and ma...</td>\n",
       "      <td>Forbes</td>\n",
       "      <td>&lt;!DOCTYPE html&gt;&lt;html lang=\"en\"&gt;&lt;head&gt;&lt;link rel...</td>\n",
       "      <td>5</td>\n",
       "      <td>20</td>\n",
       "      <td>12147</td>\n",
       "      <td>Apple's Competency At Its Core Apple's Compete...</td>\n",
       "      <td>apples competency at its core apples competenc...</td>\n",
       "    </tr>\n",
       "    <tr>\n",
       "      <th>4</th>\n",
       "      <td>Forget The New MacBook Pro, Apple Has Somethin...</td>\n",
       "      <td>https://www.forbes.com/sites/ewanspence/2023/1...</td>\n",
       "      <td>2023-12-09 20:30:22+00:00</td>\n",
       "      <td>Apple’s awkward MacBook Pro may look attractiv...</td>\n",
       "      <td>Forbes</td>\n",
       "      <td>&lt;!DOCTYPE html&gt;&lt;html lang=\"en\"&gt;&lt;head&gt;&lt;link rel...</td>\n",
       "      <td>10</td>\n",
       "      <td>17</td>\n",
       "      <td>12981</td>\n",
       "      <td>Forget The New MacBook Pro, Apple Has Somethin...</td>\n",
       "      <td>forget the new macbook pro apple has something...</td>\n",
       "    </tr>\n",
       "  </tbody>\n",
       "</table>\n",
       "</div>"
      ],
      "text/plain": [
       "                                               Titre  \\\n",
       "0  iPhone 16 And iPhone 16 Pro To Upgrade Importa...   \n",
       "1  Apple Leak Confirms Surprise iPhone 16 Pro Upg...   \n",
       "2  Forget The New MacBook Pro, Apple Has Somethin...   \n",
       "3                     Apple's Competency At Its Core   \n",
       "4  Forget The New MacBook Pro, Apple Has Somethin...   \n",
       "\n",
       "                                                 URL  \\\n",
       "0  https://www.forbes.com/sites/davidphelan/2023/...   \n",
       "1  https://www.forbes.com/sites/ewanspence/2023/1...   \n",
       "2  https://www.forbes.com/sites/ewanspence/2023/1...   \n",
       "3  https://www.forbes.com/sites/gregpetro/2023/12...   \n",
       "4  https://www.forbes.com/sites/ewanspence/2023/1...   \n",
       "\n",
       "        Date de publication  \\\n",
       "0 2023-12-11 00:00:01+00:00   \n",
       "1 2023-12-10 21:42:30+00:00   \n",
       "2 2023-12-10 19:17:56+00:00   \n",
       "3 2023-12-10 18:37:42+00:00   \n",
       "4 2023-12-09 20:30:22+00:00   \n",
       "\n",
       "                                         Description  Source  \\\n",
       "0  Next year’s iPhones will have an improved hard...  Forbes   \n",
       "1  iPhone 16 Pro models will be the first to bene...  Forbes   \n",
       "2  Apple’s awkward MacBook Pro may look attractiv...  Forbes   \n",
       "3  Examining Apple's triumph in innovation and ma...  Forbes   \n",
       "4  Apple’s awkward MacBook Pro may look attractiv...  Forbes   \n",
       "\n",
       "                                             Contenu  Title_length  \\\n",
       "0  <!DOCTYPE html><html lang=\"en\"><head><link rel...            13   \n",
       "1  <!DOCTYPE html><html lang=\"en\"><head><link rel...             8   \n",
       "2  <!DOCTYPE html><html lang=\"en\"><head><link rel...            10   \n",
       "3  <!DOCTYPE html><html lang=\"en\"><head><link rel...             5   \n",
       "4  <!DOCTYPE html><html lang=\"en\"><head><link rel...            10   \n",
       "\n",
       "   Description_length  Content_length  \\\n",
       "0                  18           12963   \n",
       "1                  21           12760   \n",
       "2                  17           12981   \n",
       "3                  20           12147   \n",
       "4                  17           12981   \n",
       "\n",
       "                                Cleaned_html_content  \\\n",
       "0  iPhone 16 And iPhone 16 Pro To Upgrade Importa...   \n",
       "1  Apple Leak Confirms Surprise iPhone 16 Pro Upg...   \n",
       "2  Forget The New MacBook Pro, Apple Has Somethin...   \n",
       "3  Apple's Competency At Its Core Apple's Compete...   \n",
       "4  Forget The New MacBook Pro, Apple Has Somethin...   \n",
       "\n",
       "                                     Content_cleaned  \n",
       "0  iphone  and iphone  pro to upgrade important a...  \n",
       "1  apple leak confirms surprise iphone  pro upgra...  \n",
       "2  forget the new macbook pro apple has something...  \n",
       "3  apples competency at its core apples competenc...  \n",
       "4  forget the new macbook pro apple has something...  "
      ]
     },
     "execution_count": 54,
     "metadata": {},
     "output_type": "execute_result"
    }
   ],
   "source": [
    "df_content['Content_cleaned']=df_content['Cleaned_html_content'].apply(cleaning_text)\n",
    "df_content.head()"
   ]
  },
  {
   "cell_type": "code",
   "execution_count": 55,
   "metadata": {},
   "outputs": [
    {
     "data": {
      "text/html": [
       "<div>\n",
       "<style scoped>\n",
       "    .dataframe tbody tr th:only-of-type {\n",
       "        vertical-align: middle;\n",
       "    }\n",
       "\n",
       "    .dataframe tbody tr th {\n",
       "        vertical-align: top;\n",
       "    }\n",
       "\n",
       "    .dataframe thead th {\n",
       "        text-align: right;\n",
       "    }\n",
       "</style>\n",
       "<table border=\"1\" class=\"dataframe\">\n",
       "  <thead>\n",
       "    <tr style=\"text-align: right;\">\n",
       "      <th></th>\n",
       "      <th>Titre</th>\n",
       "      <th>URL</th>\n",
       "      <th>Date de publication</th>\n",
       "      <th>Description</th>\n",
       "      <th>Source</th>\n",
       "      <th>Contenu</th>\n",
       "      <th>Title_length</th>\n",
       "      <th>Description_length</th>\n",
       "      <th>Content_length</th>\n",
       "      <th>Cleaned_html_content</th>\n",
       "      <th>Content_cleaned</th>\n",
       "      <th>Counting_Words</th>\n",
       "      <th>Most_common_text</th>\n",
       "    </tr>\n",
       "  </thead>\n",
       "  <tbody>\n",
       "    <tr>\n",
       "      <th>0</th>\n",
       "      <td>iPhone 16 And iPhone 16 Pro To Upgrade Importa...</td>\n",
       "      <td>https://www.forbes.com/sites/davidphelan/2023/...</td>\n",
       "      <td>2023-12-11 00:00:01+00:00</td>\n",
       "      <td>Next year’s iPhones will have an improved hard...</td>\n",
       "      <td>Forbes</td>\n",
       "      <td>&lt;!DOCTYPE html&gt;&lt;html lang=\"en\"&gt;&lt;head&gt;&lt;link rel...</td>\n",
       "      <td>13</td>\n",
       "      <td>18</td>\n",
       "      <td>12963</td>\n",
       "      <td>iPhone 16 And iPhone 16 Pro To Upgrade Importa...</td>\n",
       "      <td>iphone  and iphone  pro to upgrade important a...</td>\n",
       "      <td>{'iphone': 12, 'and': 12, 'pro': 1, 'to': 17, ...</td>\n",
       "      <td>{'the': 23, 'to': 17, 'a': 15, 'iphone': 12, '...</td>\n",
       "    </tr>\n",
       "    <tr>\n",
       "      <th>1</th>\n",
       "      <td>Apple Leak Confirms Surprise iPhone 16 Pro Upg...</td>\n",
       "      <td>https://www.forbes.com/sites/ewanspence/2023/1...</td>\n",
       "      <td>2023-12-10 21:42:30+00:00</td>\n",
       "      <td>iPhone 16 Pro models will be the first to bene...</td>\n",
       "      <td>Forbes</td>\n",
       "      <td>&lt;!DOCTYPE html&gt;&lt;html lang=\"en\"&gt;&lt;head&gt;&lt;link rel...</td>\n",
       "      <td>8</td>\n",
       "      <td>21</td>\n",
       "      <td>12760</td>\n",
       "      <td>Apple Leak Confirms Surprise iPhone 16 Pro Upg...</td>\n",
       "      <td>apple leak confirms surprise iphone  pro upgra...</td>\n",
       "      <td>{'apple': 17, 'leak': 1, 'confirms': 1, 'surpr...</td>\n",
       "      <td>{'the': 62, 'of': 28, 'iphone': 21, 'to': 21, ...</td>\n",
       "    </tr>\n",
       "    <tr>\n",
       "      <th>2</th>\n",
       "      <td>Forget The New MacBook Pro, Apple Has Somethin...</td>\n",
       "      <td>https://www.forbes.com/sites/ewanspence/2023/1...</td>\n",
       "      <td>2023-12-10 19:17:56+00:00</td>\n",
       "      <td>Apple’s awkward MacBook Pro may look attractiv...</td>\n",
       "      <td>Forbes</td>\n",
       "      <td>&lt;!DOCTYPE html&gt;&lt;html lang=\"en\"&gt;&lt;head&gt;&lt;link rel...</td>\n",
       "      <td>10</td>\n",
       "      <td>17</td>\n",
       "      <td>12981</td>\n",
       "      <td>Forget The New MacBook Pro, Apple Has Somethin...</td>\n",
       "      <td>forget the new macbook pro apple has something...</td>\n",
       "      <td>{'forget': 1, 'the': 71, 'new': 3, 'macbook': ...</td>\n",
       "      <td>{'the': 71, 'macbook': 35, 'm': 28, 'pro': 22,...</td>\n",
       "    </tr>\n",
       "    <tr>\n",
       "      <th>3</th>\n",
       "      <td>Apple's Competency At Its Core</td>\n",
       "      <td>https://www.forbes.com/sites/gregpetro/2023/12...</td>\n",
       "      <td>2023-12-10 18:37:42+00:00</td>\n",
       "      <td>Examining Apple's triumph in innovation and ma...</td>\n",
       "      <td>Forbes</td>\n",
       "      <td>&lt;!DOCTYPE html&gt;&lt;html lang=\"en\"&gt;&lt;head&gt;&lt;link rel...</td>\n",
       "      <td>5</td>\n",
       "      <td>20</td>\n",
       "      <td>12147</td>\n",
       "      <td>Apple's Competency At Its Core Apple's Compete...</td>\n",
       "      <td>apples competency at its core apples competenc...</td>\n",
       "      <td>{'apples': 5, 'competency': 2, 'at': 4, 'its':...</td>\n",
       "      <td>{'to': 22, 'a': 20, 'and': 16, 'the': 15, 'of'...</td>\n",
       "    </tr>\n",
       "    <tr>\n",
       "      <th>4</th>\n",
       "      <td>Forget The New MacBook Pro, Apple Has Somethin...</td>\n",
       "      <td>https://www.forbes.com/sites/ewanspence/2023/1...</td>\n",
       "      <td>2023-12-09 20:30:22+00:00</td>\n",
       "      <td>Apple’s awkward MacBook Pro may look attractiv...</td>\n",
       "      <td>Forbes</td>\n",
       "      <td>&lt;!DOCTYPE html&gt;&lt;html lang=\"en\"&gt;&lt;head&gt;&lt;link rel...</td>\n",
       "      <td>10</td>\n",
       "      <td>17</td>\n",
       "      <td>12981</td>\n",
       "      <td>Forget The New MacBook Pro, Apple Has Somethin...</td>\n",
       "      <td>forget the new macbook pro apple has something...</td>\n",
       "      <td>{'forget': 1, 'the': 71, 'new': 3, 'macbook': ...</td>\n",
       "      <td>{'the': 71, 'macbook': 35, 'm': 28, 'pro': 22,...</td>\n",
       "    </tr>\n",
       "    <tr>\n",
       "      <th>5</th>\n",
       "      <td>Apple Leak Confirms Surprise iPhone 16 Pro Upg...</td>\n",
       "      <td>https://www.forbes.com/sites/ewanspence/2023/1...</td>\n",
       "      <td>2023-12-09 14:42:17+00:00</td>\n",
       "      <td>iPhone 16 Pro models will be the first to bene...</td>\n",
       "      <td>Forbes</td>\n",
       "      <td>&lt;!DOCTYPE html&gt;&lt;html lang=\"en\"&gt;&lt;head&gt;&lt;link rel...</td>\n",
       "      <td>8</td>\n",
       "      <td>21</td>\n",
       "      <td>12760</td>\n",
       "      <td>Apple Leak Confirms Surprise iPhone 16 Pro Upg...</td>\n",
       "      <td>apple leak confirms surprise iphone  pro upgra...</td>\n",
       "      <td>{'apple': 17, 'leak': 1, 'confirms': 1, 'surpr...</td>\n",
       "      <td>{'the': 62, 'of': 28, 'iphone': 21, 'to': 21, ...</td>\n",
       "    </tr>\n",
       "    <tr>\n",
       "      <th>6</th>\n",
       "      <td>Apple iOS 17.2 Release Date: The Coolest iPhon...</td>\n",
       "      <td>https://www.forbes.com/sites/davidphelan/2023/...</td>\n",
       "      <td>2023-12-09 14:38:43+00:00</td>\n",
       "      <td>There’s a big iPhone update coming and it’s fu...</td>\n",
       "      <td>Forbes</td>\n",
       "      <td>&lt;!DOCTYPE html&gt;&lt;html lang=\"en\"&gt;&lt;head&gt;&lt;link rel...</td>\n",
       "      <td>12</td>\n",
       "      <td>22</td>\n",
       "      <td>13002</td>\n",
       "      <td>Apple iOS 17.2 Release Date: The Coolest iPhon...</td>\n",
       "      <td>apple ios  release date the coolest iphone upg...</td>\n",
       "      <td>{'apple': 5, 'ios': 7, 'release': 2, 'date': 1...</td>\n",
       "      <td>{'the': 25, 'and': 23, 'to': 21, 'iphone': 17,...</td>\n",
       "    </tr>\n",
       "    <tr>\n",
       "      <th>7</th>\n",
       "      <td>Apple iMessage Soundly Beaten As Surprise New ...</td>\n",
       "      <td>https://www.forbes.com/sites/zakdoffman/2023/1...</td>\n",
       "      <td>2023-12-09 12:30:29+00:00</td>\n",
       "      <td>Forget iPhone 15—Apple suddenly has a major iP...</td>\n",
       "      <td>Forbes</td>\n",
       "      <td>&lt;!DOCTYPE html&gt;&lt;html lang=\"en\"&gt;&lt;head&gt;&lt;link rel...</td>\n",
       "      <td>10</td>\n",
       "      <td>14</td>\n",
       "      <td>13800</td>\n",
       "      <td>Apple iMessage Soundly Beaten As Surprise New ...</td>\n",
       "      <td>apple imessage soundly beaten as surprise new ...</td>\n",
       "      <td>{'apple': 18, 'imessage': 13, 'soundly': 1, 'b...</td>\n",
       "      <td>{'the': 49, 'to': 46, 'that': 26, 'a': 26, 'an...</td>\n",
       "    </tr>\n",
       "    <tr>\n",
       "      <th>8</th>\n",
       "      <td>Apple Loop: Apple’s iPhone 16 Problem, Stunnin...</td>\n",
       "      <td>https://www.forbes.com/sites/ewanspence/2023/1...</td>\n",
       "      <td>2023-12-08 21:32:17+00:00</td>\n",
       "      <td>This week’s Apple headlines; Apple’s iPhone 16...</td>\n",
       "      <td>Forbes</td>\n",
       "      <td>&lt;!DOCTYPE html&gt;&lt;html lang=\"en\"&gt;&lt;head&gt;&lt;link rel...</td>\n",
       "      <td>12</td>\n",
       "      <td>31</td>\n",
       "      <td>13927</td>\n",
       "      <td>Apple Loop: Apple’s iPhone 16 Problem, Stunnin...</td>\n",
       "      <td>apple loop apples iphone  problem stunning ipa...</td>\n",
       "      <td>{'apple': 27, 'loop': 5, 'apples': 8, 'iphone'...</td>\n",
       "      <td>{'the': 61, 'a': 32, 'apple': 27, 'to': 26, 'a...</td>\n",
       "    </tr>\n",
       "    <tr>\n",
       "      <th>9</th>\n",
       "      <td>Apple iPhone, Watch product design head to lea...</td>\n",
       "      <td>https://www.marketwatch.com/story/apple-iphone...</td>\n",
       "      <td>2023-12-08 20:37:19+00:00</td>\n",
       "      <td>Tang Tan, the Apple Inc. executive who headed ...</td>\n",
       "      <td>MarketWatch</td>\n",
       "      <td>&lt;!DOCTYPE html&gt;\\n&lt;html\\n  lang=\"en-US\"\\n  data...</td>\n",
       "      <td>9</td>\n",
       "      <td>27</td>\n",
       "      <td>14456</td>\n",
       "      <td>Apple iPhone, Watch product design head to lea...</td>\n",
       "      <td>apple iphone watch product design head to leav...</td>\n",
       "      <td>{'apple': 5, 'iphone': 2, 'watch': 2, 'product...</td>\n",
       "      <td>{'the': 10, 'and': 7, 'apple': 5, 'for': 5, 'o...</td>\n",
       "    </tr>\n",
       "    <tr>\n",
       "      <th>10</th>\n",
       "      <td>: Apple iPhone, Watch product design head to l...</td>\n",
       "      <td>https://www.marketwatch.com/story/apple-iphone...</td>\n",
       "      <td>2023-12-08 20:30:00+00:00</td>\n",
       "      <td>Tang Tan, the Apple Inc. executive who headed ...</td>\n",
       "      <td>MarketWatch</td>\n",
       "      <td>&lt;!DOCTYPE html&gt;\\n&lt;html\\n  lang=\"en-US\"\\n  data...</td>\n",
       "      <td>10</td>\n",
       "      <td>27</td>\n",
       "      <td>14485</td>\n",
       "      <td>Apple iPhone, Watch product design head to lea...</td>\n",
       "      <td>apple iphone watch product design head to leav...</td>\n",
       "      <td>{'apple': 5, 'iphone': 2, 'watch': 2, 'product...</td>\n",
       "      <td>{'the': 9, 'and': 7, 'of': 6, 'apple': 5, 'to'...</td>\n",
       "    </tr>\n",
       "    <tr>\n",
       "      <th>11</th>\n",
       "      <td>Apple's latest moves in India underscore data ...</td>\n",
       "      <td>https://www.cnbc.com/2023/12/08/apples-latest-...</td>\n",
       "      <td>2023-12-08 18:20:47+00:00</td>\n",
       "      <td>India's economy is about 16½ years behind Chin...</td>\n",
       "      <td>CNBC</td>\n",
       "      <td>&lt;!DOCTYPE html&gt;&lt;html lang=\"en\" prefix=\"og=http...</td>\n",
       "      <td>15</td>\n",
       "      <td>21</td>\n",
       "      <td>25990</td>\n",
       "      <td>Apple's latest moves in India underscore data ...</td>\n",
       "      <td>apples latest moves in india underscore data s...</td>\n",
       "      <td>{'apples': 2, 'latest': 3, 'moves': 2, 'in': 9...</td>\n",
       "      <td>{'best': 119, 'credit': 86, 'for': 55, 'loans'...</td>\n",
       "    </tr>\n",
       "    <tr>\n",
       "      <th>12</th>\n",
       "      <td>No-One Cares Which Bank Provides Their Apple Card</td>\n",
       "      <td>https://www.forbes.com/sites/davidbirch/2023/1...</td>\n",
       "      <td>2023-12-08 11:57:45+00:00</td>\n",
       "      <td>So long as my rewards card works and I get my ...</td>\n",
       "      <td>Forbes</td>\n",
       "      <td>&lt;!DOCTYPE html&gt;&lt;html lang=\"en\"&gt;&lt;head&gt;&lt;link rel...</td>\n",
       "      <td>8</td>\n",
       "      <td>24</td>\n",
       "      <td>13004</td>\n",
       "      <td>No-One Cares Which Bank Provides Their Apple C...</td>\n",
       "      <td>noone cares which bank provides their apple ca...</td>\n",
       "      <td>{'noone': 1, 'cares': 1, 'which': 5, 'bank': 7...</td>\n",
       "      <td>{'the': 46, 'to': 32, 'and': 28, 'a': 20, 'tha...</td>\n",
       "    </tr>\n",
       "    <tr>\n",
       "      <th>13</th>\n",
       "      <td>Apple Wants To Make 1-In-4 iPhones In India As...</td>\n",
       "      <td>https://www.forbes.com/sites/siladityaray/2023...</td>\n",
       "      <td>2023-12-08 11:48:48+00:00</td>\n",
       "      <td>Apple wants to expand its Indian manufacturing...</td>\n",
       "      <td>Forbes</td>\n",
       "      <td>&lt;!DOCTYPE html&gt;&lt;html lang=\"en\"&gt;&lt;head&gt;&lt;link rel...</td>\n",
       "      <td>21</td>\n",
       "      <td>25</td>\n",
       "      <td>14747</td>\n",
       "      <td>Apple Wants To Make 1-In-4 iPhones In India As...</td>\n",
       "      <td>apple wants to make in iphones in india as tat...</td>\n",
       "      <td>{'apple': 11, 'wants': 3, 'to': 23, 'make': 3,...</td>\n",
       "      <td>{'the': 27, 'to': 23, 'in': 16, 'of': 15, 'ind...</td>\n",
       "    </tr>\n",
       "    <tr>\n",
       "      <th>14</th>\n",
       "      <td>Apple reportedly plans major expansion of iPho...</td>\n",
       "      <td>https://www.marketwatch.com/story/apple-report...</td>\n",
       "      <td>2023-12-08 04:23:00+00:00</td>\n",
       "      <td>Apple Inc. is planning a massive expansion of ...</td>\n",
       "      <td>MarketWatch</td>\n",
       "      <td>&lt;!DOCTYPE html&gt;\\n&lt;html\\n  lang=\"en-US\"\\n  data...</td>\n",
       "      <td>10</td>\n",
       "      <td>17</td>\n",
       "      <td>14625</td>\n",
       "      <td>Apple reportedly plans major expansion of iPho...</td>\n",
       "      <td>apple reportedly plans major expansion of ipho...</td>\n",
       "      <td>{'apple': 6, 'reportedly': 2, 'plans': 3, 'maj...</td>\n",
       "      <td>{'a': 13, 'to': 12, 'the': 12, 'in': 11, 'indi...</td>\n",
       "    </tr>\n",
       "    <tr>\n",
       "      <th>15</th>\n",
       "      <td>: Apple reportedly plans major expansion of iP...</td>\n",
       "      <td>https://www.marketwatch.com/story/apple-report...</td>\n",
       "      <td>2023-12-08 04:23:00+00:00</td>\n",
       "      <td>Apple Inc. is planning a massive expansion of ...</td>\n",
       "      <td>MarketWatch</td>\n",
       "      <td>&lt;!DOCTYPE html&gt;\\n&lt;html\\n  lang=\"en-US\"\\n  data...</td>\n",
       "      <td>11</td>\n",
       "      <td>17</td>\n",
       "      <td>14597</td>\n",
       "      <td>Apple reportedly plans major expansion of iPho...</td>\n",
       "      <td>apple reportedly plans major expansion of ipho...</td>\n",
       "      <td>{'apple': 6, 'reportedly': 2, 'plans': 3, 'maj...</td>\n",
       "      <td>{'the': 13, 'in': 12, 'to': 11, 'a': 10, 'indi...</td>\n",
       "    </tr>\n",
       "    <tr>\n",
       "      <th>16</th>\n",
       "      <td>Apple Adds NameDrop-Like Pass-Sharing Feature ...</td>\n",
       "      <td>https://www.forbes.com/sites/stevenaquino/2023...</td>\n",
       "      <td>2023-12-07 21:56:41+00:00</td>\n",
       "      <td>The feature bears a strong resemblance to the ...</td>\n",
       "      <td>Forbes</td>\n",
       "      <td>&lt;!DOCTYPE html&gt;&lt;html lang=\"en\"&gt;&lt;head&gt;&lt;link rel...</td>\n",
       "      <td>15</td>\n",
       "      <td>15</td>\n",
       "      <td>12160</td>\n",
       "      <td>Apple Adds NameDrop-Like Pass-Sharing Feature ...</td>\n",
       "      <td>apple adds namedroplike passsharing feature to...</td>\n",
       "      <td>{'apple': 2, 'adds': 1, 'namedroplike': 1, 'pa...</td>\n",
       "      <td>{'the': 22, 'to': 21, 'and': 10, 'feature': 7,...</td>\n",
       "    </tr>\n",
       "    <tr>\n",
       "      <th>17</th>\n",
       "      <td>Apple iPad 2024: All-New Big-Screen Model Comi...</td>\n",
       "      <td>https://www.forbes.com/sites/davidphelan/2023/...</td>\n",
       "      <td>2023-12-07 19:30:38+00:00</td>\n",
       "      <td>The latest reports suggest that four new iPads...</td>\n",
       "      <td>Forbes</td>\n",
       "      <td>&lt;!DOCTYPE html&gt;&lt;html lang=\"en\"&gt;&lt;head&gt;&lt;link rel...</td>\n",
       "      <td>11</td>\n",
       "      <td>24</td>\n",
       "      <td>12993</td>\n",
       "      <td>Apple iPad 2024: All-New Big-Screen Model Comi...</td>\n",
       "      <td>apple ipad  allnew bigscreen model coming in w...</td>\n",
       "      <td>{'apple': 8, 'ipad': 13, 'allnew': 1, 'bigscre...</td>\n",
       "      <td>{'the': 33, 'ipad': 13, 'to': 13, 'and': 13, '...</td>\n",
       "    </tr>\n",
       "    <tr>\n",
       "      <th>18</th>\n",
       "      <td>New Apple Leak Hints At Early MacBook Air Upgrade</td>\n",
       "      <td>https://www.forbes.com/sites/ewanspence/2023/1...</td>\n",
       "      <td>2023-12-07 09:30:30+00:00</td>\n",
       "      <td>Apple's next MacBook Air laptops may arrive ea...</td>\n",
       "      <td>Forbes</td>\n",
       "      <td>&lt;!DOCTYPE html&gt;&lt;html lang=\"en\"&gt;&lt;head&gt;&lt;link rel...</td>\n",
       "      <td>9</td>\n",
       "      <td>10</td>\n",
       "      <td>12755</td>\n",
       "      <td>New Apple Leak Hints At Early MacBook Air Upgr...</td>\n",
       "      <td>new apple leak hints at early macbook air upgr...</td>\n",
       "      <td>{'new': 6, 'apple': 10, 'leak': 1, 'hints': 1,...</td>\n",
       "      <td>{'the': 33, 'macbook': 15, 'and': 13, 'to': 12...</td>\n",
       "    </tr>\n",
       "    <tr>\n",
       "      <th>19</th>\n",
       "      <td>Apple Planning New iPads And Macs Amid Drop In...</td>\n",
       "      <td>https://www.forbes.com/sites/britneynguyen/202...</td>\n",
       "      <td>2023-12-06 19:57:35+00:00</td>\n",
       "      <td>Apple did not release new iPads this year, con...</td>\n",
       "      <td>Forbes</td>\n",
       "      <td>&lt;!DOCTYPE html&gt;&lt;html lang=\"en\"&gt;&lt;head&gt;&lt;link rel...</td>\n",
       "      <td>12</td>\n",
       "      <td>27</td>\n",
       "      <td>14765</td>\n",
       "      <td>Apple Planning New iPads And Macs Amid Drop In...</td>\n",
       "      <td>apple planning new ipads and macs amid drop in...</td>\n",
       "      <td>{'apple': 13, 'planning': 1, 'new': 5, 'ipads'...</td>\n",
       "      <td>{'the': 24, 'apple': 13, 'in': 13, 'and': 9, '...</td>\n",
       "    </tr>\n",
       "  </tbody>\n",
       "</table>\n",
       "</div>"
      ],
      "text/plain": [
       "                                                Titre  \\\n",
       "0   iPhone 16 And iPhone 16 Pro To Upgrade Importa...   \n",
       "1   Apple Leak Confirms Surprise iPhone 16 Pro Upg...   \n",
       "2   Forget The New MacBook Pro, Apple Has Somethin...   \n",
       "3                      Apple's Competency At Its Core   \n",
       "4   Forget The New MacBook Pro, Apple Has Somethin...   \n",
       "5   Apple Leak Confirms Surprise iPhone 16 Pro Upg...   \n",
       "6   Apple iOS 17.2 Release Date: The Coolest iPhon...   \n",
       "7   Apple iMessage Soundly Beaten As Surprise New ...   \n",
       "8   Apple Loop: Apple’s iPhone 16 Problem, Stunnin...   \n",
       "9   Apple iPhone, Watch product design head to lea...   \n",
       "10  : Apple iPhone, Watch product design head to l...   \n",
       "11  Apple's latest moves in India underscore data ...   \n",
       "12  No-One Cares Which Bank Provides Their Apple Card   \n",
       "13  Apple Wants To Make 1-In-4 iPhones In India As...   \n",
       "14  Apple reportedly plans major expansion of iPho...   \n",
       "15  : Apple reportedly plans major expansion of iP...   \n",
       "16  Apple Adds NameDrop-Like Pass-Sharing Feature ...   \n",
       "17  Apple iPad 2024: All-New Big-Screen Model Comi...   \n",
       "18  New Apple Leak Hints At Early MacBook Air Upgrade   \n",
       "19  Apple Planning New iPads And Macs Amid Drop In...   \n",
       "\n",
       "                                                  URL  \\\n",
       "0   https://www.forbes.com/sites/davidphelan/2023/...   \n",
       "1   https://www.forbes.com/sites/ewanspence/2023/1...   \n",
       "2   https://www.forbes.com/sites/ewanspence/2023/1...   \n",
       "3   https://www.forbes.com/sites/gregpetro/2023/12...   \n",
       "4   https://www.forbes.com/sites/ewanspence/2023/1...   \n",
       "5   https://www.forbes.com/sites/ewanspence/2023/1...   \n",
       "6   https://www.forbes.com/sites/davidphelan/2023/...   \n",
       "7   https://www.forbes.com/sites/zakdoffman/2023/1...   \n",
       "8   https://www.forbes.com/sites/ewanspence/2023/1...   \n",
       "9   https://www.marketwatch.com/story/apple-iphone...   \n",
       "10  https://www.marketwatch.com/story/apple-iphone...   \n",
       "11  https://www.cnbc.com/2023/12/08/apples-latest-...   \n",
       "12  https://www.forbes.com/sites/davidbirch/2023/1...   \n",
       "13  https://www.forbes.com/sites/siladityaray/2023...   \n",
       "14  https://www.marketwatch.com/story/apple-report...   \n",
       "15  https://www.marketwatch.com/story/apple-report...   \n",
       "16  https://www.forbes.com/sites/stevenaquino/2023...   \n",
       "17  https://www.forbes.com/sites/davidphelan/2023/...   \n",
       "18  https://www.forbes.com/sites/ewanspence/2023/1...   \n",
       "19  https://www.forbes.com/sites/britneynguyen/202...   \n",
       "\n",
       "         Date de publication  \\\n",
       "0  2023-12-11 00:00:01+00:00   \n",
       "1  2023-12-10 21:42:30+00:00   \n",
       "2  2023-12-10 19:17:56+00:00   \n",
       "3  2023-12-10 18:37:42+00:00   \n",
       "4  2023-12-09 20:30:22+00:00   \n",
       "5  2023-12-09 14:42:17+00:00   \n",
       "6  2023-12-09 14:38:43+00:00   \n",
       "7  2023-12-09 12:30:29+00:00   \n",
       "8  2023-12-08 21:32:17+00:00   \n",
       "9  2023-12-08 20:37:19+00:00   \n",
       "10 2023-12-08 20:30:00+00:00   \n",
       "11 2023-12-08 18:20:47+00:00   \n",
       "12 2023-12-08 11:57:45+00:00   \n",
       "13 2023-12-08 11:48:48+00:00   \n",
       "14 2023-12-08 04:23:00+00:00   \n",
       "15 2023-12-08 04:23:00+00:00   \n",
       "16 2023-12-07 21:56:41+00:00   \n",
       "17 2023-12-07 19:30:38+00:00   \n",
       "18 2023-12-07 09:30:30+00:00   \n",
       "19 2023-12-06 19:57:35+00:00   \n",
       "\n",
       "                                          Description       Source  \\\n",
       "0   Next year’s iPhones will have an improved hard...       Forbes   \n",
       "1   iPhone 16 Pro models will be the first to bene...       Forbes   \n",
       "2   Apple’s awkward MacBook Pro may look attractiv...       Forbes   \n",
       "3   Examining Apple's triumph in innovation and ma...       Forbes   \n",
       "4   Apple’s awkward MacBook Pro may look attractiv...       Forbes   \n",
       "5   iPhone 16 Pro models will be the first to bene...       Forbes   \n",
       "6   There’s a big iPhone update coming and it’s fu...       Forbes   \n",
       "7   Forget iPhone 15—Apple suddenly has a major iP...       Forbes   \n",
       "8   This week’s Apple headlines; Apple’s iPhone 16...       Forbes   \n",
       "9   Tang Tan, the Apple Inc. executive who headed ...  MarketWatch   \n",
       "10  Tang Tan, the Apple Inc. executive who headed ...  MarketWatch   \n",
       "11  India's economy is about 16½ years behind Chin...         CNBC   \n",
       "12  So long as my rewards card works and I get my ...       Forbes   \n",
       "13  Apple wants to expand its Indian manufacturing...       Forbes   \n",
       "14  Apple Inc. is planning a massive expansion of ...  MarketWatch   \n",
       "15  Apple Inc. is planning a massive expansion of ...  MarketWatch   \n",
       "16  The feature bears a strong resemblance to the ...       Forbes   \n",
       "17  The latest reports suggest that four new iPads...       Forbes   \n",
       "18  Apple's next MacBook Air laptops may arrive ea...       Forbes   \n",
       "19  Apple did not release new iPads this year, con...       Forbes   \n",
       "\n",
       "                                              Contenu  Title_length  \\\n",
       "0   <!DOCTYPE html><html lang=\"en\"><head><link rel...            13   \n",
       "1   <!DOCTYPE html><html lang=\"en\"><head><link rel...             8   \n",
       "2   <!DOCTYPE html><html lang=\"en\"><head><link rel...            10   \n",
       "3   <!DOCTYPE html><html lang=\"en\"><head><link rel...             5   \n",
       "4   <!DOCTYPE html><html lang=\"en\"><head><link rel...            10   \n",
       "5   <!DOCTYPE html><html lang=\"en\"><head><link rel...             8   \n",
       "6   <!DOCTYPE html><html lang=\"en\"><head><link rel...            12   \n",
       "7   <!DOCTYPE html><html lang=\"en\"><head><link rel...            10   \n",
       "8   <!DOCTYPE html><html lang=\"en\"><head><link rel...            12   \n",
       "9   <!DOCTYPE html>\\n<html\\n  lang=\"en-US\"\\n  data...             9   \n",
       "10  <!DOCTYPE html>\\n<html\\n  lang=\"en-US\"\\n  data...            10   \n",
       "11  <!DOCTYPE html><html lang=\"en\" prefix=\"og=http...            15   \n",
       "12  <!DOCTYPE html><html lang=\"en\"><head><link rel...             8   \n",
       "13  <!DOCTYPE html><html lang=\"en\"><head><link rel...            21   \n",
       "14  <!DOCTYPE html>\\n<html\\n  lang=\"en-US\"\\n  data...            10   \n",
       "15  <!DOCTYPE html>\\n<html\\n  lang=\"en-US\"\\n  data...            11   \n",
       "16  <!DOCTYPE html><html lang=\"en\"><head><link rel...            15   \n",
       "17  <!DOCTYPE html><html lang=\"en\"><head><link rel...            11   \n",
       "18  <!DOCTYPE html><html lang=\"en\"><head><link rel...             9   \n",
       "19  <!DOCTYPE html><html lang=\"en\"><head><link rel...            12   \n",
       "\n",
       "    Description_length  Content_length  \\\n",
       "0                   18           12963   \n",
       "1                   21           12760   \n",
       "2                   17           12981   \n",
       "3                   20           12147   \n",
       "4                   17           12981   \n",
       "5                   21           12760   \n",
       "6                   22           13002   \n",
       "7                   14           13800   \n",
       "8                   31           13927   \n",
       "9                   27           14456   \n",
       "10                  27           14485   \n",
       "11                  21           25990   \n",
       "12                  24           13004   \n",
       "13                  25           14747   \n",
       "14                  17           14625   \n",
       "15                  17           14597   \n",
       "16                  15           12160   \n",
       "17                  24           12993   \n",
       "18                  10           12755   \n",
       "19                  27           14765   \n",
       "\n",
       "                                 Cleaned_html_content  \\\n",
       "0   iPhone 16 And iPhone 16 Pro To Upgrade Importa...   \n",
       "1   Apple Leak Confirms Surprise iPhone 16 Pro Upg...   \n",
       "2   Forget The New MacBook Pro, Apple Has Somethin...   \n",
       "3   Apple's Competency At Its Core Apple's Compete...   \n",
       "4   Forget The New MacBook Pro, Apple Has Somethin...   \n",
       "5   Apple Leak Confirms Surprise iPhone 16 Pro Upg...   \n",
       "6   Apple iOS 17.2 Release Date: The Coolest iPhon...   \n",
       "7   Apple iMessage Soundly Beaten As Surprise New ...   \n",
       "8   Apple Loop: Apple’s iPhone 16 Problem, Stunnin...   \n",
       "9   Apple iPhone, Watch product design head to lea...   \n",
       "10  Apple iPhone, Watch product design head to lea...   \n",
       "11  Apple's latest moves in India underscore data ...   \n",
       "12  No-One Cares Which Bank Provides Their Apple C...   \n",
       "13  Apple Wants To Make 1-In-4 iPhones In India As...   \n",
       "14  Apple reportedly plans major expansion of iPho...   \n",
       "15  Apple reportedly plans major expansion of iPho...   \n",
       "16  Apple Adds NameDrop-Like Pass-Sharing Feature ...   \n",
       "17  Apple iPad 2024: All-New Big-Screen Model Comi...   \n",
       "18  New Apple Leak Hints At Early MacBook Air Upgr...   \n",
       "19  Apple Planning New iPads And Macs Amid Drop In...   \n",
       "\n",
       "                                      Content_cleaned  \\\n",
       "0   iphone  and iphone  pro to upgrade important a...   \n",
       "1   apple leak confirms surprise iphone  pro upgra...   \n",
       "2   forget the new macbook pro apple has something...   \n",
       "3   apples competency at its core apples competenc...   \n",
       "4   forget the new macbook pro apple has something...   \n",
       "5   apple leak confirms surprise iphone  pro upgra...   \n",
       "6   apple ios  release date the coolest iphone upg...   \n",
       "7   apple imessage soundly beaten as surprise new ...   \n",
       "8   apple loop apples iphone  problem stunning ipa...   \n",
       "9   apple iphone watch product design head to leav...   \n",
       "10  apple iphone watch product design head to leav...   \n",
       "11  apples latest moves in india underscore data s...   \n",
       "12  noone cares which bank provides their apple ca...   \n",
       "13  apple wants to make in iphones in india as tat...   \n",
       "14  apple reportedly plans major expansion of ipho...   \n",
       "15  apple reportedly plans major expansion of ipho...   \n",
       "16  apple adds namedroplike passsharing feature to...   \n",
       "17  apple ipad  allnew bigscreen model coming in w...   \n",
       "18  new apple leak hints at early macbook air upgr...   \n",
       "19  apple planning new ipads and macs amid drop in...   \n",
       "\n",
       "                                       Counting_Words  \\\n",
       "0   {'iphone': 12, 'and': 12, 'pro': 1, 'to': 17, ...   \n",
       "1   {'apple': 17, 'leak': 1, 'confirms': 1, 'surpr...   \n",
       "2   {'forget': 1, 'the': 71, 'new': 3, 'macbook': ...   \n",
       "3   {'apples': 5, 'competency': 2, 'at': 4, 'its':...   \n",
       "4   {'forget': 1, 'the': 71, 'new': 3, 'macbook': ...   \n",
       "5   {'apple': 17, 'leak': 1, 'confirms': 1, 'surpr...   \n",
       "6   {'apple': 5, 'ios': 7, 'release': 2, 'date': 1...   \n",
       "7   {'apple': 18, 'imessage': 13, 'soundly': 1, 'b...   \n",
       "8   {'apple': 27, 'loop': 5, 'apples': 8, 'iphone'...   \n",
       "9   {'apple': 5, 'iphone': 2, 'watch': 2, 'product...   \n",
       "10  {'apple': 5, 'iphone': 2, 'watch': 2, 'product...   \n",
       "11  {'apples': 2, 'latest': 3, 'moves': 2, 'in': 9...   \n",
       "12  {'noone': 1, 'cares': 1, 'which': 5, 'bank': 7...   \n",
       "13  {'apple': 11, 'wants': 3, 'to': 23, 'make': 3,...   \n",
       "14  {'apple': 6, 'reportedly': 2, 'plans': 3, 'maj...   \n",
       "15  {'apple': 6, 'reportedly': 2, 'plans': 3, 'maj...   \n",
       "16  {'apple': 2, 'adds': 1, 'namedroplike': 1, 'pa...   \n",
       "17  {'apple': 8, 'ipad': 13, 'allnew': 1, 'bigscre...   \n",
       "18  {'new': 6, 'apple': 10, 'leak': 1, 'hints': 1,...   \n",
       "19  {'apple': 13, 'planning': 1, 'new': 5, 'ipads'...   \n",
       "\n",
       "                                     Most_common_text  \n",
       "0   {'the': 23, 'to': 17, 'a': 15, 'iphone': 12, '...  \n",
       "1   {'the': 62, 'of': 28, 'iphone': 21, 'to': 21, ...  \n",
       "2   {'the': 71, 'macbook': 35, 'm': 28, 'pro': 22,...  \n",
       "3   {'to': 22, 'a': 20, 'and': 16, 'the': 15, 'of'...  \n",
       "4   {'the': 71, 'macbook': 35, 'm': 28, 'pro': 22,...  \n",
       "5   {'the': 62, 'of': 28, 'iphone': 21, 'to': 21, ...  \n",
       "6   {'the': 25, 'and': 23, 'to': 21, 'iphone': 17,...  \n",
       "7   {'the': 49, 'to': 46, 'that': 26, 'a': 26, 'an...  \n",
       "8   {'the': 61, 'a': 32, 'apple': 27, 'to': 26, 'a...  \n",
       "9   {'the': 10, 'and': 7, 'apple': 5, 'for': 5, 'o...  \n",
       "10  {'the': 9, 'and': 7, 'of': 6, 'apple': 5, 'to'...  \n",
       "11  {'best': 119, 'credit': 86, 'for': 55, 'loans'...  \n",
       "12  {'the': 46, 'to': 32, 'and': 28, 'a': 20, 'tha...  \n",
       "13  {'the': 27, 'to': 23, 'in': 16, 'of': 15, 'ind...  \n",
       "14  {'a': 13, 'to': 12, 'the': 12, 'in': 11, 'indi...  \n",
       "15  {'the': 13, 'in': 12, 'to': 11, 'a': 10, 'indi...  \n",
       "16  {'the': 22, 'to': 21, 'and': 10, 'feature': 7,...  \n",
       "17  {'the': 33, 'ipad': 13, 'to': 13, 'and': 13, '...  \n",
       "18  {'the': 33, 'macbook': 15, 'and': 13, 'to': 12...  \n",
       "19  {'the': 24, 'apple': 13, 'in': 13, 'and': 9, '...  "
      ]
     },
     "execution_count": 55,
     "metadata": {},
     "output_type": "execute_result"
    }
   ],
   "source": [
    "df_content['Counting_Words']=df_content['Content_cleaned'].apply(count_common_words)\n",
    "df_content['Most_common_text']=df_content['Counting_Words'].apply(most_common_words)\n",
    "\n",
    "df_content"
   ]
  },
  {
   "cell_type": "code",
   "execution_count": 61,
   "metadata": {},
   "outputs": [
    {
     "data": {
      "application/vnd.plotly.v1+json": {
       "config": {
        "plotlyServerURL": "https://plot.ly"
       },
       "data": [
        {
         "alignmentgroup": "True",
         "hovertemplate": "Mots=%{x}<br>Fréquences=%{y}<extra></extra>",
         "legendgroup": "",
         "marker": {
          "color": "#636efa",
          "pattern": {
           "shape": ""
          }
         },
         "name": "",
         "offsetgroup": "",
         "orientation": "v",
         "showlegend": false,
         "textposition": "auto",
         "type": "bar",
         "x": [
          "the",
          "to",
          "and",
          "a",
          "of",
          "apple",
          "in",
          "for",
          "is",
          "best"
         ],
         "xaxis": "x",
         "y": [
          691,
          366,
          285,
          253,
          229,
          203,
          189,
          177,
          162,
          128
         ],
         "yaxis": "y"
        }
       ],
       "layout": {
        "barmode": "relative",
        "legend": {
         "tracegroupgap": 0
        },
        "template": {
         "data": {
          "bar": [
           {
            "error_x": {
             "color": "#2a3f5f"
            },
            "error_y": {
             "color": "#2a3f5f"
            },
            "marker": {
             "line": {
              "color": "#E5ECF6",
              "width": 0.5
             },
             "pattern": {
              "fillmode": "overlay",
              "size": 10,
              "solidity": 0.2
             }
            },
            "type": "bar"
           }
          ],
          "barpolar": [
           {
            "marker": {
             "line": {
              "color": "#E5ECF6",
              "width": 0.5
             },
             "pattern": {
              "fillmode": "overlay",
              "size": 10,
              "solidity": 0.2
             }
            },
            "type": "barpolar"
           }
          ],
          "carpet": [
           {
            "aaxis": {
             "endlinecolor": "#2a3f5f",
             "gridcolor": "white",
             "linecolor": "white",
             "minorgridcolor": "white",
             "startlinecolor": "#2a3f5f"
            },
            "baxis": {
             "endlinecolor": "#2a3f5f",
             "gridcolor": "white",
             "linecolor": "white",
             "minorgridcolor": "white",
             "startlinecolor": "#2a3f5f"
            },
            "type": "carpet"
           }
          ],
          "choropleth": [
           {
            "colorbar": {
             "outlinewidth": 0,
             "ticks": ""
            },
            "type": "choropleth"
           }
          ],
          "contour": [
           {
            "colorbar": {
             "outlinewidth": 0,
             "ticks": ""
            },
            "colorscale": [
             [
              0,
              "#0d0887"
             ],
             [
              0.1111111111111111,
              "#46039f"
             ],
             [
              0.2222222222222222,
              "#7201a8"
             ],
             [
              0.3333333333333333,
              "#9c179e"
             ],
             [
              0.4444444444444444,
              "#bd3786"
             ],
             [
              0.5555555555555556,
              "#d8576b"
             ],
             [
              0.6666666666666666,
              "#ed7953"
             ],
             [
              0.7777777777777778,
              "#fb9f3a"
             ],
             [
              0.8888888888888888,
              "#fdca26"
             ],
             [
              1,
              "#f0f921"
             ]
            ],
            "type": "contour"
           }
          ],
          "contourcarpet": [
           {
            "colorbar": {
             "outlinewidth": 0,
             "ticks": ""
            },
            "type": "contourcarpet"
           }
          ],
          "heatmap": [
           {
            "colorbar": {
             "outlinewidth": 0,
             "ticks": ""
            },
            "colorscale": [
             [
              0,
              "#0d0887"
             ],
             [
              0.1111111111111111,
              "#46039f"
             ],
             [
              0.2222222222222222,
              "#7201a8"
             ],
             [
              0.3333333333333333,
              "#9c179e"
             ],
             [
              0.4444444444444444,
              "#bd3786"
             ],
             [
              0.5555555555555556,
              "#d8576b"
             ],
             [
              0.6666666666666666,
              "#ed7953"
             ],
             [
              0.7777777777777778,
              "#fb9f3a"
             ],
             [
              0.8888888888888888,
              "#fdca26"
             ],
             [
              1,
              "#f0f921"
             ]
            ],
            "type": "heatmap"
           }
          ],
          "heatmapgl": [
           {
            "colorbar": {
             "outlinewidth": 0,
             "ticks": ""
            },
            "colorscale": [
             [
              0,
              "#0d0887"
             ],
             [
              0.1111111111111111,
              "#46039f"
             ],
             [
              0.2222222222222222,
              "#7201a8"
             ],
             [
              0.3333333333333333,
              "#9c179e"
             ],
             [
              0.4444444444444444,
              "#bd3786"
             ],
             [
              0.5555555555555556,
              "#d8576b"
             ],
             [
              0.6666666666666666,
              "#ed7953"
             ],
             [
              0.7777777777777778,
              "#fb9f3a"
             ],
             [
              0.8888888888888888,
              "#fdca26"
             ],
             [
              1,
              "#f0f921"
             ]
            ],
            "type": "heatmapgl"
           }
          ],
          "histogram": [
           {
            "marker": {
             "pattern": {
              "fillmode": "overlay",
              "size": 10,
              "solidity": 0.2
             }
            },
            "type": "histogram"
           }
          ],
          "histogram2d": [
           {
            "colorbar": {
             "outlinewidth": 0,
             "ticks": ""
            },
            "colorscale": [
             [
              0,
              "#0d0887"
             ],
             [
              0.1111111111111111,
              "#46039f"
             ],
             [
              0.2222222222222222,
              "#7201a8"
             ],
             [
              0.3333333333333333,
              "#9c179e"
             ],
             [
              0.4444444444444444,
              "#bd3786"
             ],
             [
              0.5555555555555556,
              "#d8576b"
             ],
             [
              0.6666666666666666,
              "#ed7953"
             ],
             [
              0.7777777777777778,
              "#fb9f3a"
             ],
             [
              0.8888888888888888,
              "#fdca26"
             ],
             [
              1,
              "#f0f921"
             ]
            ],
            "type": "histogram2d"
           }
          ],
          "histogram2dcontour": [
           {
            "colorbar": {
             "outlinewidth": 0,
             "ticks": ""
            },
            "colorscale": [
             [
              0,
              "#0d0887"
             ],
             [
              0.1111111111111111,
              "#46039f"
             ],
             [
              0.2222222222222222,
              "#7201a8"
             ],
             [
              0.3333333333333333,
              "#9c179e"
             ],
             [
              0.4444444444444444,
              "#bd3786"
             ],
             [
              0.5555555555555556,
              "#d8576b"
             ],
             [
              0.6666666666666666,
              "#ed7953"
             ],
             [
              0.7777777777777778,
              "#fb9f3a"
             ],
             [
              0.8888888888888888,
              "#fdca26"
             ],
             [
              1,
              "#f0f921"
             ]
            ],
            "type": "histogram2dcontour"
           }
          ],
          "mesh3d": [
           {
            "colorbar": {
             "outlinewidth": 0,
             "ticks": ""
            },
            "type": "mesh3d"
           }
          ],
          "parcoords": [
           {
            "line": {
             "colorbar": {
              "outlinewidth": 0,
              "ticks": ""
             }
            },
            "type": "parcoords"
           }
          ],
          "pie": [
           {
            "automargin": true,
            "type": "pie"
           }
          ],
          "scatter": [
           {
            "fillpattern": {
             "fillmode": "overlay",
             "size": 10,
             "solidity": 0.2
            },
            "type": "scatter"
           }
          ],
          "scatter3d": [
           {
            "line": {
             "colorbar": {
              "outlinewidth": 0,
              "ticks": ""
             }
            },
            "marker": {
             "colorbar": {
              "outlinewidth": 0,
              "ticks": ""
             }
            },
            "type": "scatter3d"
           }
          ],
          "scattercarpet": [
           {
            "marker": {
             "colorbar": {
              "outlinewidth": 0,
              "ticks": ""
             }
            },
            "type": "scattercarpet"
           }
          ],
          "scattergeo": [
           {
            "marker": {
             "colorbar": {
              "outlinewidth": 0,
              "ticks": ""
             }
            },
            "type": "scattergeo"
           }
          ],
          "scattergl": [
           {
            "marker": {
             "colorbar": {
              "outlinewidth": 0,
              "ticks": ""
             }
            },
            "type": "scattergl"
           }
          ],
          "scattermapbox": [
           {
            "marker": {
             "colorbar": {
              "outlinewidth": 0,
              "ticks": ""
             }
            },
            "type": "scattermapbox"
           }
          ],
          "scatterpolar": [
           {
            "marker": {
             "colorbar": {
              "outlinewidth": 0,
              "ticks": ""
             }
            },
            "type": "scatterpolar"
           }
          ],
          "scatterpolargl": [
           {
            "marker": {
             "colorbar": {
              "outlinewidth": 0,
              "ticks": ""
             }
            },
            "type": "scatterpolargl"
           }
          ],
          "scatterternary": [
           {
            "marker": {
             "colorbar": {
              "outlinewidth": 0,
              "ticks": ""
             }
            },
            "type": "scatterternary"
           }
          ],
          "surface": [
           {
            "colorbar": {
             "outlinewidth": 0,
             "ticks": ""
            },
            "colorscale": [
             [
              0,
              "#0d0887"
             ],
             [
              0.1111111111111111,
              "#46039f"
             ],
             [
              0.2222222222222222,
              "#7201a8"
             ],
             [
              0.3333333333333333,
              "#9c179e"
             ],
             [
              0.4444444444444444,
              "#bd3786"
             ],
             [
              0.5555555555555556,
              "#d8576b"
             ],
             [
              0.6666666666666666,
              "#ed7953"
             ],
             [
              0.7777777777777778,
              "#fb9f3a"
             ],
             [
              0.8888888888888888,
              "#fdca26"
             ],
             [
              1,
              "#f0f921"
             ]
            ],
            "type": "surface"
           }
          ],
          "table": [
           {
            "cells": {
             "fill": {
              "color": "#EBF0F8"
             },
             "line": {
              "color": "white"
             }
            },
            "header": {
             "fill": {
              "color": "#C8D4E3"
             },
             "line": {
              "color": "white"
             }
            },
            "type": "table"
           }
          ]
         },
         "layout": {
          "annotationdefaults": {
           "arrowcolor": "#2a3f5f",
           "arrowhead": 0,
           "arrowwidth": 1
          },
          "autotypenumbers": "strict",
          "coloraxis": {
           "colorbar": {
            "outlinewidth": 0,
            "ticks": ""
           }
          },
          "colorscale": {
           "diverging": [
            [
             0,
             "#8e0152"
            ],
            [
             0.1,
             "#c51b7d"
            ],
            [
             0.2,
             "#de77ae"
            ],
            [
             0.3,
             "#f1b6da"
            ],
            [
             0.4,
             "#fde0ef"
            ],
            [
             0.5,
             "#f7f7f7"
            ],
            [
             0.6,
             "#e6f5d0"
            ],
            [
             0.7,
             "#b8e186"
            ],
            [
             0.8,
             "#7fbc41"
            ],
            [
             0.9,
             "#4d9221"
            ],
            [
             1,
             "#276419"
            ]
           ],
           "sequential": [
            [
             0,
             "#0d0887"
            ],
            [
             0.1111111111111111,
             "#46039f"
            ],
            [
             0.2222222222222222,
             "#7201a8"
            ],
            [
             0.3333333333333333,
             "#9c179e"
            ],
            [
             0.4444444444444444,
             "#bd3786"
            ],
            [
             0.5555555555555556,
             "#d8576b"
            ],
            [
             0.6666666666666666,
             "#ed7953"
            ],
            [
             0.7777777777777778,
             "#fb9f3a"
            ],
            [
             0.8888888888888888,
             "#fdca26"
            ],
            [
             1,
             "#f0f921"
            ]
           ],
           "sequentialminus": [
            [
             0,
             "#0d0887"
            ],
            [
             0.1111111111111111,
             "#46039f"
            ],
            [
             0.2222222222222222,
             "#7201a8"
            ],
            [
             0.3333333333333333,
             "#9c179e"
            ],
            [
             0.4444444444444444,
             "#bd3786"
            ],
            [
             0.5555555555555556,
             "#d8576b"
            ],
            [
             0.6666666666666666,
             "#ed7953"
            ],
            [
             0.7777777777777778,
             "#fb9f3a"
            ],
            [
             0.8888888888888888,
             "#fdca26"
            ],
            [
             1,
             "#f0f921"
            ]
           ]
          },
          "colorway": [
           "#636efa",
           "#EF553B",
           "#00cc96",
           "#ab63fa",
           "#FFA15A",
           "#19d3f3",
           "#FF6692",
           "#B6E880",
           "#FF97FF",
           "#FECB52"
          ],
          "font": {
           "color": "#2a3f5f"
          },
          "geo": {
           "bgcolor": "white",
           "lakecolor": "white",
           "landcolor": "#E5ECF6",
           "showlakes": true,
           "showland": true,
           "subunitcolor": "white"
          },
          "hoverlabel": {
           "align": "left"
          },
          "hovermode": "closest",
          "mapbox": {
           "style": "light"
          },
          "paper_bgcolor": "white",
          "plot_bgcolor": "#E5ECF6",
          "polar": {
           "angularaxis": {
            "gridcolor": "white",
            "linecolor": "white",
            "ticks": ""
           },
           "bgcolor": "#E5ECF6",
           "radialaxis": {
            "gridcolor": "white",
            "linecolor": "white",
            "ticks": ""
           }
          },
          "scene": {
           "xaxis": {
            "backgroundcolor": "#E5ECF6",
            "gridcolor": "white",
            "gridwidth": 2,
            "linecolor": "white",
            "showbackground": true,
            "ticks": "",
            "zerolinecolor": "white"
           },
           "yaxis": {
            "backgroundcolor": "#E5ECF6",
            "gridcolor": "white",
            "gridwidth": 2,
            "linecolor": "white",
            "showbackground": true,
            "ticks": "",
            "zerolinecolor": "white"
           },
           "zaxis": {
            "backgroundcolor": "#E5ECF6",
            "gridcolor": "white",
            "gridwidth": 2,
            "linecolor": "white",
            "showbackground": true,
            "ticks": "",
            "zerolinecolor": "white"
           }
          },
          "shapedefaults": {
           "line": {
            "color": "#2a3f5f"
           }
          },
          "ternary": {
           "aaxis": {
            "gridcolor": "white",
            "linecolor": "white",
            "ticks": ""
           },
           "baxis": {
            "gridcolor": "white",
            "linecolor": "white",
            "ticks": ""
           },
           "bgcolor": "#E5ECF6",
           "caxis": {
            "gridcolor": "white",
            "linecolor": "white",
            "ticks": ""
           }
          },
          "title": {
           "x": 0.05
          },
          "xaxis": {
           "automargin": true,
           "gridcolor": "white",
           "linecolor": "white",
           "ticks": "",
           "title": {
            "standoff": 15
           },
           "zerolinecolor": "white",
           "zerolinewidth": 2
          },
          "yaxis": {
           "automargin": true,
           "gridcolor": "white",
           "linecolor": "white",
           "ticks": "",
           "title": {
            "standoff": 15
           },
           "zerolinecolor": "white",
           "zerolinewidth": 2
          }
         }
        },
        "title": {
         "text": "Top 10 des mots les plus fréquents dans les contenus d'articles récupérés"
        },
        "xaxis": {
         "anchor": "y",
         "domain": [
          0,
          1
         ],
         "title": {
          "text": "Mots"
         }
        },
        "yaxis": {
         "anchor": "x",
         "domain": [
          0,
          1
         ],
         "title": {
          "text": "Fréquences"
         }
        }
       }
      }
     },
     "metadata": {},
     "output_type": "display_data"
    }
   ],
   "source": [
    "combined_dict_content=combine_dictionaries(df_content,'Most_common_text')\n",
    "sorted_content_dictionary=sorted(combined_dict_content.items(), key= lambda item:item[1], reverse=True)[:10]\n",
    "\n",
    "keys=[key for key, value in sorted_content_dictionary]\n",
    "values=[value for key, value in sorted_content_dictionary]\n",
    "\n",
    "fig = px.bar(x=keys, y=values, title=\"Top 10 des mots les plus fréquents dans les contenus d'articles récupérés\", labels={'x':'Mots', 'y':'Fréquences'})\n",
    "fig.show()"
   ]
  },
  {
   "cell_type": "markdown",
   "metadata": {},
   "source": [
    "On voit clairement l'omniprésence des stopwords ici. Nous allons donc les supprimer"
   ]
  },
  {
   "cell_type": "code",
   "execution_count": 59,
   "metadata": {},
   "outputs": [
    {
     "data": {
      "text/html": [
       "<div>\n",
       "<style scoped>\n",
       "    .dataframe tbody tr th:only-of-type {\n",
       "        vertical-align: middle;\n",
       "    }\n",
       "\n",
       "    .dataframe tbody tr th {\n",
       "        vertical-align: top;\n",
       "    }\n",
       "\n",
       "    .dataframe thead th {\n",
       "        text-align: right;\n",
       "    }\n",
       "</style>\n",
       "<table border=\"1\" class=\"dataframe\">\n",
       "  <thead>\n",
       "    <tr style=\"text-align: right;\">\n",
       "      <th></th>\n",
       "      <th>Titre</th>\n",
       "      <th>URL</th>\n",
       "      <th>Date de publication</th>\n",
       "      <th>Description</th>\n",
       "      <th>Source</th>\n",
       "      <th>Contenu</th>\n",
       "      <th>Title_length</th>\n",
       "      <th>Description_length</th>\n",
       "      <th>Content_length</th>\n",
       "      <th>Cleaned_html_content</th>\n",
       "      <th>Content_cleaned</th>\n",
       "      <th>Counting_Words</th>\n",
       "      <th>Most_common_text</th>\n",
       "      <th>Content_cleaned_from_stopwords</th>\n",
       "    </tr>\n",
       "  </thead>\n",
       "  <tbody>\n",
       "    <tr>\n",
       "      <th>0</th>\n",
       "      <td>iPhone 16 And iPhone 16 Pro To Upgrade Importa...</td>\n",
       "      <td>https://www.forbes.com/sites/davidphelan/2023/...</td>\n",
       "      <td>2023-12-11 00:00:01+00:00</td>\n",
       "      <td>Next year’s iPhones will have an improved hard...</td>\n",
       "      <td>Forbes</td>\n",
       "      <td>&lt;!DOCTYPE html&gt;&lt;html lang=\"en\"&gt;&lt;head&gt;&lt;link rel...</td>\n",
       "      <td>13</td>\n",
       "      <td>18</td>\n",
       "      <td>12963</td>\n",
       "      <td>iPhone 16 And iPhone 16 Pro To Upgrade Importa...</td>\n",
       "      <td>iphone  and iphone  pro to upgrade important a...</td>\n",
       "      <td>{'iphone': 12, 'and': 12, 'pro': 1, 'to': 17, ...</td>\n",
       "      <td>{'the': 23, 'to': 17, 'a': 15, 'iphone': 12, '...</td>\n",
       "      <td>iphone iphone pro upgrade important apple spec...</td>\n",
       "    </tr>\n",
       "    <tr>\n",
       "      <th>1</th>\n",
       "      <td>Apple Leak Confirms Surprise iPhone 16 Pro Upg...</td>\n",
       "      <td>https://www.forbes.com/sites/ewanspence/2023/1...</td>\n",
       "      <td>2023-12-10 21:42:30+00:00</td>\n",
       "      <td>iPhone 16 Pro models will be the first to bene...</td>\n",
       "      <td>Forbes</td>\n",
       "      <td>&lt;!DOCTYPE html&gt;&lt;html lang=\"en\"&gt;&lt;head&gt;&lt;link rel...</td>\n",
       "      <td>8</td>\n",
       "      <td>21</td>\n",
       "      <td>12760</td>\n",
       "      <td>Apple Leak Confirms Surprise iPhone 16 Pro Upg...</td>\n",
       "      <td>apple leak confirms surprise iphone  pro upgra...</td>\n",
       "      <td>{'apple': 17, 'leak': 1, 'confirms': 1, 'surpr...</td>\n",
       "      <td>{'the': 62, 'of': 28, 'iphone': 21, 'to': 21, ...</td>\n",
       "      <td>apple leak confirms surprise iphone pro upgrad...</td>\n",
       "    </tr>\n",
       "    <tr>\n",
       "      <th>2</th>\n",
       "      <td>Forget The New MacBook Pro, Apple Has Somethin...</td>\n",
       "      <td>https://www.forbes.com/sites/ewanspence/2023/1...</td>\n",
       "      <td>2023-12-10 19:17:56+00:00</td>\n",
       "      <td>Apple’s awkward MacBook Pro may look attractiv...</td>\n",
       "      <td>Forbes</td>\n",
       "      <td>&lt;!DOCTYPE html&gt;&lt;html lang=\"en\"&gt;&lt;head&gt;&lt;link rel...</td>\n",
       "      <td>10</td>\n",
       "      <td>17</td>\n",
       "      <td>12981</td>\n",
       "      <td>Forget The New MacBook Pro, Apple Has Somethin...</td>\n",
       "      <td>forget the new macbook pro apple has something...</td>\n",
       "      <td>{'forget': 1, 'the': 71, 'new': 3, 'macbook': ...</td>\n",
       "      <td>{'the': 71, 'macbook': 35, 'm': 28, 'pro': 22,...</td>\n",
       "      <td>forget new macbook pro apple something much be...</td>\n",
       "    </tr>\n",
       "    <tr>\n",
       "      <th>3</th>\n",
       "      <td>Apple's Competency At Its Core</td>\n",
       "      <td>https://www.forbes.com/sites/gregpetro/2023/12...</td>\n",
       "      <td>2023-12-10 18:37:42+00:00</td>\n",
       "      <td>Examining Apple's triumph in innovation and ma...</td>\n",
       "      <td>Forbes</td>\n",
       "      <td>&lt;!DOCTYPE html&gt;&lt;html lang=\"en\"&gt;&lt;head&gt;&lt;link rel...</td>\n",
       "      <td>5</td>\n",
       "      <td>20</td>\n",
       "      <td>12147</td>\n",
       "      <td>Apple's Competency At Its Core Apple's Compete...</td>\n",
       "      <td>apples competency at its core apples competenc...</td>\n",
       "      <td>{'apples': 5, 'competency': 2, 'at': 4, 'its':...</td>\n",
       "      <td>{'to': 22, 'a': 20, 'and': 16, 'the': 15, 'of'...</td>\n",
       "      <td>apples competency core apples competency core ...</td>\n",
       "    </tr>\n",
       "    <tr>\n",
       "      <th>4</th>\n",
       "      <td>Forget The New MacBook Pro, Apple Has Somethin...</td>\n",
       "      <td>https://www.forbes.com/sites/ewanspence/2023/1...</td>\n",
       "      <td>2023-12-09 20:30:22+00:00</td>\n",
       "      <td>Apple’s awkward MacBook Pro may look attractiv...</td>\n",
       "      <td>Forbes</td>\n",
       "      <td>&lt;!DOCTYPE html&gt;&lt;html lang=\"en\"&gt;&lt;head&gt;&lt;link rel...</td>\n",
       "      <td>10</td>\n",
       "      <td>17</td>\n",
       "      <td>12981</td>\n",
       "      <td>Forget The New MacBook Pro, Apple Has Somethin...</td>\n",
       "      <td>forget the new macbook pro apple has something...</td>\n",
       "      <td>{'forget': 1, 'the': 71, 'new': 3, 'macbook': ...</td>\n",
       "      <td>{'the': 71, 'macbook': 35, 'm': 28, 'pro': 22,...</td>\n",
       "      <td>forget new macbook pro apple something much be...</td>\n",
       "    </tr>\n",
       "  </tbody>\n",
       "</table>\n",
       "</div>"
      ],
      "text/plain": [
       "                                               Titre  \\\n",
       "0  iPhone 16 And iPhone 16 Pro To Upgrade Importa...   \n",
       "1  Apple Leak Confirms Surprise iPhone 16 Pro Upg...   \n",
       "2  Forget The New MacBook Pro, Apple Has Somethin...   \n",
       "3                     Apple's Competency At Its Core   \n",
       "4  Forget The New MacBook Pro, Apple Has Somethin...   \n",
       "\n",
       "                                                 URL  \\\n",
       "0  https://www.forbes.com/sites/davidphelan/2023/...   \n",
       "1  https://www.forbes.com/sites/ewanspence/2023/1...   \n",
       "2  https://www.forbes.com/sites/ewanspence/2023/1...   \n",
       "3  https://www.forbes.com/sites/gregpetro/2023/12...   \n",
       "4  https://www.forbes.com/sites/ewanspence/2023/1...   \n",
       "\n",
       "        Date de publication  \\\n",
       "0 2023-12-11 00:00:01+00:00   \n",
       "1 2023-12-10 21:42:30+00:00   \n",
       "2 2023-12-10 19:17:56+00:00   \n",
       "3 2023-12-10 18:37:42+00:00   \n",
       "4 2023-12-09 20:30:22+00:00   \n",
       "\n",
       "                                         Description  Source  \\\n",
       "0  Next year’s iPhones will have an improved hard...  Forbes   \n",
       "1  iPhone 16 Pro models will be the first to bene...  Forbes   \n",
       "2  Apple’s awkward MacBook Pro may look attractiv...  Forbes   \n",
       "3  Examining Apple's triumph in innovation and ma...  Forbes   \n",
       "4  Apple’s awkward MacBook Pro may look attractiv...  Forbes   \n",
       "\n",
       "                                             Contenu  Title_length  \\\n",
       "0  <!DOCTYPE html><html lang=\"en\"><head><link rel...            13   \n",
       "1  <!DOCTYPE html><html lang=\"en\"><head><link rel...             8   \n",
       "2  <!DOCTYPE html><html lang=\"en\"><head><link rel...            10   \n",
       "3  <!DOCTYPE html><html lang=\"en\"><head><link rel...             5   \n",
       "4  <!DOCTYPE html><html lang=\"en\"><head><link rel...            10   \n",
       "\n",
       "   Description_length  Content_length  \\\n",
       "0                  18           12963   \n",
       "1                  21           12760   \n",
       "2                  17           12981   \n",
       "3                  20           12147   \n",
       "4                  17           12981   \n",
       "\n",
       "                                Cleaned_html_content  \\\n",
       "0  iPhone 16 And iPhone 16 Pro To Upgrade Importa...   \n",
       "1  Apple Leak Confirms Surprise iPhone 16 Pro Upg...   \n",
       "2  Forget The New MacBook Pro, Apple Has Somethin...   \n",
       "3  Apple's Competency At Its Core Apple's Compete...   \n",
       "4  Forget The New MacBook Pro, Apple Has Somethin...   \n",
       "\n",
       "                                     Content_cleaned  \\\n",
       "0  iphone  and iphone  pro to upgrade important a...   \n",
       "1  apple leak confirms surprise iphone  pro upgra...   \n",
       "2  forget the new macbook pro apple has something...   \n",
       "3  apples competency at its core apples competenc...   \n",
       "4  forget the new macbook pro apple has something...   \n",
       "\n",
       "                                      Counting_Words  \\\n",
       "0  {'iphone': 12, 'and': 12, 'pro': 1, 'to': 17, ...   \n",
       "1  {'apple': 17, 'leak': 1, 'confirms': 1, 'surpr...   \n",
       "2  {'forget': 1, 'the': 71, 'new': 3, 'macbook': ...   \n",
       "3  {'apples': 5, 'competency': 2, 'at': 4, 'its':...   \n",
       "4  {'forget': 1, 'the': 71, 'new': 3, 'macbook': ...   \n",
       "\n",
       "                                    Most_common_text  \\\n",
       "0  {'the': 23, 'to': 17, 'a': 15, 'iphone': 12, '...   \n",
       "1  {'the': 62, 'of': 28, 'iphone': 21, 'to': 21, ...   \n",
       "2  {'the': 71, 'macbook': 35, 'm': 28, 'pro': 22,...   \n",
       "3  {'to': 22, 'a': 20, 'and': 16, 'the': 15, 'of'...   \n",
       "4  {'the': 71, 'macbook': 35, 'm': 28, 'pro': 22,...   \n",
       "\n",
       "                      Content_cleaned_from_stopwords  \n",
       "0  iphone iphone pro upgrade important apple spec...  \n",
       "1  apple leak confirms surprise iphone pro upgrad...  \n",
       "2  forget new macbook pro apple something much be...  \n",
       "3  apples competency core apples competency core ...  \n",
       "4  forget new macbook pro apple something much be...  "
      ]
     },
     "execution_count": 59,
     "metadata": {},
     "output_type": "execute_result"
    }
   ],
   "source": [
    "df_content['Content_cleaned_from_stopwords']=df_content['Content_cleaned'].apply(clean_stopwords)\n",
    "df_content.head()"
   ]
  },
  {
   "cell_type": "code",
   "execution_count": 62,
   "metadata": {},
   "outputs": [
    {
     "data": {
      "application/vnd.plotly.v1+json": {
       "config": {
        "plotlyServerURL": "https://plot.ly"
       },
       "data": [
        {
         "alignmentgroup": "True",
         "hovertemplate": "Mots=%{x}<br>Fréquences=%{y}<extra></extra>",
         "legendgroup": "",
         "marker": {
          "color": "#636efa",
          "pattern": {
           "shape": ""
          }
         },
         "name": "",
         "offsetgroup": "",
         "orientation": "v",
         "showlegend": false,
         "textposition": "auto",
         "type": "bar",
         "x": [
          "apple",
          "best",
          "iphone",
          "pro",
          "macbook",
          "credit",
          "new",
          "air",
          "apples",
          "ipad"
         ],
         "xaxis": "x",
         "y": [
          203,
          128,
          120,
          108,
          102,
          92,
          65,
          57,
          54,
          47
         ],
         "yaxis": "y"
        }
       ],
       "layout": {
        "barmode": "relative",
        "legend": {
         "tracegroupgap": 0
        },
        "template": {
         "data": {
          "bar": [
           {
            "error_x": {
             "color": "#2a3f5f"
            },
            "error_y": {
             "color": "#2a3f5f"
            },
            "marker": {
             "line": {
              "color": "#E5ECF6",
              "width": 0.5
             },
             "pattern": {
              "fillmode": "overlay",
              "size": 10,
              "solidity": 0.2
             }
            },
            "type": "bar"
           }
          ],
          "barpolar": [
           {
            "marker": {
             "line": {
              "color": "#E5ECF6",
              "width": 0.5
             },
             "pattern": {
              "fillmode": "overlay",
              "size": 10,
              "solidity": 0.2
             }
            },
            "type": "barpolar"
           }
          ],
          "carpet": [
           {
            "aaxis": {
             "endlinecolor": "#2a3f5f",
             "gridcolor": "white",
             "linecolor": "white",
             "minorgridcolor": "white",
             "startlinecolor": "#2a3f5f"
            },
            "baxis": {
             "endlinecolor": "#2a3f5f",
             "gridcolor": "white",
             "linecolor": "white",
             "minorgridcolor": "white",
             "startlinecolor": "#2a3f5f"
            },
            "type": "carpet"
           }
          ],
          "choropleth": [
           {
            "colorbar": {
             "outlinewidth": 0,
             "ticks": ""
            },
            "type": "choropleth"
           }
          ],
          "contour": [
           {
            "colorbar": {
             "outlinewidth": 0,
             "ticks": ""
            },
            "colorscale": [
             [
              0,
              "#0d0887"
             ],
             [
              0.1111111111111111,
              "#46039f"
             ],
             [
              0.2222222222222222,
              "#7201a8"
             ],
             [
              0.3333333333333333,
              "#9c179e"
             ],
             [
              0.4444444444444444,
              "#bd3786"
             ],
             [
              0.5555555555555556,
              "#d8576b"
             ],
             [
              0.6666666666666666,
              "#ed7953"
             ],
             [
              0.7777777777777778,
              "#fb9f3a"
             ],
             [
              0.8888888888888888,
              "#fdca26"
             ],
             [
              1,
              "#f0f921"
             ]
            ],
            "type": "contour"
           }
          ],
          "contourcarpet": [
           {
            "colorbar": {
             "outlinewidth": 0,
             "ticks": ""
            },
            "type": "contourcarpet"
           }
          ],
          "heatmap": [
           {
            "colorbar": {
             "outlinewidth": 0,
             "ticks": ""
            },
            "colorscale": [
             [
              0,
              "#0d0887"
             ],
             [
              0.1111111111111111,
              "#46039f"
             ],
             [
              0.2222222222222222,
              "#7201a8"
             ],
             [
              0.3333333333333333,
              "#9c179e"
             ],
             [
              0.4444444444444444,
              "#bd3786"
             ],
             [
              0.5555555555555556,
              "#d8576b"
             ],
             [
              0.6666666666666666,
              "#ed7953"
             ],
             [
              0.7777777777777778,
              "#fb9f3a"
             ],
             [
              0.8888888888888888,
              "#fdca26"
             ],
             [
              1,
              "#f0f921"
             ]
            ],
            "type": "heatmap"
           }
          ],
          "heatmapgl": [
           {
            "colorbar": {
             "outlinewidth": 0,
             "ticks": ""
            },
            "colorscale": [
             [
              0,
              "#0d0887"
             ],
             [
              0.1111111111111111,
              "#46039f"
             ],
             [
              0.2222222222222222,
              "#7201a8"
             ],
             [
              0.3333333333333333,
              "#9c179e"
             ],
             [
              0.4444444444444444,
              "#bd3786"
             ],
             [
              0.5555555555555556,
              "#d8576b"
             ],
             [
              0.6666666666666666,
              "#ed7953"
             ],
             [
              0.7777777777777778,
              "#fb9f3a"
             ],
             [
              0.8888888888888888,
              "#fdca26"
             ],
             [
              1,
              "#f0f921"
             ]
            ],
            "type": "heatmapgl"
           }
          ],
          "histogram": [
           {
            "marker": {
             "pattern": {
              "fillmode": "overlay",
              "size": 10,
              "solidity": 0.2
             }
            },
            "type": "histogram"
           }
          ],
          "histogram2d": [
           {
            "colorbar": {
             "outlinewidth": 0,
             "ticks": ""
            },
            "colorscale": [
             [
              0,
              "#0d0887"
             ],
             [
              0.1111111111111111,
              "#46039f"
             ],
             [
              0.2222222222222222,
              "#7201a8"
             ],
             [
              0.3333333333333333,
              "#9c179e"
             ],
             [
              0.4444444444444444,
              "#bd3786"
             ],
             [
              0.5555555555555556,
              "#d8576b"
             ],
             [
              0.6666666666666666,
              "#ed7953"
             ],
             [
              0.7777777777777778,
              "#fb9f3a"
             ],
             [
              0.8888888888888888,
              "#fdca26"
             ],
             [
              1,
              "#f0f921"
             ]
            ],
            "type": "histogram2d"
           }
          ],
          "histogram2dcontour": [
           {
            "colorbar": {
             "outlinewidth": 0,
             "ticks": ""
            },
            "colorscale": [
             [
              0,
              "#0d0887"
             ],
             [
              0.1111111111111111,
              "#46039f"
             ],
             [
              0.2222222222222222,
              "#7201a8"
             ],
             [
              0.3333333333333333,
              "#9c179e"
             ],
             [
              0.4444444444444444,
              "#bd3786"
             ],
             [
              0.5555555555555556,
              "#d8576b"
             ],
             [
              0.6666666666666666,
              "#ed7953"
             ],
             [
              0.7777777777777778,
              "#fb9f3a"
             ],
             [
              0.8888888888888888,
              "#fdca26"
             ],
             [
              1,
              "#f0f921"
             ]
            ],
            "type": "histogram2dcontour"
           }
          ],
          "mesh3d": [
           {
            "colorbar": {
             "outlinewidth": 0,
             "ticks": ""
            },
            "type": "mesh3d"
           }
          ],
          "parcoords": [
           {
            "line": {
             "colorbar": {
              "outlinewidth": 0,
              "ticks": ""
             }
            },
            "type": "parcoords"
           }
          ],
          "pie": [
           {
            "automargin": true,
            "type": "pie"
           }
          ],
          "scatter": [
           {
            "fillpattern": {
             "fillmode": "overlay",
             "size": 10,
             "solidity": 0.2
            },
            "type": "scatter"
           }
          ],
          "scatter3d": [
           {
            "line": {
             "colorbar": {
              "outlinewidth": 0,
              "ticks": ""
             }
            },
            "marker": {
             "colorbar": {
              "outlinewidth": 0,
              "ticks": ""
             }
            },
            "type": "scatter3d"
           }
          ],
          "scattercarpet": [
           {
            "marker": {
             "colorbar": {
              "outlinewidth": 0,
              "ticks": ""
             }
            },
            "type": "scattercarpet"
           }
          ],
          "scattergeo": [
           {
            "marker": {
             "colorbar": {
              "outlinewidth": 0,
              "ticks": ""
             }
            },
            "type": "scattergeo"
           }
          ],
          "scattergl": [
           {
            "marker": {
             "colorbar": {
              "outlinewidth": 0,
              "ticks": ""
             }
            },
            "type": "scattergl"
           }
          ],
          "scattermapbox": [
           {
            "marker": {
             "colorbar": {
              "outlinewidth": 0,
              "ticks": ""
             }
            },
            "type": "scattermapbox"
           }
          ],
          "scatterpolar": [
           {
            "marker": {
             "colorbar": {
              "outlinewidth": 0,
              "ticks": ""
             }
            },
            "type": "scatterpolar"
           }
          ],
          "scatterpolargl": [
           {
            "marker": {
             "colorbar": {
              "outlinewidth": 0,
              "ticks": ""
             }
            },
            "type": "scatterpolargl"
           }
          ],
          "scatterternary": [
           {
            "marker": {
             "colorbar": {
              "outlinewidth": 0,
              "ticks": ""
             }
            },
            "type": "scatterternary"
           }
          ],
          "surface": [
           {
            "colorbar": {
             "outlinewidth": 0,
             "ticks": ""
            },
            "colorscale": [
             [
              0,
              "#0d0887"
             ],
             [
              0.1111111111111111,
              "#46039f"
             ],
             [
              0.2222222222222222,
              "#7201a8"
             ],
             [
              0.3333333333333333,
              "#9c179e"
             ],
             [
              0.4444444444444444,
              "#bd3786"
             ],
             [
              0.5555555555555556,
              "#d8576b"
             ],
             [
              0.6666666666666666,
              "#ed7953"
             ],
             [
              0.7777777777777778,
              "#fb9f3a"
             ],
             [
              0.8888888888888888,
              "#fdca26"
             ],
             [
              1,
              "#f0f921"
             ]
            ],
            "type": "surface"
           }
          ],
          "table": [
           {
            "cells": {
             "fill": {
              "color": "#EBF0F8"
             },
             "line": {
              "color": "white"
             }
            },
            "header": {
             "fill": {
              "color": "#C8D4E3"
             },
             "line": {
              "color": "white"
             }
            },
            "type": "table"
           }
          ]
         },
         "layout": {
          "annotationdefaults": {
           "arrowcolor": "#2a3f5f",
           "arrowhead": 0,
           "arrowwidth": 1
          },
          "autotypenumbers": "strict",
          "coloraxis": {
           "colorbar": {
            "outlinewidth": 0,
            "ticks": ""
           }
          },
          "colorscale": {
           "diverging": [
            [
             0,
             "#8e0152"
            ],
            [
             0.1,
             "#c51b7d"
            ],
            [
             0.2,
             "#de77ae"
            ],
            [
             0.3,
             "#f1b6da"
            ],
            [
             0.4,
             "#fde0ef"
            ],
            [
             0.5,
             "#f7f7f7"
            ],
            [
             0.6,
             "#e6f5d0"
            ],
            [
             0.7,
             "#b8e186"
            ],
            [
             0.8,
             "#7fbc41"
            ],
            [
             0.9,
             "#4d9221"
            ],
            [
             1,
             "#276419"
            ]
           ],
           "sequential": [
            [
             0,
             "#0d0887"
            ],
            [
             0.1111111111111111,
             "#46039f"
            ],
            [
             0.2222222222222222,
             "#7201a8"
            ],
            [
             0.3333333333333333,
             "#9c179e"
            ],
            [
             0.4444444444444444,
             "#bd3786"
            ],
            [
             0.5555555555555556,
             "#d8576b"
            ],
            [
             0.6666666666666666,
             "#ed7953"
            ],
            [
             0.7777777777777778,
             "#fb9f3a"
            ],
            [
             0.8888888888888888,
             "#fdca26"
            ],
            [
             1,
             "#f0f921"
            ]
           ],
           "sequentialminus": [
            [
             0,
             "#0d0887"
            ],
            [
             0.1111111111111111,
             "#46039f"
            ],
            [
             0.2222222222222222,
             "#7201a8"
            ],
            [
             0.3333333333333333,
             "#9c179e"
            ],
            [
             0.4444444444444444,
             "#bd3786"
            ],
            [
             0.5555555555555556,
             "#d8576b"
            ],
            [
             0.6666666666666666,
             "#ed7953"
            ],
            [
             0.7777777777777778,
             "#fb9f3a"
            ],
            [
             0.8888888888888888,
             "#fdca26"
            ],
            [
             1,
             "#f0f921"
            ]
           ]
          },
          "colorway": [
           "#636efa",
           "#EF553B",
           "#00cc96",
           "#ab63fa",
           "#FFA15A",
           "#19d3f3",
           "#FF6692",
           "#B6E880",
           "#FF97FF",
           "#FECB52"
          ],
          "font": {
           "color": "#2a3f5f"
          },
          "geo": {
           "bgcolor": "white",
           "lakecolor": "white",
           "landcolor": "#E5ECF6",
           "showlakes": true,
           "showland": true,
           "subunitcolor": "white"
          },
          "hoverlabel": {
           "align": "left"
          },
          "hovermode": "closest",
          "mapbox": {
           "style": "light"
          },
          "paper_bgcolor": "white",
          "plot_bgcolor": "#E5ECF6",
          "polar": {
           "angularaxis": {
            "gridcolor": "white",
            "linecolor": "white",
            "ticks": ""
           },
           "bgcolor": "#E5ECF6",
           "radialaxis": {
            "gridcolor": "white",
            "linecolor": "white",
            "ticks": ""
           }
          },
          "scene": {
           "xaxis": {
            "backgroundcolor": "#E5ECF6",
            "gridcolor": "white",
            "gridwidth": 2,
            "linecolor": "white",
            "showbackground": true,
            "ticks": "",
            "zerolinecolor": "white"
           },
           "yaxis": {
            "backgroundcolor": "#E5ECF6",
            "gridcolor": "white",
            "gridwidth": 2,
            "linecolor": "white",
            "showbackground": true,
            "ticks": "",
            "zerolinecolor": "white"
           },
           "zaxis": {
            "backgroundcolor": "#E5ECF6",
            "gridcolor": "white",
            "gridwidth": 2,
            "linecolor": "white",
            "showbackground": true,
            "ticks": "",
            "zerolinecolor": "white"
           }
          },
          "shapedefaults": {
           "line": {
            "color": "#2a3f5f"
           }
          },
          "ternary": {
           "aaxis": {
            "gridcolor": "white",
            "linecolor": "white",
            "ticks": ""
           },
           "baxis": {
            "gridcolor": "white",
            "linecolor": "white",
            "ticks": ""
           },
           "bgcolor": "#E5ECF6",
           "caxis": {
            "gridcolor": "white",
            "linecolor": "white",
            "ticks": ""
           }
          },
          "title": {
           "x": 0.05
          },
          "xaxis": {
           "automargin": true,
           "gridcolor": "white",
           "linecolor": "white",
           "ticks": "",
           "title": {
            "standoff": 15
           },
           "zerolinecolor": "white",
           "zerolinewidth": 2
          },
          "yaxis": {
           "automargin": true,
           "gridcolor": "white",
           "linecolor": "white",
           "ticks": "",
           "title": {
            "standoff": 15
           },
           "zerolinecolor": "white",
           "zerolinewidth": 2
          }
         }
        },
        "title": {
         "text": "Top 10 des mots les plus fréquents dans les contenus d'articles récupérés (hors stopwords)"
        },
        "xaxis": {
         "anchor": "y",
         "domain": [
          0,
          1
         ],
         "title": {
          "text": "Mots"
         }
        },
        "yaxis": {
         "anchor": "x",
         "domain": [
          0,
          1
         ],
         "title": {
          "text": "Fréquences"
         }
        }
       }
      }
     },
     "metadata": {},
     "output_type": "display_data"
    }
   ],
   "source": [
    "df_content['Counting_Words_bis']=df_content['Content_cleaned_from_stopwords'].apply(count_common_words)\n",
    "df_content['Most_common_text_bis']=df_content['Counting_Words_bis'].apply(most_common_words)\n",
    "\n",
    "combined_dict_content=combine_dictionaries(df_content,'Most_common_text_bis')\n",
    "sorted_content_dictionary=sorted(combined_dict_content.items(), key= lambda item:item[1], reverse=True)[:10]\n",
    "\n",
    "keys=[key for key, value in sorted_content_dictionary]\n",
    "values=[value for key, value in sorted_content_dictionary]\n",
    "\n",
    "fig = px.bar(x=keys, y=values, title=\"Top 10 des mots les plus fréquents dans les contenus d'articles récupérés (hors stopwords)\", labels={'x':'Mots', 'y':'Fréquences'})\n",
    "fig.show()"
   ]
  },
  {
   "cell_type": "code",
   "execution_count": null,
   "metadata": {},
   "outputs": [],
   "source": [
    "#Il pourrait être judicieux d'ajouter d'autres stopwords à la liste pré-définie comme apple, iphone, macbook, pro, air, apples, ipad\n",
    "#On va adopter une approche TF-IDF qui devrait permettre de se charger naturellement de définir l'importance de chacun des mots"
   ]
  },
  {
   "cell_type": "markdown",
   "metadata": {},
   "source": [
    "Vectorisation des données"
   ]
  },
  {
   "cell_type": "code",
   "execution_count": 67,
   "metadata": {},
   "outputs": [
    {
     "name": "stdout",
     "output_type": "stream",
     "text": [
      "Defaulting to user installation because normal site-packages is not writeable\n",
      "Collecting scikit-learn\n",
      "  Downloading scikit_learn-1.3.2-cp39-cp39-macosx_12_0_arm64.whl (9.5 MB)\n",
      "\u001b[K     |████████████████████████████████| 9.5 MB 4.0 MB/s eta 0:00:01\n",
      "\u001b[?25hRequirement already satisfied: joblib>=1.1.1 in /Users/dabadieraphael/Library/Python/3.9/lib/python/site-packages (from scikit-learn) (1.3.2)\n",
      "Collecting scipy>=1.5.0\n",
      "  Downloading scipy-1.11.4-cp39-cp39-macosx_12_0_arm64.whl (29.7 MB)\n",
      "\u001b[K     |████████████████████████████████| 29.7 MB 602 kB/s eta 0:00:01\n",
      "\u001b[?25hRequirement already satisfied: numpy<2.0,>=1.17.3 in /Users/dabadieraphael/Library/Python/3.9/lib/python/site-packages (from scikit-learn) (1.26.2)\n",
      "Collecting threadpoolctl>=2.0.0\n",
      "  Downloading threadpoolctl-3.2.0-py3-none-any.whl (15 kB)\n",
      "Installing collected packages: threadpoolctl, scipy, scikit-learn\n",
      "Successfully installed scikit-learn-1.3.2 scipy-1.11.4 threadpoolctl-3.2.0\n",
      "\u001b[33mWARNING: You are using pip version 21.2.4; however, version 23.3.1 is available.\n",
      "You should consider upgrading via the '/Library/Developer/CommandLineTools/usr/bin/python3 -m pip install --upgrade pip' command.\u001b[0m\n",
      "Note: you may need to restart the kernel to use updated packages.\n"
     ]
    }
   ],
   "source": [
    "pip install scikit-learn"
   ]
  }
 ],
 "metadata": {
  "kernelspec": {
   "display_name": "Python 3",
   "language": "python",
   "name": "python3"
  },
  "language_info": {
   "codemirror_mode": {
    "name": "ipython",
    "version": 3
   },
   "file_extension": ".py",
   "mimetype": "text/x-python",
   "name": "python",
   "nbconvert_exporter": "python",
   "pygments_lexer": "ipython3",
   "version": "3.9.6"
  }
 },
 "nbformat": 4,
 "nbformat_minor": 2
}
