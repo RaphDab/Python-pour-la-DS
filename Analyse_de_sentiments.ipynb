{
 "cells": [
  {
   "cell_type": "code",
   "execution_count": 390,
   "metadata": {},
   "outputs": [
    {
     "name": "stdout",
     "output_type": "stream",
     "text": [
      "Titre: Magnificent Seven? Consider My Regular Seven Instead\n",
      "Source: Forbes\n",
      "URL: https://www.forbes.com/sites/johndorfman/2023/12/25/magnificent-seven-consider-my-regular-seven-instead/\n",
      "\n",
      "Titre: New Hotels, New And Classic Restaurants To Know In Berlin\n",
      "Source: Forbes\n",
      "URL: https://www.forbes.com/sites/lauriewerner/2023/12/24/new-hotels-new-and-classic-restaurants-to-know-in-berlin/\n",
      "\n",
      "Titre: 16 Must Have Books, Podcasts, And TV Shows For Leaders In 2024\n",
      "Source: Forbes\n",
      "URL: https://www.forbes.com/sites/globalcitizen/2023/12/24/16-must-have-books-podcasts-and-tv-shows-for-leaders-in-2024/\n",
      "\n",
      "Titre: Apple Faces MacBook Air Release Problem\n",
      "Source: Forbes\n",
      "URL: https://www.forbes.com/sites/ewanspence/2023/12/24/apple-macbook-pro-release-date-new-macbook-air-launch-delay/\n",
      "\n",
      "Titre: Samsung Insiders Confirm Three Stunning Galaxy S24 Ultra Decisions\n",
      "Source: Forbes\n",
      "URL: https://www.forbes.com/sites/ewanspence/2023/12/24/samsung-galaxy-s24-ultra-design-performance-launch-exynos-snapdragon-new-galaxy-s24-release/\n",
      "\n",
      "Titre: Setting Up A New Apple iPhone: The 7 Things You Need To Do\n",
      "Source: Forbes\n",
      "URL: https://www.forbes.com/sites/davidphelan/2023/12/24/setting-up-a-new-apple-iphone-the-7-things-you-need-to-do/\n",
      "\n",
      "Titre: Take Music Into The Yard With This Solar-Powered, Waterproof Speaker\n",
      "Source: Forbes\n",
      "URL: https://www.forbes.com/sites/marksparrow/2023/12/24/take-music-into-the-yard-with-this-solar-powered-waterproof-speaker/\n",
      "\n",
      "Titre: Apple iOS 17.3 Release Date: Awesome iPhone Upgrade Coming Soon\n",
      "Source: Forbes\n",
      "URL: https://www.forbes.com/sites/davidphelan/2023/12/24/ios-173-apple-is-about-to-launch-a-stunning-new-iphone-upgrade/\n",
      "\n",
      "Titre: Apple Faces MacBook Air Release Problem\n",
      "Source: Forbes\n",
      "URL: https://www.forbes.com/sites/ewanspence/2023/12/23/apple-macbook-pro-release-date-new-macbook-air-launch-delay/\n",
      "\n",
      "Titre: Italian Wines Are Fishy Business On Christmas Eve\n",
      "Source: Forbes\n",
      "URL: https://www.forbes.com/sites/lanabortolot/2023/12/23/italian-wines-are-fishy-business-on-christmas-eve/\n",
      "\n",
      "Titre: Google Is Giving A Surprise Android 14 Battery Boost To Pixel Users\n",
      "Source: Forbes\n",
      "URL: https://www.forbes.com/sites/jaymcgregor/2023/12/23/google-is-giving-a-surprise-android-14-battery-boost-to-pixel-users/\n",
      "\n",
      "Titre: Inflation, Rates, Jobs: The 3 Keys To Big Gains, And Dividends In ’24\n",
      "Source: Forbes\n",
      "URL: https://www.forbes.com/sites/michaelfoster/2023/12/23/inflation-rates-jobs-the-3-keys-to-big-gains-and-dividends-in-24/\n",
      "\n",
      "Titre: The First Electric Rolls-Royce Truly Does Glide Along Like A Spectre\n",
      "Source: Forbes\n",
      "URL: https://www.forbes.com/sites/samabuelsamid/2023/12/23/the-first-electric-rolls-royce-truly-does-glide-along-like-a-spectre/\n",
      "\n",
      "Titre: iOS 17.3: Apple Is About To Launch An Awesome New iPhone Upgrade\n",
      "Source: Forbes\n",
      "URL: https://www.forbes.com/sites/davidphelan/2023/12/23/ios-173-apple-is-about-to-launch-a-stunning-new-iphone-upgrade/\n",
      "\n",
      "Titre: iOS 17.2.1: Apple Suddenly Releases Unexpected Update For All iPhone Users\n",
      "Source: Forbes\n",
      "URL: https://www.forbes.com/sites/davidphelan/2023/12/23/ios-1721-apple-suddenly-releases-surprise-update-for-all-iphone-users-ios-1674/\n",
      "\n",
      "Titre: Today’s Wordle #917 Hints, Clues And Answer For Saturday, December 23rd\n",
      "Source: Forbes\n",
      "URL: https://www.forbes.com/sites/erikkain/2023/12/22/todays-wordle-917-hints-clues-and-answer-for-saturday-december-23rd/\n",
      "\n",
      "Titre: Apple Loop: iPhone 16 Pro AI Secrets, Snapdragon’s MacBook Air Challenge, Apple Watch Shock\n",
      "Source: Forbes\n",
      "URL: https://www.forbes.com/sites/ewanspence/2023/12/22/apple-headlines-iphone-16-pro-camera-ios-flipper-apple-watch-apple-vision-pro-apps/\n",
      "\n",
      "Titre: Android Circuit: Galaxy S24 Launch Dates, Nubia’s Global Victory, TikTok’sTablet Triumph\n",
      "Source: Forbes\n",
      "URL: https://www.forbes.com/sites/ewanspence/2023/12/22/android-headlines-samsung-galaxy-s24-ultra-nothing-nubia-pixel-8-pro/\n",
      "\n",
      "Titre: Last-Minute Chicago Experiences For The Holidays\n",
      "Source: Forbes\n",
      "URL: https://www.forbes.com/sites/judykoutsky/2023/12/22/last-minute-chicago-experiences-for-the-holidays/\n",
      "\n",
      "Titre: Top 10 Investment Themes For 2024\n",
      "Source: Forbes\n",
      "URL: https://www.forbes.com/sites/investor/2023/12/22/top-10-investment-themes-for-2024/\n",
      "\n",
      "Titre: What To Stream This Weekend: New Shows And Movies On Netflix, Apple, Amazon, Disney And More\n",
      "Source: Forbes\n",
      "URL: https://www.forbes.com/sites/erikkain/2023/12/22/what-to-stream-this-weekend-new-shows-and-movies-on-netflix-apple-amazon-disney-and-more/\n",
      "\n",
      "Titre: Super Saturday Is Retail’s Last Chance For Holiday 2023\n",
      "Source: Forbes\n",
      "URL: https://www.forbes.com/sites/nikkibaird/2023/12/22/super-saturday-is-retails-last-chance-for-holiday-2023/\n",
      "\n",
      "Titre: How To Stop Your iPhone From Listening To You\n",
      "Source: Forbes\n",
      "URL: https://www.forbes.com/sites/kateoflahertyuk/2023/12/22/how-to-stop-your-iphone-from-listening/\n",
      "\n",
      "Titre: Technology, Hospitality, Placemaking Keys To Office Comeback\n",
      "Source: Forbes\n",
      "URL: https://www.forbes.com/sites/jeffsteele/2023/12/22/technology-hospitality-placemaking-keys-to-office-comeback/\n",
      "\n",
      "Titre: Green Glamour: 12 Clean Beauty Brands Leading The Eco-Revolution\n",
      "Source: Forbes\n",
      "URL: https://www.forbes.com/sites/meimeifox/2023/12/22/green-glamour-12-clean-beauty-brands-leading-the-eco-revolution/\n",
      "\n",
      "Titre: Forbes Daily: Rudy Giuliani Is Now America’s Bankrupt Mayor\n",
      "Source: Forbes\n",
      "URL: https://www.forbes.com/sites/forbesdaily/2023/12/22/forbes-daily-rudy-giuliani-is-now-americas-bankrupt-mayor/\n",
      "\n",
      "Titre: Eve Play Brings Apple’s AirPlay Streaming To Any Legacy Audio System\n",
      "Source: Forbes\n",
      "URL: https://www.forbes.com/sites/marksparrow/2023/12/22/eve-play-brings-apples-airplay-streaming-to-any-legacy-audio-system/\n",
      "\n",
      "Titre: iOS 17.2.1: Apple Suddenly Releases Unexpected Update For All iPhone Users\n",
      "Source: Forbes\n",
      "URL: https://www.forbes.com/sites/davidphelan/2023/12/22/ios-1721-apple-suddenly-releases-surprise-update-for-all-iphone-users-ios-1674/\n",
      "\n",
      "Titre: Apple iOS 17.2.1 Surprise iPhone Software Release: Should You Upgrade?\n",
      "Source: Forbes\n",
      "URL: https://www.forbes.com/sites/davidphelan/2023/12/22/apple-ios-1721-surprise-iphone-software-release-should-you-upgrade/\n",
      "\n",
      "Titre: Apple Watch Series 9 Sales Ban Has Surprise Sting In The Tail\n",
      "Source: Forbes\n",
      "URL: https://www.forbes.com/sites/davidphelan/2023/12/22/apple-watch-series-9-sales-ban-has-surprise-sting-in-the-tail/\n",
      "\n",
      "Titre: After U.S. Soccer Denies Open Cup Plan, What Will MLS Want Instead?\n",
      "Source: Forbes\n",
      "URL: https://www.forbes.com/sites/ianquillen/2023/12/22/after-us-soccer-denies-open-cup-plan-what-will-mls-want-instead/\n",
      "\n",
      "Titre: 2024 Mercedes-Benz GLS 450 Review: Exploring It’s Upgrades For 2024\n",
      "Source: Forbes\n",
      "URL: https://www.forbes.com/sites/kyleedward/2023/12/21/2024-mercedes-benz-gls-450-review-exploring-its-upgrades-for-2024/\n",
      "\n",
      "Titre: 5 Smartwatches For Travelers To Wear Into 2024, That Aren’t An Apple Watch\n",
      "Source: Forbes\n",
      "URL: https://www.forbes.com/sites/breannawilson/2023/12/21/5-smartwatches-for-travelers-to-wear-into-2024-that-arent-an-apple-watch/\n",
      "\n",
      "Titre: Experts Share How To Pair Your Holiday Meals With Agave Spirits\n",
      "Source: Forbes\n",
      "URL: https://www.forbes.com/sites/claudiaalarcon/2023/12/21/experts-share-how-to-pair-your-holiday-meals-with-agave-spirits/\n",
      "\n",
      "Titre: This Week In Credit Card News: An AI-Powered Shopping Assistant; Will Issuers Keep Raising Rates In 2024?\n",
      "Source: Forbes\n",
      "URL: https://www.forbes.com/sites/billhardekopf/2023/12/21/this-week-in-credit-card-news-an-ai-powered-shopping-assistant-will-issuers-keep-raising-rates-in-2024/\n",
      "\n",
      "Titre: AI’s Hallucinations Defined Its Reputation In 2023\n",
      "Source: Forbes\n",
      "URL: https://www.forbes.com/sites/cio/2023/12/21/ais-hallucinations-defined-its-reputation-in-2023/\n",
      "\n",
      "Titre: Google Is Showing Apple What The iPhone 15 Is Desperately Missing\n",
      "Source: Forbes\n",
      "URL: https://www.forbes.com/sites/jaymcgregor/2023/12/21/google-is-showing-apple-what-the-iphone-15-is-desperately-missing/\n",
      "\n",
      "Titre: The Space Force’s 2024 Resolution: Forget The 90s - Buy Into The 2020s\n",
      "Source: Forbes\n",
      "URL: https://www.forbes.com/sites/charlesbeames/2023/12/21/the-space-forces-2024-resolution-forget-the-90sbuy-into-the-2020s/\n",
      "\n",
      "Titre: iOS 17.2.1—Apple Issues Surprise New Update For All iPhone Users\n",
      "Source: Forbes\n",
      "URL: https://www.forbes.com/sites/kateoflahertyuk/2023/12/21/ios-1721-apple-issues-surprise-new-update-for-all-iphone-users/\n",
      "\n",
      "Titre: Google Chrome—2 Reasons To Quit And Switch To Firefox\n",
      "Source: Forbes\n",
      "URL: https://www.forbes.com/sites/kateoflahertyuk/2023/12/21/google-chrome-2-reasons-to-quit-and-switch-to-firefox/\n",
      "\n",
      "Titre: Why Small Is A Big Deal In The Tech Industry\n",
      "Source: Forbes\n",
      "URL: https://www.forbes.com/sites/forbestechcouncil/2023/12/21/why-small-is-a-big-deal-in-the-tech-industry/\n",
      "\n",
      "Titre: Forbes Daily: Cracks Begin To Show In 3-D Printed Homes\n",
      "Source: Forbes\n",
      "URL: https://www.forbes.com/sites/forbesdaily/2023/12/21/forbes-daily-cracks-begin-to-show-in-3-d-printed-homes/\n",
      "\n",
      "Titre: Four Digital Media And Gaming Trend Predictions For 2024\n",
      "Source: Forbes\n",
      "URL: https://www.forbes.com/sites/forbesbusinesscouncil/2023/12/21/four-digital-media-and-gaming-trend-predictions-for-2024/\n",
      "\n",
      "Titre: Should You Get That Marketing Certification?\n",
      "Source: Forbes\n",
      "URL: https://www.forbes.com/sites/forbescommunicationscouncil/2023/12/21/should-you-get-that-marketing-certification/\n",
      "\n",
      "Titre: Top Champagne And Sparkling Wines To Try In The New Year\n",
      "Source: Forbes\n",
      "URL: https://www.forbes.com/sites/katiebell/2023/12/21/top-champagne-and-sparkling-wines-to-try-in-the-new-year/\n",
      "\n",
      "Titre: Apple Halts U.S. Sales Of Apple Watch Series 9 And Ultra 2 In Hours\n",
      "Source: Forbes\n",
      "URL: https://www.forbes.com/sites/davidphelan/2023/12/21/apple-will-suddenly-stop-sales-of-apple-watch-series-9-and-ultra-2-in-days/\n",
      "\n",
      "Titre: How India Is Emerging As A Production Hub For Global Exports\n",
      "Source: Forbes\n",
      "URL: https://www.forbes.com/sites/krnkashyap/2023/12/21/how-india-is-emerging-as-a-production-hub-for-global-exports/\n",
      "\n",
      "Titre: My Favorite Phones Of 2023, Ranked\n",
      "Source: Forbes\n",
      "URL: https://www.forbes.com/sites/bensin/2023/12/21/my-favorite-phones-of-2023-ranked/\n",
      "\n",
      "Titre: HSN Wellness Presenter L.L. Kirchner On When Self-Help Becomes An Addiction\n",
      "Source: Forbes\n",
      "URL: https://www.forbes.com/sites/courtstroud/2023/12/20/hsn-wellness-presenter-ll-kirchner-on-when-self-help-becomes-an-addiction/\n",
      "\n",
      "Titre: As Vision Pro’s Launch Purportedly Nears, Its Accessibility Story Must Be Told\n",
      "Source: Forbes\n",
      "URL: https://www.forbes.com/sites/stevenaquino/2023/12/20/as-vision-pros-launch-purportedly-nears-its-accessibility-story-must-be-told/\n",
      "\n",
      "Titre: 10 Best ETFs For 2024\n",
      "Source: Forbes\n",
      "URL: https://www.forbes.com/sites/investor-hub/article/best-etfs-2024/\n",
      "\n",
      "Titre: Test-Driving The 2023 Bentley Bentayga Extended Wheel Base\n",
      "Source: Forbes\n",
      "URL: https://www.forbes.com/sites/joshmax/2023/12/20/test-driving-the-2023-bentley-bentayga-extended-wheel-base/\n",
      "\n",
      "Titre: New Year’s Eve: Pop These 6 Sparkling Wine Bottles To Celebrate\n",
      "Source: Forbes\n",
      "URL: https://www.forbes.com/sites/noelburgess/2023/12/20/new-years-eve-pop-these-6-sparkling-wine-bottles-to-celebrate/\n",
      "\n",
      "Titre: 5 Actors To Recast As Kang Following Jonathan Majors Guilty Verdict And Disney Firing\n",
      "Source: Forbes\n",
      "URL: https://www.forbes.com/sites/erikkain/2023/12/20/5-actors-to-recast-as-kang-following-jonathan-majors-guilty-verdict-and-disney-firing/\n",
      "\n",
      "Titre: Supreme Court Moore Case - Conservatives Dismiss Founding Era Opinion\n",
      "Source: Forbes\n",
      "URL: https://www.forbes.com/sites/peterjreilly/2023/12/20/supreme-court-moore-caseconservatives-dismiss-founding-era-opinion/\n",
      "\n",
      "Titre: The Best Gifts For Teenage Boys, According To Them\n",
      "Source: Forbes\n",
      "URL: https://www.forbes.com/sites/forbes-personal-shopper/article/best-gifts-for-teenage-boys/\n",
      "\n",
      "Titre: Balancing Risk, Reward And Intuition When Establishing Strategic Partnerships\n",
      "Source: Forbes\n",
      "URL: https://www.forbes.com/sites/forbesbusinesscouncil/2023/12/20/balancing-risk-reward-and-intuition-when-establishing-strategic-partnerships/\n",
      "\n",
      "Titre: 2024 Is the Year Of Vision: Large Vision Models, Apple Vision Pro, And AI Wearables That Can See\n",
      "Source: Forbes\n",
      "URL: https://www.forbes.com/sites/cathyhackl/2023/12/20/2024-is-the-year-of-vision-large-vision-models-apple-vision-pro-and-ai-wearables-that-can-see/\n",
      "\n",
      "Titre: Le Donne Del Fiano - Women Wine Producers Of Fiano Di Avellino\n",
      "Source: Forbes\n",
      "URL: https://www.forbes.com/sites/tomhyland/2023/12/20/le-donne-del-fianowomen-wine-producers-of-fiano-di-avellino/\n",
      "\n",
      "Titre: Stable Diffusion Was Trained On Illegal Child Sexual Abuse Material, Stanford Study Says\n",
      "Source: Forbes\n",
      "URL: https://www.forbes.com/sites/alexandralevine/2023/12/20/stable-diffusion-child-sexual-abuse-material-stanford-internet-observatory/\n",
      "\n",
      "Titre: iOS 17.2.1: Apple Suddenly Releases Urgent Update For All iPhone Users\n",
      "Source: Forbes\n",
      "URL: https://www.forbes.com/sites/davidphelan/2023/12/20/ios-1721-apple-suddenly-releases-surprise-update-for-all-iphone-users-ios-1674/\n",
      "\n",
      "Titre: Where Are The Crypto Hot Spots?\n",
      "Source: Forbes\n",
      "URL: https://www.forbes.com/sites/baldwin/2023/12/20/where-are-the-crypto-hot-spots/\n",
      "\n",
      "Titre: iOS 17.2.1—Apple Issues Surprise New Update For All iPhone Users\n",
      "Source: Forbes\n",
      "URL: https://www.forbes.com/sites/kateoflahertyuk/2023/12/20/ios-1721-apple-issues-surprise-new-update-for-all-iphone-users/\n",
      "\n",
      "Titre: TSMC Leadership Reshuffle: Chairman Steps Down As CEO Takes Over\n",
      "Source: Forbes\n",
      "URL: https://www.forbes.com/sites/shanshankao/2023/12/20/tsmc-leadership-reshuffle-chairman-steps-down-as-ceo-takes-over/\n",
      "\n",
      "Titre: The 15 Best Last-Minute Gifts For Tech Lovers This Holiday Season\n",
      "Source: Forbes\n",
      "URL: https://www.forbes.com/sites/davidphelan/2023/12/20/the-15-best-last-minute-gifts-for-tech-lovers-this-holiday-season/\n",
      "\n",
      "Titre: 6 Last Minute Tech And Gaming Gifts You Can Still Get Before Christmas\n",
      "Source: Forbes\n",
      "URL: https://www.forbes.com/sites/anthonykarcz/2023/12/19/6-last-minute-tech-and-gaming-gifts-you-can-still-get-before-christmas/\n",
      "\n",
      "Titre: Your Top Ten From Last Year, My Three Predictions For Next Year\n",
      "Source: Forbes\n",
      "URL: https://www.forbes.com/sites/davidbirch/2023/12/19/your-top-ten-from-last-year-my-three-predictions-for-next-year/\n",
      "\n",
      "Titre: ‘The Buccaneers’ Renewed For Season 2 At Apple TV+\n",
      "Source: Forbes\n",
      "URL: https://www.forbes.com/sites/monicamercuri/2023/12/19/the-buccaneers-renewed-for-season-2-at-apple-tv/\n",
      "\n",
      "Titre: Apple Scrambles For Software Fix To Beat Thursday’s Watch Sales Ban\n",
      "Source: Forbes\n",
      "URL: https://www.forbes.com/sites/davidphelan/2023/12/19/apple-scrambles-for-software-fix-to-beat-thursdays-watch-sales-ban/\n",
      "\n",
      "Titre: Level Access CEO Tim Stringer Talks State Of Digital Accessibility Report, Accessible Design, More In Interview\n",
      "Source: Forbes\n",
      "URL: https://www.forbes.com/sites/stevenaquino/2023/12/19/level-access-ceo-tim-stringer-talks-state-of-digital-accessibility-report-accessible-design-more-in-interview/\n",
      "\n",
      "Titre: Hello, Goodbye: Incentives Draw A Battery Maker, Sweeten A Steel Sale\n",
      "Source: Forbes\n",
      "URL: https://www.forbes.com/sites/cfo/2023/12/19/hello-goodbye-incentives-draw-a-battery-maker-sweeten-a-steel-sale/\n",
      "\n",
      "Titre: ‘Ted,’ ‘Penguin,’ ‘Echo’ And More Of The Most Anticipated Streaming Shows In 2024\n",
      "Source: Forbes\n",
      "URL: https://www.forbes.com/sites/tonifitzgerald/2023/12/19/ted-penguin-echo-and-more-of-the-most-anticipated-streaming-shows-in-2024/\n",
      "\n",
      "Titre: The Best New Streaming Shows In 2024, Including ‘Ted,’ ‘Penguin,’ ‘Echo,’ ‘True Detective’ And More\n",
      "Source: Forbes\n",
      "URL: https://www.forbes.com/sites/tonifitzgerald/2023/12/19/the-best-new-streaming-shows-in-2024-including-ted-penguin-echo-true-detective-and-more/\n",
      "\n",
      "Titre: 12 Best Hotel Christmas Trees\n",
      "Source: Forbes\n",
      "URL: https://www.forbes.com/sites/forbestravelguide/2023/12/19/12-best-hotel-christmas-trees/\n",
      "\n",
      "Titre: Leaked Document Describes Sony Concern About Its ‘Dated Pillars’\n",
      "Source: Forbes\n",
      "URL: https://www.forbes.com/sites/paultassi/2023/12/19/leaked-document-describes-sony-concern-about-its-dated-pillars/\n",
      "\n",
      "Titre: The Rise Of Wearable Face Computers\n",
      "Source: Forbes\n",
      "URL: https://www.forbes.com/sites/timbajarin/2023/12/19/the-rise-of-wearable-face-computers/\n",
      "\n",
      "Titre: Examining Generative AI's Transformative Effects\n",
      "Source: Forbes\n",
      "URL: https://www.forbes.com/sites/committeeof200/2023/12/19/examining-generative-ais-transformative-effects/\n",
      "\n",
      "Titre: What To Do With Old Computers: Dispose, Recycle, Or Upcycle?\n",
      "Source: Forbes\n",
      "URL: https://www.forbes.com/sites/technology/article/what-to-do-with-old-computers/\n",
      "\n",
      "Titre: New iOS 17.3 Leak Reveals Stunning iPhone Feature Coming Soon\n",
      "Source: Forbes\n",
      "URL: https://www.forbes.com/sites/kateoflahertyuk/2023/12/19/new-ios-173-leak-reveals-stunning-iphone-feature-coming-soon/\n",
      "\n",
      "Titre: Forget Passwords, This New Tech Is Nearly Hacker-Proof, 1Password Says\n",
      "Source: Forbes\n",
      "URL: https://www.forbes.com/sites/daveywinder/2023/12/19/forget-passwords-this-new-tech-is-nearly-hacker-proof-1password-says/\n",
      "\n",
      "Titre: Forbes Daily: A Fight To Stop Dangerous Fakes Of Weight Loss Drug Wegovy\n",
      "Source: Forbes\n",
      "URL: https://www.forbes.com/sites/forbesdaily/2023/12/19/forbes-daily-a-fight-to-stop-dangerous-fakes-of-weight-loss-drug-wegovy/\n",
      "\n",
      "Titre: These Trends Will Shape Consumer Payments In 2024\n",
      "Source: Forbes\n",
      "URL: https://www.forbes.com/sites/forbesfinancecouncil/2023/12/19/these-trends-will-shape-consumer-payments-in-2024/\n",
      "\n",
      "Titre: 5 Actors To Recast As Kang Following Jonathan Majors Guilty Verdict And Disney Firing\n",
      "Source: Forbes\n",
      "URL: https://www.forbes.com/sites/erikkain/2023/12/19/5-actors-to-recast-as-kang-following-jonathan-majors-guilty-verdict-and-disney-firing/\n",
      "\n",
      "Titre: Break The No-Win Effectiveness-Efficiency Trade-Off With Five Priority Levels\n",
      "Source: Forbes\n",
      "URL: https://www.forbes.com/sites/georgebradt/2023/12/19/break-the-no-win-effectiveness-efficiency-trade-off-with-five-priority-levels/\n",
      "\n",
      "Titre: How Can Owners Ruin Messi’s MLS Legacy? U.S. Open Cup Snub Is A Start.\n",
      "Source: Forbes\n",
      "URL: https://www.forbes.com/sites/ianquillen/2023/12/19/how-can-owners-ruin-messis-mls-legacy-us-open-cup-snub-is-a-start/\n",
      "\n",
      "Titre: How To Watch ‘The Hunger Games: The Ballad Of Songbirds & Snakes’ At Home\n",
      "Source: Forbes\n",
      "URL: https://www.forbes.com/sites/monicamercuri/2023/12/18/how-to-watch-the-hunger-games-the-ballad-of-songbirds--snakes-at-home/\n",
      "\n",
      "Titre: New Samsung Leak Reveals Stunning Galaxy S24 Design Decisions\n",
      "Source: Forbes\n",
      "URL: https://www.forbes.com/sites/ewanspence/2023/12/18/samsung-galaxy-s24-exynos-2400-specs-memory-new-galaxy-s24-upgrade/\n",
      "\n",
      "Titre: Amazon Could Invest In The Country’s Largest Regional Sports TV Chain—Here’s Why\n",
      "Source: Forbes\n",
      "URL: https://www.forbes.com/sites/antoniopequenoiv/2023/12/18/amazon-could-invest-in-the-countrys-largest-regional-sports-tv-chain-heres-why/\n",
      "\n",
      "Titre: Naming Jennings New Sole Host Could End ‘Jeopardy!’s Recent Rocky Ride\n",
      "Source: Forbes\n",
      "URL: https://www.forbes.com/sites/edwardsegal/2023/12/18/naming-jennings-new-sole-host-could-end-jeopardys-recent-rocky-ride/\n",
      "\n",
      "Titre: Craft Cocktails At NYC’s Altair Are Inspired By The Classical Elements\n",
      "Source: Forbes\n",
      "URL: https://www.forbes.com/sites/ronniekoenig/2023/12/18/craft-cocktails-at-nycs-altair-are-inspired-by-the-classical-elements/\n",
      "\n",
      "Titre: iPhone Vs. Android – Which One Should You Get?\n",
      "Source: Forbes\n",
      "URL: https://www.forbes.com/sites/technology/article/iphone-vs-android/\n",
      "\n",
      "Titre: Apple Takes Unprecedented Step: Will Stop Sales Of Apple Watch 9 And Ultra 2 In Days\n",
      "Source: Forbes\n",
      "URL: https://www.forbes.com/sites/davidphelan/2023/12/18/apple-will-suddenly-stop-sales-of-apple-watch-series-9-and-ultra-2-in-days/\n",
      "\n",
      "Titre: Chicago’s Hottest Dining Experience Is Primed For Michelin-Star Chasers\n",
      "Source: Forbes\n",
      "URL: https://www.forbes.com/sites/wendyaltschuler/2023/12/18/chicagos-hottest-dining-experience-is-primed-for-michelin-star-chasers/\n",
      "\n",
      "Titre: The 25 Best Comedy Movies Of All Time\n",
      "Source: Forbes\n",
      "URL: https://www.forbes.com/sites/entertainment/article/best-comedy-movies-of-all-time/\n",
      "\n",
      "Titre: Apple Halts Sale Of Watch Series 9 And Ultra 2 Over Patent Dispute\n",
      "Source: Forbes\n",
      "URL: https://www.forbes.com/sites/jamesfarrell/2023/12/18/apple-halts-sale-of-watch-series-9-and-ultra-2-over-patent-dispute/\n",
      "\n",
      "Titre: 12 Of The Best Huda Beauty Products To Give As Gifts\n",
      "Source: Forbes\n",
      "URL: https://www.forbes.com/sites/forbes-personal-shopper/article/huda-beauty-products/\n",
      "\n",
      "Titre: This 27-Inch 4K Mini LED Screen From KTC Is A Genuine Bargain\n",
      "Source: Forbes\n",
      "URL: https://www.forbes.com/sites/marksparrow/2023/12/18/this-27-inch-4k-mini-led-screen-from-ktc-is-a-genuine-bargain/\n",
      "\n",
      "Titre: Will Santa Rally Us Until The End Of The Year?\n",
      "Source: Forbes\n",
      "URL: https://www.forbes.com/sites/jjkinahan/2023/12/18/will-santa-rally-us-until-the-end-of-the-year/\n",
      "\n",
      "Titre: Beyond The Core: How Startups Can Innovate By Branching Out\n",
      "Source: Forbes\n",
      "URL: https://www.forbes.com/sites/forbesbusinesscouncil/2023/12/18/beyond-the-core-how-startups-can-innovate-by-branching-out/\n",
      "\n",
      "Titre: Navigating The Road To Disruption: Lessons From Healthcare Innovation\n",
      "Source: Forbes\n",
      "URL: https://www.forbes.com/sites/forbesbusinesscouncil/2023/12/18/navigating-the-road-to-disruption-lessons-from-healthcare-innovation/\n",
      "\n"
     ]
    }
   ],
   "source": [
    "\n",
    "import requests\n",
    "parameters = {\n",
    "    'q': 'Apple',\n",
    "    'domains': 'forbes.com',\n",
    "    'sortBy': 'publishedAt',\n",
    "    'apiKey': '1b20fb6f9b9d40f0b4e4ad6fe5d90755'  # Assurez-vous d'utiliser votre propre clé API\n",
    "}\n",
    "\n",
    "url = 'https://newsapi.org/v2/everything'\n",
    "\n",
    "# Appel de l'API\n",
    "response = requests.get(url, params=parameters)\n",
    "articles = response.json().get('articles', [])  # Utilisez .get pour éviter les erreurs si 'articles' n'existe pas\n",
    "\n",
    "# Itérer sur chaque article récupéré\n",
    "for article in articles:\n",
    "    title = article.get('title', 'Titre indisponible')  # Utilisez .get pour éviter les erreurs si 'title' n'existe pas\n",
    "    source_name = article.get('source', {}).get('name', 'Source indisponible')  # Récupérer le nom de la source\n",
    "    url = article.get('url', 'URL indisponible')  # Récupérer l'URL de l'article\n",
    "    print(f\"Titre: {title}\\nSource: {source_name}\\nURL: {url}\\n\")\n"
   ]
  },
  {
   "cell_type": "code",
   "execution_count": 391,
   "metadata": {},
   "outputs": [],
   "source": [
    "import csv\n",
    "\n",
    "with open('articles.csv', mode='w', newline='', encoding='utf-8') as file:\n",
    "    writer = csv.writer(file)\n",
    "    writer.writerow(['Titre', 'URL', 'Date de publication', 'Description','Source'])\n",
    "    for article in articles:\n",
    "        if \"Apple\" not in article['title']:\n",
    "          continue\n",
    "        writer.writerow([article['title'], article['url'], article['publishedAt'], article['description'], article['source']['name']])\n",
    "\n",
    "       "
   ]
  },
  {
   "cell_type": "markdown",
   "metadata": {},
   "source": [
    "\n",
    "\n",
    "# Récupération du contenu des articles"
   ]
  },
  {
   "cell_type": "code",
   "execution_count": 392,
   "metadata": {},
   "outputs": [
    {
     "data": {
      "text/html": [
       "<div>\n",
       "<style scoped>\n",
       "    .dataframe tbody tr th:only-of-type {\n",
       "        vertical-align: middle;\n",
       "    }\n",
       "\n",
       "    .dataframe tbody tr th {\n",
       "        vertical-align: top;\n",
       "    }\n",
       "\n",
       "    .dataframe thead th {\n",
       "        text-align: right;\n",
       "    }\n",
       "</style>\n",
       "<table border=\"1\" class=\"dataframe\">\n",
       "  <thead>\n",
       "    <tr style=\"text-align: right;\">\n",
       "      <th></th>\n",
       "      <th>Titre</th>\n",
       "      <th>URL</th>\n",
       "      <th>Date de publication</th>\n",
       "      <th>Description</th>\n",
       "      <th>Source</th>\n",
       "    </tr>\n",
       "  </thead>\n",
       "  <tbody>\n",
       "    <tr>\n",
       "      <th>0</th>\n",
       "      <td>Apple Faces MacBook Air Release Problem</td>\n",
       "      <td>https://www.forbes.com/sites/ewanspence/2023/1...</td>\n",
       "      <td>2023-12-24T15:29:03Z</td>\n",
       "      <td>Apple faces a crucial decision about the next-...</td>\n",
       "      <td>Forbes</td>\n",
       "    </tr>\n",
       "    <tr>\n",
       "      <th>1</th>\n",
       "      <td>Setting Up A New Apple iPhone: The 7 Things Yo...</td>\n",
       "      <td>https://www.forbes.com/sites/davidphelan/2023/...</td>\n",
       "      <td>2023-12-24T11:00:39Z</td>\n",
       "      <td>So, you’ve just snagged a new iPhone? Congrats...</td>\n",
       "      <td>Forbes</td>\n",
       "    </tr>\n",
       "    <tr>\n",
       "      <th>2</th>\n",
       "      <td>Apple iOS 17.3 Release Date: Awesome iPhone Up...</td>\n",
       "      <td>https://www.forbes.com/sites/davidphelan/2023/...</td>\n",
       "      <td>2023-12-24T10:25:07Z</td>\n",
       "      <td>The next big iOS update is on its way and incl...</td>\n",
       "      <td>Forbes</td>\n",
       "    </tr>\n",
       "    <tr>\n",
       "      <th>3</th>\n",
       "      <td>Apple Faces MacBook Air Release Problem</td>\n",
       "      <td>https://www.forbes.com/sites/ewanspence/2023/1...</td>\n",
       "      <td>2023-12-23T22:28:24Z</td>\n",
       "      <td>Apple faces a crucial decision about the next-...</td>\n",
       "      <td>Forbes</td>\n",
       "    </tr>\n",
       "    <tr>\n",
       "      <th>4</th>\n",
       "      <td>iOS 17.3: Apple Is About To Launch An Awesome ...</td>\n",
       "      <td>https://www.forbes.com/sites/davidphelan/2023/...</td>\n",
       "      <td>2023-12-23T11:00:02Z</td>\n",
       "      <td>The next big iOS update is on its way and incl...</td>\n",
       "      <td>Forbes</td>\n",
       "    </tr>\n",
       "    <tr>\n",
       "      <th>5</th>\n",
       "      <td>iOS 17.2.1: Apple Suddenly Releases Unexpected...</td>\n",
       "      <td>https://www.forbes.com/sites/davidphelan/2023/...</td>\n",
       "      <td>2023-12-23T09:15:36Z</td>\n",
       "      <td>If you thought the next Apple update would be ...</td>\n",
       "      <td>Forbes</td>\n",
       "    </tr>\n",
       "    <tr>\n",
       "      <th>6</th>\n",
       "      <td>Apple Loop: iPhone 16 Pro AI Secrets, Snapdrag...</td>\n",
       "      <td>https://www.forbes.com/sites/ewanspence/2023/1...</td>\n",
       "      <td>2023-12-22T22:34:51Z</td>\n",
       "      <td>This week’s Apple headlines; leaked iPhone det...</td>\n",
       "      <td>Forbes</td>\n",
       "    </tr>\n",
       "    <tr>\n",
       "      <th>7</th>\n",
       "      <td>What To Stream This Weekend: New Shows And Mov...</td>\n",
       "      <td>https://www.forbes.com/sites/erikkain/2023/12/...</td>\n",
       "      <td>2023-12-22T19:13:12Z</td>\n",
       "      <td>The final weekend of Advent is here, with Chri...</td>\n",
       "      <td>Forbes</td>\n",
       "    </tr>\n",
       "    <tr>\n",
       "      <th>8</th>\n",
       "      <td>Eve Play Brings Apple’s AirPlay Streaming To A...</td>\n",
       "      <td>https://www.forbes.com/sites/marksparrow/2023/...</td>\n",
       "      <td>2023-12-22T12:14:30Z</td>\n",
       "      <td>Eve Play brings Apple AirPLay 2 to almost any ...</td>\n",
       "      <td>Forbes</td>\n",
       "    </tr>\n",
       "    <tr>\n",
       "      <th>9</th>\n",
       "      <td>iOS 17.2.1: Apple Suddenly Releases Unexpected...</td>\n",
       "      <td>https://www.forbes.com/sites/davidphelan/2023/...</td>\n",
       "      <td>2023-12-22T10:45:02Z</td>\n",
       "      <td>If you thought the next Apple update would be ...</td>\n",
       "      <td>Forbes</td>\n",
       "    </tr>\n",
       "    <tr>\n",
       "      <th>10</th>\n",
       "      <td>Apple iOS 17.2.1 Surprise iPhone Software Rele...</td>\n",
       "      <td>https://www.forbes.com/sites/davidphelan/2023/...</td>\n",
       "      <td>2023-12-22T10:30:03Z</td>\n",
       "      <td>There’s been a surprise iPhone software update...</td>\n",
       "      <td>Forbes</td>\n",
       "    </tr>\n",
       "    <tr>\n",
       "      <th>11</th>\n",
       "      <td>Apple Watch Series 9 Sales Ban Has Surprise St...</td>\n",
       "      <td>https://www.forbes.com/sites/davidphelan/2023/...</td>\n",
       "      <td>2023-12-22T10:00:48Z</td>\n",
       "      <td>You can no longer buy the Apple Watch Series 9...</td>\n",
       "      <td>Forbes</td>\n",
       "    </tr>\n",
       "    <tr>\n",
       "      <th>12</th>\n",
       "      <td>5 Smartwatches For Travelers To Wear Into 2024...</td>\n",
       "      <td>https://www.forbes.com/sites/breannawilson/202...</td>\n",
       "      <td>2023-12-21T23:41:48Z</td>\n",
       "      <td>With Apple halting online sales of the Apple W...</td>\n",
       "      <td>Forbes</td>\n",
       "    </tr>\n",
       "    <tr>\n",
       "      <th>13</th>\n",
       "      <td>Google Is Showing Apple What The iPhone 15 Is ...</td>\n",
       "      <td>https://www.forbes.com/sites/jaymcgregor/2023/...</td>\n",
       "      <td>2023-12-21T16:31:29Z</td>\n",
       "      <td>Google is showing Apple the way on smartphone ...</td>\n",
       "      <td>Forbes</td>\n",
       "    </tr>\n",
       "    <tr>\n",
       "      <th>14</th>\n",
       "      <td>iOS 17.2.1—Apple Issues Surprise New Update Fo...</td>\n",
       "      <td>https://www.forbes.com/sites/kateoflahertyuk/2...</td>\n",
       "      <td>2023-12-21T15:16:26Z</td>\n",
       "      <td>Apple has issued iOS 17.2.1, a surprise new iP...</td>\n",
       "      <td>Forbes</td>\n",
       "    </tr>\n",
       "    <tr>\n",
       "      <th>15</th>\n",
       "      <td>Apple Halts U.S. Sales Of Apple Watch Series 9...</td>\n",
       "      <td>https://www.forbes.com/sites/davidphelan/2023/...</td>\n",
       "      <td>2023-12-21T09:30:13Z</td>\n",
       "      <td>With days left of holiday shopping, Apple sudd...</td>\n",
       "      <td>Forbes</td>\n",
       "    </tr>\n",
       "    <tr>\n",
       "      <th>16</th>\n",
       "      <td>2024 Is the Year Of Vision: Large Vision Model...</td>\n",
       "      <td>https://www.forbes.com/sites/cathyhackl/2023/1...</td>\n",
       "      <td>2023-12-20T14:10:31Z</td>\n",
       "      <td>From computer vision to Large Vision Models an...</td>\n",
       "      <td>Forbes</td>\n",
       "    </tr>\n",
       "    <tr>\n",
       "      <th>17</th>\n",
       "      <td>iOS 17.2.1: Apple Suddenly Releases Urgent Upd...</td>\n",
       "      <td>https://www.forbes.com/sites/davidphelan/2023/...</td>\n",
       "      <td>2023-12-20T11:39:14Z</td>\n",
       "      <td>If you thought the next Apple update would be ...</td>\n",
       "      <td>Forbes</td>\n",
       "    </tr>\n",
       "    <tr>\n",
       "      <th>18</th>\n",
       "      <td>iOS 17.2.1—Apple Issues Surprise New Update Fo...</td>\n",
       "      <td>https://www.forbes.com/sites/kateoflahertyuk/2...</td>\n",
       "      <td>2023-12-20T09:21:16Z</td>\n",
       "      <td>Apple has issued iOS 17.2.1, a surprise new iP...</td>\n",
       "      <td>Forbes</td>\n",
       "    </tr>\n",
       "    <tr>\n",
       "      <th>19</th>\n",
       "      <td>‘The Buccaneers’ Renewed For Season 2 At Apple...</td>\n",
       "      <td>https://www.forbes.com/sites/monicamercuri/202...</td>\n",
       "      <td>2023-12-19T20:12:48Z</td>\n",
       "      <td>Fans of the 19th-century period drama, \"The Bu...</td>\n",
       "      <td>Forbes</td>\n",
       "    </tr>\n",
       "    <tr>\n",
       "      <th>20</th>\n",
       "      <td>Apple Scrambles For Software Fix To Beat Thurs...</td>\n",
       "      <td>https://www.forbes.com/sites/davidphelan/2023/...</td>\n",
       "      <td>2023-12-19T18:32:48Z</td>\n",
       "      <td>Apple will pause sales of Apple Watch Series 9...</td>\n",
       "      <td>Forbes</td>\n",
       "    </tr>\n",
       "    <tr>\n",
       "      <th>21</th>\n",
       "      <td>Apple Takes Unprecedented Step: Will Stop Sale...</td>\n",
       "      <td>https://www.forbes.com/sites/davidphelan/2023/...</td>\n",
       "      <td>2023-12-18T19:00:03Z</td>\n",
       "      <td>If you want to buy an Apple Watch Series 9 or ...</td>\n",
       "      <td>Forbes</td>\n",
       "    </tr>\n",
       "    <tr>\n",
       "      <th>22</th>\n",
       "      <td>Apple Halts Sale Of Watch Series 9 And Ultra 2...</td>\n",
       "      <td>https://www.forbes.com/sites/jamesfarrell/2023...</td>\n",
       "      <td>2023-12-18T15:53:33Z</td>\n",
       "      <td>Apple will halt sales of its Apple Watch Serie...</td>\n",
       "      <td>Forbes</td>\n",
       "    </tr>\n",
       "  </tbody>\n",
       "</table>\n",
       "</div>"
      ],
      "text/plain": [
       "                                                Titre  \\\n",
       "0             Apple Faces MacBook Air Release Problem   \n",
       "1   Setting Up A New Apple iPhone: The 7 Things Yo...   \n",
       "2   Apple iOS 17.3 Release Date: Awesome iPhone Up...   \n",
       "3             Apple Faces MacBook Air Release Problem   \n",
       "4   iOS 17.3: Apple Is About To Launch An Awesome ...   \n",
       "5   iOS 17.2.1: Apple Suddenly Releases Unexpected...   \n",
       "6   Apple Loop: iPhone 16 Pro AI Secrets, Snapdrag...   \n",
       "7   What To Stream This Weekend: New Shows And Mov...   \n",
       "8   Eve Play Brings Apple’s AirPlay Streaming To A...   \n",
       "9   iOS 17.2.1: Apple Suddenly Releases Unexpected...   \n",
       "10  Apple iOS 17.2.1 Surprise iPhone Software Rele...   \n",
       "11  Apple Watch Series 9 Sales Ban Has Surprise St...   \n",
       "12  5 Smartwatches For Travelers To Wear Into 2024...   \n",
       "13  Google Is Showing Apple What The iPhone 15 Is ...   \n",
       "14  iOS 17.2.1—Apple Issues Surprise New Update Fo...   \n",
       "15  Apple Halts U.S. Sales Of Apple Watch Series 9...   \n",
       "16  2024 Is the Year Of Vision: Large Vision Model...   \n",
       "17  iOS 17.2.1: Apple Suddenly Releases Urgent Upd...   \n",
       "18  iOS 17.2.1—Apple Issues Surprise New Update Fo...   \n",
       "19  ‘The Buccaneers’ Renewed For Season 2 At Apple...   \n",
       "20  Apple Scrambles For Software Fix To Beat Thurs...   \n",
       "21  Apple Takes Unprecedented Step: Will Stop Sale...   \n",
       "22  Apple Halts Sale Of Watch Series 9 And Ultra 2...   \n",
       "\n",
       "                                                  URL   Date de publication  \\\n",
       "0   https://www.forbes.com/sites/ewanspence/2023/1...  2023-12-24T15:29:03Z   \n",
       "1   https://www.forbes.com/sites/davidphelan/2023/...  2023-12-24T11:00:39Z   \n",
       "2   https://www.forbes.com/sites/davidphelan/2023/...  2023-12-24T10:25:07Z   \n",
       "3   https://www.forbes.com/sites/ewanspence/2023/1...  2023-12-23T22:28:24Z   \n",
       "4   https://www.forbes.com/sites/davidphelan/2023/...  2023-12-23T11:00:02Z   \n",
       "5   https://www.forbes.com/sites/davidphelan/2023/...  2023-12-23T09:15:36Z   \n",
       "6   https://www.forbes.com/sites/ewanspence/2023/1...  2023-12-22T22:34:51Z   \n",
       "7   https://www.forbes.com/sites/erikkain/2023/12/...  2023-12-22T19:13:12Z   \n",
       "8   https://www.forbes.com/sites/marksparrow/2023/...  2023-12-22T12:14:30Z   \n",
       "9   https://www.forbes.com/sites/davidphelan/2023/...  2023-12-22T10:45:02Z   \n",
       "10  https://www.forbes.com/sites/davidphelan/2023/...  2023-12-22T10:30:03Z   \n",
       "11  https://www.forbes.com/sites/davidphelan/2023/...  2023-12-22T10:00:48Z   \n",
       "12  https://www.forbes.com/sites/breannawilson/202...  2023-12-21T23:41:48Z   \n",
       "13  https://www.forbes.com/sites/jaymcgregor/2023/...  2023-12-21T16:31:29Z   \n",
       "14  https://www.forbes.com/sites/kateoflahertyuk/2...  2023-12-21T15:16:26Z   \n",
       "15  https://www.forbes.com/sites/davidphelan/2023/...  2023-12-21T09:30:13Z   \n",
       "16  https://www.forbes.com/sites/cathyhackl/2023/1...  2023-12-20T14:10:31Z   \n",
       "17  https://www.forbes.com/sites/davidphelan/2023/...  2023-12-20T11:39:14Z   \n",
       "18  https://www.forbes.com/sites/kateoflahertyuk/2...  2023-12-20T09:21:16Z   \n",
       "19  https://www.forbes.com/sites/monicamercuri/202...  2023-12-19T20:12:48Z   \n",
       "20  https://www.forbes.com/sites/davidphelan/2023/...  2023-12-19T18:32:48Z   \n",
       "21  https://www.forbes.com/sites/davidphelan/2023/...  2023-12-18T19:00:03Z   \n",
       "22  https://www.forbes.com/sites/jamesfarrell/2023...  2023-12-18T15:53:33Z   \n",
       "\n",
       "                                          Description  Source  \n",
       "0   Apple faces a crucial decision about the next-...  Forbes  \n",
       "1   So, you’ve just snagged a new iPhone? Congrats...  Forbes  \n",
       "2   The next big iOS update is on its way and incl...  Forbes  \n",
       "3   Apple faces a crucial decision about the next-...  Forbes  \n",
       "4   The next big iOS update is on its way and incl...  Forbes  \n",
       "5   If you thought the next Apple update would be ...  Forbes  \n",
       "6   This week’s Apple headlines; leaked iPhone det...  Forbes  \n",
       "7   The final weekend of Advent is here, with Chri...  Forbes  \n",
       "8   Eve Play brings Apple AirPLay 2 to almost any ...  Forbes  \n",
       "9   If you thought the next Apple update would be ...  Forbes  \n",
       "10  There’s been a surprise iPhone software update...  Forbes  \n",
       "11  You can no longer buy the Apple Watch Series 9...  Forbes  \n",
       "12  With Apple halting online sales of the Apple W...  Forbes  \n",
       "13  Google is showing Apple the way on smartphone ...  Forbes  \n",
       "14  Apple has issued iOS 17.2.1, a surprise new iP...  Forbes  \n",
       "15  With days left of holiday shopping, Apple sudd...  Forbes  \n",
       "16  From computer vision to Large Vision Models an...  Forbes  \n",
       "17  If you thought the next Apple update would be ...  Forbes  \n",
       "18  Apple has issued iOS 17.2.1, a surprise new iP...  Forbes  \n",
       "19  Fans of the 19th-century period drama, \"The Bu...  Forbes  \n",
       "20  Apple will pause sales of Apple Watch Series 9...  Forbes  \n",
       "21  If you want to buy an Apple Watch Series 9 or ...  Forbes  \n",
       "22  Apple will halt sales of its Apple Watch Serie...  Forbes  "
      ]
     },
     "execution_count": 392,
     "metadata": {},
     "output_type": "execute_result"
    }
   ],
   "source": [
    "import pandas as pd\n",
    "\n",
    "df=pd.read_csv('articles.csv')\n",
    "df"
   ]
  },
  {
   "cell_type": "code",
   "execution_count": 393,
   "metadata": {},
   "outputs": [
    {
     "data": {
      "text/html": [
       "<div>\n",
       "<style scoped>\n",
       "    .dataframe tbody tr th:only-of-type {\n",
       "        vertical-align: middle;\n",
       "    }\n",
       "\n",
       "    .dataframe tbody tr th {\n",
       "        vertical-align: top;\n",
       "    }\n",
       "\n",
       "    .dataframe thead th {\n",
       "        text-align: right;\n",
       "    }\n",
       "</style>\n",
       "<table border=\"1\" class=\"dataframe\">\n",
       "  <thead>\n",
       "    <tr style=\"text-align: right;\">\n",
       "      <th></th>\n",
       "      <th>Titre</th>\n",
       "      <th>URL</th>\n",
       "      <th>Date de publication</th>\n",
       "      <th>Description</th>\n",
       "      <th>Source</th>\n",
       "      <th>Contenu</th>\n",
       "    </tr>\n",
       "  </thead>\n",
       "  <tbody>\n",
       "    <tr>\n",
       "      <th>0</th>\n",
       "      <td>Apple Faces MacBook Air Release Problem</td>\n",
       "      <td>https://www.forbes.com/sites/ewanspence/2023/1...</td>\n",
       "      <td>2023-12-24T15:29:03Z</td>\n",
       "      <td>Apple faces a crucial decision about the next-...</td>\n",
       "      <td>Forbes</td>\n",
       "      <td>&lt;!DOCTYPE html&gt;&lt;html lang=\"en\"&gt;&lt;head&gt;&lt;link rel...</td>\n",
       "    </tr>\n",
       "    <tr>\n",
       "      <th>1</th>\n",
       "      <td>Setting Up A New Apple iPhone: The 7 Things Yo...</td>\n",
       "      <td>https://www.forbes.com/sites/davidphelan/2023/...</td>\n",
       "      <td>2023-12-24T11:00:39Z</td>\n",
       "      <td>So, you’ve just snagged a new iPhone? Congrats...</td>\n",
       "      <td>Forbes</td>\n",
       "      <td>&lt;!DOCTYPE html&gt;&lt;html lang=\"en\"&gt;&lt;head&gt;&lt;link rel...</td>\n",
       "    </tr>\n",
       "    <tr>\n",
       "      <th>2</th>\n",
       "      <td>Apple iOS 17.3 Release Date: Awesome iPhone Up...</td>\n",
       "      <td>https://www.forbes.com/sites/davidphelan/2023/...</td>\n",
       "      <td>2023-12-24T10:25:07Z</td>\n",
       "      <td>The next big iOS update is on its way and incl...</td>\n",
       "      <td>Forbes</td>\n",
       "      <td>&lt;!DOCTYPE html&gt;&lt;html lang=\"en\"&gt;&lt;head&gt;&lt;link rel...</td>\n",
       "    </tr>\n",
       "    <tr>\n",
       "      <th>3</th>\n",
       "      <td>Apple Faces MacBook Air Release Problem</td>\n",
       "      <td>https://www.forbes.com/sites/ewanspence/2023/1...</td>\n",
       "      <td>2023-12-23T22:28:24Z</td>\n",
       "      <td>Apple faces a crucial decision about the next-...</td>\n",
       "      <td>Forbes</td>\n",
       "      <td>&lt;!DOCTYPE html&gt;&lt;html lang=\"en\"&gt;&lt;head&gt;&lt;link rel...</td>\n",
       "    </tr>\n",
       "    <tr>\n",
       "      <th>4</th>\n",
       "      <td>iOS 17.3: Apple Is About To Launch An Awesome ...</td>\n",
       "      <td>https://www.forbes.com/sites/davidphelan/2023/...</td>\n",
       "      <td>2023-12-23T11:00:02Z</td>\n",
       "      <td>The next big iOS update is on its way and incl...</td>\n",
       "      <td>Forbes</td>\n",
       "      <td>&lt;!DOCTYPE html&gt;&lt;html lang=\"en\"&gt;&lt;head&gt;&lt;link rel...</td>\n",
       "    </tr>\n",
       "  </tbody>\n",
       "</table>\n",
       "</div>"
      ],
      "text/plain": [
       "                                               Titre  \\\n",
       "0            Apple Faces MacBook Air Release Problem   \n",
       "1  Setting Up A New Apple iPhone: The 7 Things Yo...   \n",
       "2  Apple iOS 17.3 Release Date: Awesome iPhone Up...   \n",
       "3            Apple Faces MacBook Air Release Problem   \n",
       "4  iOS 17.3: Apple Is About To Launch An Awesome ...   \n",
       "\n",
       "                                                 URL   Date de publication  \\\n",
       "0  https://www.forbes.com/sites/ewanspence/2023/1...  2023-12-24T15:29:03Z   \n",
       "1  https://www.forbes.com/sites/davidphelan/2023/...  2023-12-24T11:00:39Z   \n",
       "2  https://www.forbes.com/sites/davidphelan/2023/...  2023-12-24T10:25:07Z   \n",
       "3  https://www.forbes.com/sites/ewanspence/2023/1...  2023-12-23T22:28:24Z   \n",
       "4  https://www.forbes.com/sites/davidphelan/2023/...  2023-12-23T11:00:02Z   \n",
       "\n",
       "                                         Description  Source  \\\n",
       "0  Apple faces a crucial decision about the next-...  Forbes   \n",
       "1  So, you’ve just snagged a new iPhone? Congrats...  Forbes   \n",
       "2  The next big iOS update is on its way and incl...  Forbes   \n",
       "3  Apple faces a crucial decision about the next-...  Forbes   \n",
       "4  The next big iOS update is on its way and incl...  Forbes   \n",
       "\n",
       "                                             Contenu  \n",
       "0  <!DOCTYPE html><html lang=\"en\"><head><link rel...  \n",
       "1  <!DOCTYPE html><html lang=\"en\"><head><link rel...  \n",
       "2  <!DOCTYPE html><html lang=\"en\"><head><link rel...  \n",
       "3  <!DOCTYPE html><html lang=\"en\"><head><link rel...  \n",
       "4  <!DOCTYPE html><html lang=\"en\"><head><link rel...  "
      ]
     },
     "execution_count": 393,
     "metadata": {},
     "output_type": "execute_result"
    }
   ],
   "source": [
    "urls = [url for url in df['URL']]\n",
    "html_contents = []\n",
    "compteur=0\n",
    "df['Contenu']=[None] * len(df)\n",
    "\n",
    "for url in urls:\n",
    "    response = requests.get(url)\n",
    "    if response.status_code == 200:\n",
    "        html_contents.append(response.text)\n",
    "        df['Contenu'].loc[compteur]=response.text\n",
    "    else:\n",
    "        print(f\"Échec de récupération pour {url}\")\n",
    "    compteur+=1\n",
    "\n",
    "df.head()"
   ]
  },
  {
   "cell_type": "code",
   "execution_count": 394,
   "metadata": {},
   "outputs": [
    {
     "data": {
      "text/html": [
       "<div>\n",
       "<style scoped>\n",
       "    .dataframe tbody tr th:only-of-type {\n",
       "        vertical-align: middle;\n",
       "    }\n",
       "\n",
       "    .dataframe tbody tr th {\n",
       "        vertical-align: top;\n",
       "    }\n",
       "\n",
       "    .dataframe thead th {\n",
       "        text-align: right;\n",
       "    }\n",
       "</style>\n",
       "<table border=\"1\" class=\"dataframe\">\n",
       "  <thead>\n",
       "    <tr style=\"text-align: right;\">\n",
       "      <th></th>\n",
       "      <th>Titre</th>\n",
       "      <th>URL</th>\n",
       "      <th>Date de publication</th>\n",
       "      <th>Description</th>\n",
       "      <th>Source</th>\n",
       "      <th>Contenu</th>\n",
       "    </tr>\n",
       "  </thead>\n",
       "  <tbody>\n",
       "    <tr>\n",
       "      <th>0</th>\n",
       "      <td>Apple Faces MacBook Air Release Problem</td>\n",
       "      <td>https://www.forbes.com/sites/ewanspence/2023/1...</td>\n",
       "      <td>2023-12-24 15:29:03+00:00</td>\n",
       "      <td>Apple faces a crucial decision about the next-...</td>\n",
       "      <td>Forbes</td>\n",
       "      <td>&lt;!DOCTYPE html&gt;&lt;html lang=\"en\"&gt;&lt;head&gt;&lt;link rel...</td>\n",
       "    </tr>\n",
       "    <tr>\n",
       "      <th>1</th>\n",
       "      <td>Setting Up A New Apple iPhone: The 7 Things Yo...</td>\n",
       "      <td>https://www.forbes.com/sites/davidphelan/2023/...</td>\n",
       "      <td>2023-12-24 11:00:39+00:00</td>\n",
       "      <td>So, you’ve just snagged a new iPhone? Congrats...</td>\n",
       "      <td>Forbes</td>\n",
       "      <td>&lt;!DOCTYPE html&gt;&lt;html lang=\"en\"&gt;&lt;head&gt;&lt;link rel...</td>\n",
       "    </tr>\n",
       "    <tr>\n",
       "      <th>2</th>\n",
       "      <td>Apple iOS 17.3 Release Date: Awesome iPhone Up...</td>\n",
       "      <td>https://www.forbes.com/sites/davidphelan/2023/...</td>\n",
       "      <td>2023-12-24 10:25:07+00:00</td>\n",
       "      <td>The next big iOS update is on its way and incl...</td>\n",
       "      <td>Forbes</td>\n",
       "      <td>&lt;!DOCTYPE html&gt;&lt;html lang=\"en\"&gt;&lt;head&gt;&lt;link rel...</td>\n",
       "    </tr>\n",
       "    <tr>\n",
       "      <th>3</th>\n",
       "      <td>Apple Faces MacBook Air Release Problem</td>\n",
       "      <td>https://www.forbes.com/sites/ewanspence/2023/1...</td>\n",
       "      <td>2023-12-23 22:28:24+00:00</td>\n",
       "      <td>Apple faces a crucial decision about the next-...</td>\n",
       "      <td>Forbes</td>\n",
       "      <td>&lt;!DOCTYPE html&gt;&lt;html lang=\"en\"&gt;&lt;head&gt;&lt;link rel...</td>\n",
       "    </tr>\n",
       "    <tr>\n",
       "      <th>4</th>\n",
       "      <td>iOS 17.3: Apple Is About To Launch An Awesome ...</td>\n",
       "      <td>https://www.forbes.com/sites/davidphelan/2023/...</td>\n",
       "      <td>2023-12-23 11:00:02+00:00</td>\n",
       "      <td>The next big iOS update is on its way and incl...</td>\n",
       "      <td>Forbes</td>\n",
       "      <td>&lt;!DOCTYPE html&gt;&lt;html lang=\"en\"&gt;&lt;head&gt;&lt;link rel...</td>\n",
       "    </tr>\n",
       "  </tbody>\n",
       "</table>\n",
       "</div>"
      ],
      "text/plain": [
       "                                               Titre  \\\n",
       "0            Apple Faces MacBook Air Release Problem   \n",
       "1  Setting Up A New Apple iPhone: The 7 Things Yo...   \n",
       "2  Apple iOS 17.3 Release Date: Awesome iPhone Up...   \n",
       "3            Apple Faces MacBook Air Release Problem   \n",
       "4  iOS 17.3: Apple Is About To Launch An Awesome ...   \n",
       "\n",
       "                                                 URL  \\\n",
       "0  https://www.forbes.com/sites/ewanspence/2023/1...   \n",
       "1  https://www.forbes.com/sites/davidphelan/2023/...   \n",
       "2  https://www.forbes.com/sites/davidphelan/2023/...   \n",
       "3  https://www.forbes.com/sites/ewanspence/2023/1...   \n",
       "4  https://www.forbes.com/sites/davidphelan/2023/...   \n",
       "\n",
       "        Date de publication  \\\n",
       "0 2023-12-24 15:29:03+00:00   \n",
       "1 2023-12-24 11:00:39+00:00   \n",
       "2 2023-12-24 10:25:07+00:00   \n",
       "3 2023-12-23 22:28:24+00:00   \n",
       "4 2023-12-23 11:00:02+00:00   \n",
       "\n",
       "                                         Description  Source  \\\n",
       "0  Apple faces a crucial decision about the next-...  Forbes   \n",
       "1  So, you’ve just snagged a new iPhone? Congrats...  Forbes   \n",
       "2  The next big iOS update is on its way and incl...  Forbes   \n",
       "3  Apple faces a crucial decision about the next-...  Forbes   \n",
       "4  The next big iOS update is on its way and incl...  Forbes   \n",
       "\n",
       "                                             Contenu  \n",
       "0  <!DOCTYPE html><html lang=\"en\"><head><link rel...  \n",
       "1  <!DOCTYPE html><html lang=\"en\"><head><link rel...  \n",
       "2  <!DOCTYPE html><html lang=\"en\"><head><link rel...  \n",
       "3  <!DOCTYPE html><html lang=\"en\"><head><link rel...  \n",
       "4  <!DOCTYPE html><html lang=\"en\"><head><link rel...  "
      ]
     },
     "execution_count": 394,
     "metadata": {},
     "output_type": "execute_result"
    }
   ],
   "source": [
    "#Transformation de la colonne Date de publication en DateTime\n",
    "\n",
    "df['Date de publication']=pd.to_datetime(df['Date de publication'])\n",
    "df.head()"
   ]
  },
  {
   "cell_type": "markdown",
   "metadata": {},
   "source": [
    "Comparaison de la taille des différents titres / descriptions / contenus"
   ]
  },
  {
   "cell_type": "code",
   "execution_count": 395,
   "metadata": {},
   "outputs": [
    {
     "name": "stderr",
     "output_type": "stream",
     "text": [
      "huggingface/tokenizers: The current process just got forked, after parallelism has already been used. Disabling parallelism to avoid deadlocks...\n",
      "To disable this warning, you can either:\n",
      "\t- Avoid using `tokenizers` before the fork if possible\n",
      "\t- Explicitly set the environment variable TOKENIZERS_PARALLELISM=(true | false)\n"
     ]
    },
    {
     "name": "stdout",
     "output_type": "stream",
     "text": [
      "Defaulting to user installation because normal site-packages is not writeable\n",
      "Requirement already satisfied: seaborn in /Users/dabadieraphael/Library/Python/3.9/lib/python/site-packages (0.13.0)\n",
      "Requirement already satisfied: numpy!=1.24.0,>=1.20 in /Users/dabadieraphael/Library/Python/3.9/lib/python/site-packages (from seaborn) (1.26.2)\n",
      "Requirement already satisfied: matplotlib!=3.6.1,>=3.3 in /Users/dabadieraphael/Library/Python/3.9/lib/python/site-packages (from seaborn) (3.8.2)\n",
      "Requirement already satisfied: pandas>=1.2 in /Users/dabadieraphael/Library/Python/3.9/lib/python/site-packages (from seaborn) (2.1.3)\n",
      "Requirement already satisfied: fonttools>=4.22.0 in /Users/dabadieraphael/Library/Python/3.9/lib/python/site-packages (from matplotlib!=3.6.1,>=3.3->seaborn) (4.46.0)\n",
      "Requirement already satisfied: contourpy>=1.0.1 in /Users/dabadieraphael/Library/Python/3.9/lib/python/site-packages (from matplotlib!=3.6.1,>=3.3->seaborn) (1.2.0)\n",
      "Requirement already satisfied: packaging>=20.0 in /Users/dabadieraphael/Library/Python/3.9/lib/python/site-packages (from matplotlib!=3.6.1,>=3.3->seaborn) (23.2)\n",
      "Requirement already satisfied: cycler>=0.10 in /Users/dabadieraphael/Library/Python/3.9/lib/python/site-packages (from matplotlib!=3.6.1,>=3.3->seaborn) (0.12.1)\n",
      "Requirement already satisfied: importlib-resources>=3.2.0 in /Users/dabadieraphael/Library/Python/3.9/lib/python/site-packages (from matplotlib!=3.6.1,>=3.3->seaborn) (6.1.1)\n",
      "Requirement already satisfied: pillow>=8 in /Users/dabadieraphael/Library/Python/3.9/lib/python/site-packages (from matplotlib!=3.6.1,>=3.3->seaborn) (10.1.0)\n",
      "Requirement already satisfied: kiwisolver>=1.3.1 in /Users/dabadieraphael/Library/Python/3.9/lib/python/site-packages (from matplotlib!=3.6.1,>=3.3->seaborn) (1.4.5)\n",
      "Requirement already satisfied: pyparsing>=2.3.1 in /Users/dabadieraphael/Library/Python/3.9/lib/python/site-packages (from matplotlib!=3.6.1,>=3.3->seaborn) (3.1.1)\n",
      "Requirement already satisfied: python-dateutil>=2.7 in /Users/dabadieraphael/Library/Python/3.9/lib/python/site-packages (from matplotlib!=3.6.1,>=3.3->seaborn) (2.8.2)\n",
      "Requirement already satisfied: zipp>=3.1.0 in /Users/dabadieraphael/Library/Python/3.9/lib/python/site-packages (from importlib-resources>=3.2.0->matplotlib!=3.6.1,>=3.3->seaborn) (3.17.0)\n",
      "Requirement already satisfied: tzdata>=2022.1 in /Users/dabadieraphael/Library/Python/3.9/lib/python/site-packages (from pandas>=1.2->seaborn) (2023.3)\n",
      "Requirement already satisfied: pytz>=2020.1 in /Users/dabadieraphael/Library/Python/3.9/lib/python/site-packages (from pandas>=1.2->seaborn) (2023.3.post1)\n",
      "Requirement already satisfied: six>=1.5 in /Library/Developer/CommandLineTools/Library/Frameworks/Python3.framework/Versions/3.9/lib/python3.9/site-packages (from python-dateutil>=2.7->matplotlib!=3.6.1,>=3.3->seaborn) (1.15.0)\n",
      "\u001b[33mWARNING: You are using pip version 21.2.4; however, version 23.3.2 is available.\n",
      "You should consider upgrading via the '/Library/Developer/CommandLineTools/usr/bin/python3 -m pip install --upgrade pip' command.\u001b[0m\n",
      "Note: you may need to restart the kernel to use updated packages.\n"
     ]
    }
   ],
   "source": [
    "pip install seaborn"
   ]
  },
  {
   "cell_type": "code",
   "execution_count": 396,
   "metadata": {},
   "outputs": [
    {
     "data": {
      "image/png": "[encoded data removed]",
      "text/plain": [
       "<Figure size 1200x800 with 1 Axes>"
      ]
     },
     "metadata": {},
     "output_type": "display_data"
    }
   ],
   "source": [
    "import matplotlib.pyplot as plt\n",
    "import seaborn as sns\n",
    "\n",
    "df['Title_length']=df['Titre'].apply(lambda x : len(str(x).split()))\n",
    "df_sorted_by_title=df.sort_values(by='Title_length', ascending=False)\n",
    "\n",
    "\n",
    "plt.figure(figsize=(12, 8))\n",
    "sns.barplot(x='Title_length', y='Titre', data=df_sorted_by_title, orient='h')\n",
    "\n",
    "plt.xlabel('Nombre de mots dans le titre')\n",
    "plt.ylabel('Titre')\n",
    "plt.title('Longueur du titre par article')\n",
    "plt.show()"
   ]
  },
  {
   "cell_type": "code",
   "execution_count": 397,
   "metadata": {},
   "outputs": [
    {
     "data": {
      "image/png": "[encoded data removed]",
      "text/plain": [
       "<Figure size 1200x800 with 1 Axes>"
      ]
     },
     "metadata": {},
     "output_type": "display_data"
    }
   ],
   "source": [
    "df['Description_length']=df['Description'].apply(lambda x : len(str(x).split()))\n",
    "df_sorted_by_title=df.sort_values(by='Description_length', ascending=False)\n",
    "\n",
    "\n",
    "plt.figure(figsize=(12, 8))\n",
    "sns.barplot(x='Description_length', y='Titre', data=df_sorted_by_title, orient='h', color='red')\n",
    "\n",
    "plt.xlabel('Nombre de mots dans la description')\n",
    "plt.ylabel('Titre')\n",
    "plt.title('Longueur de la description par titre d\\'article')\n",
    "plt.show()"
   ]
  },
  {
   "cell_type": "code",
   "execution_count": 398,
   "metadata": {},
   "outputs": [
    {
     "data": {
      "image/png": "[encoded data removed]",
      "text/plain": [
       "<Figure size 1200x800 with 1 Axes>"
      ]
     },
     "metadata": {},
     "output_type": "display_data"
    }
   ],
   "source": [
    "df['Content_length']=df['Contenu'].apply(lambda x : len(str(x).split()))\n",
    "df_sorted_by_title=df.sort_values(by='Content_length', ascending=False)\n",
    "\n",
    "\n",
    "plt.figure(figsize=(12, 8))\n",
    "sns.barplot(x='Content_length', y='Titre', data=df_sorted_by_title, orient='h', color='cyan')\n",
    "\n",
    "plt.xlabel(\"Nombre de mots dans l'article\")\n",
    "plt.ylabel('Titre')\n",
    "plt.title('Longueur du contenu par titre d\\'article')\n",
    "plt.show()"
   ]
  },
  {
   "cell_type": "code",
   "execution_count": 399,
   "metadata": {},
   "outputs": [
    {
     "data": {
      "text/html": [
       "<div>\n",
       "<style scoped>\n",
       "    .dataframe tbody tr th:only-of-type {\n",
       "        vertical-align: middle;\n",
       "    }\n",
       "\n",
       "    .dataframe tbody tr th {\n",
       "        vertical-align: top;\n",
       "    }\n",
       "\n",
       "    .dataframe thead th {\n",
       "        text-align: right;\n",
       "    }\n",
       "</style>\n",
       "<table border=\"1\" class=\"dataframe\">\n",
       "  <thead>\n",
       "    <tr style=\"text-align: right;\">\n",
       "      <th></th>\n",
       "      <th>Titre</th>\n",
       "      <th>URL</th>\n",
       "      <th>Date de publication</th>\n",
       "      <th>Description</th>\n",
       "      <th>Source</th>\n",
       "      <th>Contenu</th>\n",
       "      <th>Title_length</th>\n",
       "      <th>Description_length</th>\n",
       "      <th>Content_length</th>\n",
       "    </tr>\n",
       "  </thead>\n",
       "  <tbody>\n",
       "    <tr>\n",
       "      <th>22</th>\n",
       "      <td>Apple Halts Sale Of Watch Series 9 And Ultra 2...</td>\n",
       "      <td>https://www.forbes.com/sites/jamesfarrell/2023...</td>\n",
       "      <td>2023-12-18 15:53:33+00:00</td>\n",
       "      <td>Apple will halt sales of its Apple Watch Serie...</td>\n",
       "      <td>Forbes</td>\n",
       "      <td>&lt;!DOCTYPE html&gt;&lt;html lang=\"en\"&gt;&lt;head&gt;&lt;link rel...</td>\n",
       "      <td>13</td>\n",
       "      <td>43</td>\n",
       "      <td>14654</td>\n",
       "    </tr>\n",
       "    <tr>\n",
       "      <th>7</th>\n",
       "      <td>What To Stream This Weekend: New Shows And Mov...</td>\n",
       "      <td>https://www.forbes.com/sites/erikkain/2023/12/...</td>\n",
       "      <td>2023-12-22 19:13:12+00:00</td>\n",
       "      <td>The final weekend of Advent is here, with Chri...</td>\n",
       "      <td>Forbes</td>\n",
       "      <td>&lt;!DOCTYPE html&gt;&lt;html lang=\"en\"&gt;&lt;head&gt;&lt;link rel...</td>\n",
       "      <td>16</td>\n",
       "      <td>30</td>\n",
       "      <td>14096</td>\n",
       "    </tr>\n",
       "    <tr>\n",
       "      <th>16</th>\n",
       "      <td>2024 Is the Year Of Vision: Large Vision Model...</td>\n",
       "      <td>https://www.forbes.com/sites/cathyhackl/2023/1...</td>\n",
       "      <td>2023-12-20 14:10:31+00:00</td>\n",
       "      <td>From computer vision to Large Vision Models an...</td>\n",
       "      <td>Forbes</td>\n",
       "      <td>&lt;!DOCTYPE html&gt;&lt;html lang=\"en\"&gt;&lt;head&gt;&lt;link rel...</td>\n",
       "      <td>18</td>\n",
       "      <td>32</td>\n",
       "      <td>14032</td>\n",
       "    </tr>\n",
       "    <tr>\n",
       "      <th>15</th>\n",
       "      <td>Apple Halts U.S. Sales Of Apple Watch Series 9...</td>\n",
       "      <td>https://www.forbes.com/sites/davidphelan/2023/...</td>\n",
       "      <td>2023-12-21 09:30:13+00:00</td>\n",
       "      <td>With days left of holiday shopping, Apple sudd...</td>\n",
       "      <td>Forbes</td>\n",
       "      <td>&lt;!DOCTYPE html&gt;&lt;html lang=\"en\"&gt;&lt;head&gt;&lt;link rel...</td>\n",
       "      <td>14</td>\n",
       "      <td>26</td>\n",
       "      <td>13727</td>\n",
       "    </tr>\n",
       "    <tr>\n",
       "      <th>21</th>\n",
       "      <td>Apple Takes Unprecedented Step: Will Stop Sale...</td>\n",
       "      <td>https://www.forbes.com/sites/davidphelan/2023/...</td>\n",
       "      <td>2023-12-18 19:00:03+00:00</td>\n",
       "      <td>If you want to buy an Apple Watch Series 9 or ...</td>\n",
       "      <td>Forbes</td>\n",
       "      <td>&lt;!DOCTYPE html&gt;&lt;html lang=\"en\"&gt;&lt;head&gt;&lt;link rel...</td>\n",
       "      <td>16</td>\n",
       "      <td>24</td>\n",
       "      <td>13727</td>\n",
       "    </tr>\n",
       "    <tr>\n",
       "      <th>5</th>\n",
       "      <td>iOS 17.2.1: Apple Suddenly Releases Unexpected...</td>\n",
       "      <td>https://www.forbes.com/sites/davidphelan/2023/...</td>\n",
       "      <td>2023-12-23 09:15:36+00:00</td>\n",
       "      <td>If you thought the next Apple update would be ...</td>\n",
       "      <td>Forbes</td>\n",
       "      <td>&lt;!DOCTYPE html&gt;&lt;html lang=\"en\"&gt;&lt;head&gt;&lt;link rel...</td>\n",
       "      <td>11</td>\n",
       "      <td>23</td>\n",
       "      <td>13691</td>\n",
       "    </tr>\n",
       "    <tr>\n",
       "      <th>9</th>\n",
       "      <td>iOS 17.2.1: Apple Suddenly Releases Unexpected...</td>\n",
       "      <td>https://www.forbes.com/sites/davidphelan/2023/...</td>\n",
       "      <td>2023-12-22 10:45:02+00:00</td>\n",
       "      <td>If you thought the next Apple update would be ...</td>\n",
       "      <td>Forbes</td>\n",
       "      <td>&lt;!DOCTYPE html&gt;&lt;html lang=\"en\"&gt;&lt;head&gt;&lt;link rel...</td>\n",
       "      <td>11</td>\n",
       "      <td>23</td>\n",
       "      <td>13691</td>\n",
       "    </tr>\n",
       "    <tr>\n",
       "      <th>17</th>\n",
       "      <td>iOS 17.2.1: Apple Suddenly Releases Urgent Upd...</td>\n",
       "      <td>https://www.forbes.com/sites/davidphelan/2023/...</td>\n",
       "      <td>2023-12-20 11:39:14+00:00</td>\n",
       "      <td>If you thought the next Apple update would be ...</td>\n",
       "      <td>Forbes</td>\n",
       "      <td>&lt;!DOCTYPE html&gt;&lt;html lang=\"en\"&gt;&lt;head&gt;&lt;link rel...</td>\n",
       "      <td>11</td>\n",
       "      <td>28</td>\n",
       "      <td>13691</td>\n",
       "    </tr>\n",
       "    <tr>\n",
       "      <th>6</th>\n",
       "      <td>Apple Loop: iPhone 16 Pro AI Secrets, Snapdrag...</td>\n",
       "      <td>https://www.forbes.com/sites/ewanspence/2023/1...</td>\n",
       "      <td>2023-12-22 22:34:51+00:00</td>\n",
       "      <td>This week’s Apple headlines; leaked iPhone det...</td>\n",
       "      <td>Forbes</td>\n",
       "      <td>&lt;!DOCTYPE html&gt;&lt;html lang=\"en\"&gt;&lt;head&gt;&lt;link rel...</td>\n",
       "      <td>14</td>\n",
       "      <td>31</td>\n",
       "      <td>13639</td>\n",
       "    </tr>\n",
       "    <tr>\n",
       "      <th>2</th>\n",
       "      <td>Apple iOS 17.3 Release Date: Awesome iPhone Up...</td>\n",
       "      <td>https://www.forbes.com/sites/davidphelan/2023/...</td>\n",
       "      <td>2023-12-24 10:25:07+00:00</td>\n",
       "      <td>The next big iOS update is on its way and incl...</td>\n",
       "      <td>Forbes</td>\n",
       "      <td>&lt;!DOCTYPE html&gt;&lt;html lang=\"en\"&gt;&lt;head&gt;&lt;link rel...</td>\n",
       "      <td>10</td>\n",
       "      <td>20</td>\n",
       "      <td>13308</td>\n",
       "    </tr>\n",
       "    <tr>\n",
       "      <th>4</th>\n",
       "      <td>iOS 17.3: Apple Is About To Launch An Awesome ...</td>\n",
       "      <td>https://www.forbes.com/sites/davidphelan/2023/...</td>\n",
       "      <td>2023-12-23 11:00:02+00:00</td>\n",
       "      <td>The next big iOS update is on its way and incl...</td>\n",
       "      <td>Forbes</td>\n",
       "      <td>&lt;!DOCTYPE html&gt;&lt;html lang=\"en\"&gt;&lt;head&gt;&lt;link rel...</td>\n",
       "      <td>12</td>\n",
       "      <td>20</td>\n",
       "      <td>13308</td>\n",
       "    </tr>\n",
       "    <tr>\n",
       "      <th>20</th>\n",
       "      <td>Apple Scrambles For Software Fix To Beat Thurs...</td>\n",
       "      <td>https://www.forbes.com/sites/davidphelan/2023/...</td>\n",
       "      <td>2023-12-19 18:32:48+00:00</td>\n",
       "      <td>Apple will pause sales of Apple Watch Series 9...</td>\n",
       "      <td>Forbes</td>\n",
       "      <td>&lt;!DOCTYPE html&gt;&lt;html lang=\"en\"&gt;&lt;head&gt;&lt;link rel...</td>\n",
       "      <td>11</td>\n",
       "      <td>31</td>\n",
       "      <td>13247</td>\n",
       "    </tr>\n",
       "    <tr>\n",
       "      <th>1</th>\n",
       "      <td>Setting Up A New Apple iPhone: The 7 Things Yo...</td>\n",
       "      <td>https://www.forbes.com/sites/davidphelan/2023/...</td>\n",
       "      <td>2023-12-24 11:00:39+00:00</td>\n",
       "      <td>So, you’ve just snagged a new iPhone? Congrats...</td>\n",
       "      <td>Forbes</td>\n",
       "      <td>&lt;!DOCTYPE html&gt;&lt;html lang=\"en\"&gt;&lt;head&gt;&lt;link rel...</td>\n",
       "      <td>13</td>\n",
       "      <td>28</td>\n",
       "      <td>13114</td>\n",
       "    </tr>\n",
       "    <tr>\n",
       "      <th>13</th>\n",
       "      <td>Google Is Showing Apple What The iPhone 15 Is ...</td>\n",
       "      <td>https://www.forbes.com/sites/jaymcgregor/2023/...</td>\n",
       "      <td>2023-12-21 16:31:29+00:00</td>\n",
       "      <td>Google is showing Apple the way on smartphone ...</td>\n",
       "      <td>Forbes</td>\n",
       "      <td>&lt;!DOCTYPE html&gt;&lt;html lang=\"en\"&gt;&lt;head&gt;&lt;link rel...</td>\n",
       "      <td>11</td>\n",
       "      <td>9</td>\n",
       "      <td>13065</td>\n",
       "    </tr>\n",
       "    <tr>\n",
       "      <th>11</th>\n",
       "      <td>Apple Watch Series 9 Sales Ban Has Surprise St...</td>\n",
       "      <td>https://www.forbes.com/sites/davidphelan/2023/...</td>\n",
       "      <td>2023-12-22 10:00:48+00:00</td>\n",
       "      <td>You can no longer buy the Apple Watch Series 9...</td>\n",
       "      <td>Forbes</td>\n",
       "      <td>&lt;!DOCTYPE html&gt;&lt;html lang=\"en\"&gt;&lt;head&gt;&lt;link rel...</td>\n",
       "      <td>12</td>\n",
       "      <td>29</td>\n",
       "      <td>13060</td>\n",
       "    </tr>\n",
       "    <tr>\n",
       "      <th>14</th>\n",
       "      <td>iOS 17.2.1—Apple Issues Surprise New Update Fo...</td>\n",
       "      <td>https://www.forbes.com/sites/kateoflahertyuk/2...</td>\n",
       "      <td>2023-12-21 15:16:26+00:00</td>\n",
       "      <td>Apple has issued iOS 17.2.1, a surprise new iP...</td>\n",
       "      <td>Forbes</td>\n",
       "      <td>&lt;!DOCTYPE html&gt;&lt;html lang=\"en\"&gt;&lt;head&gt;&lt;link rel...</td>\n",
       "      <td>10</td>\n",
       "      <td>20</td>\n",
       "      <td>12823</td>\n",
       "    </tr>\n",
       "    <tr>\n",
       "      <th>18</th>\n",
       "      <td>iOS 17.2.1—Apple Issues Surprise New Update Fo...</td>\n",
       "      <td>https://www.forbes.com/sites/kateoflahertyuk/2...</td>\n",
       "      <td>2023-12-20 09:21:16+00:00</td>\n",
       "      <td>Apple has issued iOS 17.2.1, a surprise new iP...</td>\n",
       "      <td>Forbes</td>\n",
       "      <td>&lt;!DOCTYPE html&gt;&lt;html lang=\"en\"&gt;&lt;head&gt;&lt;link rel...</td>\n",
       "      <td>10</td>\n",
       "      <td>20</td>\n",
       "      <td>12823</td>\n",
       "    </tr>\n",
       "    <tr>\n",
       "      <th>10</th>\n",
       "      <td>Apple iOS 17.2.1 Surprise iPhone Software Rele...</td>\n",
       "      <td>https://www.forbes.com/sites/davidphelan/2023/...</td>\n",
       "      <td>2023-12-22 10:30:03+00:00</td>\n",
       "      <td>There’s been a surprise iPhone software update...</td>\n",
       "      <td>Forbes</td>\n",
       "      <td>&lt;!DOCTYPE html&gt;&lt;html lang=\"en\"&gt;&lt;head&gt;&lt;link rel...</td>\n",
       "      <td>10</td>\n",
       "      <td>25</td>\n",
       "      <td>12750</td>\n",
       "    </tr>\n",
       "    <tr>\n",
       "      <th>0</th>\n",
       "      <td>Apple Faces MacBook Air Release Problem</td>\n",
       "      <td>https://www.forbes.com/sites/ewanspence/2023/1...</td>\n",
       "      <td>2023-12-24 15:29:03+00:00</td>\n",
       "      <td>Apple faces a crucial decision about the next-...</td>\n",
       "      <td>Forbes</td>\n",
       "      <td>&lt;!DOCTYPE html&gt;&lt;html lang=\"en\"&gt;&lt;head&gt;&lt;link rel...</td>\n",
       "      <td>6</td>\n",
       "      <td>19</td>\n",
       "      <td>12735</td>\n",
       "    </tr>\n",
       "    <tr>\n",
       "      <th>3</th>\n",
       "      <td>Apple Faces MacBook Air Release Problem</td>\n",
       "      <td>https://www.forbes.com/sites/ewanspence/2023/1...</td>\n",
       "      <td>2023-12-23 22:28:24+00:00</td>\n",
       "      <td>Apple faces a crucial decision about the next-...</td>\n",
       "      <td>Forbes</td>\n",
       "      <td>&lt;!DOCTYPE html&gt;&lt;html lang=\"en\"&gt;&lt;head&gt;&lt;link rel...</td>\n",
       "      <td>6</td>\n",
       "      <td>19</td>\n",
       "      <td>12601</td>\n",
       "    </tr>\n",
       "    <tr>\n",
       "      <th>8</th>\n",
       "      <td>Eve Play Brings Apple’s AirPlay Streaming To A...</td>\n",
       "      <td>https://www.forbes.com/sites/marksparrow/2023/...</td>\n",
       "      <td>2023-12-22 12:14:30+00:00</td>\n",
       "      <td>Eve Play brings Apple AirPLay 2 to almost any ...</td>\n",
       "      <td>Forbes</td>\n",
       "      <td>&lt;!DOCTYPE html&gt;&lt;html lang=\"en\"&gt;&lt;head&gt;&lt;link rel...</td>\n",
       "      <td>11</td>\n",
       "      <td>30</td>\n",
       "      <td>12525</td>\n",
       "    </tr>\n",
       "    <tr>\n",
       "      <th>19</th>\n",
       "      <td>‘The Buccaneers’ Renewed For Season 2 At Apple...</td>\n",
       "      <td>https://www.forbes.com/sites/monicamercuri/202...</td>\n",
       "      <td>2023-12-19 20:12:48+00:00</td>\n",
       "      <td>Fans of the 19th-century period drama, \"The Bu...</td>\n",
       "      <td>Forbes</td>\n",
       "      <td>&lt;!DOCTYPE html&gt;&lt;html lang=\"en\"&gt;&lt;head&gt;&lt;link rel...</td>\n",
       "      <td>9</td>\n",
       "      <td>25</td>\n",
       "      <td>12325</td>\n",
       "    </tr>\n",
       "    <tr>\n",
       "      <th>12</th>\n",
       "      <td>5 Smartwatches For Travelers To Wear Into 2024...</td>\n",
       "      <td>https://www.forbes.com/sites/breannawilson/202...</td>\n",
       "      <td>2023-12-21 23:41:48+00:00</td>\n",
       "      <td>With Apple halting online sales of the Apple W...</td>\n",
       "      <td>Forbes</td>\n",
       "      <td>&lt;!DOCTYPE html&gt;&lt;html lang=\"en\"&gt;&lt;head&gt;&lt;link rel...</td>\n",
       "      <td>13</td>\n",
       "      <td>26</td>\n",
       "      <td>12315</td>\n",
       "    </tr>\n",
       "  </tbody>\n",
       "</table>\n",
       "</div>"
      ],
      "text/plain": [
       "                                                Titre  \\\n",
       "22  Apple Halts Sale Of Watch Series 9 And Ultra 2...   \n",
       "7   What To Stream This Weekend: New Shows And Mov...   \n",
       "16  2024 Is the Year Of Vision: Large Vision Model...   \n",
       "15  Apple Halts U.S. Sales Of Apple Watch Series 9...   \n",
       "21  Apple Takes Unprecedented Step: Will Stop Sale...   \n",
       "5   iOS 17.2.1: Apple Suddenly Releases Unexpected...   \n",
       "9   iOS 17.2.1: Apple Suddenly Releases Unexpected...   \n",
       "17  iOS 17.2.1: Apple Suddenly Releases Urgent Upd...   \n",
       "6   Apple Loop: iPhone 16 Pro AI Secrets, Snapdrag...   \n",
       "2   Apple iOS 17.3 Release Date: Awesome iPhone Up...   \n",
       "4   iOS 17.3: Apple Is About To Launch An Awesome ...   \n",
       "20  Apple Scrambles For Software Fix To Beat Thurs...   \n",
       "1   Setting Up A New Apple iPhone: The 7 Things Yo...   \n",
       "13  Google Is Showing Apple What The iPhone 15 Is ...   \n",
       "11  Apple Watch Series 9 Sales Ban Has Surprise St...   \n",
       "14  iOS 17.2.1—Apple Issues Surprise New Update Fo...   \n",
       "18  iOS 17.2.1—Apple Issues Surprise New Update Fo...   \n",
       "10  Apple iOS 17.2.1 Surprise iPhone Software Rele...   \n",
       "0             Apple Faces MacBook Air Release Problem   \n",
       "3             Apple Faces MacBook Air Release Problem   \n",
       "8   Eve Play Brings Apple’s AirPlay Streaming To A...   \n",
       "19  ‘The Buccaneers’ Renewed For Season 2 At Apple...   \n",
       "12  5 Smartwatches For Travelers To Wear Into 2024...   \n",
       "\n",
       "                                                  URL  \\\n",
       "22  https://www.forbes.com/sites/jamesfarrell/2023...   \n",
       "7   https://www.forbes.com/sites/erikkain/2023/12/...   \n",
       "16  https://www.forbes.com/sites/cathyhackl/2023/1...   \n",
       "15  https://www.forbes.com/sites/davidphelan/2023/...   \n",
       "21  https://www.forbes.com/sites/davidphelan/2023/...   \n",
       "5   https://www.forbes.com/sites/davidphelan/2023/...   \n",
       "9   https://www.forbes.com/sites/davidphelan/2023/...   \n",
       "17  https://www.forbes.com/sites/davidphelan/2023/...   \n",
       "6   https://www.forbes.com/sites/ewanspence/2023/1...   \n",
       "2   https://www.forbes.com/sites/davidphelan/2023/...   \n",
       "4   https://www.forbes.com/sites/davidphelan/2023/...   \n",
       "20  https://www.forbes.com/sites/davidphelan/2023/...   \n",
       "1   https://www.forbes.com/sites/davidphelan/2023/...   \n",
       "13  https://www.forbes.com/sites/jaymcgregor/2023/...   \n",
       "11  https://www.forbes.com/sites/davidphelan/2023/...   \n",
       "14  https://www.forbes.com/sites/kateoflahertyuk/2...   \n",
       "18  https://www.forbes.com/sites/kateoflahertyuk/2...   \n",
       "10  https://www.forbes.com/sites/davidphelan/2023/...   \n",
       "0   https://www.forbes.com/sites/ewanspence/2023/1...   \n",
       "3   https://www.forbes.com/sites/ewanspence/2023/1...   \n",
       "8   https://www.forbes.com/sites/marksparrow/2023/...   \n",
       "19  https://www.forbes.com/sites/monicamercuri/202...   \n",
       "12  https://www.forbes.com/sites/breannawilson/202...   \n",
       "\n",
       "         Date de publication  \\\n",
       "22 2023-12-18 15:53:33+00:00   \n",
       "7  2023-12-22 19:13:12+00:00   \n",
       "16 2023-12-20 14:10:31+00:00   \n",
       "15 2023-12-21 09:30:13+00:00   \n",
       "21 2023-12-18 19:00:03+00:00   \n",
       "5  2023-12-23 09:15:36+00:00   \n",
       "9  2023-12-22 10:45:02+00:00   \n",
       "17 2023-12-20 11:39:14+00:00   \n",
       "6  2023-12-22 22:34:51+00:00   \n",
       "2  2023-12-24 10:25:07+00:00   \n",
       "4  2023-12-23 11:00:02+00:00   \n",
       "20 2023-12-19 18:32:48+00:00   \n",
       "1  2023-12-24 11:00:39+00:00   \n",
       "13 2023-12-21 16:31:29+00:00   \n",
       "11 2023-12-22 10:00:48+00:00   \n",
       "14 2023-12-21 15:16:26+00:00   \n",
       "18 2023-12-20 09:21:16+00:00   \n",
       "10 2023-12-22 10:30:03+00:00   \n",
       "0  2023-12-24 15:29:03+00:00   \n",
       "3  2023-12-23 22:28:24+00:00   \n",
       "8  2023-12-22 12:14:30+00:00   \n",
       "19 2023-12-19 20:12:48+00:00   \n",
       "12 2023-12-21 23:41:48+00:00   \n",
       "\n",
       "                                          Description  Source  \\\n",
       "22  Apple will halt sales of its Apple Watch Serie...  Forbes   \n",
       "7   The final weekend of Advent is here, with Chri...  Forbes   \n",
       "16  From computer vision to Large Vision Models an...  Forbes   \n",
       "15  With days left of holiday shopping, Apple sudd...  Forbes   \n",
       "21  If you want to buy an Apple Watch Series 9 or ...  Forbes   \n",
       "5   If you thought the next Apple update would be ...  Forbes   \n",
       "9   If you thought the next Apple update would be ...  Forbes   \n",
       "17  If you thought the next Apple update would be ...  Forbes   \n",
       "6   This week’s Apple headlines; leaked iPhone det...  Forbes   \n",
       "2   The next big iOS update is on its way and incl...  Forbes   \n",
       "4   The next big iOS update is on its way and incl...  Forbes   \n",
       "20  Apple will pause sales of Apple Watch Series 9...  Forbes   \n",
       "1   So, you’ve just snagged a new iPhone? Congrats...  Forbes   \n",
       "13  Google is showing Apple the way on smartphone ...  Forbes   \n",
       "11  You can no longer buy the Apple Watch Series 9...  Forbes   \n",
       "14  Apple has issued iOS 17.2.1, a surprise new iP...  Forbes   \n",
       "18  Apple has issued iOS 17.2.1, a surprise new iP...  Forbes   \n",
       "10  There’s been a surprise iPhone software update...  Forbes   \n",
       "0   Apple faces a crucial decision about the next-...  Forbes   \n",
       "3   Apple faces a crucial decision about the next-...  Forbes   \n",
       "8   Eve Play brings Apple AirPLay 2 to almost any ...  Forbes   \n",
       "19  Fans of the 19th-century period drama, \"The Bu...  Forbes   \n",
       "12  With Apple halting online sales of the Apple W...  Forbes   \n",
       "\n",
       "                                              Contenu  Title_length  \\\n",
       "22  <!DOCTYPE html><html lang=\"en\"><head><link rel...            13   \n",
       "7   <!DOCTYPE html><html lang=\"en\"><head><link rel...            16   \n",
       "16  <!DOCTYPE html><html lang=\"en\"><head><link rel...            18   \n",
       "15  <!DOCTYPE html><html lang=\"en\"><head><link rel...            14   \n",
       "21  <!DOCTYPE html><html lang=\"en\"><head><link rel...            16   \n",
       "5   <!DOCTYPE html><html lang=\"en\"><head><link rel...            11   \n",
       "9   <!DOCTYPE html><html lang=\"en\"><head><link rel...            11   \n",
       "17  <!DOCTYPE html><html lang=\"en\"><head><link rel...            11   \n",
       "6   <!DOCTYPE html><html lang=\"en\"><head><link rel...            14   \n",
       "2   <!DOCTYPE html><html lang=\"en\"><head><link rel...            10   \n",
       "4   <!DOCTYPE html><html lang=\"en\"><head><link rel...            12   \n",
       "20  <!DOCTYPE html><html lang=\"en\"><head><link rel...            11   \n",
       "1   <!DOCTYPE html><html lang=\"en\"><head><link rel...            13   \n",
       "13  <!DOCTYPE html><html lang=\"en\"><head><link rel...            11   \n",
       "11  <!DOCTYPE html><html lang=\"en\"><head><link rel...            12   \n",
       "14  <!DOCTYPE html><html lang=\"en\"><head><link rel...            10   \n",
       "18  <!DOCTYPE html><html lang=\"en\"><head><link rel...            10   \n",
       "10  <!DOCTYPE html><html lang=\"en\"><head><link rel...            10   \n",
       "0   <!DOCTYPE html><html lang=\"en\"><head><link rel...             6   \n",
       "3   <!DOCTYPE html><html lang=\"en\"><head><link rel...             6   \n",
       "8   <!DOCTYPE html><html lang=\"en\"><head><link rel...            11   \n",
       "19  <!DOCTYPE html><html lang=\"en\"><head><link rel...             9   \n",
       "12  <!DOCTYPE html><html lang=\"en\"><head><link rel...            13   \n",
       "\n",
       "    Description_length  Content_length  \n",
       "22                  43           14654  \n",
       "7                   30           14096  \n",
       "16                  32           14032  \n",
       "15                  26           13727  \n",
       "21                  24           13727  \n",
       "5                   23           13691  \n",
       "9                   23           13691  \n",
       "17                  28           13691  \n",
       "6                   31           13639  \n",
       "2                   20           13308  \n",
       "4                   20           13308  \n",
       "20                  31           13247  \n",
       "1                   28           13114  \n",
       "13                   9           13065  \n",
       "11                  29           13060  \n",
       "14                  20           12823  \n",
       "18                  20           12823  \n",
       "10                  25           12750  \n",
       "0                   19           12735  \n",
       "3                   19           12601  \n",
       "8                   30           12525  \n",
       "19                  25           12325  \n",
       "12                  26           12315  "
      ]
     },
     "execution_count": 399,
     "metadata": {},
     "output_type": "execute_result"
    }
   ],
   "source": [
    "df_sorted_by_title"
   ]
  },
  {
   "cell_type": "code",
   "execution_count": 400,
   "metadata": {},
   "outputs": [
    {
     "data": {
      "image/png": "[encoded data removed]",
      "text/plain": [
       "<Figure size 640x480 with 2 Axes>"
      ]
     },
     "metadata": {},
     "output_type": "display_data"
    }
   ],
   "source": [
    "#Comparaison des articles récoltés entre eux selon ces trois dimensions sous forme d'un bubble chart : l'axe X correspond à la longueur du titre, l'axe Y à la longueur de la description et la taille de la bulle représentera la longueur du contenu de l'article.\n",
    "\n",
    "import matplotlib.pyplot as plt\n",
    "\n",
    "bubble_size=df['Content_length']/df['Content_length'].max()*1000 #Normalisation de la taille des bulles à des valeurs proches de celles obtenues pour les tailles de titre et de description\n",
    "\n",
    "plt.scatter(x=df['Title_length'], y=df['Description_length'],s=bubble_size,alpha=0.4)\n",
    "plt.xlabel('Longueur des titres')\n",
    "plt.ylabel('Longueur des descriptions')\n",
    "plt.title('Comparaison de la taille des différents attributs des articles récupérés')\n",
    "plt.colorbar(label='Longueur du contenu normalisée')\n",
    "plt.show()"
   ]
  },
  {
   "cell_type": "markdown",
   "metadata": {},
   "source": [
    "# Préparation du texte en vue de l'analyse de sentiments (Nettoyage et analyse des titres et descriptions)"
   ]
  },
  {
   "cell_type": "markdown",
   "metadata": {},
   "source": [
    "**Nettoyage du texte**"
   ]
  },
  {
   "cell_type": "code",
   "execution_count": 401,
   "metadata": {},
   "outputs": [],
   "source": [
    "#Fonctions importantes pour la suite \n",
    "import nltk\n",
    "from nltk.corpus import stopwords\n",
    "from nltk.stem import WordNetLemmatizer\n",
    "from nltk.tokenize import word_tokenize\n",
    "\n",
    "def cleaning_text(text):\n",
    "    #Passage du texte en miniscules\n",
    "    text=text.lower()\n",
    "    #Suppression des chiffres\n",
    "    text=re.sub(r'\\d+', '', text)\n",
    "    #Suppression de la ponctuation et des symboles spéciaux\n",
    "    text=re.sub(r'[^\\w\\s]', '', text)\n",
    "    return text\n",
    "\n",
    "\n",
    "def count_common_words(text):\n",
    "    words=text.split()\n",
    "    dict={}\n",
    "    for el in words :\n",
    "        if el not in dict:\n",
    "            dict[el]=1\n",
    "        else:\n",
    "            dict[el]+=1\n",
    "    return dict\n",
    "\n",
    "def most_common_words(dictionary):\n",
    "    sorted_dict=dict(sorted(dictionary.items(), key=lambda item: item[1], reverse=True))\n",
    "    return sorted_dict\n",
    "\n",
    "\n",
    "\n",
    "def combine_dictionaries(df,df_column_name):\n",
    "    combined_dict={}\n",
    "    column_index=df.columns.get_loc(str(df_column_name))\n",
    "    for i in range(len(df)):\n",
    "        temp_dictionary=df.iloc[i,int(column_index)]\n",
    "\n",
    "        for key, value in temp_dictionary.items():\n",
    "            if key not in combined_dict:\n",
    "                combined_dict[key]=value\n",
    "            else:\n",
    "                combined_dict[key]+=value\n",
    "    return combined_dict\n",
    "\n",
    "stops = set(stopwords.words('english'))\n",
    "lemmatizer = WordNetLemmatizer()\n",
    "def clean_stopwords(text):\n",
    "    words = word_tokenize(text)\n",
    "    cleaned_text=[word for word in words if word not in stops]\n",
    "    return ' '.join(cleaned_text)"
   ]
  },
  {
   "cell_type": "code",
   "execution_count": 402,
   "metadata": {},
   "outputs": [
    {
     "name": "stderr",
     "output_type": "stream",
     "text": [
      "huggingface/tokenizers: The current process just got forked, after parallelism has already been used. Disabling parallelism to avoid deadlocks...\n",
      "To disable this warning, you can either:\n",
      "\t- Avoid using `tokenizers` before the fork if possible\n",
      "\t- Explicitly set the environment variable TOKENIZERS_PARALLELISM=(true | false)\n"
     ]
    },
    {
     "name": "stdout",
     "output_type": "stream",
     "text": [
      "Defaulting to user installation because normal site-packages is not writeable\n",
      "Requirement already satisfied: beautifulsoup4 in /Users/dabadieraphael/Library/Python/3.9/lib/python/site-packages (4.12.2)\n",
      "Requirement already satisfied: lxml in /Users/dabadieraphael/Library/Python/3.9/lib/python/site-packages (4.9.3)\n",
      "Requirement already satisfied: soupsieve>1.2 in /Users/dabadieraphael/Library/Python/3.9/lib/python/site-packages (from beautifulsoup4) (2.5)\n",
      "\u001b[33mWARNING: You are using pip version 21.2.4; however, version 23.3.2 is available.\n",
      "You should consider upgrading via the '/Library/Developer/CommandLineTools/usr/bin/python3 -m pip install --upgrade pip' command.\u001b[0m\n",
      "Note: you may need to restart the kernel to use updated packages.\n"
     ]
    }
   ],
   "source": [
    "pip install beautifulsoup4 lxml"
   ]
  },
  {
   "cell_type": "code",
   "execution_count": 403,
   "metadata": {},
   "outputs": [],
   "source": [
    "import re"
   ]
  },
  {
   "cell_type": "code",
   "execution_count": 439,
   "metadata": {},
   "outputs": [],
   "source": [
    "df_analyse_1=df.copy()\n",
    "df_analyse_1['Titre_cleaned']=df_analyse_1['Titre'].apply(cleaning_text)\n",
    "df_analyse_1['Description_cleaned']=df_analyse_1['Description'].apply(cleaning_text)\n"
   ]
  },
  {
   "cell_type": "code",
   "execution_count": 438,
   "metadata": {},
   "outputs": [],
   "source": [
    "df_analyse_1['Counting_Words_Text']=df_analyse_1['Titre_cleaned'].apply(count_common_words)\n",
    "df_analyse_1['Counting_Words_Description']=df_analyse_1['Description_cleaned'].apply(count_common_words)"
   ]
  },
  {
   "cell_type": "code",
   "execution_count": 406,
   "metadata": {},
   "outputs": [
    {
     "data": {
      "text/html": [
       "<div>\n",
       "<style scoped>\n",
       "    .dataframe tbody tr th:only-of-type {\n",
       "        vertical-align: middle;\n",
       "    }\n",
       "\n",
       "    .dataframe tbody tr th {\n",
       "        vertical-align: top;\n",
       "    }\n",
       "\n",
       "    .dataframe thead th {\n",
       "        text-align: right;\n",
       "    }\n",
       "</style>\n",
       "<table border=\"1\" class=\"dataframe\">\n",
       "  <thead>\n",
       "    <tr style=\"text-align: right;\">\n",
       "      <th></th>\n",
       "      <th>Titre</th>\n",
       "      <th>URL</th>\n",
       "      <th>Date de publication</th>\n",
       "      <th>Description</th>\n",
       "      <th>Source</th>\n",
       "      <th>Contenu</th>\n",
       "      <th>Title_length</th>\n",
       "      <th>Description_length</th>\n",
       "      <th>Content_length</th>\n",
       "      <th>Titre_cleaned</th>\n",
       "      <th>Description_cleaned</th>\n",
       "      <th>Counting_Words_Text</th>\n",
       "      <th>Counting_Words_Description</th>\n",
       "      <th>Most_common_text</th>\n",
       "      <th>Most_common_description</th>\n",
       "    </tr>\n",
       "  </thead>\n",
       "  <tbody>\n",
       "    <tr>\n",
       "      <th>0</th>\n",
       "      <td>Apple Faces MacBook Air Release Problem</td>\n",
       "      <td>https://www.forbes.com/sites/ewanspence/2023/1...</td>\n",
       "      <td>2023-12-24 15:29:03+00:00</td>\n",
       "      <td>Apple faces a crucial decision about the next-...</td>\n",
       "      <td>Forbes</td>\n",
       "      <td>&lt;!DOCTYPE html&gt;&lt;html lang=\"en\"&gt;&lt;head&gt;&lt;link rel...</td>\n",
       "      <td>6</td>\n",
       "      <td>19</td>\n",
       "      <td>12735</td>\n",
       "      <td>apple faces macbook air release problem</td>\n",
       "      <td>apple faces a crucial decision about the nextg...</td>\n",
       "      <td>{'apple': 1, 'faces': 1, 'macbook': 1, 'air': ...</td>\n",
       "      <td>{'apple': 1, 'faces': 1, 'a': 1, 'crucial': 1,...</td>\n",
       "      <td>{'apple': 1, 'faces': 1, 'macbook': 1, 'air': ...</td>\n",
       "      <td>{'the': 2, 'macbook': 2, 'apple': 1, 'faces': ...</td>\n",
       "    </tr>\n",
       "    <tr>\n",
       "      <th>1</th>\n",
       "      <td>Setting Up A New Apple iPhone: The 7 Things Yo...</td>\n",
       "      <td>https://www.forbes.com/sites/davidphelan/2023/...</td>\n",
       "      <td>2023-12-24 11:00:39+00:00</td>\n",
       "      <td>So, you’ve just snagged a new iPhone? Congrats...</td>\n",
       "      <td>Forbes</td>\n",
       "      <td>&lt;!DOCTYPE html&gt;&lt;html lang=\"en\"&gt;&lt;head&gt;&lt;link rel...</td>\n",
       "      <td>13</td>\n",
       "      <td>28</td>\n",
       "      <td>13114</td>\n",
       "      <td>setting up a new apple iphone the  things you ...</td>\n",
       "      <td>so youve just snagged a new iphone congrats he...</td>\n",
       "      <td>{'setting': 1, 'up': 1, 'a': 1, 'new': 1, 'app...</td>\n",
       "      <td>{'so': 1, 'youve': 1, 'just': 1, 'snagged': 1,...</td>\n",
       "      <td>{'setting': 1, 'up': 1, 'a': 1, 'new': 1, 'app...</td>\n",
       "      <td>{'the': 3, 'to': 2, 'of': 2, 'so': 1, 'youve':...</td>\n",
       "    </tr>\n",
       "    <tr>\n",
       "      <th>2</th>\n",
       "      <td>Apple iOS 17.3 Release Date: Awesome iPhone Up...</td>\n",
       "      <td>https://www.forbes.com/sites/davidphelan/2023/...</td>\n",
       "      <td>2023-12-24 10:25:07+00:00</td>\n",
       "      <td>The next big iOS update is on its way and incl...</td>\n",
       "      <td>Forbes</td>\n",
       "      <td>&lt;!DOCTYPE html&gt;&lt;html lang=\"en\"&gt;&lt;head&gt;&lt;link rel...</td>\n",
       "      <td>10</td>\n",
       "      <td>20</td>\n",
       "      <td>13308</td>\n",
       "      <td>apple ios  release date awesome iphone upgrade...</td>\n",
       "      <td>the next big ios update is on its way and incl...</td>\n",
       "      <td>{'apple': 1, 'ios': 1, 'release': 1, 'date': 1...</td>\n",
       "      <td>{'the': 1, 'next': 1, 'big': 1, 'ios': 1, 'upd...</td>\n",
       "      <td>{'apple': 1, 'ios': 1, 'release': 1, 'date': 1...</td>\n",
       "      <td>{'the': 1, 'next': 1, 'big': 1, 'ios': 1, 'upd...</td>\n",
       "    </tr>\n",
       "    <tr>\n",
       "      <th>3</th>\n",
       "      <td>Apple Faces MacBook Air Release Problem</td>\n",
       "      <td>https://www.forbes.com/sites/ewanspence/2023/1...</td>\n",
       "      <td>2023-12-23 22:28:24+00:00</td>\n",
       "      <td>Apple faces a crucial decision about the next-...</td>\n",
       "      <td>Forbes</td>\n",
       "      <td>&lt;!DOCTYPE html&gt;&lt;html lang=\"en\"&gt;&lt;head&gt;&lt;link rel...</td>\n",
       "      <td>6</td>\n",
       "      <td>19</td>\n",
       "      <td>12601</td>\n",
       "      <td>apple faces macbook air release problem</td>\n",
       "      <td>apple faces a crucial decision about the nextg...</td>\n",
       "      <td>{'apple': 1, 'faces': 1, 'macbook': 1, 'air': ...</td>\n",
       "      <td>{'apple': 1, 'faces': 1, 'a': 1, 'crucial': 1,...</td>\n",
       "      <td>{'apple': 1, 'faces': 1, 'macbook': 1, 'air': ...</td>\n",
       "      <td>{'the': 2, 'macbook': 2, 'apple': 1, 'faces': ...</td>\n",
       "    </tr>\n",
       "    <tr>\n",
       "      <th>4</th>\n",
       "      <td>iOS 17.3: Apple Is About To Launch An Awesome ...</td>\n",
       "      <td>https://www.forbes.com/sites/davidphelan/2023/...</td>\n",
       "      <td>2023-12-23 11:00:02+00:00</td>\n",
       "      <td>The next big iOS update is on its way and incl...</td>\n",
       "      <td>Forbes</td>\n",
       "      <td>&lt;!DOCTYPE html&gt;&lt;html lang=\"en\"&gt;&lt;head&gt;&lt;link rel...</td>\n",
       "      <td>12</td>\n",
       "      <td>20</td>\n",
       "      <td>13308</td>\n",
       "      <td>ios  apple is about to launch an awesome new i...</td>\n",
       "      <td>the next big ios update is on its way and incl...</td>\n",
       "      <td>{'ios': 1, 'apple': 1, 'is': 1, 'about': 1, 't...</td>\n",
       "      <td>{'the': 1, 'next': 1, 'big': 1, 'ios': 1, 'upd...</td>\n",
       "      <td>{'ios': 1, 'apple': 1, 'is': 1, 'about': 1, 't...</td>\n",
       "      <td>{'the': 1, 'next': 1, 'big': 1, 'ios': 1, 'upd...</td>\n",
       "    </tr>\n",
       "  </tbody>\n",
       "</table>\n",
       "</div>"
      ],
      "text/plain": [
       "                                               Titre  \\\n",
       "0            Apple Faces MacBook Air Release Problem   \n",
       "1  Setting Up A New Apple iPhone: The 7 Things Yo...   \n",
       "2  Apple iOS 17.3 Release Date: Awesome iPhone Up...   \n",
       "3            Apple Faces MacBook Air Release Problem   \n",
       "4  iOS 17.3: Apple Is About To Launch An Awesome ...   \n",
       "\n",
       "                                                 URL  \\\n",
       "0  https://www.forbes.com/sites/ewanspence/2023/1...   \n",
       "1  https://www.forbes.com/sites/davidphelan/2023/...   \n",
       "2  https://www.forbes.com/sites/davidphelan/2023/...   \n",
       "3  https://www.forbes.com/sites/ewanspence/2023/1...   \n",
       "4  https://www.forbes.com/sites/davidphelan/2023/...   \n",
       "\n",
       "        Date de publication  \\\n",
       "0 2023-12-24 15:29:03+00:00   \n",
       "1 2023-12-24 11:00:39+00:00   \n",
       "2 2023-12-24 10:25:07+00:00   \n",
       "3 2023-12-23 22:28:24+00:00   \n",
       "4 2023-12-23 11:00:02+00:00   \n",
       "\n",
       "                                         Description  Source  \\\n",
       "0  Apple faces a crucial decision about the next-...  Forbes   \n",
       "1  So, you’ve just snagged a new iPhone? Congrats...  Forbes   \n",
       "2  The next big iOS update is on its way and incl...  Forbes   \n",
       "3  Apple faces a crucial decision about the next-...  Forbes   \n",
       "4  The next big iOS update is on its way and incl...  Forbes   \n",
       "\n",
       "                                             Contenu  Title_length  \\\n",
       "0  <!DOCTYPE html><html lang=\"en\"><head><link rel...             6   \n",
       "1  <!DOCTYPE html><html lang=\"en\"><head><link rel...            13   \n",
       "2  <!DOCTYPE html><html lang=\"en\"><head><link rel...            10   \n",
       "3  <!DOCTYPE html><html lang=\"en\"><head><link rel...             6   \n",
       "4  <!DOCTYPE html><html lang=\"en\"><head><link rel...            12   \n",
       "\n",
       "   Description_length  Content_length  \\\n",
       "0                  19           12735   \n",
       "1                  28           13114   \n",
       "2                  20           13308   \n",
       "3                  19           12601   \n",
       "4                  20           13308   \n",
       "\n",
       "                                       Titre_cleaned  \\\n",
       "0            apple faces macbook air release problem   \n",
       "1  setting up a new apple iphone the  things you ...   \n",
       "2  apple ios  release date awesome iphone upgrade...   \n",
       "3            apple faces macbook air release problem   \n",
       "4  ios  apple is about to launch an awesome new i...   \n",
       "\n",
       "                                 Description_cleaned  \\\n",
       "0  apple faces a crucial decision about the nextg...   \n",
       "1  so youve just snagged a new iphone congrats he...   \n",
       "2  the next big ios update is on its way and incl...   \n",
       "3  apple faces a crucial decision about the nextg...   \n",
       "4  the next big ios update is on its way and incl...   \n",
       "\n",
       "                                 Counting_Words_Text  \\\n",
       "0  {'apple': 1, 'faces': 1, 'macbook': 1, 'air': ...   \n",
       "1  {'setting': 1, 'up': 1, 'a': 1, 'new': 1, 'app...   \n",
       "2  {'apple': 1, 'ios': 1, 'release': 1, 'date': 1...   \n",
       "3  {'apple': 1, 'faces': 1, 'macbook': 1, 'air': ...   \n",
       "4  {'ios': 1, 'apple': 1, 'is': 1, 'about': 1, 't...   \n",
       "\n",
       "                          Counting_Words_Description  \\\n",
       "0  {'apple': 1, 'faces': 1, 'a': 1, 'crucial': 1,...   \n",
       "1  {'so': 1, 'youve': 1, 'just': 1, 'snagged': 1,...   \n",
       "2  {'the': 1, 'next': 1, 'big': 1, 'ios': 1, 'upd...   \n",
       "3  {'apple': 1, 'faces': 1, 'a': 1, 'crucial': 1,...   \n",
       "4  {'the': 1, 'next': 1, 'big': 1, 'ios': 1, 'upd...   \n",
       "\n",
       "                                    Most_common_text  \\\n",
       "0  {'apple': 1, 'faces': 1, 'macbook': 1, 'air': ...   \n",
       "1  {'setting': 1, 'up': 1, 'a': 1, 'new': 1, 'app...   \n",
       "2  {'apple': 1, 'ios': 1, 'release': 1, 'date': 1...   \n",
       "3  {'apple': 1, 'faces': 1, 'macbook': 1, 'air': ...   \n",
       "4  {'ios': 1, 'apple': 1, 'is': 1, 'about': 1, 't...   \n",
       "\n",
       "                             Most_common_description  \n",
       "0  {'the': 2, 'macbook': 2, 'apple': 1, 'faces': ...  \n",
       "1  {'the': 3, 'to': 2, 'of': 2, 'so': 1, 'youve':...  \n",
       "2  {'the': 1, 'next': 1, 'big': 1, 'ios': 1, 'upd...  \n",
       "3  {'the': 2, 'macbook': 2, 'apple': 1, 'faces': ...  \n",
       "4  {'the': 1, 'next': 1, 'big': 1, 'ios': 1, 'upd...  "
      ]
     },
     "execution_count": 406,
     "metadata": {},
     "output_type": "execute_result"
    }
   ],
   "source": [
    "#On affiche les mots les plus fréquents dans chaque article\n",
    "\n",
    "df_analyse_1['Most_common_text']=df_analyse_1['Counting_Words_Text'].apply(most_common_words)\n",
    "df_analyse_1['Most_common_description']=df_analyse_1['Counting_Words_Description'].apply(most_common_words)\n",
    "df_analyse_1.head()"
   ]
  },
  {
   "cell_type": "code",
   "execution_count": 407,
   "metadata": {},
   "outputs": [],
   "source": [
    "#Fonction qui transforme une colonne de dictionnaires d'un dataframe en un seul dictionnaire\n",
    "\n",
    "combined_dict_text=combine_dictionaries(df_analyse_1,'Most_common_text')\n",
    "combined_dict_description= combine_dictionaries(df_analyse_1, 'Most_common_description')"
   ]
  },
  {
   "cell_type": "code",
   "execution_count": 408,
   "metadata": {},
   "outputs": [
    {
     "data": {
      "application/vnd.plotly.v1+json": {
       "config": {
        "plotlyServerURL": "https://plot.ly"
       },
       "data": [
        {
         "alignmentgroup": "True",
         "hovertemplate": "Mots=%{x}<br>Fréquences=%{y}<extra></extra>",
         "legendgroup": "",
         "marker": {
          "color": "#636efa",
          "pattern": {
           "shape": ""
          }
         },
         "name": "",
         "offsetgroup": "",
         "orientation": "v",
         "showlegend": false,
         "textposition": "auto",
         "type": "bar",
         "x": [
          "apple",
          "iphone",
          "ios",
          "for",
          "watch",
          "to",
          "and",
          "new",
          "the",
          "update"
         ],
         "xaxis": "x",
         "y": [
          25,
          11,
          8,
          8,
          7,
          6,
          6,
          5,
          5,
          5
         ],
         "yaxis": "y"
        }
       ],
       "layout": {
        "barmode": "relative",
        "legend": {
         "tracegroupgap": 0
        },
        "template": {
         "data": {
          "bar": [
           {
            "error_x": {
             "color": "#2a3f5f"
            },
            "error_y": {
             "color": "#2a3f5f"
            },
            "marker": {
             "line": {
              "color": "#E5ECF6",
              "width": 0.5
             },
             "pattern": {
              "fillmode": "overlay",
              "size": 10,
              "solidity": 0.2
             }
            },
            "type": "bar"
           }
          ],
          "barpolar": [
           {
            "marker": {
             "line": {
              "color": "#E5ECF6",
              "width": 0.5
             },
             "pattern": {
              "fillmode": "overlay",
              "size": 10,
              "solidity": 0.2
             }
            },
            "type": "barpolar"
           }
          ],
          "carpet": [
           {
            "aaxis": {
             "endlinecolor": "#2a3f5f",
             "gridcolor": "white",
             "linecolor": "white",
             "minorgridcolor": "white",
             "startlinecolor": "#2a3f5f"
            },
            "baxis": {
             "endlinecolor": "#2a3f5f",
             "gridcolor": "white",
             "linecolor": "white",
             "minorgridcolor": "white",
             "startlinecolor": "#2a3f5f"
            },
            "type": "carpet"
           }
          ],
          "choropleth": [
           {
            "colorbar": {
             "outlinewidth": 0,
             "ticks": ""
            },
            "type": "choropleth"
           }
          ],
          "contour": [
           {
            "colorbar": {
             "outlinewidth": 0,
             "ticks": ""
            },
            "colorscale": [
             [
              0,
              "#0d0887"
             ],
             [
              0.1111111111111111,
              "#46039f"
             ],
             [
              0.2222222222222222,
              "#7201a8"
             ],
             [
              0.3333333333333333,
              "#9c179e"
             ],
             [
              0.4444444444444444,
              "#bd3786"
             ],
             [
              0.5555555555555556,
              "#d8576b"
             ],
             [
              0.6666666666666666,
              "#ed7953"
             ],
             [
              0.7777777777777778,
              "#fb9f3a"
             ],
             [
              0.8888888888888888,
              "#fdca26"
             ],
             [
              1,
              "#f0f921"
             ]
            ],
            "type": "contour"
           }
          ],
          "contourcarpet": [
           {
            "colorbar": {
             "outlinewidth": 0,
             "ticks": ""
            },
            "type": "contourcarpet"
           }
          ],
          "heatmap": [
           {
            "colorbar": {
             "outlinewidth": 0,
             "ticks": ""
            },
            "colorscale": [
             [
              0,
              "#0d0887"
             ],
             [
              0.1111111111111111,
              "#46039f"
             ],
             [
              0.2222222222222222,
              "#7201a8"
             ],
             [
              0.3333333333333333,
              "#9c179e"
             ],
             [
              0.4444444444444444,
              "#bd3786"
             ],
             [
              0.5555555555555556,
              "#d8576b"
             ],
             [
              0.6666666666666666,
              "#ed7953"
             ],
             [
              0.7777777777777778,
              "#fb9f3a"
             ],
             [
              0.8888888888888888,
              "#fdca26"
             ],
             [
              1,
              "#f0f921"
             ]
            ],
            "type": "heatmap"
           }
          ],
          "heatmapgl": [
           {
            "colorbar": {
             "outlinewidth": 0,
             "ticks": ""
            },
            "colorscale": [
             [
              0,
              "#0d0887"
             ],
             [
              0.1111111111111111,
              "#46039f"
             ],
             [
              0.2222222222222222,
              "#7201a8"
             ],
             [
              0.3333333333333333,
              "#9c179e"
             ],
             [
              0.4444444444444444,
              "#bd3786"
             ],
             [
              0.5555555555555556,
              "#d8576b"
             ],
             [
              0.6666666666666666,
              "#ed7953"
             ],
             [
              0.7777777777777778,
              "#fb9f3a"
             ],
             [
              0.8888888888888888,
              "#fdca26"
             ],
             [
              1,
              "#f0f921"
             ]
            ],
            "type": "heatmapgl"
           }
          ],
          "histogram": [
           {
            "marker": {
             "pattern": {
              "fillmode": "overlay",
              "size": 10,
              "solidity": 0.2
             }
            },
            "type": "histogram"
           }
          ],
          "histogram2d": [
           {
            "colorbar": {
             "outlinewidth": 0,
             "ticks": ""
            },
            "colorscale": [
             [
              0,
              "#0d0887"
             ],
             [
              0.1111111111111111,
              "#46039f"
             ],
             [
              0.2222222222222222,
              "#7201a8"
             ],
             [
              0.3333333333333333,
              "#9c179e"
             ],
             [
              0.4444444444444444,
              "#bd3786"
             ],
             [
              0.5555555555555556,
              "#d8576b"
             ],
             [
              0.6666666666666666,
              "#ed7953"
             ],
             [
              0.7777777777777778,
              "#fb9f3a"
             ],
             [
              0.8888888888888888,
              "#fdca26"
             ],
             [
              1,
              "#f0f921"
             ]
            ],
            "type": "histogram2d"
           }
          ],
          "histogram2dcontour": [
           {
            "colorbar": {
             "outlinewidth": 0,
             "ticks": ""
            },
            "colorscale": [
             [
              0,
              "#0d0887"
             ],
             [
              0.1111111111111111,
              "#46039f"
             ],
             [
              0.2222222222222222,
              "#7201a8"
             ],
             [
              0.3333333333333333,
              "#9c179e"
             ],
             [
              0.4444444444444444,
              "#bd3786"
             ],
             [
              0.5555555555555556,
              "#d8576b"
             ],
             [
              0.6666666666666666,
              "#ed7953"
             ],
             [
              0.7777777777777778,
              "#fb9f3a"
             ],
             [
              0.8888888888888888,
              "#fdca26"
             ],
             [
              1,
              "#f0f921"
             ]
            ],
            "type": "histogram2dcontour"
           }
          ],
          "mesh3d": [
           {
            "colorbar": {
             "outlinewidth": 0,
             "ticks": ""
            },
            "type": "mesh3d"
           }
          ],
          "parcoords": [
           {
            "line": {
             "colorbar": {
              "outlinewidth": 0,
              "ticks": ""
             }
            },
            "type": "parcoords"
           }
          ],
          "pie": [
           {
            "automargin": true,
            "type": "pie"
           }
          ],
          "scatter": [
           {
            "fillpattern": {
             "fillmode": "overlay",
             "size": 10,
             "solidity": 0.2
            },
            "type": "scatter"
           }
          ],
          "scatter3d": [
           {
            "line": {
             "colorbar": {
              "outlinewidth": 0,
              "ticks": ""
             }
            },
            "marker": {
             "colorbar": {
              "outlinewidth": 0,
              "ticks": ""
             }
            },
            "type": "scatter3d"
           }
          ],
          "scattercarpet": [
           {
            "marker": {
             "colorbar": {
              "outlinewidth": 0,
              "ticks": ""
             }
            },
            "type": "scattercarpet"
           }
          ],
          "scattergeo": [
           {
            "marker": {
             "colorbar": {
              "outlinewidth": 0,
              "ticks": ""
             }
            },
            "type": "scattergeo"
           }
          ],
          "scattergl": [
           {
            "marker": {
             "colorbar": {
              "outlinewidth": 0,
              "ticks": ""
             }
            },
            "type": "scattergl"
           }
          ],
          "scattermapbox": [
           {
            "marker": {
             "colorbar": {
              "outlinewidth": 0,
              "ticks": ""
             }
            },
            "type": "scattermapbox"
           }
          ],
          "scatterpolar": [
           {
            "marker": {
             "colorbar": {
              "outlinewidth": 0,
              "ticks": ""
             }
            },
            "type": "scatterpolar"
           }
          ],
          "scatterpolargl": [
           {
            "marker": {
             "colorbar": {
              "outlinewidth": 0,
              "ticks": ""
             }
            },
            "type": "scatterpolargl"
           }
          ],
          "scatterternary": [
           {
            "marker": {
             "colorbar": {
              "outlinewidth": 0,
              "ticks": ""
             }
            },
            "type": "scatterternary"
           }
          ],
          "surface": [
           {
            "colorbar": {
             "outlinewidth": 0,
             "ticks": ""
            },
            "colorscale": [
             [
              0,
              "#0d0887"
             ],
             [
              0.1111111111111111,
              "#46039f"
             ],
             [
              0.2222222222222222,
              "#7201a8"
             ],
             [
              0.3333333333333333,
              "#9c179e"
             ],
             [
              0.4444444444444444,
              "#bd3786"
             ],
             [
              0.5555555555555556,
              "#d8576b"
             ],
             [
              0.6666666666666666,
              "#ed7953"
             ],
             [
              0.7777777777777778,
              "#fb9f3a"
             ],
             [
              0.8888888888888888,
              "#fdca26"
             ],
             [
              1,
              "#f0f921"
             ]
            ],
            "type": "surface"
           }
          ],
          "table": [
           {
            "cells": {
             "fill": {
              "color": "#EBF0F8"
             },
             "line": {
              "color": "white"
             }
            },
            "header": {
             "fill": {
              "color": "#C8D4E3"
             },
             "line": {
              "color": "white"
             }
            },
            "type": "table"
           }
          ]
         },
         "layout": {
          "annotationdefaults": {
           "arrowcolor": "#2a3f5f",
           "arrowhead": 0,
           "arrowwidth": 1
          },
          "autotypenumbers": "strict",
          "coloraxis": {
           "colorbar": {
            "outlinewidth": 0,
            "ticks": ""
           }
          },
          "colorscale": {
           "diverging": [
            [
             0,
             "#8e0152"
            ],
            [
             0.1,
             "#c51b7d"
            ],
            [
             0.2,
             "#de77ae"
            ],
            [
             0.3,
             "#f1b6da"
            ],
            [
             0.4,
             "#fde0ef"
            ],
            [
             0.5,
             "#f7f7f7"
            ],
            [
             0.6,
             "#e6f5d0"
            ],
            [
             0.7,
             "#b8e186"
            ],
            [
             0.8,
             "#7fbc41"
            ],
            [
             0.9,
             "#4d9221"
            ],
            [
             1,
             "#276419"
            ]
           ],
           "sequential": [
            [
             0,
             "#0d0887"
            ],
            [
             0.1111111111111111,
             "#46039f"
            ],
            [
             0.2222222222222222,
             "#7201a8"
            ],
            [
             0.3333333333333333,
             "#9c179e"
            ],
            [
             0.4444444444444444,
             "#bd3786"
            ],
            [
             0.5555555555555556,
             "#d8576b"
            ],
            [
             0.6666666666666666,
             "#ed7953"
            ],
            [
             0.7777777777777778,
             "#fb9f3a"
            ],
            [
             0.8888888888888888,
             "#fdca26"
            ],
            [
             1,
             "#f0f921"
            ]
           ],
           "sequentialminus": [
            [
             0,
             "#0d0887"
            ],
            [
             0.1111111111111111,
             "#46039f"
            ],
            [
             0.2222222222222222,
             "#7201a8"
            ],
            [
             0.3333333333333333,
             "#9c179e"
            ],
            [
             0.4444444444444444,
             "#bd3786"
            ],
            [
             0.5555555555555556,
             "#d8576b"
            ],
            [
             0.6666666666666666,
             "#ed7953"
            ],
            [
             0.7777777777777778,
             "#fb9f3a"
            ],
            [
             0.8888888888888888,
             "#fdca26"
            ],
            [
             1,
             "#f0f921"
            ]
           ]
          },
          "colorway": [
           "#636efa",
           "#EF553B",
           "#00cc96",
           "#ab63fa",
           "#FFA15A",
           "#19d3f3",
           "#FF6692",
           "#B6E880",
           "#FF97FF",
           "#FECB52"
          ],
          "font": {
           "color": "#2a3f5f"
          },
          "geo": {
           "bgcolor": "white",
           "lakecolor": "white",
           "landcolor": "#E5ECF6",
           "showlakes": true,
           "showland": true,
           "subunitcolor": "white"
          },
          "hoverlabel": {
           "align": "left"
          },
          "hovermode": "closest",
          "mapbox": {
           "style": "light"
          },
          "paper_bgcolor": "white",
          "plot_bgcolor": "#E5ECF6",
          "polar": {
           "angularaxis": {
            "gridcolor": "white",
            "linecolor": "white",
            "ticks": ""
           },
           "bgcolor": "#E5ECF6",
           "radialaxis": {
            "gridcolor": "white",
            "linecolor": "white",
            "ticks": ""
           }
          },
          "scene": {
           "xaxis": {
            "backgroundcolor": "#E5ECF6",
            "gridcolor": "white",
            "gridwidth": 2,
            "linecolor": "white",
            "showbackground": true,
            "ticks": "",
            "zerolinecolor": "white"
           },
           "yaxis": {
            "backgroundcolor": "#E5ECF6",
            "gridcolor": "white",
            "gridwidth": 2,
            "linecolor": "white",
            "showbackground": true,
            "ticks": "",
            "zerolinecolor": "white"
           },
           "zaxis": {
            "backgroundcolor": "#E5ECF6",
            "gridcolor": "white",
            "gridwidth": 2,
            "linecolor": "white",
            "showbackground": true,
            "ticks": "",
            "zerolinecolor": "white"
           }
          },
          "shapedefaults": {
           "line": {
            "color": "#2a3f5f"
           }
          },
          "ternary": {
           "aaxis": {
            "gridcolor": "white",
            "linecolor": "white",
            "ticks": ""
           },
           "baxis": {
            "gridcolor": "white",
            "linecolor": "white",
            "ticks": ""
           },
           "bgcolor": "#E5ECF6",
           "caxis": {
            "gridcolor": "white",
            "linecolor": "white",
            "ticks": ""
           }
          },
          "title": {
           "x": 0.05
          },
          "xaxis": {
           "automargin": true,
           "gridcolor": "white",
           "linecolor": "white",
           "ticks": "",
           "title": {
            "standoff": 15
           },
           "zerolinecolor": "white",
           "zerolinewidth": 2
          },
          "yaxis": {
           "automargin": true,
           "gridcolor": "white",
           "linecolor": "white",
           "ticks": "",
           "title": {
            "standoff": 15
           },
           "zerolinecolor": "white",
           "zerolinewidth": 2
          }
         }
        },
        "title": {
         "text": "Top 10 des mots les plus fréquents dans les titres d'articles récupérés"
        },
        "xaxis": {
         "anchor": "y",
         "domain": [
          0,
          1
         ],
         "title": {
          "text": "Mots"
         }
        },
        "yaxis": {
         "anchor": "x",
         "domain": [
          0,
          1
         ],
         "title": {
          "text": "Fréquences"
         }
        }
       }
      }
     },
     "metadata": {},
     "output_type": "display_data"
    }
   ],
   "source": [
    "import plotly.express as px\n",
    "from collections import Counter\n",
    "\n",
    "sorted_text_dictionary=sorted(combined_dict_text.items(), key= lambda item:item[1], reverse=True)[:10]\n",
    "\n",
    "keys=[key for key, value in sorted_text_dictionary]\n",
    "values=[value for key, value in sorted_text_dictionary]\n",
    "\n",
    "\n",
    "fig = px.bar(x=keys, y=values, title=\"Top 10 des mots les plus fréquents dans les titres d'articles récupérés\", labels={'x':'Mots', 'y':'Fréquences'})\n",
    "fig.show()\n"
   ]
  },
  {
   "cell_type": "code",
   "execution_count": 409,
   "metadata": {},
   "outputs": [
    {
     "data": {
      "application/vnd.plotly.v1+json": {
       "config": {
        "plotlyServerURL": "https://plot.ly"
       },
       "data": [
        {
         "alignmentgroup": "True",
         "hovertemplate": "Mots=%{x}<br>Fréquences=%{y}<extra></extra>",
         "legendgroup": "",
         "marker": {
          "color": "#636efa",
          "pattern": {
           "shape": ""
          }
         },
         "name": "",
         "offsetgroup": "",
         "orientation": "v",
         "showlegend": false,
         "textposition": "auto",
         "type": "bar",
         "x": [
          "apple",
          "the",
          "a",
          "to",
          "you",
          "watch",
          "of",
          "ios",
          "update",
          "and"
         ],
         "xaxis": "x",
         "y": [
          27,
          24,
          14,
          14,
          10,
          10,
          9,
          9,
          9,
          9
         ],
         "yaxis": "y"
        }
       ],
       "layout": {
        "barmode": "relative",
        "legend": {
         "tracegroupgap": 0
        },
        "template": {
         "data": {
          "bar": [
           {
            "error_x": {
             "color": "#2a3f5f"
            },
            "error_y": {
             "color": "#2a3f5f"
            },
            "marker": {
             "line": {
              "color": "#E5ECF6",
              "width": 0.5
             },
             "pattern": {
              "fillmode": "overlay",
              "size": 10,
              "solidity": 0.2
             }
            },
            "type": "bar"
           }
          ],
          "barpolar": [
           {
            "marker": {
             "line": {
              "color": "#E5ECF6",
              "width": 0.5
             },
             "pattern": {
              "fillmode": "overlay",
              "size": 10,
              "solidity": 0.2
             }
            },
            "type": "barpolar"
           }
          ],
          "carpet": [
           {
            "aaxis": {
             "endlinecolor": "#2a3f5f",
             "gridcolor": "white",
             "linecolor": "white",
             "minorgridcolor": "white",
             "startlinecolor": "#2a3f5f"
            },
            "baxis": {
             "endlinecolor": "#2a3f5f",
             "gridcolor": "white",
             "linecolor": "white",
             "minorgridcolor": "white",
             "startlinecolor": "#2a3f5f"
            },
            "type": "carpet"
           }
          ],
          "choropleth": [
           {
            "colorbar": {
             "outlinewidth": 0,
             "ticks": ""
            },
            "type": "choropleth"
           }
          ],
          "contour": [
           {
            "colorbar": {
             "outlinewidth": 0,
             "ticks": ""
            },
            "colorscale": [
             [
              0,
              "#0d0887"
             ],
             [
              0.1111111111111111,
              "#46039f"
             ],
             [
              0.2222222222222222,
              "#7201a8"
             ],
             [
              0.3333333333333333,
              "#9c179e"
             ],
             [
              0.4444444444444444,
              "#bd3786"
             ],
             [
              0.5555555555555556,
              "#d8576b"
             ],
             [
              0.6666666666666666,
              "#ed7953"
             ],
             [
              0.7777777777777778,
              "#fb9f3a"
             ],
             [
              0.8888888888888888,
              "#fdca26"
             ],
             [
              1,
              "#f0f921"
             ]
            ],
            "type": "contour"
           }
          ],
          "contourcarpet": [
           {
            "colorbar": {
             "outlinewidth": 0,
             "ticks": ""
            },
            "type": "contourcarpet"
           }
          ],
          "heatmap": [
           {
            "colorbar": {
             "outlinewidth": 0,
             "ticks": ""
            },
            "colorscale": [
             [
              0,
              "#0d0887"
             ],
             [
              0.1111111111111111,
              "#46039f"
             ],
             [
              0.2222222222222222,
              "#7201a8"
             ],
             [
              0.3333333333333333,
              "#9c179e"
             ],
             [
              0.4444444444444444,
              "#bd3786"
             ],
             [
              0.5555555555555556,
              "#d8576b"
             ],
             [
              0.6666666666666666,
              "#ed7953"
             ],
             [
              0.7777777777777778,
              "#fb9f3a"
             ],
             [
              0.8888888888888888,
              "#fdca26"
             ],
             [
              1,
              "#f0f921"
             ]
            ],
            "type": "heatmap"
           }
          ],
          "heatmapgl": [
           {
            "colorbar": {
             "outlinewidth": 0,
             "ticks": ""
            },
            "colorscale": [
             [
              0,
              "#0d0887"
             ],
             [
              0.1111111111111111,
              "#46039f"
             ],
             [
              0.2222222222222222,
              "#7201a8"
             ],
             [
              0.3333333333333333,
              "#9c179e"
             ],
             [
              0.4444444444444444,
              "#bd3786"
             ],
             [
              0.5555555555555556,
              "#d8576b"
             ],
             [
              0.6666666666666666,
              "#ed7953"
             ],
             [
              0.7777777777777778,
              "#fb9f3a"
             ],
             [
              0.8888888888888888,
              "#fdca26"
             ],
             [
              1,
              "#f0f921"
             ]
            ],
            "type": "heatmapgl"
           }
          ],
          "histogram": [
           {
            "marker": {
             "pattern": {
              "fillmode": "overlay",
              "size": 10,
              "solidity": 0.2
             }
            },
            "type": "histogram"
           }
          ],
          "histogram2d": [
           {
            "colorbar": {
             "outlinewidth": 0,
             "ticks": ""
            },
            "colorscale": [
             [
              0,
              "#0d0887"
             ],
             [
              0.1111111111111111,
              "#46039f"
             ],
             [
              0.2222222222222222,
              "#7201a8"
             ],
             [
              0.3333333333333333,
              "#9c179e"
             ],
             [
              0.4444444444444444,
              "#bd3786"
             ],
             [
              0.5555555555555556,
              "#d8576b"
             ],
             [
              0.6666666666666666,
              "#ed7953"
             ],
             [
              0.7777777777777778,
              "#fb9f3a"
             ],
             [
              0.8888888888888888,
              "#fdca26"
             ],
             [
              1,
              "#f0f921"
             ]
            ],
            "type": "histogram2d"
           }
          ],
          "histogram2dcontour": [
           {
            "colorbar": {
             "outlinewidth": 0,
             "ticks": ""
            },
            "colorscale": [
             [
              0,
              "#0d0887"
             ],
             [
              0.1111111111111111,
              "#46039f"
             ],
             [
              0.2222222222222222,
              "#7201a8"
             ],
             [
              0.3333333333333333,
              "#9c179e"
             ],
             [
              0.4444444444444444,
              "#bd3786"
             ],
             [
              0.5555555555555556,
              "#d8576b"
             ],
             [
              0.6666666666666666,
              "#ed7953"
             ],
             [
              0.7777777777777778,
              "#fb9f3a"
             ],
             [
              0.8888888888888888,
              "#fdca26"
             ],
             [
              1,
              "#f0f921"
             ]
            ],
            "type": "histogram2dcontour"
           }
          ],
          "mesh3d": [
           {
            "colorbar": {
             "outlinewidth": 0,
             "ticks": ""
            },
            "type": "mesh3d"
           }
          ],
          "parcoords": [
           {
            "line": {
             "colorbar": {
              "outlinewidth": 0,
              "ticks": ""
             }
            },
            "type": "parcoords"
           }
          ],
          "pie": [
           {
            "automargin": true,
            "type": "pie"
           }
          ],
          "scatter": [
           {
            "fillpattern": {
             "fillmode": "overlay",
             "size": 10,
             "solidity": 0.2
            },
            "type": "scatter"
           }
          ],
          "scatter3d": [
           {
            "line": {
             "colorbar": {
              "outlinewidth": 0,
              "ticks": ""
             }
            },
            "marker": {
             "colorbar": {
              "outlinewidth": 0,
              "ticks": ""
             }
            },
            "type": "scatter3d"
           }
          ],
          "scattercarpet": [
           {
            "marker": {
             "colorbar": {
              "outlinewidth": 0,
              "ticks": ""
             }
            },
            "type": "scattercarpet"
           }
          ],
          "scattergeo": [
           {
            "marker": {
             "colorbar": {
              "outlinewidth": 0,
              "ticks": ""
             }
            },
            "type": "scattergeo"
           }
          ],
          "scattergl": [
           {
            "marker": {
             "colorbar": {
              "outlinewidth": 0,
              "ticks": ""
             }
            },
            "type": "scattergl"
           }
          ],
          "scattermapbox": [
           {
            "marker": {
             "colorbar": {
              "outlinewidth": 0,
              "ticks": ""
             }
            },
            "type": "scattermapbox"
           }
          ],
          "scatterpolar": [
           {
            "marker": {
             "colorbar": {
              "outlinewidth": 0,
              "ticks": ""
             }
            },
            "type": "scatterpolar"
           }
          ],
          "scatterpolargl": [
           {
            "marker": {
             "colorbar": {
              "outlinewidth": 0,
              "ticks": ""
             }
            },
            "type": "scatterpolargl"
           }
          ],
          "scatterternary": [
           {
            "marker": {
             "colorbar": {
              "outlinewidth": 0,
              "ticks": ""
             }
            },
            "type": "scatterternary"
           }
          ],
          "surface": [
           {
            "colorbar": {
             "outlinewidth": 0,
             "ticks": ""
            },
            "colorscale": [
             [
              0,
              "#0d0887"
             ],
             [
              0.1111111111111111,
              "#46039f"
             ],
             [
              0.2222222222222222,
              "#7201a8"
             ],
             [
              0.3333333333333333,
              "#9c179e"
             ],
             [
              0.4444444444444444,
              "#bd3786"
             ],
             [
              0.5555555555555556,
              "#d8576b"
             ],
             [
              0.6666666666666666,
              "#ed7953"
             ],
             [
              0.7777777777777778,
              "#fb9f3a"
             ],
             [
              0.8888888888888888,
              "#fdca26"
             ],
             [
              1,
              "#f0f921"
             ]
            ],
            "type": "surface"
           }
          ],
          "table": [
           {
            "cells": {
             "fill": {
              "color": "#EBF0F8"
             },
             "line": {
              "color": "white"
             }
            },
            "header": {
             "fill": {
              "color": "#C8D4E3"
             },
             "line": {
              "color": "white"
             }
            },
            "type": "table"
           }
          ]
         },
         "layout": {
          "annotationdefaults": {
           "arrowcolor": "#2a3f5f",
           "arrowhead": 0,
           "arrowwidth": 1
          },
          "autotypenumbers": "strict",
          "coloraxis": {
           "colorbar": {
            "outlinewidth": 0,
            "ticks": ""
           }
          },
          "colorscale": {
           "diverging": [
            [
             0,
             "#8e0152"
            ],
            [
             0.1,
             "#c51b7d"
            ],
            [
             0.2,
             "#de77ae"
            ],
            [
             0.3,
             "#f1b6da"
            ],
            [
             0.4,
             "#fde0ef"
            ],
            [
             0.5,
             "#f7f7f7"
            ],
            [
             0.6,
             "#e6f5d0"
            ],
            [
             0.7,
             "#b8e186"
            ],
            [
             0.8,
             "#7fbc41"
            ],
            [
             0.9,
             "#4d9221"
            ],
            [
             1,
             "#276419"
            ]
           ],
           "sequential": [
            [
             0,
             "#0d0887"
            ],
            [
             0.1111111111111111,
             "#46039f"
            ],
            [
             0.2222222222222222,
             "#7201a8"
            ],
            [
             0.3333333333333333,
             "#9c179e"
            ],
            [
             0.4444444444444444,
             "#bd3786"
            ],
            [
             0.5555555555555556,
             "#d8576b"
            ],
            [
             0.6666666666666666,
             "#ed7953"
            ],
            [
             0.7777777777777778,
             "#fb9f3a"
            ],
            [
             0.8888888888888888,
             "#fdca26"
            ],
            [
             1,
             "#f0f921"
            ]
           ],
           "sequentialminus": [
            [
             0,
             "#0d0887"
            ],
            [
             0.1111111111111111,
             "#46039f"
            ],
            [
             0.2222222222222222,
             "#7201a8"
            ],
            [
             0.3333333333333333,
             "#9c179e"
            ],
            [
             0.4444444444444444,
             "#bd3786"
            ],
            [
             0.5555555555555556,
             "#d8576b"
            ],
            [
             0.6666666666666666,
             "#ed7953"
            ],
            [
             0.7777777777777778,
             "#fb9f3a"
            ],
            [
             0.8888888888888888,
             "#fdca26"
            ],
            [
             1,
             "#f0f921"
            ]
           ]
          },
          "colorway": [
           "#636efa",
           "#EF553B",
           "#00cc96",
           "#ab63fa",
           "#FFA15A",
           "#19d3f3",
           "#FF6692",
           "#B6E880",
           "#FF97FF",
           "#FECB52"
          ],
          "font": {
           "color": "#2a3f5f"
          },
          "geo": {
           "bgcolor": "white",
           "lakecolor": "white",
           "landcolor": "#E5ECF6",
           "showlakes": true,
           "showland": true,
           "subunitcolor": "white"
          },
          "hoverlabel": {
           "align": "left"
          },
          "hovermode": "closest",
          "mapbox": {
           "style": "light"
          },
          "paper_bgcolor": "white",
          "plot_bgcolor": "#E5ECF6",
          "polar": {
           "angularaxis": {
            "gridcolor": "white",
            "linecolor": "white",
            "ticks": ""
           },
           "bgcolor": "#E5ECF6",
           "radialaxis": {
            "gridcolor": "white",
            "linecolor": "white",
            "ticks": ""
           }
          },
          "scene": {
           "xaxis": {
            "backgroundcolor": "#E5ECF6",
            "gridcolor": "white",
            "gridwidth": 2,
            "linecolor": "white",
            "showbackground": true,
            "ticks": "",
            "zerolinecolor": "white"
           },
           "yaxis": {
            "backgroundcolor": "#E5ECF6",
            "gridcolor": "white",
            "gridwidth": 2,
            "linecolor": "white",
            "showbackground": true,
            "ticks": "",
            "zerolinecolor": "white"
           },
           "zaxis": {
            "backgroundcolor": "#E5ECF6",
            "gridcolor": "white",
            "gridwidth": 2,
            "linecolor": "white",
            "showbackground": true,
            "ticks": "",
            "zerolinecolor": "white"
           }
          },
          "shapedefaults": {
           "line": {
            "color": "#2a3f5f"
           }
          },
          "ternary": {
           "aaxis": {
            "gridcolor": "white",
            "linecolor": "white",
            "ticks": ""
           },
           "baxis": {
            "gridcolor": "white",
            "linecolor": "white",
            "ticks": ""
           },
           "bgcolor": "#E5ECF6",
           "caxis": {
            "gridcolor": "white",
            "linecolor": "white",
            "ticks": ""
           }
          },
          "title": {
           "x": 0.05
          },
          "xaxis": {
           "automargin": true,
           "gridcolor": "white",
           "linecolor": "white",
           "ticks": "",
           "title": {
            "standoff": 15
           },
           "zerolinecolor": "white",
           "zerolinewidth": 2
          },
          "yaxis": {
           "automargin": true,
           "gridcolor": "white",
           "linecolor": "white",
           "ticks": "",
           "title": {
            "standoff": 15
           },
           "zerolinecolor": "white",
           "zerolinewidth": 2
          }
         }
        },
        "title": {
         "text": "Top 10 des mots les plus fréquents dans les descriptions d'articles récupérés"
        },
        "xaxis": {
         "anchor": "y",
         "domain": [
          0,
          1
         ],
         "title": {
          "text": "Mots"
         }
        },
        "yaxis": {
         "anchor": "x",
         "domain": [
          0,
          1
         ],
         "title": {
          "text": "Fréquences"
         }
        }
       }
      }
     },
     "metadata": {},
     "output_type": "display_data"
    }
   ],
   "source": [
    "import plotly.express as px\n",
    "from collections import Counter\n",
    "\n",
    "sorted_description_dictionary=sorted(combined_dict_description.items(), key= lambda item:item[1], reverse=True)[:10]\n",
    "\n",
    "keys=[key for key, value in sorted_description_dictionary]\n",
    "values=[value for key, value in sorted_description_dictionary]\n",
    "\n",
    "\n",
    "fig = px.bar(x=keys, y=values, title=\"Top 10 des mots les plus fréquents dans les descriptions d'articles récupérés\", labels={'x':'Mots', 'y':'Fréquences'})\n",
    "fig.show()"
   ]
  },
  {
   "cell_type": "markdown",
   "metadata": {},
   "source": [
    "On observe aisément l'omniprésence de mots récurrents (stopwords) dans le corpus étudié. Nous allons donc les enlever et ensuite procéder à la deuxième étape de préparation du texte qui consistera en une lemmatisation et une analyse plus poussée."
   ]
  },
  {
   "cell_type": "code",
   "execution_count": 410,
   "metadata": {},
   "outputs": [
    {
     "name": "stderr",
     "output_type": "stream",
     "text": [
      "huggingface/tokenizers: The current process just got forked, after parallelism has already been used. Disabling parallelism to avoid deadlocks...\n",
      "To disable this warning, you can either:\n",
      "\t- Avoid using `tokenizers` before the fork if possible\n",
      "\t- Explicitly set the environment variable TOKENIZERS_PARALLELISM=(true | false)\n"
     ]
    },
    {
     "name": "stdout",
     "output_type": "stream",
     "text": [
      "Defaulting to user installation because normal site-packages is not writeable\n",
      "Requirement already satisfied: nltk in /Users/dabadieraphael/Library/Python/3.9/lib/python/site-packages (3.8.1)\n",
      "Requirement already satisfied: tqdm in /Users/dabadieraphael/Library/Python/3.9/lib/python/site-packages (from nltk) (4.66.1)\n",
      "Requirement already satisfied: click in /Users/dabadieraphael/Library/Python/3.9/lib/python/site-packages (from nltk) (8.1.7)\n",
      "Requirement already satisfied: joblib in /Users/dabadieraphael/Library/Python/3.9/lib/python/site-packages (from nltk) (1.3.2)\n",
      "Requirement already satisfied: regex>=2021.8.3 in /Users/dabadieraphael/Library/Python/3.9/lib/python/site-packages (from nltk) (2023.10.3)\n",
      "\u001b[33mWARNING: You are using pip version 21.2.4; however, version 23.3.2 is available.\n",
      "You should consider upgrading via the '/Library/Developer/CommandLineTools/usr/bin/python3 -m pip install --upgrade pip' command.\u001b[0m\n",
      "Note: you may need to restart the kernel to use updated packages.\n"
     ]
    }
   ],
   "source": [
    "pip install nltk"
   ]
  },
  {
   "cell_type": "code",
   "execution_count": 411,
   "metadata": {},
   "outputs": [
    {
     "name": "stderr",
     "output_type": "stream",
     "text": [
      "[nltk_data] Downloading package stopwords to\n",
      "[nltk_data]     /Users/dabadieraphael/nltk_data...\n",
      "[nltk_data]   Package stopwords is already up-to-date!\n",
      "[nltk_data] Downloading package punkt to\n",
      "[nltk_data]     /Users/dabadieraphael/nltk_data...\n",
      "[nltk_data]   Package punkt is already up-to-date!\n",
      "[nltk_data] Downloading package genesis to\n",
      "[nltk_data]     /Users/dabadieraphael/nltk_data...\n",
      "[nltk_data]   Package genesis is already up-to-date!\n",
      "[nltk_data] Downloading package wordnet to\n",
      "[nltk_data]     /Users/dabadieraphael/nltk_data...\n",
      "[nltk_data]   Package wordnet is already up-to-date!\n",
      "[nltk_data] Downloading package omw-1.4 to\n",
      "[nltk_data]     /Users/dabadieraphael/nltk_data...\n",
      "[nltk_data]   Package omw-1.4 is already up-to-date!\n"
     ]
    },
    {
     "data": {
      "text/plain": [
       "True"
      ]
     },
     "execution_count": 411,
     "metadata": {},
     "output_type": "execute_result"
    }
   ],
   "source": [
    "import nltk\n",
    "nltk.download('stopwords')\n",
    "nltk.download('punkt')\n",
    "nltk.download('genesis')\n",
    "nltk.download('wordnet')\n",
    "nltk.download('omw-1.4')"
   ]
  },
  {
   "cell_type": "code",
   "execution_count": 412,
   "metadata": {},
   "outputs": [],
   "source": [
    "import nltk\n",
    "from nltk.corpus import stopwords\n",
    "from nltk.stem import WordNetLemmatizer\n",
    "from nltk.tokenize import word_tokenize\n",
    "\n",
    "df_analyse_1['Titre_cleaned_stopwords']=df_analyse_1['Titre_cleaned'].apply(clean_stopwords)\n",
    "df_analyse_1['Description_cleaned_stopwords']=df_analyse_1['Description_cleaned'].apply(clean_stopwords)"
   ]
  },
  {
   "cell_type": "code",
   "execution_count": 413,
   "metadata": {},
   "outputs": [
    {
     "data": {
      "application/vnd.plotly.v1+json": {
       "config": {
        "plotlyServerURL": "https://plot.ly"
       },
       "data": [
        {
         "alignmentgroup": "True",
         "hovertemplate": "Mots=%{x}<br>Fréquences=%{y}<extra></extra>",
         "legendgroup": "",
         "marker": {
          "color": "#636efa",
          "pattern": {
           "shape": ""
          }
         },
         "name": "",
         "offsetgroup": "",
         "orientation": "v",
         "showlegend": false,
         "textposition": "auto",
         "type": "bar",
         "x": [
          "apple",
          "iphone",
          "ios",
          "watch",
          "new",
          "update",
          "users",
          "release",
          "surprise",
          "sales"
         ],
         "xaxis": "x",
         "y": [
          25,
          11,
          8,
          7,
          5,
          5,
          5,
          4,
          4,
          4
         ],
         "yaxis": "y"
        }
       ],
       "layout": {
        "barmode": "relative",
        "legend": {
         "tracegroupgap": 0
        },
        "template": {
         "data": {
          "bar": [
           {
            "error_x": {
             "color": "#2a3f5f"
            },
            "error_y": {
             "color": "#2a3f5f"
            },
            "marker": {
             "line": {
              "color": "#E5ECF6",
              "width": 0.5
             },
             "pattern": {
              "fillmode": "overlay",
              "size": 10,
              "solidity": 0.2
             }
            },
            "type": "bar"
           }
          ],
          "barpolar": [
           {
            "marker": {
             "line": {
              "color": "#E5ECF6",
              "width": 0.5
             },
             "pattern": {
              "fillmode": "overlay",
              "size": 10,
              "solidity": 0.2
             }
            },
            "type": "barpolar"
           }
          ],
          "carpet": [
           {
            "aaxis": {
             "endlinecolor": "#2a3f5f",
             "gridcolor": "white",
             "linecolor": "white",
             "minorgridcolor": "white",
             "startlinecolor": "#2a3f5f"
            },
            "baxis": {
             "endlinecolor": "#2a3f5f",
             "gridcolor": "white",
             "linecolor": "white",
             "minorgridcolor": "white",
             "startlinecolor": "#2a3f5f"
            },
            "type": "carpet"
           }
          ],
          "choropleth": [
           {
            "colorbar": {
             "outlinewidth": 0,
             "ticks": ""
            },
            "type": "choropleth"
           }
          ],
          "contour": [
           {
            "colorbar": {
             "outlinewidth": 0,
             "ticks": ""
            },
            "colorscale": [
             [
              0,
              "#0d0887"
             ],
             [
              0.1111111111111111,
              "#46039f"
             ],
             [
              0.2222222222222222,
              "#7201a8"
             ],
             [
              0.3333333333333333,
              "#9c179e"
             ],
             [
              0.4444444444444444,
              "#bd3786"
             ],
             [
              0.5555555555555556,
              "#d8576b"
             ],
             [
              0.6666666666666666,
              "#ed7953"
             ],
             [
              0.7777777777777778,
              "#fb9f3a"
             ],
             [
              0.8888888888888888,
              "#fdca26"
             ],
             [
              1,
              "#f0f921"
             ]
            ],
            "type": "contour"
           }
          ],
          "contourcarpet": [
           {
            "colorbar": {
             "outlinewidth": 0,
             "ticks": ""
            },
            "type": "contourcarpet"
           }
          ],
          "heatmap": [
           {
            "colorbar": {
             "outlinewidth": 0,
             "ticks": ""
            },
            "colorscale": [
             [
              0,
              "#0d0887"
             ],
             [
              0.1111111111111111,
              "#46039f"
             ],
             [
              0.2222222222222222,
              "#7201a8"
             ],
             [
              0.3333333333333333,
              "#9c179e"
             ],
             [
              0.4444444444444444,
              "#bd3786"
             ],
             [
              0.5555555555555556,
              "#d8576b"
             ],
             [
              0.6666666666666666,
              "#ed7953"
             ],
             [
              0.7777777777777778,
              "#fb9f3a"
             ],
             [
              0.8888888888888888,
              "#fdca26"
             ],
             [
              1,
              "#f0f921"
             ]
            ],
            "type": "heatmap"
           }
          ],
          "heatmapgl": [
           {
            "colorbar": {
             "outlinewidth": 0,
             "ticks": ""
            },
            "colorscale": [
             [
              0,
              "#0d0887"
             ],
             [
              0.1111111111111111,
              "#46039f"
             ],
             [
              0.2222222222222222,
              "#7201a8"
             ],
             [
              0.3333333333333333,
              "#9c179e"
             ],
             [
              0.4444444444444444,
              "#bd3786"
             ],
             [
              0.5555555555555556,
              "#d8576b"
             ],
             [
              0.6666666666666666,
              "#ed7953"
             ],
             [
              0.7777777777777778,
              "#fb9f3a"
             ],
             [
              0.8888888888888888,
              "#fdca26"
             ],
             [
              1,
              "#f0f921"
             ]
            ],
            "type": "heatmapgl"
           }
          ],
          "histogram": [
           {
            "marker": {
             "pattern": {
              "fillmode": "overlay",
              "size": 10,
              "solidity": 0.2
             }
            },
            "type": "histogram"
           }
          ],
          "histogram2d": [
           {
            "colorbar": {
             "outlinewidth": 0,
             "ticks": ""
            },
            "colorscale": [
             [
              0,
              "#0d0887"
             ],
             [
              0.1111111111111111,
              "#46039f"
             ],
             [
              0.2222222222222222,
              "#7201a8"
             ],
             [
              0.3333333333333333,
              "#9c179e"
             ],
             [
              0.4444444444444444,
              "#bd3786"
             ],
             [
              0.5555555555555556,
              "#d8576b"
             ],
             [
              0.6666666666666666,
              "#ed7953"
             ],
             [
              0.7777777777777778,
              "#fb9f3a"
             ],
             [
              0.8888888888888888,
              "#fdca26"
             ],
             [
              1,
              "#f0f921"
             ]
            ],
            "type": "histogram2d"
           }
          ],
          "histogram2dcontour": [
           {
            "colorbar": {
             "outlinewidth": 0,
             "ticks": ""
            },
            "colorscale": [
             [
              0,
              "#0d0887"
             ],
             [
              0.1111111111111111,
              "#46039f"
             ],
             [
              0.2222222222222222,
              "#7201a8"
             ],
             [
              0.3333333333333333,
              "#9c179e"
             ],
             [
              0.4444444444444444,
              "#bd3786"
             ],
             [
              0.5555555555555556,
              "#d8576b"
             ],
             [
              0.6666666666666666,
              "#ed7953"
             ],
             [
              0.7777777777777778,
              "#fb9f3a"
             ],
             [
              0.8888888888888888,
              "#fdca26"
             ],
             [
              1,
              "#f0f921"
             ]
            ],
            "type": "histogram2dcontour"
           }
          ],
          "mesh3d": [
           {
            "colorbar": {
             "outlinewidth": 0,
             "ticks": ""
            },
            "type": "mesh3d"
           }
          ],
          "parcoords": [
           {
            "line": {
             "colorbar": {
              "outlinewidth": 0,
              "ticks": ""
             }
            },
            "type": "parcoords"
           }
          ],
          "pie": [
           {
            "automargin": true,
            "type": "pie"
           }
          ],
          "scatter": [
           {
            "fillpattern": {
             "fillmode": "overlay",
             "size": 10,
             "solidity": 0.2
            },
            "type": "scatter"
           }
          ],
          "scatter3d": [
           {
            "line": {
             "colorbar": {
              "outlinewidth": 0,
              "ticks": ""
             }
            },
            "marker": {
             "colorbar": {
              "outlinewidth": 0,
              "ticks": ""
             }
            },
            "type": "scatter3d"
           }
          ],
          "scattercarpet": [
           {
            "marker": {
             "colorbar": {
              "outlinewidth": 0,
              "ticks": ""
             }
            },
            "type": "scattercarpet"
           }
          ],
          "scattergeo": [
           {
            "marker": {
             "colorbar": {
              "outlinewidth": 0,
              "ticks": ""
             }
            },
            "type": "scattergeo"
           }
          ],
          "scattergl": [
           {
            "marker": {
             "colorbar": {
              "outlinewidth": 0,
              "ticks": ""
             }
            },
            "type": "scattergl"
           }
          ],
          "scattermapbox": [
           {
            "marker": {
             "colorbar": {
              "outlinewidth": 0,
              "ticks": ""
             }
            },
            "type": "scattermapbox"
           }
          ],
          "scatterpolar": [
           {
            "marker": {
             "colorbar": {
              "outlinewidth": 0,
              "ticks": ""
             }
            },
            "type": "scatterpolar"
           }
          ],
          "scatterpolargl": [
           {
            "marker": {
             "colorbar": {
              "outlinewidth": 0,
              "ticks": ""
             }
            },
            "type": "scatterpolargl"
           }
          ],
          "scatterternary": [
           {
            "marker": {
             "colorbar": {
              "outlinewidth": 0,
              "ticks": ""
             }
            },
            "type": "scatterternary"
           }
          ],
          "surface": [
           {
            "colorbar": {
             "outlinewidth": 0,
             "ticks": ""
            },
            "colorscale": [
             [
              0,
              "#0d0887"
             ],
             [
              0.1111111111111111,
              "#46039f"
             ],
             [
              0.2222222222222222,
              "#7201a8"
             ],
             [
              0.3333333333333333,
              "#9c179e"
             ],
             [
              0.4444444444444444,
              "#bd3786"
             ],
             [
              0.5555555555555556,
              "#d8576b"
             ],
             [
              0.6666666666666666,
              "#ed7953"
             ],
             [
              0.7777777777777778,
              "#fb9f3a"
             ],
             [
              0.8888888888888888,
              "#fdca26"
             ],
             [
              1,
              "#f0f921"
             ]
            ],
            "type": "surface"
           }
          ],
          "table": [
           {
            "cells": {
             "fill": {
              "color": "#EBF0F8"
             },
             "line": {
              "color": "white"
             }
            },
            "header": {
             "fill": {
              "color": "#C8D4E3"
             },
             "line": {
              "color": "white"
             }
            },
            "type": "table"
           }
          ]
         },
         "layout": {
          "annotationdefaults": {
           "arrowcolor": "#2a3f5f",
           "arrowhead": 0,
           "arrowwidth": 1
          },
          "autotypenumbers": "strict",
          "coloraxis": {
           "colorbar": {
            "outlinewidth": 0,
            "ticks": ""
           }
          },
          "colorscale": {
           "diverging": [
            [
             0,
             "#8e0152"
            ],
            [
             0.1,
             "#c51b7d"
            ],
            [
             0.2,
             "#de77ae"
            ],
            [
             0.3,
             "#f1b6da"
            ],
            [
             0.4,
             "#fde0ef"
            ],
            [
             0.5,
             "#f7f7f7"
            ],
            [
             0.6,
             "#e6f5d0"
            ],
            [
             0.7,
             "#b8e186"
            ],
            [
             0.8,
             "#7fbc41"
            ],
            [
             0.9,
             "#4d9221"
            ],
            [
             1,
             "#276419"
            ]
           ],
           "sequential": [
            [
             0,
             "#0d0887"
            ],
            [
             0.1111111111111111,
             "#46039f"
            ],
            [
             0.2222222222222222,
             "#7201a8"
            ],
            [
             0.3333333333333333,
             "#9c179e"
            ],
            [
             0.4444444444444444,
             "#bd3786"
            ],
            [
             0.5555555555555556,
             "#d8576b"
            ],
            [
             0.6666666666666666,
             "#ed7953"
            ],
            [
             0.7777777777777778,
             "#fb9f3a"
            ],
            [
             0.8888888888888888,
             "#fdca26"
            ],
            [
             1,
             "#f0f921"
            ]
           ],
           "sequentialminus": [
            [
             0,
             "#0d0887"
            ],
            [
             0.1111111111111111,
             "#46039f"
            ],
            [
             0.2222222222222222,
             "#7201a8"
            ],
            [
             0.3333333333333333,
             "#9c179e"
            ],
            [
             0.4444444444444444,
             "#bd3786"
            ],
            [
             0.5555555555555556,
             "#d8576b"
            ],
            [
             0.6666666666666666,
             "#ed7953"
            ],
            [
             0.7777777777777778,
             "#fb9f3a"
            ],
            [
             0.8888888888888888,
             "#fdca26"
            ],
            [
             1,
             "#f0f921"
            ]
           ]
          },
          "colorway": [
           "#636efa",
           "#EF553B",
           "#00cc96",
           "#ab63fa",
           "#FFA15A",
           "#19d3f3",
           "#FF6692",
           "#B6E880",
           "#FF97FF",
           "#FECB52"
          ],
          "font": {
           "color": "#2a3f5f"
          },
          "geo": {
           "bgcolor": "white",
           "lakecolor": "white",
           "landcolor": "#E5ECF6",
           "showlakes": true,
           "showland": true,
           "subunitcolor": "white"
          },
          "hoverlabel": {
           "align": "left"
          },
          "hovermode": "closest",
          "mapbox": {
           "style": "light"
          },
          "paper_bgcolor": "white",
          "plot_bgcolor": "#E5ECF6",
          "polar": {
           "angularaxis": {
            "gridcolor": "white",
            "linecolor": "white",
            "ticks": ""
           },
           "bgcolor": "#E5ECF6",
           "radialaxis": {
            "gridcolor": "white",
            "linecolor": "white",
            "ticks": ""
           }
          },
          "scene": {
           "xaxis": {
            "backgroundcolor": "#E5ECF6",
            "gridcolor": "white",
            "gridwidth": 2,
            "linecolor": "white",
            "showbackground": true,
            "ticks": "",
            "zerolinecolor": "white"
           },
           "yaxis": {
            "backgroundcolor": "#E5ECF6",
            "gridcolor": "white",
            "gridwidth": 2,
            "linecolor": "white",
            "showbackground": true,
            "ticks": "",
            "zerolinecolor": "white"
           },
           "zaxis": {
            "backgroundcolor": "#E5ECF6",
            "gridcolor": "white",
            "gridwidth": 2,
            "linecolor": "white",
            "showbackground": true,
            "ticks": "",
            "zerolinecolor": "white"
           }
          },
          "shapedefaults": {
           "line": {
            "color": "#2a3f5f"
           }
          },
          "ternary": {
           "aaxis": {
            "gridcolor": "white",
            "linecolor": "white",
            "ticks": ""
           },
           "baxis": {
            "gridcolor": "white",
            "linecolor": "white",
            "ticks": ""
           },
           "bgcolor": "#E5ECF6",
           "caxis": {
            "gridcolor": "white",
            "linecolor": "white",
            "ticks": ""
           }
          },
          "title": {
           "x": 0.05
          },
          "xaxis": {
           "automargin": true,
           "gridcolor": "white",
           "linecolor": "white",
           "ticks": "",
           "title": {
            "standoff": 15
           },
           "zerolinecolor": "white",
           "zerolinewidth": 2
          },
          "yaxis": {
           "automargin": true,
           "gridcolor": "white",
           "linecolor": "white",
           "ticks": "",
           "title": {
            "standoff": 15
           },
           "zerolinecolor": "white",
           "zerolinewidth": 2
          }
         }
        },
        "title": {
         "text": "Top 10 des mots les plus fréquents dans les descriptions d'articles récupérés (hors stopwords)"
        },
        "xaxis": {
         "anchor": "y",
         "domain": [
          0,
          1
         ],
         "title": {
          "text": "Mots"
         }
        },
        "yaxis": {
         "anchor": "x",
         "domain": [
          0,
          1
         ],
         "title": {
          "text": "Fréquences"
         }
        }
       }
      }
     },
     "metadata": {},
     "output_type": "display_data"
    }
   ],
   "source": [
    "#Mots les plus fréquents après suppression des stopwords\n",
    "df_analyse_1['Counting_Words_Text_nostopwords']=df_analyse_1['Titre_cleaned_stopwords'].apply(count_common_words)\n",
    "df_analyse_1['Counting_Words_Descr_nostopwords']=df_analyse_1['Description_cleaned_stopwords'].apply(count_common_words)\n",
    "\n",
    "combined_dict_text_bis=combine_dictionaries(df_analyse_1,'Counting_Words_Text_nostopwords')\n",
    "sorted_description_dictionary=sorted(combined_dict_text_bis.items(), key= lambda item:item[1], reverse=True)[:10]\n",
    "\n",
    "keys=[key for key, value in sorted_description_dictionary]\n",
    "values=[value for key, value in sorted_description_dictionary]\n",
    "\n",
    "\n",
    "fig = px.bar(x=keys, y=values, title=\"Top 10 des mots les plus fréquents dans les descriptions d'articles récupérés (hors stopwords)\", labels={'x':'Mots', 'y':'Fréquences'})\n",
    "fig.show()"
   ]
  },
  {
   "cell_type": "code",
   "execution_count": 414,
   "metadata": {},
   "outputs": [
    {
     "data": {
      "application/vnd.plotly.v1+json": {
       "config": {
        "plotlyServerURL": "https://plot.ly"
       },
       "data": [
        {
         "alignmentgroup": "True",
         "hovertemplate": "Mots=%{x}<br>Fréquences=%{y}<extra></extra>",
         "legendgroup": "",
         "marker": {
          "color": "#636efa",
          "pattern": {
           "shape": ""
          }
         },
         "name": "",
         "offsetgroup": "",
         "orientation": "v",
         "showlegend": false,
         "textposition": "auto",
         "type": "bar",
         "x": [
          "apple",
          "iphone",
          "ios",
          "watch",
          "new",
          "update",
          "users",
          "release",
          "surprise",
          "sales"
         ],
         "xaxis": "x",
         "y": [
          25,
          11,
          8,
          7,
          5,
          5,
          5,
          4,
          4,
          4
         ],
         "yaxis": "y"
        }
       ],
       "layout": {
        "barmode": "relative",
        "legend": {
         "tracegroupgap": 0
        },
        "template": {
         "data": {
          "bar": [
           {
            "error_x": {
             "color": "#2a3f5f"
            },
            "error_y": {
             "color": "#2a3f5f"
            },
            "marker": {
             "line": {
              "color": "#E5ECF6",
              "width": 0.5
             },
             "pattern": {
              "fillmode": "overlay",
              "size": 10,
              "solidity": 0.2
             }
            },
            "type": "bar"
           }
          ],
          "barpolar": [
           {
            "marker": {
             "line": {
              "color": "#E5ECF6",
              "width": 0.5
             },
             "pattern": {
              "fillmode": "overlay",
              "size": 10,
              "solidity": 0.2
             }
            },
            "type": "barpolar"
           }
          ],
          "carpet": [
           {
            "aaxis": {
             "endlinecolor": "#2a3f5f",
             "gridcolor": "white",
             "linecolor": "white",
             "minorgridcolor": "white",
             "startlinecolor": "#2a3f5f"
            },
            "baxis": {
             "endlinecolor": "#2a3f5f",
             "gridcolor": "white",
             "linecolor": "white",
             "minorgridcolor": "white",
             "startlinecolor": "#2a3f5f"
            },
            "type": "carpet"
           }
          ],
          "choropleth": [
           {
            "colorbar": {
             "outlinewidth": 0,
             "ticks": ""
            },
            "type": "choropleth"
           }
          ],
          "contour": [
           {
            "colorbar": {
             "outlinewidth": 0,
             "ticks": ""
            },
            "colorscale": [
             [
              0,
              "#0d0887"
             ],
             [
              0.1111111111111111,
              "#46039f"
             ],
             [
              0.2222222222222222,
              "#7201a8"
             ],
             [
              0.3333333333333333,
              "#9c179e"
             ],
             [
              0.4444444444444444,
              "#bd3786"
             ],
             [
              0.5555555555555556,
              "#d8576b"
             ],
             [
              0.6666666666666666,
              "#ed7953"
             ],
             [
              0.7777777777777778,
              "#fb9f3a"
             ],
             [
              0.8888888888888888,
              "#fdca26"
             ],
             [
              1,
              "#f0f921"
             ]
            ],
            "type": "contour"
           }
          ],
          "contourcarpet": [
           {
            "colorbar": {
             "outlinewidth": 0,
             "ticks": ""
            },
            "type": "contourcarpet"
           }
          ],
          "heatmap": [
           {
            "colorbar": {
             "outlinewidth": 0,
             "ticks": ""
            },
            "colorscale": [
             [
              0,
              "#0d0887"
             ],
             [
              0.1111111111111111,
              "#46039f"
             ],
             [
              0.2222222222222222,
              "#7201a8"
             ],
             [
              0.3333333333333333,
              "#9c179e"
             ],
             [
              0.4444444444444444,
              "#bd3786"
             ],
             [
              0.5555555555555556,
              "#d8576b"
             ],
             [
              0.6666666666666666,
              "#ed7953"
             ],
             [
              0.7777777777777778,
              "#fb9f3a"
             ],
             [
              0.8888888888888888,
              "#fdca26"
             ],
             [
              1,
              "#f0f921"
             ]
            ],
            "type": "heatmap"
           }
          ],
          "heatmapgl": [
           {
            "colorbar": {
             "outlinewidth": 0,
             "ticks": ""
            },
            "colorscale": [
             [
              0,
              "#0d0887"
             ],
             [
              0.1111111111111111,
              "#46039f"
             ],
             [
              0.2222222222222222,
              "#7201a8"
             ],
             [
              0.3333333333333333,
              "#9c179e"
             ],
             [
              0.4444444444444444,
              "#bd3786"
             ],
             [
              0.5555555555555556,
              "#d8576b"
             ],
             [
              0.6666666666666666,
              "#ed7953"
             ],
             [
              0.7777777777777778,
              "#fb9f3a"
             ],
             [
              0.8888888888888888,
              "#fdca26"
             ],
             [
              1,
              "#f0f921"
             ]
            ],
            "type": "heatmapgl"
           }
          ],
          "histogram": [
           {
            "marker": {
             "pattern": {
              "fillmode": "overlay",
              "size": 10,
              "solidity": 0.2
             }
            },
            "type": "histogram"
           }
          ],
          "histogram2d": [
           {
            "colorbar": {
             "outlinewidth": 0,
             "ticks": ""
            },
            "colorscale": [
             [
              0,
              "#0d0887"
             ],
             [
              0.1111111111111111,
              "#46039f"
             ],
             [
              0.2222222222222222,
              "#7201a8"
             ],
             [
              0.3333333333333333,
              "#9c179e"
             ],
             [
              0.4444444444444444,
              "#bd3786"
             ],
             [
              0.5555555555555556,
              "#d8576b"
             ],
             [
              0.6666666666666666,
              "#ed7953"
             ],
             [
              0.7777777777777778,
              "#fb9f3a"
             ],
             [
              0.8888888888888888,
              "#fdca26"
             ],
             [
              1,
              "#f0f921"
             ]
            ],
            "type": "histogram2d"
           }
          ],
          "histogram2dcontour": [
           {
            "colorbar": {
             "outlinewidth": 0,
             "ticks": ""
            },
            "colorscale": [
             [
              0,
              "#0d0887"
             ],
             [
              0.1111111111111111,
              "#46039f"
             ],
             [
              0.2222222222222222,
              "#7201a8"
             ],
             [
              0.3333333333333333,
              "#9c179e"
             ],
             [
              0.4444444444444444,
              "#bd3786"
             ],
             [
              0.5555555555555556,
              "#d8576b"
             ],
             [
              0.6666666666666666,
              "#ed7953"
             ],
             [
              0.7777777777777778,
              "#fb9f3a"
             ],
             [
              0.8888888888888888,
              "#fdca26"
             ],
             [
              1,
              "#f0f921"
             ]
            ],
            "type": "histogram2dcontour"
           }
          ],
          "mesh3d": [
           {
            "colorbar": {
             "outlinewidth": 0,
             "ticks": ""
            },
            "type": "mesh3d"
           }
          ],
          "parcoords": [
           {
            "line": {
             "colorbar": {
              "outlinewidth": 0,
              "ticks": ""
             }
            },
            "type": "parcoords"
           }
          ],
          "pie": [
           {
            "automargin": true,
            "type": "pie"
           }
          ],
          "scatter": [
           {
            "fillpattern": {
             "fillmode": "overlay",
             "size": 10,
             "solidity": 0.2
            },
            "type": "scatter"
           }
          ],
          "scatter3d": [
           {
            "line": {
             "colorbar": {
              "outlinewidth": 0,
              "ticks": ""
             }
            },
            "marker": {
             "colorbar": {
              "outlinewidth": 0,
              "ticks": ""
             }
            },
            "type": "scatter3d"
           }
          ],
          "scattercarpet": [
           {
            "marker": {
             "colorbar": {
              "outlinewidth": 0,
              "ticks": ""
             }
            },
            "type": "scattercarpet"
           }
          ],
          "scattergeo": [
           {
            "marker": {
             "colorbar": {
              "outlinewidth": 0,
              "ticks": ""
             }
            },
            "type": "scattergeo"
           }
          ],
          "scattergl": [
           {
            "marker": {
             "colorbar": {
              "outlinewidth": 0,
              "ticks": ""
             }
            },
            "type": "scattergl"
           }
          ],
          "scattermapbox": [
           {
            "marker": {
             "colorbar": {
              "outlinewidth": 0,
              "ticks": ""
             }
            },
            "type": "scattermapbox"
           }
          ],
          "scatterpolar": [
           {
            "marker": {
             "colorbar": {
              "outlinewidth": 0,
              "ticks": ""
             }
            },
            "type": "scatterpolar"
           }
          ],
          "scatterpolargl": [
           {
            "marker": {
             "colorbar": {
              "outlinewidth": 0,
              "ticks": ""
             }
            },
            "type": "scatterpolargl"
           }
          ],
          "scatterternary": [
           {
            "marker": {
             "colorbar": {
              "outlinewidth": 0,
              "ticks": ""
             }
            },
            "type": "scatterternary"
           }
          ],
          "surface": [
           {
            "colorbar": {
             "outlinewidth": 0,
             "ticks": ""
            },
            "colorscale": [
             [
              0,
              "#0d0887"
             ],
             [
              0.1111111111111111,
              "#46039f"
             ],
             [
              0.2222222222222222,
              "#7201a8"
             ],
             [
              0.3333333333333333,
              "#9c179e"
             ],
             [
              0.4444444444444444,
              "#bd3786"
             ],
             [
              0.5555555555555556,
              "#d8576b"
             ],
             [
              0.6666666666666666,
              "#ed7953"
             ],
             [
              0.7777777777777778,
              "#fb9f3a"
             ],
             [
              0.8888888888888888,
              "#fdca26"
             ],
             [
              1,
              "#f0f921"
             ]
            ],
            "type": "surface"
           }
          ],
          "table": [
           {
            "cells": {
             "fill": {
              "color": "#EBF0F8"
             },
             "line": {
              "color": "white"
             }
            },
            "header": {
             "fill": {
              "color": "#C8D4E3"
             },
             "line": {
              "color": "white"
             }
            },
            "type": "table"
           }
          ]
         },
         "layout": {
          "annotationdefaults": {
           "arrowcolor": "#2a3f5f",
           "arrowhead": 0,
           "arrowwidth": 1
          },
          "autotypenumbers": "strict",
          "coloraxis": {
           "colorbar": {
            "outlinewidth": 0,
            "ticks": ""
           }
          },
          "colorscale": {
           "diverging": [
            [
             0,
             "#8e0152"
            ],
            [
             0.1,
             "#c51b7d"
            ],
            [
             0.2,
             "#de77ae"
            ],
            [
             0.3,
             "#f1b6da"
            ],
            [
             0.4,
             "#fde0ef"
            ],
            [
             0.5,
             "#f7f7f7"
            ],
            [
             0.6,
             "#e6f5d0"
            ],
            [
             0.7,
             "#b8e186"
            ],
            [
             0.8,
             "#7fbc41"
            ],
            [
             0.9,
             "#4d9221"
            ],
            [
             1,
             "#276419"
            ]
           ],
           "sequential": [
            [
             0,
             "#0d0887"
            ],
            [
             0.1111111111111111,
             "#46039f"
            ],
            [
             0.2222222222222222,
             "#7201a8"
            ],
            [
             0.3333333333333333,
             "#9c179e"
            ],
            [
             0.4444444444444444,
             "#bd3786"
            ],
            [
             0.5555555555555556,
             "#d8576b"
            ],
            [
             0.6666666666666666,
             "#ed7953"
            ],
            [
             0.7777777777777778,
             "#fb9f3a"
            ],
            [
             0.8888888888888888,
             "#fdca26"
            ],
            [
             1,
             "#f0f921"
            ]
           ],
           "sequentialminus": [
            [
             0,
             "#0d0887"
            ],
            [
             0.1111111111111111,
             "#46039f"
            ],
            [
             0.2222222222222222,
             "#7201a8"
            ],
            [
             0.3333333333333333,
             "#9c179e"
            ],
            [
             0.4444444444444444,
             "#bd3786"
            ],
            [
             0.5555555555555556,
             "#d8576b"
            ],
            [
             0.6666666666666666,
             "#ed7953"
            ],
            [
             0.7777777777777778,
             "#fb9f3a"
            ],
            [
             0.8888888888888888,
             "#fdca26"
            ],
            [
             1,
             "#f0f921"
            ]
           ]
          },
          "colorway": [
           "#636efa",
           "#EF553B",
           "#00cc96",
           "#ab63fa",
           "#FFA15A",
           "#19d3f3",
           "#FF6692",
           "#B6E880",
           "#FF97FF",
           "#FECB52"
          ],
          "font": {
           "color": "#2a3f5f"
          },
          "geo": {
           "bgcolor": "white",
           "lakecolor": "white",
           "landcolor": "#E5ECF6",
           "showlakes": true,
           "showland": true,
           "subunitcolor": "white"
          },
          "hoverlabel": {
           "align": "left"
          },
          "hovermode": "closest",
          "mapbox": {
           "style": "light"
          },
          "paper_bgcolor": "white",
          "plot_bgcolor": "#E5ECF6",
          "polar": {
           "angularaxis": {
            "gridcolor": "white",
            "linecolor": "white",
            "ticks": ""
           },
           "bgcolor": "#E5ECF6",
           "radialaxis": {
            "gridcolor": "white",
            "linecolor": "white",
            "ticks": ""
           }
          },
          "scene": {
           "xaxis": {
            "backgroundcolor": "#E5ECF6",
            "gridcolor": "white",
            "gridwidth": 2,
            "linecolor": "white",
            "showbackground": true,
            "ticks": "",
            "zerolinecolor": "white"
           },
           "yaxis": {
            "backgroundcolor": "#E5ECF6",
            "gridcolor": "white",
            "gridwidth": 2,
            "linecolor": "white",
            "showbackground": true,
            "ticks": "",
            "zerolinecolor": "white"
           },
           "zaxis": {
            "backgroundcolor": "#E5ECF6",
            "gridcolor": "white",
            "gridwidth": 2,
            "linecolor": "white",
            "showbackground": true,
            "ticks": "",
            "zerolinecolor": "white"
           }
          },
          "shapedefaults": {
           "line": {
            "color": "#2a3f5f"
           }
          },
          "ternary": {
           "aaxis": {
            "gridcolor": "white",
            "linecolor": "white",
            "ticks": ""
           },
           "baxis": {
            "gridcolor": "white",
            "linecolor": "white",
            "ticks": ""
           },
           "bgcolor": "#E5ECF6",
           "caxis": {
            "gridcolor": "white",
            "linecolor": "white",
            "ticks": ""
           }
          },
          "title": {
           "x": 0.05
          },
          "xaxis": {
           "automargin": true,
           "gridcolor": "white",
           "linecolor": "white",
           "ticks": "",
           "title": {
            "standoff": 15
           },
           "zerolinecolor": "white",
           "zerolinewidth": 2
          },
          "yaxis": {
           "automargin": true,
           "gridcolor": "white",
           "linecolor": "white",
           "ticks": "",
           "title": {
            "standoff": 15
           },
           "zerolinecolor": "white",
           "zerolinewidth": 2
          }
         }
        },
        "title": {
         "text": "Top 10 des mots les plus fréquents dans les descriptions d'articles récupérés (hors stopwords)"
        },
        "xaxis": {
         "anchor": "y",
         "domain": [
          0,
          1
         ],
         "title": {
          "text": "Mots"
         }
        },
        "yaxis": {
         "anchor": "x",
         "domain": [
          0,
          1
         ],
         "title": {
          "text": "Fréquences"
         }
        }
       }
      }
     },
     "metadata": {},
     "output_type": "display_data"
    }
   ],
   "source": [
    "combined_dict_description_bis=combine_dictionaries(df_analyse_1,'Counting_Words_Text_nostopwords')\n",
    "sorted_description_dictionary=sorted(combined_dict_description_bis.items(), key= lambda item:item[1], reverse=True)[:10]\n",
    "\n",
    "keys=[key for key, value in sorted_description_dictionary]\n",
    "values=[value for key, value in sorted_description_dictionary]\n",
    "\n",
    "\n",
    "fig = px.bar(x=keys, y=values, title=\"Top 10 des mots les plus fréquents dans les descriptions d'articles récupérés (hors stopwords)\", labels={'x':'Mots', 'y':'Fréquences'})\n",
    "fig.show()"
   ]
  },
  {
   "cell_type": "markdown",
   "metadata": {},
   "source": [
    "# Préparation du texte en vue de l'analyse de sentiments (Nettoyage et analyse du contenu des articles)"
   ]
  },
  {
   "cell_type": "code",
   "execution_count": 415,
   "metadata": {},
   "outputs": [],
   "source": [
    "#Mise en place de règles propres à chaque source de données pour récupérer les parties intéressantes\n",
    "\n",
    "from bs4 import BeautifulSoup\n",
    "#Fonction adaptée aux articles Forbes et MarketWatch\n",
    "def clean_html_1(text_html): \n",
    "    soup=BeautifulSoup(text_html, 'html.parser')\n",
    "    title=soup.find_all('h1', class_=True)\n",
    "    content=soup.find_all('p')\n",
    "    united_content = ' '.join(el.get_text(strip=True) for el in title + content )\n",
    "    return united_content\n",
    "\n",
    "#Fonction adaptée aux articles de CNBC\n",
    "def clean_html_2(text_html): \n",
    "    soup=BeautifulSoup(text_html, 'html.parser')\n",
    "    title=soup.find_all('h1', class_=True)\n",
    "    key_points=soup.find_all('li')\n",
    "    content=soup.find_all('p')\n",
    "    united_content = ' '.join(el.get_text(strip=True) for el in title + content + key_points )\n",
    "    return united_content\n",
    "\n",
    "df_content=df.copy()\n",
    "df_content['Cleaned_html_content'] = df_content.apply(lambda row: clean_html_2(row['Contenu']) if row['Source'] == 'CNBC' else clean_html_1(row['Contenu']), axis=1)\n"
   ]
  },
  {
   "cell_type": "code",
   "execution_count": 416,
   "metadata": {},
   "outputs": [
    {
     "data": {
      "text/html": [
       "<div>\n",
       "<style scoped>\n",
       "    .dataframe tbody tr th:only-of-type {\n",
       "        vertical-align: middle;\n",
       "    }\n",
       "\n",
       "    .dataframe tbody tr th {\n",
       "        vertical-align: top;\n",
       "    }\n",
       "\n",
       "    .dataframe thead th {\n",
       "        text-align: right;\n",
       "    }\n",
       "</style>\n",
       "<table border=\"1\" class=\"dataframe\">\n",
       "  <thead>\n",
       "    <tr style=\"text-align: right;\">\n",
       "      <th></th>\n",
       "      <th>Titre</th>\n",
       "      <th>URL</th>\n",
       "      <th>Date de publication</th>\n",
       "      <th>Description</th>\n",
       "      <th>Source</th>\n",
       "      <th>Contenu</th>\n",
       "      <th>Title_length</th>\n",
       "      <th>Description_length</th>\n",
       "      <th>Content_length</th>\n",
       "      <th>Cleaned_html_content</th>\n",
       "    </tr>\n",
       "  </thead>\n",
       "  <tbody>\n",
       "    <tr>\n",
       "      <th>0</th>\n",
       "      <td>Apple Faces MacBook Air Release Problem</td>\n",
       "      <td>https://www.forbes.com/sites/ewanspence/2023/1...</td>\n",
       "      <td>2023-12-24 15:29:03+00:00</td>\n",
       "      <td>Apple faces a crucial decision about the next-...</td>\n",
       "      <td>Forbes</td>\n",
       "      <td>&lt;!DOCTYPE html&gt;&lt;html lang=\"en\"&gt;&lt;head&gt;&lt;link rel...</td>\n",
       "      <td>6</td>\n",
       "      <td>19</td>\n",
       "      <td>12735</td>\n",
       "      <td>Apple Faces MacBook Air Release Problem Update...</td>\n",
       "    </tr>\n",
       "    <tr>\n",
       "      <th>1</th>\n",
       "      <td>Setting Up A New Apple iPhone: The 7 Things Yo...</td>\n",
       "      <td>https://www.forbes.com/sites/davidphelan/2023/...</td>\n",
       "      <td>2023-12-24 11:00:39+00:00</td>\n",
       "      <td>So, you’ve just snagged a new iPhone? Congrats...</td>\n",
       "      <td>Forbes</td>\n",
       "      <td>&lt;!DOCTYPE html&gt;&lt;html lang=\"en\"&gt;&lt;head&gt;&lt;link rel...</td>\n",
       "      <td>13</td>\n",
       "      <td>28</td>\n",
       "      <td>13114</td>\n",
       "      <td>Setting Up A New Apple iPhone: The 7 Things Yo...</td>\n",
       "    </tr>\n",
       "    <tr>\n",
       "      <th>2</th>\n",
       "      <td>Apple iOS 17.3 Release Date: Awesome iPhone Up...</td>\n",
       "      <td>https://www.forbes.com/sites/davidphelan/2023/...</td>\n",
       "      <td>2023-12-24 10:25:07+00:00</td>\n",
       "      <td>The next big iOS update is on its way and incl...</td>\n",
       "      <td>Forbes</td>\n",
       "      <td>&lt;!DOCTYPE html&gt;&lt;html lang=\"en\"&gt;&lt;head&gt;&lt;link rel...</td>\n",
       "      <td>10</td>\n",
       "      <td>20</td>\n",
       "      <td>13308</td>\n",
       "      <td>Apple iOS 17.3 Release Date: Awesome iPhone Up...</td>\n",
       "    </tr>\n",
       "    <tr>\n",
       "      <th>3</th>\n",
       "      <td>Apple Faces MacBook Air Release Problem</td>\n",
       "      <td>https://www.forbes.com/sites/ewanspence/2023/1...</td>\n",
       "      <td>2023-12-23 22:28:24+00:00</td>\n",
       "      <td>Apple faces a crucial decision about the next-...</td>\n",
       "      <td>Forbes</td>\n",
       "      <td>&lt;!DOCTYPE html&gt;&lt;html lang=\"en\"&gt;&lt;head&gt;&lt;link rel...</td>\n",
       "      <td>6</td>\n",
       "      <td>19</td>\n",
       "      <td>12601</td>\n",
       "      <td>Apple Faces MacBook Air Release Problem Update...</td>\n",
       "    </tr>\n",
       "    <tr>\n",
       "      <th>4</th>\n",
       "      <td>iOS 17.3: Apple Is About To Launch An Awesome ...</td>\n",
       "      <td>https://www.forbes.com/sites/davidphelan/2023/...</td>\n",
       "      <td>2023-12-23 11:00:02+00:00</td>\n",
       "      <td>The next big iOS update is on its way and incl...</td>\n",
       "      <td>Forbes</td>\n",
       "      <td>&lt;!DOCTYPE html&gt;&lt;html lang=\"en\"&gt;&lt;head&gt;&lt;link rel...</td>\n",
       "      <td>12</td>\n",
       "      <td>20</td>\n",
       "      <td>13308</td>\n",
       "      <td>Apple iOS 17.3 Release Date: Awesome iPhone Up...</td>\n",
       "    </tr>\n",
       "  </tbody>\n",
       "</table>\n",
       "</div>"
      ],
      "text/plain": [
       "                                               Titre  \\\n",
       "0            Apple Faces MacBook Air Release Problem   \n",
       "1  Setting Up A New Apple iPhone: The 7 Things Yo...   \n",
       "2  Apple iOS 17.3 Release Date: Awesome iPhone Up...   \n",
       "3            Apple Faces MacBook Air Release Problem   \n",
       "4  iOS 17.3: Apple Is About To Launch An Awesome ...   \n",
       "\n",
       "                                                 URL  \\\n",
       "0  https://www.forbes.com/sites/ewanspence/2023/1...   \n",
       "1  https://www.forbes.com/sites/davidphelan/2023/...   \n",
       "2  https://www.forbes.com/sites/davidphelan/2023/...   \n",
       "3  https://www.forbes.com/sites/ewanspence/2023/1...   \n",
       "4  https://www.forbes.com/sites/davidphelan/2023/...   \n",
       "\n",
       "        Date de publication  \\\n",
       "0 2023-12-24 15:29:03+00:00   \n",
       "1 2023-12-24 11:00:39+00:00   \n",
       "2 2023-12-24 10:25:07+00:00   \n",
       "3 2023-12-23 22:28:24+00:00   \n",
       "4 2023-12-23 11:00:02+00:00   \n",
       "\n",
       "                                         Description  Source  \\\n",
       "0  Apple faces a crucial decision about the next-...  Forbes   \n",
       "1  So, you’ve just snagged a new iPhone? Congrats...  Forbes   \n",
       "2  The next big iOS update is on its way and incl...  Forbes   \n",
       "3  Apple faces a crucial decision about the next-...  Forbes   \n",
       "4  The next big iOS update is on its way and incl...  Forbes   \n",
       "\n",
       "                                             Contenu  Title_length  \\\n",
       "0  <!DOCTYPE html><html lang=\"en\"><head><link rel...             6   \n",
       "1  <!DOCTYPE html><html lang=\"en\"><head><link rel...            13   \n",
       "2  <!DOCTYPE html><html lang=\"en\"><head><link rel...            10   \n",
       "3  <!DOCTYPE html><html lang=\"en\"><head><link rel...             6   \n",
       "4  <!DOCTYPE html><html lang=\"en\"><head><link rel...            12   \n",
       "\n",
       "   Description_length  Content_length  \\\n",
       "0                  19           12735   \n",
       "1                  28           13114   \n",
       "2                  20           13308   \n",
       "3                  19           12601   \n",
       "4                  20           13308   \n",
       "\n",
       "                                Cleaned_html_content  \n",
       "0  Apple Faces MacBook Air Release Problem Update...  \n",
       "1  Setting Up A New Apple iPhone: The 7 Things Yo...  \n",
       "2  Apple iOS 17.3 Release Date: Awesome iPhone Up...  \n",
       "3  Apple Faces MacBook Air Release Problem Update...  \n",
       "4  Apple iOS 17.3 Release Date: Awesome iPhone Up...  "
      ]
     },
     "execution_count": 416,
     "metadata": {},
     "output_type": "execute_result"
    }
   ],
   "source": [
    "df_content.head()"
   ]
  },
  {
   "cell_type": "code",
   "execution_count": 417,
   "metadata": {},
   "outputs": [],
   "source": [
    "df_content['Content_cleaned']=df_content['Cleaned_html_content'].apply(cleaning_text)"
   ]
  },
  {
   "cell_type": "code",
   "execution_count": 418,
   "metadata": {},
   "outputs": [],
   "source": [
    "df_content['Counting_Words']=df_content['Content_cleaned'].apply(count_common_words)\n",
    "df_content['Most_common_text']=df_content['Counting_Words'].apply(most_common_words)"
   ]
  },
  {
   "cell_type": "code",
   "execution_count": 419,
   "metadata": {},
   "outputs": [
    {
     "data": {
      "application/vnd.plotly.v1+json": {
       "config": {
        "plotlyServerURL": "https://plot.ly"
       },
       "data": [
        {
         "alignmentgroup": "True",
         "hovertemplate": "Mots=%{x}<br>Fréquences=%{y}<extra></extra>",
         "legendgroup": "",
         "marker": {
          "color": "#636efa",
          "pattern": {
           "shape": ""
          }
         },
         "name": "",
         "offsetgroup": "",
         "orientation": "v",
         "showlegend": false,
         "textposition": "auto",
         "type": "bar",
         "x": [
          "the",
          "to",
          "and",
          "a",
          "apple",
          "of",
          "is",
          "in",
          "that",
          "for"
         ],
         "xaxis": "x",
         "y": [
          920,
          502,
          414,
          380,
          315,
          286,
          269,
          268,
          233,
          215
         ],
         "yaxis": "y"
        }
       ],
       "layout": {
        "barmode": "relative",
        "legend": {
         "tracegroupgap": 0
        },
        "template": {
         "data": {
          "bar": [
           {
            "error_x": {
             "color": "#2a3f5f"
            },
            "error_y": {
             "color": "#2a3f5f"
            },
            "marker": {
             "line": {
              "color": "#E5ECF6",
              "width": 0.5
             },
             "pattern": {
              "fillmode": "overlay",
              "size": 10,
              "solidity": 0.2
             }
            },
            "type": "bar"
           }
          ],
          "barpolar": [
           {
            "marker": {
             "line": {
              "color": "#E5ECF6",
              "width": 0.5
             },
             "pattern": {
              "fillmode": "overlay",
              "size": 10,
              "solidity": 0.2
             }
            },
            "type": "barpolar"
           }
          ],
          "carpet": [
           {
            "aaxis": {
             "endlinecolor": "#2a3f5f",
             "gridcolor": "white",
             "linecolor": "white",
             "minorgridcolor": "white",
             "startlinecolor": "#2a3f5f"
            },
            "baxis": {
             "endlinecolor": "#2a3f5f",
             "gridcolor": "white",
             "linecolor": "white",
             "minorgridcolor": "white",
             "startlinecolor": "#2a3f5f"
            },
            "type": "carpet"
           }
          ],
          "choropleth": [
           {
            "colorbar": {
             "outlinewidth": 0,
             "ticks": ""
            },
            "type": "choropleth"
           }
          ],
          "contour": [
           {
            "colorbar": {
             "outlinewidth": 0,
             "ticks": ""
            },
            "colorscale": [
             [
              0,
              "#0d0887"
             ],
             [
              0.1111111111111111,
              "#46039f"
             ],
             [
              0.2222222222222222,
              "#7201a8"
             ],
             [
              0.3333333333333333,
              "#9c179e"
             ],
             [
              0.4444444444444444,
              "#bd3786"
             ],
             [
              0.5555555555555556,
              "#d8576b"
             ],
             [
              0.6666666666666666,
              "#ed7953"
             ],
             [
              0.7777777777777778,
              "#fb9f3a"
             ],
             [
              0.8888888888888888,
              "#fdca26"
             ],
             [
              1,
              "#f0f921"
             ]
            ],
            "type": "contour"
           }
          ],
          "contourcarpet": [
           {
            "colorbar": {
             "outlinewidth": 0,
             "ticks": ""
            },
            "type": "contourcarpet"
           }
          ],
          "heatmap": [
           {
            "colorbar": {
             "outlinewidth": 0,
             "ticks": ""
            },
            "colorscale": [
             [
              0,
              "#0d0887"
             ],
             [
              0.1111111111111111,
              "#46039f"
             ],
             [
              0.2222222222222222,
              "#7201a8"
             ],
             [
              0.3333333333333333,
              "#9c179e"
             ],
             [
              0.4444444444444444,
              "#bd3786"
             ],
             [
              0.5555555555555556,
              "#d8576b"
             ],
             [
              0.6666666666666666,
              "#ed7953"
             ],
             [
              0.7777777777777778,
              "#fb9f3a"
             ],
             [
              0.8888888888888888,
              "#fdca26"
             ],
             [
              1,
              "#f0f921"
             ]
            ],
            "type": "heatmap"
           }
          ],
          "heatmapgl": [
           {
            "colorbar": {
             "outlinewidth": 0,
             "ticks": ""
            },
            "colorscale": [
             [
              0,
              "#0d0887"
             ],
             [
              0.1111111111111111,
              "#46039f"
             ],
             [
              0.2222222222222222,
              "#7201a8"
             ],
             [
              0.3333333333333333,
              "#9c179e"
             ],
             [
              0.4444444444444444,
              "#bd3786"
             ],
             [
              0.5555555555555556,
              "#d8576b"
             ],
             [
              0.6666666666666666,
              "#ed7953"
             ],
             [
              0.7777777777777778,
              "#fb9f3a"
             ],
             [
              0.8888888888888888,
              "#fdca26"
             ],
             [
              1,
              "#f0f921"
             ]
            ],
            "type": "heatmapgl"
           }
          ],
          "histogram": [
           {
            "marker": {
             "pattern": {
              "fillmode": "overlay",
              "size": 10,
              "solidity": 0.2
             }
            },
            "type": "histogram"
           }
          ],
          "histogram2d": [
           {
            "colorbar": {
             "outlinewidth": 0,
             "ticks": ""
            },
            "colorscale": [
             [
              0,
              "#0d0887"
             ],
             [
              0.1111111111111111,
              "#46039f"
             ],
             [
              0.2222222222222222,
              "#7201a8"
             ],
             [
              0.3333333333333333,
              "#9c179e"
             ],
             [
              0.4444444444444444,
              "#bd3786"
             ],
             [
              0.5555555555555556,
              "#d8576b"
             ],
             [
              0.6666666666666666,
              "#ed7953"
             ],
             [
              0.7777777777777778,
              "#fb9f3a"
             ],
             [
              0.8888888888888888,
              "#fdca26"
             ],
             [
              1,
              "#f0f921"
             ]
            ],
            "type": "histogram2d"
           }
          ],
          "histogram2dcontour": [
           {
            "colorbar": {
             "outlinewidth": 0,
             "ticks": ""
            },
            "colorscale": [
             [
              0,
              "#0d0887"
             ],
             [
              0.1111111111111111,
              "#46039f"
             ],
             [
              0.2222222222222222,
              "#7201a8"
             ],
             [
              0.3333333333333333,
              "#9c179e"
             ],
             [
              0.4444444444444444,
              "#bd3786"
             ],
             [
              0.5555555555555556,
              "#d8576b"
             ],
             [
              0.6666666666666666,
              "#ed7953"
             ],
             [
              0.7777777777777778,
              "#fb9f3a"
             ],
             [
              0.8888888888888888,
              "#fdca26"
             ],
             [
              1,
              "#f0f921"
             ]
            ],
            "type": "histogram2dcontour"
           }
          ],
          "mesh3d": [
           {
            "colorbar": {
             "outlinewidth": 0,
             "ticks": ""
            },
            "type": "mesh3d"
           }
          ],
          "parcoords": [
           {
            "line": {
             "colorbar": {
              "outlinewidth": 0,
              "ticks": ""
             }
            },
            "type": "parcoords"
           }
          ],
          "pie": [
           {
            "automargin": true,
            "type": "pie"
           }
          ],
          "scatter": [
           {
            "fillpattern": {
             "fillmode": "overlay",
             "size": 10,
             "solidity": 0.2
            },
            "type": "scatter"
           }
          ],
          "scatter3d": [
           {
            "line": {
             "colorbar": {
              "outlinewidth": 0,
              "ticks": ""
             }
            },
            "marker": {
             "colorbar": {
              "outlinewidth": 0,
              "ticks": ""
             }
            },
            "type": "scatter3d"
           }
          ],
          "scattercarpet": [
           {
            "marker": {
             "colorbar": {
              "outlinewidth": 0,
              "ticks": ""
             }
            },
            "type": "scattercarpet"
           }
          ],
          "scattergeo": [
           {
            "marker": {
             "colorbar": {
              "outlinewidth": 0,
              "ticks": ""
             }
            },
            "type": "scattergeo"
           }
          ],
          "scattergl": [
           {
            "marker": {
             "colorbar": {
              "outlinewidth": 0,
              "ticks": ""
             }
            },
            "type": "scattergl"
           }
          ],
          "scattermapbox": [
           {
            "marker": {
             "colorbar": {
              "outlinewidth": 0,
              "ticks": ""
             }
            },
            "type": "scattermapbox"
           }
          ],
          "scatterpolar": [
           {
            "marker": {
             "colorbar": {
              "outlinewidth": 0,
              "ticks": ""
             }
            },
            "type": "scatterpolar"
           }
          ],
          "scatterpolargl": [
           {
            "marker": {
             "colorbar": {
              "outlinewidth": 0,
              "ticks": ""
             }
            },
            "type": "scatterpolargl"
           }
          ],
          "scatterternary": [
           {
            "marker": {
             "colorbar": {
              "outlinewidth": 0,
              "ticks": ""
             }
            },
            "type": "scatterternary"
           }
          ],
          "surface": [
           {
            "colorbar": {
             "outlinewidth": 0,
             "ticks": ""
            },
            "colorscale": [
             [
              0,
              "#0d0887"
             ],
             [
              0.1111111111111111,
              "#46039f"
             ],
             [
              0.2222222222222222,
              "#7201a8"
             ],
             [
              0.3333333333333333,
              "#9c179e"
             ],
             [
              0.4444444444444444,
              "#bd3786"
             ],
             [
              0.5555555555555556,
              "#d8576b"
             ],
             [
              0.6666666666666666,
              "#ed7953"
             ],
             [
              0.7777777777777778,
              "#fb9f3a"
             ],
             [
              0.8888888888888888,
              "#fdca26"
             ],
             [
              1,
              "#f0f921"
             ]
            ],
            "type": "surface"
           }
          ],
          "table": [
           {
            "cells": {
             "fill": {
              "color": "#EBF0F8"
             },
             "line": {
              "color": "white"
             }
            },
            "header": {
             "fill": {
              "color": "#C8D4E3"
             },
             "line": {
              "color": "white"
             }
            },
            "type": "table"
           }
          ]
         },
         "layout": {
          "annotationdefaults": {
           "arrowcolor": "#2a3f5f",
           "arrowhead": 0,
           "arrowwidth": 1
          },
          "autotypenumbers": "strict",
          "coloraxis": {
           "colorbar": {
            "outlinewidth": 0,
            "ticks": ""
           }
          },
          "colorscale": {
           "diverging": [
            [
             0,
             "#8e0152"
            ],
            [
             0.1,
             "#c51b7d"
            ],
            [
             0.2,
             "#de77ae"
            ],
            [
             0.3,
             "#f1b6da"
            ],
            [
             0.4,
             "#fde0ef"
            ],
            [
             0.5,
             "#f7f7f7"
            ],
            [
             0.6,
             "#e6f5d0"
            ],
            [
             0.7,
             "#b8e186"
            ],
            [
             0.8,
             "#7fbc41"
            ],
            [
             0.9,
             "#4d9221"
            ],
            [
             1,
             "#276419"
            ]
           ],
           "sequential": [
            [
             0,
             "#0d0887"
            ],
            [
             0.1111111111111111,
             "#46039f"
            ],
            [
             0.2222222222222222,
             "#7201a8"
            ],
            [
             0.3333333333333333,
             "#9c179e"
            ],
            [
             0.4444444444444444,
             "#bd3786"
            ],
            [
             0.5555555555555556,
             "#d8576b"
            ],
            [
             0.6666666666666666,
             "#ed7953"
            ],
            [
             0.7777777777777778,
             "#fb9f3a"
            ],
            [
             0.8888888888888888,
             "#fdca26"
            ],
            [
             1,
             "#f0f921"
            ]
           ],
           "sequentialminus": [
            [
             0,
             "#0d0887"
            ],
            [
             0.1111111111111111,
             "#46039f"
            ],
            [
             0.2222222222222222,
             "#7201a8"
            ],
            [
             0.3333333333333333,
             "#9c179e"
            ],
            [
             0.4444444444444444,
             "#bd3786"
            ],
            [
             0.5555555555555556,
             "#d8576b"
            ],
            [
             0.6666666666666666,
             "#ed7953"
            ],
            [
             0.7777777777777778,
             "#fb9f3a"
            ],
            [
             0.8888888888888888,
             "#fdca26"
            ],
            [
             1,
             "#f0f921"
            ]
           ]
          },
          "colorway": [
           "#636efa",
           "#EF553B",
           "#00cc96",
           "#ab63fa",
           "#FFA15A",
           "#19d3f3",
           "#FF6692",
           "#B6E880",
           "#FF97FF",
           "#FECB52"
          ],
          "font": {
           "color": "#2a3f5f"
          },
          "geo": {
           "bgcolor": "white",
           "lakecolor": "white",
           "landcolor": "#E5ECF6",
           "showlakes": true,
           "showland": true,
           "subunitcolor": "white"
          },
          "hoverlabel": {
           "align": "left"
          },
          "hovermode": "closest",
          "mapbox": {
           "style": "light"
          },
          "paper_bgcolor": "white",
          "plot_bgcolor": "#E5ECF6",
          "polar": {
           "angularaxis": {
            "gridcolor": "white",
            "linecolor": "white",
            "ticks": ""
           },
           "bgcolor": "#E5ECF6",
           "radialaxis": {
            "gridcolor": "white",
            "linecolor": "white",
            "ticks": ""
           }
          },
          "scene": {
           "xaxis": {
            "backgroundcolor": "#E5ECF6",
            "gridcolor": "white",
            "gridwidth": 2,
            "linecolor": "white",
            "showbackground": true,
            "ticks": "",
            "zerolinecolor": "white"
           },
           "yaxis": {
            "backgroundcolor": "#E5ECF6",
            "gridcolor": "white",
            "gridwidth": 2,
            "linecolor": "white",
            "showbackground": true,
            "ticks": "",
            "zerolinecolor": "white"
           },
           "zaxis": {
            "backgroundcolor": "#E5ECF6",
            "gridcolor": "white",
            "gridwidth": 2,
            "linecolor": "white",
            "showbackground": true,
            "ticks": "",
            "zerolinecolor": "white"
           }
          },
          "shapedefaults": {
           "line": {
            "color": "#2a3f5f"
           }
          },
          "ternary": {
           "aaxis": {
            "gridcolor": "white",
            "linecolor": "white",
            "ticks": ""
           },
           "baxis": {
            "gridcolor": "white",
            "linecolor": "white",
            "ticks": ""
           },
           "bgcolor": "#E5ECF6",
           "caxis": {
            "gridcolor": "white",
            "linecolor": "white",
            "ticks": ""
           }
          },
          "title": {
           "x": 0.05
          },
          "xaxis": {
           "automargin": true,
           "gridcolor": "white",
           "linecolor": "white",
           "ticks": "",
           "title": {
            "standoff": 15
           },
           "zerolinecolor": "white",
           "zerolinewidth": 2
          },
          "yaxis": {
           "automargin": true,
           "gridcolor": "white",
           "linecolor": "white",
           "ticks": "",
           "title": {
            "standoff": 15
           },
           "zerolinecolor": "white",
           "zerolinewidth": 2
          }
         }
        },
        "title": {
         "text": "Top 10 des mots les plus fréquents dans les contenus d'articles récupérés"
        },
        "xaxis": {
         "anchor": "y",
         "domain": [
          0,
          1
         ],
         "title": {
          "text": "Mots"
         }
        },
        "yaxis": {
         "anchor": "x",
         "domain": [
          0,
          1
         ],
         "title": {
          "text": "Fréquences"
         }
        }
       }
      }
     },
     "metadata": {},
     "output_type": "display_data"
    }
   ],
   "source": [
    "combined_dict_content=combine_dictionaries(df_content,'Most_common_text')\n",
    "sorted_content_dictionary=sorted(combined_dict_content.items(), key= lambda item:item[1], reverse=True)[:10]\n",
    "\n",
    "keys=[key for key, value in sorted_content_dictionary]\n",
    "values=[value for key, value in sorted_content_dictionary]\n",
    "\n",
    "fig = px.bar(x=keys, y=values, title=\"Top 10 des mots les plus fréquents dans les contenus d'articles récupérés\", labels={'x':'Mots', 'y':'Fréquences'})\n",
    "fig.show()"
   ]
  },
  {
   "cell_type": "markdown",
   "metadata": {},
   "source": [
    "On voit clairement l'omniprésence des stopwords ici. Nous allons donc les supprimer"
   ]
  },
  {
   "cell_type": "code",
   "execution_count": 420,
   "metadata": {},
   "outputs": [],
   "source": [
    "df_content['Content_cleaned_from_stopwords']=df_content['Content_cleaned'].apply(clean_stopwords)\n"
   ]
  },
  {
   "cell_type": "code",
   "execution_count": 421,
   "metadata": {},
   "outputs": [
    {
     "data": {
      "application/vnd.plotly.v1+json": {
       "config": {
        "plotlyServerURL": "https://plot.ly"
       },
       "data": [
        {
         "alignmentgroup": "True",
         "hovertemplate": "Mots=%{x}<br>Fréquences=%{y}<extra></extra>",
         "legendgroup": "",
         "marker": {
          "color": "#636efa",
          "pattern": {
           "shape": ""
          }
         },
         "name": "",
         "offsetgroup": "",
         "orientation": "v",
         "showlegend": false,
         "textposition": "auto",
         "type": "bar",
         "x": [
          "apple",
          "iphone",
          "ios",
          "update",
          "new",
          "watch",
          "release",
          "could",
          "security",
          "december"
         ],
         "xaxis": "x",
         "y": [
          315,
          146,
          134,
          106,
          104,
          92,
          71,
          60,
          58,
          56
         ],
         "yaxis": "y"
        }
       ],
       "layout": {
        "barmode": "relative",
        "legend": {
         "tracegroupgap": 0
        },
        "template": {
         "data": {
          "bar": [
           {
            "error_x": {
             "color": "#2a3f5f"
            },
            "error_y": {
             "color": "#2a3f5f"
            },
            "marker": {
             "line": {
              "color": "#E5ECF6",
              "width": 0.5
             },
             "pattern": {
              "fillmode": "overlay",
              "size": 10,
              "solidity": 0.2
             }
            },
            "type": "bar"
           }
          ],
          "barpolar": [
           {
            "marker": {
             "line": {
              "color": "#E5ECF6",
              "width": 0.5
             },
             "pattern": {
              "fillmode": "overlay",
              "size": 10,
              "solidity": 0.2
             }
            },
            "type": "barpolar"
           }
          ],
          "carpet": [
           {
            "aaxis": {
             "endlinecolor": "#2a3f5f",
             "gridcolor": "white",
             "linecolor": "white",
             "minorgridcolor": "white",
             "startlinecolor": "#2a3f5f"
            },
            "baxis": {
             "endlinecolor": "#2a3f5f",
             "gridcolor": "white",
             "linecolor": "white",
             "minorgridcolor": "white",
             "startlinecolor": "#2a3f5f"
            },
            "type": "carpet"
           }
          ],
          "choropleth": [
           {
            "colorbar": {
             "outlinewidth": 0,
             "ticks": ""
            },
            "type": "choropleth"
           }
          ],
          "contour": [
           {
            "colorbar": {
             "outlinewidth": 0,
             "ticks": ""
            },
            "colorscale": [
             [
              0,
              "#0d0887"
             ],
             [
              0.1111111111111111,
              "#46039f"
             ],
             [
              0.2222222222222222,
              "#7201a8"
             ],
             [
              0.3333333333333333,
              "#9c179e"
             ],
             [
              0.4444444444444444,
              "#bd3786"
             ],
             [
              0.5555555555555556,
              "#d8576b"
             ],
             [
              0.6666666666666666,
              "#ed7953"
             ],
             [
              0.7777777777777778,
              "#fb9f3a"
             ],
             [
              0.8888888888888888,
              "#fdca26"
             ],
             [
              1,
              "#f0f921"
             ]
            ],
            "type": "contour"
           }
          ],
          "contourcarpet": [
           {
            "colorbar": {
             "outlinewidth": 0,
             "ticks": ""
            },
            "type": "contourcarpet"
           }
          ],
          "heatmap": [
           {
            "colorbar": {
             "outlinewidth": 0,
             "ticks": ""
            },
            "colorscale": [
             [
              0,
              "#0d0887"
             ],
             [
              0.1111111111111111,
              "#46039f"
             ],
             [
              0.2222222222222222,
              "#7201a8"
             ],
             [
              0.3333333333333333,
              "#9c179e"
             ],
             [
              0.4444444444444444,
              "#bd3786"
             ],
             [
              0.5555555555555556,
              "#d8576b"
             ],
             [
              0.6666666666666666,
              "#ed7953"
             ],
             [
              0.7777777777777778,
              "#fb9f3a"
             ],
             [
              0.8888888888888888,
              "#fdca26"
             ],
             [
              1,
              "#f0f921"
             ]
            ],
            "type": "heatmap"
           }
          ],
          "heatmapgl": [
           {
            "colorbar": {
             "outlinewidth": 0,
             "ticks": ""
            },
            "colorscale": [
             [
              0,
              "#0d0887"
             ],
             [
              0.1111111111111111,
              "#46039f"
             ],
             [
              0.2222222222222222,
              "#7201a8"
             ],
             [
              0.3333333333333333,
              "#9c179e"
             ],
             [
              0.4444444444444444,
              "#bd3786"
             ],
             [
              0.5555555555555556,
              "#d8576b"
             ],
             [
              0.6666666666666666,
              "#ed7953"
             ],
             [
              0.7777777777777778,
              "#fb9f3a"
             ],
             [
              0.8888888888888888,
              "#fdca26"
             ],
             [
              1,
              "#f0f921"
             ]
            ],
            "type": "heatmapgl"
           }
          ],
          "histogram": [
           {
            "marker": {
             "pattern": {
              "fillmode": "overlay",
              "size": 10,
              "solidity": 0.2
             }
            },
            "type": "histogram"
           }
          ],
          "histogram2d": [
           {
            "colorbar": {
             "outlinewidth": 0,
             "ticks": ""
            },
            "colorscale": [
             [
              0,
              "#0d0887"
             ],
             [
              0.1111111111111111,
              "#46039f"
             ],
             [
              0.2222222222222222,
              "#7201a8"
             ],
             [
              0.3333333333333333,
              "#9c179e"
             ],
             [
              0.4444444444444444,
              "#bd3786"
             ],
             [
              0.5555555555555556,
              "#d8576b"
             ],
             [
              0.6666666666666666,
              "#ed7953"
             ],
             [
              0.7777777777777778,
              "#fb9f3a"
             ],
             [
              0.8888888888888888,
              "#fdca26"
             ],
             [
              1,
              "#f0f921"
             ]
            ],
            "type": "histogram2d"
           }
          ],
          "histogram2dcontour": [
           {
            "colorbar": {
             "outlinewidth": 0,
             "ticks": ""
            },
            "colorscale": [
             [
              0,
              "#0d0887"
             ],
             [
              0.1111111111111111,
              "#46039f"
             ],
             [
              0.2222222222222222,
              "#7201a8"
             ],
             [
              0.3333333333333333,
              "#9c179e"
             ],
             [
              0.4444444444444444,
              "#bd3786"
             ],
             [
              0.5555555555555556,
              "#d8576b"
             ],
             [
              0.6666666666666666,
              "#ed7953"
             ],
             [
              0.7777777777777778,
              "#fb9f3a"
             ],
             [
              0.8888888888888888,
              "#fdca26"
             ],
             [
              1,
              "#f0f921"
             ]
            ],
            "type": "histogram2dcontour"
           }
          ],
          "mesh3d": [
           {
            "colorbar": {
             "outlinewidth": 0,
             "ticks": ""
            },
            "type": "mesh3d"
           }
          ],
          "parcoords": [
           {
            "line": {
             "colorbar": {
              "outlinewidth": 0,
              "ticks": ""
             }
            },
            "type": "parcoords"
           }
          ],
          "pie": [
           {
            "automargin": true,
            "type": "pie"
           }
          ],
          "scatter": [
           {
            "fillpattern": {
             "fillmode": "overlay",
             "size": 10,
             "solidity": 0.2
            },
            "type": "scatter"
           }
          ],
          "scatter3d": [
           {
            "line": {
             "colorbar": {
              "outlinewidth": 0,
              "ticks": ""
             }
            },
            "marker": {
             "colorbar": {
              "outlinewidth": 0,
              "ticks": ""
             }
            },
            "type": "scatter3d"
           }
          ],
          "scattercarpet": [
           {
            "marker": {
             "colorbar": {
              "outlinewidth": 0,
              "ticks": ""
             }
            },
            "type": "scattercarpet"
           }
          ],
          "scattergeo": [
           {
            "marker": {
             "colorbar": {
              "outlinewidth": 0,
              "ticks": ""
             }
            },
            "type": "scattergeo"
           }
          ],
          "scattergl": [
           {
            "marker": {
             "colorbar": {
              "outlinewidth": 0,
              "ticks": ""
             }
            },
            "type": "scattergl"
           }
          ],
          "scattermapbox": [
           {
            "marker": {
             "colorbar": {
              "outlinewidth": 0,
              "ticks": ""
             }
            },
            "type": "scattermapbox"
           }
          ],
          "scatterpolar": [
           {
            "marker": {
             "colorbar": {
              "outlinewidth": 0,
              "ticks": ""
             }
            },
            "type": "scatterpolar"
           }
          ],
          "scatterpolargl": [
           {
            "marker": {
             "colorbar": {
              "outlinewidth": 0,
              "ticks": ""
             }
            },
            "type": "scatterpolargl"
           }
          ],
          "scatterternary": [
           {
            "marker": {
             "colorbar": {
              "outlinewidth": 0,
              "ticks": ""
             }
            },
            "type": "scatterternary"
           }
          ],
          "surface": [
           {
            "colorbar": {
             "outlinewidth": 0,
             "ticks": ""
            },
            "colorscale": [
             [
              0,
              "#0d0887"
             ],
             [
              0.1111111111111111,
              "#46039f"
             ],
             [
              0.2222222222222222,
              "#7201a8"
             ],
             [
              0.3333333333333333,
              "#9c179e"
             ],
             [
              0.4444444444444444,
              "#bd3786"
             ],
             [
              0.5555555555555556,
              "#d8576b"
             ],
             [
              0.6666666666666666,
              "#ed7953"
             ],
             [
              0.7777777777777778,
              "#fb9f3a"
             ],
             [
              0.8888888888888888,
              "#fdca26"
             ],
             [
              1,
              "#f0f921"
             ]
            ],
            "type": "surface"
           }
          ],
          "table": [
           {
            "cells": {
             "fill": {
              "color": "#EBF0F8"
             },
             "line": {
              "color": "white"
             }
            },
            "header": {
             "fill": {
              "color": "#C8D4E3"
             },
             "line": {
              "color": "white"
             }
            },
            "type": "table"
           }
          ]
         },
         "layout": {
          "annotationdefaults": {
           "arrowcolor": "#2a3f5f",
           "arrowhead": 0,
           "arrowwidth": 1
          },
          "autotypenumbers": "strict",
          "coloraxis": {
           "colorbar": {
            "outlinewidth": 0,
            "ticks": ""
           }
          },
          "colorscale": {
           "diverging": [
            [
             0,
             "#8e0152"
            ],
            [
             0.1,
             "#c51b7d"
            ],
            [
             0.2,
             "#de77ae"
            ],
            [
             0.3,
             "#f1b6da"
            ],
            [
             0.4,
             "#fde0ef"
            ],
            [
             0.5,
             "#f7f7f7"
            ],
            [
             0.6,
             "#e6f5d0"
            ],
            [
             0.7,
             "#b8e186"
            ],
            [
             0.8,
             "#7fbc41"
            ],
            [
             0.9,
             "#4d9221"
            ],
            [
             1,
             "#276419"
            ]
           ],
           "sequential": [
            [
             0,
             "#0d0887"
            ],
            [
             0.1111111111111111,
             "#46039f"
            ],
            [
             0.2222222222222222,
             "#7201a8"
            ],
            [
             0.3333333333333333,
             "#9c179e"
            ],
            [
             0.4444444444444444,
             "#bd3786"
            ],
            [
             0.5555555555555556,
             "#d8576b"
            ],
            [
             0.6666666666666666,
             "#ed7953"
            ],
            [
             0.7777777777777778,
             "#fb9f3a"
            ],
            [
             0.8888888888888888,
             "#fdca26"
            ],
            [
             1,
             "#f0f921"
            ]
           ],
           "sequentialminus": [
            [
             0,
             "#0d0887"
            ],
            [
             0.1111111111111111,
             "#46039f"
            ],
            [
             0.2222222222222222,
             "#7201a8"
            ],
            [
             0.3333333333333333,
             "#9c179e"
            ],
            [
             0.4444444444444444,
             "#bd3786"
            ],
            [
             0.5555555555555556,
             "#d8576b"
            ],
            [
             0.6666666666666666,
             "#ed7953"
            ],
            [
             0.7777777777777778,
             "#fb9f3a"
            ],
            [
             0.8888888888888888,
             "#fdca26"
            ],
            [
             1,
             "#f0f921"
            ]
           ]
          },
          "colorway": [
           "#636efa",
           "#EF553B",
           "#00cc96",
           "#ab63fa",
           "#FFA15A",
           "#19d3f3",
           "#FF6692",
           "#B6E880",
           "#FF97FF",
           "#FECB52"
          ],
          "font": {
           "color": "#2a3f5f"
          },
          "geo": {
           "bgcolor": "white",
           "lakecolor": "white",
           "landcolor": "#E5ECF6",
           "showlakes": true,
           "showland": true,
           "subunitcolor": "white"
          },
          "hoverlabel": {
           "align": "left"
          },
          "hovermode": "closest",
          "mapbox": {
           "style": "light"
          },
          "paper_bgcolor": "white",
          "plot_bgcolor": "#E5ECF6",
          "polar": {
           "angularaxis": {
            "gridcolor": "white",
            "linecolor": "white",
            "ticks": ""
           },
           "bgcolor": "#E5ECF6",
           "radialaxis": {
            "gridcolor": "white",
            "linecolor": "white",
            "ticks": ""
           }
          },
          "scene": {
           "xaxis": {
            "backgroundcolor": "#E5ECF6",
            "gridcolor": "white",
            "gridwidth": 2,
            "linecolor": "white",
            "showbackground": true,
            "ticks": "",
            "zerolinecolor": "white"
           },
           "yaxis": {
            "backgroundcolor": "#E5ECF6",
            "gridcolor": "white",
            "gridwidth": 2,
            "linecolor": "white",
            "showbackground": true,
            "ticks": "",
            "zerolinecolor": "white"
           },
           "zaxis": {
            "backgroundcolor": "#E5ECF6",
            "gridcolor": "white",
            "gridwidth": 2,
            "linecolor": "white",
            "showbackground": true,
            "ticks": "",
            "zerolinecolor": "white"
           }
          },
          "shapedefaults": {
           "line": {
            "color": "#2a3f5f"
           }
          },
          "ternary": {
           "aaxis": {
            "gridcolor": "white",
            "linecolor": "white",
            "ticks": ""
           },
           "baxis": {
            "gridcolor": "white",
            "linecolor": "white",
            "ticks": ""
           },
           "bgcolor": "#E5ECF6",
           "caxis": {
            "gridcolor": "white",
            "linecolor": "white",
            "ticks": ""
           }
          },
          "title": {
           "x": 0.05
          },
          "xaxis": {
           "automargin": true,
           "gridcolor": "white",
           "linecolor": "white",
           "ticks": "",
           "title": {
            "standoff": 15
           },
           "zerolinecolor": "white",
           "zerolinewidth": 2
          },
          "yaxis": {
           "automargin": true,
           "gridcolor": "white",
           "linecolor": "white",
           "ticks": "",
           "title": {
            "standoff": 15
           },
           "zerolinecolor": "white",
           "zerolinewidth": 2
          }
         }
        },
        "title": {
         "text": "Top 10 des mots les plus fréquents dans les contenus d'articles récupérés (hors stopwords)"
        },
        "xaxis": {
         "anchor": "y",
         "domain": [
          0,
          1
         ],
         "title": {
          "text": "Mots"
         }
        },
        "yaxis": {
         "anchor": "x",
         "domain": [
          0,
          1
         ],
         "title": {
          "text": "Fréquences"
         }
        }
       }
      }
     },
     "metadata": {},
     "output_type": "display_data"
    }
   ],
   "source": [
    "df_content['Counting_Words_bis']=df_content['Content_cleaned_from_stopwords'].apply(count_common_words)\n",
    "df_content['Most_common_text_bis']=df_content['Counting_Words_bis'].apply(most_common_words)\n",
    "\n",
    "combined_dict_content=combine_dictionaries(df_content,'Most_common_text_bis')\n",
    "sorted_content_dictionary=sorted(combined_dict_content.items(), key= lambda item:item[1], reverse=True)[:10]\n",
    "\n",
    "keys=[key for key, value in sorted_content_dictionary]\n",
    "values=[value for key, value in sorted_content_dictionary]\n",
    "\n",
    "fig = px.bar(x=keys, y=values, title=\"Top 10 des mots les plus fréquents dans les contenus d'articles récupérés (hors stopwords)\", labels={'x':'Mots', 'y':'Fréquences'})\n",
    "fig.show()"
   ]
  },
  {
   "cell_type": "code",
   "execution_count": 422,
   "metadata": {},
   "outputs": [
    {
     "name": "stderr",
     "output_type": "stream",
     "text": [
      "huggingface/tokenizers: The current process just got forked, after parallelism has already been used. Disabling parallelism to avoid deadlocks...\n",
      "To disable this warning, you can either:\n",
      "\t- Avoid using `tokenizers` before the fork if possible\n",
      "\t- Explicitly set the environment variable TOKENIZERS_PARALLELISM=(true | false)\n"
     ]
    },
    {
     "name": "stdout",
     "output_type": "stream",
     "text": [
      "Defaulting to user installation because normal site-packages is not writeable\n",
      "Requirement already satisfied: scikit-learn in /Users/dabadieraphael/Library/Python/3.9/lib/python/site-packages (1.3.2)\n",
      "Requirement already satisfied: threadpoolctl>=2.0.0 in /Users/dabadieraphael/Library/Python/3.9/lib/python/site-packages (from scikit-learn) (3.2.0)\n",
      "Requirement already satisfied: numpy<2.0,>=1.17.3 in /Users/dabadieraphael/Library/Python/3.9/lib/python/site-packages (from scikit-learn) (1.26.2)\n",
      "Requirement already satisfied: scipy>=1.5.0 in /Users/dabadieraphael/Library/Python/3.9/lib/python/site-packages (from scikit-learn) (1.11.4)\n",
      "Requirement already satisfied: joblib>=1.1.1 in /Users/dabadieraphael/Library/Python/3.9/lib/python/site-packages (from scikit-learn) (1.3.2)\n",
      "\u001b[33mWARNING: You are using pip version 21.2.4; however, version 23.3.2 is available.\n",
      "You should consider upgrading via the '/Library/Developer/CommandLineTools/usr/bin/python3 -m pip install --upgrade pip' command.\u001b[0m\n",
      "Note: you may need to restart the kernel to use updated packages.\n"
     ]
    }
   ],
   "source": [
    "pip install scikit-learn"
   ]
  },
  {
   "cell_type": "markdown",
   "metadata": {},
   "source": [
    "# Prédiction des sentiments"
   ]
  },
  {
   "cell_type": "markdown",
   "metadata": {},
   "source": [
    "Afin de pouvoir utiliser le modèle entraîné, il est nécessaire de pré-traiter les données pour les mettre dans le même format que lors de la phase d'entraînement."
   ]
  },
  {
   "cell_type": "code",
   "execution_count": 423,
   "metadata": {},
   "outputs": [],
   "source": [
    "from tensorflow.keras.preprocessing.text import Tokenizer\n",
    "from tensorflow.keras.preprocessing.sequence import pad_sequences\n",
    "from tensorflow.keras.models import load_model"
   ]
  },
  {
   "cell_type": "code",
   "execution_count": 424,
   "metadata": {},
   "outputs": [
    {
     "name": "stdout",
     "output_type": "stream",
     "text": [
      "1/1 [==============================] - 1s 673ms/step\n",
      "Article 1: Sentiment is negatif.\n",
      "Article 2: Sentiment is positif.\n",
      "Article 3: Sentiment is negatif.\n",
      "Article 4: Sentiment is negatif.\n",
      "Article 5: Sentiment is negatif.\n",
      "Article 6: Sentiment is negatif.\n",
      "Article 7: Sentiment is negatif.\n",
      "Article 8: Sentiment is negatif.\n",
      "Article 9: Sentiment is negatif.\n",
      "Article 10: Sentiment is negatif.\n",
      "Article 11: Sentiment is negatif.\n",
      "Article 12: Sentiment is negatif.\n",
      "Article 13: Sentiment is negatif.\n",
      "Article 14: Sentiment is negatif.\n",
      "Article 15: Sentiment is positif.\n",
      "Article 16: Sentiment is negatif.\n",
      "Article 17: Sentiment is positif.\n",
      "Article 18: Sentiment is negatif.\n",
      "Article 19: Sentiment is positif.\n",
      "Article 20: Sentiment is negatif.\n",
      "Article 21: Sentiment is positif.\n",
      "Article 22: Sentiment is negatif.\n",
      "Article 23: Sentiment is negatif.\n"
     ]
    }
   ],
   "source": [
    "#Préparation des données\n",
    "sequences = tokenizer.texts_to_sequences(df_content['Content_cleaned'])\n",
    "padded_sequences = pad_sequences(sequences, maxlen=2209)\n",
    "\n",
    "#Étape de prédiction\n",
    "model = load_model('mon_modele_lstm.keras')\n",
    "predictions = model.predict(padded_sequences)\n",
    "predicted_labels = ['positif' if pred > 0.7 else 'neutre' if 0.3 < pred <= 0.7 else 'negatif' for pred in predictions]\n",
    "\n",
    "for i, label in enumerate(predicted_labels):\n",
    "    print(f\"Article {i + 1}: Sentiment is {label}.\")"
   ]
  },
  {
   "cell_type": "code",
   "execution_count": 426,
   "metadata": {},
   "outputs": [
    {
     "name": "stdout",
     "output_type": "stream",
     "text": [
      "1/1 [==============================] - 0s 421ms/step\n",
      "Article 1: Sentiment is negatif.\n",
      "Article 2: Sentiment is positif.\n",
      "Article 3: Sentiment is negatif.\n",
      "Article 4: Sentiment is negatif.\n",
      "Article 5: Sentiment is negatif.\n",
      "Article 6: Sentiment is negatif.\n",
      "Article 7: Sentiment is negatif.\n",
      "Article 8: Sentiment is negatif.\n",
      "Article 9: Sentiment is negatif.\n",
      "Article 10: Sentiment is negatif.\n",
      "Article 11: Sentiment is negatif.\n",
      "Article 12: Sentiment is negatif.\n",
      "Article 13: Sentiment is negatif.\n",
      "Article 14: Sentiment is negatif.\n",
      "Article 15: Sentiment is positif.\n",
      "Article 16: Sentiment is negatif.\n",
      "Article 17: Sentiment is positif.\n",
      "Article 18: Sentiment is negatif.\n",
      "Article 19: Sentiment is positif.\n",
      "Article 20: Sentiment is negatif.\n",
      "Article 21: Sentiment is positif.\n",
      "Article 22: Sentiment is negatif.\n",
      "Article 23: Sentiment is negatif.\n"
     ]
    }
   ],
   "source": [
    "sequences_ = tokenizer.texts_to_sequences(df_analyse_1['Titre_cleaned'])\n",
    "padded_sequences_ = pad_sequences(sequences, maxlen=2209)\n",
    "\n",
    "#Étape de prédiction\n",
    "model = load_model('mon_modele_lstm.keras')\n",
    "predictions_ = model.predict(padded_sequences_)\n",
    "predicted_labels_ = ['positif' if pred > 0.4 else 'negatif' for pred in predictions_]\n",
    "\n",
    "for i, label in enumerate(predicted_labels_):\n",
    "    print(f\"Article {i + 1}: Sentiment is {label}.\")"
   ]
  },
  {
   "cell_type": "code",
   "execution_count": 427,
   "metadata": {},
   "outputs": [
    {
     "data": {
      "text/plain": [
       "array([[6.2978261e-06],\n",
       "       [9.7174233e-01],\n",
       "       [7.3953292e-05],\n",
       "       [6.2978261e-06],\n",
       "       [7.3953292e-05],\n",
       "       [1.1495135e-05],\n",
       "       [1.6475584e-04],\n",
       "       [7.2299044e-06],\n",
       "       [1.6843098e-04],\n",
       "       [1.1495135e-05],\n",
       "       [4.0164796e-05],\n",
       "       [1.0626135e-04],\n",
       "       [1.6857246e-05],\n",
       "       [4.1179667e-04],\n",
       "       [9.9611205e-01],\n",
       "       [1.4826113e-04],\n",
       "       [9.9558157e-01],\n",
       "       [1.1495135e-05],\n",
       "       [9.9611205e-01],\n",
       "       [3.6435846e-05],\n",
       "       [9.8264867e-01],\n",
       "       [1.4826113e-04],\n",
       "       [2.8069424e-03]], dtype=float32)"
      ]
     },
     "execution_count": 427,
     "metadata": {},
     "output_type": "execute_result"
    }
   ],
   "source": [
    "predictions_"
   ]
  },
  {
   "cell_type": "code",
   "execution_count": 428,
   "metadata": {},
   "outputs": [
    {
     "name": "stderr",
     "output_type": "stream",
     "text": [
      "huggingface/tokenizers: The current process just got forked, after parallelism has already been used. Disabling parallelism to avoid deadlocks...\n",
      "To disable this warning, you can either:\n",
      "\t- Avoid using `tokenizers` before the fork if possible\n",
      "\t- Explicitly set the environment variable TOKENIZERS_PARALLELISM=(true | false)\n"
     ]
    },
    {
     "name": "stdout",
     "output_type": "stream",
     "text": [
      "Defaulting to user installation because normal site-packages is not writeable\n",
      "Requirement already satisfied: transformers in /Users/dabadieraphael/Library/Python/3.9/lib/python/site-packages (4.36.2)\n",
      "Requirement already satisfied: packaging>=20.0 in /Users/dabadieraphael/Library/Python/3.9/lib/python/site-packages (from transformers) (23.2)\n",
      "Requirement already satisfied: requests in /Users/dabadieraphael/Library/Python/3.9/lib/python/site-packages (from transformers) (2.31.0)\n",
      "Requirement already satisfied: filelock in /Users/dabadieraphael/Library/Python/3.9/lib/python/site-packages (from transformers) (3.13.1)\n",
      "Requirement already satisfied: numpy>=1.17 in /Users/dabadieraphael/Library/Python/3.9/lib/python/site-packages (from transformers) (1.26.2)\n",
      "Requirement already satisfied: pyyaml>=5.1 in /Users/dabadieraphael/Library/Python/3.9/lib/python/site-packages (from transformers) (6.0.1)\n",
      "Requirement already satisfied: tqdm>=4.27 in /Users/dabadieraphael/Library/Python/3.9/lib/python/site-packages (from transformers) (4.66.1)\n",
      "Requirement already satisfied: safetensors>=0.3.1 in /Users/dabadieraphael/Library/Python/3.9/lib/python/site-packages (from transformers) (0.4.1)\n",
      "Requirement already satisfied: tokenizers<0.19,>=0.14 in /Users/dabadieraphael/Library/Python/3.9/lib/python/site-packages (from transformers) (0.15.0)\n",
      "Requirement already satisfied: regex!=2019.12.17 in /Users/dabadieraphael/Library/Python/3.9/lib/python/site-packages (from transformers) (2023.10.3)\n",
      "Requirement already satisfied: huggingface-hub<1.0,>=0.19.3 in /Users/dabadieraphael/Library/Python/3.9/lib/python/site-packages (from transformers) (0.20.1)\n",
      "Requirement already satisfied: typing-extensions>=3.7.4.3 in /Users/dabadieraphael/Library/Python/3.9/lib/python/site-packages (from huggingface-hub<1.0,>=0.19.3->transformers) (4.8.0)\n",
      "Requirement already satisfied: fsspec>=2023.5.0 in /Users/dabadieraphael/Library/Python/3.9/lib/python/site-packages (from huggingface-hub<1.0,>=0.19.3->transformers) (2023.12.2)\n",
      "Requirement already satisfied: urllib3<3,>=1.21.1 in /Users/dabadieraphael/Library/Python/3.9/lib/python/site-packages (from requests->transformers) (2.1.0)\n",
      "Requirement already satisfied: charset-normalizer<4,>=2 in /Users/dabadieraphael/Library/Python/3.9/lib/python/site-packages (from requests->transformers) (3.3.2)\n",
      "Requirement already satisfied: idna<4,>=2.5 in /Users/dabadieraphael/Library/Python/3.9/lib/python/site-packages (from requests->transformers) (3.6)\n",
      "Requirement already satisfied: certifi>=2017.4.17 in /Users/dabadieraphael/Library/Python/3.9/lib/python/site-packages (from requests->transformers) (2023.11.17)\n",
      "\u001b[33mWARNING: You are using pip version 21.2.4; however, version 23.3.2 is available.\n",
      "You should consider upgrading via the '/Library/Developer/CommandLineTools/usr/bin/python3 -m pip install --upgrade pip' command.\u001b[0m\n",
      "Note: you may need to restart the kernel to use updated packages.\n"
     ]
    }
   ],
   "source": [
    "pip install transformers"
   ]
  },
  {
   "cell_type": "code",
   "execution_count": 429,
   "metadata": {},
   "outputs": [
    {
     "name": "stderr",
     "output_type": "stream",
     "text": [
      "No model was supplied, defaulted to distilbert-base-uncased-finetuned-sst-2-english and revision af0f99b (https://huggingface.co/distilbert-base-uncased-finetuned-sst-2-english).\n",
      "Using a pipeline without specifying a model name and revision in production is not recommended.\n",
      "All PyTorch model weights were used when initializing TFDistilBertForSequenceClassification.\n",
      "\n",
      "All the weights of TFDistilBertForSequenceClassification were initialized from the PyTorch model.\n",
      "If your task is similar to the task the model of the checkpoint was trained on, you can already use TFDistilBertForSequenceClassification for predictions without further training.\n"
     ]
    },
    {
     "name": "stdout",
     "output_type": "stream",
     "text": [
      "[{'label': 'NEGATIVE', 'score': 0.9992703795433044}]\n",
      "[{'label': 'POSITIVE', 'score': 0.9918738007545471}]\n",
      "[{'label': 'POSITIVE', 'score': 0.9991652965545654}]\n",
      "[{'label': 'NEGATIVE', 'score': 0.9992703795433044}]\n",
      "[{'label': 'POSITIVE', 'score': 0.9996098875999451}]\n",
      "[{'label': 'POSITIVE', 'score': 0.9968284964561462}]\n",
      "[{'label': 'POSITIVE', 'score': 0.6900090575218201}]\n",
      "[{'label': 'POSITIVE', 'score': 0.8436903953552246}]\n",
      "[{'label': 'POSITIVE', 'score': 0.8163108825683594}]\n",
      "[{'label': 'POSITIVE', 'score': 0.9968284964561462}]\n",
      "[{'label': 'POSITIVE', 'score': 0.9861793518066406}]\n",
      "[{'label': 'NEGATIVE', 'score': 0.9946140646934509}]\n",
      "[{'label': 'NEGATIVE', 'score': 0.9875330328941345}]\n",
      "[{'label': 'NEGATIVE', 'score': 0.9986701011657715}]\n",
      "[{'label': 'NEGATIVE', 'score': 0.9340190291404724}]\n",
      "[{'label': 'NEGATIVE', 'score': 0.9996994733810425}]\n",
      "[{'label': 'POSITIVE', 'score': 0.985751211643219}]\n",
      "[{'label': 'NEGATIVE', 'score': 0.7900848984718323}]\n",
      "[{'label': 'NEGATIVE', 'score': 0.9340190291404724}]\n",
      "[{'label': 'NEGATIVE', 'score': 0.8027877807617188}]\n",
      "[{'label': 'NEGATIVE', 'score': 0.9994107484817505}]\n",
      "[{'label': 'NEGATIVE', 'score': 0.9994392991065979}]\n",
      "[{'label': 'NEGATIVE', 'score': 0.9995032548904419}]\n"
     ]
    }
   ],
   "source": [
    "from transformers import pipeline\n",
    "\n",
    "classifier = pipeline('sentiment-analysis')\n",
    "for i in range(len(df_analyse_1)):\n",
    "    text = df_analyse_1.iloc[i,9]\n",
    "    sentiment = classifier(text)\n",
    "    print(sentiment)\n",
    "    \n"
   ]
  },
  {
   "cell_type": "code",
   "execution_count": 435,
   "metadata": {},
   "outputs": [
    {
     "name": "stderr",
     "output_type": "stream",
     "text": [
      "No model was supplied, defaulted to distilbert-base-uncased-finetuned-sst-2-english and revision af0f99b (https://huggingface.co/distilbert-base-uncased-finetuned-sst-2-english).\n",
      "Using a pipeline without specifying a model name and revision in production is not recommended.\n",
      "All PyTorch model weights were used when initializing TFDistilBertForSequenceClassification.\n",
      "\n",
      "All the weights of TFDistilBertForSequenceClassification were initialized from the PyTorch model.\n",
      "If your task is similar to the task the model of the checkpoint was trained on, you can already use TFDistilBertForSequenceClassification for predictions without further training.\n"
     ]
    },
    {
     "name": "stdout",
     "output_type": "stream",
     "text": [
      "[{'label': 'NEGATIVE', 'score': 0.9210931658744812}]\n",
      "[{'label': 'POSITIVE', 'score': 0.9992915391921997}]\n",
      "[{'label': 'POSITIVE', 'score': 0.979047954082489}]\n",
      "[{'label': 'NEGATIVE', 'score': 0.9210931658744812}]\n",
      "[{'label': 'POSITIVE', 'score': 0.979047954082489}]\n",
      "[{'label': 'NEGATIVE', 'score': 0.9956026077270508}]\n",
      "[{'label': 'POSITIVE', 'score': 0.9707428216934204}]\n",
      "[{'label': 'POSITIVE', 'score': 0.9418611526489258}]\n",
      "[{'label': 'NEGATIVE', 'score': 0.8934594988822937}]\n",
      "[{'label': 'NEGATIVE', 'score': 0.9956026077270508}]\n",
      "[{'label': 'NEGATIVE', 'score': 0.9847583770751953}]\n",
      "[{'label': 'NEGATIVE', 'score': 0.9994975328445435}]\n",
      "[{'label': 'NEGATIVE', 'score': 0.9971733093261719}]\n",
      "[{'label': 'NEGATIVE', 'score': 0.9972557425498962}]\n",
      "[{'label': 'POSITIVE', 'score': 0.9708517789840698}]\n",
      "[{'label': 'NEGATIVE', 'score': 0.9994852542877197}]\n",
      "[{'label': 'POSITIVE', 'score': 0.6103783845901489}]\n",
      "[{'label': 'NEGATIVE', 'score': 0.9956026077270508}]\n",
      "[{'label': 'POSITIVE', 'score': 0.9708517789840698}]\n",
      "[{'label': 'POSITIVE', 'score': 0.862677276134491}]\n",
      "[{'label': 'NEGATIVE', 'score': 0.9978062510490417}]\n",
      "[{'label': 'NEGATIVE', 'score': 0.9994852542877197}]\n",
      "[{'label': 'NEGATIVE', 'score': 0.9996705055236816}]\n"
     ]
    }
   ],
   "source": [
    "classifier = pipeline('sentiment-analysis')\n",
    "for i in range(len(df_analyse_1)):\n",
    "    text = df_content.iloc[i,9]\n",
    "    text = text[:512]\n",
    "    sentiment = classifier(text)\n",
    "    print(sentiment)"
   ]
  },
  {
   "cell_type": "code",
   "execution_count": 431,
   "metadata": {},
   "outputs": [
    {
     "name": "stdout",
     "output_type": "stream",
     "text": [
      "Article 1: Sentiment is negatif.\n",
      "Article 2: Sentiment is positif.\n",
      "Article 3: Sentiment is negatif.\n",
      "Article 4: Sentiment is negatif.\n",
      "Article 5: Sentiment is negatif.\n",
      "Article 6: Sentiment is negatif.\n",
      "Article 7: Sentiment is negatif.\n",
      "Article 8: Sentiment is negatif.\n",
      "Article 9: Sentiment is negatif.\n",
      "Article 10: Sentiment is negatif.\n",
      "Article 11: Sentiment is negatif.\n",
      "Article 12: Sentiment is negatif.\n",
      "Article 13: Sentiment is negatif.\n",
      "Article 14: Sentiment is negatif.\n",
      "Article 15: Sentiment is positif.\n",
      "Article 16: Sentiment is negatif.\n",
      "Article 17: Sentiment is positif.\n",
      "Article 18: Sentiment is negatif.\n",
      "Article 19: Sentiment is positif.\n",
      "Article 20: Sentiment is negatif.\n",
      "Article 21: Sentiment is positif.\n",
      "Article 22: Sentiment is negatif.\n",
      "Article 23: Sentiment is negatif.\n"
     ]
    }
   ],
   "source": [
    "for i, label in enumerate(predicted_labels_):\n",
    "    print(f\"Article {i + 1}: Sentiment is {label}.\")"
   ]
  },
  {
   "cell_type": "markdown",
   "metadata": {},
   "source": [
    "Notre modèle de LSTM a ici très peu de résultats corrects. Le plus important dans notre cas est que la prédiction soit juste lorsque \"positif\" est renvoyé puisque nous voulons conseiller à l'utilisateur de n'acheter que si nous sommes confiants quant à nos prédictions."
   ]
  },
  {
   "cell_type": "code",
   "execution_count": 437,
   "metadata": {},
   "outputs": [
    {
     "name": "stdout",
     "output_type": "stream",
     "text": [
      "True Positives: 2\n",
      "False Positives: 3\n"
     ]
    }
   ],
   "source": [
    "true_positives = 0\n",
    "false_positives = 0\n",
    "\n",
    "for i in range(len(df_analyse_1)):\n",
    "    #Prédiction de notre modèle LSTM\n",
    "    lstm_pred = 'positif' if predictions_[i] > 0.7 else 'negatif'\n",
    "    \n",
    "    # Prédiction du modèle pré-entrainé\n",
    "    text = df_analyse_1.iloc[i, 9]  \n",
    "    hf_pred = classifier(text)[0]['label'].upper()  \n",
    "    if lstm_pred == 'positif' and hf_pred == 'POSITIVE':\n",
    "        true_positives += 1\n",
    "    elif lstm_pred == 'positif' and hf_pred == 'NEGATIVE':\n",
    "        false_positives += 1\n",
    "\n",
    "print(f'True Positives: {true_positives}')\n",
    "print(f'False Positives: {false_positives}')\n"
   ]
  },
  {
   "cell_type": "markdown",
   "metadata": {},
   "source": [
    "\n",
    "\n",
    "On en conclut que ce modèle qui a été entraîné sur des critiques de film peine à généraliser à des articles de presse, ce à quoi on pouvait s'attendre. Dans la suite, nous allons utiliser le modèle pré-entrainé de la librairie transformers pour faire de la prédiction de sentiments sur les articles de presse récupérés."
   ]
  }
 ],
 "metadata": {
  "kernelspec": {
   "display_name": "Python 3",
   "language": "python",
   "name": "python3"
  },
  "language_info": {
   "codemirror_mode": {
    "name": "ipython",
    "version": 3
   },
   "file_extension": ".py",
   "mimetype": "text/x-python",
   "name": "python",
   "nbconvert_exporter": "python",
   "pygments_lexer": "ipython3",
   "version": "3.9.6"
  }
 },
 "nbformat": 4,
 "nbformat_minor": 2
}
