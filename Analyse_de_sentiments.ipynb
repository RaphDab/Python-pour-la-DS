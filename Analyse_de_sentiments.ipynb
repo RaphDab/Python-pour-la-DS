{
 "cells": [
  {
   "cell_type": "code",
   "execution_count": 215,
   "metadata": {},
   "outputs": [
    {
     "name": "stdout",
     "output_type": "stream",
     "text": [
      "Titre: ‘Fortnite’ Has Actually Made The Metaverse After Everyone Else Quit\n",
      "Source: Forbes\n",
      "URL: https://www.forbes.com/sites/paultassi/2023/12/10/fortnite-has-actually-made-the-metaverse-after-everyone-else-quit/\n",
      "\n",
      "Titre: The Top Premium Scotch Whiskies: 2023 Beverage Testing Institute\n",
      "Source: Forbes\n",
      "URL: https://www.forbes.com/sites/joemicallef/2023/12/10/the-top-premium-scotch-whiskies-2023-beverage-testing-institute/\n",
      "\n",
      "Titre: Business Tech Roundup: Microsoft Teams Moves A Step Closer To No Longer Being Part Of Office\n",
      "Source: Forbes\n",
      "URL: https://www.forbes.com/sites/quickerbettertech/2023/12/10/business-tech-roundup-microsoft-teams-moves-a-step-closer-to-no-longer-being-part-of-office/\n",
      "\n",
      "Titre: 2023 Forbes Holiday Cocktail Guide\n",
      "Source: Forbes\n",
      "URL: https://www.forbes.com/sites/karlaalindahao/2023/12/08/best-holiday-cocktail-recipes-2023/\n",
      "\n",
      "Titre: NBA In-Season Tournament Championship Tips Off Tonight: Here’s What To Know About The New Competition\n",
      "Source: Forbes\n",
      "URL: https://www.forbes.com/sites/antoniopequenoiv/2023/12/09/nba-in-season-tournament-championship-tips-off-tonight-heres-what-to-know-about-the-new-competition/\n",
      "\n",
      "Titre: Forget The New MacBook Pro, Apple Has Something Much Better\n",
      "Source: Forbes\n",
      "URL: https://www.forbes.com/sites/ewanspence/2023/12/09/apple-macbook-pro-m3-performance-battery-upgrade-impact-new-macbook-air-release/\n",
      "\n",
      "Titre: Weekend Sip: Looking for the perfect boozy holiday gift? Here’s our annual 12 bottles of Christmas guide.\n",
      "Source: MarketWatch\n",
      "URL: https://www.marketwatch.com/story/looking-for-the-perfect-boozy-holiday-gift-heres-our-annual-12-bottles-of-christmas-guide-ead0054c\n",
      "\n",
      "Titre: New Samsung Leaks Reveal Stunning Galaxy S24 Ultra Design Decision\n",
      "Source: Forbes\n",
      "URL: https://www.forbes.com/sites/ewanspence/2023/12/09/samsung-galaxy-s24-ultra-design-performance-s-pen-speaker-volume-new-galaxy-s24-release/\n",
      "\n",
      "Titre: ‘Squid Game: The Challenge’ Dethroned Again In Netflix’s Top 10 List By A New Show\n",
      "Source: Forbes\n",
      "URL: https://www.forbes.com/sites/paultassi/2023/12/09/squid-game-the-challenge-dethroned-again-in-netflixs-top-10-list-by-a-new-show/\n",
      "\n",
      "Titre: Elon Musk's 'attitude' is part of an advertising exodus. Here's why Meta's pedophile problem hasn't done the same.\n",
      "Source: Business Insider\n",
      "URL: https://www.businessinsider.com/elon-musk-personality-attitude-problem-advertisers-x-meta-facebook-instagram-2023-12\n",
      "\n",
      "Titre: Apple Leak Confirms Surprise iPhone 16 Pro Upgrade\n",
      "Source: Forbes\n",
      "URL: https://www.forbes.com/sites/ewanspence/2023/12/09/apple-iphone-16-pro-max-battery-upgrade-performance-impact-new-iphone-release/\n",
      "\n",
      "Titre: Apple iOS 17.2 Release Date: The Coolest iPhone Upgrade Is Days Away\n",
      "Source: Forbes\n",
      "URL: https://www.forbes.com/sites/davidphelan/2023/12/09/apple-ios-172-release-date-the-coolest-iphone-upgrade-is-days-away/\n",
      "\n",
      "Titre: A New York City finance CEO explains why his company and all of its staff relocated to Miami\n",
      "Source: Business Insider\n",
      "URL: https://www.businessinsider.com/moving-miami-nyc-finance-investors-relocate-millennials-florida-taxes-careers-2023-12\n",
      "\n",
      "Titre: Apple iMessage Soundly Beaten As Surprise New Update Goes Live\n",
      "Source: Forbes\n",
      "URL: https://www.forbes.com/sites/zakdoffman/2023/12/09/apple-iphone-and-google-android-users-get-surprise-new-facebook-messenger-and-whatsapp-updates/\n",
      "\n",
      "Titre: Take a look at this funky electric van and 6 other cool vehicles at this year's London EV show\n",
      "Source: Business Insider\n",
      "URL: https://www.businessinsider.com/photos-funky-electric-van-addax-london-ev-show-2023-12\n",
      "\n",
      "Titre: Holiday Gift Guide: New Zealand Sauvignon Blancs\n",
      "Source: Forbes\n",
      "URL: https://www.forbes.com/sites/jeanettehurt/2023/12/08/holiday-gift-guide-new-zealand-sauvignon-blancs/\n",
      "\n",
      "Titre: Company Close Updates: Snap Inc. stock outperforms competitors on strong trading day\n",
      "Source: MarketWatch\n",
      "URL: https://www.marketwatch.com/data-news/snap-inc-stock-outperforms-competitors-on-strong-trading-day-5248769f-9c9a998da72b\n",
      "\n",
      "Titre: Holiday Gift Guide: 20+ Fine Food Gifts From Around The Globe\n",
      "Source: Forbes\n",
      "URL: https://www.forbes.com/sites/ronaberg/2023/12/08/holiday-gift-guide-20-fine-food--gifts-from-around-the-globe/\n",
      "\n",
      "Titre: What To Stream This Weekend: New Shows And Movies On Netflix, Hulu, Amazon Prime Video And More\n",
      "Source: Forbes\n",
      "URL: https://www.forbes.com/sites/erikkain/2023/12/08/what-to-stream-this-weekend-new-shows-and-movies-on-netflix-hulu-amazon-prime-video-and-more/\n",
      "\n",
      "Titre: Apple Loop: Apple’s iPhone 16 Problem, Stunning iPad Leaks, MacBook Air Surprise\n",
      "Source: Forbes\n",
      "URL: https://www.forbes.com/sites/ewanspence/2023/12/08/apple-headlines-iphone-16-leak-modem-macbook-air-release-date-ipad-pro-specs-apple-watch/\n",
      "\n",
      "Titre: Android Circuit: Pixel 8 Pro’s Massive Update, Improving Genshin Impact, OnePlus 12 Details Confirmed\n",
      "Source: Forbes\n",
      "URL: https://www.forbes.com/sites/ewanspence/2023/12/08/android-headlines-samsung-galaxy-s24-ultra-oneplus-12-discord-app/\n",
      "\n",
      "Titre: How To Photoshop On An iPhone – Edit With Ease\n",
      "Source: Forbes\n",
      "URL: https://www.forbes.com/sites/technology/article/how-to-photoshop-on-an-iphone/\n",
      "\n",
      "Titre: Apple iPhone, Watch product design head to leave: report\n",
      "Source: MarketWatch\n",
      "URL: https://www.marketwatch.com/story/apple-iphone-watch-product-design-head-to-leave-report-bcfc6dc6\n",
      "\n",
      "Titre: : Apple iPhone, Watch product design head to leave: report\n",
      "Source: MarketWatch\n",
      "URL: https://www.marketwatch.com/story/apple-iphone-watch-product-design-head-to-leave-report-bcfc6dc6\n",
      "\n",
      "Titre: Paramount Shares Rocket After Reports Of Potential Takeover\n",
      "Source: Forbes\n",
      "URL: https://www.forbes.com/sites/antoniopequenoiv/2023/12/08/paramount-shares-rocket-after-reports-of-potential-takeover/\n",
      "\n",
      "Titre: Sip Into The Season With These 10 Winter Cocktails\n",
      "Source: Forbes\n",
      "URL: https://www.forbes.com/sites/emilyprice/2023/12/08/sip-into-the-season-with-these-10-winter-cocktails/\n",
      "\n",
      "Titre: Holiday Gift Guide 2023: The Best Non-Alcoholic Gifts\n",
      "Source: Forbes\n",
      "URL: https://www.forbes.com/sites/nomanazish/2023/12/08/holiday-gift-guide-2023-the-best-non-alcoholic-gifts/\n",
      "\n",
      "Titre: Soviet Mainframes To Silicon Mountains: Armenia As A Tech Powerhouse\n",
      "Source: Forbes\n",
      "URL: https://www.forbes.com/sites/craigsmith/2023/12/08/soviet-mainframes-to-silicon-mountains-armenia-as-a-tech-powerhouse/\n",
      "\n",
      "Titre: Southall Aces Southern Hospitality As Epic Farm Resort\n",
      "Source: Forbes\n",
      "URL: https://www.forbes.com/sites/beckbamberger/2023/12/08/southall-aces-southern-hospitality-as-epic-farm-resort/\n",
      "\n",
      "Titre: Apple's latest moves in India underscore data showing it's primed to be the next China\n",
      "Source: CNBC\n",
      "URL: https://www.cnbc.com/2023/12/08/apples-latest-moves-in-india-underscore-data-showing-its-primed-to-be-the-next-china.html\n",
      "\n",
      "Titre: X Has Become A Full-Fledged PR Disaster But It Won't Go Away Anytime Soon\n",
      "Source: Forbes\n",
      "URL: https://www.forbes.com/sites/petersuciu/2023/12/08/x-has-become-a-full-fledged-pr-disaster-but-it-wont-go-away-anytime-soon/\n",
      "\n",
      "Titre: Paramount shares jump after reports of takeover interest\n",
      "Source: CNBC\n",
      "URL: https://www.cnbc.com/2023/12/08/paramount-para-takeover-interest-reports.html\n",
      "\n",
      "Titre: Exasperated parents are venting about their kids' pricey, 'delulu' Christmas wish lists in a tough economy, which includes designer clothing and luxury skin care\n",
      "Source: Business Insider\n",
      "URL: https://www.businessinsider.com/parents-vent-gen-alpha-delusional-pricey-christmas-wishlists-inflation-economy-2023-12\n",
      "\n",
      "Titre: Taylor Swift's Eras is the first concert tour to gross over $1 billion, report says\n",
      "Source: Business Insider\n",
      "URL: https://www.businessinsider.com/taylor-swift-eras-first-concert-tour-gross-over-1-billion-2023-12\n",
      "\n",
      "Titre: Investors are taking more risk as we near the end of 2023\n",
      "Source: MarketWatch\n",
      "URL: https://www.marketwatch.com/story/investors-are-taking-more-risk-as-we-near-the-end-of-2023-534e8964\n",
      "\n",
      "Titre: Three Moves For Developing General Management Talent\n",
      "Source: Forbes\n",
      "URL: https://www.forbes.com/sites/stephenmiles/2023/12/08/three-moves-for-developing-general-management-talent/\n",
      "\n",
      "Titre: Best VPN deals 2023: Tried, trusted, tested digital security for less\n",
      "Source: Business Insider\n",
      "URL: https://www.businessinsider.com/guides/deals/best-vpn-deals\n",
      "\n",
      "Titre: Can The Jobs Number End The Rally?\n",
      "Source: Forbes\n",
      "URL: https://www.forbes.com/sites/jjkinahan/2023/12/08/can-the-jobs-number-end-the-rally/\n",
      "\n",
      "Titre: Google weighs Gemini AI project to tell people their life story using phone data, photos\n",
      "Source: CNBC\n",
      "URL: https://www.cnbc.com/2023/12/08/google-weighing-project-ellmann-uses-gemini-ai-to-tell-life-stories.html\n",
      "\n",
      "Titre: Holiday Gift Guide 2023: The Best Stocking Stuffer Supplements\n",
      "Source: Forbes\n",
      "URL: https://www.forbes.com/sites/annahaines/2023/12/08/holiday-gift-guide-2023-the-best-stocking-stuffer-supplements/\n",
      "\n",
      "Titre: Jim Cramer's top 10 things to watch in the stock market Friday\n",
      "Source: CNBC\n",
      "URL: https://www.cnbc.com/2023/12/08/jim-cramers-top-10-things-to-watch-in-the-stock-market-friday.html\n",
      "\n",
      "Titre: The tension between Wall Street and elite universities reached a fever pitch after one exec threatened to pull a $100 million donation from Penn\n",
      "Source: Business Insider\n",
      "URL: https://www.businessinsider.com/news-today-december-8-upenn-elizabeth-magill-wall-street-donations-2023-12\n",
      "\n",
      "Titre: Lessons Learned From Health Plan Transformation\n",
      "Source: Forbes\n",
      "URL: https://www.forbes.com/sites/forbestechcouncil/2023/12/08/lessons-learned-from-health-plan-transformation/\n",
      "\n",
      "Titre: Market Extra: Can the U.S. stock-market rally survive without ‘the Magnificent Seven?’ One top Wall Street strategist says ‘yes’.\n",
      "Source: MarketWatch\n",
      "URL: https://www.marketwatch.com/story/can-the-u-s-stock-market-rally-survive-without-the-magnificent-seven-one-top-wall-street-strategist-says-yes-c7703e7c\n",
      "\n",
      "Titre: Unlocking More Value From Sponsorship Rights, Properties, And Assets\n",
      "Source: Forbes\n",
      "URL: https://www.forbes.com/sites/stephendiorio/2023/12/08/unlocking-more-value-from-sponsorship-rights-properties-and-assets/\n",
      "\n",
      "Titre: Greta Gerwig’s Movies: Ranked And In Order Of Release\n",
      "Source: Forbes\n",
      "URL: https://www.forbes.com/sites/entertainment/article/greta-gerwig-movies/\n",
      "\n",
      "Titre: No-One Cares Which Bank Provides Their Apple Card\n",
      "Source: Forbes\n",
      "URL: https://www.forbes.com/sites/davidbirch/2023/12/08/no-one-cares-which-bank-provides-their-apple-card/\n",
      "\n",
      "Titre: Apple Wants To Make 1-In-4 iPhones In India As Tata Plans To Build Country’s Biggest Factory For The Smartphone, Reports Say\n",
      "Source: Forbes\n",
      "URL: https://www.forbes.com/sites/siladityaray/2023/12/08/apple-wants-to-make-1-in-4-iphones-in-india-as-tata-plans-to-build-countrys-biggest-factory-for-the-smartphone-reports-say/\n",
      "\n",
      "Titre: Need to Know: Investors might panic as inflation falls further — here’s the stock-market call of JPMorgan’s resolute bear\n",
      "Source: MarketWatch\n",
      "URL: https://www.marketwatch.com/story/investors-might-panic-as-inflation-falls-further-heres-the-stock-market-call-of-jpmorgans-resolute-bear-e451172d\n",
      "\n",
      "Titre: The Forbes 2023 All-Star Eateries In New York\n",
      "Source: Forbes\n",
      "URL: https://www.forbes.com/sites/steveforbes/2023/12/08/the-forbes-2023-all-star-eateries-in-new-york/\n",
      "\n",
      "Titre: GameStop CEO Ryan Cohen is now free to invest the retailer's cash in stocks, Warren Buffett-style\n",
      "Source: Business Insider\n",
      "URL: https://markets.businessinsider.com/news/stocks/gamestop-ryan-cohen-stocks-warren-buffett-berkshire-portfolio-investing-pachter-2023-12\n",
      "\n",
      "Titre: The 2024 Subaru Impreza vs. the Honda Civic: How these compact cars compare\n",
      "Source: MarketWatch\n",
      "URL: https://www.marketwatch.com/story/the-2024-subaru-impreza-vs-the-honda-civic-how-these-compact-cars-compare-d50b8cc3\n",
      "\n",
      "Titre: Apple reportedly plans major expansion of iPhone production in India\n",
      "Source: MarketWatch\n",
      "URL: https://www.marketwatch.com/story/apple-reportedly-plans-major-expansion-of-iphone-production-in-india-af079e34\n",
      "\n",
      "Titre: : Apple reportedly plans major expansion of iPhone production in India\n",
      "Source: MarketWatch\n",
      "URL: https://www.marketwatch.com/story/apple-reportedly-plans-major-expansion-of-iphone-production-in-india-af079e34\n",
      "\n",
      "Titre: Bill Gates thinks of himself as 'very nice' compared to Elon Musk and Steve Jobs\n",
      "Source: Business Insider\n",
      "URL: https://www.businessinsider.com/bill-gates-thinks-himself-nice-compared-elon-musk-steve-jobs-2023-12\n",
      "\n",
      "Titre: Here’s How Fashion Is Showing Up At Art Basel Miami 2023\n",
      "Source: Forbes\n",
      "URL: https://www.forbes.com/sites/cassellferere/2023/12/07/heres-how-fashion-is-showing-up-at-art-basel-miami-2023/\n",
      "\n",
      "Titre: Broadcom's AI prowess is undiminished, despite reporting a mixed quarter\n",
      "Source: CNBC\n",
      "URL: https://www.cnbc.com/2023/12/07/broadcoms-ai-prowess-is-undiminished-despite-a-mixed-quarter.html\n",
      "\n",
      "Titre: Elon Musk considers reinstating Alex Jones' X account, backtracking on prior decision\n",
      "Source: CNBC\n",
      "URL: https://www.cnbc.com/2023/12/07/elon-musk-considers-reinstating-alex-jones-x-account.html\n",
      "\n",
      "Titre: FabFitFun faces backlash for crude promo code in support of Elon Musk — and its pledge to run ads on X\n",
      "Source: Business Insider\n",
      "URL: https://www.businessinsider.com/fabfitfun-customers-revolt-crude-promo-code-elon-musk-x-twitter-2023-12\n",
      "\n",
      "Titre: Holiday Gift Guide 2023: The 10 Best Sweet Treats From Hotels\n",
      "Source: Forbes\n",
      "URL: https://www.forbes.com/sites/brittanyanas/2023/12/07/holiday-gift-guide-2023-the-10-best-sweet-treats-from-hotels/\n",
      "\n",
      "Titre: Company Close Updates: Peloton Interactive Inc. stock underperforms Thursday when compared to competitors\n",
      "Source: MarketWatch\n",
      "URL: https://www.marketwatch.com/data-news/peloton-interactive-inc-stock-underperforms-thursday-when-compared-to-competitors-4d28c24f-f927ea2c1913\n",
      "\n",
      "Titre: Here's what's on the menu at McDonald's new CosMc's spinoff restaurant\n",
      "Source: CNBC\n",
      "URL: https://www.cnbc.com/2023/12/07/heres-whats-on-the-menu-at-mcdonalds-new-cosmcs-spinoff-restaurant.html\n",
      "\n",
      "Titre: Apple Adds NameDrop-Like Pass-Sharing Feature To Latest iOS 17.2 Beta That Presages Similar Accessibility Gains\n",
      "Source: Forbes\n",
      "URL: https://www.forbes.com/sites/stevenaquino/2023/12/07/apple-adds-namedrop-like-pass-sharing-feature-to-latest-ios-172-beta-that-presages-similar-accessibility-gains/\n",
      "\n",
      "Titre: Thriving In The Unknown: How To Navigate Life’s Chaos With Ease\n",
      "Source: Forbes\n",
      "URL: https://www.forbes.com/sites/soulaimagourani/2023/12/07/thriving-in-the-unknown-how-to-navigate-lifes-chaos-with-ease/\n",
      "\n",
      "Titre: TikTok’s Most Popular Songs In 2023 Were Sped-Up Remixes\n",
      "Source: Forbes\n",
      "URL: https://www.forbes.com/sites/conormurray/2023/12/07/tiktoks-most-popular-songs-in-2023-were-sped-up-remixes/\n",
      "\n",
      "Titre: Apple iPad 2024: All-New Big-Screen Model Coming In Weeks, Report Says\n",
      "Source: Forbes\n",
      "URL: https://www.forbes.com/sites/davidphelan/2023/12/07/apple-ipad-2024-all-new-big-screen-model-coming-in-weeks-report-says/\n",
      "\n",
      "Titre: How To Tackle Generative AI And Data Governance\n",
      "Source: Forbes\n",
      "URL: https://www.forbes.com/sites/meganpoinski/2023/12/07/how-to-tackle-generative-ai-and-data-governance/\n",
      "\n",
      "Titre: Jeremy Grantham's GMO divides the mega-cap tech stocks into these winners and losers\n",
      "Source: Business Insider\n",
      "URL: https://markets.businessinsider.com/news/stocks/jeremy-grantham-gmo-magnificent-7-stocks-bubble-tech-nvidia-tesla-2023-12\n",
      "\n",
      "Titre: Dow Update: Walgreens Boots, Intel share gains contribute to Dow's nearly 100-point jump\n",
      "Source: MarketWatch\n",
      "URL: https://www.marketwatch.com/data-news/walgreens-boots-intel-share-gains-contribute-to-dow-s-nearly-100-point-jump-16786b01-5ec24748c015\n",
      "\n",
      "Titre: : Tesla executive overseeing Dojo supercomputer departs: report\n",
      "Source: MarketWatch\n",
      "URL: https://www.marketwatch.com/story/tesla-executive-overseeing-dojo-supercomputer-departs-report-2e767dec\n",
      "\n",
      "Titre: Google Training Gemini On Its Own Chips Reveals Another Of Its Advantages\n",
      "Source: Forbes\n",
      "URL: https://www.forbes.com/sites/richardnieva/2023/12/07/google-deepmind-gemini-tpu/\n",
      "\n",
      "Titre: Elon Musk goes off on Disney CEO Bob Iger, says he should be 'fired immediately'\n",
      "Source: Business Insider\n",
      "URL: https://www.businessinsider.com/elon-musk-disney-ceo-bob-iger-comments-should-be-fired-2023-12\n",
      "\n",
      "Titre: Musk Slams Disney CEO Bob Iger—Again—After Disney Suspends Ads On X\n",
      "Source: Forbes\n",
      "URL: https://www.forbes.com/sites/brianbushard/2023/12/07/musk-slams-disney-ceo-bob-iger-again-after-disney-suspends-ads-on-x/\n",
      "\n",
      "Titre: The Evolving Landscape Of Communication Service Providers: Challenges And Strategies\n",
      "Source: Forbes\n",
      "URL: https://www.forbes.com/sites/forbesbusinesscouncil/2023/12/07/the-evolving-landscape-of-communication-service-providers-challenges-and-strategies/\n",
      "\n",
      "Titre: Deep Dive: These are the dividend stocks that will hold up in a weakening economy in 2024, says this highly rated money manager\n",
      "Source: MarketWatch\n",
      "URL: https://www.marketwatch.com/story/these-are-the-dividend-stocks-that-will-hold-up-in-a-weakening-economy-in-2024-says-this-highly-rated-money-manager-45fb3865\n",
      "\n",
      "Titre: Elvis Presley’s Comeback: The King Returns To Several Billboard Charts\n",
      "Source: Forbes\n",
      "URL: https://www.forbes.com/sites/hughmcintyre/2023/12/07/elvis-presleys-comeback-the-king-returns-to-several-billboard-charts/\n",
      "\n",
      "Titre: AI Agents And The Era Of The Intelligent Interface\n",
      "Source: Forbes\n",
      "URL: https://www.forbes.com/sites/davidarmano/2023/12/07/ai-agents-and-the-era-of-the-intelligent-interface/\n",
      "\n",
      "Titre: OWC Reveals Its First And Fastest USB4 Enclosure For SSDs\n",
      "Source: Forbes\n",
      "URL: https://www.forbes.com/sites/marksparrow/2023/12/07/owc-reveals-its-first-and-fastest-usb4-enclosure-for-ssds/\n",
      "\n",
      "Titre: News of OpenAI workers' big bluff is the latest crack in Sam Altman's facade\n",
      "Source: Business Insider\n",
      "URL: https://www.businessinsider.com/news-today-december-7-openai-chatgpt-sam-altman-ouster-impact-2023-12\n",
      "\n",
      "Titre: 5 Consumer Tech Industry Predictions For 2024\n",
      "Source: Forbes\n",
      "URL: https://www.forbes.com/sites/forbestechcouncil/2023/12/07/5-consumer-tech-industry-predictions-for-2024/\n",
      "\n",
      "Titre: Insta360 Go 3 Gets The Classic Matte Black Treatment With A New Version\n",
      "Source: Forbes\n",
      "URL: https://www.forbes.com/sites/prakharkhanna/2023/12/07/insta360-go-3-gets-the-classic-matte-black-treatment-with-a-new-version/\n",
      "\n",
      "Titre: U.S. retail lobbyists retract key claim on 'organized retail crime' accounting for inventory losses\n",
      "Source: CNBC\n",
      "URL: https://www.cnbc.com/2023/12/07/us-retail-lobbyists-retract-key-claim-on-organized-retail-crime-accounting-for-inventory-losses.html\n",
      "\n",
      "Titre: India’s stock market tops $4 trillion in value as investors buy into world’s fastest growing big economy\n",
      "Source: MarketWatch\n",
      "URL: https://www.marketwatch.com/story/indias-stock-market-tops-4-trillion-in-value-as-investors-buy-into-worlds-fastest-growing-big-economy-12c471e1\n",
      "\n",
      "Titre: iOS 17.2 Is Coming Any Minute Now With Brilliant New iPhone Features\n",
      "Source: Forbes\n",
      "URL: https://www.forbes.com/sites/kateoflahertyuk/2023/12/07/ios-172-is-coming-any-minute-now-with-brilliant-new-iphone-features/\n",
      "\n",
      "Titre: With Concerns About Brand Safety, More Advertisers Have Left X\n",
      "Source: Forbes\n",
      "URL: https://www.forbes.com/sites/bradadgate/2023/12/07/with-concerns-about-brand-safety-more-advertisers-have-left-x/\n",
      "\n",
      "Titre: Why You Should Buy Costco’s Latest Scotch Whisky Expressions\n",
      "Source: Forbes\n",
      "URL: https://www.forbes.com/sites/joemicallef/2023/12/07/why-you-should-buy-costcos-latest-scotch-whisky-expressions/\n",
      "\n",
      "Titre: U.S. Government Secretly Demanding Phone Data, Senator Claims\n",
      "Source: Forbes\n",
      "URL: https://www.forbes.com/sites/emmawoollacott/2023/12/07/us-government-secretly-demanding-phone-data-senator-claims/\n",
      "\n",
      "Titre: The best thing I packed on a 13-day van trip was so useful I'd take it on any drive\n",
      "Source: Business Insider\n",
      "URL: https://www.businessinsider.com/car-phone-mount-best-thing-packed-van-road-trip-2023-12\n",
      "\n",
      "Titre: There’s a new market dynamic heading into payrolls report, Goldman trading expert says\n",
      "Source: MarketWatch\n",
      "URL: https://www.marketwatch.com/story/theres-a-new-market-dynamic-heading-into-payrolls-report-goldman-trading-expert-says-1f3798f2\n",
      "\n",
      "Titre: Tech Moms Thriving: Balancing Bytes And Well-Being In The CTO's World\n",
      "Source: Forbes\n",
      "URL: https://www.forbes.com/sites/forbestechcouncil/2023/12/07/tech-moms-thriving-balancing-bytes-and-well-being-in-the-ctos-world/\n",
      "\n",
      "Titre: Microsoft's president meets with the Chinese government to discuss A.I. co-operation\n",
      "Source: CNBC\n",
      "URL: https://www.cnbc.com/2023/12/07/microsofts-president-meets-with-the-chinese-government-to-talk-ai.html\n",
      "\n",
      "Titre: Meta Launches End-To-End Encryption For Messages On Facebook And Messenger\n",
      "Source: Forbes\n",
      "URL: https://www.forbes.com/sites/roberthart/2023/12/07/meta-launches-end-to-end-encryption-for-messages-on-facebook-and-messenger/\n",
      "\n",
      "Titre: New Apple Leak Hints At Early MacBook Air Upgrade\n",
      "Source: Forbes\n",
      "URL: https://www.forbes.com/sites/ewanspence/2023/12/06/apple-macbook-air-m3-apple-silicon-upgrade-new-macbook/\n",
      "\n",
      "Titre: This app gives Android users the ability to send blue-bubble texts to iPhones — and Apple can't be happy\n",
      "Source: Business Insider\n",
      "URL: https://www.businessinsider.com/imessage-android-app-beeper-mini-blue-bubble-texts-2023-12\n",
      "\n",
      "Titre: Charlie Munger trashed crypto as worthless and vile – and blasted coin promoters as deluded 'scumballs'\n",
      "Source: Business Insider\n",
      "URL: https://markets.businessinsider.com/news/currencies/charlie-munger-crypto-bitcoin-price-collison-interview-buffett-berkshire-investing-2023-12\n",
      "\n",
      "Titre: Meta to expand encryption on Messenger making it similar to WhatsApp\n",
      "Source: CNBC\n",
      "URL: https://www.cnbc.com/2023/12/07/meta-to-expand-encryption-on-messenger-making-it-similar-to-whatsapp.html\n",
      "\n",
      "Titre: Every Major Event In Taylor Swift's Record-Breaking 2023—From The Eras Tour To Time Person Of The Year\n",
      "Source: Forbes\n",
      "URL: https://www.forbes.com/sites/conormurray/2023/12/06/every-major-event-in-taylor-swifts-record-breaking-2023-from-the-eras-tour-to-time-person-of-the-year/\n",
      "\n",
      "Titre: The Democratization Of Corporate Governance\n",
      "Source: Forbes\n",
      "URL: https://www.forbes.com/sites/quora/2023/12/06/the-democratization-of-corporate-governance/\n",
      "\n",
      "Titre: The stock market looks like a 'rubber band poised to snap' as investors crowd into US equities, RBA says\n",
      "Source: Business Insider\n",
      "URL: https://markets.businessinsider.com/news/stocks/stock-market-outlook-global-emerging-equities-magnificent-seven-tech-rally-2023-12\n",
      "\n",
      "Titre: Morgan Wallen Says ‘There’s No Excuse’ For Using Racial Slur\n",
      "Source: Forbes\n",
      "URL: https://www.forbes.com/sites/anafaguy/2023/12/06/morgan-wallen-says-theres-no-excuse-for-using-racial-slur/\n",
      "\n"
     ]
    }
   ],
   "source": [
    "\n",
    "import requests\n",
    "parameters = {\n",
    "    'q': 'Apple',\n",
    "    'domains': 'marketwatch.com,cnbc.com,wsj.com,forbes.com',\n",
    "    'sortBy': 'publishedAt',\n",
    "    'apiKey': '1b20fb6f9b9d40f0b4e4ad6fe5d90755'  # Assurez-vous d'utiliser votre propre clé API\n",
    "}\n",
    "\n",
    "url = 'https://newsapi.org/v2/everything'\n",
    "\n",
    "# Appel de l'API\n",
    "response = requests.get(url, params=parameters)\n",
    "articles = response.json().get('articles', [])  # Utilisez .get pour éviter les erreurs si 'articles' n'existe pas\n",
    "\n",
    "# Itérer sur chaque article récupéré\n",
    "for article in articles:\n",
    "    title = article.get('title', 'Titre indisponible')  # Utilisez .get pour éviter les erreurs si 'title' n'existe pas\n",
    "    source_name = article.get('source', {}).get('name', 'Source indisponible')  # Récupérer le nom de la source\n",
    "    url = article.get('url', 'URL indisponible')  # Récupérer l'URL de l'article\n",
    "    print(f\"Titre: {title}\\nSource: {source_name}\\nURL: {url}\\n\")\n"
   ]
  },
  {
   "cell_type": "code",
   "execution_count": 220,
   "metadata": {},
   "outputs": [],
   "source": [
    "import csv\n",
    "\n",
    "with open('articles.csv', mode='w', newline='', encoding='utf-8') as file:\n",
    "    writer = csv.writer(file)\n",
    "    writer.writerow(['Titre', 'URL', 'Date de publication', 'Description','Source'])\n",
    "    for article in articles:\n",
    "        if \"Apple\" not in article['title']:\n",
    "          continue\n",
    "        writer.writerow([article['title'], article['url'], article['publishedAt'], article['description'], article['source']['name']])\n",
    "\n",
    "       "
   ]
  },
  {
   "cell_type": "markdown",
   "metadata": {},
   "source": [
    "\n",
    "\n",
    "# Récupération du contenu des articles"
   ]
  },
  {
   "cell_type": "code",
   "execution_count": 221,
   "metadata": {},
   "outputs": [
    {
     "data": {
      "text/html": [
       "<div>\n",
       "<style scoped>\n",
       "    .dataframe tbody tr th:only-of-type {\n",
       "        vertical-align: middle;\n",
       "    }\n",
       "\n",
       "    .dataframe tbody tr th {\n",
       "        vertical-align: top;\n",
       "    }\n",
       "\n",
       "    .dataframe thead th {\n",
       "        text-align: right;\n",
       "    }\n",
       "</style>\n",
       "<table border=\"1\" class=\"dataframe\">\n",
       "  <thead>\n",
       "    <tr style=\"text-align: right;\">\n",
       "      <th></th>\n",
       "      <th>Titre</th>\n",
       "      <th>URL</th>\n",
       "      <th>Date de publication</th>\n",
       "      <th>Description</th>\n",
       "      <th>Source</th>\n",
       "    </tr>\n",
       "  </thead>\n",
       "  <tbody>\n",
       "    <tr>\n",
       "      <th>0</th>\n",
       "      <td>Forget The New MacBook Pro, Apple Has Somethin...</td>\n",
       "      <td>https://www.forbes.com/sites/ewanspence/2023/1...</td>\n",
       "      <td>2023-12-09T20:30:22Z</td>\n",
       "      <td>Apple’s awkward MacBook Pro may look attractiv...</td>\n",
       "      <td>Forbes</td>\n",
       "    </tr>\n",
       "    <tr>\n",
       "      <th>1</th>\n",
       "      <td>Apple Leak Confirms Surprise iPhone 16 Pro Upg...</td>\n",
       "      <td>https://www.forbes.com/sites/ewanspence/2023/1...</td>\n",
       "      <td>2023-12-09T14:42:17Z</td>\n",
       "      <td>iPhone 16 Pro models will be the first to bene...</td>\n",
       "      <td>Forbes</td>\n",
       "    </tr>\n",
       "    <tr>\n",
       "      <th>2</th>\n",
       "      <td>Apple iOS 17.2 Release Date: The Coolest iPhon...</td>\n",
       "      <td>https://www.forbes.com/sites/davidphelan/2023/...</td>\n",
       "      <td>2023-12-09T14:38:43Z</td>\n",
       "      <td>There’s a big iPhone update coming and it’s fu...</td>\n",
       "      <td>Forbes</td>\n",
       "    </tr>\n",
       "    <tr>\n",
       "      <th>3</th>\n",
       "      <td>Apple iMessage Soundly Beaten As Surprise New ...</td>\n",
       "      <td>https://www.forbes.com/sites/zakdoffman/2023/1...</td>\n",
       "      <td>2023-12-09T12:30:29Z</td>\n",
       "      <td>Forget iPhone 15—Apple suddenly has a major iP...</td>\n",
       "      <td>Forbes</td>\n",
       "    </tr>\n",
       "    <tr>\n",
       "      <th>4</th>\n",
       "      <td>Apple Loop: Apple’s iPhone 16 Problem, Stunnin...</td>\n",
       "      <td>https://www.forbes.com/sites/ewanspence/2023/1...</td>\n",
       "      <td>2023-12-08T21:32:17Z</td>\n",
       "      <td>This week’s Apple headlines; Apple’s iPhone 16...</td>\n",
       "      <td>Forbes</td>\n",
       "    </tr>\n",
       "    <tr>\n",
       "      <th>5</th>\n",
       "      <td>Apple iPhone, Watch product design head to lea...</td>\n",
       "      <td>https://www.marketwatch.com/story/apple-iphone...</td>\n",
       "      <td>2023-12-08T20:37:19Z</td>\n",
       "      <td>Tang Tan, the Apple Inc. executive who headed ...</td>\n",
       "      <td>MarketWatch</td>\n",
       "    </tr>\n",
       "    <tr>\n",
       "      <th>6</th>\n",
       "      <td>: Apple iPhone, Watch product design head to l...</td>\n",
       "      <td>https://www.marketwatch.com/story/apple-iphone...</td>\n",
       "      <td>2023-12-08T20:30:00Z</td>\n",
       "      <td>Tang Tan, the Apple Inc. executive who headed ...</td>\n",
       "      <td>MarketWatch</td>\n",
       "    </tr>\n",
       "    <tr>\n",
       "      <th>7</th>\n",
       "      <td>Apple's latest moves in India underscore data ...</td>\n",
       "      <td>https://www.cnbc.com/2023/12/08/apples-latest-...</td>\n",
       "      <td>2023-12-08T18:20:47Z</td>\n",
       "      <td>India's economy is about 16½ years behind Chin...</td>\n",
       "      <td>CNBC</td>\n",
       "    </tr>\n",
       "    <tr>\n",
       "      <th>8</th>\n",
       "      <td>No-One Cares Which Bank Provides Their Apple Card</td>\n",
       "      <td>https://www.forbes.com/sites/davidbirch/2023/1...</td>\n",
       "      <td>2023-12-08T11:57:45Z</td>\n",
       "      <td>So long as my rewards card works and I get my ...</td>\n",
       "      <td>Forbes</td>\n",
       "    </tr>\n",
       "    <tr>\n",
       "      <th>9</th>\n",
       "      <td>Apple Wants To Make 1-In-4 iPhones In India As...</td>\n",
       "      <td>https://www.forbes.com/sites/siladityaray/2023...</td>\n",
       "      <td>2023-12-08T11:48:48Z</td>\n",
       "      <td>Apple wants to expand its Indian manufacturing...</td>\n",
       "      <td>Forbes</td>\n",
       "    </tr>\n",
       "    <tr>\n",
       "      <th>10</th>\n",
       "      <td>Apple reportedly plans major expansion of iPho...</td>\n",
       "      <td>https://www.marketwatch.com/story/apple-report...</td>\n",
       "      <td>2023-12-08T04:23:00Z</td>\n",
       "      <td>Apple Inc. is planning a massive expansion of ...</td>\n",
       "      <td>MarketWatch</td>\n",
       "    </tr>\n",
       "    <tr>\n",
       "      <th>11</th>\n",
       "      <td>: Apple reportedly plans major expansion of iP...</td>\n",
       "      <td>https://www.marketwatch.com/story/apple-report...</td>\n",
       "      <td>2023-12-08T04:23:00Z</td>\n",
       "      <td>Apple Inc. is planning a massive expansion of ...</td>\n",
       "      <td>MarketWatch</td>\n",
       "    </tr>\n",
       "    <tr>\n",
       "      <th>12</th>\n",
       "      <td>Apple Adds NameDrop-Like Pass-Sharing Feature ...</td>\n",
       "      <td>https://www.forbes.com/sites/stevenaquino/2023...</td>\n",
       "      <td>2023-12-07T21:56:41Z</td>\n",
       "      <td>The feature bears a strong resemblance to the ...</td>\n",
       "      <td>Forbes</td>\n",
       "    </tr>\n",
       "    <tr>\n",
       "      <th>13</th>\n",
       "      <td>Apple iPad 2024: All-New Big-Screen Model Comi...</td>\n",
       "      <td>https://www.forbes.com/sites/davidphelan/2023/...</td>\n",
       "      <td>2023-12-07T19:30:38Z</td>\n",
       "      <td>The latest reports suggest that four new iPads...</td>\n",
       "      <td>Forbes</td>\n",
       "    </tr>\n",
       "    <tr>\n",
       "      <th>14</th>\n",
       "      <td>New Apple Leak Hints At Early MacBook Air Upgrade</td>\n",
       "      <td>https://www.forbes.com/sites/ewanspence/2023/1...</td>\n",
       "      <td>2023-12-07T09:30:30Z</td>\n",
       "      <td>Apple's next MacBook Air laptops may arrive ea...</td>\n",
       "      <td>Forbes</td>\n",
       "    </tr>\n",
       "    <tr>\n",
       "      <th>15</th>\n",
       "      <td>This app gives Android users the ability to se...</td>\n",
       "      <td>https://www.businessinsider.com/imessage-andro...</td>\n",
       "      <td>2023-12-07T09:20:01Z</td>\n",
       "      <td>Beeper Mini is an app that gives Android users...</td>\n",
       "      <td>Business Insider</td>\n",
       "    </tr>\n",
       "  </tbody>\n",
       "</table>\n",
       "</div>"
      ],
      "text/plain": [
       "                                                Titre  \\\n",
       "0   Forget The New MacBook Pro, Apple Has Somethin...   \n",
       "1   Apple Leak Confirms Surprise iPhone 16 Pro Upg...   \n",
       "2   Apple iOS 17.2 Release Date: The Coolest iPhon...   \n",
       "3   Apple iMessage Soundly Beaten As Surprise New ...   \n",
       "4   Apple Loop: Apple’s iPhone 16 Problem, Stunnin...   \n",
       "5   Apple iPhone, Watch product design head to lea...   \n",
       "6   : Apple iPhone, Watch product design head to l...   \n",
       "7   Apple's latest moves in India underscore data ...   \n",
       "8   No-One Cares Which Bank Provides Their Apple Card   \n",
       "9   Apple Wants To Make 1-In-4 iPhones In India As...   \n",
       "10  Apple reportedly plans major expansion of iPho...   \n",
       "11  : Apple reportedly plans major expansion of iP...   \n",
       "12  Apple Adds NameDrop-Like Pass-Sharing Feature ...   \n",
       "13  Apple iPad 2024: All-New Big-Screen Model Comi...   \n",
       "14  New Apple Leak Hints At Early MacBook Air Upgrade   \n",
       "15  This app gives Android users the ability to se...   \n",
       "\n",
       "                                                  URL   Date de publication  \\\n",
       "0   https://www.forbes.com/sites/ewanspence/2023/1...  2023-12-09T20:30:22Z   \n",
       "1   https://www.forbes.com/sites/ewanspence/2023/1...  2023-12-09T14:42:17Z   \n",
       "2   https://www.forbes.com/sites/davidphelan/2023/...  2023-12-09T14:38:43Z   \n",
       "3   https://www.forbes.com/sites/zakdoffman/2023/1...  2023-12-09T12:30:29Z   \n",
       "4   https://www.forbes.com/sites/ewanspence/2023/1...  2023-12-08T21:32:17Z   \n",
       "5   https://www.marketwatch.com/story/apple-iphone...  2023-12-08T20:37:19Z   \n",
       "6   https://www.marketwatch.com/story/apple-iphone...  2023-12-08T20:30:00Z   \n",
       "7   https://www.cnbc.com/2023/12/08/apples-latest-...  2023-12-08T18:20:47Z   \n",
       "8   https://www.forbes.com/sites/davidbirch/2023/1...  2023-12-08T11:57:45Z   \n",
       "9   https://www.forbes.com/sites/siladityaray/2023...  2023-12-08T11:48:48Z   \n",
       "10  https://www.marketwatch.com/story/apple-report...  2023-12-08T04:23:00Z   \n",
       "11  https://www.marketwatch.com/story/apple-report...  2023-12-08T04:23:00Z   \n",
       "12  https://www.forbes.com/sites/stevenaquino/2023...  2023-12-07T21:56:41Z   \n",
       "13  https://www.forbes.com/sites/davidphelan/2023/...  2023-12-07T19:30:38Z   \n",
       "14  https://www.forbes.com/sites/ewanspence/2023/1...  2023-12-07T09:30:30Z   \n",
       "15  https://www.businessinsider.com/imessage-andro...  2023-12-07T09:20:01Z   \n",
       "\n",
       "                                          Description            Source  \n",
       "0   Apple’s awkward MacBook Pro may look attractiv...            Forbes  \n",
       "1   iPhone 16 Pro models will be the first to bene...            Forbes  \n",
       "2   There’s a big iPhone update coming and it’s fu...            Forbes  \n",
       "3   Forget iPhone 15—Apple suddenly has a major iP...            Forbes  \n",
       "4   This week’s Apple headlines; Apple’s iPhone 16...            Forbes  \n",
       "5   Tang Tan, the Apple Inc. executive who headed ...       MarketWatch  \n",
       "6   Tang Tan, the Apple Inc. executive who headed ...       MarketWatch  \n",
       "7   India's economy is about 16½ years behind Chin...              CNBC  \n",
       "8   So long as my rewards card works and I get my ...            Forbes  \n",
       "9   Apple wants to expand its Indian manufacturing...            Forbes  \n",
       "10  Apple Inc. is planning a massive expansion of ...       MarketWatch  \n",
       "11  Apple Inc. is planning a massive expansion of ...       MarketWatch  \n",
       "12  The feature bears a strong resemblance to the ...            Forbes  \n",
       "13  The latest reports suggest that four new iPads...            Forbes  \n",
       "14  Apple's next MacBook Air laptops may arrive ea...            Forbes  \n",
       "15  Beeper Mini is an app that gives Android users...  Business Insider  "
      ]
     },
     "execution_count": 221,
     "metadata": {},
     "output_type": "execute_result"
    }
   ],
   "source": [
    "import pandas as pd\n",
    "\n",
    "df=pd.read_csv('articles.csv')\n",
    "df"
   ]
  },
  {
   "cell_type": "code",
   "execution_count": 224,
   "metadata": {},
   "outputs": [
    {
     "name": "stderr",
     "output_type": "stream",
     "text": [
      "/var/folders/pm/jc2tztb55jbddh9mt9p3ckn00000gn/T/ipykernel_30742/2561202850.py:10: SettingWithCopyWarning:\n",
      "\n",
      "\n",
      "A value is trying to be set on a copy of a slice from a DataFrame\n",
      "\n",
      "See the caveats in the documentation: https://pandas.pydata.org/pandas-docs/stable/user_guide/indexing.html#returning-a-view-versus-a-copy\n",
      "\n"
     ]
    },
    {
     "data": {
      "text/html": [
       "<div>\n",
       "<style scoped>\n",
       "    .dataframe tbody tr th:only-of-type {\n",
       "        vertical-align: middle;\n",
       "    }\n",
       "\n",
       "    .dataframe tbody tr th {\n",
       "        vertical-align: top;\n",
       "    }\n",
       "\n",
       "    .dataframe thead th {\n",
       "        text-align: right;\n",
       "    }\n",
       "</style>\n",
       "<table border=\"1\" class=\"dataframe\">\n",
       "  <thead>\n",
       "    <tr style=\"text-align: right;\">\n",
       "      <th></th>\n",
       "      <th>Titre</th>\n",
       "      <th>URL</th>\n",
       "      <th>Date de publication</th>\n",
       "      <th>Description</th>\n",
       "      <th>Source</th>\n",
       "      <th>Contenu</th>\n",
       "    </tr>\n",
       "  </thead>\n",
       "  <tbody>\n",
       "    <tr>\n",
       "      <th>0</th>\n",
       "      <td>Forget The New MacBook Pro, Apple Has Somethin...</td>\n",
       "      <td>https://www.forbes.com/sites/ewanspence/2023/1...</td>\n",
       "      <td>2023-12-09 20:30:22+00:00</td>\n",
       "      <td>Apple’s awkward MacBook Pro may look attractiv...</td>\n",
       "      <td>Forbes</td>\n",
       "      <td>&lt;!DOCTYPE html&gt;&lt;html lang=\"en\"&gt;&lt;head&gt;&lt;link rel...</td>\n",
       "    </tr>\n",
       "    <tr>\n",
       "      <th>1</th>\n",
       "      <td>Apple Leak Confirms Surprise iPhone 16 Pro Upg...</td>\n",
       "      <td>https://www.forbes.com/sites/ewanspence/2023/1...</td>\n",
       "      <td>2023-12-09 14:42:17+00:00</td>\n",
       "      <td>iPhone 16 Pro models will be the first to bene...</td>\n",
       "      <td>Forbes</td>\n",
       "      <td>&lt;!DOCTYPE html&gt;&lt;html lang=\"en\"&gt;&lt;head&gt;&lt;link rel...</td>\n",
       "    </tr>\n",
       "    <tr>\n",
       "      <th>2</th>\n",
       "      <td>Apple iOS 17.2 Release Date: The Coolest iPhon...</td>\n",
       "      <td>https://www.forbes.com/sites/davidphelan/2023/...</td>\n",
       "      <td>2023-12-09 14:38:43+00:00</td>\n",
       "      <td>There’s a big iPhone update coming and it’s fu...</td>\n",
       "      <td>Forbes</td>\n",
       "      <td>&lt;!DOCTYPE html&gt;&lt;html lang=\"en\"&gt;&lt;head&gt;&lt;link rel...</td>\n",
       "    </tr>\n",
       "    <tr>\n",
       "      <th>3</th>\n",
       "      <td>Apple iMessage Soundly Beaten As Surprise New ...</td>\n",
       "      <td>https://www.forbes.com/sites/zakdoffman/2023/1...</td>\n",
       "      <td>2023-12-09 12:30:29+00:00</td>\n",
       "      <td>Forget iPhone 15—Apple suddenly has a major iP...</td>\n",
       "      <td>Forbes</td>\n",
       "      <td>&lt;!DOCTYPE html&gt;&lt;html lang=\"en\"&gt;&lt;head&gt;&lt;link rel...</td>\n",
       "    </tr>\n",
       "    <tr>\n",
       "      <th>4</th>\n",
       "      <td>Apple Loop: Apple’s iPhone 16 Problem, Stunnin...</td>\n",
       "      <td>https://www.forbes.com/sites/ewanspence/2023/1...</td>\n",
       "      <td>2023-12-08 21:32:17+00:00</td>\n",
       "      <td>This week’s Apple headlines; Apple’s iPhone 16...</td>\n",
       "      <td>Forbes</td>\n",
       "      <td>&lt;!DOCTYPE html&gt;&lt;html lang=\"en\"&gt;&lt;head&gt;&lt;link rel...</td>\n",
       "    </tr>\n",
       "  </tbody>\n",
       "</table>\n",
       "</div>"
      ],
      "text/plain": [
       "                                               Titre  \\\n",
       "0  Forget The New MacBook Pro, Apple Has Somethin...   \n",
       "1  Apple Leak Confirms Surprise iPhone 16 Pro Upg...   \n",
       "2  Apple iOS 17.2 Release Date: The Coolest iPhon...   \n",
       "3  Apple iMessage Soundly Beaten As Surprise New ...   \n",
       "4  Apple Loop: Apple’s iPhone 16 Problem, Stunnin...   \n",
       "\n",
       "                                                 URL  \\\n",
       "0  https://www.forbes.com/sites/ewanspence/2023/1...   \n",
       "1  https://www.forbes.com/sites/ewanspence/2023/1...   \n",
       "2  https://www.forbes.com/sites/davidphelan/2023/...   \n",
       "3  https://www.forbes.com/sites/zakdoffman/2023/1...   \n",
       "4  https://www.forbes.com/sites/ewanspence/2023/1...   \n",
       "\n",
       "        Date de publication  \\\n",
       "0 2023-12-09 20:30:22+00:00   \n",
       "1 2023-12-09 14:42:17+00:00   \n",
       "2 2023-12-09 14:38:43+00:00   \n",
       "3 2023-12-09 12:30:29+00:00   \n",
       "4 2023-12-08 21:32:17+00:00   \n",
       "\n",
       "                                         Description  Source  \\\n",
       "0  Apple’s awkward MacBook Pro may look attractiv...  Forbes   \n",
       "1  iPhone 16 Pro models will be the first to bene...  Forbes   \n",
       "2  There’s a big iPhone update coming and it’s fu...  Forbes   \n",
       "3  Forget iPhone 15—Apple suddenly has a major iP...  Forbes   \n",
       "4  This week’s Apple headlines; Apple’s iPhone 16...  Forbes   \n",
       "\n",
       "                                             Contenu  \n",
       "0  <!DOCTYPE html><html lang=\"en\"><head><link rel...  \n",
       "1  <!DOCTYPE html><html lang=\"en\"><head><link rel...  \n",
       "2  <!DOCTYPE html><html lang=\"en\"><head><link rel...  \n",
       "3  <!DOCTYPE html><html lang=\"en\"><head><link rel...  \n",
       "4  <!DOCTYPE html><html lang=\"en\"><head><link rel...  "
      ]
     },
     "execution_count": 224,
     "metadata": {},
     "output_type": "execute_result"
    }
   ],
   "source": [
    "urls = [url for url in df['URL']]\n",
    "html_contents = []\n",
    "compteur=0\n",
    "df['Contenu']=[None] * len(df)\n",
    "\n",
    "for url in urls:\n",
    "    response = requests.get(url)\n",
    "    if response.status_code == 200:\n",
    "        html_contents.append(response.text)\n",
    "        df['Contenu'].loc[compteur]=response.text\n",
    "    else:\n",
    "        print(f\"Échec de récupération pour {url}\")\n",
    "    compteur+=1\n",
    "\n",
    "df.head()"
   ]
  },
  {
   "cell_type": "code",
   "execution_count": 225,
   "metadata": {},
   "outputs": [
    {
     "data": {
      "text/html": [
       "<div>\n",
       "<style scoped>\n",
       "    .dataframe tbody tr th:only-of-type {\n",
       "        vertical-align: middle;\n",
       "    }\n",
       "\n",
       "    .dataframe tbody tr th {\n",
       "        vertical-align: top;\n",
       "    }\n",
       "\n",
       "    .dataframe thead th {\n",
       "        text-align: right;\n",
       "    }\n",
       "</style>\n",
       "<table border=\"1\" class=\"dataframe\">\n",
       "  <thead>\n",
       "    <tr style=\"text-align: right;\">\n",
       "      <th></th>\n",
       "      <th>Titre</th>\n",
       "      <th>URL</th>\n",
       "      <th>Date de publication</th>\n",
       "      <th>Description</th>\n",
       "      <th>Source</th>\n",
       "      <th>Contenu</th>\n",
       "    </tr>\n",
       "  </thead>\n",
       "  <tbody>\n",
       "    <tr>\n",
       "      <th>0</th>\n",
       "      <td>Forget The New MacBook Pro, Apple Has Somethin...</td>\n",
       "      <td>https://www.forbes.com/sites/ewanspence/2023/1...</td>\n",
       "      <td>2023-12-09 20:30:22+00:00</td>\n",
       "      <td>Apple’s awkward MacBook Pro may look attractiv...</td>\n",
       "      <td>Forbes</td>\n",
       "      <td>&lt;!DOCTYPE html&gt;&lt;html lang=\"en\"&gt;&lt;head&gt;&lt;link rel...</td>\n",
       "    </tr>\n",
       "    <tr>\n",
       "      <th>1</th>\n",
       "      <td>Apple Leak Confirms Surprise iPhone 16 Pro Upg...</td>\n",
       "      <td>https://www.forbes.com/sites/ewanspence/2023/1...</td>\n",
       "      <td>2023-12-09 14:42:17+00:00</td>\n",
       "      <td>iPhone 16 Pro models will be the first to bene...</td>\n",
       "      <td>Forbes</td>\n",
       "      <td>&lt;!DOCTYPE html&gt;&lt;html lang=\"en\"&gt;&lt;head&gt;&lt;link rel...</td>\n",
       "    </tr>\n",
       "    <tr>\n",
       "      <th>2</th>\n",
       "      <td>Apple iOS 17.2 Release Date: The Coolest iPhon...</td>\n",
       "      <td>https://www.forbes.com/sites/davidphelan/2023/...</td>\n",
       "      <td>2023-12-09 14:38:43+00:00</td>\n",
       "      <td>There’s a big iPhone update coming and it’s fu...</td>\n",
       "      <td>Forbes</td>\n",
       "      <td>&lt;!DOCTYPE html&gt;&lt;html lang=\"en\"&gt;&lt;head&gt;&lt;link rel...</td>\n",
       "    </tr>\n",
       "    <tr>\n",
       "      <th>3</th>\n",
       "      <td>Apple iMessage Soundly Beaten As Surprise New ...</td>\n",
       "      <td>https://www.forbes.com/sites/zakdoffman/2023/1...</td>\n",
       "      <td>2023-12-09 12:30:29+00:00</td>\n",
       "      <td>Forget iPhone 15—Apple suddenly has a major iP...</td>\n",
       "      <td>Forbes</td>\n",
       "      <td>&lt;!DOCTYPE html&gt;&lt;html lang=\"en\"&gt;&lt;head&gt;&lt;link rel...</td>\n",
       "    </tr>\n",
       "    <tr>\n",
       "      <th>4</th>\n",
       "      <td>Apple Loop: Apple’s iPhone 16 Problem, Stunnin...</td>\n",
       "      <td>https://www.forbes.com/sites/ewanspence/2023/1...</td>\n",
       "      <td>2023-12-08 21:32:17+00:00</td>\n",
       "      <td>This week’s Apple headlines; Apple’s iPhone 16...</td>\n",
       "      <td>Forbes</td>\n",
       "      <td>&lt;!DOCTYPE html&gt;&lt;html lang=\"en\"&gt;&lt;head&gt;&lt;link rel...</td>\n",
       "    </tr>\n",
       "  </tbody>\n",
       "</table>\n",
       "</div>"
      ],
      "text/plain": [
       "                                               Titre  \\\n",
       "0  Forget The New MacBook Pro, Apple Has Somethin...   \n",
       "1  Apple Leak Confirms Surprise iPhone 16 Pro Upg...   \n",
       "2  Apple iOS 17.2 Release Date: The Coolest iPhon...   \n",
       "3  Apple iMessage Soundly Beaten As Surprise New ...   \n",
       "4  Apple Loop: Apple’s iPhone 16 Problem, Stunnin...   \n",
       "\n",
       "                                                 URL  \\\n",
       "0  https://www.forbes.com/sites/ewanspence/2023/1...   \n",
       "1  https://www.forbes.com/sites/ewanspence/2023/1...   \n",
       "2  https://www.forbes.com/sites/davidphelan/2023/...   \n",
       "3  https://www.forbes.com/sites/zakdoffman/2023/1...   \n",
       "4  https://www.forbes.com/sites/ewanspence/2023/1...   \n",
       "\n",
       "        Date de publication  \\\n",
       "0 2023-12-09 20:30:22+00:00   \n",
       "1 2023-12-09 14:42:17+00:00   \n",
       "2 2023-12-09 14:38:43+00:00   \n",
       "3 2023-12-09 12:30:29+00:00   \n",
       "4 2023-12-08 21:32:17+00:00   \n",
       "\n",
       "                                         Description  Source  \\\n",
       "0  Apple’s awkward MacBook Pro may look attractiv...  Forbes   \n",
       "1  iPhone 16 Pro models will be the first to bene...  Forbes   \n",
       "2  There’s a big iPhone update coming and it’s fu...  Forbes   \n",
       "3  Forget iPhone 15—Apple suddenly has a major iP...  Forbes   \n",
       "4  This week’s Apple headlines; Apple’s iPhone 16...  Forbes   \n",
       "\n",
       "                                             Contenu  \n",
       "0  <!DOCTYPE html><html lang=\"en\"><head><link rel...  \n",
       "1  <!DOCTYPE html><html lang=\"en\"><head><link rel...  \n",
       "2  <!DOCTYPE html><html lang=\"en\"><head><link rel...  \n",
       "3  <!DOCTYPE html><html lang=\"en\"><head><link rel...  \n",
       "4  <!DOCTYPE html><html lang=\"en\"><head><link rel...  "
      ]
     },
     "execution_count": 225,
     "metadata": {},
     "output_type": "execute_result"
    }
   ],
   "source": [
    "#Transformation de la colonne Date de publication en DateTime\n",
    "\n",
    "df['Date de publication']=pd.to_datetime(df['Date de publication'])\n",
    "df.head()"
   ]
  },
  {
   "cell_type": "markdown",
   "metadata": {},
   "source": [
    "Comparaison de la taille des différents titres / descriptions / contenus"
   ]
  },
  {
   "cell_type": "code",
   "execution_count": 190,
   "metadata": {},
   "outputs": [
    {
     "name": "stdout",
     "output_type": "stream",
     "text": [
      "Defaulting to user installation because normal site-packages is not writeable\n",
      "Requirement already satisfied: seaborn in /Users/dabadieraphael/Library/Python/3.9/lib/python/site-packages (0.13.0)\n",
      "Requirement already satisfied: matplotlib!=3.6.1,>=3.3 in /Users/dabadieraphael/Library/Python/3.9/lib/python/site-packages (from seaborn) (3.8.2)\n",
      "Requirement already satisfied: numpy!=1.24.0,>=1.20 in /Users/dabadieraphael/Library/Python/3.9/lib/python/site-packages (from seaborn) (1.26.2)\n",
      "Requirement already satisfied: pandas>=1.2 in /Users/dabadieraphael/Library/Python/3.9/lib/python/site-packages (from seaborn) (2.1.3)\n",
      "Requirement already satisfied: packaging>=20.0 in /Users/dabadieraphael/Library/Python/3.9/lib/python/site-packages (from matplotlib!=3.6.1,>=3.3->seaborn) (23.2)\n",
      "Requirement already satisfied: importlib-resources>=3.2.0 in /Users/dabadieraphael/Library/Python/3.9/lib/python/site-packages (from matplotlib!=3.6.1,>=3.3->seaborn) (6.1.1)\n",
      "Requirement already satisfied: pyparsing>=2.3.1 in /Users/dabadieraphael/Library/Python/3.9/lib/python/site-packages (from matplotlib!=3.6.1,>=3.3->seaborn) (3.1.1)\n",
      "Requirement already satisfied: pillow>=8 in /Users/dabadieraphael/Library/Python/3.9/lib/python/site-packages (from matplotlib!=3.6.1,>=3.3->seaborn) (10.1.0)\n",
      "Requirement already satisfied: python-dateutil>=2.7 in /Users/dabadieraphael/Library/Python/3.9/lib/python/site-packages (from matplotlib!=3.6.1,>=3.3->seaborn) (2.8.2)\n",
      "Requirement already satisfied: cycler>=0.10 in /Users/dabadieraphael/Library/Python/3.9/lib/python/site-packages (from matplotlib!=3.6.1,>=3.3->seaborn) (0.12.1)\n",
      "Requirement already satisfied: kiwisolver>=1.3.1 in /Users/dabadieraphael/Library/Python/3.9/lib/python/site-packages (from matplotlib!=3.6.1,>=3.3->seaborn) (1.4.5)\n",
      "Requirement already satisfied: contourpy>=1.0.1 in /Users/dabadieraphael/Library/Python/3.9/lib/python/site-packages (from matplotlib!=3.6.1,>=3.3->seaborn) (1.2.0)\n",
      "Requirement already satisfied: fonttools>=4.22.0 in /Users/dabadieraphael/Library/Python/3.9/lib/python/site-packages (from matplotlib!=3.6.1,>=3.3->seaborn) (4.46.0)\n",
      "Requirement already satisfied: zipp>=3.1.0 in /Users/dabadieraphael/Library/Python/3.9/lib/python/site-packages (from importlib-resources>=3.2.0->matplotlib!=3.6.1,>=3.3->seaborn) (3.17.0)\n",
      "Requirement already satisfied: pytz>=2020.1 in /Users/dabadieraphael/Library/Python/3.9/lib/python/site-packages (from pandas>=1.2->seaborn) (2023.3.post1)\n",
      "Requirement already satisfied: tzdata>=2022.1 in /Users/dabadieraphael/Library/Python/3.9/lib/python/site-packages (from pandas>=1.2->seaborn) (2023.3)\n",
      "Requirement already satisfied: six>=1.5 in /Library/Developer/CommandLineTools/Library/Frameworks/Python3.framework/Versions/3.9/lib/python3.9/site-packages (from python-dateutil>=2.7->matplotlib!=3.6.1,>=3.3->seaborn) (1.15.0)\n",
      "\u001b[33mWARNING: You are using pip version 21.2.4; however, version 23.3.1 is available.\n",
      "You should consider upgrading via the '/Library/Developer/CommandLineTools/usr/bin/python3 -m pip install --upgrade pip' command.\u001b[0m\n",
      "Note: you may need to restart the kernel to use updated packages.\n"
     ]
    }
   ],
   "source": [
    "pip install seaborn"
   ]
  },
  {
   "cell_type": "code",
   "execution_count": 226,
   "metadata": {},
   "outputs": [
    {
     "data": {
      "image/png": "[encoded data removed]",
      "text/plain": [
       "<Figure size 1200x800 with 1 Axes>"
      ]
     },
     "metadata": {},
     "output_type": "display_data"
    }
   ],
   "source": [
    "import matplotlib.pyplot as plt\n",
    "import seaborn as sns\n",
    "\n",
    "df['Title_length']=df['Titre'].apply(lambda x : len(str(x).split()))\n",
    "df_sorted_by_title=df.sort_values(by='Title_length', ascending=False)\n",
    "\n",
    "\n",
    "plt.figure(figsize=(12, 8))\n",
    "sns.barplot(x='Title_length', y='Titre', data=df_sorted_by_title, orient='h')\n",
    "\n",
    "plt.xlabel('Nombre de mots dans le titre')\n",
    "plt.ylabel('Titre')\n",
    "plt.title('Longueur du titre par article')\n",
    "plt.show()"
   ]
  },
  {
   "cell_type": "code",
   "execution_count": 227,
   "metadata": {},
   "outputs": [
    {
     "data": {
      "image/png": "[encoded data removed]",
      "text/plain": [
       "<Figure size 1200x800 with 1 Axes>"
      ]
     },
     "metadata": {},
     "output_type": "display_data"
    }
   ],
   "source": [
    "df['Description_length']=df['Description'].apply(lambda x : len(str(x).split()))\n",
    "df_sorted_by_title=df.sort_values(by='Description_length', ascending=False)\n",
    "\n",
    "\n",
    "plt.figure(figsize=(12, 8))\n",
    "sns.barplot(x='Description_length', y='Titre', data=df_sorted_by_title, orient='h', color='red')\n",
    "\n",
    "plt.xlabel('Nombre de mots dans la description')\n",
    "plt.ylabel('Titre')\n",
    "plt.title('Longueur de la description par titre d\\'article')\n",
    "plt.show()"
   ]
  },
  {
   "cell_type": "code",
   "execution_count": 228,
   "metadata": {},
   "outputs": [
    {
     "data": {
      "image/png": "[encoded data removed]",
      "text/plain": [
       "<Figure size 1200x800 with 1 Axes>"
      ]
     },
     "metadata": {},
     "output_type": "display_data"
    }
   ],
   "source": [
    "df['Content_length']=df['Contenu'].apply(lambda x : len(str(x).split()))\n",
    "df_sorted_by_title=df.sort_values(by='Content_length', ascending=False)\n",
    "\n",
    "\n",
    "plt.figure(figsize=(12, 8))\n",
    "sns.barplot(x='Content_length', y='Titre', data=df_sorted_by_title, orient='h', color='cyan')\n",
    "\n",
    "plt.xlabel(\"Nombre de mots dans l'article\")\n",
    "plt.ylabel('Titre')\n",
    "plt.title('Longueur du contenu par titre d\\'article')\n",
    "plt.show()"
   ]
  },
  {
   "cell_type": "code",
   "execution_count": 229,
   "metadata": {},
   "outputs": [
    {
     "data": {
      "text/html": [
       "<div>\n",
       "<style scoped>\n",
       "    .dataframe tbody tr th:only-of-type {\n",
       "        vertical-align: middle;\n",
       "    }\n",
       "\n",
       "    .dataframe tbody tr th {\n",
       "        vertical-align: top;\n",
       "    }\n",
       "\n",
       "    .dataframe thead th {\n",
       "        text-align: right;\n",
       "    }\n",
       "</style>\n",
       "<table border=\"1\" class=\"dataframe\">\n",
       "  <thead>\n",
       "    <tr style=\"text-align: right;\">\n",
       "      <th></th>\n",
       "      <th>Titre</th>\n",
       "      <th>URL</th>\n",
       "      <th>Date de publication</th>\n",
       "      <th>Description</th>\n",
       "      <th>Source</th>\n",
       "      <th>Contenu</th>\n",
       "      <th>Title_length</th>\n",
       "      <th>Description_length</th>\n",
       "      <th>Content_length</th>\n",
       "    </tr>\n",
       "  </thead>\n",
       "  <tbody>\n",
       "    <tr>\n",
       "      <th>7</th>\n",
       "      <td>Apple's latest moves in India underscore data ...</td>\n",
       "      <td>https://www.cnbc.com/2023/12/08/apples-latest-...</td>\n",
       "      <td>2023-12-08 18:20:47+00:00</td>\n",
       "      <td>India's economy is about 16½ years behind Chin...</td>\n",
       "      <td>CNBC</td>\n",
       "      <td>&lt;!DOCTYPE html&gt;&lt;html lang=\"en\" prefix=\"og=http...</td>\n",
       "      <td>15</td>\n",
       "      <td>21</td>\n",
       "      <td>26008</td>\n",
       "    </tr>\n",
       "    <tr>\n",
       "      <th>9</th>\n",
       "      <td>Apple Wants To Make 1-In-4 iPhones In India As...</td>\n",
       "      <td>https://www.forbes.com/sites/siladityaray/2023...</td>\n",
       "      <td>2023-12-08 11:48:48+00:00</td>\n",
       "      <td>Apple wants to expand its Indian manufacturing...</td>\n",
       "      <td>Forbes</td>\n",
       "      <td>&lt;!DOCTYPE html&gt;&lt;html lang=\"en\"&gt;&lt;head&gt;&lt;link rel...</td>\n",
       "      <td>21</td>\n",
       "      <td>25</td>\n",
       "      <td>16170</td>\n",
       "    </tr>\n",
       "    <tr>\n",
       "      <th>11</th>\n",
       "      <td>: Apple reportedly plans major expansion of iP...</td>\n",
       "      <td>https://www.marketwatch.com/story/apple-report...</td>\n",
       "      <td>2023-12-08 04:23:00+00:00</td>\n",
       "      <td>Apple Inc. is planning a massive expansion of ...</td>\n",
       "      <td>MarketWatch</td>\n",
       "      <td>&lt;!DOCTYPE html&gt;\\n&lt;html\\n  lang=\"en-US\"\\n  data...</td>\n",
       "      <td>11</td>\n",
       "      <td>17</td>\n",
       "      <td>14602</td>\n",
       "    </tr>\n",
       "    <tr>\n",
       "      <th>10</th>\n",
       "      <td>Apple reportedly plans major expansion of iPho...</td>\n",
       "      <td>https://www.marketwatch.com/story/apple-report...</td>\n",
       "      <td>2023-12-08 04:23:00+00:00</td>\n",
       "      <td>Apple Inc. is planning a massive expansion of ...</td>\n",
       "      <td>MarketWatch</td>\n",
       "      <td>&lt;!DOCTYPE html&gt;\\n&lt;html\\n  lang=\"en-US\"\\n  data...</td>\n",
       "      <td>10</td>\n",
       "      <td>17</td>\n",
       "      <td>14591</td>\n",
       "    </tr>\n",
       "    <tr>\n",
       "      <th>6</th>\n",
       "      <td>: Apple iPhone, Watch product design head to l...</td>\n",
       "      <td>https://www.marketwatch.com/story/apple-iphone...</td>\n",
       "      <td>2023-12-08 20:30:00+00:00</td>\n",
       "      <td>Tang Tan, the Apple Inc. executive who headed ...</td>\n",
       "      <td>MarketWatch</td>\n",
       "      <td>&lt;!DOCTYPE html&gt;\\n&lt;html\\n  lang=\"en-US\"\\n  data...</td>\n",
       "      <td>10</td>\n",
       "      <td>27</td>\n",
       "      <td>14482</td>\n",
       "    </tr>\n",
       "    <tr>\n",
       "      <th>5</th>\n",
       "      <td>Apple iPhone, Watch product design head to lea...</td>\n",
       "      <td>https://www.marketwatch.com/story/apple-iphone...</td>\n",
       "      <td>2023-12-08 20:37:19+00:00</td>\n",
       "      <td>Tang Tan, the Apple Inc. executive who headed ...</td>\n",
       "      <td>MarketWatch</td>\n",
       "      <td>&lt;!DOCTYPE html&gt;\\n&lt;html\\n  lang=\"en-US\"\\n  data...</td>\n",
       "      <td>9</td>\n",
       "      <td>27</td>\n",
       "      <td>14471</td>\n",
       "    </tr>\n",
       "    <tr>\n",
       "      <th>3</th>\n",
       "      <td>Apple iMessage Soundly Beaten As Surprise New ...</td>\n",
       "      <td>https://www.forbes.com/sites/zakdoffman/2023/1...</td>\n",
       "      <td>2023-12-09 12:30:29+00:00</td>\n",
       "      <td>Forget iPhone 15—Apple suddenly has a major iP...</td>\n",
       "      <td>Forbes</td>\n",
       "      <td>&lt;!DOCTYPE html&gt;&lt;html lang=\"en\"&gt;&lt;head&gt;&lt;link rel...</td>\n",
       "      <td>10</td>\n",
       "      <td>14</td>\n",
       "      <td>13650</td>\n",
       "    </tr>\n",
       "    <tr>\n",
       "      <th>4</th>\n",
       "      <td>Apple Loop: Apple’s iPhone 16 Problem, Stunnin...</td>\n",
       "      <td>https://www.forbes.com/sites/ewanspence/2023/1...</td>\n",
       "      <td>2023-12-08 21:32:17+00:00</td>\n",
       "      <td>This week’s Apple headlines; Apple’s iPhone 16...</td>\n",
       "      <td>Forbes</td>\n",
       "      <td>&lt;!DOCTYPE html&gt;&lt;html lang=\"en\"&gt;&lt;head&gt;&lt;link rel...</td>\n",
       "      <td>12</td>\n",
       "      <td>31</td>\n",
       "      <td>13609</td>\n",
       "    </tr>\n",
       "    <tr>\n",
       "      <th>2</th>\n",
       "      <td>Apple iOS 17.2 Release Date: The Coolest iPhon...</td>\n",
       "      <td>https://www.forbes.com/sites/davidphelan/2023/...</td>\n",
       "      <td>2023-12-09 14:38:43+00:00</td>\n",
       "      <td>There’s a big iPhone update coming and it’s fu...</td>\n",
       "      <td>Forbes</td>\n",
       "      <td>&lt;!DOCTYPE html&gt;&lt;html lang=\"en\"&gt;&lt;head&gt;&lt;link rel...</td>\n",
       "      <td>12</td>\n",
       "      <td>22</td>\n",
       "      <td>13484</td>\n",
       "    </tr>\n",
       "    <tr>\n",
       "      <th>14</th>\n",
       "      <td>New Apple Leak Hints At Early MacBook Air Upgrade</td>\n",
       "      <td>https://www.forbes.com/sites/ewanspence/2023/1...</td>\n",
       "      <td>2023-12-07 09:30:30+00:00</td>\n",
       "      <td>Apple's next MacBook Air laptops may arrive ea...</td>\n",
       "      <td>Forbes</td>\n",
       "      <td>&lt;!DOCTYPE html&gt;&lt;html lang=\"en\"&gt;&lt;head&gt;&lt;link rel...</td>\n",
       "      <td>9</td>\n",
       "      <td>10</td>\n",
       "      <td>13181</td>\n",
       "    </tr>\n",
       "    <tr>\n",
       "      <th>8</th>\n",
       "      <td>No-One Cares Which Bank Provides Their Apple Card</td>\n",
       "      <td>https://www.forbes.com/sites/davidbirch/2023/1...</td>\n",
       "      <td>2023-12-08 11:57:45+00:00</td>\n",
       "      <td>So long as my rewards card works and I get my ...</td>\n",
       "      <td>Forbes</td>\n",
       "      <td>&lt;!DOCTYPE html&gt;&lt;html lang=\"en\"&gt;&lt;head&gt;&lt;link rel...</td>\n",
       "      <td>8</td>\n",
       "      <td>24</td>\n",
       "      <td>13004</td>\n",
       "    </tr>\n",
       "    <tr>\n",
       "      <th>0</th>\n",
       "      <td>Forget The New MacBook Pro, Apple Has Somethin...</td>\n",
       "      <td>https://www.forbes.com/sites/ewanspence/2023/1...</td>\n",
       "      <td>2023-12-09 20:30:22+00:00</td>\n",
       "      <td>Apple’s awkward MacBook Pro may look attractiv...</td>\n",
       "      <td>Forbes</td>\n",
       "      <td>&lt;!DOCTYPE html&gt;&lt;html lang=\"en\"&gt;&lt;head&gt;&lt;link rel...</td>\n",
       "      <td>10</td>\n",
       "      <td>17</td>\n",
       "      <td>12958</td>\n",
       "    </tr>\n",
       "    <tr>\n",
       "      <th>1</th>\n",
       "      <td>Apple Leak Confirms Surprise iPhone 16 Pro Upg...</td>\n",
       "      <td>https://www.forbes.com/sites/ewanspence/2023/1...</td>\n",
       "      <td>2023-12-09 14:42:17+00:00</td>\n",
       "      <td>iPhone 16 Pro models will be the first to bene...</td>\n",
       "      <td>Forbes</td>\n",
       "      <td>&lt;!DOCTYPE html&gt;&lt;html lang=\"en\"&gt;&lt;head&gt;&lt;link rel...</td>\n",
       "      <td>8</td>\n",
       "      <td>21</td>\n",
       "      <td>12521</td>\n",
       "    </tr>\n",
       "    <tr>\n",
       "      <th>12</th>\n",
       "      <td>Apple Adds NameDrop-Like Pass-Sharing Feature ...</td>\n",
       "      <td>https://www.forbes.com/sites/stevenaquino/2023...</td>\n",
       "      <td>2023-12-07 21:56:41+00:00</td>\n",
       "      <td>The feature bears a strong resemblance to the ...</td>\n",
       "      <td>Forbes</td>\n",
       "      <td>&lt;!DOCTYPE html&gt;&lt;html lang=\"en\"&gt;&lt;head&gt;&lt;link rel...</td>\n",
       "      <td>15</td>\n",
       "      <td>15</td>\n",
       "      <td>11781</td>\n",
       "    </tr>\n",
       "    <tr>\n",
       "      <th>15</th>\n",
       "      <td>This app gives Android users the ability to se...</td>\n",
       "      <td>https://www.businessinsider.com/imessage-andro...</td>\n",
       "      <td>2023-12-07 09:20:01+00:00</td>\n",
       "      <td>Beeper Mini is an app that gives Android users...</td>\n",
       "      <td>Business Insider</td>\n",
       "      <td>&lt;!DOCTYPE html&gt;\\n&lt;html lang=\"en-US\"&gt;\\n\\n&lt;head&gt;...</td>\n",
       "      <td>19</td>\n",
       "      <td>17</td>\n",
       "      <td>10204</td>\n",
       "    </tr>\n",
       "    <tr>\n",
       "      <th>13</th>\n",
       "      <td>Apple iPad 2024: All-New Big-Screen Model Comi...</td>\n",
       "      <td>https://www.forbes.com/sites/davidphelan/2023/...</td>\n",
       "      <td>2023-12-07 19:30:38+00:00</td>\n",
       "      <td>The latest reports suggest that four new iPads...</td>\n",
       "      <td>Forbes</td>\n",
       "      <td>&lt;!DOCTYPE html&gt;&lt;html lang=\"en\"&gt;&lt;head&gt;&lt;link rel...</td>\n",
       "      <td>11</td>\n",
       "      <td>24</td>\n",
       "      <td>8881</td>\n",
       "    </tr>\n",
       "  </tbody>\n",
       "</table>\n",
       "</div>"
      ],
      "text/plain": [
       "                                                Titre  \\\n",
       "7   Apple's latest moves in India underscore data ...   \n",
       "9   Apple Wants To Make 1-In-4 iPhones In India As...   \n",
       "11  : Apple reportedly plans major expansion of iP...   \n",
       "10  Apple reportedly plans major expansion of iPho...   \n",
       "6   : Apple iPhone, Watch product design head to l...   \n",
       "5   Apple iPhone, Watch product design head to lea...   \n",
       "3   Apple iMessage Soundly Beaten As Surprise New ...   \n",
       "4   Apple Loop: Apple’s iPhone 16 Problem, Stunnin...   \n",
       "2   Apple iOS 17.2 Release Date: The Coolest iPhon...   \n",
       "14  New Apple Leak Hints At Early MacBook Air Upgrade   \n",
       "8   No-One Cares Which Bank Provides Their Apple Card   \n",
       "0   Forget The New MacBook Pro, Apple Has Somethin...   \n",
       "1   Apple Leak Confirms Surprise iPhone 16 Pro Upg...   \n",
       "12  Apple Adds NameDrop-Like Pass-Sharing Feature ...   \n",
       "15  This app gives Android users the ability to se...   \n",
       "13  Apple iPad 2024: All-New Big-Screen Model Comi...   \n",
       "\n",
       "                                                  URL  \\\n",
       "7   https://www.cnbc.com/2023/12/08/apples-latest-...   \n",
       "9   https://www.forbes.com/sites/siladityaray/2023...   \n",
       "11  https://www.marketwatch.com/story/apple-report...   \n",
       "10  https://www.marketwatch.com/story/apple-report...   \n",
       "6   https://www.marketwatch.com/story/apple-iphone...   \n",
       "5   https://www.marketwatch.com/story/apple-iphone...   \n",
       "3   https://www.forbes.com/sites/zakdoffman/2023/1...   \n",
       "4   https://www.forbes.com/sites/ewanspence/2023/1...   \n",
       "2   https://www.forbes.com/sites/davidphelan/2023/...   \n",
       "14  https://www.forbes.com/sites/ewanspence/2023/1...   \n",
       "8   https://www.forbes.com/sites/davidbirch/2023/1...   \n",
       "0   https://www.forbes.com/sites/ewanspence/2023/1...   \n",
       "1   https://www.forbes.com/sites/ewanspence/2023/1...   \n",
       "12  https://www.forbes.com/sites/stevenaquino/2023...   \n",
       "15  https://www.businessinsider.com/imessage-andro...   \n",
       "13  https://www.forbes.com/sites/davidphelan/2023/...   \n",
       "\n",
       "         Date de publication  \\\n",
       "7  2023-12-08 18:20:47+00:00   \n",
       "9  2023-12-08 11:48:48+00:00   \n",
       "11 2023-12-08 04:23:00+00:00   \n",
       "10 2023-12-08 04:23:00+00:00   \n",
       "6  2023-12-08 20:30:00+00:00   \n",
       "5  2023-12-08 20:37:19+00:00   \n",
       "3  2023-12-09 12:30:29+00:00   \n",
       "4  2023-12-08 21:32:17+00:00   \n",
       "2  2023-12-09 14:38:43+00:00   \n",
       "14 2023-12-07 09:30:30+00:00   \n",
       "8  2023-12-08 11:57:45+00:00   \n",
       "0  2023-12-09 20:30:22+00:00   \n",
       "1  2023-12-09 14:42:17+00:00   \n",
       "12 2023-12-07 21:56:41+00:00   \n",
       "15 2023-12-07 09:20:01+00:00   \n",
       "13 2023-12-07 19:30:38+00:00   \n",
       "\n",
       "                                          Description            Source  \\\n",
       "7   India's economy is about 16½ years behind Chin...              CNBC   \n",
       "9   Apple wants to expand its Indian manufacturing...            Forbes   \n",
       "11  Apple Inc. is planning a massive expansion of ...       MarketWatch   \n",
       "10  Apple Inc. is planning a massive expansion of ...       MarketWatch   \n",
       "6   Tang Tan, the Apple Inc. executive who headed ...       MarketWatch   \n",
       "5   Tang Tan, the Apple Inc. executive who headed ...       MarketWatch   \n",
       "3   Forget iPhone 15—Apple suddenly has a major iP...            Forbes   \n",
       "4   This week’s Apple headlines; Apple’s iPhone 16...            Forbes   \n",
       "2   There’s a big iPhone update coming and it’s fu...            Forbes   \n",
       "14  Apple's next MacBook Air laptops may arrive ea...            Forbes   \n",
       "8   So long as my rewards card works and I get my ...            Forbes   \n",
       "0   Apple’s awkward MacBook Pro may look attractiv...            Forbes   \n",
       "1   iPhone 16 Pro models will be the first to bene...            Forbes   \n",
       "12  The feature bears a strong resemblance to the ...            Forbes   \n",
       "15  Beeper Mini is an app that gives Android users...  Business Insider   \n",
       "13  The latest reports suggest that four new iPads...            Forbes   \n",
       "\n",
       "                                              Contenu  Title_length  \\\n",
       "7   <!DOCTYPE html><html lang=\"en\" prefix=\"og=http...            15   \n",
       "9   <!DOCTYPE html><html lang=\"en\"><head><link rel...            21   \n",
       "11  <!DOCTYPE html>\\n<html\\n  lang=\"en-US\"\\n  data...            11   \n",
       "10  <!DOCTYPE html>\\n<html\\n  lang=\"en-US\"\\n  data...            10   \n",
       "6   <!DOCTYPE html>\\n<html\\n  lang=\"en-US\"\\n  data...            10   \n",
       "5   <!DOCTYPE html>\\n<html\\n  lang=\"en-US\"\\n  data...             9   \n",
       "3   <!DOCTYPE html><html lang=\"en\"><head><link rel...            10   \n",
       "4   <!DOCTYPE html><html lang=\"en\"><head><link rel...            12   \n",
       "2   <!DOCTYPE html><html lang=\"en\"><head><link rel...            12   \n",
       "14  <!DOCTYPE html><html lang=\"en\"><head><link rel...             9   \n",
       "8   <!DOCTYPE html><html lang=\"en\"><head><link rel...             8   \n",
       "0   <!DOCTYPE html><html lang=\"en\"><head><link rel...            10   \n",
       "1   <!DOCTYPE html><html lang=\"en\"><head><link rel...             8   \n",
       "12  <!DOCTYPE html><html lang=\"en\"><head><link rel...            15   \n",
       "15  <!DOCTYPE html>\\n<html lang=\"en-US\">\\n\\n<head>...            19   \n",
       "13  <!DOCTYPE html><html lang=\"en\"><head><link rel...            11   \n",
       "\n",
       "    Description_length  Content_length  \n",
       "7                   21           26008  \n",
       "9                   25           16170  \n",
       "11                  17           14602  \n",
       "10                  17           14591  \n",
       "6                   27           14482  \n",
       "5                   27           14471  \n",
       "3                   14           13650  \n",
       "4                   31           13609  \n",
       "2                   22           13484  \n",
       "14                  10           13181  \n",
       "8                   24           13004  \n",
       "0                   17           12958  \n",
       "1                   21           12521  \n",
       "12                  15           11781  \n",
       "15                  17           10204  \n",
       "13                  24            8881  "
      ]
     },
     "execution_count": 229,
     "metadata": {},
     "output_type": "execute_result"
    }
   ],
   "source": [
    "df_sorted_by_title"
   ]
  },
  {
   "cell_type": "code",
   "execution_count": 230,
   "metadata": {},
   "outputs": [
    {
     "data": {
      "image/png": "[encoded data removed]",
      "text/plain": [
       "<Figure size 640x480 with 2 Axes>"
      ]
     },
     "metadata": {},
     "output_type": "display_data"
    }
   ],
   "source": [
    "#Comparaison des articles récoltés entre eux selon ces trois dimensions sous forme d'un bubble chart : l'axe X correspond à la longueur du titre, l'axe Y à la longueur de la description et la taille de la bulle représentera la longueur du contenu de l'article.\n",
    "\n",
    "import matplotlib.pyplot as plt\n",
    "\n",
    "bubble_size=df['Content_length']/df['Content_length'].max()*1000 #Normalisation de la taille des bulles à des valeurs proches de celles obtenues pour les tailles de titre et de description\n",
    "\n",
    "plt.scatter(x=df['Title_length'], y=df['Description_length'],s=bubble_size,alpha=0.4)\n",
    "plt.xlabel('Longueur des titres')\n",
    "plt.ylabel('Longueur des descriptions')\n",
    "plt.title('Comparaison de la taille des différents attributs des articles récupérés')\n",
    "plt.colorbar(label='Longueur du contenu normalisée')\n",
    "plt.show()"
   ]
  },
  {
   "cell_type": "markdown",
   "metadata": {},
   "source": [
    "# Préparation du texte en vue de l'analyse de sentiments (Nettoyage et analyse des titres et descriptions)"
   ]
  },
  {
   "cell_type": "markdown",
   "metadata": {},
   "source": [
    "**Nettoyage du texte**"
   ]
  },
  {
   "cell_type": "code",
   "execution_count": 231,
   "metadata": {},
   "outputs": [],
   "source": [
    "#Fonctions importantes pour la suite \n",
    "import nltk\n",
    "from nltk.corpus import stopwords\n",
    "from nltk.stem import WordNetLemmatizer\n",
    "from nltk.tokenize import word_tokenize\n",
    "\n",
    "def cleaning_text(text):\n",
    "    #Passage du texte en miniscules\n",
    "    text=text.lower()\n",
    "    #Suppression des chiffres\n",
    "    text=re.sub(r'\\d+', '', text)\n",
    "    #Suppression de la ponctuation et des symboles spéciaux\n",
    "    text=re.sub(r'[^\\w\\s]', '', text)\n",
    "    return text\n",
    "\n",
    "\n",
    "def count_common_words(text):\n",
    "    words=text.split()\n",
    "    dict={}\n",
    "    for el in words :\n",
    "        if el not in dict:\n",
    "            dict[el]=1\n",
    "        else:\n",
    "            dict[el]+=1\n",
    "    return dict\n",
    "\n",
    "def most_common_words(dictionary):\n",
    "    sorted_dict=dict(sorted(dictionary.items(), key=lambda item: item[1], reverse=True))\n",
    "    return sorted_dict\n",
    "\n",
    "def combine_dictionaries(df,df_column_name):\n",
    "    combined_dict={}\n",
    "    column_index=df.columns.get_loc(str(df_column_name))\n",
    "    for i in range(len(df)):\n",
    "        temp_dictionary=df.iloc[i,int(column_index)]\n",
    "\n",
    "        for key, value in temp_dictionary.items():\n",
    "            if key not in combined_dict:\n",
    "                combined_dict[key]=value\n",
    "            else:\n",
    "                combined_dict[key]+=1\n",
    "    return combined_dict\n",
    "\n",
    "stops = set(stopwords.words('english'))\n",
    "lemmatizer = WordNetLemmatizer()\n",
    "def clean_stopwords(text):\n",
    "    words = word_tokenize(text)\n",
    "    cleaned_text=[word for word in words if word not in stops]\n",
    "    return ' '.join(cleaned_text)"
   ]
  },
  {
   "cell_type": "code",
   "execution_count": 195,
   "metadata": {},
   "outputs": [
    {
     "name": "stdout",
     "output_type": "stream",
     "text": [
      "Defaulting to user installation because normal site-packages is not writeable\n",
      "Requirement already satisfied: beautifulsoup4 in /Users/dabadieraphael/Library/Python/3.9/lib/python/site-packages (4.12.2)\n",
      "Requirement already satisfied: lxml in /Users/dabadieraphael/Library/Python/3.9/lib/python/site-packages (4.9.3)\n",
      "Requirement already satisfied: soupsieve>1.2 in /Users/dabadieraphael/Library/Python/3.9/lib/python/site-packages (from beautifulsoup4) (2.5)\n",
      "\u001b[33mWARNING: You are using pip version 21.2.4; however, version 23.3.1 is available.\n",
      "You should consider upgrading via the '/Library/Developer/CommandLineTools/usr/bin/python3 -m pip install --upgrade pip' command.\u001b[0m\n",
      "Note: you may need to restart the kernel to use updated packages.\n"
     ]
    }
   ],
   "source": [
    "pip install beautifulsoup4 lxml"
   ]
  },
  {
   "cell_type": "code",
   "execution_count": 232,
   "metadata": {},
   "outputs": [
    {
     "data": {
      "text/html": [
       "<div>\n",
       "<style scoped>\n",
       "    .dataframe tbody tr th:only-of-type {\n",
       "        vertical-align: middle;\n",
       "    }\n",
       "\n",
       "    .dataframe tbody tr th {\n",
       "        vertical-align: top;\n",
       "    }\n",
       "\n",
       "    .dataframe thead th {\n",
       "        text-align: right;\n",
       "    }\n",
       "</style>\n",
       "<table border=\"1\" class=\"dataframe\">\n",
       "  <thead>\n",
       "    <tr style=\"text-align: right;\">\n",
       "      <th></th>\n",
       "      <th>Titre</th>\n",
       "      <th>URL</th>\n",
       "      <th>Date de publication</th>\n",
       "      <th>Description</th>\n",
       "      <th>Source</th>\n",
       "      <th>Contenu</th>\n",
       "      <th>Title_length</th>\n",
       "      <th>Description_length</th>\n",
       "      <th>Content_length</th>\n",
       "      <th>Titre_cleaned</th>\n",
       "      <th>Description_cleaned</th>\n",
       "    </tr>\n",
       "  </thead>\n",
       "  <tbody>\n",
       "    <tr>\n",
       "      <th>0</th>\n",
       "      <td>Forget The New MacBook Pro, Apple Has Somethin...</td>\n",
       "      <td>https://www.forbes.com/sites/ewanspence/2023/1...</td>\n",
       "      <td>2023-12-09 20:30:22+00:00</td>\n",
       "      <td>Apple’s awkward MacBook Pro may look attractiv...</td>\n",
       "      <td>Forbes</td>\n",
       "      <td>&lt;!DOCTYPE html&gt;&lt;html lang=\"en\"&gt;&lt;head&gt;&lt;link rel...</td>\n",
       "      <td>10</td>\n",
       "      <td>17</td>\n",
       "      <td>12958</td>\n",
       "      <td>forget the new macbook pro apple has something...</td>\n",
       "      <td>apples awkward macbook pro may look attractive...</td>\n",
       "    </tr>\n",
       "    <tr>\n",
       "      <th>1</th>\n",
       "      <td>Apple Leak Confirms Surprise iPhone 16 Pro Upg...</td>\n",
       "      <td>https://www.forbes.com/sites/ewanspence/2023/1...</td>\n",
       "      <td>2023-12-09 14:42:17+00:00</td>\n",
       "      <td>iPhone 16 Pro models will be the first to bene...</td>\n",
       "      <td>Forbes</td>\n",
       "      <td>&lt;!DOCTYPE html&gt;&lt;html lang=\"en\"&gt;&lt;head&gt;&lt;link rel...</td>\n",
       "      <td>8</td>\n",
       "      <td>21</td>\n",
       "      <td>12521</td>\n",
       "      <td>apple leak confirms surprise iphone  pro upgrade</td>\n",
       "      <td>iphone  pro models will be the first to benefi...</td>\n",
       "    </tr>\n",
       "    <tr>\n",
       "      <th>2</th>\n",
       "      <td>Apple iOS 17.2 Release Date: The Coolest iPhon...</td>\n",
       "      <td>https://www.forbes.com/sites/davidphelan/2023/...</td>\n",
       "      <td>2023-12-09 14:38:43+00:00</td>\n",
       "      <td>There’s a big iPhone update coming and it’s fu...</td>\n",
       "      <td>Forbes</td>\n",
       "      <td>&lt;!DOCTYPE html&gt;&lt;html lang=\"en\"&gt;&lt;head&gt;&lt;link rel...</td>\n",
       "      <td>12</td>\n",
       "      <td>22</td>\n",
       "      <td>13484</td>\n",
       "      <td>apple ios  release date the coolest iphone upg...</td>\n",
       "      <td>theres a big iphone update coming and its full...</td>\n",
       "    </tr>\n",
       "    <tr>\n",
       "      <th>3</th>\n",
       "      <td>Apple iMessage Soundly Beaten As Surprise New ...</td>\n",
       "      <td>https://www.forbes.com/sites/zakdoffman/2023/1...</td>\n",
       "      <td>2023-12-09 12:30:29+00:00</td>\n",
       "      <td>Forget iPhone 15—Apple suddenly has a major iP...</td>\n",
       "      <td>Forbes</td>\n",
       "      <td>&lt;!DOCTYPE html&gt;&lt;html lang=\"en\"&gt;&lt;head&gt;&lt;link rel...</td>\n",
       "      <td>10</td>\n",
       "      <td>14</td>\n",
       "      <td>13650</td>\n",
       "      <td>apple imessage soundly beaten as surprise new ...</td>\n",
       "      <td>forget iphone apple suddenly has a major iphon...</td>\n",
       "    </tr>\n",
       "    <tr>\n",
       "      <th>4</th>\n",
       "      <td>Apple Loop: Apple’s iPhone 16 Problem, Stunnin...</td>\n",
       "      <td>https://www.forbes.com/sites/ewanspence/2023/1...</td>\n",
       "      <td>2023-12-08 21:32:17+00:00</td>\n",
       "      <td>This week’s Apple headlines; Apple’s iPhone 16...</td>\n",
       "      <td>Forbes</td>\n",
       "      <td>&lt;!DOCTYPE html&gt;&lt;html lang=\"en\"&gt;&lt;head&gt;&lt;link rel...</td>\n",
       "      <td>12</td>\n",
       "      <td>31</td>\n",
       "      <td>13609</td>\n",
       "      <td>apple loop apples iphone  problem stunning ipa...</td>\n",
       "      <td>this weeks apple headlines apples iphone  prob...</td>\n",
       "    </tr>\n",
       "  </tbody>\n",
       "</table>\n",
       "</div>"
      ],
      "text/plain": [
       "                                               Titre  \\\n",
       "0  Forget The New MacBook Pro, Apple Has Somethin...   \n",
       "1  Apple Leak Confirms Surprise iPhone 16 Pro Upg...   \n",
       "2  Apple iOS 17.2 Release Date: The Coolest iPhon...   \n",
       "3  Apple iMessage Soundly Beaten As Surprise New ...   \n",
       "4  Apple Loop: Apple’s iPhone 16 Problem, Stunnin...   \n",
       "\n",
       "                                                 URL  \\\n",
       "0  https://www.forbes.com/sites/ewanspence/2023/1...   \n",
       "1  https://www.forbes.com/sites/ewanspence/2023/1...   \n",
       "2  https://www.forbes.com/sites/davidphelan/2023/...   \n",
       "3  https://www.forbes.com/sites/zakdoffman/2023/1...   \n",
       "4  https://www.forbes.com/sites/ewanspence/2023/1...   \n",
       "\n",
       "        Date de publication  \\\n",
       "0 2023-12-09 20:30:22+00:00   \n",
       "1 2023-12-09 14:42:17+00:00   \n",
       "2 2023-12-09 14:38:43+00:00   \n",
       "3 2023-12-09 12:30:29+00:00   \n",
       "4 2023-12-08 21:32:17+00:00   \n",
       "\n",
       "                                         Description  Source  \\\n",
       "0  Apple’s awkward MacBook Pro may look attractiv...  Forbes   \n",
       "1  iPhone 16 Pro models will be the first to bene...  Forbes   \n",
       "2  There’s a big iPhone update coming and it’s fu...  Forbes   \n",
       "3  Forget iPhone 15—Apple suddenly has a major iP...  Forbes   \n",
       "4  This week’s Apple headlines; Apple’s iPhone 16...  Forbes   \n",
       "\n",
       "                                             Contenu  Title_length  \\\n",
       "0  <!DOCTYPE html><html lang=\"en\"><head><link rel...            10   \n",
       "1  <!DOCTYPE html><html lang=\"en\"><head><link rel...             8   \n",
       "2  <!DOCTYPE html><html lang=\"en\"><head><link rel...            12   \n",
       "3  <!DOCTYPE html><html lang=\"en\"><head><link rel...            10   \n",
       "4  <!DOCTYPE html><html lang=\"en\"><head><link rel...            12   \n",
       "\n",
       "   Description_length  Content_length  \\\n",
       "0                  17           12958   \n",
       "1                  21           12521   \n",
       "2                  22           13484   \n",
       "3                  14           13650   \n",
       "4                  31           13609   \n",
       "\n",
       "                                       Titre_cleaned  \\\n",
       "0  forget the new macbook pro apple has something...   \n",
       "1   apple leak confirms surprise iphone  pro upgrade   \n",
       "2  apple ios  release date the coolest iphone upg...   \n",
       "3  apple imessage soundly beaten as surprise new ...   \n",
       "4  apple loop apples iphone  problem stunning ipa...   \n",
       "\n",
       "                                 Description_cleaned  \n",
       "0  apples awkward macbook pro may look attractive...  \n",
       "1  iphone  pro models will be the first to benefi...  \n",
       "2  theres a big iphone update coming and its full...  \n",
       "3  forget iphone apple suddenly has a major iphon...  \n",
       "4  this weeks apple headlines apples iphone  prob...  "
      ]
     },
     "execution_count": 232,
     "metadata": {},
     "output_type": "execute_result"
    }
   ],
   "source": [
    "df_analyse_1=df.copy()\n",
    "df_analyse_1['Titre_cleaned']=df_analyse_1['Titre'].apply(cleaning_text)\n",
    "df_analyse_1['Description_cleaned']=df_analyse_1['Description'].apply(cleaning_text)\n",
    "df_analyse_1.head()"
   ]
  },
  {
   "cell_type": "code",
   "execution_count": 233,
   "metadata": {},
   "outputs": [
    {
     "data": {
      "text/html": [
       "<div>\n",
       "<style scoped>\n",
       "    .dataframe tbody tr th:only-of-type {\n",
       "        vertical-align: middle;\n",
       "    }\n",
       "\n",
       "    .dataframe tbody tr th {\n",
       "        vertical-align: top;\n",
       "    }\n",
       "\n",
       "    .dataframe thead th {\n",
       "        text-align: right;\n",
       "    }\n",
       "</style>\n",
       "<table border=\"1\" class=\"dataframe\">\n",
       "  <thead>\n",
       "    <tr style=\"text-align: right;\">\n",
       "      <th></th>\n",
       "      <th>Titre</th>\n",
       "      <th>URL</th>\n",
       "      <th>Date de publication</th>\n",
       "      <th>Description</th>\n",
       "      <th>Source</th>\n",
       "      <th>Contenu</th>\n",
       "      <th>Title_length</th>\n",
       "      <th>Description_length</th>\n",
       "      <th>Content_length</th>\n",
       "      <th>Titre_cleaned</th>\n",
       "      <th>Description_cleaned</th>\n",
       "      <th>Counting_Words_Text</th>\n",
       "      <th>Counting_Words_Description</th>\n",
       "    </tr>\n",
       "  </thead>\n",
       "  <tbody>\n",
       "    <tr>\n",
       "      <th>0</th>\n",
       "      <td>Forget The New MacBook Pro, Apple Has Somethin...</td>\n",
       "      <td>https://www.forbes.com/sites/ewanspence/2023/1...</td>\n",
       "      <td>2023-12-09 20:30:22+00:00</td>\n",
       "      <td>Apple’s awkward MacBook Pro may look attractiv...</td>\n",
       "      <td>Forbes</td>\n",
       "      <td>&lt;!DOCTYPE html&gt;&lt;html lang=\"en\"&gt;&lt;head&gt;&lt;link rel...</td>\n",
       "      <td>10</td>\n",
       "      <td>17</td>\n",
       "      <td>12958</td>\n",
       "      <td>forget the new macbook pro apple has something...</td>\n",
       "      <td>apples awkward macbook pro may look attractive...</td>\n",
       "      <td>{'forget': 1, 'the': 1, 'new': 1, 'macbook': 1...</td>\n",
       "      <td>{'apples': 1, 'awkward': 1, 'macbook': 1, 'pro...</td>\n",
       "    </tr>\n",
       "    <tr>\n",
       "      <th>1</th>\n",
       "      <td>Apple Leak Confirms Surprise iPhone 16 Pro Upg...</td>\n",
       "      <td>https://www.forbes.com/sites/ewanspence/2023/1...</td>\n",
       "      <td>2023-12-09 14:42:17+00:00</td>\n",
       "      <td>iPhone 16 Pro models will be the first to bene...</td>\n",
       "      <td>Forbes</td>\n",
       "      <td>&lt;!DOCTYPE html&gt;&lt;html lang=\"en\"&gt;&lt;head&gt;&lt;link rel...</td>\n",
       "      <td>8</td>\n",
       "      <td>21</td>\n",
       "      <td>12521</td>\n",
       "      <td>apple leak confirms surprise iphone  pro upgrade</td>\n",
       "      <td>iphone  pro models will be the first to benefi...</td>\n",
       "      <td>{'apple': 1, 'leak': 1, 'confirms': 1, 'surpri...</td>\n",
       "      <td>{'iphone': 2, 'pro': 1, 'models': 1, 'will': 1...</td>\n",
       "    </tr>\n",
       "    <tr>\n",
       "      <th>2</th>\n",
       "      <td>Apple iOS 17.2 Release Date: The Coolest iPhon...</td>\n",
       "      <td>https://www.forbes.com/sites/davidphelan/2023/...</td>\n",
       "      <td>2023-12-09 14:38:43+00:00</td>\n",
       "      <td>There’s a big iPhone update coming and it’s fu...</td>\n",
       "      <td>Forbes</td>\n",
       "      <td>&lt;!DOCTYPE html&gt;&lt;html lang=\"en\"&gt;&lt;head&gt;&lt;link rel...</td>\n",
       "      <td>12</td>\n",
       "      <td>22</td>\n",
       "      <td>13484</td>\n",
       "      <td>apple ios  release date the coolest iphone upg...</td>\n",
       "      <td>theres a big iphone update coming and its full...</td>\n",
       "      <td>{'apple': 1, 'ios': 1, 'release': 1, 'date': 1...</td>\n",
       "      <td>{'theres': 1, 'a': 1, 'big': 1, 'iphone': 1, '...</td>\n",
       "    </tr>\n",
       "    <tr>\n",
       "      <th>3</th>\n",
       "      <td>Apple iMessage Soundly Beaten As Surprise New ...</td>\n",
       "      <td>https://www.forbes.com/sites/zakdoffman/2023/1...</td>\n",
       "      <td>2023-12-09 12:30:29+00:00</td>\n",
       "      <td>Forget iPhone 15—Apple suddenly has a major iP...</td>\n",
       "      <td>Forbes</td>\n",
       "      <td>&lt;!DOCTYPE html&gt;&lt;html lang=\"en\"&gt;&lt;head&gt;&lt;link rel...</td>\n",
       "      <td>10</td>\n",
       "      <td>14</td>\n",
       "      <td>13650</td>\n",
       "      <td>apple imessage soundly beaten as surprise new ...</td>\n",
       "      <td>forget iphone apple suddenly has a major iphon...</td>\n",
       "      <td>{'apple': 1, 'imessage': 1, 'soundly': 1, 'bea...</td>\n",
       "      <td>{'forget': 1, 'iphone': 2, 'apple': 1, 'sudden...</td>\n",
       "    </tr>\n",
       "    <tr>\n",
       "      <th>4</th>\n",
       "      <td>Apple Loop: Apple’s iPhone 16 Problem, Stunnin...</td>\n",
       "      <td>https://www.forbes.com/sites/ewanspence/2023/1...</td>\n",
       "      <td>2023-12-08 21:32:17+00:00</td>\n",
       "      <td>This week’s Apple headlines; Apple’s iPhone 16...</td>\n",
       "      <td>Forbes</td>\n",
       "      <td>&lt;!DOCTYPE html&gt;&lt;html lang=\"en\"&gt;&lt;head&gt;&lt;link rel...</td>\n",
       "      <td>12</td>\n",
       "      <td>31</td>\n",
       "      <td>13609</td>\n",
       "      <td>apple loop apples iphone  problem stunning ipa...</td>\n",
       "      <td>this weeks apple headlines apples iphone  prob...</td>\n",
       "      <td>{'apple': 1, 'loop': 1, 'apples': 1, 'iphone':...</td>\n",
       "      <td>{'this': 1, 'weeks': 1, 'apple': 2, 'headlines...</td>\n",
       "    </tr>\n",
       "    <tr>\n",
       "      <th>5</th>\n",
       "      <td>Apple iPhone, Watch product design head to lea...</td>\n",
       "      <td>https://www.marketwatch.com/story/apple-iphone...</td>\n",
       "      <td>2023-12-08 20:37:19+00:00</td>\n",
       "      <td>Tang Tan, the Apple Inc. executive who headed ...</td>\n",
       "      <td>MarketWatch</td>\n",
       "      <td>&lt;!DOCTYPE html&gt;\\n&lt;html\\n  lang=\"en-US\"\\n  data...</td>\n",
       "      <td>9</td>\n",
       "      <td>27</td>\n",
       "      <td>14471</td>\n",
       "      <td>apple iphone watch product design head to leav...</td>\n",
       "      <td>tang tan the apple inc executive who headed pr...</td>\n",
       "      <td>{'apple': 1, 'iphone': 1, 'watch': 1, 'product...</td>\n",
       "      <td>{'tang': 1, 'tan': 1, 'the': 4, 'apple': 2, 'i...</td>\n",
       "    </tr>\n",
       "    <tr>\n",
       "      <th>6</th>\n",
       "      <td>: Apple iPhone, Watch product design head to l...</td>\n",
       "      <td>https://www.marketwatch.com/story/apple-iphone...</td>\n",
       "      <td>2023-12-08 20:30:00+00:00</td>\n",
       "      <td>Tang Tan, the Apple Inc. executive who headed ...</td>\n",
       "      <td>MarketWatch</td>\n",
       "      <td>&lt;!DOCTYPE html&gt;\\n&lt;html\\n  lang=\"en-US\"\\n  data...</td>\n",
       "      <td>10</td>\n",
       "      <td>27</td>\n",
       "      <td>14482</td>\n",
       "      <td>apple iphone watch product design head to lea...</td>\n",
       "      <td>tang tan the apple inc executive who headed pr...</td>\n",
       "      <td>{'apple': 1, 'iphone': 1, 'watch': 1, 'product...</td>\n",
       "      <td>{'tang': 1, 'tan': 1, 'the': 4, 'apple': 2, 'i...</td>\n",
       "    </tr>\n",
       "    <tr>\n",
       "      <th>7</th>\n",
       "      <td>Apple's latest moves in India underscore data ...</td>\n",
       "      <td>https://www.cnbc.com/2023/12/08/apples-latest-...</td>\n",
       "      <td>2023-12-08 18:20:47+00:00</td>\n",
       "      <td>India's economy is about 16½ years behind Chin...</td>\n",
       "      <td>CNBC</td>\n",
       "      <td>&lt;!DOCTYPE html&gt;&lt;html lang=\"en\" prefix=\"og=http...</td>\n",
       "      <td>15</td>\n",
       "      <td>21</td>\n",
       "      <td>26008</td>\n",
       "      <td>apples latest moves in india underscore data s...</td>\n",
       "      <td>indias economy is about ½ years behind chinas ...</td>\n",
       "      <td>{'apples': 1, 'latest': 1, 'moves': 1, 'in': 1...</td>\n",
       "      <td>{'indias': 1, 'economy': 2, 'is': 1, 'about': ...</td>\n",
       "    </tr>\n",
       "    <tr>\n",
       "      <th>8</th>\n",
       "      <td>No-One Cares Which Bank Provides Their Apple Card</td>\n",
       "      <td>https://www.forbes.com/sites/davidbirch/2023/1...</td>\n",
       "      <td>2023-12-08 11:57:45+00:00</td>\n",
       "      <td>So long as my rewards card works and I get my ...</td>\n",
       "      <td>Forbes</td>\n",
       "      <td>&lt;!DOCTYPE html&gt;&lt;html lang=\"en\"&gt;&lt;head&gt;&lt;link rel...</td>\n",
       "      <td>8</td>\n",
       "      <td>24</td>\n",
       "      <td>13004</td>\n",
       "      <td>noone cares which bank provides their apple card</td>\n",
       "      <td>so long as my rewards card works and i get my ...</td>\n",
       "      <td>{'noone': 1, 'cares': 1, 'which': 1, 'bank': 1...</td>\n",
       "      <td>{'so': 1, 'long': 1, 'as': 1, 'my': 2, 'reward...</td>\n",
       "    </tr>\n",
       "    <tr>\n",
       "      <th>9</th>\n",
       "      <td>Apple Wants To Make 1-In-4 iPhones In India As...</td>\n",
       "      <td>https://www.forbes.com/sites/siladityaray/2023...</td>\n",
       "      <td>2023-12-08 11:48:48+00:00</td>\n",
       "      <td>Apple wants to expand its Indian manufacturing...</td>\n",
       "      <td>Forbes</td>\n",
       "      <td>&lt;!DOCTYPE html&gt;&lt;html lang=\"en\"&gt;&lt;head&gt;&lt;link rel...</td>\n",
       "      <td>21</td>\n",
       "      <td>25</td>\n",
       "      <td>16170</td>\n",
       "      <td>apple wants to make in iphones in india as tat...</td>\n",
       "      <td>apple wants to expand its indian manufacturing...</td>\n",
       "      <td>{'apple': 1, 'wants': 1, 'to': 2, 'make': 1, '...</td>\n",
       "      <td>{'apple': 1, 'wants': 1, 'to': 3, 'expand': 1,...</td>\n",
       "    </tr>\n",
       "    <tr>\n",
       "      <th>10</th>\n",
       "      <td>Apple reportedly plans major expansion of iPho...</td>\n",
       "      <td>https://www.marketwatch.com/story/apple-report...</td>\n",
       "      <td>2023-12-08 04:23:00+00:00</td>\n",
       "      <td>Apple Inc. is planning a massive expansion of ...</td>\n",
       "      <td>MarketWatch</td>\n",
       "      <td>&lt;!DOCTYPE html&gt;\\n&lt;html\\n  lang=\"en-US\"\\n  data...</td>\n",
       "      <td>10</td>\n",
       "      <td>17</td>\n",
       "      <td>14591</td>\n",
       "      <td>apple reportedly plans major expansion of ipho...</td>\n",
       "      <td>apple inc is planning a massive expansion of i...</td>\n",
       "      <td>{'apple': 1, 'reportedly': 1, 'plans': 1, 'maj...</td>\n",
       "      <td>{'apple': 1, 'inc': 1, 'is': 1, 'planning': 1,...</td>\n",
       "    </tr>\n",
       "    <tr>\n",
       "      <th>11</th>\n",
       "      <td>: Apple reportedly plans major expansion of iP...</td>\n",
       "      <td>https://www.marketwatch.com/story/apple-report...</td>\n",
       "      <td>2023-12-08 04:23:00+00:00</td>\n",
       "      <td>Apple Inc. is planning a massive expansion of ...</td>\n",
       "      <td>MarketWatch</td>\n",
       "      <td>&lt;!DOCTYPE html&gt;\\n&lt;html\\n  lang=\"en-US\"\\n  data...</td>\n",
       "      <td>11</td>\n",
       "      <td>17</td>\n",
       "      <td>14602</td>\n",
       "      <td>apple reportedly plans major expansion of iph...</td>\n",
       "      <td>apple inc is planning a massive expansion of i...</td>\n",
       "      <td>{'apple': 1, 'reportedly': 1, 'plans': 1, 'maj...</td>\n",
       "      <td>{'apple': 1, 'inc': 1, 'is': 1, 'planning': 1,...</td>\n",
       "    </tr>\n",
       "    <tr>\n",
       "      <th>12</th>\n",
       "      <td>Apple Adds NameDrop-Like Pass-Sharing Feature ...</td>\n",
       "      <td>https://www.forbes.com/sites/stevenaquino/2023...</td>\n",
       "      <td>2023-12-07 21:56:41+00:00</td>\n",
       "      <td>The feature bears a strong resemblance to the ...</td>\n",
       "      <td>Forbes</td>\n",
       "      <td>&lt;!DOCTYPE html&gt;&lt;html lang=\"en\"&gt;&lt;head&gt;&lt;link rel...</td>\n",
       "      <td>15</td>\n",
       "      <td>15</td>\n",
       "      <td>11781</td>\n",
       "      <td>apple adds namedroplike passsharing feature to...</td>\n",
       "      <td>the feature bears a strong resemblance to the ...</td>\n",
       "      <td>{'apple': 1, 'adds': 1, 'namedroplike': 1, 'pa...</td>\n",
       "      <td>{'the': 2, 'feature': 1, 'bears': 1, 'a': 1, '...</td>\n",
       "    </tr>\n",
       "    <tr>\n",
       "      <th>13</th>\n",
       "      <td>Apple iPad 2024: All-New Big-Screen Model Comi...</td>\n",
       "      <td>https://www.forbes.com/sites/davidphelan/2023/...</td>\n",
       "      <td>2023-12-07 19:30:38+00:00</td>\n",
       "      <td>The latest reports suggest that four new iPads...</td>\n",
       "      <td>Forbes</td>\n",
       "      <td>&lt;!DOCTYPE html&gt;&lt;html lang=\"en\"&gt;&lt;head&gt;&lt;link rel...</td>\n",
       "      <td>11</td>\n",
       "      <td>24</td>\n",
       "      <td>8881</td>\n",
       "      <td>apple ipad  allnew bigscreen model coming in w...</td>\n",
       "      <td>the latest reports suggest that four new ipads...</td>\n",
       "      <td>{'apple': 1, 'ipad': 1, 'allnew': 1, 'bigscree...</td>\n",
       "      <td>{'the': 3, 'latest': 1, 'reports': 1, 'suggest...</td>\n",
       "    </tr>\n",
       "    <tr>\n",
       "      <th>14</th>\n",
       "      <td>New Apple Leak Hints At Early MacBook Air Upgrade</td>\n",
       "      <td>https://www.forbes.com/sites/ewanspence/2023/1...</td>\n",
       "      <td>2023-12-07 09:30:30+00:00</td>\n",
       "      <td>Apple's next MacBook Air laptops may arrive ea...</td>\n",
       "      <td>Forbes</td>\n",
       "      <td>&lt;!DOCTYPE html&gt;&lt;html lang=\"en\"&gt;&lt;head&gt;&lt;link rel...</td>\n",
       "      <td>9</td>\n",
       "      <td>10</td>\n",
       "      <td>13181</td>\n",
       "      <td>new apple leak hints at early macbook air upgrade</td>\n",
       "      <td>apples next macbook air laptops may arrive ear...</td>\n",
       "      <td>{'new': 1, 'apple': 1, 'leak': 1, 'hints': 1, ...</td>\n",
       "      <td>{'apples': 1, 'next': 1, 'macbook': 1, 'air': ...</td>\n",
       "    </tr>\n",
       "    <tr>\n",
       "      <th>15</th>\n",
       "      <td>This app gives Android users the ability to se...</td>\n",
       "      <td>https://www.businessinsider.com/imessage-andro...</td>\n",
       "      <td>2023-12-07 09:20:01+00:00</td>\n",
       "      <td>Beeper Mini is an app that gives Android users...</td>\n",
       "      <td>Business Insider</td>\n",
       "      <td>&lt;!DOCTYPE html&gt;\\n&lt;html lang=\"en-US\"&gt;\\n\\n&lt;head&gt;...</td>\n",
       "      <td>19</td>\n",
       "      <td>17</td>\n",
       "      <td>10204</td>\n",
       "      <td>this app gives android users the ability to se...</td>\n",
       "      <td>beeper mini is an app that gives android users...</td>\n",
       "      <td>{'this': 1, 'app': 1, 'gives': 1, 'android': 1...</td>\n",
       "      <td>{'beeper': 1, 'mini': 1, 'is': 1, 'an': 1, 'ap...</td>\n",
       "    </tr>\n",
       "  </tbody>\n",
       "</table>\n",
       "</div>"
      ],
      "text/plain": [
       "                                                Titre  \\\n",
       "0   Forget The New MacBook Pro, Apple Has Somethin...   \n",
       "1   Apple Leak Confirms Surprise iPhone 16 Pro Upg...   \n",
       "2   Apple iOS 17.2 Release Date: The Coolest iPhon...   \n",
       "3   Apple iMessage Soundly Beaten As Surprise New ...   \n",
       "4   Apple Loop: Apple’s iPhone 16 Problem, Stunnin...   \n",
       "5   Apple iPhone, Watch product design head to lea...   \n",
       "6   : Apple iPhone, Watch product design head to l...   \n",
       "7   Apple's latest moves in India underscore data ...   \n",
       "8   No-One Cares Which Bank Provides Their Apple Card   \n",
       "9   Apple Wants To Make 1-In-4 iPhones In India As...   \n",
       "10  Apple reportedly plans major expansion of iPho...   \n",
       "11  : Apple reportedly plans major expansion of iP...   \n",
       "12  Apple Adds NameDrop-Like Pass-Sharing Feature ...   \n",
       "13  Apple iPad 2024: All-New Big-Screen Model Comi...   \n",
       "14  New Apple Leak Hints At Early MacBook Air Upgrade   \n",
       "15  This app gives Android users the ability to se...   \n",
       "\n",
       "                                                  URL  \\\n",
       "0   https://www.forbes.com/sites/ewanspence/2023/1...   \n",
       "1   https://www.forbes.com/sites/ewanspence/2023/1...   \n",
       "2   https://www.forbes.com/sites/davidphelan/2023/...   \n",
       "3   https://www.forbes.com/sites/zakdoffman/2023/1...   \n",
       "4   https://www.forbes.com/sites/ewanspence/2023/1...   \n",
       "5   https://www.marketwatch.com/story/apple-iphone...   \n",
       "6   https://www.marketwatch.com/story/apple-iphone...   \n",
       "7   https://www.cnbc.com/2023/12/08/apples-latest-...   \n",
       "8   https://www.forbes.com/sites/davidbirch/2023/1...   \n",
       "9   https://www.forbes.com/sites/siladityaray/2023...   \n",
       "10  https://www.marketwatch.com/story/apple-report...   \n",
       "11  https://www.marketwatch.com/story/apple-report...   \n",
       "12  https://www.forbes.com/sites/stevenaquino/2023...   \n",
       "13  https://www.forbes.com/sites/davidphelan/2023/...   \n",
       "14  https://www.forbes.com/sites/ewanspence/2023/1...   \n",
       "15  https://www.businessinsider.com/imessage-andro...   \n",
       "\n",
       "         Date de publication  \\\n",
       "0  2023-12-09 20:30:22+00:00   \n",
       "1  2023-12-09 14:42:17+00:00   \n",
       "2  2023-12-09 14:38:43+00:00   \n",
       "3  2023-12-09 12:30:29+00:00   \n",
       "4  2023-12-08 21:32:17+00:00   \n",
       "5  2023-12-08 20:37:19+00:00   \n",
       "6  2023-12-08 20:30:00+00:00   \n",
       "7  2023-12-08 18:20:47+00:00   \n",
       "8  2023-12-08 11:57:45+00:00   \n",
       "9  2023-12-08 11:48:48+00:00   \n",
       "10 2023-12-08 04:23:00+00:00   \n",
       "11 2023-12-08 04:23:00+00:00   \n",
       "12 2023-12-07 21:56:41+00:00   \n",
       "13 2023-12-07 19:30:38+00:00   \n",
       "14 2023-12-07 09:30:30+00:00   \n",
       "15 2023-12-07 09:20:01+00:00   \n",
       "\n",
       "                                          Description            Source  \\\n",
       "0   Apple’s awkward MacBook Pro may look attractiv...            Forbes   \n",
       "1   iPhone 16 Pro models will be the first to bene...            Forbes   \n",
       "2   There’s a big iPhone update coming and it’s fu...            Forbes   \n",
       "3   Forget iPhone 15—Apple suddenly has a major iP...            Forbes   \n",
       "4   This week’s Apple headlines; Apple’s iPhone 16...            Forbes   \n",
       "5   Tang Tan, the Apple Inc. executive who headed ...       MarketWatch   \n",
       "6   Tang Tan, the Apple Inc. executive who headed ...       MarketWatch   \n",
       "7   India's economy is about 16½ years behind Chin...              CNBC   \n",
       "8   So long as my rewards card works and I get my ...            Forbes   \n",
       "9   Apple wants to expand its Indian manufacturing...            Forbes   \n",
       "10  Apple Inc. is planning a massive expansion of ...       MarketWatch   \n",
       "11  Apple Inc. is planning a massive expansion of ...       MarketWatch   \n",
       "12  The feature bears a strong resemblance to the ...            Forbes   \n",
       "13  The latest reports suggest that four new iPads...            Forbes   \n",
       "14  Apple's next MacBook Air laptops may arrive ea...            Forbes   \n",
       "15  Beeper Mini is an app that gives Android users...  Business Insider   \n",
       "\n",
       "                                              Contenu  Title_length  \\\n",
       "0   <!DOCTYPE html><html lang=\"en\"><head><link rel...            10   \n",
       "1   <!DOCTYPE html><html lang=\"en\"><head><link rel...             8   \n",
       "2   <!DOCTYPE html><html lang=\"en\"><head><link rel...            12   \n",
       "3   <!DOCTYPE html><html lang=\"en\"><head><link rel...            10   \n",
       "4   <!DOCTYPE html><html lang=\"en\"><head><link rel...            12   \n",
       "5   <!DOCTYPE html>\\n<html\\n  lang=\"en-US\"\\n  data...             9   \n",
       "6   <!DOCTYPE html>\\n<html\\n  lang=\"en-US\"\\n  data...            10   \n",
       "7   <!DOCTYPE html><html lang=\"en\" prefix=\"og=http...            15   \n",
       "8   <!DOCTYPE html><html lang=\"en\"><head><link rel...             8   \n",
       "9   <!DOCTYPE html><html lang=\"en\"><head><link rel...            21   \n",
       "10  <!DOCTYPE html>\\n<html\\n  lang=\"en-US\"\\n  data...            10   \n",
       "11  <!DOCTYPE html>\\n<html\\n  lang=\"en-US\"\\n  data...            11   \n",
       "12  <!DOCTYPE html><html lang=\"en\"><head><link rel...            15   \n",
       "13  <!DOCTYPE html><html lang=\"en\"><head><link rel...            11   \n",
       "14  <!DOCTYPE html><html lang=\"en\"><head><link rel...             9   \n",
       "15  <!DOCTYPE html>\\n<html lang=\"en-US\">\\n\\n<head>...            19   \n",
       "\n",
       "    Description_length  Content_length  \\\n",
       "0                   17           12958   \n",
       "1                   21           12521   \n",
       "2                   22           13484   \n",
       "3                   14           13650   \n",
       "4                   31           13609   \n",
       "5                   27           14471   \n",
       "6                   27           14482   \n",
       "7                   21           26008   \n",
       "8                   24           13004   \n",
       "9                   25           16170   \n",
       "10                  17           14591   \n",
       "11                  17           14602   \n",
       "12                  15           11781   \n",
       "13                  24            8881   \n",
       "14                  10           13181   \n",
       "15                  17           10204   \n",
       "\n",
       "                                        Titre_cleaned  \\\n",
       "0   forget the new macbook pro apple has something...   \n",
       "1    apple leak confirms surprise iphone  pro upgrade   \n",
       "2   apple ios  release date the coolest iphone upg...   \n",
       "3   apple imessage soundly beaten as surprise new ...   \n",
       "4   apple loop apples iphone  problem stunning ipa...   \n",
       "5   apple iphone watch product design head to leav...   \n",
       "6    apple iphone watch product design head to lea...   \n",
       "7   apples latest moves in india underscore data s...   \n",
       "8    noone cares which bank provides their apple card   \n",
       "9   apple wants to make in iphones in india as tat...   \n",
       "10  apple reportedly plans major expansion of ipho...   \n",
       "11   apple reportedly plans major expansion of iph...   \n",
       "12  apple adds namedroplike passsharing feature to...   \n",
       "13  apple ipad  allnew bigscreen model coming in w...   \n",
       "14  new apple leak hints at early macbook air upgrade   \n",
       "15  this app gives android users the ability to se...   \n",
       "\n",
       "                                  Description_cleaned  \\\n",
       "0   apples awkward macbook pro may look attractive...   \n",
       "1   iphone  pro models will be the first to benefi...   \n",
       "2   theres a big iphone update coming and its full...   \n",
       "3   forget iphone apple suddenly has a major iphon...   \n",
       "4   this weeks apple headlines apples iphone  prob...   \n",
       "5   tang tan the apple inc executive who headed pr...   \n",
       "6   tang tan the apple inc executive who headed pr...   \n",
       "7   indias economy is about ½ years behind chinas ...   \n",
       "8   so long as my rewards card works and i get my ...   \n",
       "9   apple wants to expand its indian manufacturing...   \n",
       "10  apple inc is planning a massive expansion of i...   \n",
       "11  apple inc is planning a massive expansion of i...   \n",
       "12  the feature bears a strong resemblance to the ...   \n",
       "13  the latest reports suggest that four new ipads...   \n",
       "14  apples next macbook air laptops may arrive ear...   \n",
       "15  beeper mini is an app that gives android users...   \n",
       "\n",
       "                                  Counting_Words_Text  \\\n",
       "0   {'forget': 1, 'the': 1, 'new': 1, 'macbook': 1...   \n",
       "1   {'apple': 1, 'leak': 1, 'confirms': 1, 'surpri...   \n",
       "2   {'apple': 1, 'ios': 1, 'release': 1, 'date': 1...   \n",
       "3   {'apple': 1, 'imessage': 1, 'soundly': 1, 'bea...   \n",
       "4   {'apple': 1, 'loop': 1, 'apples': 1, 'iphone':...   \n",
       "5   {'apple': 1, 'iphone': 1, 'watch': 1, 'product...   \n",
       "6   {'apple': 1, 'iphone': 1, 'watch': 1, 'product...   \n",
       "7   {'apples': 1, 'latest': 1, 'moves': 1, 'in': 1...   \n",
       "8   {'noone': 1, 'cares': 1, 'which': 1, 'bank': 1...   \n",
       "9   {'apple': 1, 'wants': 1, 'to': 2, 'make': 1, '...   \n",
       "10  {'apple': 1, 'reportedly': 1, 'plans': 1, 'maj...   \n",
       "11  {'apple': 1, 'reportedly': 1, 'plans': 1, 'maj...   \n",
       "12  {'apple': 1, 'adds': 1, 'namedroplike': 1, 'pa...   \n",
       "13  {'apple': 1, 'ipad': 1, 'allnew': 1, 'bigscree...   \n",
       "14  {'new': 1, 'apple': 1, 'leak': 1, 'hints': 1, ...   \n",
       "15  {'this': 1, 'app': 1, 'gives': 1, 'android': 1...   \n",
       "\n",
       "                           Counting_Words_Description  \n",
       "0   {'apples': 1, 'awkward': 1, 'macbook': 1, 'pro...  \n",
       "1   {'iphone': 2, 'pro': 1, 'models': 1, 'will': 1...  \n",
       "2   {'theres': 1, 'a': 1, 'big': 1, 'iphone': 1, '...  \n",
       "3   {'forget': 1, 'iphone': 2, 'apple': 1, 'sudden...  \n",
       "4   {'this': 1, 'weeks': 1, 'apple': 2, 'headlines...  \n",
       "5   {'tang': 1, 'tan': 1, 'the': 4, 'apple': 2, 'i...  \n",
       "6   {'tang': 1, 'tan': 1, 'the': 4, 'apple': 2, 'i...  \n",
       "7   {'indias': 1, 'economy': 2, 'is': 1, 'about': ...  \n",
       "8   {'so': 1, 'long': 1, 'as': 1, 'my': 2, 'reward...  \n",
       "9   {'apple': 1, 'wants': 1, 'to': 3, 'expand': 1,...  \n",
       "10  {'apple': 1, 'inc': 1, 'is': 1, 'planning': 1,...  \n",
       "11  {'apple': 1, 'inc': 1, 'is': 1, 'planning': 1,...  \n",
       "12  {'the': 2, 'feature': 1, 'bears': 1, 'a': 1, '...  \n",
       "13  {'the': 3, 'latest': 1, 'reports': 1, 'suggest...  \n",
       "14  {'apples': 1, 'next': 1, 'macbook': 1, 'air': ...  \n",
       "15  {'beeper': 1, 'mini': 1, 'is': 1, 'an': 1, 'ap...  "
      ]
     },
     "execution_count": 233,
     "metadata": {},
     "output_type": "execute_result"
    }
   ],
   "source": [
    "df_analyse_1['Counting_Words_Text']=df_analyse_1['Titre_cleaned'].apply(count_common_words)\n",
    "df_analyse_1['Counting_Words_Description']=df_analyse_1['Description_cleaned'].apply(count_common_words)\n",
    "\n",
    "df_analyse_1"
   ]
  },
  {
   "cell_type": "code",
   "execution_count": 234,
   "metadata": {},
   "outputs": [
    {
     "data": {
      "text/html": [
       "<div>\n",
       "<style scoped>\n",
       "    .dataframe tbody tr th:only-of-type {\n",
       "        vertical-align: middle;\n",
       "    }\n",
       "\n",
       "    .dataframe tbody tr th {\n",
       "        vertical-align: top;\n",
       "    }\n",
       "\n",
       "    .dataframe thead th {\n",
       "        text-align: right;\n",
       "    }\n",
       "</style>\n",
       "<table border=\"1\" class=\"dataframe\">\n",
       "  <thead>\n",
       "    <tr style=\"text-align: right;\">\n",
       "      <th></th>\n",
       "      <th>Titre</th>\n",
       "      <th>URL</th>\n",
       "      <th>Date de publication</th>\n",
       "      <th>Description</th>\n",
       "      <th>Source</th>\n",
       "      <th>Contenu</th>\n",
       "      <th>Title_length</th>\n",
       "      <th>Description_length</th>\n",
       "      <th>Content_length</th>\n",
       "      <th>Titre_cleaned</th>\n",
       "      <th>Description_cleaned</th>\n",
       "      <th>Counting_Words_Text</th>\n",
       "      <th>Counting_Words_Description</th>\n",
       "      <th>Most_common_text</th>\n",
       "      <th>Most_common_description</th>\n",
       "    </tr>\n",
       "  </thead>\n",
       "  <tbody>\n",
       "    <tr>\n",
       "      <th>0</th>\n",
       "      <td>Forget The New MacBook Pro, Apple Has Somethin...</td>\n",
       "      <td>https://www.forbes.com/sites/ewanspence/2023/1...</td>\n",
       "      <td>2023-12-09 20:30:22+00:00</td>\n",
       "      <td>Apple’s awkward MacBook Pro may look attractiv...</td>\n",
       "      <td>Forbes</td>\n",
       "      <td>&lt;!DOCTYPE html&gt;&lt;html lang=\"en\"&gt;&lt;head&gt;&lt;link rel...</td>\n",
       "      <td>10</td>\n",
       "      <td>17</td>\n",
       "      <td>12958</td>\n",
       "      <td>forget the new macbook pro apple has something...</td>\n",
       "      <td>apples awkward macbook pro may look attractive...</td>\n",
       "      <td>{'forget': 1, 'the': 1, 'new': 1, 'macbook': 1...</td>\n",
       "      <td>{'apples': 1, 'awkward': 1, 'macbook': 1, 'pro...</td>\n",
       "      <td>{'forget': 1, 'the': 1, 'new': 1, 'macbook': 1...</td>\n",
       "      <td>{'apples': 1, 'awkward': 1, 'macbook': 1, 'pro...</td>\n",
       "    </tr>\n",
       "    <tr>\n",
       "      <th>1</th>\n",
       "      <td>Apple Leak Confirms Surprise iPhone 16 Pro Upg...</td>\n",
       "      <td>https://www.forbes.com/sites/ewanspence/2023/1...</td>\n",
       "      <td>2023-12-09 14:42:17+00:00</td>\n",
       "      <td>iPhone 16 Pro models will be the first to bene...</td>\n",
       "      <td>Forbes</td>\n",
       "      <td>&lt;!DOCTYPE html&gt;&lt;html lang=\"en\"&gt;&lt;head&gt;&lt;link rel...</td>\n",
       "      <td>8</td>\n",
       "      <td>21</td>\n",
       "      <td>12521</td>\n",
       "      <td>apple leak confirms surprise iphone  pro upgrade</td>\n",
       "      <td>iphone  pro models will be the first to benefi...</td>\n",
       "      <td>{'apple': 1, 'leak': 1, 'confirms': 1, 'surpri...</td>\n",
       "      <td>{'iphone': 2, 'pro': 1, 'models': 1, 'will': 1...</td>\n",
       "      <td>{'apple': 1, 'leak': 1, 'confirms': 1, 'surpri...</td>\n",
       "      <td>{'iphone': 2, 'to': 2, 'pro': 1, 'models': 1, ...</td>\n",
       "    </tr>\n",
       "    <tr>\n",
       "      <th>2</th>\n",
       "      <td>Apple iOS 17.2 Release Date: The Coolest iPhon...</td>\n",
       "      <td>https://www.forbes.com/sites/davidphelan/2023/...</td>\n",
       "      <td>2023-12-09 14:38:43+00:00</td>\n",
       "      <td>There’s a big iPhone update coming and it’s fu...</td>\n",
       "      <td>Forbes</td>\n",
       "      <td>&lt;!DOCTYPE html&gt;&lt;html lang=\"en\"&gt;&lt;head&gt;&lt;link rel...</td>\n",
       "      <td>12</td>\n",
       "      <td>22</td>\n",
       "      <td>13484</td>\n",
       "      <td>apple ios  release date the coolest iphone upg...</td>\n",
       "      <td>theres a big iphone update coming and its full...</td>\n",
       "      <td>{'apple': 1, 'ios': 1, 'release': 1, 'date': 1...</td>\n",
       "      <td>{'theres': 1, 'a': 1, 'big': 1, 'iphone': 1, '...</td>\n",
       "      <td>{'apple': 1, 'ios': 1, 'release': 1, 'date': 1...</td>\n",
       "      <td>{'and': 2, 'theres': 1, 'a': 1, 'big': 1, 'iph...</td>\n",
       "    </tr>\n",
       "    <tr>\n",
       "      <th>3</th>\n",
       "      <td>Apple iMessage Soundly Beaten As Surprise New ...</td>\n",
       "      <td>https://www.forbes.com/sites/zakdoffman/2023/1...</td>\n",
       "      <td>2023-12-09 12:30:29+00:00</td>\n",
       "      <td>Forget iPhone 15—Apple suddenly has a major iP...</td>\n",
       "      <td>Forbes</td>\n",
       "      <td>&lt;!DOCTYPE html&gt;&lt;html lang=\"en\"&gt;&lt;head&gt;&lt;link rel...</td>\n",
       "      <td>10</td>\n",
       "      <td>14</td>\n",
       "      <td>13650</td>\n",
       "      <td>apple imessage soundly beaten as surprise new ...</td>\n",
       "      <td>forget iphone apple suddenly has a major iphon...</td>\n",
       "      <td>{'apple': 1, 'imessage': 1, 'soundly': 1, 'bea...</td>\n",
       "      <td>{'forget': 1, 'iphone': 2, 'apple': 1, 'sudden...</td>\n",
       "      <td>{'apple': 1, 'imessage': 1, 'soundly': 1, 'bea...</td>\n",
       "      <td>{'iphone': 2, 'forget': 1, 'apple': 1, 'sudden...</td>\n",
       "    </tr>\n",
       "    <tr>\n",
       "      <th>4</th>\n",
       "      <td>Apple Loop: Apple’s iPhone 16 Problem, Stunnin...</td>\n",
       "      <td>https://www.forbes.com/sites/ewanspence/2023/1...</td>\n",
       "      <td>2023-12-08 21:32:17+00:00</td>\n",
       "      <td>This week’s Apple headlines; Apple’s iPhone 16...</td>\n",
       "      <td>Forbes</td>\n",
       "      <td>&lt;!DOCTYPE html&gt;&lt;html lang=\"en\"&gt;&lt;head&gt;&lt;link rel...</td>\n",
       "      <td>12</td>\n",
       "      <td>31</td>\n",
       "      <td>13609</td>\n",
       "      <td>apple loop apples iphone  problem stunning ipa...</td>\n",
       "      <td>this weeks apple headlines apples iphone  prob...</td>\n",
       "      <td>{'apple': 1, 'loop': 1, 'apples': 1, 'iphone':...</td>\n",
       "      <td>{'this': 1, 'weeks': 1, 'apple': 2, 'headlines...</td>\n",
       "      <td>{'apple': 1, 'loop': 1, 'apples': 1, 'iphone':...</td>\n",
       "      <td>{'apple': 2, 'apples': 2, 'this': 1, 'weeks': ...</td>\n",
       "    </tr>\n",
       "  </tbody>\n",
       "</table>\n",
       "</div>"
      ],
      "text/plain": [
       "                                               Titre  \\\n",
       "0  Forget The New MacBook Pro, Apple Has Somethin...   \n",
       "1  Apple Leak Confirms Surprise iPhone 16 Pro Upg...   \n",
       "2  Apple iOS 17.2 Release Date: The Coolest iPhon...   \n",
       "3  Apple iMessage Soundly Beaten As Surprise New ...   \n",
       "4  Apple Loop: Apple’s iPhone 16 Problem, Stunnin...   \n",
       "\n",
       "                                                 URL  \\\n",
       "0  https://www.forbes.com/sites/ewanspence/2023/1...   \n",
       "1  https://www.forbes.com/sites/ewanspence/2023/1...   \n",
       "2  https://www.forbes.com/sites/davidphelan/2023/...   \n",
       "3  https://www.forbes.com/sites/zakdoffman/2023/1...   \n",
       "4  https://www.forbes.com/sites/ewanspence/2023/1...   \n",
       "\n",
       "        Date de publication  \\\n",
       "0 2023-12-09 20:30:22+00:00   \n",
       "1 2023-12-09 14:42:17+00:00   \n",
       "2 2023-12-09 14:38:43+00:00   \n",
       "3 2023-12-09 12:30:29+00:00   \n",
       "4 2023-12-08 21:32:17+00:00   \n",
       "\n",
       "                                         Description  Source  \\\n",
       "0  Apple’s awkward MacBook Pro may look attractiv...  Forbes   \n",
       "1  iPhone 16 Pro models will be the first to bene...  Forbes   \n",
       "2  There’s a big iPhone update coming and it’s fu...  Forbes   \n",
       "3  Forget iPhone 15—Apple suddenly has a major iP...  Forbes   \n",
       "4  This week’s Apple headlines; Apple’s iPhone 16...  Forbes   \n",
       "\n",
       "                                             Contenu  Title_length  \\\n",
       "0  <!DOCTYPE html><html lang=\"en\"><head><link rel...            10   \n",
       "1  <!DOCTYPE html><html lang=\"en\"><head><link rel...             8   \n",
       "2  <!DOCTYPE html><html lang=\"en\"><head><link rel...            12   \n",
       "3  <!DOCTYPE html><html lang=\"en\"><head><link rel...            10   \n",
       "4  <!DOCTYPE html><html lang=\"en\"><head><link rel...            12   \n",
       "\n",
       "   Description_length  Content_length  \\\n",
       "0                  17           12958   \n",
       "1                  21           12521   \n",
       "2                  22           13484   \n",
       "3                  14           13650   \n",
       "4                  31           13609   \n",
       "\n",
       "                                       Titre_cleaned  \\\n",
       "0  forget the new macbook pro apple has something...   \n",
       "1   apple leak confirms surprise iphone  pro upgrade   \n",
       "2  apple ios  release date the coolest iphone upg...   \n",
       "3  apple imessage soundly beaten as surprise new ...   \n",
       "4  apple loop apples iphone  problem stunning ipa...   \n",
       "\n",
       "                                 Description_cleaned  \\\n",
       "0  apples awkward macbook pro may look attractive...   \n",
       "1  iphone  pro models will be the first to benefi...   \n",
       "2  theres a big iphone update coming and its full...   \n",
       "3  forget iphone apple suddenly has a major iphon...   \n",
       "4  this weeks apple headlines apples iphone  prob...   \n",
       "\n",
       "                                 Counting_Words_Text  \\\n",
       "0  {'forget': 1, 'the': 1, 'new': 1, 'macbook': 1...   \n",
       "1  {'apple': 1, 'leak': 1, 'confirms': 1, 'surpri...   \n",
       "2  {'apple': 1, 'ios': 1, 'release': 1, 'date': 1...   \n",
       "3  {'apple': 1, 'imessage': 1, 'soundly': 1, 'bea...   \n",
       "4  {'apple': 1, 'loop': 1, 'apples': 1, 'iphone':...   \n",
       "\n",
       "                          Counting_Words_Description  \\\n",
       "0  {'apples': 1, 'awkward': 1, 'macbook': 1, 'pro...   \n",
       "1  {'iphone': 2, 'pro': 1, 'models': 1, 'will': 1...   \n",
       "2  {'theres': 1, 'a': 1, 'big': 1, 'iphone': 1, '...   \n",
       "3  {'forget': 1, 'iphone': 2, 'apple': 1, 'sudden...   \n",
       "4  {'this': 1, 'weeks': 1, 'apple': 2, 'headlines...   \n",
       "\n",
       "                                    Most_common_text  \\\n",
       "0  {'forget': 1, 'the': 1, 'new': 1, 'macbook': 1...   \n",
       "1  {'apple': 1, 'leak': 1, 'confirms': 1, 'surpri...   \n",
       "2  {'apple': 1, 'ios': 1, 'release': 1, 'date': 1...   \n",
       "3  {'apple': 1, 'imessage': 1, 'soundly': 1, 'bea...   \n",
       "4  {'apple': 1, 'loop': 1, 'apples': 1, 'iphone':...   \n",
       "\n",
       "                             Most_common_description  \n",
       "0  {'apples': 1, 'awkward': 1, 'macbook': 1, 'pro...  \n",
       "1  {'iphone': 2, 'to': 2, 'pro': 1, 'models': 1, ...  \n",
       "2  {'and': 2, 'theres': 1, 'a': 1, 'big': 1, 'iph...  \n",
       "3  {'iphone': 2, 'forget': 1, 'apple': 1, 'sudden...  \n",
       "4  {'apple': 2, 'apples': 2, 'this': 1, 'weeks': ...  "
      ]
     },
     "execution_count": 234,
     "metadata": {},
     "output_type": "execute_result"
    }
   ],
   "source": [
    "#On affiche les mots les plus fréquents dans chaque article\n",
    "\n",
    "df_analyse_1['Most_common_text']=df_analyse_1['Counting_Words_Text'].apply(most_common_words)\n",
    "df_analyse_1['Most_common_description']=df_analyse_1['Counting_Words_Description'].apply(most_common_words)\n",
    "df_analyse_1.head()"
   ]
  },
  {
   "cell_type": "code",
   "execution_count": 235,
   "metadata": {},
   "outputs": [
    {
     "data": {
      "text/plain": [
       "({'forget': 1,\n",
       "  'the': 5,\n",
       "  'new': 3,\n",
       "  'macbook': 3,\n",
       "  'pro': 2,\n",
       "  'apple': 15,\n",
       "  'has': 1,\n",
       "  'something': 1,\n",
       "  'much': 1,\n",
       "  'better': 1,\n",
       "  'leak': 2,\n",
       "  'confirms': 1,\n",
       "  'surprise': 3,\n",
       "  'iphone': 7,\n",
       "  'upgrade': 3,\n",
       "  'ios': 2,\n",
       "  'release': 1,\n",
       "  'date': 1,\n",
       "  'coolest': 1,\n",
       "  'is': 1,\n",
       "  'days': 1,\n",
       "  'away': 1,\n",
       "  'imessage': 1,\n",
       "  'soundly': 1,\n",
       "  'beaten': 1,\n",
       "  'as': 2,\n",
       "  'update': 1,\n",
       "  'goes': 1,\n",
       "  'live': 1,\n",
       "  'loop': 1,\n",
       "  'apples': 2,\n",
       "  'problem': 1,\n",
       "  'stunning': 1,\n",
       "  'ipad': 2,\n",
       "  'leaks': 1,\n",
       "  'air': 2,\n",
       "  'watch': 2,\n",
       "  'product': 2,\n",
       "  'design': 2,\n",
       "  'head': 2,\n",
       "  'to': 6,\n",
       "  'leave': 2,\n",
       "  'report': 3,\n",
       "  'latest': 2,\n",
       "  'moves': 1,\n",
       "  'in': 5,\n",
       "  'india': 4,\n",
       "  'underscore': 1,\n",
       "  'data': 1,\n",
       "  'showing': 1,\n",
       "  'its': 1,\n",
       "  'primed': 1,\n",
       "  'be': 2,\n",
       "  'next': 1,\n",
       "  'china': 1,\n",
       "  'noone': 1,\n",
       "  'cares': 1,\n",
       "  'which': 1,\n",
       "  'bank': 1,\n",
       "  'provides': 1,\n",
       "  'their': 1,\n",
       "  'card': 1,\n",
       "  'wants': 1,\n",
       "  'make': 1,\n",
       "  'iphones': 2,\n",
       "  'tata': 1,\n",
       "  'plans': 3,\n",
       "  'build': 1,\n",
       "  'countrys': 1,\n",
       "  'biggest': 1,\n",
       "  'factory': 1,\n",
       "  'for': 1,\n",
       "  'smartphone': 1,\n",
       "  'reports': 1,\n",
       "  'say': 1,\n",
       "  'reportedly': 2,\n",
       "  'major': 2,\n",
       "  'expansion': 2,\n",
       "  'of': 2,\n",
       "  'production': 2,\n",
       "  'adds': 1,\n",
       "  'namedroplike': 1,\n",
       "  'passsharing': 1,\n",
       "  'feature': 1,\n",
       "  'beta': 1,\n",
       "  'that': 1,\n",
       "  'presages': 1,\n",
       "  'similar': 1,\n",
       "  'accessibility': 1,\n",
       "  'gains': 1,\n",
       "  'allnew': 1,\n",
       "  'bigscreen': 1,\n",
       "  'model': 1,\n",
       "  'coming': 1,\n",
       "  'weeks': 1,\n",
       "  'says': 1,\n",
       "  'hints': 1,\n",
       "  'at': 1,\n",
       "  'early': 1,\n",
       "  'this': 1,\n",
       "  'app': 1,\n",
       "  'gives': 1,\n",
       "  'android': 1,\n",
       "  'users': 1,\n",
       "  'ability': 1,\n",
       "  'send': 1,\n",
       "  'bluebubble': 1,\n",
       "  'texts': 1,\n",
       "  'and': 1,\n",
       "  'cant': 1,\n",
       "  'happy': 1},\n",
       " {'apples': 4,\n",
       "  'awkward': 1,\n",
       "  'macbook': 3,\n",
       "  'pro': 2,\n",
       "  'may': 2,\n",
       "  'look': 1,\n",
       "  'attractive': 1,\n",
       "  'but': 1,\n",
       "  'there': 1,\n",
       "  'are': 1,\n",
       "  'far': 1,\n",
       "  'better': 1,\n",
       "  'options': 1,\n",
       "  'coming': 2,\n",
       "  'in': 5,\n",
       "  'early': 2,\n",
       "  'iphone': 9,\n",
       "  'to': 8,\n",
       "  'models': 1,\n",
       "  'will': 2,\n",
       "  'be': 2,\n",
       "  'the': 7,\n",
       "  'first': 1,\n",
       "  'benefit': 1,\n",
       "  'from': 2,\n",
       "  'upgrades': 1,\n",
       "  'that': 3,\n",
       "  'could': 1,\n",
       "  'change': 1,\n",
       "  'designs': 1,\n",
       "  'for': 4,\n",
       "  'years': 3,\n",
       "  'come': 2,\n",
       "  'and': 7,\n",
       "  'theres': 1,\n",
       "  'a': 9,\n",
       "  'big': 1,\n",
       "  'update': 1,\n",
       "  'its': 3,\n",
       "  'full': 1,\n",
       "  'of': 6,\n",
       "  'neat': 1,\n",
       "  'new': 4,\n",
       "  'features': 1,\n",
       "  'updates': 1,\n",
       "  'heres': 1,\n",
       "  'why': 1,\n",
       "  'it': 1,\n",
       "  'cant': 1,\n",
       "  'soon': 1,\n",
       "  'enough': 1,\n",
       "  'forget': 1,\n",
       "  'apple': 7,\n",
       "  'suddenly': 1,\n",
       "  'has': 1,\n",
       "  'major': 1,\n",
       "  'decision': 1,\n",
       "  'billionplus': 1,\n",
       "  'users': 2,\n",
       "  'this': 1,\n",
       "  'weeks': 1,\n",
       "  'headlines': 1,\n",
       "  'problem': 1,\n",
       "  'an': 2,\n",
       "  'air': 2,\n",
       "  'release': 1,\n",
       "  'larger': 1,\n",
       "  'ipad': 1,\n",
       "  'leaks': 1,\n",
       "  'usbc': 1,\n",
       "  'rules': 1,\n",
       "  'watch': 3,\n",
       "  'silicon': 1,\n",
       "  'secrets': 1,\n",
       "  'latest': 2,\n",
       "  'christmas': 1,\n",
       "  'tree': 1,\n",
       "  'decorations': 1,\n",
       "  'more': 1,\n",
       "  'tang': 2,\n",
       "  'tan': 2,\n",
       "  'inc': 4,\n",
       "  'executive': 2,\n",
       "  'who': 2,\n",
       "  'headed': 2,\n",
       "  'product': 2,\n",
       "  'design': 2,\n",
       "  'is': 6,\n",
       "  'leaving': 2,\n",
       "  'amid': 2,\n",
       "  'shakeup': 2,\n",
       "  'division': 2,\n",
       "  'responsible': 2,\n",
       "  'economy': 2,\n",
       "  'indias': 1,\n",
       "  'about': 1,\n",
       "  '½': 1,\n",
       "  'behind': 1,\n",
       "  'chinas': 1,\n",
       "  'according': 3,\n",
       "  'median': 1,\n",
       "  'estimate': 1,\n",
       "  'analysis': 1,\n",
       "  'recent': 1,\n",
       "  'bernstein': 1,\n",
       "  'note': 1,\n",
       "  'my': 2,\n",
       "  'i': 2,\n",
       "  'so': 1,\n",
       "  'long': 1,\n",
       "  'as': 1,\n",
       "  'rewards': 1,\n",
       "  'card': 1,\n",
       "  'works': 1,\n",
       "  'get': 1,\n",
       "  'points': 1,\n",
       "  'or': 1,\n",
       "  'whatever': 1,\n",
       "  'do': 1,\n",
       "  'not': 1,\n",
       "  'care': 1,\n",
       "  'which': 1,\n",
       "  'bank': 1,\n",
       "  'actually': 1,\n",
       "  'provides': 1,\n",
       "  'account': 1,\n",
       "  'wants': 1,\n",
       "  'expand': 1,\n",
       "  'indian': 1,\n",
       "  'manufacturing': 3,\n",
       "  'around': 1,\n",
       "  'million': 1,\n",
       "  'devices': 1,\n",
       "  'annually': 1,\n",
       "  'within': 1,\n",
       "  'next': 2,\n",
       "  'two': 1,\n",
       "  'three': 1,\n",
       "  'wall': 1,\n",
       "  'street': 1,\n",
       "  'journal': 1,\n",
       "  'reports': 4,\n",
       "  'planning': 2,\n",
       "  'massive': 2,\n",
       "  'expansion': 2,\n",
       "  'india': 2,\n",
       "  'multiple': 2,\n",
       "  'thursday': 2,\n",
       "  'feature': 1,\n",
       "  'bears': 1,\n",
       "  'strong': 1,\n",
       "  'resemblance': 1,\n",
       "  'existing': 1,\n",
       "  'namedrop': 1,\n",
       "  'functionality': 1,\n",
       "  'ios': 1,\n",
       "  'suggest': 1,\n",
       "  'four': 1,\n",
       "  'ipads': 1,\n",
       "  'here': 1,\n",
       "  'spring': 1,\n",
       "  'with': 1,\n",
       "  'one': 1,\n",
       "  'model': 1,\n",
       "  'thats': 1,\n",
       "  'radically': 1,\n",
       "  'different': 1,\n",
       "  'current': 1,\n",
       "  'ones': 1,\n",
       "  'laptops': 1,\n",
       "  'arrive': 1,\n",
       "  'earlier': 1,\n",
       "  'than': 1,\n",
       "  'expected': 1,\n",
       "  'beeper': 1,\n",
       "  'mini': 1,\n",
       "  'app': 1,\n",
       "  'gives': 1,\n",
       "  'android': 1,\n",
       "  'access': 1,\n",
       "  'imessage': 1,\n",
       "  'coveted': 1,\n",
       "  'blue': 1,\n",
       "  'bubbles': 1})"
      ]
     },
     "execution_count": 235,
     "metadata": {},
     "output_type": "execute_result"
    }
   ],
   "source": [
    "#Fonction qui transforme une colonne de dictionnaires d'un dataframe en un seul dictionnaire\n",
    "\n",
    "combined_dict_text=combine_dictionaries(df_analyse_1,'Most_common_text')\n",
    "combined_dict_description= combine_dictionaries(df_analyse_1, 'Most_common_description')\n",
    "\n",
    "combined_dict_text, combined_dict_description\n"
   ]
  },
  {
   "cell_type": "code",
   "execution_count": 236,
   "metadata": {},
   "outputs": [
    {
     "data": {
      "application/vnd.plotly.v1+json": {
       "config": {
        "plotlyServerURL": "https://plot.ly"
       },
       "data": [
        {
         "alignmentgroup": "True",
         "hovertemplate": "Mots=%{x}<br>Fréquences=%{y}<extra></extra>",
         "legendgroup": "",
         "marker": {
          "color": "#636efa",
          "pattern": {
           "shape": ""
          }
         },
         "name": "",
         "offsetgroup": "",
         "orientation": "v",
         "showlegend": false,
         "textposition": "auto",
         "type": "bar",
         "x": [
          "apple",
          "iphone",
          "to",
          "the",
          "in",
          "india",
          "new",
          "macbook",
          "surprise",
          "upgrade"
         ],
         "xaxis": "x",
         "y": [
          15,
          7,
          6,
          5,
          5,
          4,
          3,
          3,
          3,
          3
         ],
         "yaxis": "y"
        }
       ],
       "layout": {
        "barmode": "relative",
        "legend": {
         "tracegroupgap": 0
        },
        "template": {
         "data": {
          "bar": [
           {
            "error_x": {
             "color": "#2a3f5f"
            },
            "error_y": {
             "color": "#2a3f5f"
            },
            "marker": {
             "line": {
              "color": "#E5ECF6",
              "width": 0.5
             },
             "pattern": {
              "fillmode": "overlay",
              "size": 10,
              "solidity": 0.2
             }
            },
            "type": "bar"
           }
          ],
          "barpolar": [
           {
            "marker": {
             "line": {
              "color": "#E5ECF6",
              "width": 0.5
             },
             "pattern": {
              "fillmode": "overlay",
              "size": 10,
              "solidity": 0.2
             }
            },
            "type": "barpolar"
           }
          ],
          "carpet": [
           {
            "aaxis": {
             "endlinecolor": "#2a3f5f",
             "gridcolor": "white",
             "linecolor": "white",
             "minorgridcolor": "white",
             "startlinecolor": "#2a3f5f"
            },
            "baxis": {
             "endlinecolor": "#2a3f5f",
             "gridcolor": "white",
             "linecolor": "white",
             "minorgridcolor": "white",
             "startlinecolor": "#2a3f5f"
            },
            "type": "carpet"
           }
          ],
          "choropleth": [
           {
            "colorbar": {
             "outlinewidth": 0,
             "ticks": ""
            },
            "type": "choropleth"
           }
          ],
          "contour": [
           {
            "colorbar": {
             "outlinewidth": 0,
             "ticks": ""
            },
            "colorscale": [
             [
              0,
              "#0d0887"
             ],
             [
              0.1111111111111111,
              "#46039f"
             ],
             [
              0.2222222222222222,
              "#7201a8"
             ],
             [
              0.3333333333333333,
              "#9c179e"
             ],
             [
              0.4444444444444444,
              "#bd3786"
             ],
             [
              0.5555555555555556,
              "#d8576b"
             ],
             [
              0.6666666666666666,
              "#ed7953"
             ],
             [
              0.7777777777777778,
              "#fb9f3a"
             ],
             [
              0.8888888888888888,
              "#fdca26"
             ],
             [
              1,
              "#f0f921"
             ]
            ],
            "type": "contour"
           }
          ],
          "contourcarpet": [
           {
            "colorbar": {
             "outlinewidth": 0,
             "ticks": ""
            },
            "type": "contourcarpet"
           }
          ],
          "heatmap": [
           {
            "colorbar": {
             "outlinewidth": 0,
             "ticks": ""
            },
            "colorscale": [
             [
              0,
              "#0d0887"
             ],
             [
              0.1111111111111111,
              "#46039f"
             ],
             [
              0.2222222222222222,
              "#7201a8"
             ],
             [
              0.3333333333333333,
              "#9c179e"
             ],
             [
              0.4444444444444444,
              "#bd3786"
             ],
             [
              0.5555555555555556,
              "#d8576b"
             ],
             [
              0.6666666666666666,
              "#ed7953"
             ],
             [
              0.7777777777777778,
              "#fb9f3a"
             ],
             [
              0.8888888888888888,
              "#fdca26"
             ],
             [
              1,
              "#f0f921"
             ]
            ],
            "type": "heatmap"
           }
          ],
          "heatmapgl": [
           {
            "colorbar": {
             "outlinewidth": 0,
             "ticks": ""
            },
            "colorscale": [
             [
              0,
              "#0d0887"
             ],
             [
              0.1111111111111111,
              "#46039f"
             ],
             [
              0.2222222222222222,
              "#7201a8"
             ],
             [
              0.3333333333333333,
              "#9c179e"
             ],
             [
              0.4444444444444444,
              "#bd3786"
             ],
             [
              0.5555555555555556,
              "#d8576b"
             ],
             [
              0.6666666666666666,
              "#ed7953"
             ],
             [
              0.7777777777777778,
              "#fb9f3a"
             ],
             [
              0.8888888888888888,
              "#fdca26"
             ],
             [
              1,
              "#f0f921"
             ]
            ],
            "type": "heatmapgl"
           }
          ],
          "histogram": [
           {
            "marker": {
             "pattern": {
              "fillmode": "overlay",
              "size": 10,
              "solidity": 0.2
             }
            },
            "type": "histogram"
           }
          ],
          "histogram2d": [
           {
            "colorbar": {
             "outlinewidth": 0,
             "ticks": ""
            },
            "colorscale": [
             [
              0,
              "#0d0887"
             ],
             [
              0.1111111111111111,
              "#46039f"
             ],
             [
              0.2222222222222222,
              "#7201a8"
             ],
             [
              0.3333333333333333,
              "#9c179e"
             ],
             [
              0.4444444444444444,
              "#bd3786"
             ],
             [
              0.5555555555555556,
              "#d8576b"
             ],
             [
              0.6666666666666666,
              "#ed7953"
             ],
             [
              0.7777777777777778,
              "#fb9f3a"
             ],
             [
              0.8888888888888888,
              "#fdca26"
             ],
             [
              1,
              "#f0f921"
             ]
            ],
            "type": "histogram2d"
           }
          ],
          "histogram2dcontour": [
           {
            "colorbar": {
             "outlinewidth": 0,
             "ticks": ""
            },
            "colorscale": [
             [
              0,
              "#0d0887"
             ],
             [
              0.1111111111111111,
              "#46039f"
             ],
             [
              0.2222222222222222,
              "#7201a8"
             ],
             [
              0.3333333333333333,
              "#9c179e"
             ],
             [
              0.4444444444444444,
              "#bd3786"
             ],
             [
              0.5555555555555556,
              "#d8576b"
             ],
             [
              0.6666666666666666,
              "#ed7953"
             ],
             [
              0.7777777777777778,
              "#fb9f3a"
             ],
             [
              0.8888888888888888,
              "#fdca26"
             ],
             [
              1,
              "#f0f921"
             ]
            ],
            "type": "histogram2dcontour"
           }
          ],
          "mesh3d": [
           {
            "colorbar": {
             "outlinewidth": 0,
             "ticks": ""
            },
            "type": "mesh3d"
           }
          ],
          "parcoords": [
           {
            "line": {
             "colorbar": {
              "outlinewidth": 0,
              "ticks": ""
             }
            },
            "type": "parcoords"
           }
          ],
          "pie": [
           {
            "automargin": true,
            "type": "pie"
           }
          ],
          "scatter": [
           {
            "fillpattern": {
             "fillmode": "overlay",
             "size": 10,
             "solidity": 0.2
            },
            "type": "scatter"
           }
          ],
          "scatter3d": [
           {
            "line": {
             "colorbar": {
              "outlinewidth": 0,
              "ticks": ""
             }
            },
            "marker": {
             "colorbar": {
              "outlinewidth": 0,
              "ticks": ""
             }
            },
            "type": "scatter3d"
           }
          ],
          "scattercarpet": [
           {
            "marker": {
             "colorbar": {
              "outlinewidth": 0,
              "ticks": ""
             }
            },
            "type": "scattercarpet"
           }
          ],
          "scattergeo": [
           {
            "marker": {
             "colorbar": {
              "outlinewidth": 0,
              "ticks": ""
             }
            },
            "type": "scattergeo"
           }
          ],
          "scattergl": [
           {
            "marker": {
             "colorbar": {
              "outlinewidth": 0,
              "ticks": ""
             }
            },
            "type": "scattergl"
           }
          ],
          "scattermapbox": [
           {
            "marker": {
             "colorbar": {
              "outlinewidth": 0,
              "ticks": ""
             }
            },
            "type": "scattermapbox"
           }
          ],
          "scatterpolar": [
           {
            "marker": {
             "colorbar": {
              "outlinewidth": 0,
              "ticks": ""
             }
            },
            "type": "scatterpolar"
           }
          ],
          "scatterpolargl": [
           {
            "marker": {
             "colorbar": {
              "outlinewidth": 0,
              "ticks": ""
             }
            },
            "type": "scatterpolargl"
           }
          ],
          "scatterternary": [
           {
            "marker": {
             "colorbar": {
              "outlinewidth": 0,
              "ticks": ""
             }
            },
            "type": "scatterternary"
           }
          ],
          "surface": [
           {
            "colorbar": {
             "outlinewidth": 0,
             "ticks": ""
            },
            "colorscale": [
             [
              0,
              "#0d0887"
             ],
             [
              0.1111111111111111,
              "#46039f"
             ],
             [
              0.2222222222222222,
              "#7201a8"
             ],
             [
              0.3333333333333333,
              "#9c179e"
             ],
             [
              0.4444444444444444,
              "#bd3786"
             ],
             [
              0.5555555555555556,
              "#d8576b"
             ],
             [
              0.6666666666666666,
              "#ed7953"
             ],
             [
              0.7777777777777778,
              "#fb9f3a"
             ],
             [
              0.8888888888888888,
              "#fdca26"
             ],
             [
              1,
              "#f0f921"
             ]
            ],
            "type": "surface"
           }
          ],
          "table": [
           {
            "cells": {
             "fill": {
              "color": "#EBF0F8"
             },
             "line": {
              "color": "white"
             }
            },
            "header": {
             "fill": {
              "color": "#C8D4E3"
             },
             "line": {
              "color": "white"
             }
            },
            "type": "table"
           }
          ]
         },
         "layout": {
          "annotationdefaults": {
           "arrowcolor": "#2a3f5f",
           "arrowhead": 0,
           "arrowwidth": 1
          },
          "autotypenumbers": "strict",
          "coloraxis": {
           "colorbar": {
            "outlinewidth": 0,
            "ticks": ""
           }
          },
          "colorscale": {
           "diverging": [
            [
             0,
             "#8e0152"
            ],
            [
             0.1,
             "#c51b7d"
            ],
            [
             0.2,
             "#de77ae"
            ],
            [
             0.3,
             "#f1b6da"
            ],
            [
             0.4,
             "#fde0ef"
            ],
            [
             0.5,
             "#f7f7f7"
            ],
            [
             0.6,
             "#e6f5d0"
            ],
            [
             0.7,
             "#b8e186"
            ],
            [
             0.8,
             "#7fbc41"
            ],
            [
             0.9,
             "#4d9221"
            ],
            [
             1,
             "#276419"
            ]
           ],
           "sequential": [
            [
             0,
             "#0d0887"
            ],
            [
             0.1111111111111111,
             "#46039f"
            ],
            [
             0.2222222222222222,
             "#7201a8"
            ],
            [
             0.3333333333333333,
             "#9c179e"
            ],
            [
             0.4444444444444444,
             "#bd3786"
            ],
            [
             0.5555555555555556,
             "#d8576b"
            ],
            [
             0.6666666666666666,
             "#ed7953"
            ],
            [
             0.7777777777777778,
             "#fb9f3a"
            ],
            [
             0.8888888888888888,
             "#fdca26"
            ],
            [
             1,
             "#f0f921"
            ]
           ],
           "sequentialminus": [
            [
             0,
             "#0d0887"
            ],
            [
             0.1111111111111111,
             "#46039f"
            ],
            [
             0.2222222222222222,
             "#7201a8"
            ],
            [
             0.3333333333333333,
             "#9c179e"
            ],
            [
             0.4444444444444444,
             "#bd3786"
            ],
            [
             0.5555555555555556,
             "#d8576b"
            ],
            [
             0.6666666666666666,
             "#ed7953"
            ],
            [
             0.7777777777777778,
             "#fb9f3a"
            ],
            [
             0.8888888888888888,
             "#fdca26"
            ],
            [
             1,
             "#f0f921"
            ]
           ]
          },
          "colorway": [
           "#636efa",
           "#EF553B",
           "#00cc96",
           "#ab63fa",
           "#FFA15A",
           "#19d3f3",
           "#FF6692",
           "#B6E880",
           "#FF97FF",
           "#FECB52"
          ],
          "font": {
           "color": "#2a3f5f"
          },
          "geo": {
           "bgcolor": "white",
           "lakecolor": "white",
           "landcolor": "#E5ECF6",
           "showlakes": true,
           "showland": true,
           "subunitcolor": "white"
          },
          "hoverlabel": {
           "align": "left"
          },
          "hovermode": "closest",
          "mapbox": {
           "style": "light"
          },
          "paper_bgcolor": "white",
          "plot_bgcolor": "#E5ECF6",
          "polar": {
           "angularaxis": {
            "gridcolor": "white",
            "linecolor": "white",
            "ticks": ""
           },
           "bgcolor": "#E5ECF6",
           "radialaxis": {
            "gridcolor": "white",
            "linecolor": "white",
            "ticks": ""
           }
          },
          "scene": {
           "xaxis": {
            "backgroundcolor": "#E5ECF6",
            "gridcolor": "white",
            "gridwidth": 2,
            "linecolor": "white",
            "showbackground": true,
            "ticks": "",
            "zerolinecolor": "white"
           },
           "yaxis": {
            "backgroundcolor": "#E5ECF6",
            "gridcolor": "white",
            "gridwidth": 2,
            "linecolor": "white",
            "showbackground": true,
            "ticks": "",
            "zerolinecolor": "white"
           },
           "zaxis": {
            "backgroundcolor": "#E5ECF6",
            "gridcolor": "white",
            "gridwidth": 2,
            "linecolor": "white",
            "showbackground": true,
            "ticks": "",
            "zerolinecolor": "white"
           }
          },
          "shapedefaults": {
           "line": {
            "color": "#2a3f5f"
           }
          },
          "ternary": {
           "aaxis": {
            "gridcolor": "white",
            "linecolor": "white",
            "ticks": ""
           },
           "baxis": {
            "gridcolor": "white",
            "linecolor": "white",
            "ticks": ""
           },
           "bgcolor": "#E5ECF6",
           "caxis": {
            "gridcolor": "white",
            "linecolor": "white",
            "ticks": ""
           }
          },
          "title": {
           "x": 0.05
          },
          "xaxis": {
           "automargin": true,
           "gridcolor": "white",
           "linecolor": "white",
           "ticks": "",
           "title": {
            "standoff": 15
           },
           "zerolinecolor": "white",
           "zerolinewidth": 2
          },
          "yaxis": {
           "automargin": true,
           "gridcolor": "white",
           "linecolor": "white",
           "ticks": "",
           "title": {
            "standoff": 15
           },
           "zerolinecolor": "white",
           "zerolinewidth": 2
          }
         }
        },
        "title": {
         "text": "Top 10 des mots les plus fréquents dans les titres d'articles récupérés"
        },
        "xaxis": {
         "anchor": "y",
         "domain": [
          0,
          1
         ],
         "title": {
          "text": "Mots"
         }
        },
        "yaxis": {
         "anchor": "x",
         "domain": [
          0,
          1
         ],
         "title": {
          "text": "Fréquences"
         }
        }
       }
      }
     },
     "metadata": {},
     "output_type": "display_data"
    }
   ],
   "source": [
    "import plotly.express as px\n",
    "from collections import Counter\n",
    "\n",
    "sorted_text_dictionary=sorted(combined_dict_text.items(), key= lambda item:item[1], reverse=True)[:10]\n",
    "\n",
    "keys=[key for key, value in sorted_text_dictionary]\n",
    "values=[value for key, value in sorted_text_dictionary]\n",
    "\n",
    "\n",
    "fig = px.bar(x=keys, y=values, title=\"Top 10 des mots les plus fréquents dans les titres d'articles récupérés\", labels={'x':'Mots', 'y':'Fréquences'})\n",
    "fig.show()\n"
   ]
  },
  {
   "cell_type": "code",
   "execution_count": 237,
   "metadata": {},
   "outputs": [
    {
     "data": {
      "application/vnd.plotly.v1+json": {
       "config": {
        "plotlyServerURL": "https://plot.ly"
       },
       "data": [
        {
         "alignmentgroup": "True",
         "hovertemplate": "Mots=%{x}<br>Fréquences=%{y}<extra></extra>",
         "legendgroup": "",
         "marker": {
          "color": "#636efa",
          "pattern": {
           "shape": ""
          }
         },
         "name": "",
         "offsetgroup": "",
         "orientation": "v",
         "showlegend": false,
         "textposition": "auto",
         "type": "bar",
         "x": [
          "iphone",
          "a",
          "to",
          "the",
          "and",
          "apple",
          "of",
          "is",
          "in",
          "apples"
         ],
         "xaxis": "x",
         "y": [
          9,
          9,
          8,
          7,
          7,
          7,
          6,
          6,
          5,
          4
         ],
         "yaxis": "y"
        }
       ],
       "layout": {
        "barmode": "relative",
        "legend": {
         "tracegroupgap": 0
        },
        "template": {
         "data": {
          "bar": [
           {
            "error_x": {
             "color": "#2a3f5f"
            },
            "error_y": {
             "color": "#2a3f5f"
            },
            "marker": {
             "line": {
              "color": "#E5ECF6",
              "width": 0.5
             },
             "pattern": {
              "fillmode": "overlay",
              "size": 10,
              "solidity": 0.2
             }
            },
            "type": "bar"
           }
          ],
          "barpolar": [
           {
            "marker": {
             "line": {
              "color": "#E5ECF6",
              "width": 0.5
             },
             "pattern": {
              "fillmode": "overlay",
              "size": 10,
              "solidity": 0.2
             }
            },
            "type": "barpolar"
           }
          ],
          "carpet": [
           {
            "aaxis": {
             "endlinecolor": "#2a3f5f",
             "gridcolor": "white",
             "linecolor": "white",
             "minorgridcolor": "white",
             "startlinecolor": "#2a3f5f"
            },
            "baxis": {
             "endlinecolor": "#2a3f5f",
             "gridcolor": "white",
             "linecolor": "white",
             "minorgridcolor": "white",
             "startlinecolor": "#2a3f5f"
            },
            "type": "carpet"
           }
          ],
          "choropleth": [
           {
            "colorbar": {
             "outlinewidth": 0,
             "ticks": ""
            },
            "type": "choropleth"
           }
          ],
          "contour": [
           {
            "colorbar": {
             "outlinewidth": 0,
             "ticks": ""
            },
            "colorscale": [
             [
              0,
              "#0d0887"
             ],
             [
              0.1111111111111111,
              "#46039f"
             ],
             [
              0.2222222222222222,
              "#7201a8"
             ],
             [
              0.3333333333333333,
              "#9c179e"
             ],
             [
              0.4444444444444444,
              "#bd3786"
             ],
             [
              0.5555555555555556,
              "#d8576b"
             ],
             [
              0.6666666666666666,
              "#ed7953"
             ],
             [
              0.7777777777777778,
              "#fb9f3a"
             ],
             [
              0.8888888888888888,
              "#fdca26"
             ],
             [
              1,
              "#f0f921"
             ]
            ],
            "type": "contour"
           }
          ],
          "contourcarpet": [
           {
            "colorbar": {
             "outlinewidth": 0,
             "ticks": ""
            },
            "type": "contourcarpet"
           }
          ],
          "heatmap": [
           {
            "colorbar": {
             "outlinewidth": 0,
             "ticks": ""
            },
            "colorscale": [
             [
              0,
              "#0d0887"
             ],
             [
              0.1111111111111111,
              "#46039f"
             ],
             [
              0.2222222222222222,
              "#7201a8"
             ],
             [
              0.3333333333333333,
              "#9c179e"
             ],
             [
              0.4444444444444444,
              "#bd3786"
             ],
             [
              0.5555555555555556,
              "#d8576b"
             ],
             [
              0.6666666666666666,
              "#ed7953"
             ],
             [
              0.7777777777777778,
              "#fb9f3a"
             ],
             [
              0.8888888888888888,
              "#fdca26"
             ],
             [
              1,
              "#f0f921"
             ]
            ],
            "type": "heatmap"
           }
          ],
          "heatmapgl": [
           {
            "colorbar": {
             "outlinewidth": 0,
             "ticks": ""
            },
            "colorscale": [
             [
              0,
              "#0d0887"
             ],
             [
              0.1111111111111111,
              "#46039f"
             ],
             [
              0.2222222222222222,
              "#7201a8"
             ],
             [
              0.3333333333333333,
              "#9c179e"
             ],
             [
              0.4444444444444444,
              "#bd3786"
             ],
             [
              0.5555555555555556,
              "#d8576b"
             ],
             [
              0.6666666666666666,
              "#ed7953"
             ],
             [
              0.7777777777777778,
              "#fb9f3a"
             ],
             [
              0.8888888888888888,
              "#fdca26"
             ],
             [
              1,
              "#f0f921"
             ]
            ],
            "type": "heatmapgl"
           }
          ],
          "histogram": [
           {
            "marker": {
             "pattern": {
              "fillmode": "overlay",
              "size": 10,
              "solidity": 0.2
             }
            },
            "type": "histogram"
           }
          ],
          "histogram2d": [
           {
            "colorbar": {
             "outlinewidth": 0,
             "ticks": ""
            },
            "colorscale": [
             [
              0,
              "#0d0887"
             ],
             [
              0.1111111111111111,
              "#46039f"
             ],
             [
              0.2222222222222222,
              "#7201a8"
             ],
             [
              0.3333333333333333,
              "#9c179e"
             ],
             [
              0.4444444444444444,
              "#bd3786"
             ],
             [
              0.5555555555555556,
              "#d8576b"
             ],
             [
              0.6666666666666666,
              "#ed7953"
             ],
             [
              0.7777777777777778,
              "#fb9f3a"
             ],
             [
              0.8888888888888888,
              "#fdca26"
             ],
             [
              1,
              "#f0f921"
             ]
            ],
            "type": "histogram2d"
           }
          ],
          "histogram2dcontour": [
           {
            "colorbar": {
             "outlinewidth": 0,
             "ticks": ""
            },
            "colorscale": [
             [
              0,
              "#0d0887"
             ],
             [
              0.1111111111111111,
              "#46039f"
             ],
             [
              0.2222222222222222,
              "#7201a8"
             ],
             [
              0.3333333333333333,
              "#9c179e"
             ],
             [
              0.4444444444444444,
              "#bd3786"
             ],
             [
              0.5555555555555556,
              "#d8576b"
             ],
             [
              0.6666666666666666,
              "#ed7953"
             ],
             [
              0.7777777777777778,
              "#fb9f3a"
             ],
             [
              0.8888888888888888,
              "#fdca26"
             ],
             [
              1,
              "#f0f921"
             ]
            ],
            "type": "histogram2dcontour"
           }
          ],
          "mesh3d": [
           {
            "colorbar": {
             "outlinewidth": 0,
             "ticks": ""
            },
            "type": "mesh3d"
           }
          ],
          "parcoords": [
           {
            "line": {
             "colorbar": {
              "outlinewidth": 0,
              "ticks": ""
             }
            },
            "type": "parcoords"
           }
          ],
          "pie": [
           {
            "automargin": true,
            "type": "pie"
           }
          ],
          "scatter": [
           {
            "fillpattern": {
             "fillmode": "overlay",
             "size": 10,
             "solidity": 0.2
            },
            "type": "scatter"
           }
          ],
          "scatter3d": [
           {
            "line": {
             "colorbar": {
              "outlinewidth": 0,
              "ticks": ""
             }
            },
            "marker": {
             "colorbar": {
              "outlinewidth": 0,
              "ticks": ""
             }
            },
            "type": "scatter3d"
           }
          ],
          "scattercarpet": [
           {
            "marker": {
             "colorbar": {
              "outlinewidth": 0,
              "ticks": ""
             }
            },
            "type": "scattercarpet"
           }
          ],
          "scattergeo": [
           {
            "marker": {
             "colorbar": {
              "outlinewidth": 0,
              "ticks": ""
             }
            },
            "type": "scattergeo"
           }
          ],
          "scattergl": [
           {
            "marker": {
             "colorbar": {
              "outlinewidth": 0,
              "ticks": ""
             }
            },
            "type": "scattergl"
           }
          ],
          "scattermapbox": [
           {
            "marker": {
             "colorbar": {
              "outlinewidth": 0,
              "ticks": ""
             }
            },
            "type": "scattermapbox"
           }
          ],
          "scatterpolar": [
           {
            "marker": {
             "colorbar": {
              "outlinewidth": 0,
              "ticks": ""
             }
            },
            "type": "scatterpolar"
           }
          ],
          "scatterpolargl": [
           {
            "marker": {
             "colorbar": {
              "outlinewidth": 0,
              "ticks": ""
             }
            },
            "type": "scatterpolargl"
           }
          ],
          "scatterternary": [
           {
            "marker": {
             "colorbar": {
              "outlinewidth": 0,
              "ticks": ""
             }
            },
            "type": "scatterternary"
           }
          ],
          "surface": [
           {
            "colorbar": {
             "outlinewidth": 0,
             "ticks": ""
            },
            "colorscale": [
             [
              0,
              "#0d0887"
             ],
             [
              0.1111111111111111,
              "#46039f"
             ],
             [
              0.2222222222222222,
              "#7201a8"
             ],
             [
              0.3333333333333333,
              "#9c179e"
             ],
             [
              0.4444444444444444,
              "#bd3786"
             ],
             [
              0.5555555555555556,
              "#d8576b"
             ],
             [
              0.6666666666666666,
              "#ed7953"
             ],
             [
              0.7777777777777778,
              "#fb9f3a"
             ],
             [
              0.8888888888888888,
              "#fdca26"
             ],
             [
              1,
              "#f0f921"
             ]
            ],
            "type": "surface"
           }
          ],
          "table": [
           {
            "cells": {
             "fill": {
              "color": "#EBF0F8"
             },
             "line": {
              "color": "white"
             }
            },
            "header": {
             "fill": {
              "color": "#C8D4E3"
             },
             "line": {
              "color": "white"
             }
            },
            "type": "table"
           }
          ]
         },
         "layout": {
          "annotationdefaults": {
           "arrowcolor": "#2a3f5f",
           "arrowhead": 0,
           "arrowwidth": 1
          },
          "autotypenumbers": "strict",
          "coloraxis": {
           "colorbar": {
            "outlinewidth": 0,
            "ticks": ""
           }
          },
          "colorscale": {
           "diverging": [
            [
             0,
             "#8e0152"
            ],
            [
             0.1,
             "#c51b7d"
            ],
            [
             0.2,
             "#de77ae"
            ],
            [
             0.3,
             "#f1b6da"
            ],
            [
             0.4,
             "#fde0ef"
            ],
            [
             0.5,
             "#f7f7f7"
            ],
            [
             0.6,
             "#e6f5d0"
            ],
            [
             0.7,
             "#b8e186"
            ],
            [
             0.8,
             "#7fbc41"
            ],
            [
             0.9,
             "#4d9221"
            ],
            [
             1,
             "#276419"
            ]
           ],
           "sequential": [
            [
             0,
             "#0d0887"
            ],
            [
             0.1111111111111111,
             "#46039f"
            ],
            [
             0.2222222222222222,
             "#7201a8"
            ],
            [
             0.3333333333333333,
             "#9c179e"
            ],
            [
             0.4444444444444444,
             "#bd3786"
            ],
            [
             0.5555555555555556,
             "#d8576b"
            ],
            [
             0.6666666666666666,
             "#ed7953"
            ],
            [
             0.7777777777777778,
             "#fb9f3a"
            ],
            [
             0.8888888888888888,
             "#fdca26"
            ],
            [
             1,
             "#f0f921"
            ]
           ],
           "sequentialminus": [
            [
             0,
             "#0d0887"
            ],
            [
             0.1111111111111111,
             "#46039f"
            ],
            [
             0.2222222222222222,
             "#7201a8"
            ],
            [
             0.3333333333333333,
             "#9c179e"
            ],
            [
             0.4444444444444444,
             "#bd3786"
            ],
            [
             0.5555555555555556,
             "#d8576b"
            ],
            [
             0.6666666666666666,
             "#ed7953"
            ],
            [
             0.7777777777777778,
             "#fb9f3a"
            ],
            [
             0.8888888888888888,
             "#fdca26"
            ],
            [
             1,
             "#f0f921"
            ]
           ]
          },
          "colorway": [
           "#636efa",
           "#EF553B",
           "#00cc96",
           "#ab63fa",
           "#FFA15A",
           "#19d3f3",
           "#FF6692",
           "#B6E880",
           "#FF97FF",
           "#FECB52"
          ],
          "font": {
           "color": "#2a3f5f"
          },
          "geo": {
           "bgcolor": "white",
           "lakecolor": "white",
           "landcolor": "#E5ECF6",
           "showlakes": true,
           "showland": true,
           "subunitcolor": "white"
          },
          "hoverlabel": {
           "align": "left"
          },
          "hovermode": "closest",
          "mapbox": {
           "style": "light"
          },
          "paper_bgcolor": "white",
          "plot_bgcolor": "#E5ECF6",
          "polar": {
           "angularaxis": {
            "gridcolor": "white",
            "linecolor": "white",
            "ticks": ""
           },
           "bgcolor": "#E5ECF6",
           "radialaxis": {
            "gridcolor": "white",
            "linecolor": "white",
            "ticks": ""
           }
          },
          "scene": {
           "xaxis": {
            "backgroundcolor": "#E5ECF6",
            "gridcolor": "white",
            "gridwidth": 2,
            "linecolor": "white",
            "showbackground": true,
            "ticks": "",
            "zerolinecolor": "white"
           },
           "yaxis": {
            "backgroundcolor": "#E5ECF6",
            "gridcolor": "white",
            "gridwidth": 2,
            "linecolor": "white",
            "showbackground": true,
            "ticks": "",
            "zerolinecolor": "white"
           },
           "zaxis": {
            "backgroundcolor": "#E5ECF6",
            "gridcolor": "white",
            "gridwidth": 2,
            "linecolor": "white",
            "showbackground": true,
            "ticks": "",
            "zerolinecolor": "white"
           }
          },
          "shapedefaults": {
           "line": {
            "color": "#2a3f5f"
           }
          },
          "ternary": {
           "aaxis": {
            "gridcolor": "white",
            "linecolor": "white",
            "ticks": ""
           },
           "baxis": {
            "gridcolor": "white",
            "linecolor": "white",
            "ticks": ""
           },
           "bgcolor": "#E5ECF6",
           "caxis": {
            "gridcolor": "white",
            "linecolor": "white",
            "ticks": ""
           }
          },
          "title": {
           "x": 0.05
          },
          "xaxis": {
           "automargin": true,
           "gridcolor": "white",
           "linecolor": "white",
           "ticks": "",
           "title": {
            "standoff": 15
           },
           "zerolinecolor": "white",
           "zerolinewidth": 2
          },
          "yaxis": {
           "automargin": true,
           "gridcolor": "white",
           "linecolor": "white",
           "ticks": "",
           "title": {
            "standoff": 15
           },
           "zerolinecolor": "white",
           "zerolinewidth": 2
          }
         }
        },
        "title": {
         "text": "Top 10 des mots les plus fréquents dans les descriptions d'articles récupérés"
        },
        "xaxis": {
         "anchor": "y",
         "domain": [
          0,
          1
         ],
         "title": {
          "text": "Mots"
         }
        },
        "yaxis": {
         "anchor": "x",
         "domain": [
          0,
          1
         ],
         "title": {
          "text": "Fréquences"
         }
        }
       }
      }
     },
     "metadata": {},
     "output_type": "display_data"
    }
   ],
   "source": [
    "import plotly.express as px\n",
    "from collections import Counter\n",
    "\n",
    "sorted_description_dictionary=sorted(combined_dict_description.items(), key= lambda item:item[1], reverse=True)[:10]\n",
    "\n",
    "keys=[key for key, value in sorted_description_dictionary]\n",
    "values=[value for key, value in sorted_description_dictionary]\n",
    "\n",
    "\n",
    "fig = px.bar(x=keys, y=values, title=\"Top 10 des mots les plus fréquents dans les descriptions d'articles récupérés\", labels={'x':'Mots', 'y':'Fréquences'})\n",
    "fig.show()"
   ]
  },
  {
   "cell_type": "markdown",
   "metadata": {},
   "source": [
    "On observe aisément l'omniprésence de mots récurrents (stopwords) dans le corpus étudié. Nous allons donc les enlever et ensuite procéder à la deuxième étape de préparation du texte qui consistera en une lemmatisation et une analyse plus poussée."
   ]
  },
  {
   "cell_type": "code",
   "execution_count": 203,
   "metadata": {},
   "outputs": [
    {
     "name": "stdout",
     "output_type": "stream",
     "text": [
      "Defaulting to user installation because normal site-packages is not writeable\n",
      "Requirement already satisfied: nltk in /Users/dabadieraphael/Library/Python/3.9/lib/python/site-packages (3.8.1)\n",
      "Requirement already satisfied: joblib in /Users/dabadieraphael/Library/Python/3.9/lib/python/site-packages (from nltk) (1.3.2)\n",
      "Requirement already satisfied: click in /Users/dabadieraphael/Library/Python/3.9/lib/python/site-packages (from nltk) (8.1.7)\n",
      "Requirement already satisfied: tqdm in /Users/dabadieraphael/Library/Python/3.9/lib/python/site-packages (from nltk) (4.66.1)\n",
      "Requirement already satisfied: regex>=2021.8.3 in /Users/dabadieraphael/Library/Python/3.9/lib/python/site-packages (from nltk) (2023.10.3)\n",
      "\u001b[33mWARNING: You are using pip version 21.2.4; however, version 23.3.1 is available.\n",
      "You should consider upgrading via the '/Library/Developer/CommandLineTools/usr/bin/python3 -m pip install --upgrade pip' command.\u001b[0m\n",
      "Note: you may need to restart the kernel to use updated packages.\n"
     ]
    }
   ],
   "source": [
    "pip install nltk"
   ]
  },
  {
   "cell_type": "code",
   "execution_count": 204,
   "metadata": {},
   "outputs": [
    {
     "name": "stderr",
     "output_type": "stream",
     "text": [
      "[nltk_data] Downloading package stopwords to\n",
      "[nltk_data]     /Users/dabadieraphael/nltk_data...\n",
      "[nltk_data]   Package stopwords is already up-to-date!\n",
      "[nltk_data] Downloading package punkt to\n",
      "[nltk_data]     /Users/dabadieraphael/nltk_data...\n",
      "[nltk_data]   Package punkt is already up-to-date!\n",
      "[nltk_data] Downloading package genesis to\n",
      "[nltk_data]     /Users/dabadieraphael/nltk_data...\n",
      "[nltk_data]   Package genesis is already up-to-date!\n",
      "[nltk_data] Downloading package wordnet to\n",
      "[nltk_data]     /Users/dabadieraphael/nltk_data...\n",
      "[nltk_data]   Package wordnet is already up-to-date!\n",
      "[nltk_data] Downloading package omw-1.4 to\n",
      "[nltk_data]     /Users/dabadieraphael/nltk_data...\n",
      "[nltk_data]   Package omw-1.4 is already up-to-date!\n"
     ]
    },
    {
     "data": {
      "text/plain": [
       "True"
      ]
     },
     "execution_count": 204,
     "metadata": {},
     "output_type": "execute_result"
    }
   ],
   "source": [
    "import nltk\n",
    "nltk.download('stopwords')\n",
    "nltk.download('punkt')\n",
    "nltk.download('genesis')\n",
    "nltk.download('wordnet')\n",
    "nltk.download('omw-1.4')"
   ]
  },
  {
   "cell_type": "code",
   "execution_count": 238,
   "metadata": {},
   "outputs": [],
   "source": [
    "import nltk\n",
    "from nltk.corpus import stopwords\n",
    "from nltk.stem import WordNetLemmatizer\n",
    "from nltk.tokenize import word_tokenize\n",
    "\n",
    "df_analyse_1['Titre_cleaned_stopwords']=df_analyse_1['Titre_cleaned'].apply(clean_stopwords)\n",
    "df_analyse_1['Description_cleaned_stopwords']=df_analyse_1['Description_cleaned'].apply(clean_stopwords)\n"
   ]
  },
  {
   "cell_type": "code",
   "execution_count": 239,
   "metadata": {},
   "outputs": [
    {
     "data": {
      "application/vnd.plotly.v1+json": {
       "config": {
        "plotlyServerURL": "https://plot.ly"
       },
       "data": [
        {
         "alignmentgroup": "True",
         "hovertemplate": "Mots=%{x}<br>Fréquences=%{y}<extra></extra>",
         "legendgroup": "",
         "marker": {
          "color": "#636efa",
          "pattern": {
           "shape": ""
          }
         },
         "name": "",
         "offsetgroup": "",
         "orientation": "v",
         "showlegend": false,
         "textposition": "auto",
         "type": "bar",
         "x": [
          "apple",
          "iphone",
          "india",
          "new",
          "macbook",
          "surprise",
          "upgrade",
          "report",
          "plans",
          "pro"
         ],
         "xaxis": "x",
         "y": [
          15,
          7,
          4,
          3,
          3,
          3,
          3,
          3,
          3,
          2
         ],
         "yaxis": "y"
        }
       ],
       "layout": {
        "barmode": "relative",
        "legend": {
         "tracegroupgap": 0
        },
        "template": {
         "data": {
          "bar": [
           {
            "error_x": {
             "color": "#2a3f5f"
            },
            "error_y": {
             "color": "#2a3f5f"
            },
            "marker": {
             "line": {
              "color": "#E5ECF6",
              "width": 0.5
             },
             "pattern": {
              "fillmode": "overlay",
              "size": 10,
              "solidity": 0.2
             }
            },
            "type": "bar"
           }
          ],
          "barpolar": [
           {
            "marker": {
             "line": {
              "color": "#E5ECF6",
              "width": 0.5
             },
             "pattern": {
              "fillmode": "overlay",
              "size": 10,
              "solidity": 0.2
             }
            },
            "type": "barpolar"
           }
          ],
          "carpet": [
           {
            "aaxis": {
             "endlinecolor": "#2a3f5f",
             "gridcolor": "white",
             "linecolor": "white",
             "minorgridcolor": "white",
             "startlinecolor": "#2a3f5f"
            },
            "baxis": {
             "endlinecolor": "#2a3f5f",
             "gridcolor": "white",
             "linecolor": "white",
             "minorgridcolor": "white",
             "startlinecolor": "#2a3f5f"
            },
            "type": "carpet"
           }
          ],
          "choropleth": [
           {
            "colorbar": {
             "outlinewidth": 0,
             "ticks": ""
            },
            "type": "choropleth"
           }
          ],
          "contour": [
           {
            "colorbar": {
             "outlinewidth": 0,
             "ticks": ""
            },
            "colorscale": [
             [
              0,
              "#0d0887"
             ],
             [
              0.1111111111111111,
              "#46039f"
             ],
             [
              0.2222222222222222,
              "#7201a8"
             ],
             [
              0.3333333333333333,
              "#9c179e"
             ],
             [
              0.4444444444444444,
              "#bd3786"
             ],
             [
              0.5555555555555556,
              "#d8576b"
             ],
             [
              0.6666666666666666,
              "#ed7953"
             ],
             [
              0.7777777777777778,
              "#fb9f3a"
             ],
             [
              0.8888888888888888,
              "#fdca26"
             ],
             [
              1,
              "#f0f921"
             ]
            ],
            "type": "contour"
           }
          ],
          "contourcarpet": [
           {
            "colorbar": {
             "outlinewidth": 0,
             "ticks": ""
            },
            "type": "contourcarpet"
           }
          ],
          "heatmap": [
           {
            "colorbar": {
             "outlinewidth": 0,
             "ticks": ""
            },
            "colorscale": [
             [
              0,
              "#0d0887"
             ],
             [
              0.1111111111111111,
              "#46039f"
             ],
             [
              0.2222222222222222,
              "#7201a8"
             ],
             [
              0.3333333333333333,
              "#9c179e"
             ],
             [
              0.4444444444444444,
              "#bd3786"
             ],
             [
              0.5555555555555556,
              "#d8576b"
             ],
             [
              0.6666666666666666,
              "#ed7953"
             ],
             [
              0.7777777777777778,
              "#fb9f3a"
             ],
             [
              0.8888888888888888,
              "#fdca26"
             ],
             [
              1,
              "#f0f921"
             ]
            ],
            "type": "heatmap"
           }
          ],
          "heatmapgl": [
           {
            "colorbar": {
             "outlinewidth": 0,
             "ticks": ""
            },
            "colorscale": [
             [
              0,
              "#0d0887"
             ],
             [
              0.1111111111111111,
              "#46039f"
             ],
             [
              0.2222222222222222,
              "#7201a8"
             ],
             [
              0.3333333333333333,
              "#9c179e"
             ],
             [
              0.4444444444444444,
              "#bd3786"
             ],
             [
              0.5555555555555556,
              "#d8576b"
             ],
             [
              0.6666666666666666,
              "#ed7953"
             ],
             [
              0.7777777777777778,
              "#fb9f3a"
             ],
             [
              0.8888888888888888,
              "#fdca26"
             ],
             [
              1,
              "#f0f921"
             ]
            ],
            "type": "heatmapgl"
           }
          ],
          "histogram": [
           {
            "marker": {
             "pattern": {
              "fillmode": "overlay",
              "size": 10,
              "solidity": 0.2
             }
            },
            "type": "histogram"
           }
          ],
          "histogram2d": [
           {
            "colorbar": {
             "outlinewidth": 0,
             "ticks": ""
            },
            "colorscale": [
             [
              0,
              "#0d0887"
             ],
             [
              0.1111111111111111,
              "#46039f"
             ],
             [
              0.2222222222222222,
              "#7201a8"
             ],
             [
              0.3333333333333333,
              "#9c179e"
             ],
             [
              0.4444444444444444,
              "#bd3786"
             ],
             [
              0.5555555555555556,
              "#d8576b"
             ],
             [
              0.6666666666666666,
              "#ed7953"
             ],
             [
              0.7777777777777778,
              "#fb9f3a"
             ],
             [
              0.8888888888888888,
              "#fdca26"
             ],
             [
              1,
              "#f0f921"
             ]
            ],
            "type": "histogram2d"
           }
          ],
          "histogram2dcontour": [
           {
            "colorbar": {
             "outlinewidth": 0,
             "ticks": ""
            },
            "colorscale": [
             [
              0,
              "#0d0887"
             ],
             [
              0.1111111111111111,
              "#46039f"
             ],
             [
              0.2222222222222222,
              "#7201a8"
             ],
             [
              0.3333333333333333,
              "#9c179e"
             ],
             [
              0.4444444444444444,
              "#bd3786"
             ],
             [
              0.5555555555555556,
              "#d8576b"
             ],
             [
              0.6666666666666666,
              "#ed7953"
             ],
             [
              0.7777777777777778,
              "#fb9f3a"
             ],
             [
              0.8888888888888888,
              "#fdca26"
             ],
             [
              1,
              "#f0f921"
             ]
            ],
            "type": "histogram2dcontour"
           }
          ],
          "mesh3d": [
           {
            "colorbar": {
             "outlinewidth": 0,
             "ticks": ""
            },
            "type": "mesh3d"
           }
          ],
          "parcoords": [
           {
            "line": {
             "colorbar": {
              "outlinewidth": 0,
              "ticks": ""
             }
            },
            "type": "parcoords"
           }
          ],
          "pie": [
           {
            "automargin": true,
            "type": "pie"
           }
          ],
          "scatter": [
           {
            "fillpattern": {
             "fillmode": "overlay",
             "size": 10,
             "solidity": 0.2
            },
            "type": "scatter"
           }
          ],
          "scatter3d": [
           {
            "line": {
             "colorbar": {
              "outlinewidth": 0,
              "ticks": ""
             }
            },
            "marker": {
             "colorbar": {
              "outlinewidth": 0,
              "ticks": ""
             }
            },
            "type": "scatter3d"
           }
          ],
          "scattercarpet": [
           {
            "marker": {
             "colorbar": {
              "outlinewidth": 0,
              "ticks": ""
             }
            },
            "type": "scattercarpet"
           }
          ],
          "scattergeo": [
           {
            "marker": {
             "colorbar": {
              "outlinewidth": 0,
              "ticks": ""
             }
            },
            "type": "scattergeo"
           }
          ],
          "scattergl": [
           {
            "marker": {
             "colorbar": {
              "outlinewidth": 0,
              "ticks": ""
             }
            },
            "type": "scattergl"
           }
          ],
          "scattermapbox": [
           {
            "marker": {
             "colorbar": {
              "outlinewidth": 0,
              "ticks": ""
             }
            },
            "type": "scattermapbox"
           }
          ],
          "scatterpolar": [
           {
            "marker": {
             "colorbar": {
              "outlinewidth": 0,
              "ticks": ""
             }
            },
            "type": "scatterpolar"
           }
          ],
          "scatterpolargl": [
           {
            "marker": {
             "colorbar": {
              "outlinewidth": 0,
              "ticks": ""
             }
            },
            "type": "scatterpolargl"
           }
          ],
          "scatterternary": [
           {
            "marker": {
             "colorbar": {
              "outlinewidth": 0,
              "ticks": ""
             }
            },
            "type": "scatterternary"
           }
          ],
          "surface": [
           {
            "colorbar": {
             "outlinewidth": 0,
             "ticks": ""
            },
            "colorscale": [
             [
              0,
              "#0d0887"
             ],
             [
              0.1111111111111111,
              "#46039f"
             ],
             [
              0.2222222222222222,
              "#7201a8"
             ],
             [
              0.3333333333333333,
              "#9c179e"
             ],
             [
              0.4444444444444444,
              "#bd3786"
             ],
             [
              0.5555555555555556,
              "#d8576b"
             ],
             [
              0.6666666666666666,
              "#ed7953"
             ],
             [
              0.7777777777777778,
              "#fb9f3a"
             ],
             [
              0.8888888888888888,
              "#fdca26"
             ],
             [
              1,
              "#f0f921"
             ]
            ],
            "type": "surface"
           }
          ],
          "table": [
           {
            "cells": {
             "fill": {
              "color": "#EBF0F8"
             },
             "line": {
              "color": "white"
             }
            },
            "header": {
             "fill": {
              "color": "#C8D4E3"
             },
             "line": {
              "color": "white"
             }
            },
            "type": "table"
           }
          ]
         },
         "layout": {
          "annotationdefaults": {
           "arrowcolor": "#2a3f5f",
           "arrowhead": 0,
           "arrowwidth": 1
          },
          "autotypenumbers": "strict",
          "coloraxis": {
           "colorbar": {
            "outlinewidth": 0,
            "ticks": ""
           }
          },
          "colorscale": {
           "diverging": [
            [
             0,
             "#8e0152"
            ],
            [
             0.1,
             "#c51b7d"
            ],
            [
             0.2,
             "#de77ae"
            ],
            [
             0.3,
             "#f1b6da"
            ],
            [
             0.4,
             "#fde0ef"
            ],
            [
             0.5,
             "#f7f7f7"
            ],
            [
             0.6,
             "#e6f5d0"
            ],
            [
             0.7,
             "#b8e186"
            ],
            [
             0.8,
             "#7fbc41"
            ],
            [
             0.9,
             "#4d9221"
            ],
            [
             1,
             "#276419"
            ]
           ],
           "sequential": [
            [
             0,
             "#0d0887"
            ],
            [
             0.1111111111111111,
             "#46039f"
            ],
            [
             0.2222222222222222,
             "#7201a8"
            ],
            [
             0.3333333333333333,
             "#9c179e"
            ],
            [
             0.4444444444444444,
             "#bd3786"
            ],
            [
             0.5555555555555556,
             "#d8576b"
            ],
            [
             0.6666666666666666,
             "#ed7953"
            ],
            [
             0.7777777777777778,
             "#fb9f3a"
            ],
            [
             0.8888888888888888,
             "#fdca26"
            ],
            [
             1,
             "#f0f921"
            ]
           ],
           "sequentialminus": [
            [
             0,
             "#0d0887"
            ],
            [
             0.1111111111111111,
             "#46039f"
            ],
            [
             0.2222222222222222,
             "#7201a8"
            ],
            [
             0.3333333333333333,
             "#9c179e"
            ],
            [
             0.4444444444444444,
             "#bd3786"
            ],
            [
             0.5555555555555556,
             "#d8576b"
            ],
            [
             0.6666666666666666,
             "#ed7953"
            ],
            [
             0.7777777777777778,
             "#fb9f3a"
            ],
            [
             0.8888888888888888,
             "#fdca26"
            ],
            [
             1,
             "#f0f921"
            ]
           ]
          },
          "colorway": [
           "#636efa",
           "#EF553B",
           "#00cc96",
           "#ab63fa",
           "#FFA15A",
           "#19d3f3",
           "#FF6692",
           "#B6E880",
           "#FF97FF",
           "#FECB52"
          ],
          "font": {
           "color": "#2a3f5f"
          },
          "geo": {
           "bgcolor": "white",
           "lakecolor": "white",
           "landcolor": "#E5ECF6",
           "showlakes": true,
           "showland": true,
           "subunitcolor": "white"
          },
          "hoverlabel": {
           "align": "left"
          },
          "hovermode": "closest",
          "mapbox": {
           "style": "light"
          },
          "paper_bgcolor": "white",
          "plot_bgcolor": "#E5ECF6",
          "polar": {
           "angularaxis": {
            "gridcolor": "white",
            "linecolor": "white",
            "ticks": ""
           },
           "bgcolor": "#E5ECF6",
           "radialaxis": {
            "gridcolor": "white",
            "linecolor": "white",
            "ticks": ""
           }
          },
          "scene": {
           "xaxis": {
            "backgroundcolor": "#E5ECF6",
            "gridcolor": "white",
            "gridwidth": 2,
            "linecolor": "white",
            "showbackground": true,
            "ticks": "",
            "zerolinecolor": "white"
           },
           "yaxis": {
            "backgroundcolor": "#E5ECF6",
            "gridcolor": "white",
            "gridwidth": 2,
            "linecolor": "white",
            "showbackground": true,
            "ticks": "",
            "zerolinecolor": "white"
           },
           "zaxis": {
            "backgroundcolor": "#E5ECF6",
            "gridcolor": "white",
            "gridwidth": 2,
            "linecolor": "white",
            "showbackground": true,
            "ticks": "",
            "zerolinecolor": "white"
           }
          },
          "shapedefaults": {
           "line": {
            "color": "#2a3f5f"
           }
          },
          "ternary": {
           "aaxis": {
            "gridcolor": "white",
            "linecolor": "white",
            "ticks": ""
           },
           "baxis": {
            "gridcolor": "white",
            "linecolor": "white",
            "ticks": ""
           },
           "bgcolor": "#E5ECF6",
           "caxis": {
            "gridcolor": "white",
            "linecolor": "white",
            "ticks": ""
           }
          },
          "title": {
           "x": 0.05
          },
          "xaxis": {
           "automargin": true,
           "gridcolor": "white",
           "linecolor": "white",
           "ticks": "",
           "title": {
            "standoff": 15
           },
           "zerolinecolor": "white",
           "zerolinewidth": 2
          },
          "yaxis": {
           "automargin": true,
           "gridcolor": "white",
           "linecolor": "white",
           "ticks": "",
           "title": {
            "standoff": 15
           },
           "zerolinecolor": "white",
           "zerolinewidth": 2
          }
         }
        },
        "title": {
         "text": "Top 10 des mots les plus fréquents dans les descriptions d'articles récupérés (hors stopwords)"
        },
        "xaxis": {
         "anchor": "y",
         "domain": [
          0,
          1
         ],
         "title": {
          "text": "Mots"
         }
        },
        "yaxis": {
         "anchor": "x",
         "domain": [
          0,
          1
         ],
         "title": {
          "text": "Fréquences"
         }
        }
       }
      }
     },
     "metadata": {},
     "output_type": "display_data"
    }
   ],
   "source": [
    "#Mots les plus fréquents après suppression des stopwords\n",
    "df_analyse_1['Counting_Words_Text_nostopwords']=df_analyse_1['Titre_cleaned_stopwords'].apply(count_common_words)\n",
    "df_analyse_1['Counting_Words_Descr_nostopwords']=df_analyse_1['Description_cleaned_stopwords'].apply(count_common_words)\n",
    "\n",
    "combined_dict_text_bis=combine_dictionaries(df_analyse_1,'Counting_Words_Text_nostopwords')\n",
    "sorted_description_dictionary=sorted(combined_dict_text_bis.items(), key= lambda item:item[1], reverse=True)[:10]\n",
    "\n",
    "keys=[key for key, value in sorted_description_dictionary]\n",
    "values=[value for key, value in sorted_description_dictionary]\n",
    "\n",
    "\n",
    "fig = px.bar(x=keys, y=values, title=\"Top 10 des mots les plus fréquents dans les descriptions d'articles récupérés (hors stopwords)\", labels={'x':'Mots', 'y':'Fréquences'})\n",
    "fig.show()"
   ]
  },
  {
   "cell_type": "code",
   "execution_count": 240,
   "metadata": {},
   "outputs": [
    {
     "data": {
      "application/vnd.plotly.v1+json": {
       "config": {
        "plotlyServerURL": "https://plot.ly"
       },
       "data": [
        {
         "alignmentgroup": "True",
         "hovertemplate": "Mots=%{x}<br>Fréquences=%{y}<extra></extra>",
         "legendgroup": "",
         "marker": {
          "color": "#636efa",
          "pattern": {
           "shape": ""
          }
         },
         "name": "",
         "offsetgroup": "",
         "orientation": "v",
         "showlegend": false,
         "textposition": "auto",
         "type": "bar",
         "x": [
          "apple",
          "iphone",
          "india",
          "new",
          "macbook",
          "surprise",
          "upgrade",
          "report",
          "plans",
          "pro"
         ],
         "xaxis": "x",
         "y": [
          15,
          7,
          4,
          3,
          3,
          3,
          3,
          3,
          3,
          2
         ],
         "yaxis": "y"
        }
       ],
       "layout": {
        "barmode": "relative",
        "legend": {
         "tracegroupgap": 0
        },
        "template": {
         "data": {
          "bar": [
           {
            "error_x": {
             "color": "#2a3f5f"
            },
            "error_y": {
             "color": "#2a3f5f"
            },
            "marker": {
             "line": {
              "color": "#E5ECF6",
              "width": 0.5
             },
             "pattern": {
              "fillmode": "overlay",
              "size": 10,
              "solidity": 0.2
             }
            },
            "type": "bar"
           }
          ],
          "barpolar": [
           {
            "marker": {
             "line": {
              "color": "#E5ECF6",
              "width": 0.5
             },
             "pattern": {
              "fillmode": "overlay",
              "size": 10,
              "solidity": 0.2
             }
            },
            "type": "barpolar"
           }
          ],
          "carpet": [
           {
            "aaxis": {
             "endlinecolor": "#2a3f5f",
             "gridcolor": "white",
             "linecolor": "white",
             "minorgridcolor": "white",
             "startlinecolor": "#2a3f5f"
            },
            "baxis": {
             "endlinecolor": "#2a3f5f",
             "gridcolor": "white",
             "linecolor": "white",
             "minorgridcolor": "white",
             "startlinecolor": "#2a3f5f"
            },
            "type": "carpet"
           }
          ],
          "choropleth": [
           {
            "colorbar": {
             "outlinewidth": 0,
             "ticks": ""
            },
            "type": "choropleth"
           }
          ],
          "contour": [
           {
            "colorbar": {
             "outlinewidth": 0,
             "ticks": ""
            },
            "colorscale": [
             [
              0,
              "#0d0887"
             ],
             [
              0.1111111111111111,
              "#46039f"
             ],
             [
              0.2222222222222222,
              "#7201a8"
             ],
             [
              0.3333333333333333,
              "#9c179e"
             ],
             [
              0.4444444444444444,
              "#bd3786"
             ],
             [
              0.5555555555555556,
              "#d8576b"
             ],
             [
              0.6666666666666666,
              "#ed7953"
             ],
             [
              0.7777777777777778,
              "#fb9f3a"
             ],
             [
              0.8888888888888888,
              "#fdca26"
             ],
             [
              1,
              "#f0f921"
             ]
            ],
            "type": "contour"
           }
          ],
          "contourcarpet": [
           {
            "colorbar": {
             "outlinewidth": 0,
             "ticks": ""
            },
            "type": "contourcarpet"
           }
          ],
          "heatmap": [
           {
            "colorbar": {
             "outlinewidth": 0,
             "ticks": ""
            },
            "colorscale": [
             [
              0,
              "#0d0887"
             ],
             [
              0.1111111111111111,
              "#46039f"
             ],
             [
              0.2222222222222222,
              "#7201a8"
             ],
             [
              0.3333333333333333,
              "#9c179e"
             ],
             [
              0.4444444444444444,
              "#bd3786"
             ],
             [
              0.5555555555555556,
              "#d8576b"
             ],
             [
              0.6666666666666666,
              "#ed7953"
             ],
             [
              0.7777777777777778,
              "#fb9f3a"
             ],
             [
              0.8888888888888888,
              "#fdca26"
             ],
             [
              1,
              "#f0f921"
             ]
            ],
            "type": "heatmap"
           }
          ],
          "heatmapgl": [
           {
            "colorbar": {
             "outlinewidth": 0,
             "ticks": ""
            },
            "colorscale": [
             [
              0,
              "#0d0887"
             ],
             [
              0.1111111111111111,
              "#46039f"
             ],
             [
              0.2222222222222222,
              "#7201a8"
             ],
             [
              0.3333333333333333,
              "#9c179e"
             ],
             [
              0.4444444444444444,
              "#bd3786"
             ],
             [
              0.5555555555555556,
              "#d8576b"
             ],
             [
              0.6666666666666666,
              "#ed7953"
             ],
             [
              0.7777777777777778,
              "#fb9f3a"
             ],
             [
              0.8888888888888888,
              "#fdca26"
             ],
             [
              1,
              "#f0f921"
             ]
            ],
            "type": "heatmapgl"
           }
          ],
          "histogram": [
           {
            "marker": {
             "pattern": {
              "fillmode": "overlay",
              "size": 10,
              "solidity": 0.2
             }
            },
            "type": "histogram"
           }
          ],
          "histogram2d": [
           {
            "colorbar": {
             "outlinewidth": 0,
             "ticks": ""
            },
            "colorscale": [
             [
              0,
              "#0d0887"
             ],
             [
              0.1111111111111111,
              "#46039f"
             ],
             [
              0.2222222222222222,
              "#7201a8"
             ],
             [
              0.3333333333333333,
              "#9c179e"
             ],
             [
              0.4444444444444444,
              "#bd3786"
             ],
             [
              0.5555555555555556,
              "#d8576b"
             ],
             [
              0.6666666666666666,
              "#ed7953"
             ],
             [
              0.7777777777777778,
              "#fb9f3a"
             ],
             [
              0.8888888888888888,
              "#fdca26"
             ],
             [
              1,
              "#f0f921"
             ]
            ],
            "type": "histogram2d"
           }
          ],
          "histogram2dcontour": [
           {
            "colorbar": {
             "outlinewidth": 0,
             "ticks": ""
            },
            "colorscale": [
             [
              0,
              "#0d0887"
             ],
             [
              0.1111111111111111,
              "#46039f"
             ],
             [
              0.2222222222222222,
              "#7201a8"
             ],
             [
              0.3333333333333333,
              "#9c179e"
             ],
             [
              0.4444444444444444,
              "#bd3786"
             ],
             [
              0.5555555555555556,
              "#d8576b"
             ],
             [
              0.6666666666666666,
              "#ed7953"
             ],
             [
              0.7777777777777778,
              "#fb9f3a"
             ],
             [
              0.8888888888888888,
              "#fdca26"
             ],
             [
              1,
              "#f0f921"
             ]
            ],
            "type": "histogram2dcontour"
           }
          ],
          "mesh3d": [
           {
            "colorbar": {
             "outlinewidth": 0,
             "ticks": ""
            },
            "type": "mesh3d"
           }
          ],
          "parcoords": [
           {
            "line": {
             "colorbar": {
              "outlinewidth": 0,
              "ticks": ""
             }
            },
            "type": "parcoords"
           }
          ],
          "pie": [
           {
            "automargin": true,
            "type": "pie"
           }
          ],
          "scatter": [
           {
            "fillpattern": {
             "fillmode": "overlay",
             "size": 10,
             "solidity": 0.2
            },
            "type": "scatter"
           }
          ],
          "scatter3d": [
           {
            "line": {
             "colorbar": {
              "outlinewidth": 0,
              "ticks": ""
             }
            },
            "marker": {
             "colorbar": {
              "outlinewidth": 0,
              "ticks": ""
             }
            },
            "type": "scatter3d"
           }
          ],
          "scattercarpet": [
           {
            "marker": {
             "colorbar": {
              "outlinewidth": 0,
              "ticks": ""
             }
            },
            "type": "scattercarpet"
           }
          ],
          "scattergeo": [
           {
            "marker": {
             "colorbar": {
              "outlinewidth": 0,
              "ticks": ""
             }
            },
            "type": "scattergeo"
           }
          ],
          "scattergl": [
           {
            "marker": {
             "colorbar": {
              "outlinewidth": 0,
              "ticks": ""
             }
            },
            "type": "scattergl"
           }
          ],
          "scattermapbox": [
           {
            "marker": {
             "colorbar": {
              "outlinewidth": 0,
              "ticks": ""
             }
            },
            "type": "scattermapbox"
           }
          ],
          "scatterpolar": [
           {
            "marker": {
             "colorbar": {
              "outlinewidth": 0,
              "ticks": ""
             }
            },
            "type": "scatterpolar"
           }
          ],
          "scatterpolargl": [
           {
            "marker": {
             "colorbar": {
              "outlinewidth": 0,
              "ticks": ""
             }
            },
            "type": "scatterpolargl"
           }
          ],
          "scatterternary": [
           {
            "marker": {
             "colorbar": {
              "outlinewidth": 0,
              "ticks": ""
             }
            },
            "type": "scatterternary"
           }
          ],
          "surface": [
           {
            "colorbar": {
             "outlinewidth": 0,
             "ticks": ""
            },
            "colorscale": [
             [
              0,
              "#0d0887"
             ],
             [
              0.1111111111111111,
              "#46039f"
             ],
             [
              0.2222222222222222,
              "#7201a8"
             ],
             [
              0.3333333333333333,
              "#9c179e"
             ],
             [
              0.4444444444444444,
              "#bd3786"
             ],
             [
              0.5555555555555556,
              "#d8576b"
             ],
             [
              0.6666666666666666,
              "#ed7953"
             ],
             [
              0.7777777777777778,
              "#fb9f3a"
             ],
             [
              0.8888888888888888,
              "#fdca26"
             ],
             [
              1,
              "#f0f921"
             ]
            ],
            "type": "surface"
           }
          ],
          "table": [
           {
            "cells": {
             "fill": {
              "color": "#EBF0F8"
             },
             "line": {
              "color": "white"
             }
            },
            "header": {
             "fill": {
              "color": "#C8D4E3"
             },
             "line": {
              "color": "white"
             }
            },
            "type": "table"
           }
          ]
         },
         "layout": {
          "annotationdefaults": {
           "arrowcolor": "#2a3f5f",
           "arrowhead": 0,
           "arrowwidth": 1
          },
          "autotypenumbers": "strict",
          "coloraxis": {
           "colorbar": {
            "outlinewidth": 0,
            "ticks": ""
           }
          },
          "colorscale": {
           "diverging": [
            [
             0,
             "#8e0152"
            ],
            [
             0.1,
             "#c51b7d"
            ],
            [
             0.2,
             "#de77ae"
            ],
            [
             0.3,
             "#f1b6da"
            ],
            [
             0.4,
             "#fde0ef"
            ],
            [
             0.5,
             "#f7f7f7"
            ],
            [
             0.6,
             "#e6f5d0"
            ],
            [
             0.7,
             "#b8e186"
            ],
            [
             0.8,
             "#7fbc41"
            ],
            [
             0.9,
             "#4d9221"
            ],
            [
             1,
             "#276419"
            ]
           ],
           "sequential": [
            [
             0,
             "#0d0887"
            ],
            [
             0.1111111111111111,
             "#46039f"
            ],
            [
             0.2222222222222222,
             "#7201a8"
            ],
            [
             0.3333333333333333,
             "#9c179e"
            ],
            [
             0.4444444444444444,
             "#bd3786"
            ],
            [
             0.5555555555555556,
             "#d8576b"
            ],
            [
             0.6666666666666666,
             "#ed7953"
            ],
            [
             0.7777777777777778,
             "#fb9f3a"
            ],
            [
             0.8888888888888888,
             "#fdca26"
            ],
            [
             1,
             "#f0f921"
            ]
           ],
           "sequentialminus": [
            [
             0,
             "#0d0887"
            ],
            [
             0.1111111111111111,
             "#46039f"
            ],
            [
             0.2222222222222222,
             "#7201a8"
            ],
            [
             0.3333333333333333,
             "#9c179e"
            ],
            [
             0.4444444444444444,
             "#bd3786"
            ],
            [
             0.5555555555555556,
             "#d8576b"
            ],
            [
             0.6666666666666666,
             "#ed7953"
            ],
            [
             0.7777777777777778,
             "#fb9f3a"
            ],
            [
             0.8888888888888888,
             "#fdca26"
            ],
            [
             1,
             "#f0f921"
            ]
           ]
          },
          "colorway": [
           "#636efa",
           "#EF553B",
           "#00cc96",
           "#ab63fa",
           "#FFA15A",
           "#19d3f3",
           "#FF6692",
           "#B6E880",
           "#FF97FF",
           "#FECB52"
          ],
          "font": {
           "color": "#2a3f5f"
          },
          "geo": {
           "bgcolor": "white",
           "lakecolor": "white",
           "landcolor": "#E5ECF6",
           "showlakes": true,
           "showland": true,
           "subunitcolor": "white"
          },
          "hoverlabel": {
           "align": "left"
          },
          "hovermode": "closest",
          "mapbox": {
           "style": "light"
          },
          "paper_bgcolor": "white",
          "plot_bgcolor": "#E5ECF6",
          "polar": {
           "angularaxis": {
            "gridcolor": "white",
            "linecolor": "white",
            "ticks": ""
           },
           "bgcolor": "#E5ECF6",
           "radialaxis": {
            "gridcolor": "white",
            "linecolor": "white",
            "ticks": ""
           }
          },
          "scene": {
           "xaxis": {
            "backgroundcolor": "#E5ECF6",
            "gridcolor": "white",
            "gridwidth": 2,
            "linecolor": "white",
            "showbackground": true,
            "ticks": "",
            "zerolinecolor": "white"
           },
           "yaxis": {
            "backgroundcolor": "#E5ECF6",
            "gridcolor": "white",
            "gridwidth": 2,
            "linecolor": "white",
            "showbackground": true,
            "ticks": "",
            "zerolinecolor": "white"
           },
           "zaxis": {
            "backgroundcolor": "#E5ECF6",
            "gridcolor": "white",
            "gridwidth": 2,
            "linecolor": "white",
            "showbackground": true,
            "ticks": "",
            "zerolinecolor": "white"
           }
          },
          "shapedefaults": {
           "line": {
            "color": "#2a3f5f"
           }
          },
          "ternary": {
           "aaxis": {
            "gridcolor": "white",
            "linecolor": "white",
            "ticks": ""
           },
           "baxis": {
            "gridcolor": "white",
            "linecolor": "white",
            "ticks": ""
           },
           "bgcolor": "#E5ECF6",
           "caxis": {
            "gridcolor": "white",
            "linecolor": "white",
            "ticks": ""
           }
          },
          "title": {
           "x": 0.05
          },
          "xaxis": {
           "automargin": true,
           "gridcolor": "white",
           "linecolor": "white",
           "ticks": "",
           "title": {
            "standoff": 15
           },
           "zerolinecolor": "white",
           "zerolinewidth": 2
          },
          "yaxis": {
           "automargin": true,
           "gridcolor": "white",
           "linecolor": "white",
           "ticks": "",
           "title": {
            "standoff": 15
           },
           "zerolinecolor": "white",
           "zerolinewidth": 2
          }
         }
        },
        "title": {
         "text": "Top 10 des mots les plus fréquents dans les descriptions d'articles récupérés (hors stopwords)"
        },
        "xaxis": {
         "anchor": "y",
         "domain": [
          0,
          1
         ],
         "title": {
          "text": "Mots"
         }
        },
        "yaxis": {
         "anchor": "x",
         "domain": [
          0,
          1
         ],
         "title": {
          "text": "Fréquences"
         }
        }
       }
      }
     },
     "metadata": {},
     "output_type": "display_data"
    }
   ],
   "source": [
    "combined_dict_description_bis=combine_dictionaries(df_analyse_1,'Counting_Words_Text_nostopwords')\n",
    "sorted_description_dictionary=sorted(combined_dict_description_bis.items(), key= lambda item:item[1], reverse=True)[:10]\n",
    "\n",
    "keys=[key for key, value in sorted_description_dictionary]\n",
    "values=[value for key, value in sorted_description_dictionary]\n",
    "\n",
    "\n",
    "fig = px.bar(x=keys, y=values, title=\"Top 10 des mots les plus fréquents dans les descriptions d'articles récupérés (hors stopwords)\", labels={'x':'Mots', 'y':'Fréquences'})\n",
    "fig.show()"
   ]
  },
  {
   "cell_type": "markdown",
   "metadata": {},
   "source": [
    "# Préparation du texte en vue de l'analyse de sentiments (Nettoyage et analyse du contenu des articles)"
   ]
  },
  {
   "cell_type": "code",
   "execution_count": 253,
   "metadata": {},
   "outputs": [],
   "source": [
    "#Mise en place de règles propres à chaque source de données pour récupérer les parties intéressantes\n",
    "\n",
    "from bs4 import BeautifulSoup\n",
    "#Fonction adaptée aux articles Forbes et MarketWatch\n",
    "def clean_html_1(text_html): \n",
    "    soup=BeautifulSoup(text_html, 'html.parser')\n",
    "    title=soup.find_all('h1', class_=True)\n",
    "    content=soup.find_all('p')\n",
    "    united_content = ' '.join(el.get_text(strip=True) for el in title + content )\n",
    "    return united_content\n",
    "\n",
    "#Fonction adaptée aux articles de CNBC\n",
    "def clean_html_2(text_html): \n",
    "    soup=BeautifulSoup(text_html, 'html.parser')\n",
    "    title=soup.find_all('h1', class_=True)\n",
    "    key_points=soup.find_all('li')\n",
    "    content=soup.find_all('p')\n",
    "    united_content = ' '.join(el.get_text(strip=True) for el in title + content + key_points )\n",
    "    return united_content\n",
    "\n",
    "df_content=df.copy()\n",
    "df_content['Selected_content'] = df_content.apply(lambda row: clean_html_2(row['Contenu']) if row['Source'] == 'CNBC' else clean_html_1(row['Contenu']), axis=1)\n"
   ]
  },
  {
   "cell_type": "code",
   "execution_count": 254,
   "metadata": {},
   "outputs": [
    {
     "data": {
      "text/html": [
       "<div>\n",
       "<style scoped>\n",
       "    .dataframe tbody tr th:only-of-type {\n",
       "        vertical-align: middle;\n",
       "    }\n",
       "\n",
       "    .dataframe tbody tr th {\n",
       "        vertical-align: top;\n",
       "    }\n",
       "\n",
       "    .dataframe thead th {\n",
       "        text-align: right;\n",
       "    }\n",
       "</style>\n",
       "<table border=\"1\" class=\"dataframe\">\n",
       "  <thead>\n",
       "    <tr style=\"text-align: right;\">\n",
       "      <th></th>\n",
       "      <th>Titre</th>\n",
       "      <th>URL</th>\n",
       "      <th>Date de publication</th>\n",
       "      <th>Description</th>\n",
       "      <th>Source</th>\n",
       "      <th>Contenu</th>\n",
       "      <th>Title_length</th>\n",
       "      <th>Description_length</th>\n",
       "      <th>Content_length</th>\n",
       "      <th>Selected_content</th>\n",
       "    </tr>\n",
       "  </thead>\n",
       "  <tbody>\n",
       "    <tr>\n",
       "      <th>0</th>\n",
       "      <td>Forget The New MacBook Pro, Apple Has Somethin...</td>\n",
       "      <td>https://www.forbes.com/sites/ewanspence/2023/1...</td>\n",
       "      <td>2023-12-09 20:30:22+00:00</td>\n",
       "      <td>Apple’s awkward MacBook Pro may look attractiv...</td>\n",
       "      <td>Forbes</td>\n",
       "      <td>&lt;!DOCTYPE html&gt;&lt;html lang=\"en\"&gt;&lt;head&gt;&lt;link rel...</td>\n",
       "      <td>10</td>\n",
       "      <td>17</td>\n",
       "      <td>12958</td>\n",
       "      <td>Forget The New MacBook Pro, Apple Has Somethin...</td>\n",
       "    </tr>\n",
       "    <tr>\n",
       "      <th>1</th>\n",
       "      <td>Apple Leak Confirms Surprise iPhone 16 Pro Upg...</td>\n",
       "      <td>https://www.forbes.com/sites/ewanspence/2023/1...</td>\n",
       "      <td>2023-12-09 14:42:17+00:00</td>\n",
       "      <td>iPhone 16 Pro models will be the first to bene...</td>\n",
       "      <td>Forbes</td>\n",
       "      <td>&lt;!DOCTYPE html&gt;&lt;html lang=\"en\"&gt;&lt;head&gt;&lt;link rel...</td>\n",
       "      <td>8</td>\n",
       "      <td>21</td>\n",
       "      <td>12521</td>\n",
       "      <td>Apple Leak Confirms Surprise iPhone 16 Pro Upg...</td>\n",
       "    </tr>\n",
       "    <tr>\n",
       "      <th>2</th>\n",
       "      <td>Apple iOS 17.2 Release Date: The Coolest iPhon...</td>\n",
       "      <td>https://www.forbes.com/sites/davidphelan/2023/...</td>\n",
       "      <td>2023-12-09 14:38:43+00:00</td>\n",
       "      <td>There’s a big iPhone update coming and it’s fu...</td>\n",
       "      <td>Forbes</td>\n",
       "      <td>&lt;!DOCTYPE html&gt;&lt;html lang=\"en\"&gt;&lt;head&gt;&lt;link rel...</td>\n",
       "      <td>12</td>\n",
       "      <td>22</td>\n",
       "      <td>13484</td>\n",
       "      <td>Apple iOS 17.2 Release Date: The Coolest iPhon...</td>\n",
       "    </tr>\n",
       "    <tr>\n",
       "      <th>3</th>\n",
       "      <td>Apple iMessage Soundly Beaten As Surprise New ...</td>\n",
       "      <td>https://www.forbes.com/sites/zakdoffman/2023/1...</td>\n",
       "      <td>2023-12-09 12:30:29+00:00</td>\n",
       "      <td>Forget iPhone 15—Apple suddenly has a major iP...</td>\n",
       "      <td>Forbes</td>\n",
       "      <td>&lt;!DOCTYPE html&gt;&lt;html lang=\"en\"&gt;&lt;head&gt;&lt;link rel...</td>\n",
       "      <td>10</td>\n",
       "      <td>14</td>\n",
       "      <td>13650</td>\n",
       "      <td>Apple iMessage Soundly Beaten As Surprise New ...</td>\n",
       "    </tr>\n",
       "    <tr>\n",
       "      <th>4</th>\n",
       "      <td>Apple Loop: Apple’s iPhone 16 Problem, Stunnin...</td>\n",
       "      <td>https://www.forbes.com/sites/ewanspence/2023/1...</td>\n",
       "      <td>2023-12-08 21:32:17+00:00</td>\n",
       "      <td>This week’s Apple headlines; Apple’s iPhone 16...</td>\n",
       "      <td>Forbes</td>\n",
       "      <td>&lt;!DOCTYPE html&gt;&lt;html lang=\"en\"&gt;&lt;head&gt;&lt;link rel...</td>\n",
       "      <td>12</td>\n",
       "      <td>31</td>\n",
       "      <td>13609</td>\n",
       "      <td>Apple Loop: Apple’s iPhone 16 Problem, Stunnin...</td>\n",
       "    </tr>\n",
       "    <tr>\n",
       "      <th>5</th>\n",
       "      <td>Apple iPhone, Watch product design head to lea...</td>\n",
       "      <td>https://www.marketwatch.com/story/apple-iphone...</td>\n",
       "      <td>2023-12-08 20:37:19+00:00</td>\n",
       "      <td>Tang Tan, the Apple Inc. executive who headed ...</td>\n",
       "      <td>MarketWatch</td>\n",
       "      <td>&lt;!DOCTYPE html&gt;\\n&lt;html\\n  lang=\"en-US\"\\n  data...</td>\n",
       "      <td>9</td>\n",
       "      <td>27</td>\n",
       "      <td>14471</td>\n",
       "      <td>Apple iPhone, Watch product design head to lea...</td>\n",
       "    </tr>\n",
       "    <tr>\n",
       "      <th>6</th>\n",
       "      <td>: Apple iPhone, Watch product design head to l...</td>\n",
       "      <td>https://www.marketwatch.com/story/apple-iphone...</td>\n",
       "      <td>2023-12-08 20:30:00+00:00</td>\n",
       "      <td>Tang Tan, the Apple Inc. executive who headed ...</td>\n",
       "      <td>MarketWatch</td>\n",
       "      <td>&lt;!DOCTYPE html&gt;\\n&lt;html\\n  lang=\"en-US\"\\n  data...</td>\n",
       "      <td>10</td>\n",
       "      <td>27</td>\n",
       "      <td>14482</td>\n",
       "      <td>Apple iPhone, Watch product design head to lea...</td>\n",
       "    </tr>\n",
       "    <tr>\n",
       "      <th>7</th>\n",
       "      <td>Apple's latest moves in India underscore data ...</td>\n",
       "      <td>https://www.cnbc.com/2023/12/08/apples-latest-...</td>\n",
       "      <td>2023-12-08 18:20:47+00:00</td>\n",
       "      <td>India's economy is about 16½ years behind Chin...</td>\n",
       "      <td>CNBC</td>\n",
       "      <td>&lt;!DOCTYPE html&gt;&lt;html lang=\"en\" prefix=\"og=http...</td>\n",
       "      <td>15</td>\n",
       "      <td>21</td>\n",
       "      <td>26008</td>\n",
       "      <td>Apple's latest moves in India underscore data ...</td>\n",
       "    </tr>\n",
       "    <tr>\n",
       "      <th>8</th>\n",
       "      <td>No-One Cares Which Bank Provides Their Apple Card</td>\n",
       "      <td>https://www.forbes.com/sites/davidbirch/2023/1...</td>\n",
       "      <td>2023-12-08 11:57:45+00:00</td>\n",
       "      <td>So long as my rewards card works and I get my ...</td>\n",
       "      <td>Forbes</td>\n",
       "      <td>&lt;!DOCTYPE html&gt;&lt;html lang=\"en\"&gt;&lt;head&gt;&lt;link rel...</td>\n",
       "      <td>8</td>\n",
       "      <td>24</td>\n",
       "      <td>13004</td>\n",
       "      <td>No-One Cares Which Bank Provides Their Apple C...</td>\n",
       "    </tr>\n",
       "    <tr>\n",
       "      <th>9</th>\n",
       "      <td>Apple Wants To Make 1-In-4 iPhones In India As...</td>\n",
       "      <td>https://www.forbes.com/sites/siladityaray/2023...</td>\n",
       "      <td>2023-12-08 11:48:48+00:00</td>\n",
       "      <td>Apple wants to expand its Indian manufacturing...</td>\n",
       "      <td>Forbes</td>\n",
       "      <td>&lt;!DOCTYPE html&gt;&lt;html lang=\"en\"&gt;&lt;head&gt;&lt;link rel...</td>\n",
       "      <td>21</td>\n",
       "      <td>25</td>\n",
       "      <td>16170</td>\n",
       "      <td>Apple Wants To Make 1-In-4 iPhones In India As...</td>\n",
       "    </tr>\n",
       "    <tr>\n",
       "      <th>10</th>\n",
       "      <td>Apple reportedly plans major expansion of iPho...</td>\n",
       "      <td>https://www.marketwatch.com/story/apple-report...</td>\n",
       "      <td>2023-12-08 04:23:00+00:00</td>\n",
       "      <td>Apple Inc. is planning a massive expansion of ...</td>\n",
       "      <td>MarketWatch</td>\n",
       "      <td>&lt;!DOCTYPE html&gt;\\n&lt;html\\n  lang=\"en-US\"\\n  data...</td>\n",
       "      <td>10</td>\n",
       "      <td>17</td>\n",
       "      <td>14591</td>\n",
       "      <td>Apple reportedly plans major expansion of iPho...</td>\n",
       "    </tr>\n",
       "    <tr>\n",
       "      <th>11</th>\n",
       "      <td>: Apple reportedly plans major expansion of iP...</td>\n",
       "      <td>https://www.marketwatch.com/story/apple-report...</td>\n",
       "      <td>2023-12-08 04:23:00+00:00</td>\n",
       "      <td>Apple Inc. is planning a massive expansion of ...</td>\n",
       "      <td>MarketWatch</td>\n",
       "      <td>&lt;!DOCTYPE html&gt;\\n&lt;html\\n  lang=\"en-US\"\\n  data...</td>\n",
       "      <td>11</td>\n",
       "      <td>17</td>\n",
       "      <td>14602</td>\n",
       "      <td>Apple reportedly plans major expansion of iPho...</td>\n",
       "    </tr>\n",
       "    <tr>\n",
       "      <th>12</th>\n",
       "      <td>Apple Adds NameDrop-Like Pass-Sharing Feature ...</td>\n",
       "      <td>https://www.forbes.com/sites/stevenaquino/2023...</td>\n",
       "      <td>2023-12-07 21:56:41+00:00</td>\n",
       "      <td>The feature bears a strong resemblance to the ...</td>\n",
       "      <td>Forbes</td>\n",
       "      <td>&lt;!DOCTYPE html&gt;&lt;html lang=\"en\"&gt;&lt;head&gt;&lt;link rel...</td>\n",
       "      <td>15</td>\n",
       "      <td>15</td>\n",
       "      <td>11781</td>\n",
       "      <td>Apple Adds NameDrop-Like Pass-Sharing Feature ...</td>\n",
       "    </tr>\n",
       "    <tr>\n",
       "      <th>13</th>\n",
       "      <td>Apple iPad 2024: All-New Big-Screen Model Comi...</td>\n",
       "      <td>https://www.forbes.com/sites/davidphelan/2023/...</td>\n",
       "      <td>2023-12-07 19:30:38+00:00</td>\n",
       "      <td>The latest reports suggest that four new iPads...</td>\n",
       "      <td>Forbes</td>\n",
       "      <td>&lt;!DOCTYPE html&gt;&lt;html lang=\"en\"&gt;&lt;head&gt;&lt;link rel...</td>\n",
       "      <td>11</td>\n",
       "      <td>24</td>\n",
       "      <td>8881</td>\n",
       "      <td>Apple iPad 2024: All-New Big-Screen Model Comi...</td>\n",
       "    </tr>\n",
       "    <tr>\n",
       "      <th>14</th>\n",
       "      <td>New Apple Leak Hints At Early MacBook Air Upgrade</td>\n",
       "      <td>https://www.forbes.com/sites/ewanspence/2023/1...</td>\n",
       "      <td>2023-12-07 09:30:30+00:00</td>\n",
       "      <td>Apple's next MacBook Air laptops may arrive ea...</td>\n",
       "      <td>Forbes</td>\n",
       "      <td>&lt;!DOCTYPE html&gt;&lt;html lang=\"en\"&gt;&lt;head&gt;&lt;link rel...</td>\n",
       "      <td>9</td>\n",
       "      <td>10</td>\n",
       "      <td>13181</td>\n",
       "      <td>New Apple Leak Hints At Early MacBook Air Upgr...</td>\n",
       "    </tr>\n",
       "    <tr>\n",
       "      <th>15</th>\n",
       "      <td>This app gives Android users the ability to se...</td>\n",
       "      <td>https://www.businessinsider.com/imessage-andro...</td>\n",
       "      <td>2023-12-07 09:20:01+00:00</td>\n",
       "      <td>Beeper Mini is an app that gives Android users...</td>\n",
       "      <td>Business Insider</td>\n",
       "      <td>&lt;!DOCTYPE html&gt;\\n&lt;html lang=\"en-US\"&gt;\\n\\n&lt;head&gt;...</td>\n",
       "      <td>19</td>\n",
       "      <td>17</td>\n",
       "      <td>10204</td>\n",
       "      <td>This app gives Android users the ability to se...</td>\n",
       "    </tr>\n",
       "  </tbody>\n",
       "</table>\n",
       "</div>"
      ],
      "text/plain": [
       "                                                Titre  \\\n",
       "0   Forget The New MacBook Pro, Apple Has Somethin...   \n",
       "1   Apple Leak Confirms Surprise iPhone 16 Pro Upg...   \n",
       "2   Apple iOS 17.2 Release Date: The Coolest iPhon...   \n",
       "3   Apple iMessage Soundly Beaten As Surprise New ...   \n",
       "4   Apple Loop: Apple’s iPhone 16 Problem, Stunnin...   \n",
       "5   Apple iPhone, Watch product design head to lea...   \n",
       "6   : Apple iPhone, Watch product design head to l...   \n",
       "7   Apple's latest moves in India underscore data ...   \n",
       "8   No-One Cares Which Bank Provides Their Apple Card   \n",
       "9   Apple Wants To Make 1-In-4 iPhones In India As...   \n",
       "10  Apple reportedly plans major expansion of iPho...   \n",
       "11  : Apple reportedly plans major expansion of iP...   \n",
       "12  Apple Adds NameDrop-Like Pass-Sharing Feature ...   \n",
       "13  Apple iPad 2024: All-New Big-Screen Model Comi...   \n",
       "14  New Apple Leak Hints At Early MacBook Air Upgrade   \n",
       "15  This app gives Android users the ability to se...   \n",
       "\n",
       "                                                  URL  \\\n",
       "0   https://www.forbes.com/sites/ewanspence/2023/1...   \n",
       "1   https://www.forbes.com/sites/ewanspence/2023/1...   \n",
       "2   https://www.forbes.com/sites/davidphelan/2023/...   \n",
       "3   https://www.forbes.com/sites/zakdoffman/2023/1...   \n",
       "4   https://www.forbes.com/sites/ewanspence/2023/1...   \n",
       "5   https://www.marketwatch.com/story/apple-iphone...   \n",
       "6   https://www.marketwatch.com/story/apple-iphone...   \n",
       "7   https://www.cnbc.com/2023/12/08/apples-latest-...   \n",
       "8   https://www.forbes.com/sites/davidbirch/2023/1...   \n",
       "9   https://www.forbes.com/sites/siladityaray/2023...   \n",
       "10  https://www.marketwatch.com/story/apple-report...   \n",
       "11  https://www.marketwatch.com/story/apple-report...   \n",
       "12  https://www.forbes.com/sites/stevenaquino/2023...   \n",
       "13  https://www.forbes.com/sites/davidphelan/2023/...   \n",
       "14  https://www.forbes.com/sites/ewanspence/2023/1...   \n",
       "15  https://www.businessinsider.com/imessage-andro...   \n",
       "\n",
       "         Date de publication  \\\n",
       "0  2023-12-09 20:30:22+00:00   \n",
       "1  2023-12-09 14:42:17+00:00   \n",
       "2  2023-12-09 14:38:43+00:00   \n",
       "3  2023-12-09 12:30:29+00:00   \n",
       "4  2023-12-08 21:32:17+00:00   \n",
       "5  2023-12-08 20:37:19+00:00   \n",
       "6  2023-12-08 20:30:00+00:00   \n",
       "7  2023-12-08 18:20:47+00:00   \n",
       "8  2023-12-08 11:57:45+00:00   \n",
       "9  2023-12-08 11:48:48+00:00   \n",
       "10 2023-12-08 04:23:00+00:00   \n",
       "11 2023-12-08 04:23:00+00:00   \n",
       "12 2023-12-07 21:56:41+00:00   \n",
       "13 2023-12-07 19:30:38+00:00   \n",
       "14 2023-12-07 09:30:30+00:00   \n",
       "15 2023-12-07 09:20:01+00:00   \n",
       "\n",
       "                                          Description            Source  \\\n",
       "0   Apple’s awkward MacBook Pro may look attractiv...            Forbes   \n",
       "1   iPhone 16 Pro models will be the first to bene...            Forbes   \n",
       "2   There’s a big iPhone update coming and it’s fu...            Forbes   \n",
       "3   Forget iPhone 15—Apple suddenly has a major iP...            Forbes   \n",
       "4   This week’s Apple headlines; Apple’s iPhone 16...            Forbes   \n",
       "5   Tang Tan, the Apple Inc. executive who headed ...       MarketWatch   \n",
       "6   Tang Tan, the Apple Inc. executive who headed ...       MarketWatch   \n",
       "7   India's economy is about 16½ years behind Chin...              CNBC   \n",
       "8   So long as my rewards card works and I get my ...            Forbes   \n",
       "9   Apple wants to expand its Indian manufacturing...            Forbes   \n",
       "10  Apple Inc. is planning a massive expansion of ...       MarketWatch   \n",
       "11  Apple Inc. is planning a massive expansion of ...       MarketWatch   \n",
       "12  The feature bears a strong resemblance to the ...            Forbes   \n",
       "13  The latest reports suggest that four new iPads...            Forbes   \n",
       "14  Apple's next MacBook Air laptops may arrive ea...            Forbes   \n",
       "15  Beeper Mini is an app that gives Android users...  Business Insider   \n",
       "\n",
       "                                              Contenu  Title_length  \\\n",
       "0   <!DOCTYPE html><html lang=\"en\"><head><link rel...            10   \n",
       "1   <!DOCTYPE html><html lang=\"en\"><head><link rel...             8   \n",
       "2   <!DOCTYPE html><html lang=\"en\"><head><link rel...            12   \n",
       "3   <!DOCTYPE html><html lang=\"en\"><head><link rel...            10   \n",
       "4   <!DOCTYPE html><html lang=\"en\"><head><link rel...            12   \n",
       "5   <!DOCTYPE html>\\n<html\\n  lang=\"en-US\"\\n  data...             9   \n",
       "6   <!DOCTYPE html>\\n<html\\n  lang=\"en-US\"\\n  data...            10   \n",
       "7   <!DOCTYPE html><html lang=\"en\" prefix=\"og=http...            15   \n",
       "8   <!DOCTYPE html><html lang=\"en\"><head><link rel...             8   \n",
       "9   <!DOCTYPE html><html lang=\"en\"><head><link rel...            21   \n",
       "10  <!DOCTYPE html>\\n<html\\n  lang=\"en-US\"\\n  data...            10   \n",
       "11  <!DOCTYPE html>\\n<html\\n  lang=\"en-US\"\\n  data...            11   \n",
       "12  <!DOCTYPE html><html lang=\"en\"><head><link rel...            15   \n",
       "13  <!DOCTYPE html><html lang=\"en\"><head><link rel...            11   \n",
       "14  <!DOCTYPE html><html lang=\"en\"><head><link rel...             9   \n",
       "15  <!DOCTYPE html>\\n<html lang=\"en-US\">\\n\\n<head>...            19   \n",
       "\n",
       "    Description_length  Content_length  \\\n",
       "0                   17           12958   \n",
       "1                   21           12521   \n",
       "2                   22           13484   \n",
       "3                   14           13650   \n",
       "4                   31           13609   \n",
       "5                   27           14471   \n",
       "6                   27           14482   \n",
       "7                   21           26008   \n",
       "8                   24           13004   \n",
       "9                   25           16170   \n",
       "10                  17           14591   \n",
       "11                  17           14602   \n",
       "12                  15           11781   \n",
       "13                  24            8881   \n",
       "14                  10           13181   \n",
       "15                  17           10204   \n",
       "\n",
       "                                     Selected_content  \n",
       "0   Forget The New MacBook Pro, Apple Has Somethin...  \n",
       "1   Apple Leak Confirms Surprise iPhone 16 Pro Upg...  \n",
       "2   Apple iOS 17.2 Release Date: The Coolest iPhon...  \n",
       "3   Apple iMessage Soundly Beaten As Surprise New ...  \n",
       "4   Apple Loop: Apple’s iPhone 16 Problem, Stunnin...  \n",
       "5   Apple iPhone, Watch product design head to lea...  \n",
       "6   Apple iPhone, Watch product design head to lea...  \n",
       "7   Apple's latest moves in India underscore data ...  \n",
       "8   No-One Cares Which Bank Provides Their Apple C...  \n",
       "9   Apple Wants To Make 1-In-4 iPhones In India As...  \n",
       "10  Apple reportedly plans major expansion of iPho...  \n",
       "11  Apple reportedly plans major expansion of iPho...  \n",
       "12  Apple Adds NameDrop-Like Pass-Sharing Feature ...  \n",
       "13  Apple iPad 2024: All-New Big-Screen Model Comi...  \n",
       "14  New Apple Leak Hints At Early MacBook Air Upgr...  \n",
       "15  This app gives Android users the ability to se...  "
      ]
     },
     "execution_count": 254,
     "metadata": {},
     "output_type": "execute_result"
    }
   ],
   "source": [
    "df_content"
   ]
  },
  {
   "cell_type": "code",
   "execution_count": 255,
   "metadata": {},
   "outputs": [
    {
     "data": {
      "text/html": [
       "<div>\n",
       "<style scoped>\n",
       "    .dataframe tbody tr th:only-of-type {\n",
       "        vertical-align: middle;\n",
       "    }\n",
       "\n",
       "    .dataframe tbody tr th {\n",
       "        vertical-align: top;\n",
       "    }\n",
       "\n",
       "    .dataframe thead th {\n",
       "        text-align: right;\n",
       "    }\n",
       "</style>\n",
       "<table border=\"1\" class=\"dataframe\">\n",
       "  <thead>\n",
       "    <tr style=\"text-align: right;\">\n",
       "      <th></th>\n",
       "      <th>Titre</th>\n",
       "      <th>URL</th>\n",
       "      <th>Date de publication</th>\n",
       "      <th>Description</th>\n",
       "      <th>Source</th>\n",
       "      <th>Contenu</th>\n",
       "      <th>Title_length</th>\n",
       "      <th>Description_length</th>\n",
       "      <th>Content_length</th>\n",
       "      <th>Selected_content</th>\n",
       "      <th>Content_cleaned</th>\n",
       "    </tr>\n",
       "  </thead>\n",
       "  <tbody>\n",
       "    <tr>\n",
       "      <th>0</th>\n",
       "      <td>Forget The New MacBook Pro, Apple Has Somethin...</td>\n",
       "      <td>https://www.forbes.com/sites/ewanspence/2023/1...</td>\n",
       "      <td>2023-12-09 20:30:22+00:00</td>\n",
       "      <td>Apple’s awkward MacBook Pro may look attractiv...</td>\n",
       "      <td>Forbes</td>\n",
       "      <td>&lt;!DOCTYPE html&gt;&lt;html lang=\"en\"&gt;&lt;head&gt;&lt;link rel...</td>\n",
       "      <td>10</td>\n",
       "      <td>17</td>\n",
       "      <td>12958</td>\n",
       "      <td>Forget The New MacBook Pro, Apple Has Somethin...</td>\n",
       "      <td>forget the new macbook pro apple has something...</td>\n",
       "    </tr>\n",
       "    <tr>\n",
       "      <th>1</th>\n",
       "      <td>Apple Leak Confirms Surprise iPhone 16 Pro Upg...</td>\n",
       "      <td>https://www.forbes.com/sites/ewanspence/2023/1...</td>\n",
       "      <td>2023-12-09 14:42:17+00:00</td>\n",
       "      <td>iPhone 16 Pro models will be the first to bene...</td>\n",
       "      <td>Forbes</td>\n",
       "      <td>&lt;!DOCTYPE html&gt;&lt;html lang=\"en\"&gt;&lt;head&gt;&lt;link rel...</td>\n",
       "      <td>8</td>\n",
       "      <td>21</td>\n",
       "      <td>12521</td>\n",
       "      <td>Apple Leak Confirms Surprise iPhone 16 Pro Upg...</td>\n",
       "      <td>apple leak confirms surprise iphone  pro upgrade</td>\n",
       "    </tr>\n",
       "    <tr>\n",
       "      <th>2</th>\n",
       "      <td>Apple iOS 17.2 Release Date: The Coolest iPhon...</td>\n",
       "      <td>https://www.forbes.com/sites/davidphelan/2023/...</td>\n",
       "      <td>2023-12-09 14:38:43+00:00</td>\n",
       "      <td>There’s a big iPhone update coming and it’s fu...</td>\n",
       "      <td>Forbes</td>\n",
       "      <td>&lt;!DOCTYPE html&gt;&lt;html lang=\"en\"&gt;&lt;head&gt;&lt;link rel...</td>\n",
       "      <td>12</td>\n",
       "      <td>22</td>\n",
       "      <td>13484</td>\n",
       "      <td>Apple iOS 17.2 Release Date: The Coolest iPhon...</td>\n",
       "      <td>apple ios  release date the coolest iphone upg...</td>\n",
       "    </tr>\n",
       "    <tr>\n",
       "      <th>3</th>\n",
       "      <td>Apple iMessage Soundly Beaten As Surprise New ...</td>\n",
       "      <td>https://www.forbes.com/sites/zakdoffman/2023/1...</td>\n",
       "      <td>2023-12-09 12:30:29+00:00</td>\n",
       "      <td>Forget iPhone 15—Apple suddenly has a major iP...</td>\n",
       "      <td>Forbes</td>\n",
       "      <td>&lt;!DOCTYPE html&gt;&lt;html lang=\"en\"&gt;&lt;head&gt;&lt;link rel...</td>\n",
       "      <td>10</td>\n",
       "      <td>14</td>\n",
       "      <td>13650</td>\n",
       "      <td>Apple iMessage Soundly Beaten As Surprise New ...</td>\n",
       "      <td>apple imessage soundly beaten as surprise new ...</td>\n",
       "    </tr>\n",
       "    <tr>\n",
       "      <th>4</th>\n",
       "      <td>Apple Loop: Apple’s iPhone 16 Problem, Stunnin...</td>\n",
       "      <td>https://www.forbes.com/sites/ewanspence/2023/1...</td>\n",
       "      <td>2023-12-08 21:32:17+00:00</td>\n",
       "      <td>This week’s Apple headlines; Apple’s iPhone 16...</td>\n",
       "      <td>Forbes</td>\n",
       "      <td>&lt;!DOCTYPE html&gt;&lt;html lang=\"en\"&gt;&lt;head&gt;&lt;link rel...</td>\n",
       "      <td>12</td>\n",
       "      <td>31</td>\n",
       "      <td>13609</td>\n",
       "      <td>Apple Loop: Apple’s iPhone 16 Problem, Stunnin...</td>\n",
       "      <td>apple loop apples iphone  problem stunning ipa...</td>\n",
       "    </tr>\n",
       "  </tbody>\n",
       "</table>\n",
       "</div>"
      ],
      "text/plain": [
       "                                               Titre  \\\n",
       "0  Forget The New MacBook Pro, Apple Has Somethin...   \n",
       "1  Apple Leak Confirms Surprise iPhone 16 Pro Upg...   \n",
       "2  Apple iOS 17.2 Release Date: The Coolest iPhon...   \n",
       "3  Apple iMessage Soundly Beaten As Surprise New ...   \n",
       "4  Apple Loop: Apple’s iPhone 16 Problem, Stunnin...   \n",
       "\n",
       "                                                 URL  \\\n",
       "0  https://www.forbes.com/sites/ewanspence/2023/1...   \n",
       "1  https://www.forbes.com/sites/ewanspence/2023/1...   \n",
       "2  https://www.forbes.com/sites/davidphelan/2023/...   \n",
       "3  https://www.forbes.com/sites/zakdoffman/2023/1...   \n",
       "4  https://www.forbes.com/sites/ewanspence/2023/1...   \n",
       "\n",
       "        Date de publication  \\\n",
       "0 2023-12-09 20:30:22+00:00   \n",
       "1 2023-12-09 14:42:17+00:00   \n",
       "2 2023-12-09 14:38:43+00:00   \n",
       "3 2023-12-09 12:30:29+00:00   \n",
       "4 2023-12-08 21:32:17+00:00   \n",
       "\n",
       "                                         Description  Source  \\\n",
       "0  Apple’s awkward MacBook Pro may look attractiv...  Forbes   \n",
       "1  iPhone 16 Pro models will be the first to bene...  Forbes   \n",
       "2  There’s a big iPhone update coming and it’s fu...  Forbes   \n",
       "3  Forget iPhone 15—Apple suddenly has a major iP...  Forbes   \n",
       "4  This week’s Apple headlines; Apple’s iPhone 16...  Forbes   \n",
       "\n",
       "                                             Contenu  Title_length  \\\n",
       "0  <!DOCTYPE html><html lang=\"en\"><head><link rel...            10   \n",
       "1  <!DOCTYPE html><html lang=\"en\"><head><link rel...             8   \n",
       "2  <!DOCTYPE html><html lang=\"en\"><head><link rel...            12   \n",
       "3  <!DOCTYPE html><html lang=\"en\"><head><link rel...            10   \n",
       "4  <!DOCTYPE html><html lang=\"en\"><head><link rel...            12   \n",
       "\n",
       "   Description_length  Content_length  \\\n",
       "0                  17           12958   \n",
       "1                  21           12521   \n",
       "2                  22           13484   \n",
       "3                  14           13650   \n",
       "4                  31           13609   \n",
       "\n",
       "                                    Selected_content  \\\n",
       "0  Forget The New MacBook Pro, Apple Has Somethin...   \n",
       "1  Apple Leak Confirms Surprise iPhone 16 Pro Upg...   \n",
       "2  Apple iOS 17.2 Release Date: The Coolest iPhon...   \n",
       "3  Apple iMessage Soundly Beaten As Surprise New ...   \n",
       "4  Apple Loop: Apple’s iPhone 16 Problem, Stunnin...   \n",
       "\n",
       "                                     Content_cleaned  \n",
       "0  forget the new macbook pro apple has something...  \n",
       "1   apple leak confirms surprise iphone  pro upgrade  \n",
       "2  apple ios  release date the coolest iphone upg...  \n",
       "3  apple imessage soundly beaten as surprise new ...  \n",
       "4  apple loop apples iphone  problem stunning ipa...  "
      ]
     },
     "execution_count": 255,
     "metadata": {},
     "output_type": "execute_result"
    }
   ],
   "source": [
    "df_content['Content_cleaned']=df_content['Titre'].apply(cleaning_text)\n",
    "df_content.head()"
   ]
  },
  {
   "cell_type": "code",
   "execution_count": 257,
   "metadata": {},
   "outputs": [
    {
     "data": {
      "text/html": [
       "<div>\n",
       "<style scoped>\n",
       "    .dataframe tbody tr th:only-of-type {\n",
       "        vertical-align: middle;\n",
       "    }\n",
       "\n",
       "    .dataframe tbody tr th {\n",
       "        vertical-align: top;\n",
       "    }\n",
       "\n",
       "    .dataframe thead th {\n",
       "        text-align: right;\n",
       "    }\n",
       "</style>\n",
       "<table border=\"1\" class=\"dataframe\">\n",
       "  <thead>\n",
       "    <tr style=\"text-align: right;\">\n",
       "      <th></th>\n",
       "      <th>Titre</th>\n",
       "      <th>URL</th>\n",
       "      <th>Date de publication</th>\n",
       "      <th>Description</th>\n",
       "      <th>Source</th>\n",
       "      <th>Contenu</th>\n",
       "      <th>Title_length</th>\n",
       "      <th>Description_length</th>\n",
       "      <th>Content_length</th>\n",
       "      <th>Selected_content</th>\n",
       "      <th>Content_cleaned</th>\n",
       "      <th>Counting_Words</th>\n",
       "      <th>Most_common_text</th>\n",
       "    </tr>\n",
       "  </thead>\n",
       "  <tbody>\n",
       "    <tr>\n",
       "      <th>0</th>\n",
       "      <td>Forget The New MacBook Pro, Apple Has Somethin...</td>\n",
       "      <td>https://www.forbes.com/sites/ewanspence/2023/1...</td>\n",
       "      <td>2023-12-09 20:30:22+00:00</td>\n",
       "      <td>Apple’s awkward MacBook Pro may look attractiv...</td>\n",
       "      <td>Forbes</td>\n",
       "      <td>&lt;!DOCTYPE html&gt;&lt;html lang=\"en\"&gt;&lt;head&gt;&lt;link rel...</td>\n",
       "      <td>10</td>\n",
       "      <td>17</td>\n",
       "      <td>12958</td>\n",
       "      <td>Forget The New MacBook Pro, Apple Has Somethin...</td>\n",
       "      <td>forget the new macbook pro apple has something...</td>\n",
       "      <td>{'forget': 1, 'the': 1, 'new': 1, 'macbook': 1...</td>\n",
       "      <td>{'forget': 1, 'the': 1, 'new': 1, 'macbook': 1...</td>\n",
       "    </tr>\n",
       "    <tr>\n",
       "      <th>1</th>\n",
       "      <td>Apple Leak Confirms Surprise iPhone 16 Pro Upg...</td>\n",
       "      <td>https://www.forbes.com/sites/ewanspence/2023/1...</td>\n",
       "      <td>2023-12-09 14:42:17+00:00</td>\n",
       "      <td>iPhone 16 Pro models will be the first to bene...</td>\n",
       "      <td>Forbes</td>\n",
       "      <td>&lt;!DOCTYPE html&gt;&lt;html lang=\"en\"&gt;&lt;head&gt;&lt;link rel...</td>\n",
       "      <td>8</td>\n",
       "      <td>21</td>\n",
       "      <td>12521</td>\n",
       "      <td>Apple Leak Confirms Surprise iPhone 16 Pro Upg...</td>\n",
       "      <td>apple leak confirms surprise iphone  pro upgrade</td>\n",
       "      <td>{'apple': 1, 'leak': 1, 'confirms': 1, 'surpri...</td>\n",
       "      <td>{'apple': 1, 'leak': 1, 'confirms': 1, 'surpri...</td>\n",
       "    </tr>\n",
       "    <tr>\n",
       "      <th>2</th>\n",
       "      <td>Apple iOS 17.2 Release Date: The Coolest iPhon...</td>\n",
       "      <td>https://www.forbes.com/sites/davidphelan/2023/...</td>\n",
       "      <td>2023-12-09 14:38:43+00:00</td>\n",
       "      <td>There’s a big iPhone update coming and it’s fu...</td>\n",
       "      <td>Forbes</td>\n",
       "      <td>&lt;!DOCTYPE html&gt;&lt;html lang=\"en\"&gt;&lt;head&gt;&lt;link rel...</td>\n",
       "      <td>12</td>\n",
       "      <td>22</td>\n",
       "      <td>13484</td>\n",
       "      <td>Apple iOS 17.2 Release Date: The Coolest iPhon...</td>\n",
       "      <td>apple ios  release date the coolest iphone upg...</td>\n",
       "      <td>{'apple': 1, 'ios': 1, 'release': 1, 'date': 1...</td>\n",
       "      <td>{'apple': 1, 'ios': 1, 'release': 1, 'date': 1...</td>\n",
       "    </tr>\n",
       "    <tr>\n",
       "      <th>3</th>\n",
       "      <td>Apple iMessage Soundly Beaten As Surprise New ...</td>\n",
       "      <td>https://www.forbes.com/sites/zakdoffman/2023/1...</td>\n",
       "      <td>2023-12-09 12:30:29+00:00</td>\n",
       "      <td>Forget iPhone 15—Apple suddenly has a major iP...</td>\n",
       "      <td>Forbes</td>\n",
       "      <td>&lt;!DOCTYPE html&gt;&lt;html lang=\"en\"&gt;&lt;head&gt;&lt;link rel...</td>\n",
       "      <td>10</td>\n",
       "      <td>14</td>\n",
       "      <td>13650</td>\n",
       "      <td>Apple iMessage Soundly Beaten As Surprise New ...</td>\n",
       "      <td>apple imessage soundly beaten as surprise new ...</td>\n",
       "      <td>{'apple': 1, 'imessage': 1, 'soundly': 1, 'bea...</td>\n",
       "      <td>{'apple': 1, 'imessage': 1, 'soundly': 1, 'bea...</td>\n",
       "    </tr>\n",
       "    <tr>\n",
       "      <th>4</th>\n",
       "      <td>Apple Loop: Apple’s iPhone 16 Problem, Stunnin...</td>\n",
       "      <td>https://www.forbes.com/sites/ewanspence/2023/1...</td>\n",
       "      <td>2023-12-08 21:32:17+00:00</td>\n",
       "      <td>This week’s Apple headlines; Apple’s iPhone 16...</td>\n",
       "      <td>Forbes</td>\n",
       "      <td>&lt;!DOCTYPE html&gt;&lt;html lang=\"en\"&gt;&lt;head&gt;&lt;link rel...</td>\n",
       "      <td>12</td>\n",
       "      <td>31</td>\n",
       "      <td>13609</td>\n",
       "      <td>Apple Loop: Apple’s iPhone 16 Problem, Stunnin...</td>\n",
       "      <td>apple loop apples iphone  problem stunning ipa...</td>\n",
       "      <td>{'apple': 1, 'loop': 1, 'apples': 1, 'iphone':...</td>\n",
       "      <td>{'apple': 1, 'loop': 1, 'apples': 1, 'iphone':...</td>\n",
       "    </tr>\n",
       "    <tr>\n",
       "      <th>5</th>\n",
       "      <td>Apple iPhone, Watch product design head to lea...</td>\n",
       "      <td>https://www.marketwatch.com/story/apple-iphone...</td>\n",
       "      <td>2023-12-08 20:37:19+00:00</td>\n",
       "      <td>Tang Tan, the Apple Inc. executive who headed ...</td>\n",
       "      <td>MarketWatch</td>\n",
       "      <td>&lt;!DOCTYPE html&gt;\\n&lt;html\\n  lang=\"en-US\"\\n  data...</td>\n",
       "      <td>9</td>\n",
       "      <td>27</td>\n",
       "      <td>14471</td>\n",
       "      <td>Apple iPhone, Watch product design head to lea...</td>\n",
       "      <td>apple iphone watch product design head to leav...</td>\n",
       "      <td>{'apple': 1, 'iphone': 1, 'watch': 1, 'product...</td>\n",
       "      <td>{'apple': 1, 'iphone': 1, 'watch': 1, 'product...</td>\n",
       "    </tr>\n",
       "    <tr>\n",
       "      <th>6</th>\n",
       "      <td>: Apple iPhone, Watch product design head to l...</td>\n",
       "      <td>https://www.marketwatch.com/story/apple-iphone...</td>\n",
       "      <td>2023-12-08 20:30:00+00:00</td>\n",
       "      <td>Tang Tan, the Apple Inc. executive who headed ...</td>\n",
       "      <td>MarketWatch</td>\n",
       "      <td>&lt;!DOCTYPE html&gt;\\n&lt;html\\n  lang=\"en-US\"\\n  data...</td>\n",
       "      <td>10</td>\n",
       "      <td>27</td>\n",
       "      <td>14482</td>\n",
       "      <td>Apple iPhone, Watch product design head to lea...</td>\n",
       "      <td>apple iphone watch product design head to lea...</td>\n",
       "      <td>{'apple': 1, 'iphone': 1, 'watch': 1, 'product...</td>\n",
       "      <td>{'apple': 1, 'iphone': 1, 'watch': 1, 'product...</td>\n",
       "    </tr>\n",
       "    <tr>\n",
       "      <th>7</th>\n",
       "      <td>Apple's latest moves in India underscore data ...</td>\n",
       "      <td>https://www.cnbc.com/2023/12/08/apples-latest-...</td>\n",
       "      <td>2023-12-08 18:20:47+00:00</td>\n",
       "      <td>India's economy is about 16½ years behind Chin...</td>\n",
       "      <td>CNBC</td>\n",
       "      <td>&lt;!DOCTYPE html&gt;&lt;html lang=\"en\" prefix=\"og=http...</td>\n",
       "      <td>15</td>\n",
       "      <td>21</td>\n",
       "      <td>26008</td>\n",
       "      <td>Apple's latest moves in India underscore data ...</td>\n",
       "      <td>apples latest moves in india underscore data s...</td>\n",
       "      <td>{'apples': 1, 'latest': 1, 'moves': 1, 'in': 1...</td>\n",
       "      <td>{'apples': 1, 'latest': 1, 'moves': 1, 'in': 1...</td>\n",
       "    </tr>\n",
       "    <tr>\n",
       "      <th>8</th>\n",
       "      <td>No-One Cares Which Bank Provides Their Apple Card</td>\n",
       "      <td>https://www.forbes.com/sites/davidbirch/2023/1...</td>\n",
       "      <td>2023-12-08 11:57:45+00:00</td>\n",
       "      <td>So long as my rewards card works and I get my ...</td>\n",
       "      <td>Forbes</td>\n",
       "      <td>&lt;!DOCTYPE html&gt;&lt;html lang=\"en\"&gt;&lt;head&gt;&lt;link rel...</td>\n",
       "      <td>8</td>\n",
       "      <td>24</td>\n",
       "      <td>13004</td>\n",
       "      <td>No-One Cares Which Bank Provides Their Apple C...</td>\n",
       "      <td>noone cares which bank provides their apple card</td>\n",
       "      <td>{'noone': 1, 'cares': 1, 'which': 1, 'bank': 1...</td>\n",
       "      <td>{'noone': 1, 'cares': 1, 'which': 1, 'bank': 1...</td>\n",
       "    </tr>\n",
       "    <tr>\n",
       "      <th>9</th>\n",
       "      <td>Apple Wants To Make 1-In-4 iPhones In India As...</td>\n",
       "      <td>https://www.forbes.com/sites/siladityaray/2023...</td>\n",
       "      <td>2023-12-08 11:48:48+00:00</td>\n",
       "      <td>Apple wants to expand its Indian manufacturing...</td>\n",
       "      <td>Forbes</td>\n",
       "      <td>&lt;!DOCTYPE html&gt;&lt;html lang=\"en\"&gt;&lt;head&gt;&lt;link rel...</td>\n",
       "      <td>21</td>\n",
       "      <td>25</td>\n",
       "      <td>16170</td>\n",
       "      <td>Apple Wants To Make 1-In-4 iPhones In India As...</td>\n",
       "      <td>apple wants to make in iphones in india as tat...</td>\n",
       "      <td>{'apple': 1, 'wants': 1, 'to': 2, 'make': 1, '...</td>\n",
       "      <td>{'to': 2, 'in': 2, 'apple': 1, 'wants': 1, 'ma...</td>\n",
       "    </tr>\n",
       "    <tr>\n",
       "      <th>10</th>\n",
       "      <td>Apple reportedly plans major expansion of iPho...</td>\n",
       "      <td>https://www.marketwatch.com/story/apple-report...</td>\n",
       "      <td>2023-12-08 04:23:00+00:00</td>\n",
       "      <td>Apple Inc. is planning a massive expansion of ...</td>\n",
       "      <td>MarketWatch</td>\n",
       "      <td>&lt;!DOCTYPE html&gt;\\n&lt;html\\n  lang=\"en-US\"\\n  data...</td>\n",
       "      <td>10</td>\n",
       "      <td>17</td>\n",
       "      <td>14591</td>\n",
       "      <td>Apple reportedly plans major expansion of iPho...</td>\n",
       "      <td>apple reportedly plans major expansion of ipho...</td>\n",
       "      <td>{'apple': 1, 'reportedly': 1, 'plans': 1, 'maj...</td>\n",
       "      <td>{'apple': 1, 'reportedly': 1, 'plans': 1, 'maj...</td>\n",
       "    </tr>\n",
       "    <tr>\n",
       "      <th>11</th>\n",
       "      <td>: Apple reportedly plans major expansion of iP...</td>\n",
       "      <td>https://www.marketwatch.com/story/apple-report...</td>\n",
       "      <td>2023-12-08 04:23:00+00:00</td>\n",
       "      <td>Apple Inc. is planning a massive expansion of ...</td>\n",
       "      <td>MarketWatch</td>\n",
       "      <td>&lt;!DOCTYPE html&gt;\\n&lt;html\\n  lang=\"en-US\"\\n  data...</td>\n",
       "      <td>11</td>\n",
       "      <td>17</td>\n",
       "      <td>14602</td>\n",
       "      <td>Apple reportedly plans major expansion of iPho...</td>\n",
       "      <td>apple reportedly plans major expansion of iph...</td>\n",
       "      <td>{'apple': 1, 'reportedly': 1, 'plans': 1, 'maj...</td>\n",
       "      <td>{'apple': 1, 'reportedly': 1, 'plans': 1, 'maj...</td>\n",
       "    </tr>\n",
       "    <tr>\n",
       "      <th>12</th>\n",
       "      <td>Apple Adds NameDrop-Like Pass-Sharing Feature ...</td>\n",
       "      <td>https://www.forbes.com/sites/stevenaquino/2023...</td>\n",
       "      <td>2023-12-07 21:56:41+00:00</td>\n",
       "      <td>The feature bears a strong resemblance to the ...</td>\n",
       "      <td>Forbes</td>\n",
       "      <td>&lt;!DOCTYPE html&gt;&lt;html lang=\"en\"&gt;&lt;head&gt;&lt;link rel...</td>\n",
       "      <td>15</td>\n",
       "      <td>15</td>\n",
       "      <td>11781</td>\n",
       "      <td>Apple Adds NameDrop-Like Pass-Sharing Feature ...</td>\n",
       "      <td>apple adds namedroplike passsharing feature to...</td>\n",
       "      <td>{'apple': 1, 'adds': 1, 'namedroplike': 1, 'pa...</td>\n",
       "      <td>{'apple': 1, 'adds': 1, 'namedroplike': 1, 'pa...</td>\n",
       "    </tr>\n",
       "    <tr>\n",
       "      <th>13</th>\n",
       "      <td>Apple iPad 2024: All-New Big-Screen Model Comi...</td>\n",
       "      <td>https://www.forbes.com/sites/davidphelan/2023/...</td>\n",
       "      <td>2023-12-07 19:30:38+00:00</td>\n",
       "      <td>The latest reports suggest that four new iPads...</td>\n",
       "      <td>Forbes</td>\n",
       "      <td>&lt;!DOCTYPE html&gt;&lt;html lang=\"en\"&gt;&lt;head&gt;&lt;link rel...</td>\n",
       "      <td>11</td>\n",
       "      <td>24</td>\n",
       "      <td>8881</td>\n",
       "      <td>Apple iPad 2024: All-New Big-Screen Model Comi...</td>\n",
       "      <td>apple ipad  allnew bigscreen model coming in w...</td>\n",
       "      <td>{'apple': 1, 'ipad': 1, 'allnew': 1, 'bigscree...</td>\n",
       "      <td>{'apple': 1, 'ipad': 1, 'allnew': 1, 'bigscree...</td>\n",
       "    </tr>\n",
       "    <tr>\n",
       "      <th>14</th>\n",
       "      <td>New Apple Leak Hints At Early MacBook Air Upgrade</td>\n",
       "      <td>https://www.forbes.com/sites/ewanspence/2023/1...</td>\n",
       "      <td>2023-12-07 09:30:30+00:00</td>\n",
       "      <td>Apple's next MacBook Air laptops may arrive ea...</td>\n",
       "      <td>Forbes</td>\n",
       "      <td>&lt;!DOCTYPE html&gt;&lt;html lang=\"en\"&gt;&lt;head&gt;&lt;link rel...</td>\n",
       "      <td>9</td>\n",
       "      <td>10</td>\n",
       "      <td>13181</td>\n",
       "      <td>New Apple Leak Hints At Early MacBook Air Upgr...</td>\n",
       "      <td>new apple leak hints at early macbook air upgrade</td>\n",
       "      <td>{'new': 1, 'apple': 1, 'leak': 1, 'hints': 1, ...</td>\n",
       "      <td>{'new': 1, 'apple': 1, 'leak': 1, 'hints': 1, ...</td>\n",
       "    </tr>\n",
       "    <tr>\n",
       "      <th>15</th>\n",
       "      <td>This app gives Android users the ability to se...</td>\n",
       "      <td>https://www.businessinsider.com/imessage-andro...</td>\n",
       "      <td>2023-12-07 09:20:01+00:00</td>\n",
       "      <td>Beeper Mini is an app that gives Android users...</td>\n",
       "      <td>Business Insider</td>\n",
       "      <td>&lt;!DOCTYPE html&gt;\\n&lt;html lang=\"en-US\"&gt;\\n\\n&lt;head&gt;...</td>\n",
       "      <td>19</td>\n",
       "      <td>17</td>\n",
       "      <td>10204</td>\n",
       "      <td>This app gives Android users the ability to se...</td>\n",
       "      <td>this app gives android users the ability to se...</td>\n",
       "      <td>{'this': 1, 'app': 1, 'gives': 1, 'android': 1...</td>\n",
       "      <td>{'to': 2, 'this': 1, 'app': 1, 'gives': 1, 'an...</td>\n",
       "    </tr>\n",
       "  </tbody>\n",
       "</table>\n",
       "</div>"
      ],
      "text/plain": [
       "                                                Titre  \\\n",
       "0   Forget The New MacBook Pro, Apple Has Somethin...   \n",
       "1   Apple Leak Confirms Surprise iPhone 16 Pro Upg...   \n",
       "2   Apple iOS 17.2 Release Date: The Coolest iPhon...   \n",
       "3   Apple iMessage Soundly Beaten As Surprise New ...   \n",
       "4   Apple Loop: Apple’s iPhone 16 Problem, Stunnin...   \n",
       "5   Apple iPhone, Watch product design head to lea...   \n",
       "6   : Apple iPhone, Watch product design head to l...   \n",
       "7   Apple's latest moves in India underscore data ...   \n",
       "8   No-One Cares Which Bank Provides Their Apple Card   \n",
       "9   Apple Wants To Make 1-In-4 iPhones In India As...   \n",
       "10  Apple reportedly plans major expansion of iPho...   \n",
       "11  : Apple reportedly plans major expansion of iP...   \n",
       "12  Apple Adds NameDrop-Like Pass-Sharing Feature ...   \n",
       "13  Apple iPad 2024: All-New Big-Screen Model Comi...   \n",
       "14  New Apple Leak Hints At Early MacBook Air Upgrade   \n",
       "15  This app gives Android users the ability to se...   \n",
       "\n",
       "                                                  URL  \\\n",
       "0   https://www.forbes.com/sites/ewanspence/2023/1...   \n",
       "1   https://www.forbes.com/sites/ewanspence/2023/1...   \n",
       "2   https://www.forbes.com/sites/davidphelan/2023/...   \n",
       "3   https://www.forbes.com/sites/zakdoffman/2023/1...   \n",
       "4   https://www.forbes.com/sites/ewanspence/2023/1...   \n",
       "5   https://www.marketwatch.com/story/apple-iphone...   \n",
       "6   https://www.marketwatch.com/story/apple-iphone...   \n",
       "7   https://www.cnbc.com/2023/12/08/apples-latest-...   \n",
       "8   https://www.forbes.com/sites/davidbirch/2023/1...   \n",
       "9   https://www.forbes.com/sites/siladityaray/2023...   \n",
       "10  https://www.marketwatch.com/story/apple-report...   \n",
       "11  https://www.marketwatch.com/story/apple-report...   \n",
       "12  https://www.forbes.com/sites/stevenaquino/2023...   \n",
       "13  https://www.forbes.com/sites/davidphelan/2023/...   \n",
       "14  https://www.forbes.com/sites/ewanspence/2023/1...   \n",
       "15  https://www.businessinsider.com/imessage-andro...   \n",
       "\n",
       "         Date de publication  \\\n",
       "0  2023-12-09 20:30:22+00:00   \n",
       "1  2023-12-09 14:42:17+00:00   \n",
       "2  2023-12-09 14:38:43+00:00   \n",
       "3  2023-12-09 12:30:29+00:00   \n",
       "4  2023-12-08 21:32:17+00:00   \n",
       "5  2023-12-08 20:37:19+00:00   \n",
       "6  2023-12-08 20:30:00+00:00   \n",
       "7  2023-12-08 18:20:47+00:00   \n",
       "8  2023-12-08 11:57:45+00:00   \n",
       "9  2023-12-08 11:48:48+00:00   \n",
       "10 2023-12-08 04:23:00+00:00   \n",
       "11 2023-12-08 04:23:00+00:00   \n",
       "12 2023-12-07 21:56:41+00:00   \n",
       "13 2023-12-07 19:30:38+00:00   \n",
       "14 2023-12-07 09:30:30+00:00   \n",
       "15 2023-12-07 09:20:01+00:00   \n",
       "\n",
       "                                          Description            Source  \\\n",
       "0   Apple’s awkward MacBook Pro may look attractiv...            Forbes   \n",
       "1   iPhone 16 Pro models will be the first to bene...            Forbes   \n",
       "2   There’s a big iPhone update coming and it’s fu...            Forbes   \n",
       "3   Forget iPhone 15—Apple suddenly has a major iP...            Forbes   \n",
       "4   This week’s Apple headlines; Apple’s iPhone 16...            Forbes   \n",
       "5   Tang Tan, the Apple Inc. executive who headed ...       MarketWatch   \n",
       "6   Tang Tan, the Apple Inc. executive who headed ...       MarketWatch   \n",
       "7   India's economy is about 16½ years behind Chin...              CNBC   \n",
       "8   So long as my rewards card works and I get my ...            Forbes   \n",
       "9   Apple wants to expand its Indian manufacturing...            Forbes   \n",
       "10  Apple Inc. is planning a massive expansion of ...       MarketWatch   \n",
       "11  Apple Inc. is planning a massive expansion of ...       MarketWatch   \n",
       "12  The feature bears a strong resemblance to the ...            Forbes   \n",
       "13  The latest reports suggest that four new iPads...            Forbes   \n",
       "14  Apple's next MacBook Air laptops may arrive ea...            Forbes   \n",
       "15  Beeper Mini is an app that gives Android users...  Business Insider   \n",
       "\n",
       "                                              Contenu  Title_length  \\\n",
       "0   <!DOCTYPE html><html lang=\"en\"><head><link rel...            10   \n",
       "1   <!DOCTYPE html><html lang=\"en\"><head><link rel...             8   \n",
       "2   <!DOCTYPE html><html lang=\"en\"><head><link rel...            12   \n",
       "3   <!DOCTYPE html><html lang=\"en\"><head><link rel...            10   \n",
       "4   <!DOCTYPE html><html lang=\"en\"><head><link rel...            12   \n",
       "5   <!DOCTYPE html>\\n<html\\n  lang=\"en-US\"\\n  data...             9   \n",
       "6   <!DOCTYPE html>\\n<html\\n  lang=\"en-US\"\\n  data...            10   \n",
       "7   <!DOCTYPE html><html lang=\"en\" prefix=\"og=http...            15   \n",
       "8   <!DOCTYPE html><html lang=\"en\"><head><link rel...             8   \n",
       "9   <!DOCTYPE html><html lang=\"en\"><head><link rel...            21   \n",
       "10  <!DOCTYPE html>\\n<html\\n  lang=\"en-US\"\\n  data...            10   \n",
       "11  <!DOCTYPE html>\\n<html\\n  lang=\"en-US\"\\n  data...            11   \n",
       "12  <!DOCTYPE html><html lang=\"en\"><head><link rel...            15   \n",
       "13  <!DOCTYPE html><html lang=\"en\"><head><link rel...            11   \n",
       "14  <!DOCTYPE html><html lang=\"en\"><head><link rel...             9   \n",
       "15  <!DOCTYPE html>\\n<html lang=\"en-US\">\\n\\n<head>...            19   \n",
       "\n",
       "    Description_length  Content_length  \\\n",
       "0                   17           12958   \n",
       "1                   21           12521   \n",
       "2                   22           13484   \n",
       "3                   14           13650   \n",
       "4                   31           13609   \n",
       "5                   27           14471   \n",
       "6                   27           14482   \n",
       "7                   21           26008   \n",
       "8                   24           13004   \n",
       "9                   25           16170   \n",
       "10                  17           14591   \n",
       "11                  17           14602   \n",
       "12                  15           11781   \n",
       "13                  24            8881   \n",
       "14                  10           13181   \n",
       "15                  17           10204   \n",
       "\n",
       "                                     Selected_content  \\\n",
       "0   Forget The New MacBook Pro, Apple Has Somethin...   \n",
       "1   Apple Leak Confirms Surprise iPhone 16 Pro Upg...   \n",
       "2   Apple iOS 17.2 Release Date: The Coolest iPhon...   \n",
       "3   Apple iMessage Soundly Beaten As Surprise New ...   \n",
       "4   Apple Loop: Apple’s iPhone 16 Problem, Stunnin...   \n",
       "5   Apple iPhone, Watch product design head to lea...   \n",
       "6   Apple iPhone, Watch product design head to lea...   \n",
       "7   Apple's latest moves in India underscore data ...   \n",
       "8   No-One Cares Which Bank Provides Their Apple C...   \n",
       "9   Apple Wants To Make 1-In-4 iPhones In India As...   \n",
       "10  Apple reportedly plans major expansion of iPho...   \n",
       "11  Apple reportedly plans major expansion of iPho...   \n",
       "12  Apple Adds NameDrop-Like Pass-Sharing Feature ...   \n",
       "13  Apple iPad 2024: All-New Big-Screen Model Comi...   \n",
       "14  New Apple Leak Hints At Early MacBook Air Upgr...   \n",
       "15  This app gives Android users the ability to se...   \n",
       "\n",
       "                                      Content_cleaned  \\\n",
       "0   forget the new macbook pro apple has something...   \n",
       "1    apple leak confirms surprise iphone  pro upgrade   \n",
       "2   apple ios  release date the coolest iphone upg...   \n",
       "3   apple imessage soundly beaten as surprise new ...   \n",
       "4   apple loop apples iphone  problem stunning ipa...   \n",
       "5   apple iphone watch product design head to leav...   \n",
       "6    apple iphone watch product design head to lea...   \n",
       "7   apples latest moves in india underscore data s...   \n",
       "8    noone cares which bank provides their apple card   \n",
       "9   apple wants to make in iphones in india as tat...   \n",
       "10  apple reportedly plans major expansion of ipho...   \n",
       "11   apple reportedly plans major expansion of iph...   \n",
       "12  apple adds namedroplike passsharing feature to...   \n",
       "13  apple ipad  allnew bigscreen model coming in w...   \n",
       "14  new apple leak hints at early macbook air upgrade   \n",
       "15  this app gives android users the ability to se...   \n",
       "\n",
       "                                       Counting_Words  \\\n",
       "0   {'forget': 1, 'the': 1, 'new': 1, 'macbook': 1...   \n",
       "1   {'apple': 1, 'leak': 1, 'confirms': 1, 'surpri...   \n",
       "2   {'apple': 1, 'ios': 1, 'release': 1, 'date': 1...   \n",
       "3   {'apple': 1, 'imessage': 1, 'soundly': 1, 'bea...   \n",
       "4   {'apple': 1, 'loop': 1, 'apples': 1, 'iphone':...   \n",
       "5   {'apple': 1, 'iphone': 1, 'watch': 1, 'product...   \n",
       "6   {'apple': 1, 'iphone': 1, 'watch': 1, 'product...   \n",
       "7   {'apples': 1, 'latest': 1, 'moves': 1, 'in': 1...   \n",
       "8   {'noone': 1, 'cares': 1, 'which': 1, 'bank': 1...   \n",
       "9   {'apple': 1, 'wants': 1, 'to': 2, 'make': 1, '...   \n",
       "10  {'apple': 1, 'reportedly': 1, 'plans': 1, 'maj...   \n",
       "11  {'apple': 1, 'reportedly': 1, 'plans': 1, 'maj...   \n",
       "12  {'apple': 1, 'adds': 1, 'namedroplike': 1, 'pa...   \n",
       "13  {'apple': 1, 'ipad': 1, 'allnew': 1, 'bigscree...   \n",
       "14  {'new': 1, 'apple': 1, 'leak': 1, 'hints': 1, ...   \n",
       "15  {'this': 1, 'app': 1, 'gives': 1, 'android': 1...   \n",
       "\n",
       "                                     Most_common_text  \n",
       "0   {'forget': 1, 'the': 1, 'new': 1, 'macbook': 1...  \n",
       "1   {'apple': 1, 'leak': 1, 'confirms': 1, 'surpri...  \n",
       "2   {'apple': 1, 'ios': 1, 'release': 1, 'date': 1...  \n",
       "3   {'apple': 1, 'imessage': 1, 'soundly': 1, 'bea...  \n",
       "4   {'apple': 1, 'loop': 1, 'apples': 1, 'iphone':...  \n",
       "5   {'apple': 1, 'iphone': 1, 'watch': 1, 'product...  \n",
       "6   {'apple': 1, 'iphone': 1, 'watch': 1, 'product...  \n",
       "7   {'apples': 1, 'latest': 1, 'moves': 1, 'in': 1...  \n",
       "8   {'noone': 1, 'cares': 1, 'which': 1, 'bank': 1...  \n",
       "9   {'to': 2, 'in': 2, 'apple': 1, 'wants': 1, 'ma...  \n",
       "10  {'apple': 1, 'reportedly': 1, 'plans': 1, 'maj...  \n",
       "11  {'apple': 1, 'reportedly': 1, 'plans': 1, 'maj...  \n",
       "12  {'apple': 1, 'adds': 1, 'namedroplike': 1, 'pa...  \n",
       "13  {'apple': 1, 'ipad': 1, 'allnew': 1, 'bigscree...  \n",
       "14  {'new': 1, 'apple': 1, 'leak': 1, 'hints': 1, ...  \n",
       "15  {'to': 2, 'this': 1, 'app': 1, 'gives': 1, 'an...  "
      ]
     },
     "execution_count": 257,
     "metadata": {},
     "output_type": "execute_result"
    }
   ],
   "source": [
    "\n",
    "\n",
    "df_content['Counting_Words']=df_content['Content_cleaned'].apply(count_common_words)\n",
    "df_content['Most_common_text']=df_content['Counting_Words'].apply(most_common_words)\n",
    "\n",
    "df_content"
   ]
  }
 ],
 "metadata": {
  "kernelspec": {
   "display_name": "Python 3",
   "language": "python",
   "name": "python3"
  },
  "language_info": {
   "codemirror_mode": {
    "name": "ipython",
    "version": 3
   },
   "file_extension": ".py",
   "mimetype": "text/x-python",
   "name": "python",
   "nbconvert_exporter": "python",
   "pygments_lexer": "ipython3",
   "version": "3.9.6"
  }
 },
 "nbformat": 4,
 "nbformat_minor": 2
}
