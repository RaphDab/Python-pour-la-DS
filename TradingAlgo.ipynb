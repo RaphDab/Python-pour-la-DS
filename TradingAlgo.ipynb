{
 "cells": [
  {
   "cell_type": "markdown",
   "metadata": {},
   "source": [
    "# Algorithme de trading"
   ]
  },
  {
   "cell_type": "markdown",
   "metadata": {},
   "source": [
    "Dans cette dernière partie du projet, nous récupérons les deux modèles entraînés ainsi que les articles de presse, les posts Reddit et le cours de l'action Apple pour conseiller à notre utilisateur d'acheter ou non une action Apple avant que le marché n'ouvre."
   ]
  },
  {
   "cell_type": "markdown",
   "metadata": {},
   "source": [
    "### Renseignez la date du jour"
   ]
  },
  {
   "cell_type": "code",
   "execution_count": 2,
   "metadata": {},
   "outputs": [],
   "source": [
    "from datetime import datetime, timedelta\n",
    "\n",
    "\n",
    "#On demande à l'utilisateur de saisir une date\n",
    "\n",
    "user_date_input = input(\"Entrez la date d'aujourd'hui (format AAAA-MM-JJ): \")\n",
    "current_date = datetime.strptime(user_date_input, \"%Y-%m-%d\")"
   ]
  },
  {
   "cell_type": "markdown",
   "metadata": {},
   "source": [
    "## Récupération des articles de presse de Forbes des 48h précédentes"
   ]
  },
  {
   "cell_type": "code",
   "execution_count": 2,
   "metadata": {},
   "outputs": [
    {
     "name": "stderr",
     "output_type": "stream",
     "text": [
      "/Users/dabadieraphael/Library/Python/3.9/lib/python/site-packages/urllib3/__init__.py:34: NotOpenSSLWarning: urllib3 v2 only supports OpenSSL 1.1.1+, currently the 'ssl' module is compiled with 'LibreSSL 2.8.3'. See: https://github.com/urllib3/urllib3/issues/3020\n",
      "  warnings.warn(\n"
     ]
    },
    {
     "name": "stdout",
     "output_type": "stream",
     "text": [
      "Titre: Evaluating Industrials In The 2I Era: A Closer Look\n",
      "Source: Forbes\n",
      "URL: https://www.forbes.com/sites/forbesbusinesscouncil/2023/12/26/evaluating-industrials-in-the-2i-era-a-closer-look/\n",
      "\n",
      "Titre: 3 Improv Games To Get Your Team Out Of Their Comfort Zone\n",
      "Source: Forbes\n",
      "URL: https://www.forbes.com/sites/forbesagencycouncil/2023/12/26/3-improv-games-to-get-your-team-out-of-their-comfort-zone/\n",
      "\n",
      "Titre: What Enterprises Should Know About ESIM Technology\n",
      "Source: Forbes\n",
      "URL: https://www.forbes.com/sites/forbestechcouncil/2023/12/26/what-enterprises-should-know-about-esim-technology/\n",
      "\n",
      "Titre: Samsung Insiders Confirm Three Stunning Galaxy S24 Ultra Decisions\n",
      "Source: Forbes\n",
      "URL: https://www.forbes.com/sites/ewanspence/2023/12/25/samsung-galaxy-s24-ultra-design-performance-launch-exynos-snapdragon-new-galaxy-s24-release/\n",
      "\n",
      "Titre: Apple iOS 17.3 Release Date: Awesome iPhone Upgrade Coming Soon\n",
      "Source: Forbes\n",
      "URL: https://www.forbes.com/sites/davidphelan/2023/12/25/ios-173-apple-is-about-to-launch-a-stunning-new-iphone-upgrade/\n",
      "\n",
      "Titre: Magnificent Seven? Consider My Regular Seven Instead\n",
      "Source: Forbes\n",
      "URL: https://www.forbes.com/sites/johndorfman/2023/12/25/magnificent-seven-consider-my-regular-seven-instead/\n",
      "\n"
     ]
    }
   ],
   "source": [
    "import requests\n",
    "\n",
    "start_date = current_date - timedelta(days=2)\n",
    "end_date = current_date\n",
    "parameters = {\n",
    "    'q': 'Apple',\n",
    "    'domains': 'forbes.com',\n",
    "    'from': start_date.strftime(\"%Y-%m-%d\"),\n",
    "    'to': end_date.strftime(\"%Y-%m-%d\"),\n",
    "    'sortBy': 'publishedAt',\n",
    "    'apiKey': '1b20fb6f9b9d40f0b4e4ad6fe5d90755'  # Assurez-vous d'utiliser votre propre clé API\n",
    "}\n",
    "\n",
    "url = 'https://newsapi.org/v2/everything'\n",
    "\n",
    "# Appel de l'API\n",
    "response = requests.get(url, params=parameters)\n",
    "articles = response.json().get('articles', [])  # Utilisez .get pour éviter les erreurs si 'articles' n'existe pas\n",
    "\n",
    "# Itérer sur chaque article récupéré\n",
    "for article in articles:\n",
    "    title = article.get('title', 'Titre indisponible')  # Utilisez .get pour éviter les erreurs si 'title' n'existe pas\n",
    "    source_name = article.get('source', {}).get('name', 'Source indisponible')  # Récupérer le nom de la source\n",
    "    url = article.get('url', 'URL indisponible')  # Récupérer l'URL de l'article\n",
    "    print(f\"Titre: {title}\\nSource: {source_name}\\nURL: {url}\\n\")"
   ]
  },
  {
   "cell_type": "markdown",
   "metadata": {},
   "source": [
    "### Nettoyage des articles"
   ]
  },
  {
   "cell_type": "code",
   "execution_count": 3,
   "metadata": {},
   "outputs": [
    {
     "data": {
      "text/html": [
       "<div>\n",
       "<style scoped>\n",
       "    .dataframe tbody tr th:only-of-type {\n",
       "        vertical-align: middle;\n",
       "    }\n",
       "\n",
       "    .dataframe tbody tr th {\n",
       "        vertical-align: top;\n",
       "    }\n",
       "\n",
       "    .dataframe thead th {\n",
       "        text-align: right;\n",
       "    }\n",
       "</style>\n",
       "<table border=\"1\" class=\"dataframe\">\n",
       "  <thead>\n",
       "    <tr style=\"text-align: right;\">\n",
       "      <th></th>\n",
       "      <th>Titre</th>\n",
       "      <th>URL</th>\n",
       "      <th>Date de publication</th>\n",
       "      <th>Description</th>\n",
       "      <th>Source</th>\n",
       "      <th>Contenu</th>\n",
       "    </tr>\n",
       "  </thead>\n",
       "  <tbody>\n",
       "    <tr>\n",
       "      <th>0</th>\n",
       "      <td>Apple iOS 17.3 Release Date: Awesome iPhone Up...</td>\n",
       "      <td>https://www.forbes.com/sites/davidphelan/2023/...</td>\n",
       "      <td>2023-12-25T21:26:53Z</td>\n",
       "      <td>The next big iOS update is on its way and incl...</td>\n",
       "      <td>Forbes</td>\n",
       "      <td>&lt;!DOCTYPE html&gt;&lt;html lang=\"en\"&gt;&lt;head&gt;&lt;link rel...</td>\n",
       "    </tr>\n",
       "  </tbody>\n",
       "</table>\n",
       "</div>"
      ],
      "text/plain": [
       "                                               Titre  \\\n",
       "0  Apple iOS 17.3 Release Date: Awesome iPhone Up...   \n",
       "\n",
       "                                                 URL   Date de publication  \\\n",
       "0  https://www.forbes.com/sites/davidphelan/2023/...  2023-12-25T21:26:53Z   \n",
       "\n",
       "                                         Description  Source  \\\n",
       "0  The next big iOS update is on its way and incl...  Forbes   \n",
       "\n",
       "                                             Contenu  \n",
       "0  <!DOCTYPE html><html lang=\"en\"><head><link rel...  "
      ]
     },
     "execution_count": 3,
     "metadata": {},
     "output_type": "execute_result"
    }
   ],
   "source": [
    "import csv\n",
    "import pandas as pd\n",
    "\n",
    "with open('articles_algo.csv', mode='w', newline='', encoding='utf-8') as file:\n",
    "    writer = csv.writer(file)\n",
    "    writer.writerow(['Titre', 'URL', 'Date de publication', 'Description','Source'])\n",
    "    for article in articles:\n",
    "        if \"Apple\" not in article['title']:\n",
    "          continue\n",
    "        writer.writerow([article['title'], article['url'], article['publishedAt'], article['description'], article['source']['name']])\n",
    "\n",
    "df=pd.read_csv('articles_algo.csv')\n",
    "\n",
    "urls = [url for url in df['URL']]\n",
    "html_contents = []\n",
    "compteur=0\n",
    "df['Contenu']=[None] * len(df)\n",
    "\n",
    "for url in urls:\n",
    "    response = requests.get(url)\n",
    "    if response.status_code == 200:\n",
    "        html_contents.append(response.text)\n",
    "        df['Contenu'].loc[compteur]=response.text\n",
    "    else:\n",
    "        print(f\"Échec de récupération pour {url}\")\n",
    "    compteur+=1\n",
    "\n",
    "df.head()"
   ]
  },
  {
   "cell_type": "code",
   "execution_count": 4,
   "metadata": {},
   "outputs": [],
   "source": [
    "import nltk\n",
    "from nltk.corpus import stopwords\n",
    "from nltk.stem import WordNetLemmatizer\n",
    "from nltk.tokenize import word_tokenize\n",
    "import re\n",
    "from bs4 import BeautifulSoup\n",
    "\n",
    "def cleaning_text(text):\n",
    "    #Passage du texte en miniscules\n",
    "    text=text.lower()\n",
    "    #Suppression des chiffres\n",
    "    text=re.sub(r'\\d+', '', text)\n",
    "    #Suppression de la ponctuation et des symboles spéciaux\n",
    "    text=re.sub(r'[^\\w\\s]', '', text)\n",
    "    return text\n",
    "\n",
    "\n",
    "stops = set(stopwords.words('english'))\n",
    "lemmatizer = WordNetLemmatizer()\n",
    "def clean_stopwords(text):\n",
    "    words = word_tokenize(text)\n",
    "    cleaned_text=[word for word in words if word not in stops]\n",
    "    return ' '.join(cleaned_text)\n",
    "\n",
    "#Fonction adaptée à la structure des articles Forbes\n",
    "def clean_html_1(text_html): \n",
    "    soup=BeautifulSoup(text_html, 'html.parser')\n",
    "    title=soup.find_all('h1', class_=True)\n",
    "    content=soup.find_all('p')\n",
    "    united_content = ' '.join(el.get_text(strip=True) for el in title + content )\n",
    "    return united_content\n"
   ]
  },
  {
   "cell_type": "code",
   "execution_count": 6,
   "metadata": {},
   "outputs": [
    {
     "data": {
      "text/html": [
       "<div>\n",
       "<style scoped>\n",
       "    .dataframe tbody tr th:only-of-type {\n",
       "        vertical-align: middle;\n",
       "    }\n",
       "\n",
       "    .dataframe tbody tr th {\n",
       "        vertical-align: top;\n",
       "    }\n",
       "\n",
       "    .dataframe thead th {\n",
       "        text-align: right;\n",
       "    }\n",
       "</style>\n",
       "<table border=\"1\" class=\"dataframe\">\n",
       "  <thead>\n",
       "    <tr style=\"text-align: right;\">\n",
       "      <th></th>\n",
       "      <th>Titre</th>\n",
       "      <th>URL</th>\n",
       "      <th>Date de publication</th>\n",
       "      <th>Description</th>\n",
       "      <th>Source</th>\n",
       "      <th>Contenu</th>\n",
       "      <th>Cleaned_html_content</th>\n",
       "      <th>Content_cleaned</th>\n",
       "      <th>Content_cleaned_from_stopwords</th>\n",
       "    </tr>\n",
       "  </thead>\n",
       "  <tbody>\n",
       "    <tr>\n",
       "      <th>0</th>\n",
       "      <td>Apple iOS 17.3 Release Date: Awesome iPhone Up...</td>\n",
       "      <td>https://www.forbes.com/sites/davidphelan/2023/...</td>\n",
       "      <td>2023-12-25T21:26:53Z</td>\n",
       "      <td>The next big iOS update is on its way and incl...</td>\n",
       "      <td>Forbes</td>\n",
       "      <td>&lt;!DOCTYPE html&gt;&lt;html lang=\"en\"&gt;&lt;head&gt;&lt;link rel...</td>\n",
       "      <td>Apple iOS 17.3 Release Date: Awesome iPhone Up...</td>\n",
       "      <td>apple ios  release date awesome iphone upgrade...</td>\n",
       "      <td>apple ios release date awesome iphone upgrade ...</td>\n",
       "    </tr>\n",
       "  </tbody>\n",
       "</table>\n",
       "</div>"
      ],
      "text/plain": [
       "                                               Titre  \\\n",
       "0  Apple iOS 17.3 Release Date: Awesome iPhone Up...   \n",
       "\n",
       "                                                 URL   Date de publication  \\\n",
       "0  https://www.forbes.com/sites/davidphelan/2023/...  2023-12-25T21:26:53Z   \n",
       "\n",
       "                                         Description  Source  \\\n",
       "0  The next big iOS update is on its way and incl...  Forbes   \n",
       "\n",
       "                                             Contenu  \\\n",
       "0  <!DOCTYPE html><html lang=\"en\"><head><link rel...   \n",
       "\n",
       "                                Cleaned_html_content  \\\n",
       "0  Apple iOS 17.3 Release Date: Awesome iPhone Up...   \n",
       "\n",
       "                                     Content_cleaned  \\\n",
       "0  apple ios  release date awesome iphone upgrade...   \n",
       "\n",
       "                      Content_cleaned_from_stopwords  \n",
       "0  apple ios release date awesome iphone upgrade ...  "
      ]
     },
     "execution_count": 6,
     "metadata": {},
     "output_type": "execute_result"
    }
   ],
   "source": [
    "if len(df)>0:\n",
    "    df['Cleaned_html_content'] = df.apply(lambda row: clean_html_1(row['Contenu']), axis=1)\n",
    "    df['Content_cleaned']=df['Cleaned_html_content'].apply(cleaning_text)\n",
    "    df['Content_cleaned_from_stopwords']=df['Content_cleaned'].apply(clean_stopwords)"
   ]
  },
  {
   "cell_type": "markdown",
   "metadata": {},
   "source": [
    "### Analyse de sentiments avec un modèle pré-entraîné"
   ]
  },
  {
   "cell_type": "code",
   "execution_count": 12,
   "metadata": {},
   "outputs": [
    {
     "name": "stderr",
     "output_type": "stream",
     "text": [
      "No model was supplied, defaulted to distilbert-base-uncased-finetuned-sst-2-english and revision af0f99b (https://huggingface.co/distilbert-base-uncased-finetuned-sst-2-english).\n",
      "Using a pipeline without specifying a model name and revision in production is not recommended.\n",
      "All PyTorch model weights were used when initializing TFDistilBertForSequenceClassification.\n",
      "\n",
      "All the weights of TFDistilBertForSequenceClassification were initialized from the PyTorch model.\n",
      "If your task is similar to the task the model of the checkpoint was trained on, you can already use TFDistilBertForSequenceClassification for predictions without further training.\n"
     ]
    },
    {
     "data": {
      "text/html": [
       "<div>\n",
       "<style scoped>\n",
       "    .dataframe tbody tr th:only-of-type {\n",
       "        vertical-align: middle;\n",
       "    }\n",
       "\n",
       "    .dataframe tbody tr th {\n",
       "        vertical-align: top;\n",
       "    }\n",
       "\n",
       "    .dataframe thead th {\n",
       "        text-align: right;\n",
       "    }\n",
       "</style>\n",
       "<table border=\"1\" class=\"dataframe\">\n",
       "  <thead>\n",
       "    <tr style=\"text-align: right;\">\n",
       "      <th></th>\n",
       "      <th>Titre</th>\n",
       "      <th>URL</th>\n",
       "      <th>Date de publication</th>\n",
       "      <th>Description</th>\n",
       "      <th>Source</th>\n",
       "      <th>Contenu</th>\n",
       "      <th>Cleaned_html_content</th>\n",
       "      <th>Content_cleaned</th>\n",
       "      <th>Content_cleaned_from_stopwords</th>\n",
       "      <th>predicted_sentiment</th>\n",
       "    </tr>\n",
       "  </thead>\n",
       "  <tbody>\n",
       "    <tr>\n",
       "      <th>0</th>\n",
       "      <td>Apple iOS 17.3 Release Date: Awesome iPhone Up...</td>\n",
       "      <td>https://www.forbes.com/sites/davidphelan/2023/...</td>\n",
       "      <td>2023-12-25T21:26:53Z</td>\n",
       "      <td>The next big iOS update is on its way and incl...</td>\n",
       "      <td>Forbes</td>\n",
       "      <td>&lt;!DOCTYPE html&gt;&lt;html lang=\"en\"&gt;&lt;head&gt;&lt;link rel...</td>\n",
       "      <td>Apple iOS 17.3 Release Date: Awesome iPhone Up...</td>\n",
       "      <td>apple ios  release date awesome iphone upgrade...</td>\n",
       "      <td>apple ios release date awesome iphone upgrade ...</td>\n",
       "      <td>NEGATIVE</td>\n",
       "    </tr>\n",
       "  </tbody>\n",
       "</table>\n",
       "</div>"
      ],
      "text/plain": [
       "                                               Titre  \\\n",
       "0  Apple iOS 17.3 Release Date: Awesome iPhone Up...   \n",
       "\n",
       "                                                 URL   Date de publication  \\\n",
       "0  https://www.forbes.com/sites/davidphelan/2023/...  2023-12-25T21:26:53Z   \n",
       "\n",
       "                                         Description  Source  \\\n",
       "0  The next big iOS update is on its way and incl...  Forbes   \n",
       "\n",
       "                                             Contenu  \\\n",
       "0  <!DOCTYPE html><html lang=\"en\"><head><link rel...   \n",
       "\n",
       "                                Cleaned_html_content  \\\n",
       "0  Apple iOS 17.3 Release Date: Awesome iPhone Up...   \n",
       "\n",
       "                                     Content_cleaned  \\\n",
       "0  apple ios  release date awesome iphone upgrade...   \n",
       "\n",
       "                      Content_cleaned_from_stopwords predicted_sentiment  \n",
       "0  apple ios release date awesome iphone upgrade ...            NEGATIVE  "
      ]
     },
     "execution_count": 12,
     "metadata": {},
     "output_type": "execute_result"
    }
   ],
   "source": [
    "from transformers import pipeline\n",
    "\n",
    "classifier = pipeline('sentiment-analysis')\n",
    "\n",
    "sentiments=[]\n",
    "#Comme nous l'avions vu précédemment, il faut tronquer les textes pour les réduire à 512 tokens au risque d'obtenir un message d'erreur\n",
    "for i in range(len(df)):\n",
    "    text = df.iloc[i,8]\n",
    "    text = text[:512]\n",
    "    sentiment = classifier(text)[0]['label']  \n",
    "    sentiments.append(sentiment)\n",
    "df['predicted_sentiment'] = sentiments\n",
    "df.head()\n",
    "\n"
   ]
  },
  {
   "cell_type": "markdown",
   "metadata": {},
   "source": [
    "On récupère le pourcentage d'articles à connotation positive parmi les articles qu'on a récupérés."
   ]
  },
  {
   "cell_type": "code",
   "execution_count": 17,
   "metadata": {},
   "outputs": [
    {
     "name": "stdout",
     "output_type": "stream",
     "text": [
      "Taux de prédictions 'POSITIVE': 0.0\n"
     ]
    }
   ],
   "source": [
    "rate_pos = (df['predicted_sentiment'] == 'POSITIVE').mean()\n",
    "\n",
    "print(f\"Taux de prédictions 'POSITIVE': {rate_pos:}\")\n"
   ]
  },
  {
   "cell_type": "markdown",
   "metadata": {},
   "source": [
    "## Récupération des posts Reddit"
   ]
  },
  {
   "cell_type": "code",
   "execution_count": null,
   "metadata": {},
   "outputs": [],
   "source": []
  },
  {
   "attachments": {},
   "cell_type": "markdown",
   "metadata": {},
   "source": [
    "## Récupération des informations de Yahoo Finance "
   ]
  },
  {
   "attachments": {},
   "cell_type": "markdown",
   "metadata": {},
   "source": [
    "On l'a déja vu dans le fichier dédié."
   ]
  },
  {
   "cell_type": "code",
   "execution_count": 8,
   "metadata": {},
   "outputs": [
    {
     "data": {
      "text/html": [
       "<div>\n",
       "<style scoped>\n",
       "    .dataframe tbody tr th:only-of-type {\n",
       "        vertical-align: middle;\n",
       "    }\n",
       "\n",
       "    .dataframe tbody tr th {\n",
       "        vertical-align: top;\n",
       "    }\n",
       "\n",
       "    .dataframe thead th {\n",
       "        text-align: right;\n",
       "    }\n",
       "</style>\n",
       "<table border=\"1\" class=\"dataframe\">\n",
       "  <thead>\n",
       "    <tr style=\"text-align: right;\">\n",
       "      <th></th>\n",
       "      <th>Date</th>\n",
       "      <th>Close</th>\n",
       "    </tr>\n",
       "  </thead>\n",
       "  <tbody>\n",
       "    <tr>\n",
       "      <th>0</th>\n",
       "      <td>2020-01-02</td>\n",
       "      <td>73.152641</td>\n",
       "    </tr>\n",
       "    <tr>\n",
       "      <th>1</th>\n",
       "      <td>2020-01-03</td>\n",
       "      <td>72.441460</td>\n",
       "    </tr>\n",
       "    <tr>\n",
       "      <th>2</th>\n",
       "      <td>2020-01-06</td>\n",
       "      <td>73.018684</td>\n",
       "    </tr>\n",
       "    <tr>\n",
       "      <th>3</th>\n",
       "      <td>2020-01-07</td>\n",
       "      <td>72.675278</td>\n",
       "    </tr>\n",
       "    <tr>\n",
       "      <th>4</th>\n",
       "      <td>2020-01-08</td>\n",
       "      <td>73.844353</td>\n",
       "    </tr>\n",
       "    <tr>\n",
       "      <th>...</th>\n",
       "      <td>...</td>\n",
       "      <td>...</td>\n",
       "    </tr>\n",
       "    <tr>\n",
       "      <th>1000</th>\n",
       "      <td>2023-12-21</td>\n",
       "      <td>194.679993</td>\n",
       "    </tr>\n",
       "    <tr>\n",
       "      <th>1001</th>\n",
       "      <td>2023-12-22</td>\n",
       "      <td>193.600006</td>\n",
       "    </tr>\n",
       "    <tr>\n",
       "      <th>1002</th>\n",
       "      <td>2023-12-26</td>\n",
       "      <td>193.050003</td>\n",
       "    </tr>\n",
       "    <tr>\n",
       "      <th>1003</th>\n",
       "      <td>2023-12-27</td>\n",
       "      <td>193.149994</td>\n",
       "    </tr>\n",
       "    <tr>\n",
       "      <th>1004</th>\n",
       "      <td>2023-12-28</td>\n",
       "      <td>193.854996</td>\n",
       "    </tr>\n",
       "  </tbody>\n",
       "</table>\n",
       "<p>1005 rows × 2 columns</p>\n",
       "</div>"
      ],
      "text/plain": [
       "           Date       Close\n",
       "0    2020-01-02   73.152641\n",
       "1    2020-01-03   72.441460\n",
       "2    2020-01-06   73.018684\n",
       "3    2020-01-07   72.675278\n",
       "4    2020-01-08   73.844353\n",
       "...         ...         ...\n",
       "1000 2023-12-21  194.679993\n",
       "1001 2023-12-22  193.600006\n",
       "1002 2023-12-26  193.050003\n",
       "1003 2023-12-27  193.149994\n",
       "1004 2023-12-28  193.854996\n",
       "\n",
       "[1005 rows x 2 columns]"
      ]
     },
     "execution_count": 8,
     "metadata": {},
     "output_type": "execute_result"
    }
   ],
   "source": [
    "import matplotlib.pyplot as plt \n",
    "import numpy as np\n",
    "import yfinance as yf \n",
    "import pandas as pd \n",
    "from datetime import datetime\n",
    "\n",
    "APL = \"AAPL\"\n",
    "data = yf.Ticker(APL) # Extraction avec la fonction yf.Ticker de yfinance\n",
    "prix_rec = data.history(period = '1d', start = '2020-1-1', end = current_date)\n",
    "prix_rec.to_csv('AAPLt.csv')\n",
    "df=pd.read_csv(\"AAPLt.csv\") \n",
    "df['Date'] = df['Date'].astype(str)\n",
    "df['Date'] = df['Date'].str.slice(0, 10)\n",
    "df['Date'] = pd.to_datetime(df['Date'])\n",
    "df = df[['Date', 'Close']]\n",
    "df"
   ]
  },
  {
   "attachments": {},
   "cell_type": "markdown",
   "metadata": {},
   "source": [
    "### Prédiction de la valeur du lendemain "
   ]
  },
  {
   "attachments": {},
   "cell_type": "markdown",
   "metadata": {},
   "source": [
    "On a vu dans la partie dédiée que le modèle le plus efficace était le naive forecast.\n",
    "Cependant, par définition du modèle, la valeur du lendemain que le modèle va prédire est la valeur réelle d'aujourd'hui. Donc il ne sera pas possible de tirer de conclusion sur oui ou non il faut acheter l'action, car sa valeur prédite sera la même qu'aujourd'hui."
   ]
  },
  {
   "attachments": {},
   "cell_type": "markdown",
   "metadata": {},
   "source": [
    "Pour résoudre ce problème, nous allons comparer la valeur prédite, donc la valeur à J+1, avec la valeur à J-1.\n",
    "Si la valeur est supérieure, alors nous considérerons qu'il faut acheter. \n",
    "Sinon, il vaut mieux ne pas acheter.\n",
    "Une autre solution proposée est d'utiliser quand même le modèle LTSM, bien qu'il soit moins précis que le modèle de naive forecast, mais qui ne nécessite pas de recourir à ce compromis."
   ]
  },
  {
   "attachments": {},
   "cell_type": "markdown",
   "metadata": {},
   "source": [
    "La valeur prédite du lendemain est donc la valeur de l'action au jour d'input, c'est à dire la dernière valeur de fermeture du marché :"
   ]
  },
  {
   "cell_type": "code",
   "execution_count": 12,
   "metadata": {},
   "outputs": [
    {
     "data": {
      "text/plain": [
       "193.85499572753903"
      ]
     },
     "execution_count": 12,
     "metadata": {},
     "output_type": "execute_result"
    }
   ],
   "source": [
    "valeur_lendemain = df['Close'].iloc[-1]\n",
    "valeur_lendemain"
   ]
  },
  {
   "attachments": {},
   "cell_type": "markdown",
   "metadata": {},
   "source": [
    "Comparons la a la valeur du jour J-1, qui est donc :"
   ]
  },
  {
   "cell_type": "code",
   "execution_count": 13,
   "metadata": {},
   "outputs": [
    {
     "data": {
      "text/plain": [
       "193.1499938964844"
      ]
     },
     "execution_count": 13,
     "metadata": {},
     "output_type": "execute_result"
    }
   ],
   "source": [
    "valeur_prec = df['Close'].iloc[-2]\n",
    "valeur_prec"
   ]
  },
  {
   "cell_type": "code",
   "execution_count": 15,
   "metadata": {},
   "outputs": [
    {
     "data": {
      "text/plain": [
       "'POSITIVE'"
      ]
     },
     "execution_count": 15,
     "metadata": {},
     "output_type": "execute_result"
    }
   ],
   "source": [
    "def acheter_ou_non():\n",
    "    if valeur_lendemain > valeur_prec :\n",
    "        return 'POSITIVE'\n",
    "    else : \n",
    "        return 'NEGATIVE'\n",
    "    \n",
    "acheter_ou_non()"
   ]
  }
 ],
 "metadata": {
  "kernelspec": {
   "display_name": "Python 3",
   "language": "python",
   "name": "python3"
  },
  "language_info": {
   "codemirror_mode": {
    "name": "ipython",
    "version": 3
   },
   "file_extension": ".py",
   "mimetype": "text/x-python",
   "name": "python",
   "nbconvert_exporter": "python",
   "pygments_lexer": "ipython3",
   "version": "3.9.6"
  }
 },
 "nbformat": 4,
 "nbformat_minor": 2
}
