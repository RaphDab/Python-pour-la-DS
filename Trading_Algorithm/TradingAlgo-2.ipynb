{
 "cells": [
  {
   "cell_type": "markdown",
   "metadata": {},
   "source": [
    "# Algorithme de trading"
   ]
  },
  {
   "cell_type": "markdown",
   "metadata": {},
   "source": [
    "Dans cette dernière partie du projet, nous récupérons les deux modèles entraînés ainsi que les articles de presse, les posts Reddit et le cours de l'action Apple pour conseiller à notre utilisateur d'acheter ou non une action Apple avant que le marché n'ouvre."
   ]
  },
  {
   "cell_type": "markdown",
   "metadata": {},
   "source": [
    "### Renseignez la date du jour"
   ]
  },
  {
   "cell_type": "code",
   "execution_count": 40,
   "metadata": {},
   "outputs": [],
   "source": [
    "from datetime import datetime, timedelta\n",
    "\n",
    "\n",
    "#On demande à l'utilisateur de saisir une date\n",
    "\n",
    "user_date_input = input(\"Entrez la date d'aujourd'hui (format AAAA-MM-JJ): \")\n",
    "current_date = datetime.strptime(user_date_input, \"%Y-%m-%d\")"
   ]
  },
  {
   "cell_type": "markdown",
   "metadata": {},
   "source": [
    "## Récupération des articles de presse de Forbes des 48h précédentes"
   ]
  },
  {
   "cell_type": "code",
   "execution_count": 41,
   "metadata": {},
   "outputs": [
    {
     "name": "stdout",
     "output_type": "stream",
     "text": [
      "Titre: Top Italian Wines Of 2023\n",
      "Source: Forbes\n",
      "URL: https://www.forbes.com/sites/tomhyland/2023/12/27/top-italian-wines-of-2023/\n",
      "\n",
      "Titre: Legendary’s Expanding MonsterVerse Is A Masterclass In Universe Building\n",
      "Source: Forbes\n",
      "URL: https://www.forbes.com/sites/robsalkowitz/2023/12/27/legendarys-expanding-monsterverse-is-a-masterclass-in-universe-building/\n",
      "\n",
      "Titre: How The C-Suite Can Advance Mental Health And Increase Employee Happiness?\n",
      "Source: Forbes\n",
      "URL: https://www.forbes.com/sites/cindygordon/2023/12/27/how-the-c-suite-can-advance-mental-health-and-increase-employee-happiness/\n",
      "\n",
      "Titre: Ban On Apple Watch Sales Paused By Appeals Court\n",
      "Source: Forbes\n",
      "URL: https://www.forbes.com/sites/zacharyfolk/2023/12/27/ban-on-apple-watch-sales-paused-by-appeals-court/\n",
      "\n",
      "Titre: Apple Watch Series 9 And Ultra 2 Could Suddenly Be Back On Sale Amid News Of Redesign\n",
      "Source: Forbes\n",
      "URL: https://www.forbes.com/sites/davidphelan/2023/12/27/apple-watch-series-9-and-ultra-2-could-suddenly-be-back-on-sale-amid-news-of-redesign/\n",
      "\n",
      "Titre: These Are Good Times For Bond Investors And Mid-Cap Stocks\n",
      "Source: Forbes\n",
      "URL: https://www.forbes.com/sites/lcarrel/2023/12/27/these-are-good-times-for-bond-investors-and-mid-cap-stocks/\n",
      "\n",
      "Titre: Brunch Cocktails Ideal For Toasting To The New Year\n",
      "Source: Forbes\n",
      "URL: https://www.forbes.com/sites/alywalansky/2023/12/27/brunch-cocktails-ideal-for-toasting-to-the-new-year/\n",
      "\n",
      "Titre: John Lennon Is Back On The Hot 100–And He’s Not Alone\n",
      "Source: Forbes\n",
      "URL: https://www.forbes.com/sites/hughmcintyre/2023/12/27/john-lennon-is-back-on-the-hot-100and-hes-not-alone/\n",
      "\n",
      "Titre: 6 Atmospheric And Memorable Accommodations In Wales That You Must Visit\n",
      "Source: Forbes\n",
      "URL: https://www.forbes.com/sites/jeaninebarone/2023/12/27/6-atmospheric-and-memorable-accommodations-in-wales-that-you-must-visit/\n",
      "\n",
      "Titre: Small Cap Growth Stocks Soar On Declining Inflation & Bright Outlook\n",
      "Source: Forbes\n",
      "URL: https://www.forbes.com/sites/joelshulman/2023/12/27/small-cap-growth-stocks-soar-on-declining-inflation--bright-outlook/\n",
      "\n",
      "Titre: Actor Lee Sun-Kyun Found Dead In Seoul\n",
      "Source: Forbes\n",
      "URL: https://www.forbes.com/sites/joanmacdonald/2023/12/27/actor-lee-sun-kyun-found-dead-in-seoul/\n",
      "\n",
      "Titre: It's Time For A New Definition Of Leadership\n",
      "Source: Forbes\n",
      "URL: https://www.forbes.com/sites/forbesagencycouncil/2023/12/27/its-time-for-a-new-definition-of-leadership/\n",
      "\n",
      "Titre: Apple Vision Pro 2024 Release Date: Mass Shipments Just Days Away, Insider Claims\n",
      "Source: Forbes\n",
      "URL: https://www.forbes.com/sites/davidphelan/2023/12/27/apple-vision-pro-2024-release-date-mass-shipments-just-days-away-insider-claims/\n",
      "\n",
      "Titre: Hollywood Huddle: Media Companies Headed To Bundles, M&A In 2024\n",
      "Source: Forbes\n",
      "URL: https://www.forbes.com/sites/dbloom/2023/12/26/hollywood-huddle-media-companies-headed-to-bundles-ma-in-2024/\n",
      "\n",
      "Titre: What Will 2024 Hold In AI Advancements?\n",
      "Source: Forbes\n",
      "URL: https://www.forbes.com/sites/cindygordon/2023/12/26/what-will-2023-hold-in-ai-advancements/\n",
      "\n",
      "Titre: The Top Fragrances Of 2023\n",
      "Source: Forbes\n",
      "URL: https://www.forbes.com/sites/celiashatzman/2023/12/26/the-top-fragrances-of-2023/\n",
      "\n",
      "Titre: Shares Of Chip Designer Arm Hit New All-Time High—Outclassing 2023 IPO Peers\n",
      "Source: Forbes\n",
      "URL: https://www.forbes.com/sites/dereksaul/2023/12/26/shares-of-chip-designer-arm-hit-new-all-time-high-outclassing-2023-ipo-peers/\n",
      "\n",
      "Titre: The 2024 Dining And Drinking Guide To Nova Scotia\n",
      "Source: Forbes\n",
      "URL: https://www.forbes.com/sites/katiebell/2023/12/26/the--2024-dining-and-drinking-guide-to-nova-scotia/\n",
      "\n",
      "Titre: Apple Appeals As Watch Series 9 And Ultra 2 Sales Banned\n",
      "Source: Forbes\n",
      "URL: https://www.forbes.com/sites/andrewwilliams/2023/12/26/apple-appeals-as-watch-series-9-and-ultra-2-sales-banned/\n",
      "\n",
      "Titre: Buffett’s Longer-Term Slump: Time To Rethink Value Investing?\n",
      "Source: Forbes\n",
      "URL: https://www.forbes.com/sites/jimosman/2023/12/26/buffetts-longer-term-slump-time-to-rethink-value-investing/\n",
      "\n",
      "Titre: 2023 In Review: Stock Market Resilience And The Rise Of The Magnificent Seven\n",
      "Source: Forbes\n",
      "URL: https://www.forbes.com/sites/greatspeculations/2023/12/26/2023-in-review-stock-market-resilience-and-the-rise-of-the-magnificent-seven/\n",
      "\n",
      "Titre: Apple Watch Import Ban Starts Today—Here’s What To Know As Newer Watch Sales Stop\n",
      "Source: Forbes\n",
      "URL: https://www.forbes.com/sites/jamesfarrell/2023/12/26/apple-watch-import-ban-starts-today-heres-what-to-know-as-newer-watch-sales-stop/\n",
      "\n",
      "Titre: I Reviewed 75+ Gadgets This Year. These 10 Were My Favorite\n",
      "Source: Forbes\n",
      "URL: https://www.forbes.com/sites/prakharkhanna/2023/12/26/i-reviewed-75-gadgets-this-year-these-10-were-my-favorite/\n",
      "\n",
      "Titre: The Best Dolby Atmos Soundbars Make Your Audio “Pop”\n",
      "Source: Forbes\n",
      "URL: https://www.forbes.com/sites/forbes-personal-shopper/article/best-dolby-atmos-soundbars/\n",
      "\n",
      "Titre: Evaluating Industrials In The 2I Era: A Closer Look\n",
      "Source: Forbes\n",
      "URL: https://www.forbes.com/sites/forbesbusinesscouncil/2023/12/26/evaluating-industrials-in-the-2i-era-a-closer-look/\n",
      "\n",
      "Titre: 3 Improv Games To Get Your Team Out Of Their Comfort Zone\n",
      "Source: Forbes\n",
      "URL: https://www.forbes.com/sites/forbesagencycouncil/2023/12/26/3-improv-games-to-get-your-team-out-of-their-comfort-zone/\n",
      "\n",
      "Titre: What Enterprises Should Know About ESIM Technology\n",
      "Source: Forbes\n",
      "URL: https://www.forbes.com/sites/forbestechcouncil/2023/12/26/what-enterprises-should-know-about-esim-technology/\n",
      "\n",
      "Titre: Samsung Insiders Confirm Three Stunning Galaxy S24 Ultra Decisions\n",
      "Source: Forbes\n",
      "URL: https://www.forbes.com/sites/ewanspence/2023/12/25/samsung-galaxy-s24-ultra-design-performance-launch-exynos-snapdragon-new-galaxy-s24-release/\n",
      "\n",
      "Titre: Apple iOS 17.3 Release Date: Awesome iPhone Upgrade Coming Soon\n",
      "Source: Forbes\n",
      "URL: https://www.forbes.com/sites/davidphelan/2023/12/25/ios-173-apple-is-about-to-launch-a-stunning-new-iphone-upgrade/\n",
      "\n",
      "Titre: Magnificent Seven? Consider My Regular Seven Instead\n",
      "Source: Forbes\n",
      "URL: https://www.forbes.com/sites/johndorfman/2023/12/25/magnificent-seven-consider-my-regular-seven-instead/\n",
      "\n"
     ]
    }
   ],
   "source": [
    "import requests\n",
    "\n",
    "start_date = current_date - timedelta(days=2)\n",
    "end_date = current_date\n",
    "parameters = {\n",
    "    'q': 'Apple',\n",
    "    'domains': 'forbes.com',\n",
    "    'from': start_date.strftime(\"%Y-%m-%d\"),\n",
    "    'to': end_date.strftime(\"%Y-%m-%d\"),\n",
    "    'sortBy': 'publishedAt',\n",
    "    'apiKey': '1b20fb6f9b9d40f0b4e4ad6fe5d90755'  \n",
    "}\n",
    "\n",
    "url = 'https://newsapi.org/v2/everything'\n",
    "\n",
    "\n",
    "response = requests.get(url, params=parameters)\n",
    "articles = response.json().get('articles', [])  \n",
    "\n",
    "for article in articles:\n",
    "    title = article.get('title', 'Titre indisponible')  \n",
    "    source_name = article.get('source', {}).get('name', 'Source indisponible') \n",
    "    url = article.get('url', 'URL indisponible') \n",
    "    print(f\"Titre: {title}\\nSource: {source_name}\\nURL: {url}\\n\")"
   ]
  },
  {
   "cell_type": "markdown",
   "metadata": {},
   "source": [
    "### Nettoyage des articles"
   ]
  },
  {
   "cell_type": "code",
   "execution_count": 42,
   "metadata": {},
   "outputs": [
    {
     "data": {
      "text/html": [
       "<div>\n",
       "<style scoped>\n",
       "    .dataframe tbody tr th:only-of-type {\n",
       "        vertical-align: middle;\n",
       "    }\n",
       "\n",
       "    .dataframe tbody tr th {\n",
       "        vertical-align: top;\n",
       "    }\n",
       "\n",
       "    .dataframe thead th {\n",
       "        text-align: right;\n",
       "    }\n",
       "</style>\n",
       "<table border=\"1\" class=\"dataframe\">\n",
       "  <thead>\n",
       "    <tr style=\"text-align: right;\">\n",
       "      <th></th>\n",
       "      <th>Titre</th>\n",
       "      <th>URL</th>\n",
       "      <th>Date de publication</th>\n",
       "      <th>Description</th>\n",
       "      <th>Source</th>\n",
       "      <th>Contenu</th>\n",
       "    </tr>\n",
       "  </thead>\n",
       "  <tbody>\n",
       "    <tr>\n",
       "      <th>0</th>\n",
       "      <td>Ban On Apple Watch Sales Paused By Appeals Court</td>\n",
       "      <td>https://www.forbes.com/sites/zacharyfolk/2023/...</td>\n",
       "      <td>2023-12-27T17:43:40Z</td>\n",
       "      <td>Apple won a temporary victory in their patent ...</td>\n",
       "      <td>Forbes</td>\n",
       "      <td>&lt;!DOCTYPE html&gt;&lt;html lang=\"en\"&gt;&lt;head&gt;&lt;link rel...</td>\n",
       "    </tr>\n",
       "    <tr>\n",
       "      <th>1</th>\n",
       "      <td>Apple Watch Series 9 And Ultra 2 Could Suddenl...</td>\n",
       "      <td>https://www.forbes.com/sites/davidphelan/2023/...</td>\n",
       "      <td>2023-12-27T17:16:59Z</td>\n",
       "      <td>The ban on Apple selling the Apple Watch Serie...</td>\n",
       "      <td>Forbes</td>\n",
       "      <td>&lt;!DOCTYPE html&gt;&lt;html lang=\"en\"&gt;&lt;head&gt;&lt;link rel...</td>\n",
       "    </tr>\n",
       "    <tr>\n",
       "      <th>2</th>\n",
       "      <td>Apple Vision Pro 2024 Release Date: Mass Shipm...</td>\n",
       "      <td>https://www.forbes.com/sites/davidphelan/2023/...</td>\n",
       "      <td>2023-12-27T10:00:33Z</td>\n",
       "      <td>The next new Apple product could be with us so...</td>\n",
       "      <td>Forbes</td>\n",
       "      <td>&lt;!DOCTYPE html&gt;&lt;html lang=\"en\"&gt;&lt;head&gt;&lt;link rel...</td>\n",
       "    </tr>\n",
       "    <tr>\n",
       "      <th>3</th>\n",
       "      <td>Apple Appeals As Watch Series 9 And Ultra 2 Sa...</td>\n",
       "      <td>https://www.forbes.com/sites/andrewwilliams/20...</td>\n",
       "      <td>2023-12-26T17:45:03Z</td>\n",
       "      <td>Apple has launched an appeal to get its Watch ...</td>\n",
       "      <td>Forbes</td>\n",
       "      <td>&lt;!DOCTYPE html&gt;&lt;html lang=\"en\"&gt;&lt;head&gt;&lt;link rel...</td>\n",
       "    </tr>\n",
       "    <tr>\n",
       "      <th>4</th>\n",
       "      <td>Apple Watch Import Ban Starts Today—Here’s Wha...</td>\n",
       "      <td>https://www.forbes.com/sites/jamesfarrell/2023...</td>\n",
       "      <td>2023-12-26T17:09:29Z</td>\n",
       "      <td>Imports and sales of Apple Watches with blood ...</td>\n",
       "      <td>Forbes</td>\n",
       "      <td>&lt;!DOCTYPE html&gt;&lt;html lang=\"en\"&gt;&lt;head&gt;&lt;link rel...</td>\n",
       "    </tr>\n",
       "  </tbody>\n",
       "</table>\n",
       "</div>"
      ],
      "text/plain": [
       "                                               Titre  \\\n",
       "0   Ban On Apple Watch Sales Paused By Appeals Court   \n",
       "1  Apple Watch Series 9 And Ultra 2 Could Suddenl...   \n",
       "2  Apple Vision Pro 2024 Release Date: Mass Shipm...   \n",
       "3  Apple Appeals As Watch Series 9 And Ultra 2 Sa...   \n",
       "4  Apple Watch Import Ban Starts Today—Here’s Wha...   \n",
       "\n",
       "                                                 URL   Date de publication  \\\n",
       "0  https://www.forbes.com/sites/zacharyfolk/2023/...  2023-12-27T17:43:40Z   \n",
       "1  https://www.forbes.com/sites/davidphelan/2023/...  2023-12-27T17:16:59Z   \n",
       "2  https://www.forbes.com/sites/davidphelan/2023/...  2023-12-27T10:00:33Z   \n",
       "3  https://www.forbes.com/sites/andrewwilliams/20...  2023-12-26T17:45:03Z   \n",
       "4  https://www.forbes.com/sites/jamesfarrell/2023...  2023-12-26T17:09:29Z   \n",
       "\n",
       "                                         Description  Source  \\\n",
       "0  Apple won a temporary victory in their patent ...  Forbes   \n",
       "1  The ban on Apple selling the Apple Watch Serie...  Forbes   \n",
       "2  The next new Apple product could be with us so...  Forbes   \n",
       "3  Apple has launched an appeal to get its Watch ...  Forbes   \n",
       "4  Imports and sales of Apple Watches with blood ...  Forbes   \n",
       "\n",
       "                                             Contenu  \n",
       "0  <!DOCTYPE html><html lang=\"en\"><head><link rel...  \n",
       "1  <!DOCTYPE html><html lang=\"en\"><head><link rel...  \n",
       "2  <!DOCTYPE html><html lang=\"en\"><head><link rel...  \n",
       "3  <!DOCTYPE html><html lang=\"en\"><head><link rel...  \n",
       "4  <!DOCTYPE html><html lang=\"en\"><head><link rel...  "
      ]
     },
     "execution_count": 42,
     "metadata": {},
     "output_type": "execute_result"
    }
   ],
   "source": [
    "import csv\n",
    "import pandas as pd\n",
    "\n",
    "with open('articles_algo.csv', mode='w', newline='', encoding='utf-8') as file:\n",
    "    writer = csv.writer(file)\n",
    "    writer.writerow(['Titre', 'URL', 'Date de publication', 'Description','Source'])\n",
    "    for article in articles:\n",
    "        if \"Apple\" not in article['title']:\n",
    "          continue\n",
    "        writer.writerow([article['title'], article['url'], article['publishedAt'], article['description'], article['source']['name']])\n",
    "\n",
    "df=pd.read_csv('articles_algo.csv')\n",
    "\n",
    "urls = [url for url in df['URL']]\n",
    "html_contents = []\n",
    "compteur=0\n",
    "df['Contenu']=[None] * len(df)\n",
    "\n",
    "for url in urls:\n",
    "    response = requests.get(url)\n",
    "    if response.status_code == 200:\n",
    "        html_contents.append(response.text)\n",
    "        df['Contenu'].loc[compteur]=response.text\n",
    "    else:\n",
    "        print(f\"Échec de récupération pour {url}\")\n",
    "    compteur+=1\n",
    "\n",
    "df.head()"
   ]
  },
  {
   "cell_type": "code",
   "execution_count": 43,
   "metadata": {},
   "outputs": [],
   "source": [
    "import nltk\n",
    "from nltk.corpus import stopwords\n",
    "from nltk.stem import WordNetLemmatizer\n",
    "from nltk.tokenize import word_tokenize\n",
    "import re\n",
    "from bs4 import BeautifulSoup\n",
    "\n",
    "def cleaning_text(text):\n",
    "    #Passage du texte en miniscules\n",
    "    text=text.lower()\n",
    "    #Suppression des chiffres\n",
    "    text=re.sub(r'\\d+', '', text)\n",
    "    #Suppression de la ponctuation et des symboles spéciaux\n",
    "    text=re.sub(r'[^\\w\\s]', '', text)\n",
    "    return text\n",
    "\n",
    "\n",
    "stops = set(stopwords.words('english'))\n",
    "lemmatizer = WordNetLemmatizer()\n",
    "def clean_stopwords(text):\n",
    "    words = word_tokenize(text)\n",
    "    cleaned_text=[word for word in words if word not in stops]\n",
    "    return ' '.join(cleaned_text)\n",
    "\n",
    "#Fonction adaptée à la structure des articles Forbes\n",
    "def clean_html_1(text_html): \n",
    "    soup=BeautifulSoup(text_html, 'html.parser')\n",
    "    title=soup.find_all('h1', class_=True)\n",
    "    content=soup.find_all('p')\n",
    "    united_content = ' '.join(el.get_text(strip=True) for el in title + content )\n",
    "    return united_content\n"
   ]
  },
  {
   "cell_type": "code",
   "execution_count": 44,
   "metadata": {},
   "outputs": [],
   "source": [
    "if len(df)>0:\n",
    "    df['Cleaned_html_content'] = df.apply(lambda row: clean_html_1(row['Contenu']), axis=1)\n",
    "    df['Content_cleaned']=df['Cleaned_html_content'].apply(cleaning_text)\n",
    "    df['Content_cleaned_from_stopwords']=df['Content_cleaned'].apply(clean_stopwords)"
   ]
  },
  {
   "cell_type": "markdown",
   "metadata": {},
   "source": [
    "### Analyse de sentiments avec un modèle pré-entraîné"
   ]
  },
  {
   "cell_type": "code",
   "execution_count": 45,
   "metadata": {},
   "outputs": [
    {
     "name": "stderr",
     "output_type": "stream",
     "text": [
      "No model was supplied, defaulted to distilbert-base-uncased-finetuned-sst-2-english and revision af0f99b (https://huggingface.co/distilbert-base-uncased-finetuned-sst-2-english).\n",
      "Using a pipeline without specifying a model name and revision in production is not recommended.\n",
      "All PyTorch model weights were used when initializing TFDistilBertForSequenceClassification.\n",
      "\n",
      "All the weights of TFDistilBertForSequenceClassification were initialized from the PyTorch model.\n",
      "If your task is similar to the task the model of the checkpoint was trained on, you can already use TFDistilBertForSequenceClassification for predictions without further training.\n"
     ]
    },
    {
     "data": {
      "text/html": [
       "<div>\n",
       "<style scoped>\n",
       "    .dataframe tbody tr th:only-of-type {\n",
       "        vertical-align: middle;\n",
       "    }\n",
       "\n",
       "    .dataframe tbody tr th {\n",
       "        vertical-align: top;\n",
       "    }\n",
       "\n",
       "    .dataframe thead th {\n",
       "        text-align: right;\n",
       "    }\n",
       "</style>\n",
       "<table border=\"1\" class=\"dataframe\">\n",
       "  <thead>\n",
       "    <tr style=\"text-align: right;\">\n",
       "      <th></th>\n",
       "      <th>Titre</th>\n",
       "      <th>URL</th>\n",
       "      <th>Date de publication</th>\n",
       "      <th>Description</th>\n",
       "      <th>Source</th>\n",
       "      <th>Contenu</th>\n",
       "      <th>Cleaned_html_content</th>\n",
       "      <th>Content_cleaned</th>\n",
       "      <th>Content_cleaned_from_stopwords</th>\n",
       "      <th>predicted_sentiment</th>\n",
       "    </tr>\n",
       "  </thead>\n",
       "  <tbody>\n",
       "    <tr>\n",
       "      <th>0</th>\n",
       "      <td>Ban On Apple Watch Sales Paused By Appeals Court</td>\n",
       "      <td>https://www.forbes.com/sites/zacharyfolk/2023/...</td>\n",
       "      <td>2023-12-27T17:43:40Z</td>\n",
       "      <td>Apple won a temporary victory in their patent ...</td>\n",
       "      <td>Forbes</td>\n",
       "      <td>&lt;!DOCTYPE html&gt;&lt;html lang=\"en\"&gt;&lt;head&gt;&lt;link rel...</td>\n",
       "      <td>Ban On Apple Watch Sales Paused By Appeals Cou...</td>\n",
       "      <td>ban on apple watch sales paused by appeals cou...</td>\n",
       "      <td>ban apple watch sales paused appeals court app...</td>\n",
       "      <td>NEGATIVE</td>\n",
       "    </tr>\n",
       "    <tr>\n",
       "      <th>1</th>\n",
       "      <td>Apple Watch Series 9 And Ultra 2 Could Suddenl...</td>\n",
       "      <td>https://www.forbes.com/sites/davidphelan/2023/...</td>\n",
       "      <td>2023-12-27T17:16:59Z</td>\n",
       "      <td>The ban on Apple selling the Apple Watch Serie...</td>\n",
       "      <td>Forbes</td>\n",
       "      <td>&lt;!DOCTYPE html&gt;&lt;html lang=\"en\"&gt;&lt;head&gt;&lt;link rel...</td>\n",
       "      <td>Apple Watch Series 9 And Ultra 2 Could Suddenl...</td>\n",
       "      <td>apple watch series  and ultra  could suddenly ...</td>\n",
       "      <td>apple watch series ultra could suddenly go bac...</td>\n",
       "      <td>NEGATIVE</td>\n",
       "    </tr>\n",
       "    <tr>\n",
       "      <th>2</th>\n",
       "      <td>Apple Vision Pro 2024 Release Date: Mass Shipm...</td>\n",
       "      <td>https://www.forbes.com/sites/davidphelan/2023/...</td>\n",
       "      <td>2023-12-27T10:00:33Z</td>\n",
       "      <td>The next new Apple product could be with us so...</td>\n",
       "      <td>Forbes</td>\n",
       "      <td>&lt;!DOCTYPE html&gt;&lt;html lang=\"en\"&gt;&lt;head&gt;&lt;link rel...</td>\n",
       "      <td>Apple Vision Pro 2024 Release Date: Mass Shipm...</td>\n",
       "      <td>apple vision pro  release date mass shipments ...</td>\n",
       "      <td>apple vision pro release date mass shipments d...</td>\n",
       "      <td>NEGATIVE</td>\n",
       "    </tr>\n",
       "    <tr>\n",
       "      <th>3</th>\n",
       "      <td>Apple Appeals As Watch Series 9 And Ultra 2 Sa...</td>\n",
       "      <td>https://www.forbes.com/sites/andrewwilliams/20...</td>\n",
       "      <td>2023-12-26T17:45:03Z</td>\n",
       "      <td>Apple has launched an appeal to get its Watch ...</td>\n",
       "      <td>Forbes</td>\n",
       "      <td>&lt;!DOCTYPE html&gt;&lt;html lang=\"en\"&gt;&lt;head&gt;&lt;link rel...</td>\n",
       "      <td>Apple Appeals As Watch Series 9 And Ultra 2 Sa...</td>\n",
       "      <td>apple appeals as watch series  and ultra  sale...</td>\n",
       "      <td>apple appeals watch series ultra sales banned ...</td>\n",
       "      <td>NEGATIVE</td>\n",
       "    </tr>\n",
       "    <tr>\n",
       "      <th>4</th>\n",
       "      <td>Apple Watch Import Ban Starts Today—Here’s Wha...</td>\n",
       "      <td>https://www.forbes.com/sites/jamesfarrell/2023...</td>\n",
       "      <td>2023-12-26T17:09:29Z</td>\n",
       "      <td>Imports and sales of Apple Watches with blood ...</td>\n",
       "      <td>Forbes</td>\n",
       "      <td>&lt;!DOCTYPE html&gt;&lt;html lang=\"en\"&gt;&lt;head&gt;&lt;link rel...</td>\n",
       "      <td>Apple Watch Import Ban Starts Today—Here’s Wha...</td>\n",
       "      <td>apple watch import ban starts todayheres what ...</td>\n",
       "      <td>apple watch import ban starts todayheres know ...</td>\n",
       "      <td>NEGATIVE</td>\n",
       "    </tr>\n",
       "  </tbody>\n",
       "</table>\n",
       "</div>"
      ],
      "text/plain": [
       "                                               Titre  \\\n",
       "0   Ban On Apple Watch Sales Paused By Appeals Court   \n",
       "1  Apple Watch Series 9 And Ultra 2 Could Suddenl...   \n",
       "2  Apple Vision Pro 2024 Release Date: Mass Shipm...   \n",
       "3  Apple Appeals As Watch Series 9 And Ultra 2 Sa...   \n",
       "4  Apple Watch Import Ban Starts Today—Here’s Wha...   \n",
       "\n",
       "                                                 URL   Date de publication  \\\n",
       "0  https://www.forbes.com/sites/zacharyfolk/2023/...  2023-12-27T17:43:40Z   \n",
       "1  https://www.forbes.com/sites/davidphelan/2023/...  2023-12-27T17:16:59Z   \n",
       "2  https://www.forbes.com/sites/davidphelan/2023/...  2023-12-27T10:00:33Z   \n",
       "3  https://www.forbes.com/sites/andrewwilliams/20...  2023-12-26T17:45:03Z   \n",
       "4  https://www.forbes.com/sites/jamesfarrell/2023...  2023-12-26T17:09:29Z   \n",
       "\n",
       "                                         Description  Source  \\\n",
       "0  Apple won a temporary victory in their patent ...  Forbes   \n",
       "1  The ban on Apple selling the Apple Watch Serie...  Forbes   \n",
       "2  The next new Apple product could be with us so...  Forbes   \n",
       "3  Apple has launched an appeal to get its Watch ...  Forbes   \n",
       "4  Imports and sales of Apple Watches with blood ...  Forbes   \n",
       "\n",
       "                                             Contenu  \\\n",
       "0  <!DOCTYPE html><html lang=\"en\"><head><link rel...   \n",
       "1  <!DOCTYPE html><html lang=\"en\"><head><link rel...   \n",
       "2  <!DOCTYPE html><html lang=\"en\"><head><link rel...   \n",
       "3  <!DOCTYPE html><html lang=\"en\"><head><link rel...   \n",
       "4  <!DOCTYPE html><html lang=\"en\"><head><link rel...   \n",
       "\n",
       "                                Cleaned_html_content  \\\n",
       "0  Ban On Apple Watch Sales Paused By Appeals Cou...   \n",
       "1  Apple Watch Series 9 And Ultra 2 Could Suddenl...   \n",
       "2  Apple Vision Pro 2024 Release Date: Mass Shipm...   \n",
       "3  Apple Appeals As Watch Series 9 And Ultra 2 Sa...   \n",
       "4  Apple Watch Import Ban Starts Today—Here’s Wha...   \n",
       "\n",
       "                                     Content_cleaned  \\\n",
       "0  ban on apple watch sales paused by appeals cou...   \n",
       "1  apple watch series  and ultra  could suddenly ...   \n",
       "2  apple vision pro  release date mass shipments ...   \n",
       "3  apple appeals as watch series  and ultra  sale...   \n",
       "4  apple watch import ban starts todayheres what ...   \n",
       "\n",
       "                      Content_cleaned_from_stopwords predicted_sentiment  \n",
       "0  ban apple watch sales paused appeals court app...            NEGATIVE  \n",
       "1  apple watch series ultra could suddenly go bac...            NEGATIVE  \n",
       "2  apple vision pro release date mass shipments d...            NEGATIVE  \n",
       "3  apple appeals watch series ultra sales banned ...            NEGATIVE  \n",
       "4  apple watch import ban starts todayheres know ...            NEGATIVE  "
      ]
     },
     "execution_count": 45,
     "metadata": {},
     "output_type": "execute_result"
    }
   ],
   "source": [
    "from transformers import pipeline\n",
    "\n",
    "classifier = pipeline('sentiment-analysis')\n",
    "\n",
    "sentiments=[]\n",
    "#Comme nous l'avions vu précédemment, il faut tronquer les textes pour les réduire à 512 tokens au risque d'obtenir un message d'erreur\n",
    "for i in range(len(df)):\n",
    "    text = df.iloc[i,8]\n",
    "    text = text[:512]\n",
    "    sentiment = classifier(text)[0]['label']  \n",
    "    sentiments.append(sentiment)\n",
    "df['predicted_sentiment'] = sentiments\n",
    "df.head()\n",
    "\n"
   ]
  },
  {
   "cell_type": "markdown",
   "metadata": {},
   "source": [
    "On récupère le pourcentage d'articles à connotation positive parmi les articles qu'on a récupérés."
   ]
  },
  {
   "cell_type": "code",
   "execution_count": 46,
   "metadata": {},
   "outputs": [
    {
     "name": "stdout",
     "output_type": "stream",
     "text": [
      "Taux de prédictions 'POSITIVE': 0.0\n"
     ]
    }
   ],
   "source": [
    "rate_pos = (df['predicted_sentiment'] == 'POSITIVE').mean()\n",
    "\n",
    "print(f\"Taux de prédictions 'POSITIVE': {rate_pos:}\")\n"
   ]
  },
  {
   "cell_type": "markdown",
   "metadata": {},
   "source": [
    "## Récupération des posts Reddit"
   ]
  },
  {
   "cell_type": "code",
   "execution_count": 47,
   "metadata": {},
   "outputs": [
    {
     "name": "stderr",
     "output_type": "stream",
     "text": [
      "huggingface/tokenizers: The current process just got forked, after parallelism has already been used. Disabling parallelism to avoid deadlocks...\n",
      "To disable this warning, you can either:\n",
      "\t- Avoid using `tokenizers` before the fork if possible\n",
      "\t- Explicitly set the environment variable TOKENIZERS_PARALLELISM=(true | false)\n"
     ]
    },
    {
     "name": "stdout",
     "output_type": "stream",
     "text": [
      "Defaulting to user installation because normal site-packages is not writeable\n",
      "Requirement already satisfied: praw in /Users/dabadieraphael/Library/Python/3.9/lib/python/site-packages (7.7.1)\n",
      "Requirement already satisfied: update-checker>=0.18 in /Users/dabadieraphael/Library/Python/3.9/lib/python/site-packages (from praw) (0.18.0)\n",
      "Requirement already satisfied: websocket-client>=0.54.0 in /Users/dabadieraphael/Library/Python/3.9/lib/python/site-packages (from praw) (1.7.0)\n",
      "Requirement already satisfied: prawcore<3,>=2.1 in /Users/dabadieraphael/Library/Python/3.9/lib/python/site-packages (from praw) (2.4.0)\n",
      "Requirement already satisfied: requests<3.0,>=2.6.0 in /Users/dabadieraphael/Library/Python/3.9/lib/python/site-packages (from prawcore<3,>=2.1->praw) (2.31.0)\n",
      "Requirement already satisfied: charset-normalizer<4,>=2 in /Users/dabadieraphael/Library/Python/3.9/lib/python/site-packages (from requests<3.0,>=2.6.0->prawcore<3,>=2.1->praw) (3.3.2)\n",
      "Requirement already satisfied: certifi>=2017.4.17 in /Users/dabadieraphael/Library/Python/3.9/lib/python/site-packages (from requests<3.0,>=2.6.0->prawcore<3,>=2.1->praw) (2023.11.17)\n",
      "Requirement already satisfied: urllib3<3,>=1.21.1 in /Users/dabadieraphael/Library/Python/3.9/lib/python/site-packages (from requests<3.0,>=2.6.0->prawcore<3,>=2.1->praw) (2.1.0)\n",
      "Requirement already satisfied: idna<4,>=2.5 in /Users/dabadieraphael/Library/Python/3.9/lib/python/site-packages (from requests<3.0,>=2.6.0->prawcore<3,>=2.1->praw) (3.6)\n",
      "\u001b[33mWARNING: You are using pip version 21.2.4; however, version 23.3.2 is available.\n",
      "You should consider upgrading via the '/Library/Developer/CommandLineTools/usr/bin/python3 -m pip install --upgrade pip' command.\u001b[0m\n",
      "Note: you may need to restart the kernel to use updated packages.\n"
     ]
    }
   ],
   "source": [
    "pip install praw"
   ]
  },
  {
   "cell_type": "code",
   "execution_count": 48,
   "metadata": {},
   "outputs": [],
   "source": [
    "import praw\n",
    "import pandas as pd\n",
    "from datetime import datetime, timedelta\n",
    "\n",
    "reddit = praw.Reddit(client_id='xIq0ALkJ0RWzM5ZLwwiQKA',\n",
    "                     client_secret='DeHliktGK8nfhDXsJFiebqgeZKhHXQ',\n",
    "                     user_agent='Matlpg')\n",
    "\n",
    "start_date = current_date - timedelta(days=2)\n",
    "\n",
    "subreddit = reddit.subreddit('apple')\n",
    "top_posts = subreddit.new(limit=500)  # On récupère ainsi les 500 derniers posts Reddit sur Apple\n",
    "\n",
    "posts_data = []\n",
    "for post in top_posts:\n",
    "    post_date = datetime.utcfromtimestamp(post.created_utc)\n",
    "    if start_date <= post_date < current_date:\n",
    "        text = post.selftext if post.selftext else \"Text Not Available\"\n",
    "        post_data = {\n",
    "            \"Titre\": post.title,\n",
    "            \"Auteur\": str(post.author),\n",
    "            \"Texte\": text,\n",
    "            \"Date\": post_date,\n",
    "            \"url\": post.url\n",
    "        }\n",
    "        posts_data.append(post_data)\n",
    "\n",
    "df_reddit = pd.DataFrame(posts_data)\n"
   ]
  },
  {
   "cell_type": "code",
   "execution_count": 49,
   "metadata": {},
   "outputs": [
    {
     "data": {
      "text/html": [
       "<div>\n",
       "<style scoped>\n",
       "    .dataframe tbody tr th:only-of-type {\n",
       "        vertical-align: middle;\n",
       "    }\n",
       "\n",
       "    .dataframe tbody tr th {\n",
       "        vertical-align: top;\n",
       "    }\n",
       "\n",
       "    .dataframe thead th {\n",
       "        text-align: right;\n",
       "    }\n",
       "</style>\n",
       "<table border=\"1\" class=\"dataframe\">\n",
       "  <thead>\n",
       "    <tr style=\"text-align: right;\">\n",
       "      <th></th>\n",
       "      <th>Titre</th>\n",
       "      <th>Auteur</th>\n",
       "      <th>Texte</th>\n",
       "      <th>Date</th>\n",
       "      <th>url</th>\n",
       "      <th>Cleaned_text</th>\n",
       "    </tr>\n",
       "  </thead>\n",
       "  <tbody>\n",
       "    <tr>\n",
       "      <th>4</th>\n",
       "      <td>Daily Advice Thread - December 26, 2023</td>\n",
       "      <td>AutoModerator</td>\n",
       "      <td>Welcome to the Daily Advice Thread for /r/Appl...</td>\n",
       "      <td>2023-12-26 11:00:28</td>\n",
       "      <td>https://www.reddit.com/r/apple/comments/18r5ri...</td>\n",
       "      <td>welcome daily advice thread rapple thread used...</td>\n",
       "    </tr>\n",
       "    <tr>\n",
       "      <th>5</th>\n",
       "      <td>Spatial Cat videos for Vision Pro</td>\n",
       "      <td>WebAssemblyMan</td>\n",
       "      <td>Homemade spatial cat videos</td>\n",
       "      <td>2023-12-26 04:07:45</td>\n",
       "      <td>http://photorealityar.com/spatialcatvideos.html</td>\n",
       "      <td>homemade spatial cat videos</td>\n",
       "    </tr>\n",
       "    <tr>\n",
       "      <th>9</th>\n",
       "      <td>Daily Advice Thread - December 25, 2023</td>\n",
       "      <td>AutoModerator</td>\n",
       "      <td>Welcome to the Daily Advice Thread for /r/Appl...</td>\n",
       "      <td>2023-12-25 11:00:41</td>\n",
       "      <td>https://www.reddit.com/r/apple/comments/18qgkw...</td>\n",
       "      <td>welcome daily advice thread rapple thread used...</td>\n",
       "    </tr>\n",
       "  </tbody>\n",
       "</table>\n",
       "</div>"
      ],
      "text/plain": [
       "                                     Titre          Auteur  \\\n",
       "4  Daily Advice Thread - December 26, 2023   AutoModerator   \n",
       "5        Spatial Cat videos for Vision Pro  WebAssemblyMan   \n",
       "9  Daily Advice Thread - December 25, 2023   AutoModerator   \n",
       "\n",
       "                                               Texte                Date  \\\n",
       "4  Welcome to the Daily Advice Thread for /r/Appl... 2023-12-26 11:00:28   \n",
       "5                        Homemade spatial cat videos 2023-12-26 04:07:45   \n",
       "9  Welcome to the Daily Advice Thread for /r/Appl... 2023-12-25 11:00:41   \n",
       "\n",
       "                                                 url  \\\n",
       "4  https://www.reddit.com/r/apple/comments/18r5ri...   \n",
       "5    http://photorealityar.com/spatialcatvideos.html   \n",
       "9  https://www.reddit.com/r/apple/comments/18qgkw...   \n",
       "\n",
       "                                        Cleaned_text  \n",
       "4  welcome daily advice thread rapple thread used...  \n",
       "5                        homemade spatial cat videos  \n",
       "9  welcome daily advice thread rapple thread used...  "
      ]
     },
     "execution_count": 49,
     "metadata": {},
     "output_type": "execute_result"
    }
   ],
   "source": [
    "df_reddit['Cleaned_text']=df_reddit['Texte'].apply(cleaning_text)\n",
    "df_reddit['Cleaned_text']=df_reddit['Cleaned_text'].apply(clean_stopwords)\n",
    "df_reddit = df_reddit[~df_reddit['Texte'].str.contains(\"Text Not Available\")]\n",
    "df_reddit.head()"
   ]
  },
  {
   "cell_type": "code",
   "execution_count": 50,
   "metadata": {},
   "outputs": [
    {
     "name": "stdout",
     "output_type": "stream",
     "text": [
      "Erreur pour 'http://photorealityar.com/spatialcatvideos.html'\n"
     ]
    }
   ],
   "source": [
    "def extract_submission_id(url):\n",
    "    match = re.search(r'/comments/(\\w+)/', url)\n",
    "    return match.group(1) if match else None\n",
    "\n",
    "def get_top_comments(url):\n",
    "    submission_id = extract_submission_id(url)\n",
    "    if not submission_id:\n",
    "        print(f\"Erreur pour '{url}'\")\n",
    "        return []\n",
    "    submission = reddit.submission(id=submission_id)\n",
    "    submission.comment_sort = 'top'\n",
    "    submission.comments.replace_more(limit=0)\n",
    "    \n",
    "    top_comments = []\n",
    "    for comment in submission.comments[:5]:  # Prendre les 5 premiers commentaires\n",
    "        top_comments.append(comment.body)\n",
    "    \n",
    "    return top_comments\n",
    "\n",
    "\n",
    "for index, row in df_reddit.iterrows():\n",
    "    top_comments = get_top_comments(row['url'])\n",
    "    for i, comment in enumerate(top_comments):\n",
    "        df_reddit.loc[index, f'comment_{i+1}'] = comment"
   ]
  },
  {
   "cell_type": "code",
   "execution_count": 51,
   "metadata": {},
   "outputs": [
    {
     "data": {
      "text/html": [
       "<div>\n",
       "<style scoped>\n",
       "    .dataframe tbody tr th:only-of-type {\n",
       "        vertical-align: middle;\n",
       "    }\n",
       "\n",
       "    .dataframe tbody tr th {\n",
       "        vertical-align: top;\n",
       "    }\n",
       "\n",
       "    .dataframe thead th {\n",
       "        text-align: right;\n",
       "    }\n",
       "</style>\n",
       "<table border=\"1\" class=\"dataframe\">\n",
       "  <thead>\n",
       "    <tr style=\"text-align: right;\">\n",
       "      <th></th>\n",
       "      <th>Titre</th>\n",
       "      <th>Auteur</th>\n",
       "      <th>Texte</th>\n",
       "      <th>Date</th>\n",
       "      <th>url</th>\n",
       "      <th>Cleaned_text</th>\n",
       "      <th>comment_1</th>\n",
       "      <th>comment_2</th>\n",
       "      <th>comment_3</th>\n",
       "      <th>comment_4</th>\n",
       "      <th>comment_5</th>\n",
       "    </tr>\n",
       "  </thead>\n",
       "  <tbody>\n",
       "    <tr>\n",
       "      <th>4</th>\n",
       "      <td>Daily Advice Thread - December 26, 2023</td>\n",
       "      <td>AutoModerator</td>\n",
       "      <td>Welcome to the Daily Advice Thread for /r/Appl...</td>\n",
       "      <td>2023-12-26 11:00:28</td>\n",
       "      <td>https://www.reddit.com/r/apple/comments/18r5ri...</td>\n",
       "      <td>welcome daily advice thread rapple thread used...</td>\n",
       "      <td>I'm helping my mom troubleshoot some payment i...</td>\n",
       "      <td>I just got a new 14\" MacBook Pro for work. Wha...</td>\n",
       "      <td>I have an iPhone 15 Pro Max, I went to GameSto...</td>\n",
       "      <td>I own two iPhones (both are iPhone 11, if it's...</td>\n",
       "      <td>When is the new Magic Keyboard coming out and ...</td>\n",
       "    </tr>\n",
       "    <tr>\n",
       "      <th>9</th>\n",
       "      <td>Daily Advice Thread - December 25, 2023</td>\n",
       "      <td>AutoModerator</td>\n",
       "      <td>Welcome to the Daily Advice Thread for /r/Appl...</td>\n",
       "      <td>2023-12-25 11:00:41</td>\n",
       "      <td>https://www.reddit.com/r/apple/comments/18qgkw...</td>\n",
       "      <td>welcome daily advice thread rapple thread used...</td>\n",
       "      <td>Does anyone know when the Airpods Pro were upd...</td>\n",
       "      <td>A month ago I realized that I needed to do som...</td>\n",
       "      <td>as im sure others have, i got a new phone toda...</td>\n",
       "      <td>So I got an e-mail \"Your Apple ID information ...</td>\n",
       "      <td>Someone used my credit card to buy a $100 gift...</td>\n",
       "    </tr>\n",
       "  </tbody>\n",
       "</table>\n",
       "</div>"
      ],
      "text/plain": [
       "                                     Titre         Auteur  \\\n",
       "4  Daily Advice Thread - December 26, 2023  AutoModerator   \n",
       "9  Daily Advice Thread - December 25, 2023  AutoModerator   \n",
       "\n",
       "                                               Texte                Date  \\\n",
       "4  Welcome to the Daily Advice Thread for /r/Appl... 2023-12-26 11:00:28   \n",
       "9  Welcome to the Daily Advice Thread for /r/Appl... 2023-12-25 11:00:41   \n",
       "\n",
       "                                                 url  \\\n",
       "4  https://www.reddit.com/r/apple/comments/18r5ri...   \n",
       "9  https://www.reddit.com/r/apple/comments/18qgkw...   \n",
       "\n",
       "                                        Cleaned_text  \\\n",
       "4  welcome daily advice thread rapple thread used...   \n",
       "9  welcome daily advice thread rapple thread used...   \n",
       "\n",
       "                                           comment_1  \\\n",
       "4  I'm helping my mom troubleshoot some payment i...   \n",
       "9  Does anyone know when the Airpods Pro were upd...   \n",
       "\n",
       "                                           comment_2  \\\n",
       "4  I just got a new 14\" MacBook Pro for work. Wha...   \n",
       "9  A month ago I realized that I needed to do som...   \n",
       "\n",
       "                                           comment_3  \\\n",
       "4  I have an iPhone 15 Pro Max, I went to GameSto...   \n",
       "9  as im sure others have, i got a new phone toda...   \n",
       "\n",
       "                                           comment_4  \\\n",
       "4  I own two iPhones (both are iPhone 11, if it's...   \n",
       "9  So I got an e-mail \"Your Apple ID information ...   \n",
       "\n",
       "                                           comment_5  \n",
       "4  When is the new Magic Keyboard coming out and ...  \n",
       "9  Someone used my credit card to buy a $100 gift...  "
      ]
     },
     "execution_count": 51,
     "metadata": {},
     "output_type": "execute_result"
    }
   ],
   "source": [
    "df_reddit.replace('nan', np.nan, inplace=True) #Il y avait un problème avec le formatage précédent des 'nan'\n",
    "df_reddit = df_reddit.dropna(axis=0, subset=['comment_1', 'comment_2', 'comment_3', 'comment_4', 'comment_5'])\n",
    "df_reddit.head()"
   ]
  },
  {
   "cell_type": "code",
   "execution_count": 52,
   "metadata": {},
   "outputs": [],
   "source": [
    "df_reddit['comment_1_clean'] = df_reddit['comment_1'].apply(cleaning_text)\n",
    "df_reddit['comment_2_clean'] = df_reddit['comment_2'].apply(cleaning_text)\n",
    "df_reddit['comment_3_clean'] = df_reddit['comment_3'].apply(cleaning_text)\n",
    "df_reddit['comment_4_clean'] = df_reddit['comment_4'].apply(cleaning_text)\n",
    "df_reddit['comment_5_clean'] = df_reddit['comment_5'].apply(cleaning_text)"
   ]
  },
  {
   "cell_type": "code",
   "execution_count": 53,
   "metadata": {},
   "outputs": [
    {
     "name": "stderr",
     "output_type": "stream",
     "text": [
      "No model was supplied, defaulted to distilbert-base-uncased-finetuned-sst-2-english and revision af0f99b (https://huggingface.co/distilbert-base-uncased-finetuned-sst-2-english).\n",
      "Using a pipeline without specifying a model name and revision in production is not recommended.\n",
      "All PyTorch model weights were used when initializing TFDistilBertForSequenceClassification.\n",
      "\n",
      "All the weights of TFDistilBertForSequenceClassification were initialized from the PyTorch model.\n",
      "If your task is similar to the task the model of the checkpoint was trained on, you can already use TFDistilBertForSequenceClassification for predictions without further training.\n"
     ]
    },
    {
     "data": {
      "text/plain": [
       "['negative', 'negative', 'negative', 'negative', 'negative']"
      ]
     },
     "execution_count": 53,
     "metadata": {},
     "output_type": "execute_result"
    }
   ],
   "source": [
    "model_transformers = pipeline(\"sentiment-analysis\")\n",
    "for index, row in df_reddit.iterrows():\n",
    "    transformers_sentiments = []\n",
    "    for col in ['comment_1_clean', 'comment_2_clean', 'comment_3_clean', 'comment_4_clean', 'comment_5_clean']:\n",
    "        if pd.notnull(row[col]):\n",
    "            transformers_result = model_transformers(row[col][:512])[0] #Il faut limiter la taille du texte à 512 caractères pour ce mmodèle comme vu précédemment\n",
    "            transformers_sentiment = transformers_result['label'].lower()\n",
    "            transformers_sentiments.append(transformers_sentiment)\n",
    "transformers_sentiments\n"
   ]
  },
  {
   "cell_type": "code",
   "execution_count": 54,
   "metadata": {},
   "outputs": [
    {
     "data": {
      "text/plain": [
       "0.0"
      ]
     },
     "execution_count": 54,
     "metadata": {},
     "output_type": "execute_result"
    }
   ],
   "source": [
    "pos=0\n",
    "for el in transformers_sentiment:\n",
    "    if el==\"positive\":\n",
    "        pos+=1\n",
    "pos_reddit=(pos/len(df_reddit))*100\n",
    "pos_reddit"
   ]
  },
  {
   "attachments": {},
   "cell_type": "markdown",
   "metadata": {},
   "source": [
    "## Récupération des informations de Yahoo Finance "
   ]
  },
  {
   "attachments": {},
   "cell_type": "markdown",
   "metadata": {},
   "source": [
    "On l'a déja vu dans le fichier dédié."
   ]
  },
  {
   "cell_type": "code",
   "execution_count": 55,
   "metadata": {},
   "outputs": [
    {
     "data": {
      "text/html": [
       "<div>\n",
       "<style scoped>\n",
       "    .dataframe tbody tr th:only-of-type {\n",
       "        vertical-align: middle;\n",
       "    }\n",
       "\n",
       "    .dataframe tbody tr th {\n",
       "        vertical-align: top;\n",
       "    }\n",
       "\n",
       "    .dataframe thead th {\n",
       "        text-align: right;\n",
       "    }\n",
       "</style>\n",
       "<table border=\"1\" class=\"dataframe\">\n",
       "  <thead>\n",
       "    <tr style=\"text-align: right;\">\n",
       "      <th></th>\n",
       "      <th>Date</th>\n",
       "      <th>Close</th>\n",
       "    </tr>\n",
       "  </thead>\n",
       "  <tbody>\n",
       "    <tr>\n",
       "      <th>0</th>\n",
       "      <td>2020-01-02</td>\n",
       "      <td>73.152649</td>\n",
       "    </tr>\n",
       "    <tr>\n",
       "      <th>1</th>\n",
       "      <td>2020-01-03</td>\n",
       "      <td>72.441452</td>\n",
       "    </tr>\n",
       "    <tr>\n",
       "      <th>2</th>\n",
       "      <td>2020-01-06</td>\n",
       "      <td>73.018684</td>\n",
       "    </tr>\n",
       "    <tr>\n",
       "      <th>3</th>\n",
       "      <td>2020-01-07</td>\n",
       "      <td>72.675278</td>\n",
       "    </tr>\n",
       "    <tr>\n",
       "      <th>4</th>\n",
       "      <td>2020-01-08</td>\n",
       "      <td>73.844353</td>\n",
       "    </tr>\n",
       "    <tr>\n",
       "      <th>...</th>\n",
       "      <td>...</td>\n",
       "      <td>...</td>\n",
       "    </tr>\n",
       "    <tr>\n",
       "      <th>998</th>\n",
       "      <td>2023-12-19</td>\n",
       "      <td>196.940002</td>\n",
       "    </tr>\n",
       "    <tr>\n",
       "      <th>999</th>\n",
       "      <td>2023-12-20</td>\n",
       "      <td>194.830002</td>\n",
       "    </tr>\n",
       "    <tr>\n",
       "      <th>1000</th>\n",
       "      <td>2023-12-21</td>\n",
       "      <td>194.679993</td>\n",
       "    </tr>\n",
       "    <tr>\n",
       "      <th>1001</th>\n",
       "      <td>2023-12-22</td>\n",
       "      <td>193.600006</td>\n",
       "    </tr>\n",
       "    <tr>\n",
       "      <th>1002</th>\n",
       "      <td>2023-12-26</td>\n",
       "      <td>193.050003</td>\n",
       "    </tr>\n",
       "  </tbody>\n",
       "</table>\n",
       "<p>1003 rows × 2 columns</p>\n",
       "</div>"
      ],
      "text/plain": [
       "           Date       Close\n",
       "0    2020-01-02   73.152649\n",
       "1    2020-01-03   72.441452\n",
       "2    2020-01-06   73.018684\n",
       "3    2020-01-07   72.675278\n",
       "4    2020-01-08   73.844353\n",
       "...         ...         ...\n",
       "998  2023-12-19  196.940002\n",
       "999  2023-12-20  194.830002\n",
       "1000 2023-12-21  194.679993\n",
       "1001 2023-12-22  193.600006\n",
       "1002 2023-12-26  193.050003\n",
       "\n",
       "[1003 rows x 2 columns]"
      ]
     },
     "execution_count": 55,
     "metadata": {},
     "output_type": "execute_result"
    }
   ],
   "source": [
    "import matplotlib.pyplot as plt \n",
    "import numpy as np\n",
    "import yfinance as yf \n",
    "import pandas as pd \n",
    "from datetime import datetime\n",
    "\n",
    "APL = \"AAPL\"\n",
    "data = yf.Ticker(APL) # Extraction avec la fonction yf.Ticker de yfinance\n",
    "prix_rec = data.history(period = '1d', start = '2020-1-1', end = current_date)\n",
    "prix_rec.to_csv('AAPLt.csv')\n",
    "df=pd.read_csv(\"AAPLt.csv\") \n",
    "df['Date'] = df['Date'].astype(str)\n",
    "df['Date'] = df['Date'].str.slice(0, 10)\n",
    "df['Date'] = pd.to_datetime(df['Date'])\n",
    "df = df[['Date', 'Close']]\n",
    "df"
   ]
  },
  {
   "attachments": {},
   "cell_type": "markdown",
   "metadata": {},
   "source": [
    "### Prédiction de la valeur du lendemain "
   ]
  },
  {
   "attachments": {},
   "cell_type": "markdown",
   "metadata": {},
   "source": [
    "On a vu dans la partie dédiée que le modèle le plus efficace était le naive forecast.\n",
    "Cependant, par définition du modèle, la valeur du lendemain que le modèle va prédire est la valeur réelle d'aujourd'hui. Donc il ne sera pas possible de tirer de conclusion sur oui ou non il faut acheter l'action, car sa valeur prédite sera la même qu'aujourd'hui."
   ]
  },
  {
   "attachments": {},
   "cell_type": "markdown",
   "metadata": {},
   "source": [
    "Pour résoudre ce problème, nous allons comparer la valeur prédite, donc la valeur à J+1, avec la valeur à J-1.\n",
    "Si la valeur est supérieure, alors nous considérerons qu'il faut acheter. \n",
    "Sinon, il vaut mieux ne pas acheter.\n",
    "Une autre solution proposée est d'utiliser quand même le modèle LTSM, bien qu'il soit moins précis que le modèle de naive forecast, mais qui ne nécessite pas de recourir à ce compromis."
   ]
  },
  {
   "attachments": {},
   "cell_type": "markdown",
   "metadata": {},
   "source": [
    "La valeur prédite du lendemain est donc la valeur de l'action au jour d'input, c'est à dire la dernière valeur de fermeture du marché :"
   ]
  },
  {
   "cell_type": "code",
   "execution_count": 56,
   "metadata": {},
   "outputs": [
    {
     "data": {
      "text/plain": [
       "193.0500030517578"
      ]
     },
     "execution_count": 56,
     "metadata": {},
     "output_type": "execute_result"
    }
   ],
   "source": [
    "valeur_lendemain = df['Close'].iloc[-1]\n",
    "valeur_lendemain"
   ]
  },
  {
   "attachments": {},
   "cell_type": "markdown",
   "metadata": {},
   "source": [
    "Comparons la a la valeur du jour J-1, qui est donc :"
   ]
  },
  {
   "cell_type": "code",
   "execution_count": 57,
   "metadata": {},
   "outputs": [
    {
     "data": {
      "text/plain": [
       "193.6000061035156"
      ]
     },
     "execution_count": 57,
     "metadata": {},
     "output_type": "execute_result"
    }
   ],
   "source": [
    "valeur_prec = df['Close'].iloc[-2]\n",
    "valeur_prec"
   ]
  },
  {
   "cell_type": "code",
   "execution_count": 58,
   "metadata": {},
   "outputs": [
    {
     "data": {
      "text/plain": [
       "'NEGATIVE'"
      ]
     },
     "execution_count": 58,
     "metadata": {},
     "output_type": "execute_result"
    }
   ],
   "source": [
    "def acheter_ou_non():\n",
    "    if valeur_lendemain > valeur_prec :\n",
    "        return 'POSITIVE'\n",
    "    else : \n",
    "        return 'NEGATIVE'\n",
    "    \n",
    "acheter_ou_non()"
   ]
  },
  {
   "cell_type": "markdown",
   "metadata": {},
   "source": [
    "# Conclusion "
   ]
  },
  {
   "cell_type": "code",
   "execution_count": 59,
   "metadata": {},
   "outputs": [
    {
     "name": "stdout",
     "output_type": "stream",
     "text": [
      "Passez votre tour\n"
     ]
    }
   ],
   "source": [
    "if rate_pos>0.5 and pos_reddit>50 and acheter_ou_non()=='POSITIVE':\n",
    "    print(\"C'est le moment d'acheter\")\n",
    "else :\n",
    "    print(\"Passez votre tour\")\n"
   ]
  }
 ],
 "metadata": {
  "kernelspec": {
   "display_name": "Python 3",
   "language": "python",
   "name": "python3"
  },
  "language_info": {
   "codemirror_mode": {
    "name": "ipython",
    "version": 3
   },
   "file_extension": ".py",
   "mimetype": "text/x-python",
   "name": "python",
   "nbconvert_exporter": "python",
   "pygments_lexer": "ipython3",
   "version": "3.9.6"
  }
 },
 "nbformat": 4,
 "nbformat_minor": 2
}
