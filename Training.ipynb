{
 "cells": [
  {
   "cell_type": "markdown",
   "metadata": {},
   "source": [
    "# Entraînement du modèle"
   ]
  },
  {
   "cell_type": "markdown",
   "metadata": {},
   "source": [
    "Utilisation de the International Movie Database pour entrainer le modèle "
   ]
  },
  {
   "cell_type": "code",
   "execution_count": 6,
   "metadata": {},
   "outputs": [],
   "source": [
    "import pandas as pd\n",
    "import numpy as np\n",
    "import matplotlib.pyplot as plt\n",
    "import re\n",
    "import plotly.express as px\n",
    "from collections import Counter\n",
    "\n",
    "import nltk\n",
    "from nltk.corpus import stopwords\n",
    "from nltk.stem import WordNetLemmatizer\n",
    "from nltk.tokenize import word_tokenize\n",
    "\n",
    "def cleaning_text(text):\n",
    "    #Passage du texte en miniscules\n",
    "    text=text.lower()\n",
    "    #Suppression des chiffres\n",
    "    text=re.sub(r'\\d+', '', text)\n",
    "    #Suppression de la ponctuation et des symboles spéciaux\n",
    "    text=re.sub(r'[^\\w\\s]', '', text)\n",
    "    return text\n",
    "\n",
    "\n",
    "def count_common_words(text):\n",
    "    words=text.split()\n",
    "    dict={}\n",
    "    for el in words :\n",
    "        if el not in dict:\n",
    "            dict[el]=1\n",
    "        else:\n",
    "            dict[el]+=1\n",
    "    return dict\n",
    "\n",
    "def most_common_words(dictionary):\n",
    "    sorted_dict=dict(sorted(dictionary.items(), key=lambda item: item[1], reverse=True))\n",
    "    return sorted_dict\n",
    "\n",
    "\n",
    "\n",
    "def combine_dictionaries(df,df_column_name):\n",
    "    combined_dict={}\n",
    "    column_index=df.columns.get_loc(str(df_column_name))\n",
    "    for i in range(len(df)):\n",
    "        temp_dictionary=df.iloc[i,int(column_index)]\n",
    "\n",
    "        for key, value in temp_dictionary.items():\n",
    "            if key not in combined_dict:\n",
    "                combined_dict[key]=value\n",
    "            else:\n",
    "                combined_dict[key]+=value\n",
    "    return combined_dict\n",
    "\n",
    "stops = set(stopwords.words('english'))\n",
    "lemmatizer = WordNetLemmatizer()\n",
    "def clean_stopwords(text):\n",
    "    words = word_tokenize(text)\n",
    "    cleaned_text=[word for word in words if word not in stops]\n",
    "    return ' '.join(cleaned_text)"
   ]
  },
  {
   "cell_type": "code",
   "execution_count": 7,
   "metadata": {},
   "outputs": [
    {
     "data": {
      "text/html": [
       "<div>\n",
       "<style scoped>\n",
       "    .dataframe tbody tr th:only-of-type {\n",
       "        vertical-align: middle;\n",
       "    }\n",
       "\n",
       "    .dataframe tbody tr th {\n",
       "        vertical-align: top;\n",
       "    }\n",
       "\n",
       "    .dataframe thead th {\n",
       "        text-align: right;\n",
       "    }\n",
       "</style>\n",
       "<table border=\"1\" class=\"dataframe\">\n",
       "  <thead>\n",
       "    <tr style=\"text-align: right;\">\n",
       "      <th></th>\n",
       "      <th>review</th>\n",
       "      <th>sentiment</th>\n",
       "    </tr>\n",
       "  </thead>\n",
       "  <tbody>\n",
       "    <tr>\n",
       "      <th>0</th>\n",
       "      <td>One of the other reviewers has mentioned that ...</td>\n",
       "      <td>positive</td>\n",
       "    </tr>\n",
       "    <tr>\n",
       "      <th>1</th>\n",
       "      <td>A wonderful little production. &lt;br /&gt;&lt;br /&gt;The...</td>\n",
       "      <td>positive</td>\n",
       "    </tr>\n",
       "    <tr>\n",
       "      <th>2</th>\n",
       "      <td>I thought this was a wonderful way to spend ti...</td>\n",
       "      <td>positive</td>\n",
       "    </tr>\n",
       "    <tr>\n",
       "      <th>3</th>\n",
       "      <td>Basically there's a family where a little boy ...</td>\n",
       "      <td>negative</td>\n",
       "    </tr>\n",
       "    <tr>\n",
       "      <th>4</th>\n",
       "      <td>Petter Mattei's \"Love in the Time of Money\" is...</td>\n",
       "      <td>positive</td>\n",
       "    </tr>\n",
       "    <tr>\n",
       "      <th>...</th>\n",
       "      <td>...</td>\n",
       "      <td>...</td>\n",
       "    </tr>\n",
       "    <tr>\n",
       "      <th>49995</th>\n",
       "      <td>I thought this movie did a down right good job...</td>\n",
       "      <td>positive</td>\n",
       "    </tr>\n",
       "    <tr>\n",
       "      <th>49996</th>\n",
       "      <td>Bad plot, bad dialogue, bad acting, idiotic di...</td>\n",
       "      <td>negative</td>\n",
       "    </tr>\n",
       "    <tr>\n",
       "      <th>49997</th>\n",
       "      <td>I am a Catholic taught in parochial elementary...</td>\n",
       "      <td>negative</td>\n",
       "    </tr>\n",
       "    <tr>\n",
       "      <th>49998</th>\n",
       "      <td>I'm going to have to disagree with the previou...</td>\n",
       "      <td>negative</td>\n",
       "    </tr>\n",
       "    <tr>\n",
       "      <th>49999</th>\n",
       "      <td>No one expects the Star Trek movies to be high...</td>\n",
       "      <td>negative</td>\n",
       "    </tr>\n",
       "  </tbody>\n",
       "</table>\n",
       "<p>50000 rows × 2 columns</p>\n",
       "</div>"
      ],
      "text/plain": [
       "                                                  review sentiment\n",
       "0      One of the other reviewers has mentioned that ...  positive\n",
       "1      A wonderful little production. <br /><br />The...  positive\n",
       "2      I thought this was a wonderful way to spend ti...  positive\n",
       "3      Basically there's a family where a little boy ...  negative\n",
       "4      Petter Mattei's \"Love in the Time of Money\" is...  positive\n",
       "...                                                  ...       ...\n",
       "49995  I thought this movie did a down right good job...  positive\n",
       "49996  Bad plot, bad dialogue, bad acting, idiotic di...  negative\n",
       "49997  I am a Catholic taught in parochial elementary...  negative\n",
       "49998  I'm going to have to disagree with the previou...  negative\n",
       "49999  No one expects the Star Trek movies to be high...  negative\n",
       "\n",
       "[50000 rows x 2 columns]"
      ]
     },
     "execution_count": 7,
     "metadata": {},
     "output_type": "execute_result"
    }
   ],
   "source": [
    "#Dans l'idéal, il aurait fallu utiliser un ensemble de reviews technologiques ou bien économiques mais n'ayant pas cela disposition, ni la possibilité de construire des ensembles d'entrainement de A à Z, nous allons utiliser l'IMDB qui devrait être suffisant pour retirer une compréhension générale des articles récupérés\n",
    "\n",
    "df_imdb= pd.read_csv('/Users/dabadieraphael/Documents/GitHub/Python-pour-la-DS/IMDB Dataset.csv')\n",
    "df_imdb"
   ]
  },
  {
   "cell_type": "markdown",
   "metadata": {},
   "source": [
    "Analyse préliminaire du dataset"
   ]
  },
  {
   "cell_type": "code",
   "execution_count": 39,
   "metadata": {},
   "outputs": [
    {
     "data": {
      "application/vnd.plotly.v1+json": {
       "config": {
        "plotlyServerURL": "https://plot.ly"
       },
       "data": [
        {
         "domain": {
          "x": [
           0,
           1
          ],
          "y": [
           0,
           1
          ]
         },
         "hovertemplate": "label=%{label}<br>value=%{value}<extra></extra>",
         "labels": [
          "positive",
          "negative"
         ],
         "legendgroup": "",
         "name": "",
         "showlegend": true,
         "type": "pie",
         "values": [
          25000,
          25000
         ]
        }
       ],
       "layout": {
        "legend": {
         "tracegroupgap": 0
        },
        "template": {
         "data": {
          "bar": [
           {
            "error_x": {
             "color": "#2a3f5f"
            },
            "error_y": {
             "color": "#2a3f5f"
            },
            "marker": {
             "line": {
              "color": "#E5ECF6",
              "width": 0.5
             },
             "pattern": {
              "fillmode": "overlay",
              "size": 10,
              "solidity": 0.2
             }
            },
            "type": "bar"
           }
          ],
          "barpolar": [
           {
            "marker": {
             "line": {
              "color": "#E5ECF6",
              "width": 0.5
             },
             "pattern": {
              "fillmode": "overlay",
              "size": 10,
              "solidity": 0.2
             }
            },
            "type": "barpolar"
           }
          ],
          "carpet": [
           {
            "aaxis": {
             "endlinecolor": "#2a3f5f",
             "gridcolor": "white",
             "linecolor": "white",
             "minorgridcolor": "white",
             "startlinecolor": "#2a3f5f"
            },
            "baxis": {
             "endlinecolor": "#2a3f5f",
             "gridcolor": "white",
             "linecolor": "white",
             "minorgridcolor": "white",
             "startlinecolor": "#2a3f5f"
            },
            "type": "carpet"
           }
          ],
          "choropleth": [
           {
            "colorbar": {
             "outlinewidth": 0,
             "ticks": ""
            },
            "type": "choropleth"
           }
          ],
          "contour": [
           {
            "colorbar": {
             "outlinewidth": 0,
             "ticks": ""
            },
            "colorscale": [
             [
              0,
              "#0d0887"
             ],
             [
              0.1111111111111111,
              "#46039f"
             ],
             [
              0.2222222222222222,
              "#7201a8"
             ],
             [
              0.3333333333333333,
              "#9c179e"
             ],
             [
              0.4444444444444444,
              "#bd3786"
             ],
             [
              0.5555555555555556,
              "#d8576b"
             ],
             [
              0.6666666666666666,
              "#ed7953"
             ],
             [
              0.7777777777777778,
              "#fb9f3a"
             ],
             [
              0.8888888888888888,
              "#fdca26"
             ],
             [
              1,
              "#f0f921"
             ]
            ],
            "type": "contour"
           }
          ],
          "contourcarpet": [
           {
            "colorbar": {
             "outlinewidth": 0,
             "ticks": ""
            },
            "type": "contourcarpet"
           }
          ],
          "heatmap": [
           {
            "colorbar": {
             "outlinewidth": 0,
             "ticks": ""
            },
            "colorscale": [
             [
              0,
              "#0d0887"
             ],
             [
              0.1111111111111111,
              "#46039f"
             ],
             [
              0.2222222222222222,
              "#7201a8"
             ],
             [
              0.3333333333333333,
              "#9c179e"
             ],
             [
              0.4444444444444444,
              "#bd3786"
             ],
             [
              0.5555555555555556,
              "#d8576b"
             ],
             [
              0.6666666666666666,
              "#ed7953"
             ],
             [
              0.7777777777777778,
              "#fb9f3a"
             ],
             [
              0.8888888888888888,
              "#fdca26"
             ],
             [
              1,
              "#f0f921"
             ]
            ],
            "type": "heatmap"
           }
          ],
          "heatmapgl": [
           {
            "colorbar": {
             "outlinewidth": 0,
             "ticks": ""
            },
            "colorscale": [
             [
              0,
              "#0d0887"
             ],
             [
              0.1111111111111111,
              "#46039f"
             ],
             [
              0.2222222222222222,
              "#7201a8"
             ],
             [
              0.3333333333333333,
              "#9c179e"
             ],
             [
              0.4444444444444444,
              "#bd3786"
             ],
             [
              0.5555555555555556,
              "#d8576b"
             ],
             [
              0.6666666666666666,
              "#ed7953"
             ],
             [
              0.7777777777777778,
              "#fb9f3a"
             ],
             [
              0.8888888888888888,
              "#fdca26"
             ],
             [
              1,
              "#f0f921"
             ]
            ],
            "type": "heatmapgl"
           }
          ],
          "histogram": [
           {
            "marker": {
             "pattern": {
              "fillmode": "overlay",
              "size": 10,
              "solidity": 0.2
             }
            },
            "type": "histogram"
           }
          ],
          "histogram2d": [
           {
            "colorbar": {
             "outlinewidth": 0,
             "ticks": ""
            },
            "colorscale": [
             [
              0,
              "#0d0887"
             ],
             [
              0.1111111111111111,
              "#46039f"
             ],
             [
              0.2222222222222222,
              "#7201a8"
             ],
             [
              0.3333333333333333,
              "#9c179e"
             ],
             [
              0.4444444444444444,
              "#bd3786"
             ],
             [
              0.5555555555555556,
              "#d8576b"
             ],
             [
              0.6666666666666666,
              "#ed7953"
             ],
             [
              0.7777777777777778,
              "#fb9f3a"
             ],
             [
              0.8888888888888888,
              "#fdca26"
             ],
             [
              1,
              "#f0f921"
             ]
            ],
            "type": "histogram2d"
           }
          ],
          "histogram2dcontour": [
           {
            "colorbar": {
             "outlinewidth": 0,
             "ticks": ""
            },
            "colorscale": [
             [
              0,
              "#0d0887"
             ],
             [
              0.1111111111111111,
              "#46039f"
             ],
             [
              0.2222222222222222,
              "#7201a8"
             ],
             [
              0.3333333333333333,
              "#9c179e"
             ],
             [
              0.4444444444444444,
              "#bd3786"
             ],
             [
              0.5555555555555556,
              "#d8576b"
             ],
             [
              0.6666666666666666,
              "#ed7953"
             ],
             [
              0.7777777777777778,
              "#fb9f3a"
             ],
             [
              0.8888888888888888,
              "#fdca26"
             ],
             [
              1,
              "#f0f921"
             ]
            ],
            "type": "histogram2dcontour"
           }
          ],
          "mesh3d": [
           {
            "colorbar": {
             "outlinewidth": 0,
             "ticks": ""
            },
            "type": "mesh3d"
           }
          ],
          "parcoords": [
           {
            "line": {
             "colorbar": {
              "outlinewidth": 0,
              "ticks": ""
             }
            },
            "type": "parcoords"
           }
          ],
          "pie": [
           {
            "automargin": true,
            "type": "pie"
           }
          ],
          "scatter": [
           {
            "fillpattern": {
             "fillmode": "overlay",
             "size": 10,
             "solidity": 0.2
            },
            "type": "scatter"
           }
          ],
          "scatter3d": [
           {
            "line": {
             "colorbar": {
              "outlinewidth": 0,
              "ticks": ""
             }
            },
            "marker": {
             "colorbar": {
              "outlinewidth": 0,
              "ticks": ""
             }
            },
            "type": "scatter3d"
           }
          ],
          "scattercarpet": [
           {
            "marker": {
             "colorbar": {
              "outlinewidth": 0,
              "ticks": ""
             }
            },
            "type": "scattercarpet"
           }
          ],
          "scattergeo": [
           {
            "marker": {
             "colorbar": {
              "outlinewidth": 0,
              "ticks": ""
             }
            },
            "type": "scattergeo"
           }
          ],
          "scattergl": [
           {
            "marker": {
             "colorbar": {
              "outlinewidth": 0,
              "ticks": ""
             }
            },
            "type": "scattergl"
           }
          ],
          "scattermapbox": [
           {
            "marker": {
             "colorbar": {
              "outlinewidth": 0,
              "ticks": ""
             }
            },
            "type": "scattermapbox"
           }
          ],
          "scatterpolar": [
           {
            "marker": {
             "colorbar": {
              "outlinewidth": 0,
              "ticks": ""
             }
            },
            "type": "scatterpolar"
           }
          ],
          "scatterpolargl": [
           {
            "marker": {
             "colorbar": {
              "outlinewidth": 0,
              "ticks": ""
             }
            },
            "type": "scatterpolargl"
           }
          ],
          "scatterternary": [
           {
            "marker": {
             "colorbar": {
              "outlinewidth": 0,
              "ticks": ""
             }
            },
            "type": "scatterternary"
           }
          ],
          "surface": [
           {
            "colorbar": {
             "outlinewidth": 0,
             "ticks": ""
            },
            "colorscale": [
             [
              0,
              "#0d0887"
             ],
             [
              0.1111111111111111,
              "#46039f"
             ],
             [
              0.2222222222222222,
              "#7201a8"
             ],
             [
              0.3333333333333333,
              "#9c179e"
             ],
             [
              0.4444444444444444,
              "#bd3786"
             ],
             [
              0.5555555555555556,
              "#d8576b"
             ],
             [
              0.6666666666666666,
              "#ed7953"
             ],
             [
              0.7777777777777778,
              "#fb9f3a"
             ],
             [
              0.8888888888888888,
              "#fdca26"
             ],
             [
              1,
              "#f0f921"
             ]
            ],
            "type": "surface"
           }
          ],
          "table": [
           {
            "cells": {
             "fill": {
              "color": "#EBF0F8"
             },
             "line": {
              "color": "white"
             }
            },
            "header": {
             "fill": {
              "color": "#C8D4E3"
             },
             "line": {
              "color": "white"
             }
            },
            "type": "table"
           }
          ]
         },
         "layout": {
          "annotationdefaults": {
           "arrowcolor": "#2a3f5f",
           "arrowhead": 0,
           "arrowwidth": 1
          },
          "autotypenumbers": "strict",
          "coloraxis": {
           "colorbar": {
            "outlinewidth": 0,
            "ticks": ""
           }
          },
          "colorscale": {
           "diverging": [
            [
             0,
             "#8e0152"
            ],
            [
             0.1,
             "#c51b7d"
            ],
            [
             0.2,
             "#de77ae"
            ],
            [
             0.3,
             "#f1b6da"
            ],
            [
             0.4,
             "#fde0ef"
            ],
            [
             0.5,
             "#f7f7f7"
            ],
            [
             0.6,
             "#e6f5d0"
            ],
            [
             0.7,
             "#b8e186"
            ],
            [
             0.8,
             "#7fbc41"
            ],
            [
             0.9,
             "#4d9221"
            ],
            [
             1,
             "#276419"
            ]
           ],
           "sequential": [
            [
             0,
             "#0d0887"
            ],
            [
             0.1111111111111111,
             "#46039f"
            ],
            [
             0.2222222222222222,
             "#7201a8"
            ],
            [
             0.3333333333333333,
             "#9c179e"
            ],
            [
             0.4444444444444444,
             "#bd3786"
            ],
            [
             0.5555555555555556,
             "#d8576b"
            ],
            [
             0.6666666666666666,
             "#ed7953"
            ],
            [
             0.7777777777777778,
             "#fb9f3a"
            ],
            [
             0.8888888888888888,
             "#fdca26"
            ],
            [
             1,
             "#f0f921"
            ]
           ],
           "sequentialminus": [
            [
             0,
             "#0d0887"
            ],
            [
             0.1111111111111111,
             "#46039f"
            ],
            [
             0.2222222222222222,
             "#7201a8"
            ],
            [
             0.3333333333333333,
             "#9c179e"
            ],
            [
             0.4444444444444444,
             "#bd3786"
            ],
            [
             0.5555555555555556,
             "#d8576b"
            ],
            [
             0.6666666666666666,
             "#ed7953"
            ],
            [
             0.7777777777777778,
             "#fb9f3a"
            ],
            [
             0.8888888888888888,
             "#fdca26"
            ],
            [
             1,
             "#f0f921"
            ]
           ]
          },
          "colorway": [
           "#636efa",
           "#EF553B",
           "#00cc96",
           "#ab63fa",
           "#FFA15A",
           "#19d3f3",
           "#FF6692",
           "#B6E880",
           "#FF97FF",
           "#FECB52"
          ],
          "font": {
           "color": "#2a3f5f"
          },
          "geo": {
           "bgcolor": "white",
           "lakecolor": "white",
           "landcolor": "#E5ECF6",
           "showlakes": true,
           "showland": true,
           "subunitcolor": "white"
          },
          "hoverlabel": {
           "align": "left"
          },
          "hovermode": "closest",
          "mapbox": {
           "style": "light"
          },
          "paper_bgcolor": "white",
          "plot_bgcolor": "#E5ECF6",
          "polar": {
           "angularaxis": {
            "gridcolor": "white",
            "linecolor": "white",
            "ticks": ""
           },
           "bgcolor": "#E5ECF6",
           "radialaxis": {
            "gridcolor": "white",
            "linecolor": "white",
            "ticks": ""
           }
          },
          "scene": {
           "xaxis": {
            "backgroundcolor": "#E5ECF6",
            "gridcolor": "white",
            "gridwidth": 2,
            "linecolor": "white",
            "showbackground": true,
            "ticks": "",
            "zerolinecolor": "white"
           },
           "yaxis": {
            "backgroundcolor": "#E5ECF6",
            "gridcolor": "white",
            "gridwidth": 2,
            "linecolor": "white",
            "showbackground": true,
            "ticks": "",
            "zerolinecolor": "white"
           },
           "zaxis": {
            "backgroundcolor": "#E5ECF6",
            "gridcolor": "white",
            "gridwidth": 2,
            "linecolor": "white",
            "showbackground": true,
            "ticks": "",
            "zerolinecolor": "white"
           }
          },
          "shapedefaults": {
           "line": {
            "color": "#2a3f5f"
           }
          },
          "ternary": {
           "aaxis": {
            "gridcolor": "white",
            "linecolor": "white",
            "ticks": ""
           },
           "baxis": {
            "gridcolor": "white",
            "linecolor": "white",
            "ticks": ""
           },
           "bgcolor": "#E5ECF6",
           "caxis": {
            "gridcolor": "white",
            "linecolor": "white",
            "ticks": ""
           }
          },
          "title": {
           "x": 0.05
          },
          "xaxis": {
           "automargin": true,
           "gridcolor": "white",
           "linecolor": "white",
           "ticks": "",
           "title": {
            "standoff": 15
           },
           "zerolinecolor": "white",
           "zerolinewidth": 2
          },
          "yaxis": {
           "automargin": true,
           "gridcolor": "white",
           "linecolor": "white",
           "ticks": "",
           "title": {
            "standoff": 15
           },
           "zerolinecolor": "white",
           "zerolinewidth": 2
          }
         }
        },
        "title": {
         "text": "Répartition des sentiments dans la base"
        }
       }
      }
     },
     "metadata": {},
     "output_type": "display_data"
    }
   ],
   "source": [
    "sentiment_counts = df_imdb['sentiment'].value_counts()\n",
    "fig = px.pie(values=sentiment_counts.values, names=sentiment_counts.index, title='Répartition des sentiments dans la base')\n",
    "fig.show()"
   ]
  },
  {
   "cell_type": "code",
   "execution_count": 9,
   "metadata": {},
   "outputs": [
    {
     "data": {
      "text/plain": [
       "\"One of the other reviewers has mentioned that after watching just 1 Oz episode you'll be hooked. They are right, as this is exactly what happened with me.<br /><br />The first thing that struck me about Oz was its brutality and unflinching scenes of violence, which set in right from the word GO. Trust me, this is not a show for the faint hearted or timid. This show pulls no punches with regards to drugs, sex or violence. Its is hardcore, in the classic use of the word.<br /><br />It is called OZ as that is the nickname given to the Oswald Maximum Security State Penitentary. It focuses mainly on Emerald City, an experimental section of the prison where all the cells have glass fronts and face inwards, so privacy is not high on the agenda. Em City is home to many..Aryans, Muslims, gangstas, Latinos, Christians, Italians, Irish and more....so scuffles, death stares, dodgy dealings and shady agreements are never far away.<br /><br />I would say the main appeal of the show is due to the fact that it goes where other shows wouldn't dare. Forget pretty pictures painted for mainstream audiences, forget charm, forget romance...OZ doesn't mess around. The first episode I ever saw struck me as so nasty it was surreal, I couldn't say I was ready for it, but as I watched more, I developed a taste for Oz, and got accustomed to the high levels of graphic violence. Not just violence, but injustice (crooked guards who'll be sold out for a nickel, inmates who'll kill on order and get away with it, well mannered, middle class inmates being turned into prison bitches due to their lack of street skills or prison experience) Watching Oz, you may become comfortable with what is uncomfortable viewing....thats if you can get in touch with your darker side.\""
      ]
     },
     "execution_count": 9,
     "metadata": {},
     "output_type": "execute_result"
    }
   ],
   "source": [
    "df_imdb.iloc[0,0]"
   ]
  },
  {
   "cell_type": "code",
   "execution_count": 10,
   "metadata": {},
   "outputs": [
    {
     "data": {
      "text/html": [
       "<div>\n",
       "<style scoped>\n",
       "    .dataframe tbody tr th:only-of-type {\n",
       "        vertical-align: middle;\n",
       "    }\n",
       "\n",
       "    .dataframe tbody tr th {\n",
       "        vertical-align: top;\n",
       "    }\n",
       "\n",
       "    .dataframe thead th {\n",
       "        text-align: right;\n",
       "    }\n",
       "</style>\n",
       "<table border=\"1\" class=\"dataframe\">\n",
       "  <thead>\n",
       "    <tr style=\"text-align: right;\">\n",
       "      <th></th>\n",
       "      <th>review</th>\n",
       "      <th>sentiment</th>\n",
       "      <th>Content_cleaned</th>\n",
       "    </tr>\n",
       "  </thead>\n",
       "  <tbody>\n",
       "    <tr>\n",
       "      <th>0</th>\n",
       "      <td>One of the other reviewers has mentioned that ...</td>\n",
       "      <td>positive</td>\n",
       "      <td>one of the other reviewers has mentioned that ...</td>\n",
       "    </tr>\n",
       "    <tr>\n",
       "      <th>1</th>\n",
       "      <td>A wonderful little production. &lt;br /&gt;&lt;br /&gt;The...</td>\n",
       "      <td>positive</td>\n",
       "      <td>a wonderful little production br br the filmin...</td>\n",
       "    </tr>\n",
       "    <tr>\n",
       "      <th>2</th>\n",
       "      <td>I thought this was a wonderful way to spend ti...</td>\n",
       "      <td>positive</td>\n",
       "      <td>i thought this was a wonderful way to spend ti...</td>\n",
       "    </tr>\n",
       "    <tr>\n",
       "      <th>3</th>\n",
       "      <td>Basically there's a family where a little boy ...</td>\n",
       "      <td>negative</td>\n",
       "      <td>basically theres a family where a little boy j...</td>\n",
       "    </tr>\n",
       "    <tr>\n",
       "      <th>4</th>\n",
       "      <td>Petter Mattei's \"Love in the Time of Money\" is...</td>\n",
       "      <td>positive</td>\n",
       "      <td>petter matteis love in the time of money is a ...</td>\n",
       "    </tr>\n",
       "  </tbody>\n",
       "</table>\n",
       "</div>"
      ],
      "text/plain": [
       "                                              review sentiment  \\\n",
       "0  One of the other reviewers has mentioned that ...  positive   \n",
       "1  A wonderful little production. <br /><br />The...  positive   \n",
       "2  I thought this was a wonderful way to spend ti...  positive   \n",
       "3  Basically there's a family where a little boy ...  negative   \n",
       "4  Petter Mattei's \"Love in the Time of Money\" is...  positive   \n",
       "\n",
       "                                     Content_cleaned  \n",
       "0  one of the other reviewers has mentioned that ...  \n",
       "1  a wonderful little production br br the filmin...  \n",
       "2  i thought this was a wonderful way to spend ti...  \n",
       "3  basically theres a family where a little boy j...  \n",
       "4  petter matteis love in the time of money is a ...  "
      ]
     },
     "execution_count": 10,
     "metadata": {},
     "output_type": "execute_result"
    }
   ],
   "source": [
    "#On nettoie le texte en passant tout en minuscule et en supprimant les caractères inutiles\n",
    "\n",
    "df_imdb['Content_cleaned']=df_imdb['review'].apply(cleaning_text)\n",
    "df_imdb.head()"
   ]
  },
  {
   "cell_type": "code",
   "execution_count": 11,
   "metadata": {},
   "outputs": [
    {
     "data": {
      "text/html": [
       "<div>\n",
       "<style scoped>\n",
       "    .dataframe tbody tr th:only-of-type {\n",
       "        vertical-align: middle;\n",
       "    }\n",
       "\n",
       "    .dataframe tbody tr th {\n",
       "        vertical-align: top;\n",
       "    }\n",
       "\n",
       "    .dataframe thead th {\n",
       "        text-align: right;\n",
       "    }\n",
       "</style>\n",
       "<table border=\"1\" class=\"dataframe\">\n",
       "  <thead>\n",
       "    <tr style=\"text-align: right;\">\n",
       "      <th></th>\n",
       "      <th>review</th>\n",
       "      <th>sentiment</th>\n",
       "      <th>Content_cleaned</th>\n",
       "      <th>Content_cleaned_from_stopwords</th>\n",
       "    </tr>\n",
       "  </thead>\n",
       "  <tbody>\n",
       "    <tr>\n",
       "      <th>0</th>\n",
       "      <td>One of the other reviewers has mentioned that ...</td>\n",
       "      <td>positive</td>\n",
       "      <td>one of the other reviewers has mentioned that ...</td>\n",
       "      <td>one reviewers mentioned watching oz episode yo...</td>\n",
       "    </tr>\n",
       "    <tr>\n",
       "      <th>1</th>\n",
       "      <td>A wonderful little production. &lt;br /&gt;&lt;br /&gt;The...</td>\n",
       "      <td>positive</td>\n",
       "      <td>a wonderful little production br br the filmin...</td>\n",
       "      <td>wonderful little production br br filming tech...</td>\n",
       "    </tr>\n",
       "    <tr>\n",
       "      <th>2</th>\n",
       "      <td>I thought this was a wonderful way to spend ti...</td>\n",
       "      <td>positive</td>\n",
       "      <td>i thought this was a wonderful way to spend ti...</td>\n",
       "      <td>thought wonderful way spend time hot summer we...</td>\n",
       "    </tr>\n",
       "    <tr>\n",
       "      <th>3</th>\n",
       "      <td>Basically there's a family where a little boy ...</td>\n",
       "      <td>negative</td>\n",
       "      <td>basically theres a family where a little boy j...</td>\n",
       "      <td>basically theres family little boy jake thinks...</td>\n",
       "    </tr>\n",
       "    <tr>\n",
       "      <th>4</th>\n",
       "      <td>Petter Mattei's \"Love in the Time of Money\" is...</td>\n",
       "      <td>positive</td>\n",
       "      <td>petter matteis love in the time of money is a ...</td>\n",
       "      <td>petter matteis love time money visually stunni...</td>\n",
       "    </tr>\n",
       "  </tbody>\n",
       "</table>\n",
       "</div>"
      ],
      "text/plain": [
       "                                              review sentiment  \\\n",
       "0  One of the other reviewers has mentioned that ...  positive   \n",
       "1  A wonderful little production. <br /><br />The...  positive   \n",
       "2  I thought this was a wonderful way to spend ti...  positive   \n",
       "3  Basically there's a family where a little boy ...  negative   \n",
       "4  Petter Mattei's \"Love in the Time of Money\" is...  positive   \n",
       "\n",
       "                                     Content_cleaned  \\\n",
       "0  one of the other reviewers has mentioned that ...   \n",
       "1  a wonderful little production br br the filmin...   \n",
       "2  i thought this was a wonderful way to spend ti...   \n",
       "3  basically theres a family where a little boy j...   \n",
       "4  petter matteis love in the time of money is a ...   \n",
       "\n",
       "                      Content_cleaned_from_stopwords  \n",
       "0  one reviewers mentioned watching oz episode yo...  \n",
       "1  wonderful little production br br filming tech...  \n",
       "2  thought wonderful way spend time hot summer we...  \n",
       "3  basically theres family little boy jake thinks...  \n",
       "4  petter matteis love time money visually stunni...  "
      ]
     },
     "execution_count": 11,
     "metadata": {},
     "output_type": "execute_result"
    }
   ],
   "source": [
    "df_imdb['Content_cleaned_from_stopwords']=df_imdb['Content_cleaned'].apply(clean_stopwords)\n",
    "df_imdb.head()"
   ]
  },
  {
   "cell_type": "code",
   "execution_count": 12,
   "metadata": {},
   "outputs": [
    {
     "data": {
      "text/plain": [
       "<50000x2000 sparse matrix of type '<class 'numpy.float64'>'\n",
       "\twith 3242663 stored elements in Compressed Sparse Row format>"
      ]
     },
     "execution_count": 12,
     "metadata": {},
     "output_type": "execute_result"
    }
   ],
   "source": [
    "#Afin de rendre le texte utilisable pour l'entrainement de modèles de ML, nous vectorisons son contenu\n",
    "\n",
    "from sklearn.feature_extraction.text import TfidfVectorizer\n",
    "vectorizer=TfidfVectorizer(max_features=2000)\n",
    "X= vectorizer.fit_transform(df_imdb['Content_cleaned_from_stopwords'])\n",
    "X"
   ]
  },
  {
   "cell_type": "code",
   "execution_count": 13,
   "metadata": {},
   "outputs": [
    {
     "name": "stdout",
     "output_type": "stream",
     "text": [
      "(Row, Col): (0, 1568), valeur: 0.0836816653194513\n",
      "(Row, Col): (0, 1798), valeur: 0.10150607424144369\n",
      "(Row, Col): (0, 155), valeur: 0.07901955788647734\n",
      "(Row, Col): (0, 1096), valeur: 0.06483957191600687\n",
      "(Row, Col): (0, 581), valeur: 0.08533340202807592\n",
      "(Row, Col): (0, 1589), valeur: 0.11409542466225144\n",
      "(Row, Col): (0, 1672), valeur: 0.09753383604607317\n",
      "(Row, Col): (0, 971), valeur: 0.08538629467221116\n",
      "(Row, Col): (0, 1825), valeur: 0.08770903191977768\n",
      "(Row, Col): (0, 297), valeur: 0.09414022390525538\n"
     ]
    }
   ],
   "source": [
    "# X est une matrice sparse (ou creuse) ie il a beaucoup de valeurs nulles. Nous cherchons à n'afficher que les valeurs non nulles de cette matrice afin de mieux comprendre ce qu'elle contient.\n",
    "rows, columns = X.nonzero()\n",
    "compteur=0\n",
    "for row, column in zip(rows, columns):\n",
    "    print(f\"(Row, Col): ({row}, {column}), valeur: {X[row, column]}\")\n",
    "    compteur+=1\n",
    "    if compteur==10:\n",
    "        break"
   ]
  },
  {
   "cell_type": "code",
   "execution_count": 14,
   "metadata": {},
   "outputs": [],
   "source": [
    "from sklearn.model_selection import train_test_split\n",
    "X_train, X_test, Y_train, Y_test=train_test_split(X,df_imdb['sentiment'],test_size=0.3)\n"
   ]
  },
  {
   "cell_type": "markdown",
   "metadata": {},
   "source": [
    "Essayons de trouver le modèle qui convient le mieux entre une simple régression logisitique, random forest et des réseaux LSTM. On essaiera d'obtenir le maximum de chacun de ces 3 modèles et on retiendra le modèle entraîné le plus performant."
   ]
  },
  {
   "cell_type": "markdown",
   "metadata": {},
   "source": [
    "Commençons avec la régression logistique, le modèle le plus simple des trois. La régression logistique est normalement assez bien adaptée à des problèmes binaires. "
   ]
  },
  {
   "cell_type": "markdown",
   "metadata": {},
   "source": [
    "# Régression logistique"
   ]
  },
  {
   "cell_type": "code",
   "execution_count": 15,
   "metadata": {},
   "outputs": [
    {
     "data": {
      "text/html": [
       "<style>#sk-container-id-1 {color: black;}#sk-container-id-1 pre{padding: 0;}#sk-container-id-1 div.sk-toggleable {background-color: white;}#sk-container-id-1 label.sk-toggleable__label {cursor: pointer;display: block;width: 100%;margin-bottom: 0;padding: 0.3em;box-sizing: border-box;text-align: center;}#sk-container-id-1 label.sk-toggleable__label-arrow:before {content: \"▸\";float: left;margin-right: 0.25em;color: #696969;}#sk-container-id-1 label.sk-toggleable__label-arrow:hover:before {color: black;}#sk-container-id-1 div.sk-estimator:hover label.sk-toggleable__label-arrow:before {color: black;}#sk-container-id-1 div.sk-toggleable__content {max-height: 0;max-width: 0;overflow: hidden;text-align: left;background-color: #f0f8ff;}#sk-container-id-1 div.sk-toggleable__content pre {margin: 0.2em;color: black;border-radius: 0.25em;background-color: #f0f8ff;}#sk-container-id-1 input.sk-toggleable__control:checked~div.sk-toggleable__content {max-height: 200px;max-width: 100%;overflow: auto;}#sk-container-id-1 input.sk-toggleable__control:checked~label.sk-toggleable__label-arrow:before {content: \"▾\";}#sk-container-id-1 div.sk-estimator input.sk-toggleable__control:checked~label.sk-toggleable__label {background-color: #d4ebff;}#sk-container-id-1 div.sk-label input.sk-toggleable__control:checked~label.sk-toggleable__label {background-color: #d4ebff;}#sk-container-id-1 input.sk-hidden--visually {border: 0;clip: rect(1px 1px 1px 1px);clip: rect(1px, 1px, 1px, 1px);height: 1px;margin: -1px;overflow: hidden;padding: 0;position: absolute;width: 1px;}#sk-container-id-1 div.sk-estimator {font-family: monospace;background-color: #f0f8ff;border: 1px dotted black;border-radius: 0.25em;box-sizing: border-box;margin-bottom: 0.5em;}#sk-container-id-1 div.sk-estimator:hover {background-color: #d4ebff;}#sk-container-id-1 div.sk-parallel-item::after {content: \"\";width: 100%;border-bottom: 1px solid gray;flex-grow: 1;}#sk-container-id-1 div.sk-label:hover label.sk-toggleable__label {background-color: #d4ebff;}#sk-container-id-1 div.sk-serial::before {content: \"\";position: absolute;border-left: 1px solid gray;box-sizing: border-box;top: 0;bottom: 0;left: 50%;z-index: 0;}#sk-container-id-1 div.sk-serial {display: flex;flex-direction: column;align-items: center;background-color: white;padding-right: 0.2em;padding-left: 0.2em;position: relative;}#sk-container-id-1 div.sk-item {position: relative;z-index: 1;}#sk-container-id-1 div.sk-parallel {display: flex;align-items: stretch;justify-content: center;background-color: white;position: relative;}#sk-container-id-1 div.sk-item::before, #sk-container-id-1 div.sk-parallel-item::before {content: \"\";position: absolute;border-left: 1px solid gray;box-sizing: border-box;top: 0;bottom: 0;left: 50%;z-index: -1;}#sk-container-id-1 div.sk-parallel-item {display: flex;flex-direction: column;z-index: 1;position: relative;background-color: white;}#sk-container-id-1 div.sk-parallel-item:first-child::after {align-self: flex-end;width: 50%;}#sk-container-id-1 div.sk-parallel-item:last-child::after {align-self: flex-start;width: 50%;}#sk-container-id-1 div.sk-parallel-item:only-child::after {width: 0;}#sk-container-id-1 div.sk-dashed-wrapped {border: 1px dashed gray;margin: 0 0.4em 0.5em 0.4em;box-sizing: border-box;padding-bottom: 0.4em;background-color: white;}#sk-container-id-1 div.sk-label label {font-family: monospace;font-weight: bold;display: inline-block;line-height: 1.2em;}#sk-container-id-1 div.sk-label-container {text-align: center;}#sk-container-id-1 div.sk-container {/* jupyter's `normalize.less` sets `[hidden] { display: none; }` but bootstrap.min.css set `[hidden] { display: none !important; }` so we also need the `!important` here to be able to override the default hidden behavior on the sphinx rendered scikit-learn.org. See: https://github.com/scikit-learn/scikit-learn/issues/21755 */display: inline-block !important;position: relative;}#sk-container-id-1 div.sk-text-repr-fallback {display: none;}</style><div id=\"sk-container-id-1\" class=\"sk-top-container\"><div class=\"sk-text-repr-fallback\"><pre>LogisticRegression()</pre><b>In a Jupyter environment, please rerun this cell to show the HTML representation or trust the notebook. <br />On GitHub, the HTML representation is unable to render, please try loading this page with nbviewer.org.</b></div><div class=\"sk-container\" hidden><div class=\"sk-item\"><div class=\"sk-estimator sk-toggleable\"><input class=\"sk-toggleable__control sk-hidden--visually\" id=\"sk-estimator-id-1\" type=\"checkbox\" checked><label for=\"sk-estimator-id-1\" class=\"sk-toggleable__label sk-toggleable__label-arrow\">LogisticRegression</label><div class=\"sk-toggleable__content\"><pre>LogisticRegression()</pre></div></div></div></div></div>"
      ],
      "text/plain": [
       "LogisticRegression()"
      ]
     },
     "execution_count": 15,
     "metadata": {},
     "output_type": "execute_result"
    }
   ],
   "source": [
    "from sklearn.linear_model import LogisticRegression\n",
    "\n",
    "logistic_regression=LogisticRegression()\n",
    "\n",
    "#On entraîne le modèle sur l'ensemble d'entraînement extrait de l'IMDB Dataset.csv\n",
    "logistic_regression.fit(X_train, Y_train)"
   ]
  },
  {
   "cell_type": "code",
   "execution_count": 16,
   "metadata": {},
   "outputs": [
    {
     "name": "stdout",
     "output_type": "stream",
     "text": [
      "              precision    recall  f1-score   support\n",
      "\n",
      "    negative       0.88      0.87      0.87      7524\n",
      "    positive       0.87      0.88      0.88      7476\n",
      "\n",
      "    accuracy                           0.88     15000\n",
      "   macro avg       0.88      0.88      0.88     15000\n",
      "weighted avg       0.88      0.88      0.88     15000\n",
      "\n"
     ]
    }
   ],
   "source": [
    "# Première évaluation de la performance du modèle\n",
    "\n",
    "from sklearn.metrics import classification_report\n",
    "\n",
    "Y_predicted= logistic_regression.predict(X_test)\n",
    "print(classification_report(Y_test, Y_predicted ))"
   ]
  },
  {
   "cell_type": "markdown",
   "metadata": {},
   "source": [
    "Interprétation : \n",
    "- La précision (True positive / (True positive + False positive)) mesure l'exactitude du modèle. Ici elle est de 0,88 en moyenne. Dans le cas des reviews négatives, la précision est de 89%. Cela indique que parmi les reviews classées comme négatives par le modèle, 89% l'étaient vraiment.\n",
    "- Le recall correspond au rapport True positive / (True positive + False negative). Par exemple si on prend le cas \"negative\", un recall de 87% indique que 87% des reviews correspondant à un sentiment négatif ont été détectées.\n",
    "- Le F1 Score est la moyenne harmonique entre la précision et le recall. Il est de 88% ici.\n",
    "\n",
    "Ces résultats sont d'ores et déjà assez satisfaisants. Par ailleurs on remarque que le modèle performe de manière similaire pour les deux classes. "
   ]
  },
  {
   "cell_type": "markdown",
   "metadata": {},
   "source": [
    "Dans le but de chercher à améliorer les performances du modèle, notamment en analysant plus en détails les valeurs de TP, TN, FN, FP. Pour cela on affiche la matrice de confusion. "
   ]
  },
  {
   "cell_type": "code",
   "execution_count": 18,
   "metadata": {},
   "outputs": [
    {
     "data": {
      "image/png": "[encoded data removed]",
      "text/plain": [
       "<Figure size 640x480 with 2 Axes>"
      ]
     },
     "metadata": {},
     "output_type": "display_data"
    }
   ],
   "source": [
    "import seaborn as sns\n",
    "import matplotlib.pyplot as plt\n",
    "from sklearn.metrics import confusion_matrix\n",
    "\n",
    "conf_mat = confusion_matrix(Y_test, Y_predicted)\n",
    "sns.heatmap(conf_mat, annot=True, fmt='d', cmap='Blues')\n",
    "plt.xlabel('Predicted')\n",
    "plt.ylabel('True')\n",
    "plt.show()"
   ]
  },
  {
   "cell_type": "markdown",
   "metadata": {},
   "source": [
    "Interprétation : \n",
    "- 6549 True negative\n",
    "- 990 False positive \n",
    "- 883 False negative\n",
    "- 6651 True positive"
   ]
  },
  {
   "cell_type": "markdown",
   "metadata": {},
   "source": [
    "Pour améliorer un modèle de régression logistique, on peut notamment s'intéresser au seuil de probabilité utilisé pour décider de la classification. En ajustant ce seuil on peut notamment minimiser les faux positifs ou les faux négatifs. C'est notamment le cas lorsqu'on considère que se tromper dans un sens est plus coûteux que dans l'autre. Ici c'est le cas : nous voulons acheter que lorsque nous sommes sûrs que les articles récupérés sont positifs. Nous remarquons par ailleurs que le nombre de FP est supérieur au nombre de FN. Essayons de réduire les FP et voyons comment évolue la performance du modèle."
   ]
  },
  {
   "cell_type": "code",
   "execution_count": 19,
   "metadata": {},
   "outputs": [
    {
     "name": "stdout",
     "output_type": "stream",
     "text": [
      "              precision    recall  f1-score   support\n",
      "\n",
      "    negative       0.84      0.91      0.87      7524\n",
      "    positive       0.90      0.82      0.86      7476\n",
      "\n",
      "    accuracy                           0.87     15000\n",
      "   macro avg       0.87      0.87      0.87     15000\n",
      "weighted avg       0.87      0.87      0.87     15000\n",
      "\n"
     ]
    }
   ],
   "source": [
    "# On fixe par exemple le nouveau seuil à 0.6, ainsi pour que la prédiction soit considérée comme positive la probabilité devra être plus élevée qu'avant (0.6 > 0.5). \n",
    "# Il sera ainsi plus difficile d'être classé positif, ce qui devrait réduire la quantité de FP (le modèle doit être plus confiant qu'avant pour pouvoir annoncer qu'une review est positive)\n",
    "\n",
    "\n",
    "from sklearn.metrics import precision_recall_curve\n",
    "import numpy as np\n",
    "\n",
    "Y_probas= logistic_regression.predict_proba(X_test)[:, 1] #probas estimées par le modèle que chaque prédiction appartiene à la classe (des reviews) positive(s)\n",
    "#On modifie désormais les prédictions précédentes pour obtenir la nouvelle classification\n",
    "threshold=0.6\n",
    "Y_predicted_bis=np.where(Y_probas>=threshold,\"positive\", \"negative\")\n",
    "Y_predicted_bis\n",
    "print(classification_report(Y_test, Y_predicted_bis))"
   ]
  },
  {
   "cell_type": "code",
   "execution_count": 20,
   "metadata": {},
   "outputs": [
    {
     "data": {
      "image/png": "[encoded data removed]",
      "text/plain": [
       "<Figure size 640x480 with 2 Axes>"
      ]
     },
     "metadata": {},
     "output_type": "display_data"
    }
   ],
   "source": [
    "conf_mat = confusion_matrix(Y_test, Y_predicted_bis)\n",
    "sns.heatmap(conf_mat, annot=True, fmt='d', cmap='Blues')\n",
    "plt.xlabel('Predicted')\n",
    "plt.ylabel('True')\n",
    "plt.show()"
   ]
  },
  {
   "cell_type": "markdown",
   "metadata": {},
   "source": [
    "On a bien fait diminuer le nombre de FP de 990 à 681. Le recall et le F1 score moyens ont très légerement diminué pour passer à 0.87 sur l'ensemble du dataset. À première vue, une telle évolution reste plutôt positive pour nous : nous prendrons moins de risque lorsque nous inciterons les utilisateurs à acheter.\n",
    "\n",
    "On peut aussi s'intéresser à un autre paramètre pour améliorer la précision : le paramètre de régularisation. Ici, en particulier, on s'intéresse à l'inverse de ce paramètre. Il permet de pénaliser les poids du modèle afin de réduire les risques d'overfitting.\n",
    "\n",
    "Afin de déterminer la valeur optimale de C, on peut utiliser la validation croisée. L'idée avec la validation croisée est de s'assurer que la valeur de C n'est pas optimal pour un unique sous-ensemble spécifique mais bien généralisable à de nouvelles instances. On considère les régressions Lasso (L1) et Ridge (L2)"
   ]
  },
  {
   "cell_type": "code",
   "execution_count": 21,
   "metadata": {},
   "outputs": [
    {
     "name": "stdout",
     "output_type": "stream",
     "text": [
      "{'C': 1}\n"
     ]
    }
   ],
   "source": [
    "from sklearn.model_selection import GridSearchCV\n",
    "\n",
    "logistic_regression_2=LogisticRegression(max_iter=1000) #Si on ne spécifie pas un nombre maximal d'itération, on obtient \"STOP: TOTAL NO. of ITERATIONS REACHED LIMIT.\"\n",
    "grid={'C': [0.001, 0.01, 0.1, 1, 10, 100]} \n",
    "grid_search=GridSearchCV(logistic_regression_2, grid)\n",
    "grid_search.fit(X_train, Y_train)\n",
    "print(grid_search.best_params_)"
   ]
  },
  {
   "cell_type": "code",
   "execution_count": 22,
   "metadata": {},
   "outputs": [
    {
     "name": "stdout",
     "output_type": "stream",
     "text": [
      "{'C': 2}\n"
     ]
    }
   ],
   "source": [
    "#On a obtenu C=1, on peut essayer d'affiner la valeur de C en changeant la grille \n",
    "\n",
    "\n",
    "logistic_regression_2=LogisticRegression(max_iter=1000) #Si on ne spécifie pas un nombre maximal d'itération, on obtient \"STOP: TOTAL NO. of ITERATIONS REACHED LIMIT.\"\n",
    "grid={'C': [0.5, 0.75, 1, 1.25, 1.5, 2]} \n",
    "grid_search=GridSearchCV(logistic_regression_2, grid)\n",
    "grid_search.fit(X_train, Y_train)\n",
    "print(grid_search.best_params_)"
   ]
  },
  {
   "cell_type": "code",
   "execution_count": 23,
   "metadata": {},
   "outputs": [
    {
     "name": "stdout",
     "output_type": "stream",
     "text": [
      "{'C': 2}\n"
     ]
    }
   ],
   "source": [
    "#On continue à affiner \n",
    "logistic_regression_2=LogisticRegression(max_iter=1000) #Si on ne spécifie pas un nombre maximal d'itération, on obtient \"STOP: TOTAL NO. of ITERATIONS REACHED LIMIT.\"\n",
    "grid={'C': [2, 3, 4, 5, 6]} \n",
    "grid_search=GridSearchCV(logistic_regression_2, grid)\n",
    "grid_search.fit(X_train, Y_train)\n",
    "print(grid_search.best_params_)"
   ]
  },
  {
   "cell_type": "markdown",
   "metadata": {},
   "source": [
    "On essaie d'affiner à nouveau la valeur de C."
   ]
  },
  {
   "cell_type": "code",
   "execution_count": 40,
   "metadata": {},
   "outputs": [
    {
     "name": "stdout",
     "output_type": "stream",
     "text": [
      "{'C': 2.1052631578947367}\n"
     ]
    }
   ],
   "source": [
    "logistic_regression_2=LogisticRegression(max_iter=1000) #Si on ne spécifie pas un nombre maximal d'itération, on obtient \"STOP: TOTAL NO. of ITERATIONS REACHED LIMIT.\"\n",
    "grid={'C': np.linspace(2, 3, num=20)} \n",
    "grid_search=GridSearchCV(logistic_regression_2, grid)\n",
    "grid_search.fit(X_train, Y_train)\n",
    "print(grid_search.best_params_)"
   ]
  },
  {
   "cell_type": "code",
   "execution_count": 41,
   "metadata": {},
   "outputs": [
    {
     "name": "stdout",
     "output_type": "stream",
     "text": [
      "              precision    recall  f1-score   support\n",
      "\n",
      "    negative       0.84      0.90      0.87      7524\n",
      "    positive       0.90      0.83      0.86      7476\n",
      "\n",
      "    accuracy                           0.87     15000\n",
      "   macro avg       0.87      0.87      0.87     15000\n",
      "weighted avg       0.87      0.87      0.87     15000\n",
      "\n"
     ]
    }
   ],
   "source": [
    "#On évalue désormais le modèle en prenant C=2.1 et le seuil de 0.6\n",
    "\n",
    "logistic_regression_final=LogisticRegression(C=2.1) #On spécifie la valeur de C\n",
    "logistic_regression_final.fit(X_train, Y_train)\n",
    "\n",
    "Y_probas= logistic_regression_final.predict_proba(X_test)[:, 1] #probas estimées par le modèle que chaque prédiction appartiene à la classe (des reviews) positive(s)\n",
    "threshold=0.6\n",
    "Y_predicted_bis=np.where(Y_probas>=threshold,\"positive\", \"negative\")\n",
    "Y_predicted_bis\n",
    "print(classification_report(Y_test, Y_predicted_bis))"
   ]
  },
  {
   "cell_type": "markdown",
   "metadata": {},
   "source": [
    "On a perdu 1 point de pourcentage de précision et gagné 1 point de pourcentage de recall pour la classe positive. Rien n'a changé pour la classe négative. On détecte donc désormais 1% des reviews positives en plus et parmi les reviews positives, on en a détecté 1% de moins que juste avant de fine tuner C. Prendre C=2 n'est donc pas pertinent ici puisque ce que nous cherchons surtout à augmenter est la précision sur la classe positive afin de ne pas inciter à acheter à tord.\n",
    "\n",
    "Si on compare à la toute première régression réalisée, on remarque qu'on a gagné 4 points de pourcentage de précision pour la catégorie positive, ce qui est satisfaisant. Les valeurs de recall, précision et F1 Score moyennes sont par ailleurs les mêmes à un point de pourcentage près.\n",
    "Nous gardons les résultats obtenus avant fine-tuning de la valeur de C pour les comparer aux prochaines approches."
   ]
  },
  {
   "cell_type": "markdown",
   "metadata": {},
   "source": [
    "# Random Forest"
   ]
  },
  {
   "cell_type": "markdown",
   "metadata": {},
   "source": [
    "Les modèles de Random Forest sont plus robustes que les modèles de régression logistique. Ils permettent de capturer des relations non linéaires ce qui peut s'avérer fort utile pour de l'analyse de texte. Par ailleurs, ce sont des modèles qui nécessitent peu de fine tuning."
   ]
  },
  {
   "cell_type": "code",
   "execution_count": 25,
   "metadata": {},
   "outputs": [
    {
     "name": "stdout",
     "output_type": "stream",
     "text": [
      "              precision    recall  f1-score   support\n",
      "\n",
      "    negative       0.84      0.85      0.84      7524\n",
      "    positive       0.85      0.84      0.84      7476\n",
      "\n",
      "    accuracy                           0.84     15000\n",
      "   macro avg       0.84      0.84      0.84     15000\n",
      "weighted avg       0.84      0.84      0.84     15000\n",
      "\n"
     ]
    }
   ],
   "source": [
    "from sklearn.ensemble import RandomForestClassifier\n",
    "random_forest= RandomForestClassifier(n_estimators=100) #On renseigne le nombre d'arbres. En ajoutant des arbres, on réduit le risque d'overfitting. On prend généralement entre 100 et 200 pour commencer.\n",
    "\n",
    "random_forest.fit(X_train, Y_train)\n",
    "Y_predicted_r_f=random_forest.predict(X_test)\n",
    "\n",
    "print(classification_report(Y_test, Y_predicted_r_f))"
   ]
  },
  {
   "cell_type": "markdown",
   "metadata": {},
   "source": [
    "On remarque des résultats à première vue moins satisfaisants."
   ]
  },
  {
   "cell_type": "code",
   "execution_count": 26,
   "metadata": {},
   "outputs": [
    {
     "name": "stdout",
     "output_type": "stream",
     "text": [
      "[[6396 1128]\n",
      " [1231 6245]]\n"
     ]
    }
   ],
   "source": [
    "print(confusion_matrix(Y_test, Y_predicted_r_f))"
   ]
  },
  {
   "cell_type": "code",
   "execution_count": 27,
   "metadata": {},
   "outputs": [
    {
     "data": {
      "image/png": "[encoded data removed]",
      "text/plain": [
       "<Figure size 640x480 with 2 Axes>"
      ]
     },
     "metadata": {},
     "output_type": "display_data"
    }
   ],
   "source": [
    "conf_mat = confusion_matrix(Y_test, Y_predicted_r_f)\n",
    "sns.heatmap(conf_mat, annot=True, fmt='d', cmap='Blues')\n",
    "plt.xlabel('Predicted')\n",
    "plt.ylabel('True')\n",
    "plt.show()"
   ]
  },
  {
   "cell_type": "code",
   "execution_count": 28,
   "metadata": {},
   "outputs": [
    {
     "name": "stdout",
     "output_type": "stream",
     "text": [
      "              precision    recall  f1-score   support\n",
      "\n",
      "    negative       0.83      0.85      0.84      7524\n",
      "    positive       0.84      0.82      0.83      7476\n",
      "\n",
      "    accuracy                           0.83     15000\n",
      "   macro avg       0.83      0.83      0.83     15000\n",
      "weighted avg       0.83      0.83      0.83     15000\n",
      "\n"
     ]
    }
   ],
   "source": [
    "random_forest= RandomForestClassifier(n_estimators=50) #On renseigne le nombre d'arbres. En ajoutant des arbres, on réduit le risque d'overfitting. On prend généralement entre 100 et 200 pour commencer.\n",
    "\n",
    "random_forest.fit(X_train, Y_train)\n",
    "Y_predicted_r_f=random_forest.predict(X_test)\n",
    "\n",
    "print(classification_report(Y_test, Y_predicted_r_f))"
   ]
  },
  {
   "cell_type": "code",
   "execution_count": 29,
   "metadata": {},
   "outputs": [
    {
     "name": "stdout",
     "output_type": "stream",
     "text": [
      "              precision    recall  f1-score   support\n",
      "\n",
      "    negative       0.84      0.85      0.85      7524\n",
      "    positive       0.85      0.84      0.84      7476\n",
      "\n",
      "    accuracy                           0.84     15000\n",
      "   macro avg       0.84      0.84      0.84     15000\n",
      "weighted avg       0.84      0.84      0.84     15000\n",
      "\n"
     ]
    }
   ],
   "source": [
    "random_forest= RandomForestClassifier(n_estimators=200) \n",
    "\n",
    "random_forest.fit(X_train, Y_train)\n",
    "Y_predicted_r_f=random_forest.predict(X_test)\n",
    "\n",
    "print(classification_report(Y_test, Y_predicted_r_f))"
   ]
  },
  {
   "cell_type": "markdown",
   "metadata": {},
   "source": [
    "Les hyperparamètres les plus importants dans le fine tuning sont \n",
    "- \"n_estimators\" :le nombre d'arbres dans la forêt\n",
    "- \"max_features\" : le nombre de features prises en compte à chaque scission\n",
    "- \"max_depth\" : la profondeur maximale de l'arbre\n",
    "- \"min_samples_split\" : nombre minimum d'échantillon pour scinder un noeud\n",
    "\n",
    "Essayons donc de fine-tuner ces paramètres afin de gagner en précision. GridSearchCV peut prendre du temps à tourner. Essayons de visualiser l'évolution des performances du modèle lorsqu'un seul paramètre varie."
   ]
  },
  {
   "cell_type": "code",
   "execution_count": 30,
   "metadata": {},
   "outputs": [],
   "source": [
    "#Visualisons les performances du modèle lorsque nous faisons varier \"n_estimators\"\n",
    "\n",
    "from sklearn.metrics import accuracy_score\n",
    "from sklearn.model_selection import train_test_split\n",
    "import time\n",
    "\n",
    "n_trees_grid=[10, 50, 100, 200, 400]\n",
    "\n",
    "# On va récupérer les valeurs de précision du modèle ainsi que les temps d'exécution lorsque n_estimators prend les valeurs présentes dans cette grille\n",
    "\n",
    "training_precisions = []\n",
    "test_precisions = []\n",
    "training_times = []\n",
    "\n",
    "for n in n_trees_grid:\n",
    "    rf=RandomForestClassifier(n_estimators=n)\n",
    "\n",
    "    start_time=time.time()\n",
    "    rf.fit(X_train, Y_train)\n",
    "    end_time=time.time()\n",
    "\n",
    "    duration = end_time-start_time\n",
    "\n",
    "    training_predictions=rf.predict(X_train)\n",
    "    test_predictions=rf.predict(X_test)\n",
    "\n",
    "    #Comparaison des prédictions aux vraies valeurs\n",
    "    training_precision=accuracy_score(Y_train, training_predictions)\n",
    "    test_precision=accuracy_score(Y_test, test_predictions)\n",
    "\n",
    "    #On ajoute ces résultats aux listes initiales\n",
    "    training_precisions.append(training_precision)\n",
    "    test_precisions.append(test_precision)\n",
    "    training_times.append(duration)\n"
   ]
  },
  {
   "cell_type": "code",
   "execution_count": 31,
   "metadata": {},
   "outputs": [
    {
     "data": {
      "image/png": "[encoded data removed]",
      "text/plain": [
       "<Figure size 1000x500 with 1 Axes>"
      ]
     },
     "metadata": {},
     "output_type": "display_data"
    }
   ],
   "source": [
    "import matplotlib.pyplot as plt\n",
    "\n",
    "plt.figure(figsize=(10, 5))\n",
    "\n",
    "plt.plot(n_trees_grid, training_precisions, label='Training Accuracy')\n",
    "plt.plot(n_trees_grid, test_precisions, label='Test Accuracy')\n",
    "plt.xlabel('Number of trees')\n",
    "plt.ylabel('Accuracy')\n",
    "plt.title('Effect of the number of trees on the accuracy of the model')\n",
    "plt.legend()\n",
    "plt.show()"
   ]
  },
  {
   "cell_type": "code",
   "execution_count": 32,
   "metadata": {},
   "outputs": [
    {
     "data": {
      "text/plain": [
       "[0.9927142857142857, 1.0, 1.0, 1.0, 1.0]"
      ]
     },
     "execution_count": 32,
     "metadata": {},
     "output_type": "execute_result"
    }
   ],
   "source": [
    "training_precisions"
   ]
  },
  {
   "cell_type": "code",
   "execution_count": 33,
   "metadata": {},
   "outputs": [
    {
     "data": {
      "text/plain": [
       "Text(0.5, 1.0, 'Training time VS number of trees')"
      ]
     },
     "execution_count": 33,
     "metadata": {},
     "output_type": "execute_result"
    },
    {
     "data": {
      "image/png": "[encoded data removed]",
      "text/plain": [
       "<Figure size 640x480 with 1 Axes>"
      ]
     },
     "metadata": {},
     "output_type": "display_data"
    }
   ],
   "source": [
    "#On s'intéresse l'impact de l'augmentation du nombre d'arbres sur le temps d'entraînement du modèle\n",
    "\n",
    "plt.plot(n_trees_grid, training_times, color='green')\n",
    "plt.xlabel('Number of trees')\n",
    "plt.ylabel('Training time in seconds')\n",
    "plt.title('Training time VS number of trees')"
   ]
  },
  {
   "cell_type": "markdown",
   "metadata": {},
   "source": [
    "Le premier graphique est une indication d'overfitting du modèle qui sur-performe sur l'ensemble d'entraînement atteignant une précision de 100%. Pour remédier à cela, on peut essayer de réduire la complexité du modèle.\n",
    "\n",
    "Par défaut, \n",
    "- max_depth = None : les noeuds sont développés jusqu'à ce que toutes les feuilles soient pures ou contiennent moins que min_samples_split échantillons. On peut le fixer à des valeurs comme 10 ou 20\n",
    "- min_samples_split = 2 : on peut passer cette valeur à 5 ou 1O."
   ]
  },
  {
   "cell_type": "code",
   "execution_count": 34,
   "metadata": {},
   "outputs": [
    {
     "data": {
      "image/png": "[encoded data removed]",
      "text/plain": [
       "<Figure size 1000x500 with 1 Axes>"
      ]
     },
     "metadata": {},
     "output_type": "display_data"
    }
   ],
   "source": [
    "training_precisions_bis = []\n",
    "test_precisions_bis = []\n",
    "training_times_bis = []\n",
    "\n",
    "for n in n_trees_grid:\n",
    "    rf=RandomForestClassifier(n_estimators=n, max_depth=10, min_samples_split=5 )\n",
    "\n",
    "    start_time=time.time()\n",
    "    rf.fit(X_train, Y_train)\n",
    "    end_time=time.time()\n",
    "\n",
    "    duration = end_time-start_time\n",
    "\n",
    "    training_predictions=rf.predict(X_train)\n",
    "    test_predictions=rf.predict(X_test)\n",
    "\n",
    "    #Comparaison des prédictions aux vraies valeurs\n",
    "    training_precision=accuracy_score(Y_train, training_predictions)\n",
    "    test_precision=accuracy_score(Y_test, test_predictions)\n",
    "\n",
    "    #On ajoute ces résultats aux listes initiales\n",
    "    training_precisions_bis.append(training_precision)\n",
    "    test_precisions_bis.append(test_precision)\n",
    "    training_times_bis.append(duration)\n",
    "\n",
    "plt.figure(figsize=(10, 5))\n",
    "\n",
    "plt.plot(n_trees_grid, training_precisions_bis, label='Training Accuracy')\n",
    "plt.plot(n_trees_grid, test_precisions_bis, label='Test Accuracy')\n",
    "plt.xlabel('Number of trees')\n",
    "plt.ylabel('Accuracy')\n",
    "plt.title('Effect of the number of trees on the accuracy of the model')\n",
    "plt.legend()\n",
    "plt.show()"
   ]
  },
  {
   "cell_type": "code",
   "execution_count": 35,
   "metadata": {},
   "outputs": [
    {
     "data": {
      "image/png": "[encoded data removed]",
      "text/plain": [
       "<Figure size 1000x500 with 1 Axes>"
      ]
     },
     "metadata": {},
     "output_type": "display_data"
    }
   ],
   "source": [
    "training_precisions_bis = []\n",
    "test_precisions_bis = []\n",
    "training_times_bis = []\n",
    "\n",
    "for n in n_trees_grid:\n",
    "    rf=RandomForestClassifier(n_estimators=n, max_depth=20, min_samples_split=5 )\n",
    "\n",
    "    start_time=time.time()\n",
    "    rf.fit(X_train, Y_train)\n",
    "    end_time=time.time()\n",
    "\n",
    "    duration = end_time-start_time\n",
    "\n",
    "    training_predictions=rf.predict(X_train)\n",
    "    test_predictions=rf.predict(X_test)\n",
    "\n",
    "    #Comparaison des prédictions aux vraies valeurs\n",
    "    training_precision=accuracy_score(Y_train, training_predictions)\n",
    "    test_precision=accuracy_score(Y_test, test_predictions)\n",
    "\n",
    "    #On ajoute ces résultats aux listes initiales\n",
    "    training_precisions_bis.append(training_precision)\n",
    "    test_precisions_bis.append(test_precision)\n",
    "    training_times_bis.append(duration)\n",
    "\n",
    "plt.figure(figsize=(10, 5))\n",
    "\n",
    "plt.plot(n_trees_grid, training_precisions_bis, label='Training Accuracy')\n",
    "plt.plot(n_trees_grid, test_precisions_bis, label='Test Accuracy')\n",
    "plt.xlabel('Number of trees')\n",
    "plt.ylabel('Accuracy')\n",
    "plt.title('Effect of the number of trees on the accuracy of the model')\n",
    "plt.legend()\n",
    "plt.show()"
   ]
  },
  {
   "cell_type": "markdown",
   "metadata": {},
   "source": [
    "Ces résultats sont cohérents, nous avons rendu le modèle moins complexe donc il colle moins au données de l'ensemble d'entraînement. Par la même occasion, il perd légèrement en précision sur la base de test.\n",
    "\n",
    "Afin d'améliorer la précision du modèle, on aurait pu augmenter la taille des données puisqu'un jeu de données plus grand bénéficie souvent à des modèles de Random Forest. Par choix, comme le modèle de régression logistique fournit des résultats plu satisfisants et que nous allons tester des réseaux de neurones complexes (LSTMs) dans la suite, nous en restons là pour le modèle de Random Forest."
   ]
  },
  {
   "cell_type": "markdown",
   "metadata": {},
   "source": [
    "# Long Short-Term Memory"
   ]
  },
  {
   "cell_type": "markdown",
   "metadata": {},
   "source": [
    "Les LSTMs requièrent une phase de pré-traitement du texte bien plus importante. Conçus pour travailler avec des séquences de données, ils sont une évolution des Réseaux de Neurones Récurrents (RNN) et permettent notamment d'éviter les problèmes de vanishing gradient. Ils prennent en compte les dépendances séquentielles dans les données, ce qui les rend particulièrement performants pour prédire des séquences de mots ou assimiler des dépendances complexes dans les inputs comme nous pourrons l'exploiter aussi dans la partie de prévision du cours de l'action d'Apple. Ces caractéristiques nécessitent :\n",
    "\n",
    "- la numérisation du texte (tokenisation)\n",
    "- la normalisation des séquences de données de sorte à leur donner une longueur fixe (padding)\n",
    "- l'odre séquentiel des features"
   ]
  },
  {
   "cell_type": "markdown",
   "metadata": {},
   "source": [
    "## Tokenisation "
   ]
  },
  {
   "cell_type": "code",
   "execution_count": null,
   "metadata": {},
   "outputs": [],
   "source": [
    "pip install tensorflow"
   ]
  },
  {
   "cell_type": "code",
   "execution_count": null,
   "metadata": {},
   "outputs": [],
   "source": [
    "from tensorflow.keras.preprocessing.text import Tokenizer\n",
    "from tensorflow.keras.preprocessing.sequence import pad_sequences\n",
    "\n",
    "#On définit le nombre maximal de mot pris en compte ci-dessous. De manière générale, 10000 mots est largement suffisant pour récupérer les mots les plus fréquents d'un langage.\n",
    "#Les autres mots, moins importants (s'il y en a), ne seront pas pris en compte.\n",
    "\n",
    "n_words=10000\n",
    "tokenizer=Tokenizer(num_words=n_words)\n",
    "\n",
    "#On construit désormais le dictionnaire interne à notre travail en se basant sur les 10000 mots considérés.\n",
    "#La méthode fit_on_texts permet ici de donner un indice numérique unique à chacun d'entre eux\n",
    "\n",
    "tokenizer.fit_on_texts(df_imdb['review'])"
   ]
  },
  {
   "cell_type": "markdown",
   "metadata": {},
   "source": [
    "Pour plus de clarté, on peut visualiser le contenu de notre \"dictionnaire\""
   ]
  },
  {
   "cell_type": "code",
   "execution_count": null,
   "metadata": {},
   "outputs": [],
   "source": [
    "#Accédons à chaque mot unique \n",
    "word_index = tokenizer.word_index\n",
    "df=pd.DataFrame({'Mot':word_index.keys()}, index=word_index.values())\n",
    "df[:10]\n",
    "    "
   ]
  },
  {
   "cell_type": "markdown",
   "metadata": {},
   "source": [
    "À chaque token du texte est associé un indice. Affichons les 15 mots les plus fréquents de notre corpus."
   ]
  },
  {
   "cell_type": "code",
   "execution_count": null,
   "metadata": {},
   "outputs": [],
   "source": [
    "word_counts=tokenizer.word_counts\n",
    "sorted_word_counts = sorted(word_counts.items(), key=lambda x: x[1], reverse=True)[:15]\n",
    "\n",
    "list_of_words=[]\n",
    "list_of_frequences=[]\n",
    "for word, frequence in sorted_word_counts:\n",
    "    for i in range(10):\n",
    "        list_of_words.append(word)\n",
    "        list_of_frequences.append(frequence)\n",
    "\n",
    "fig, ax = plt.subplots()\n",
    "ax.bar(list_of_words, list_of_frequences)\n",
    "\n",
    "ax.set_ylabel('Frequences')\n",
    "ax.set_xlabel('Words')\n",
    "ax.set_title('15 most frequent words')\n",
    "\n",
    "    "
   ]
  },
  {
   "cell_type": "markdown",
   "metadata": {},
   "source": [
    "Ce n'est pas une surprise, on retrouve des stopwords."
   ]
  },
  {
   "cell_type": "code",
   "execution_count": null,
   "metadata": {},
   "outputs": [],
   "source": [
    "print(f'Il y a {len(df)} tokens uniques dans notre vocabulaire.')"
   ]
  },
  {
   "cell_type": "markdown",
   "metadata": {},
   "source": [
    "On remarque ici qu'il y a plus de tokens que la limite que nous avions spécifié pour n_words. À l'étape suivante, en appliquant la méthode texts_to_sequences, seuls les mots dont l'indice est inférieur à n_words seront gardés."
   ]
  },
  {
   "cell_type": "code",
   "execution_count": null,
   "metadata": {},
   "outputs": [],
   "source": [
    "sequences = tokenizer.texts_to_sequences(df_imdb['review'])\n",
    "#sequences est une liste de liste : chaque review de IMDB est transformé en liste, à chaque mot on associe l'indice correspondant dans word_index\n",
    "print(df_imdb.iloc[0,0])\n",
    "print(sequences[0])"
   ]
  },
  {
   "cell_type": "markdown",
   "metadata": {},
   "source": [
    "## Padding "
   ]
  },
  {
   "cell_type": "markdown",
   "metadata": {},
   "source": [
    "Comme expliqué précédemment, nous devons fixer une longueur type pour chaque séquence créée afin qu'elles soient toutes de même taille."
   ]
  },
  {
   "cell_type": "code",
   "execution_count": null,
   "metadata": {},
   "outputs": [],
   "source": [
    "#On prend par exemple la longueur de la séquence la plus longue dans la liste de listes \"sequences\"\n",
    "max_len=max(len(sequence) for sequence in sequences)\n",
    "\n",
    "sequence_lengths = [len(seq) for seq in sequences]\n",
    "import seaborn as sns\n",
    "import matplotlib.pyplot as plt\n",
    "\n",
    "sns.histplot(sequence_lengths)\n",
    "plt.xlabel('Length of sequences')\n",
    "plt.ylabel('Number of sequences')\n",
    "plt.title(\"Distribution of the sequences' lenghts\")\n",
    "plt.show()"
   ]
  },
  {
   "cell_type": "code",
   "execution_count": null,
   "metadata": {},
   "outputs": [],
   "source": [
    "#Les séquences de taille plus courte que max_len seront artificiellement rallongées en ajoutant des 0\n",
    "padded_sequences = pad_sequences(sequences, maxlen=max_len)\n",
    "print(padded_sequences[0])"
   ]
  },
  {
   "cell_type": "markdown",
   "metadata": {},
   "source": [
    "## Construction du modèle LSTM"
   ]
  },
  {
   "cell_type": "code",
   "execution_count": null,
   "metadata": {},
   "outputs": [],
   "source": [
    "from tensorflow.keras.models import Sequential\n",
    "from tensorflow.keras.layers import Embedding, LSTM, Dense\n",
    "\n",
    "#On choisit des paramètres initiaux et assez courants. On pourra procéder à une phase de fine-tuning ensuite.\n",
    "\n",
    "dim_embedding=128\n",
    "lstm_units=50\n",
    "\n",
    "#Création du modèle\n",
    "\n",
    "model = Sequential()\n",
    "model.add(Embedding(input_dim=n_words, output_dim=dim_embedding, input_length=max_len)) #Transformation des indices en vecteurs\n",
    "model.add(LSTM(lstm_units)) #Couche LSTM\n",
    "model.add(Dense(1, activation='sigmoid')) #La fonction d'activation sigmoid est classique pour les problèmes de classification\n",
    "\n",
    "#On compile le modèle \n",
    "model.compile(optimizer='adam', loss='binary_crossentropy', metrics=['accuracy'])"
   ]
  },
  {
   "cell_type": "code",
   "execution_count": null,
   "metadata": {},
   "outputs": [],
   "source": [
    "model.summary()"
   ]
  },
  {
   "cell_type": "markdown",
   "metadata": {},
   "source": [
    "Interprétation : \n",
    "- le modèle est assez grand puisqu'il possède 1,3 millions de paramètres.\n",
    "- on a bien 50 unités de LSTMs, ce nombre peut-être amené à changer dans la phase de fine tuning."
   ]
  },
  {
   "cell_type": "markdown",
   "metadata": {},
   "source": [
    "## Entraînement du modèle "
   ]
  },
  {
   "cell_type": "code",
   "execution_count": null,
   "metadata": {},
   "outputs": [],
   "source": [
    "# On convertit la colonne \"sentiment\" de df_imdb en binaire\n",
    "\n",
    "df_imdb['labels']=df_imdb['sentiment'].apply(lambda x : 1 if x=='positive' else 0)"
   ]
  },
  {
   "cell_type": "code",
   "execution_count": null,
   "metadata": {},
   "outputs": [],
   "source": [
    "# On crée les ensembles d'entrainement, de validation et de test\n",
    "\n",
    "from sklearn.model_selection import train_test_split\n",
    "#Création des ensembles d'entraînement et de test\n",
    "X_train, X_test, Y_train, Y_test = train_test_split(padded_sequences, df_imdb['labels'], test_size=0.2, random_state=42)\n",
    "\n",
    "#Division de l'ensemble d'entraînement en ensembles de validation et d'entraînement\n",
    "X_train, X_val, Y_train, Y_val = train_test_split(X_train, Y_train, test_size=0.25, random_state=42) \n",
    "#0.25 x 0.8 = 0.2 (25% de l'ensemble d'entraînement, soit 20% du total, est alloué à la validation)\n",
    "\n",
    "history = model.fit(X_train, Y_train, \n",
    "                    batch_size=32, \n",
    "                    epochs=10, \n",
    "                    validation_data=(X_val, Y_val))\n",
    "test_loss, test_acc = model.evaluate(X_test, Y_test)\n",
    "print('Test Accuracy:', test_acc)"
   ]
  },
  {
   "cell_type": "markdown",
   "metadata": {},
   "source": [
    "On distingue déjà des élements qui nous font penser à de l'overfitting. Traçons l'évolution des performances du modèle au cours de ces 10 epochs."
   ]
  },
  {
   "cell_type": "code",
   "execution_count": null,
   "metadata": {},
   "outputs": [],
   "source": [
    "accuracy = history.history['accuracy']\n",
    "val_accuracy = history.history['val_accuracy']\n",
    "loss = history.history['loss']\n",
    "val_loss = history.history['val_loss']\n",
    "\n",
    "steps=[i for i in range(1,11)]\n",
    "\n",
    "plt.plot(steps, accuracy, label=\"Précision sur l'ensemble d'entraînement\")\n",
    "plt.plot(steps, val_accuracy, label=\"Précision sur l'ensemble de validation\")\n",
    "plt.title(\"Précision sur les ensembles d'entraînement et de validation\")\n",
    "plt.legend()\n",
    "\n",
    "plt.figure()"
   ]
  },
  {
   "cell_type": "code",
   "execution_count": null,
   "metadata": {},
   "outputs": [],
   "source": [
    "plt.plot(steps, loss, label='Training loss')\n",
    "plt.plot(steps, val_loss, label='Validation loss')\n",
    "plt.title('Training and validation losses')\n",
    "plt.legend()\n",
    "plt.show()"
   ]
  },
  {
   "cell_type": "markdown",
   "metadata": {},
   "source": [
    "Avec quelques recherches, on apprend que les meilleures performances réalisées à ce jour sur l'ensemble IMDB est une accuracy de 96,2%. Par ailleurs, et plus simplement, on observe qu'au  bout de 2 epochs, les performances sur l'ensemble d'entraînement se stabilisent et n'augmentent plus. De même au bout de 2 epochs, on constate que les pertes réalisées sur l'ensemble de validation croissent alors que sur l'ensemble d'entraînement on arrive au bout de 10 epochs à une précision aberrante de 0.9876 et une perte de 0.0402 ce qui est bien trop optimiste pour notre modèle.\n",
    "\n",
    "On est donc ici face à un cas d'**overfitting**.\n",
    "\n",
    "Au bout de 2 epochs cependant, on obtient une validation accuracy de presque 90%, ce qui est mieux qu'avec notre régression logistique initiale. Cela est rassurant et nous laisse penser qu'en fine tunant un peu le modèle et en limitant l'overfitting, on pourra obtenir des résultats encore plus satisfaisants."
   ]
  },
  {
   "cell_type": "markdown",
   "metadata": {},
   "source": [
    "## Lutter contre l'overfitting\n",
    "### Technique de dropout "
   ]
  },
  {
   "cell_type": "markdown",
   "metadata": {},
   "source": [
    "**Modèle v2**"
   ]
  },
  {
   "cell_type": "code",
   "execution_count": null,
   "metadata": {},
   "outputs": [],
   "source": [
    "from tensorflow.keras.layers import Dropout, SpatialDropout1D\n",
    "\n",
    "model = Sequential()\n",
    "model.add(Embedding(input_dim=n_words, output_dim=dim_embedding, input_length=max_len)) #Transformation des indices en vecteurs\n",
    "model.add(SpatialDropout1D(0.2))\n",
    "model.add(LSTM(lstm_units)) #Couche LSTM\n",
    "model.add(Dropout(0.5))\n",
    "model.add(Dense(1, activation='sigmoid')) #La fonction d'activation sigmoid est classique pour les problèmes de classification\n",
    "\n",
    "#On compile le modèle \n",
    "model.compile(optimizer='adam', loss='binary_crossentropy', metrics=['accuracy'])"
   ]
  },
  {
   "cell_type": "code",
   "execution_count": null,
   "metadata": {},
   "outputs": [],
   "source": [
    "history_V2 = model.fit(X_train, Y_train, \n",
    "                    batch_size=32, \n",
    "                    epochs=10, \n",
    "                    validation_data=(X_val, Y_val))\n",
    "test_loss_V2, test_acc_V2 = model.evaluate(X_test, Y_test)\n",
    "print('Test Accuracy:', test_acc)"
   ]
  },
  {
   "cell_type": "markdown",
   "metadata": {},
   "source": [
    "Il ne semble pas y avoir de différence significative"
   ]
  },
  {
   "cell_type": "markdown",
   "metadata": {},
   "source": [
    "### Early stopping"
   ]
  },
  {
   "cell_type": "markdown",
   "metadata": {},
   "source": [
    "Le \"early stopping\" est une technique utilisée pour prévenir l'overfitting durant l'entraînement. Dès lors que les performances réalisées sur l'ensemble de validation ne s'améliore plus pendant un certain temps, l'entraînement est arrêté. Cela évite de continuer l'entraînement dans le vide."
   ]
  },
  {
   "cell_type": "code",
   "execution_count": null,
   "metadata": {},
   "outputs": [],
   "source": [
    "from tensorflow.keras.callbacks import EarlyStopping\n",
    "\n",
    "\n",
    "early_stopping=EarlyStopping(monitor='val_accuracy', min_delta=0.01, patience=2, verbose=1)\n",
    "history_V2 = model.fit(X_train, Y_train, \n",
    "                    batch_size=32, \n",
    "                    epochs=10, \n",
    "                    validation_data=(X_val, Y_val),\n",
    "                    callbacks=[early_stopping])\n",
    "test_loss_V2, test_acc_V2 = model.evaluate(X_test, Y_test)\n",
    "print('Test Accuracy:', test_acc)"
   ]
  },
  {
   "cell_type": "code",
   "execution_count": null,
   "metadata": {},
   "outputs": [],
   "source": [
    "accuracy = history_V2.history['accuracy']\n",
    "val_accuracy = history_V2.history['val_accuracy']\n",
    "loss = history_V2.history['loss']\n",
    "val_loss = history_V2.history['val_loss']\n",
    "\n",
    "steps=[i for i in range(1,4)]\n",
    "\n",
    "plt.plot(steps, accuracy, label=\"Précision sur l'ensemble d'entraînement\")\n",
    "plt.plot(steps, val_accuracy, label=\"Précision sur l'ensemble de validation\")\n",
    "plt.title(\"Précision sur les ensembles d'entraînement et de validation\")\n",
    "plt.legend()\n",
    "\n",
    "plt.figure()"
   ]
  },
  {
   "cell_type": "code",
   "execution_count": null,
   "metadata": {},
   "outputs": [],
   "source": [
    "plt.plot(steps, loss, label='Training loss')\n",
    "plt.plot(steps, val_loss, label='Validation loss')\n",
    "plt.title('Training and validation losses')\n",
    "plt.legend()\n",
    "plt.show()"
   ]
  },
  {
   "cell_type": "markdown",
   "metadata": {},
   "source": [
    "### Fine tuning des paramètres"
   ]
  },
  {
   "cell_type": "markdown",
   "metadata": {},
   "source": [
    "Ayant observé de l'overfitting, on va réduire le nombre de couches de LSTM afin d'éviter ce phénomène de surajustement."
   ]
  },
  {
   "cell_type": "code",
   "execution_count": null,
   "metadata": {},
   "outputs": [],
   "source": [
    "dim_embedding=128\n",
    "lstm_units=25\n",
    "\n",
    "model = Sequential()\n",
    "model.add(Embedding(input_dim=n_words, output_dim=dim_embedding, input_length=max_len)) #Transformation des indices en vecteurs\n",
    "model.add(SpatialDropout1D(0.2))\n",
    "model.add(LSTM(lstm_units)) #Couche LSTM\n",
    "model.add(Dropout(0.5))\n",
    "model.add(Dense(1, activation='sigmoid'))\n",
    "\n",
    "model.compile(optimizer='adam', loss='binary_crossentropy', metrics=['accuracy'])"
   ]
  },
  {
   "cell_type": "code",
   "execution_count": null,
   "metadata": {},
   "outputs": [],
   "source": [
    "#early_stopping=EarlyStopping(monitor='val_accuracy', min_delta=0.01, patience=2, verbose=1)\n",
    "history_V4 = model.fit(X_train, Y_train, \n",
    "                    batch_size=32, \n",
    "                    epochs=10, \n",
    "                    validation_data=(X_val, Y_val))\n",
    "test_loss_V4, test_acc_V4 = model.evaluate(X_test, Y_test)\n",
    "print('Test Accuracy:', test_acc)"
   ]
  },
  {
   "cell_type": "code",
   "execution_count": null,
   "metadata": {},
   "outputs": [],
   "source": [
    "accuracy = history_V4.history['accuracy']\n",
    "val_accuracy = history_V4.history['val_accuracy']\n",
    "loss = history_V4.history['loss']\n",
    "val_loss = history_V4.history['val_loss']\n",
    "\n",
    "steps=[i for i in range(1,5)]\n",
    "\n",
    "plt.plot(steps, accuracy, label=\"Précision sur l'ensemble d'entraînement\")\n",
    "plt.plot(steps, val_accuracy, label=\"Précision sur l'ensemble de validation\")\n",
    "plt.title(\"Précision sur les ensembles d'entraînement et de validation\")\n",
    "plt.legend()\n",
    "\n",
    "plt.figure()"
   ]
  },
  {
   "cell_type": "code",
   "execution_count": null,
   "metadata": {},
   "outputs": [],
   "source": [
    "dim_embedding=128\n",
    "lstm_units=100\n",
    "\n",
    "model = Sequential()\n",
    "model.add(Embedding(input_dim=n_words, output_dim=dim_embedding, input_length=max_len)) #Transformation des indices en vecteurs\n",
    "model.add(SpatialDropout1D(0.2))\n",
    "model.add(LSTM(lstm_units)) #Couche LSTM\n",
    "model.add(Dropout(0.5))\n",
    "model.add(Dense(1, activation='sigmoid'))\n",
    "\n",
    "model.compile(optimizer='adam', loss='binary_crossentropy', metrics=['accuracy'])"
   ]
  },
  {
   "cell_type": "code",
   "execution_count": null,
   "metadata": {},
   "outputs": [],
   "source": [
    "early_stopping=EarlyStopping(monitor='val_accuracy', min_delta=0.01, patience=2, verbose=1)\n",
    "history_V3 = model.fit(X_train, Y_train, \n",
    "                    batch_size=32, \n",
    "                    epochs=10, \n",
    "                    validation_data=(X_val, Y_val),\n",
    "                    callbacks=[early_stopping])\n",
    "test_loss_V3, test_acc_V3 = model.evaluate(X_test, Y_test)\n",
    "print('Test Accuracy:', test_acc)"
   ]
  },
  {
   "cell_type": "markdown",
   "metadata": {},
   "source": [
    "### Changement du taux de dropout"
   ]
  }
 ],
 "metadata": {
  "kernelspec": {
   "display_name": "Python 3",
   "language": "python",
   "name": "python3"
  },
  "language_info": {
   "codemirror_mode": {
    "name": "ipython",
    "version": 3
   },
   "file_extension": ".py",
   "mimetype": "text/x-python",
   "name": "python",
   "nbconvert_exporter": "python",
   "pygments_lexer": "ipython3",
   "version": "3.9.6"
  }
 },
 "nbformat": 4,
 "nbformat_minor": 2
}
